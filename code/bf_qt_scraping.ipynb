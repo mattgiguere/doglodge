{
 "cells": [
  {
   "cell_type": "markdown",
   "metadata": {},
   "source": [
    "# bf_qt_scraping\n",
    "\n",
    "This notebook describes how hotel data can be scraped using PyQT."
   ]
  },
  {
   "cell_type": "code",
   "execution_count": 1,
   "metadata": {
    "collapsed": true
   },
   "outputs": [],
   "source": [
    "import sys  \n",
    "from PyQt4.QtGui import *  \n",
    "from PyQt4.QtCore import *  \n",
    "from PyQt4.QtWebKit import *  \n",
    "from lxml import html "
   ]
  },
  {
   "cell_type": "code",
   "execution_count": 2,
   "metadata": {
    "collapsed": true
   },
   "outputs": [],
   "source": [
    "class Render(QWebPage):  \n",
    "  def __init__(self, url):  \n",
    "    self.app = QApplication(sys.argv)  \n",
    "    QWebPage.__init__(self)  \n",
    "    self.loadFinished.connect(self._loadFinished)  \n",
    "    self.mainFrame().load(QUrl(url))  \n",
    "    self.app.exec_()  \n",
    "  \n",
    "  def _loadFinished(self, result):  \n",
    "    self.frame = self.mainFrame()  \n",
    "    self.app.quit() "
   ]
  },
  {
   "cell_type": "code",
   "execution_count": 3,
   "metadata": {
    "collapsed": true
   },
   "outputs": [],
   "source": [
    "url = 'http://www.bringfido.com/lodging/city/new_haven_ct_us'  \n",
    "#This does the magic.Loads everything\n",
    "r = Render(url)  \n",
    "#result is a QString.\n",
    "result = r.frame.toHtml()"
   ]
  },
  {
   "cell_type": "code",
   "execution_count": 65,
   "metadata": {
    "collapsed": false,
    "scrolled": true
   },
   "outputs": [],
   "source": [
    "# result"
   ]
  },
  {
   "cell_type": "code",
   "execution_count": 15,
   "metadata": {
    "collapsed": true
   },
   "outputs": [],
   "source": [
    "#QString should be converted to string before processed by lxml\n",
    "formatted_result = str(result.toAscii())"
   ]
  },
  {
   "cell_type": "code",
   "execution_count": 16,
   "metadata": {
    "collapsed": true
   },
   "outputs": [],
   "source": [
    "#Next build lxml tree from formatted_result\n",
    "tree = html.fromstring(formatted_result)"
   ]
  },
  {
   "cell_type": "code",
   "execution_count": 24,
   "metadata": {
    "collapsed": false
   },
   "outputs": [
    {
     "data": {
      "text/plain": [
       "<bound method HtmlElement.text_content of <Element html at 0x10c181c00>>"
      ]
     },
     "execution_count": 24,
     "metadata": {},
     "output_type": "execute_result"
    }
   ],
   "source": [
    "tree.text_content"
   ]
  },
  {
   "cell_type": "code",
   "execution_count": 19,
   "metadata": {
    "collapsed": false
   },
   "outputs": [
    {
     "name": "stdout",
     "output_type": "stream",
     "text": [
      "[]\n"
     ]
    }
   ],
   "source": [
    "#Now using correct Xpath we are fetching URL of archives\n",
    "archive_links = tree.xpath('//*[@id=\"results_list\"]/div')\n",
    "print archive_links"
   ]
  },
  {
   "cell_type": "code",
   "execution_count": 2,
   "metadata": {
    "collapsed": true
   },
   "outputs": [],
   "source": [
    "url = 'http://pycoders.com/archive/'  \n",
    "r = Render(url)  \n",
    "result = r.frame.toHtml()\n",
    "\n",
    "#QString should be converted to string before processed by lxml\n",
    "formatted_result = str(result.toAscii())\n",
    "\n",
    "tree = html.fromstring(formatted_result)"
   ]
  },
  {
   "cell_type": "code",
   "execution_count": 5,
   "metadata": {
    "collapsed": false,
    "scrolled": true
   },
   "outputs": [],
   "source": [
    "#Now using correct Xpath we are fetching URL of archives\n",
    "archive_links = tree.xpath('//*[@class=\"campaign\"]/a/@href')\n",
    "\n",
    "# for lnk in archive_links:\n",
    "#     print(lnk)"
   ]
  },
  {
   "cell_type": "markdown",
   "metadata": {
    "collapsed": true
   },
   "source": [
    "## Now the Hotels"
   ]
  },
  {
   "cell_type": "code",
   "execution_count": 3,
   "metadata": {
    "collapsed": true
   },
   "outputs": [],
   "source": [
    "url = 'http://www.bringfido.com/lodging/city/new_haven_ct_us'  \n",
    "r = Render(url)  \n",
    "result = r.frame.toHtml()\n",
    "\n",
    "#QString should be converted to string before processed by lxml\n",
    "formatted_result = str(result.toAscii())\n",
    "\n",
    "tree = html.fromstring(formatted_result)"
   ]
  },
  {
   "cell_type": "code",
   "execution_count": 4,
   "metadata": {
    "collapsed": false
   },
   "outputs": [
    {
     "name": "stdout",
     "output_type": "stream",
     "text": [
      "[<Element div at 0x109f796d8>, <Element div at 0x109f79730>, <Element div at 0x109f79788>, <Element div at 0x109f797e0>, <Element div at 0x109f79838>]\n",
      "\n",
      "La Quinta Inn & Suites New HavenNew Haven, CT, USLa Quinta Inn & Suites New Haven is pet friendly! Up to two pets of any size are allowed in each room for no additional fee or deposit.Hotel Overview | Map | Photos | Guest ReviewsLow Rates from$75 (no pet fee)VISIT WEBSITE\n",
      "*************************\n",
      "Omni New Haven Hotel at YaleNew Haven, CT, USOmni New Haven Hotel At Yale welcomes a maximum of two dogs, 25lbs or less, per guest room for an additioanl $50 per stay. Dogs over 25lbs require prior approval from the manager. Please note that ...Hotel Overview | Map | Photos | Guest ReviewsLow Rates from$219 + pet feeCHECK RATES\n",
      "*************************\n",
      "Premiere Hotel & SuitesNew Haven, CT, USPremiere Hotel And Suites allows up to two dogs (50 lbs or less) per guest room for an additional fee of $75 per stay. Larger dogs may be permitted with prior management approval.Hotel Overview | Map | Photos | Guest ReviewsLow Rates from$110 + pet feeCHECK RATES\n",
      "*************************\n",
      "Econo Lodge Conference Center New HavenNew Haven, CT, USEcono Lodge Conference Center welcomes up to two pets, 25lbs or less, in a limited number of pet-friendly rooms, for an additional $10 per pet, per night.Hotel Overview | Map | Photos | Guest ReviewsLow Rates from$56 + pet feeCHECK RATES\n",
      "*************************\n",
      "The Study at YaleNew Haven, CT, USThe Study At Yale allows up to two dogs (50 lbs or less) for an additional fee of $50 per pet per stay.Hotel Overview | Map | Photos | Guest ReviewsLow Rates from$189 + pet feeCHECK RATES\n",
      "*************************\n"
     ]
    }
   ],
   "source": [
    "#Now using correct Xpath we are fetching URL of archives\n",
    "archive_links = tree.xpath('//*[@id=\"results_list\"]/div')\n",
    "\n",
    "print(archive_links)\n",
    "print('')\n",
    "\n",
    "for lnk in archive_links:\n",
    "    print(lnk.text_content())\n",
    "    print('*'*25)\n"
   ]
  },
  {
   "cell_type": "markdown",
   "metadata": {},
   "source": [
    "### Now Get the Links"
   ]
  },
  {
   "cell_type": "code",
   "execution_count": 5,
   "metadata": {
    "collapsed": false
   },
   "outputs": [
    {
     "name": "stdout",
     "output_type": "stream",
     "text": [
      "/lodging/70449/?cid=14745&ar=&dt=&rm=1&ad=1&ch=0&dg=1&rt=75.01\n",
      "*************************\n",
      "/lodging/70451/?cid=14745&ar=&dt=&rm=1&ad=1&ch=0&dg=1&rt=219\n",
      "*************************\n",
      "/lodging/70452/?cid=14745&ar=&dt=&rm=1&ad=1&ch=0&dg=1&rt=109.65\n",
      "*************************\n",
      "/lodging/70447/?cid=14745&ar=&dt=&rm=1&ad=1&ch=0&dg=1&rt=55.95\n",
      "*************************\n",
      "/lodging/106805/?cid=14745&ar=&dt=&rm=1&ad=1&ch=0&dg=1&rt=189\n",
      "*************************\n"
     ]
    }
   ],
   "source": [
    "links = []\n",
    "for lnk in archive_links:\n",
    "    print(lnk.xpath('div/h1/a/@href')[0])\n",
    "    links.append(lnk.xpath('div/h1/a/@href')[0])\n",
    "    print('*'*25)"
   ]
  },
  {
   "cell_type": "code",
   "execution_count": 6,
   "metadata": {
    "collapsed": false
   },
   "outputs": [
    {
     "data": {
      "text/plain": [
       "'/lodging/70449/?cid=14745&ar=&dt=&rm=1&ad=1&ch=0&dg=1&rt=75.01'"
      ]
     },
     "execution_count": 6,
     "metadata": {},
     "output_type": "execute_result"
    }
   ],
   "source": [
    "lnk.xpath('//*/div/h1/a/@href')[0]"
   ]
  },
  {
   "cell_type": "code",
   "execution_count": 7,
   "metadata": {
    "collapsed": false
   },
   "outputs": [
    {
     "data": {
      "text/plain": [
       "['/lodging/70449/?cid=14745&ar=&dt=&rm=1&ad=1&ch=0&dg=1&rt=75.01',\n",
       " '/lodging/70451/?cid=14745&ar=&dt=&rm=1&ad=1&ch=0&dg=1&rt=219',\n",
       " '/lodging/70452/?cid=14745&ar=&dt=&rm=1&ad=1&ch=0&dg=1&rt=109.65',\n",
       " '/lodging/70447/?cid=14745&ar=&dt=&rm=1&ad=1&ch=0&dg=1&rt=55.95',\n",
       " '/lodging/106805/?cid=14745&ar=&dt=&rm=1&ad=1&ch=0&dg=1&rt=189']"
      ]
     },
     "execution_count": 7,
     "metadata": {},
     "output_type": "execute_result"
    }
   ],
   "source": [
    "links"
   ]
  },
  {
   "cell_type": "markdown",
   "metadata": {},
   "source": [
    "## Loading Reviews\n",
    "\n",
    "Next, we want to step through each page, and scrape the reviews for each hotel."
   ]
  },
  {
   "cell_type": "code",
   "execution_count": 10,
   "metadata": {
    "collapsed": true
   },
   "outputs": [],
   "source": [
    "url_base = 'http://www.bringfido.com'  \n",
    "r = Render(url_base+links[0])  \n",
    "result = r.frame.toHtml()\n",
    "\n",
    "#QString should be converted to string before processed by lxml\n",
    "formatted_result = str(result.toAscii())\n",
    "\n",
    "tree = html.fromstring(formatted_result)"
   ]
  },
  {
   "cell_type": "code",
   "execution_count": 60,
   "metadata": {
    "collapsed": false
   },
   "outputs": [
    {
     "name": "stdout",
     "output_type": "stream",
     "text": [
      "[<Element div at 0x10b165730>, <Element div at 0x10b165788>]\n",
      "\n",
      "5\n",
      "3\n"
     ]
    }
   ],
   "source": [
    "hotel_description = tree.xpath('//*[@class=\"body\"]/text()')\n",
    "\n",
    "#Now using correct Xpath we are fetching URL of archives\n",
    "reviews = tree.xpath('//*[@class=\"review_container\"]')\n",
    "\n",
    "texts = []\n",
    "titles = []\n",
    "authors = []\n",
    "ratings = []\n",
    "\n",
    "print(reviews)\n",
    "print('')\n",
    "for rev in reviews:\n",
    "    titles.append(rev.xpath('div/div[1]/text()')[0])\n",
    "    authors.append(rev.xpath('div/div[2]/text()')[0])\n",
    "    texts.append(rev.xpath('div/div[3]/text()')[0])\n",
    "    ratings.append(rev.xpath('div[2]/img/@src')[0].split('/')[-1][0:1])\n",
    "    print(rev.xpath('div[2]/img/@src')[0].split('/')[-1][0:1])\n"
   ]
  },
  {
   "cell_type": "code",
   "execution_count": 61,
   "metadata": {
    "collapsed": false
   },
   "outputs": [
    {
     "data": {
      "text/plain": [
       "['Great value and no pet fee', 'Getting old']"
      ]
     },
     "execution_count": 61,
     "metadata": {},
     "output_type": "execute_result"
    }
   ],
   "source": [
    "titles"
   ]
  },
  {
   "cell_type": "code",
   "execution_count": 62,
   "metadata": {
    "collapsed": false
   },
   "outputs": [
    {
     "data": {
      "text/plain": [
       "['\\nErin\\nin Washington, DC\\n', '\\nLawrence\\nin Pittsfield, MA\\n']"
      ]
     },
     "execution_count": 62,
     "metadata": {},
     "output_type": "execute_result"
    }
   ],
   "source": [
    "authors"
   ]
  },
  {
   "cell_type": "code",
   "execution_count": 63,
   "metadata": {
    "collapsed": false
   },
   "outputs": [
    {
     "data": {
      "text/plain": [
       "['My 75lb dog and I received a lovely welcome from two young gentlemen working at the desk the evening of 8/1/14. Check-in was very easy and even though this hotel is close to the highway and Ikea, there is a big patch of grass/bushes out front for dogs to relieve themselves --I didn\\'t see bags so bring your own. Yes, I agree with review that it is an older place but my room with one queen bed was plenty clean and comfortable. When I travel with my dog, the less fancy the better. :). Also, it made it nice that there was a dog friendly restaurant less than 10 minute drive away...see review for \"Basta\". I definitely feel good about spending just over $100 at this hotel which was just a stop along the way in my travels. Recommend to other dog owners. (P.s. This site says small pets only but that is not up to date. The policy attached on this site shows that they take any size). ',\n",
       " 'I stayed at this La Quinta and felt that it was getting up there in age and a little run down. It was decently clean, although not fully clean. The staff were fairly helpful.']"
      ]
     },
     "execution_count": 63,
     "metadata": {},
     "output_type": "execute_result"
    }
   ],
   "source": [
    "texts"
   ]
  },
  {
   "cell_type": "code",
   "execution_count": 64,
   "metadata": {
    "collapsed": false
   },
   "outputs": [
    {
     "data": {
      "text/plain": [
       "['5', '3']"
      ]
     },
     "execution_count": 64,
     "metadata": {},
     "output_type": "execute_result"
    }
   ],
   "source": [
    "ratings"
   ]
  },
  {
   "cell_type": "code",
   "execution_count": null,
   "metadata": {
    "collapsed": true
   },
   "outputs": [],
   "source": []
  }
 ],
 "metadata": {
  "kernelspec": {
   "display_name": "Python 2",
   "language": "python",
   "name": "python2"
  },
  "language_info": {
   "codemirror_mode": {
    "name": "ipython",
    "version": 2
   },
   "file_extension": ".py",
   "mimetype": "text/x-python",
   "name": "python",
   "nbconvert_exporter": "python",
   "pygments_lexer": "ipython2",
   "version": "2.7.10"
  }
 },
 "nbformat": 4,
 "nbformat_minor": 0
}
