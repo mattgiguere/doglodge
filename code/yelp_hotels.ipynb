{
 "cells": [
  {
   "cell_type": "code",
   "execution_count": 1,
   "metadata": {
    "collapsed": false
   },
   "outputs": [],
   "source": [
    "import jq\n",
    "import json\n",
    "import pandas as pd"
   ]
  },
  {
   "cell_type": "code",
   "execution_count": 2,
   "metadata": {
    "collapsed": false
   },
   "outputs": [],
   "source": [
    "data = []\n",
    "with open('../data/yelp_academic_dataset_business.json') as the_dat:\n",
    "    for line in the_dat:\n",
    "        data.append(json.loads(line))"
   ]
  },
  {
   "cell_type": "code",
   "execution_count": 3,
   "metadata": {
    "collapsed": false
   },
   "outputs": [
    {
     "data": {
      "text/plain": [
       "{u'attributes': {u'By Appointment Only': True},\n",
       " u'business_id': u'vcNAWiLM4dR7D2nwwJ7nCA',\n",
       " u'categories': [u'Doctors', u'Health & Medical'],\n",
       " u'city': u'Phoenix',\n",
       " u'full_address': u'4840 E Indian School Rd\\nSte 101\\nPhoenix, AZ 85018',\n",
       " u'hours': {u'Friday': {u'close': u'17:00', u'open': u'08:00'},\n",
       "  u'Monday': {u'close': u'17:00', u'open': u'08:00'},\n",
       "  u'Thursday': {u'close': u'17:00', u'open': u'08:00'},\n",
       "  u'Tuesday': {u'close': u'17:00', u'open': u'08:00'},\n",
       "  u'Wednesday': {u'close': u'17:00', u'open': u'08:00'}},\n",
       " u'latitude': 33.499313,\n",
       " u'longitude': -111.983758,\n",
       " u'name': u'Eric Goldberg, MD',\n",
       " u'neighborhoods': [],\n",
       " u'open': True,\n",
       " u'review_count': 9,\n",
       " u'stars': 3.5,\n",
       " u'state': u'AZ',\n",
       " u'type': u'business'}"
      ]
     },
     "execution_count": 3,
     "metadata": {},
     "output_type": "execute_result"
    }
   ],
   "source": [
    "data[0]"
   ]
  },
  {
   "cell_type": "code",
   "execution_count": 5,
   "metadata": {
    "collapsed": true
   },
   "outputs": [],
   "source": [
    "test_data = data[0:10]"
   ]
  },
  {
   "cell_type": "code",
   "execution_count": 7,
   "metadata": {
    "collapsed": false
   },
   "outputs": [
    {
     "data": {
      "text/plain": [
       "{u'attributes': {u'By Appointment Only': True},\n",
       " u'business_id': u'vcNAWiLM4dR7D2nwwJ7nCA',\n",
       " u'categories': [u'Doctors', u'Health & Medical'],\n",
       " u'city': u'Phoenix',\n",
       " u'full_address': u'4840 E Indian School Rd\\nSte 101\\nPhoenix, AZ 85018',\n",
       " u'hours': {u'Friday': {u'close': u'17:00', u'open': u'08:00'},\n",
       "  u'Monday': {u'close': u'17:00', u'open': u'08:00'},\n",
       "  u'Thursday': {u'close': u'17:00', u'open': u'08:00'},\n",
       "  u'Tuesday': {u'close': u'17:00', u'open': u'08:00'},\n",
       "  u'Wednesday': {u'close': u'17:00', u'open': u'08:00'}},\n",
       " u'latitude': 33.499313,\n",
       " u'longitude': -111.983758,\n",
       " u'name': u'Eric Goldberg, MD',\n",
       " u'neighborhoods': [],\n",
       " u'open': True,\n",
       " u'review_count': 9,\n",
       " u'stars': 3.5,\n",
       " u'state': u'AZ',\n",
       " u'type': u'business'}"
      ]
     },
     "execution_count": 7,
     "metadata": {},
     "output_type": "execute_result"
    }
   ],
   "source": [
    "test_data[0]"
   ]
  },
  {
   "cell_type": "code",
   "execution_count": 8,
   "metadata": {
    "collapsed": false
   },
   "outputs": [],
   "source": [
    "df = pd.io.json.json_normalize(data)"
   ]
  },
  {
   "cell_type": "code",
   "execution_count": 11,
   "metadata": {
    "collapsed": false
   },
   "outputs": [
    {
     "data": {
      "text/html": [
       "<div style=\"max-height:1000px;max-width:1500px;overflow:auto;\">\n",
       "<table border=\"1\" class=\"dataframe\">\n",
       "  <thead>\n",
       "    <tr style=\"text-align: right;\">\n",
       "      <th></th>\n",
       "      <th>attributes.Accepts Credit Cards</th>\n",
       "      <th>attributes.Accepts Insurance</th>\n",
       "      <th>attributes.Ages Allowed</th>\n",
       "      <th>attributes.Alcohol</th>\n",
       "      <th>attributes.Ambience.casual</th>\n",
       "      <th>attributes.Ambience.classy</th>\n",
       "      <th>attributes.Ambience.divey</th>\n",
       "      <th>attributes.Ambience.hipster</th>\n",
       "      <th>attributes.Ambience.intimate</th>\n",
       "      <th>attributes.Ambience.romantic</th>\n",
       "      <th>...</th>\n",
       "      <th>hours.Wednesday.open</th>\n",
       "      <th>latitude</th>\n",
       "      <th>longitude</th>\n",
       "      <th>name</th>\n",
       "      <th>neighborhoods</th>\n",
       "      <th>open</th>\n",
       "      <th>review_count</th>\n",
       "      <th>stars</th>\n",
       "      <th>state</th>\n",
       "      <th>type</th>\n",
       "    </tr>\n",
       "  </thead>\n",
       "  <tbody>\n",
       "    <tr>\n",
       "      <th>0</th>\n",
       "      <td>NaN</td>\n",
       "      <td>NaN</td>\n",
       "      <td>NaN</td>\n",
       "      <td>NaN</td>\n",
       "      <td>NaN</td>\n",
       "      <td>NaN</td>\n",
       "      <td>NaN</td>\n",
       "      <td>NaN</td>\n",
       "      <td>NaN</td>\n",
       "      <td>NaN</td>\n",
       "      <td>...</td>\n",
       "      <td>08:00</td>\n",
       "      <td>33.499313</td>\n",
       "      <td>-111.983758</td>\n",
       "      <td>Eric Goldberg, MD</td>\n",
       "      <td>[]</td>\n",
       "      <td>True</td>\n",
       "      <td>9</td>\n",
       "      <td>3.5</td>\n",
       "      <td>AZ</td>\n",
       "      <td>business</td>\n",
       "    </tr>\n",
       "    <tr>\n",
       "      <th>1</th>\n",
       "      <td>True</td>\n",
       "      <td>NaN</td>\n",
       "      <td>NaN</td>\n",
       "      <td>NaN</td>\n",
       "      <td>NaN</td>\n",
       "      <td>NaN</td>\n",
       "      <td>NaN</td>\n",
       "      <td>NaN</td>\n",
       "      <td>NaN</td>\n",
       "      <td>NaN</td>\n",
       "      <td>...</td>\n",
       "      <td>NaN</td>\n",
       "      <td>40.350519</td>\n",
       "      <td>-79.886930</td>\n",
       "      <td>Clancy's Pub</td>\n",
       "      <td>[]</td>\n",
       "      <td>True</td>\n",
       "      <td>4</td>\n",
       "      <td>3.5</td>\n",
       "      <td>PA</td>\n",
       "      <td>business</td>\n",
       "    </tr>\n",
       "    <tr>\n",
       "      <th>2</th>\n",
       "      <td>NaN</td>\n",
       "      <td>NaN</td>\n",
       "      <td>NaN</td>\n",
       "      <td>NaN</td>\n",
       "      <td>NaN</td>\n",
       "      <td>NaN</td>\n",
       "      <td>NaN</td>\n",
       "      <td>NaN</td>\n",
       "      <td>NaN</td>\n",
       "      <td>NaN</td>\n",
       "      <td>...</td>\n",
       "      <td>NaN</td>\n",
       "      <td>40.356896</td>\n",
       "      <td>-80.015910</td>\n",
       "      <td>Cool Springs Golf Center</td>\n",
       "      <td>[]</td>\n",
       "      <td>False</td>\n",
       "      <td>5</td>\n",
       "      <td>2.5</td>\n",
       "      <td>PA</td>\n",
       "      <td>business</td>\n",
       "    </tr>\n",
       "  </tbody>\n",
       "</table>\n",
       "<p>3 rows × 105 columns</p>\n",
       "</div>"
      ],
      "text/plain": [
       "  attributes.Accepts Credit Cards attributes.Accepts Insurance  \\\n",
       "0                             NaN                          NaN   \n",
       "1                            True                          NaN   \n",
       "2                             NaN                          NaN   \n",
       "\n",
       "  attributes.Ages Allowed attributes.Alcohol attributes.Ambience.casual  \\\n",
       "0                     NaN                NaN                        NaN   \n",
       "1                     NaN                NaN                        NaN   \n",
       "2                     NaN                NaN                        NaN   \n",
       "\n",
       "  attributes.Ambience.classy attributes.Ambience.divey  \\\n",
       "0                        NaN                       NaN   \n",
       "1                        NaN                       NaN   \n",
       "2                        NaN                       NaN   \n",
       "\n",
       "  attributes.Ambience.hipster attributes.Ambience.intimate  \\\n",
       "0                         NaN                          NaN   \n",
       "1                         NaN                          NaN   \n",
       "2                         NaN                          NaN   \n",
       "\n",
       "  attributes.Ambience.romantic    ...    hours.Wednesday.open   latitude  \\\n",
       "0                          NaN    ...                   08:00  33.499313   \n",
       "1                          NaN    ...                     NaN  40.350519   \n",
       "2                          NaN    ...                     NaN  40.356896   \n",
       "\n",
       "    longitude                      name neighborhoods   open review_count  \\\n",
       "0 -111.983758         Eric Goldberg, MD            []   True            9   \n",
       "1  -79.886930              Clancy's Pub            []   True            4   \n",
       "2  -80.015910  Cool Springs Golf Center            []  False            5   \n",
       "\n",
       "  stars state      type  \n",
       "0   3.5    AZ  business  \n",
       "1   3.5    PA  business  \n",
       "2   2.5    PA  business  \n",
       "\n",
       "[3 rows x 105 columns]"
      ]
     },
     "execution_count": 11,
     "metadata": {},
     "output_type": "execute_result"
    }
   ],
   "source": [
    "df.head(3)"
   ]
  },
  {
   "cell_type": "code",
   "execution_count": 12,
   "metadata": {
    "collapsed": false
   },
   "outputs": [
    {
     "data": {
      "text/plain": [
       "Index([u'attributes.Accepts Credit Cards', u'attributes.Accepts Insurance', u'attributes.Ages Allowed', u'attributes.Alcohol', u'attributes.Ambience.casual', u'attributes.Ambience.classy', u'attributes.Ambience.divey', u'attributes.Ambience.hipster', u'attributes.Ambience.intimate', u'attributes.Ambience.romantic', u'attributes.Ambience.touristy', u'attributes.Ambience.trendy', u'attributes.Ambience.upscale', u'attributes.Attire', u'attributes.BYOB', u'attributes.BYOB/Corkage', u'attributes.By Appointment Only', u'attributes.Caters', u'attributes.Coat Check', u'attributes.Corkage', u'attributes.Delivery', u'attributes.Dietary Restrictions.dairy-free', u'attributes.Dietary Restrictions.gluten-free', u'attributes.Dietary Restrictions.halal', u'attributes.Dietary Restrictions.kosher', u'attributes.Dietary Restrictions.soy-free', u'attributes.Dietary Restrictions.vegan', u'attributes.Dietary Restrictions.vegetarian', u'attributes.Dogs Allowed', u'attributes.Drive-Thru', u'attributes.Good For Dancing', u'attributes.Good For Groups', u'attributes.Good For Kids', u'attributes.Good For.breakfast', u'attributes.Good For.brunch', u'attributes.Good For.dessert', u'attributes.Good For.dinner', u'attributes.Good For.latenight', u'attributes.Good For.lunch', u'attributes.Good for Kids', u'attributes.Hair Types Specialized In.africanamerican', u'attributes.Hair Types Specialized In.asian', u'attributes.Hair Types Specialized In.coloring', u'attributes.Hair Types Specialized In.curly', u'attributes.Hair Types Specialized In.extensions', u'attributes.Hair Types Specialized In.kids', u'attributes.Hair Types Specialized In.perms', u'attributes.Hair Types Specialized In.straightperms', u'attributes.Happy Hour', u'attributes.Has TV', u'attributes.Music.background_music', u'attributes.Music.dj', u'attributes.Music.jukebox', u'attributes.Music.karaoke', u'attributes.Music.live', u'attributes.Music.playlist', u'attributes.Music.video', u'attributes.Noise Level', u'attributes.Open 24 Hours', u'attributes.Order at Counter', u'attributes.Outdoor Seating', u'attributes.Parking.garage', u'attributes.Parking.lot', u'attributes.Parking.street', u'attributes.Parking.valet', u'attributes.Parking.validated', u'attributes.Payment Types.amex', u'attributes.Payment Types.cash_only', u'attributes.Payment Types.discover', u'attributes.Payment Types.mastercard', u'attributes.Payment Types.visa', u'attributes.Price Range', u'attributes.Smoking', u'attributes.Take-out', u'attributes.Takes Reservations', u'attributes.Waiter Service', u'attributes.Wheelchair Accessible', u'attributes.Wi-Fi', u'business_id', u'categories', u'city', u'full_address', u'hours.Friday.close', u'hours.Friday.open', u'hours.Monday.close', u'hours.Monday.open', u'hours.Saturday.close', u'hours.Saturday.open', u'hours.Sunday.close', u'hours.Sunday.open', u'hours.Thursday.close', u'hours.Thursday.open', u'hours.Tuesday.close', u'hours.Tuesday.open', u'hours.Wednesday.close', u'hours.Wednesday.open', u'latitude', u'longitude', u'name', u'neighborhoods', ...], dtype='object')"
      ]
     },
     "execution_count": 12,
     "metadata": {},
     "output_type": "execute_result"
    }
   ],
   "source": [
    "df.columns"
   ]
  },
  {
   "cell_type": "code",
   "execution_count": 19,
   "metadata": {
    "collapsed": false
   },
   "outputs": [
    {
     "data": {
      "text/html": [
       "<div style=\"max-height:1000px;max-width:1500px;overflow:auto;\">\n",
       "<table border=\"1\" class=\"dataframe\">\n",
       "  <thead>\n",
       "    <tr style=\"text-align: right;\">\n",
       "      <th></th>\n",
       "      <th>attributes.Accepts Credit Cards</th>\n",
       "      <th>attributes.Accepts Insurance</th>\n",
       "      <th>attributes.Ages Allowed</th>\n",
       "      <th>attributes.Alcohol</th>\n",
       "      <th>attributes.Ambience.casual</th>\n",
       "      <th>attributes.Ambience.classy</th>\n",
       "      <th>attributes.Ambience.divey</th>\n",
       "      <th>attributes.Ambience.hipster</th>\n",
       "      <th>attributes.Ambience.intimate</th>\n",
       "      <th>attributes.Ambience.romantic</th>\n",
       "      <th>...</th>\n",
       "      <th>hours.Wednesday.open</th>\n",
       "      <th>latitude</th>\n",
       "      <th>longitude</th>\n",
       "      <th>name</th>\n",
       "      <th>neighborhoods</th>\n",
       "      <th>open</th>\n",
       "      <th>review_count</th>\n",
       "      <th>stars</th>\n",
       "      <th>state</th>\n",
       "      <th>type</th>\n",
       "    </tr>\n",
       "  </thead>\n",
       "  <tbody>\n",
       "    <tr>\n",
       "      <th>0</th>\n",
       "      <td>NaN</td>\n",
       "      <td>NaN</td>\n",
       "      <td>NaN</td>\n",
       "      <td>NaN</td>\n",
       "      <td>NaN</td>\n",
       "      <td>NaN</td>\n",
       "      <td>NaN</td>\n",
       "      <td>NaN</td>\n",
       "      <td>NaN</td>\n",
       "      <td>NaN</td>\n",
       "      <td>...</td>\n",
       "      <td>08:00</td>\n",
       "      <td>33.499313</td>\n",
       "      <td>-111.983758</td>\n",
       "      <td>Eric Goldberg, MD</td>\n",
       "      <td>[]</td>\n",
       "      <td>True</td>\n",
       "      <td>9</td>\n",
       "      <td>3.5</td>\n",
       "      <td>AZ</td>\n",
       "      <td>business</td>\n",
       "    </tr>\n",
       "    <tr>\n",
       "      <th>1</th>\n",
       "      <td>True</td>\n",
       "      <td>NaN</td>\n",
       "      <td>NaN</td>\n",
       "      <td>NaN</td>\n",
       "      <td>NaN</td>\n",
       "      <td>NaN</td>\n",
       "      <td>NaN</td>\n",
       "      <td>NaN</td>\n",
       "      <td>NaN</td>\n",
       "      <td>NaN</td>\n",
       "      <td>...</td>\n",
       "      <td>NaN</td>\n",
       "      <td>40.350519</td>\n",
       "      <td>-79.886930</td>\n",
       "      <td>Clancy's Pub</td>\n",
       "      <td>[]</td>\n",
       "      <td>True</td>\n",
       "      <td>4</td>\n",
       "      <td>3.5</td>\n",
       "      <td>PA</td>\n",
       "      <td>business</td>\n",
       "    </tr>\n",
       "    <tr>\n",
       "      <th>2</th>\n",
       "      <td>NaN</td>\n",
       "      <td>NaN</td>\n",
       "      <td>NaN</td>\n",
       "      <td>NaN</td>\n",
       "      <td>NaN</td>\n",
       "      <td>NaN</td>\n",
       "      <td>NaN</td>\n",
       "      <td>NaN</td>\n",
       "      <td>NaN</td>\n",
       "      <td>NaN</td>\n",
       "      <td>...</td>\n",
       "      <td>NaN</td>\n",
       "      <td>40.356896</td>\n",
       "      <td>-80.015910</td>\n",
       "      <td>Cool Springs Golf Center</td>\n",
       "      <td>[]</td>\n",
       "      <td>False</td>\n",
       "      <td>5</td>\n",
       "      <td>2.5</td>\n",
       "      <td>PA</td>\n",
       "      <td>business</td>\n",
       "    </tr>\n",
       "  </tbody>\n",
       "</table>\n",
       "<p>3 rows × 105 columns</p>\n",
       "</div>"
      ],
      "text/plain": [
       "  attributes.Accepts Credit Cards attributes.Accepts Insurance  \\\n",
       "0                             NaN                          NaN   \n",
       "1                            True                          NaN   \n",
       "2                             NaN                          NaN   \n",
       "\n",
       "  attributes.Ages Allowed attributes.Alcohol attributes.Ambience.casual  \\\n",
       "0                     NaN                NaN                        NaN   \n",
       "1                     NaN                NaN                        NaN   \n",
       "2                     NaN                NaN                        NaN   \n",
       "\n",
       "  attributes.Ambience.classy attributes.Ambience.divey  \\\n",
       "0                        NaN                       NaN   \n",
       "1                        NaN                       NaN   \n",
       "2                        NaN                       NaN   \n",
       "\n",
       "  attributes.Ambience.hipster attributes.Ambience.intimate  \\\n",
       "0                         NaN                          NaN   \n",
       "1                         NaN                          NaN   \n",
       "2                         NaN                          NaN   \n",
       "\n",
       "  attributes.Ambience.romantic    ...    hours.Wednesday.open   latitude  \\\n",
       "0                          NaN    ...                   08:00  33.499313   \n",
       "1                          NaN    ...                     NaN  40.350519   \n",
       "2                          NaN    ...                     NaN  40.356896   \n",
       "\n",
       "    longitude                      name neighborhoods   open review_count  \\\n",
       "0 -111.983758         Eric Goldberg, MD            []   True            9   \n",
       "1  -79.886930              Clancy's Pub            []   True            4   \n",
       "2  -80.015910  Cool Springs Golf Center            []  False            5   \n",
       "\n",
       "  stars state      type  \n",
       "0   3.5    AZ  business  \n",
       "1   3.5    PA  business  \n",
       "2   2.5    PA  business  \n",
       "\n",
       "[3 rows x 105 columns]"
      ]
     },
     "execution_count": 19,
     "metadata": {},
     "output_type": "execute_result"
    }
   ],
   "source": [
    "df.head(3)"
   ]
  },
  {
   "cell_type": "code",
   "execution_count": 22,
   "metadata": {
    "collapsed": false
   },
   "outputs": [
    {
     "data": {
      "text/plain": [
       "0       [Doctors, Health & Medical]\n",
       "1                       [Nightlife]\n",
       "2    [Active Life, Mini Golf, Golf]\n",
       "Name: categories, dtype: object"
      ]
     },
     "execution_count": 22,
     "metadata": {},
     "output_type": "execute_result"
    }
   ],
   "source": [
    "df['categories'].head(3)"
   ]
  },
  {
   "cell_type": "code",
   "execution_count": 70,
   "metadata": {
    "collapsed": true
   },
   "outputs": [],
   "source": [
    "def get_hotels(cats):\n",
    "    #return 'Hotel' in cats\n",
    "    if True in [True for s in cats if 'Hotel' in s]:\n",
    "        return True\n",
    "    else:\n",
    "        return False"
   ]
  },
  {
   "cell_type": "code",
   "execution_count": 71,
   "metadata": {
    "collapsed": true
   },
   "outputs": [],
   "source": [
    "cats = ['Hotels', 'Travel & Shit', 'Fucker', 'Hotel & Travel']"
   ]
  },
  {
   "cell_type": "code",
   "execution_count": 72,
   "metadata": {
    "collapsed": false
   },
   "outputs": [
    {
     "data": {
      "text/plain": [
       "True"
      ]
     },
     "execution_count": 72,
     "metadata": {},
     "output_type": "execute_result"
    }
   ],
   "source": [
    "get_hotels(cats)"
   ]
  },
  {
   "cell_type": "code",
   "execution_count": 73,
   "metadata": {
    "collapsed": false
   },
   "outputs": [
    {
     "data": {
      "text/plain": [
       "False"
      ]
     },
     "execution_count": 73,
     "metadata": {},
     "output_type": "execute_result"
    }
   ],
   "source": [
    "cats2 = ['Travel', 'Fucker']\n",
    "get_hotels(cats2)"
   ]
  },
  {
   "cell_type": "code",
   "execution_count": 74,
   "metadata": {
    "collapsed": false
   },
   "outputs": [],
   "source": [
    "hoteldf = df[df['categories'].apply(get_hotels)]"
   ]
  },
  {
   "cell_type": "code",
   "execution_count": 75,
   "metadata": {
    "collapsed": false
   },
   "outputs": [
    {
     "data": {
      "text/plain": [
       "14       [Hotels & Travel, Event Planning & Services, H...\n",
       "43       [Hotels & Travel, Airport Shuttles, Limos, Tra...\n",
       "80       [Hotels & Travel, Event Planning & Services, H...\n",
       "121                     [Hotels & Travel, Travel Services]\n",
       "169      [Hotels & Travel, Bed & Breakfast, Event Plann...\n",
       "225      [Hotels & Travel, Event Planning & Services, H...\n",
       "286                               [Hotels & Travel, Tours]\n",
       "292      [Hotels & Travel, Event Planning & Services, H...\n",
       "295      [Hotels & Travel, Event Planning & Services, V...\n",
       "296      [Hotels & Travel, Event Planning & Services, H...\n",
       "310      [Hotels & Travel, Public Transportation, Trans...\n",
       "314                          [Hotels & Travel, Car Rental]\n",
       "340      [Hotels & Travel, Airport Shuttles, Limos, Tra...\n",
       "381      [Hotels & Travel, Event Planning & Services, H...\n",
       "396                      [Train Stations, Hotels & Travel]\n",
       "411      [Hotels & Travel, Event Planning & Services, H...\n",
       "414      [Hotels & Travel, Event Planning & Services, H...\n",
       "457      [Hotels & Travel, Event Planning & Services, H...\n",
       "524      [Hotels & Travel, Event Planning & Services, V...\n",
       "535      [Food, Tea Rooms, Breakfast & Brunch, Bed & Br...\n",
       "562      [Food, Tea Rooms, Bed & Breakfast, Event Plann...\n",
       "615      [Hotels & Travel, Event Planning & Services, H...\n",
       "652      [Hotels & Travel, Event Planning & Services, H...\n",
       "654      [Hotels & Travel, Event Planning & Services, V...\n",
       "660      [Hotels & Travel, Event Planning & Services, H...\n",
       "667      [Hotels & Travel, Event Planning & Services, H...\n",
       "711      [Hotels & Travel, Event Planning & Services, H...\n",
       "716      [Hotels & Travel, Event Planning & Services, H...\n",
       "728      [Hotels & Travel, Event Planning & Services, H...\n",
       "729      [Hotels & Travel, Event Planning & Services, H...\n",
       "                               ...                        \n",
       "59699    [Hotels & Travel, Event Planning & Services, H...\n",
       "59732    [Hotels & Travel, Taxis, Automotive, Transport...\n",
       "59733             [Hotels & Travel, Limos, Transportation]\n",
       "59763                   [Hotels & Travel, Travel Services]\n",
       "59800    [Tours, Party Bus Rentals, Event Planning & Se...\n",
       "59805    [Hotels & Travel, Transportation, Airport Shut...\n",
       "59808                             [Hotels & Travel, Tours]\n",
       "59817                        [Hotels & Travel, Car Rental]\n",
       "59818                        [Hotels & Travel, Car Rental]\n",
       "59886    [Hotels & Travel, Event Planning & Services, H...\n",
       "59894    [Hotels & Travel, Event Planning & Services, H...\n",
       "59991                   [Hotels & Travel, Bed & Breakfast]\n",
       "60001          [Hotels & Travel, Airlines, Transportation]\n",
       "60013    [Hotels & Travel, Event Planning & Services, H...\n",
       "60128                             [Hotels & Travel, Tours]\n",
       "60216    [Hotels & Travel, Taxis, Limos, Transportation...\n",
       "60227                        [Hotels & Travel, Car Rental]\n",
       "60241    [Hotels & Travel, Event Planning & Services, H...\n",
       "60243                             [Hotels & Travel, Tours]\n",
       "60494                   [Hotels & Travel, Travel Services]\n",
       "60501    [Hotels & Travel, Event Planning & Services, H...\n",
       "60592    [Hotels & Travel, Arts & Entertainment, Casino...\n",
       "60649    [Hotels & Travel, Event Planning & Services, H...\n",
       "60714                        [Hotels & Travel, Car Rental]\n",
       "60813    [Hotels & Travel, Event Planning & Services, H...\n",
       "60846    [Arts & Entertainment, Resorts, Casinos, Event...\n",
       "60920    [Hotels & Travel, Event Planning & Services, H...\n",
       "60955    [Hotels & Travel, Event Planning & Services, V...\n",
       "61086             [Hotels & Travel, Taxis, Transportation]\n",
       "61137    [Hotels & Travel, Event Planning & Services, H...\n",
       "Name: categories, dtype: object"
      ]
     },
     "execution_count": 75,
     "metadata": {},
     "output_type": "execute_result"
    }
   ],
   "source": [
    "hoteldf['categories']"
   ]
  },
  {
   "cell_type": "code",
   "execution_count": 76,
   "metadata": {
    "collapsed": false
   },
   "outputs": [],
   "source": [
    "hoteldf.reset_index(inplace=True)"
   ]
  },
  {
   "cell_type": "code",
   "execution_count": 86,
   "metadata": {
    "collapsed": false
   },
   "outputs": [
    {
     "name": "stdout",
     "output_type": "stream",
     "text": [
      "index\n",
      "attributes.Accepts Credit Cards\n",
      "attributes.Accepts Insurance\n",
      "attributes.Ages Allowed\n",
      "attributes.Alcohol\n",
      "attributes.Ambience.casual\n",
      "attributes.Ambience.classy\n",
      "attributes.Ambience.divey\n",
      "attributes.Ambience.hipster\n",
      "attributes.Ambience.intimate\n",
      "attributes.Ambience.romantic\n",
      "attributes.Ambience.touristy\n",
      "attributes.Ambience.trendy\n",
      "attributes.Ambience.upscale\n",
      "attributes.Attire\n",
      "attributes.BYOB\n",
      "attributes.BYOB/Corkage\n",
      "attributes.By Appointment Only\n",
      "attributes.Caters\n",
      "attributes.Coat Check\n",
      "attributes.Corkage\n",
      "attributes.Delivery\n",
      "attributes.Dietary Restrictions.dairy-free\n",
      "attributes.Dietary Restrictions.gluten-free\n",
      "attributes.Dietary Restrictions.halal\n",
      "attributes.Dietary Restrictions.kosher\n",
      "attributes.Dietary Restrictions.soy-free\n",
      "attributes.Dietary Restrictions.vegan\n",
      "attributes.Dietary Restrictions.vegetarian\n",
      "attributes.Dogs Allowed\n",
      "attributes.Drive-Thru\n",
      "attributes.Good For Dancing\n",
      "attributes.Good For Groups\n",
      "attributes.Good For Kids\n",
      "attributes.Good For.breakfast\n",
      "attributes.Good For.brunch\n",
      "attributes.Good For.dessert\n",
      "attributes.Good For.dinner\n",
      "attributes.Good For.latenight\n",
      "attributes.Good For.lunch\n",
      "attributes.Good for Kids\n",
      "attributes.Hair Types Specialized In.africanamerican\n",
      "attributes.Hair Types Specialized In.asian\n",
      "attributes.Hair Types Specialized In.coloring\n",
      "attributes.Hair Types Specialized In.curly\n",
      "attributes.Hair Types Specialized In.extensions\n",
      "attributes.Hair Types Specialized In.kids\n",
      "attributes.Hair Types Specialized In.perms\n",
      "attributes.Hair Types Specialized In.straightperms\n",
      "attributes.Happy Hour\n",
      "attributes.Has TV\n",
      "attributes.Music.background_music\n",
      "attributes.Music.dj\n",
      "attributes.Music.jukebox\n",
      "attributes.Music.karaoke\n",
      "attributes.Music.live\n",
      "attributes.Music.playlist\n",
      "attributes.Music.video\n",
      "attributes.Noise Level\n",
      "attributes.Open 24 Hours\n",
      "attributes.Order at Counter\n",
      "attributes.Outdoor Seating\n",
      "attributes.Parking.garage\n",
      "attributes.Parking.lot\n",
      "attributes.Parking.street\n",
      "attributes.Parking.valet\n",
      "attributes.Parking.validated\n",
      "attributes.Payment Types.amex\n",
      "attributes.Payment Types.cash_only\n",
      "attributes.Payment Types.discover\n",
      "attributes.Payment Types.mastercard\n",
      "attributes.Payment Types.visa\n",
      "attributes.Price Range\n",
      "attributes.Smoking\n",
      "attributes.Take-out\n",
      "attributes.Takes Reservations\n",
      "attributes.Waiter Service\n",
      "attributes.Wheelchair Accessible\n",
      "attributes.Wi-Fi\n",
      "business_id\n",
      "categories\n",
      "city\n",
      "full_address\n",
      "hours.Friday.close\n",
      "hours.Friday.open\n",
      "hours.Monday.close\n",
      "hours.Monday.open\n",
      "hours.Saturday.close\n",
      "hours.Saturday.open\n",
      "hours.Sunday.close\n",
      "hours.Sunday.open\n",
      "hours.Thursday.close\n",
      "hours.Thursday.open\n",
      "hours.Tuesday.close\n",
      "hours.Tuesday.open\n",
      "hours.Wednesday.close\n",
      "hours.Wednesday.open\n",
      "latitude\n",
      "longitude\n",
      "name\n",
      "neighborhoods\n",
      "open\n",
      "review_count\n",
      "stars\n",
      "state\n",
      "type\n"
     ]
    }
   ],
   "source": [
    "for col in hoteldf.columns:\n",
    "    print(col)"
   ]
  },
  {
   "cell_type": "code",
   "execution_count": 78,
   "metadata": {
    "collapsed": false
   },
   "outputs": [
    {
     "data": {
      "text/plain": [
       "2131"
      ]
     },
     "execution_count": 78,
     "metadata": {},
     "output_type": "execute_result"
    }
   ],
   "source": [
    "len(hoteldf)"
   ]
  },
  {
   "cell_type": "code",
   "execution_count": 84,
   "metadata": {
    "collapsed": false
   },
   "outputs": [],
   "source": [
    "doghotelsbig = hoteldf[hoteldf['attributes.Dogs Allowed'] == True]"
   ]
  },
  {
   "cell_type": "code",
   "execution_count": 87,
   "metadata": {
    "collapsed": true
   },
   "outputs": [],
   "source": [
    "good_cats = [\n",
    "    'name',\n",
    "    'stars',\n",
    "    'city',\n",
    "    'state',\n",
    "    'latitude',\n",
    "    'longitude',\n",
    "    'review_count',\n",
    "    'full_address',\n",
    "    'business_id',\n",
    "    'attributes.Dogs Allowed']"
   ]
  },
  {
   "cell_type": "code",
   "execution_count": 115,
   "metadata": {
    "collapsed": true
   },
   "outputs": [],
   "source": [
    "doghotels = doghotelsbig[good_cats].copy()"
   ]
  },
  {
   "cell_type": "code",
   "execution_count": 116,
   "metadata": {
    "collapsed": false
   },
   "outputs": [],
   "source": [
    "doghotels['hotel_id'] = 0"
   ]
  },
  {
   "cell_type": "code",
   "execution_count": 117,
   "metadata": {
    "collapsed": false
   },
   "outputs": [
    {
     "data": {
      "text/plain": [
       "Index([u'name', u'stars', u'city', u'state', u'latitude', u'longitude', u'review_count', u'full_address', u'business_id', u'attributes.Dogs Allowed', u'hotel_id'], dtype='object')"
      ]
     },
     "execution_count": 117,
     "metadata": {},
     "output_type": "execute_result"
    }
   ],
   "source": [
    "doghotels.columns"
   ]
  },
  {
   "cell_type": "code",
   "execution_count": 118,
   "metadata": {
    "collapsed": false
   },
   "outputs": [
    {
     "data": {
      "text/plain": [
       "128"
      ]
     },
     "execution_count": 118,
     "metadata": {},
     "output_type": "execute_result"
    }
   ],
   "source": [
    "len(doghotels)"
   ]
  },
  {
   "cell_type": "code",
   "execution_count": 119,
   "metadata": {
    "collapsed": true
   },
   "outputs": [],
   "source": [
    "doghotels.columns = ['hotel_name',\n",
    "                     'hotel_rating',\n",
    "                     'hotel_city',\n",
    "                     'hotel_state',\n",
    "                     'hotel_latitude',\n",
    "                     'hotel_longitude',\n",
    "                     'review_count',\n",
    "                     'hotel_address',\n",
    "                     'business_id',\n",
    "                     'dogs_allowed',\n",
    "                     'hotel_id']\n",
    "                     "
   ]
  },
  {
   "cell_type": "markdown",
   "metadata": {},
   "source": [
    "## Now write to SQL"
   ]
  },
  {
   "cell_type": "code",
   "execution_count": 100,
   "metadata": {
    "collapsed": true
   },
   "outputs": [],
   "source": [
    "import connect_aws_db as cadb"
   ]
  },
  {
   "cell_type": "code",
   "execution_count": 103,
   "metadata": {
    "collapsed": true
   },
   "outputs": [],
   "source": [
    "import sqlalchemy"
   ]
  },
  {
   "cell_type": "code",
   "execution_count": 101,
   "metadata": {
    "collapsed": true
   },
   "outputs": [],
   "source": [
    "engine = cadb.connect_aws_db()"
   ]
  },
  {
   "cell_type": "code",
   "execution_count": 104,
   "metadata": {
    "collapsed": true
   },
   "outputs": [],
   "source": [
    "conn = engine.connect()"
   ]
  },
  {
   "cell_type": "code",
   "execution_count": 125,
   "metadata": {
    "collapsed": true
   },
   "outputs": [],
   "source": [
    "cmd = \"DROP TABLE yelp_hotels\""
   ]
  },
  {
   "cell_type": "code",
   "execution_count": 126,
   "metadata": {
    "collapsed": true
   },
   "outputs": [],
   "source": [
    "result = conn.execute(cmd)"
   ]
  },
  {
   "cell_type": "code",
   "execution_count": 127,
   "metadata": {
    "collapsed": true
   },
   "outputs": [],
   "source": [
    "cmd = \"\"\"\n",
    "        CREATE TABLE yelp_hotels\n",
    "        (\n",
    "        hotel_id MEDIUMINT AUTO_INCREMENT,\n",
    "        hotel_name VARCHAR(256),\n",
    "        hotel_rating FLOAT,\n",
    "        hotel_city VARCHAR(256),\n",
    "        hotel_state VARCHAR(64),\n",
    "        hotel_latitude FLOAT,\n",
    "        hotel_longitude FLOAT,\n",
    "        review_count INT,\n",
    "        hotel_address VARCHAR(512),\n",
    "        business_id VARCHAR(256),\n",
    "        dogs_allowed BINARY,\n",
    "        PRIMARY KEY (hotel_id)\n",
    "        )\n",
    "        \"\"\"\n",
    "        "
   ]
  },
  {
   "cell_type": "code",
   "execution_count": 128,
   "metadata": {
    "collapsed": true
   },
   "outputs": [],
   "source": [
    "result = conn.execute(cmd)"
   ]
  },
  {
   "cell_type": "code",
   "execution_count": 129,
   "metadata": {
    "collapsed": false
   },
   "outputs": [],
   "source": [
    "doghotels.to_sql('yelp_hotels', engine, if_exists='append', index=False)"
   ]
  },
  {
   "cell_type": "code",
   "execution_count": null,
   "metadata": {
    "collapsed": true
   },
   "outputs": [],
   "source": []
  }
 ],
 "metadata": {
  "kernelspec": {
   "display_name": "Python 2",
   "language": "python",
   "name": "python2"
  },
  "language_info": {
   "codemirror_mode": {
    "name": "ipython",
    "version": 2
   },
   "file_extension": ".py",
   "mimetype": "text/x-python",
   "name": "python",
   "nbconvert_exporter": "python",
   "pygments_lexer": "ipython2",
   "version": "2.7.10"
  }
 },
 "nbformat": 4,
 "nbformat_minor": 0
}
