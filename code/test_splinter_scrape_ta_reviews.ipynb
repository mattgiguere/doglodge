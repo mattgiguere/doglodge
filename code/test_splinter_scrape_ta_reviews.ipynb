{
 "cells": [
  {
   "cell_type": "markdown",
   "metadata": {},
   "source": [
    "# test_splinter_scrape_ta_reviews"
   ]
  },
  {
   "cell_type": "code",
   "execution_count": 1,
   "metadata": {
    "collapsed": true
   },
   "outputs": [],
   "source": [
    "from splinter.browser import Browser\n",
    "import connect_aws_db as cadb\n",
    "from splinter_scrape_ta_reviews import get_hotel_urls\n",
    "from splinter_scrape_ta_reviews import scrape_hotel"
   ]
  },
  {
   "cell_type": "code",
   "execution_count": 2,
   "metadata": {
    "collapsed": false
   },
   "outputs": [],
   "source": [
    "%load_ext autoreload"
   ]
  },
  {
   "cell_type": "code",
   "execution_count": 3,
   "metadata": {
    "collapsed": true
   },
   "outputs": [],
   "source": [
    "%autoreload 2"
   ]
  },
  {
   "cell_type": "code",
   "execution_count": 4,
   "metadata": {
    "collapsed": true
   },
   "outputs": [],
   "source": [
    "import sys  \n",
    "reload(sys)  \n",
    "sys.setdefaultencoding('utf8')"
   ]
  },
  {
   "cell_type": "code",
   "execution_count": 5,
   "metadata": {
    "collapsed": true
   },
   "outputs": [],
   "source": [
    "city = 'new_haven'\n",
    "state = 'ct'"
   ]
  },
  {
   "cell_type": "code",
   "execution_count": 6,
   "metadata": {
    "collapsed": true
   },
   "outputs": [],
   "source": [
    "engine = cadb.connect_aws_db(write_unicode=True)"
   ]
  },
  {
   "cell_type": "code",
   "execution_count": 11,
   "metadata": {
    "collapsed": false
   },
   "outputs": [],
   "source": [
    "blinks = get_hotel_urls(city, state, engine)"
   ]
  },
  {
   "cell_type": "code",
   "execution_count": 8,
   "metadata": {
    "collapsed": false
   },
   "outputs": [],
   "source": [
    "br = Browser()"
   ]
  },
  {
   "cell_type": "code",
   "execution_count": 13,
   "metadata": {
    "collapsed": false
   },
   "outputs": [],
   "source": [
    "for hotel_id, biz_id, link in blinks:\n",
    "    print(hotel_id, biz_id, link)"
   ]
  },
  {
   "cell_type": "code",
   "execution_count": 14,
   "metadata": {
    "collapsed": false
   },
   "outputs": [
    {
     "data": {
      "text/plain": [
       "u'http://www.tripadvisor.com/Hotel_Review-g33851-d1217689-Reviews-The_Study_at_Yale-New_Haven_Connecticut.html'"
      ]
     },
     "execution_count": 14,
     "metadata": {},
     "output_type": "execute_result"
    }
   ],
   "source": [
    "blinks[0][1]"
   ]
  },
  {
   "cell_type": "code",
   "execution_count": 24,
   "metadata": {
    "collapsed": false,
    "scrolled": true
   },
   "outputs": [],
   "source": [
    "bigdf = scrape_hotel(blinks[0][1], br, engine)"
   ]
  },
  {
   "cell_type": "code",
   "execution_count": 25,
   "metadata": {
    "collapsed": false
   },
   "outputs": [
    {
     "data": {
      "text/plain": [
       "568"
      ]
     },
     "execution_count": 25,
     "metadata": {},
     "output_type": "execute_result"
    }
   ],
   "source": [
    "len(bigdf)"
   ]
  },
  {
   "cell_type": "code",
   "execution_count": 31,
   "metadata": {
    "collapsed": true
   },
   "outputs": [],
   "source": [
    "bigdf['business_id'] = blinks[0][0]"
   ]
  },
  {
   "cell_type": "code",
   "execution_count": 32,
   "metadata": {
    "collapsed": true
   },
   "outputs": [],
   "source": [
    "# drop the hotel_name column (this column does not exist in future versions):\n",
    "bigdf.drop('hotel_name', axis=1, inplace=True)"
   ]
  },
  {
   "cell_type": "code",
   "execution_count": 34,
   "metadata": {
    "collapsed": false,
    "scrolled": true
   },
   "outputs": [],
   "source": [
    "bigdf.to_sql('ta_reviews', engine, if_exists='append', index=False)"
   ]
  },
  {
   "cell_type": "code",
   "execution_count": 30,
   "metadata": {
    "collapsed": false
   },
   "outputs": [
    {
     "data": {
      "text/html": [
       "<div style=\"max-height:1000px;max-width:1500px;overflow:auto;\">\n",
       "<table border=\"1\" class=\"dataframe\">\n",
       "  <thead>\n",
       "    <tr style=\"text-align: right;\">\n",
       "      <th></th>\n",
       "      <th>review_id</th>\n",
       "      <th>hotel_id</th>\n",
       "      <th>hotel_name</th>\n",
       "      <th>business_id</th>\n",
       "      <th>biz_review_id</th>\n",
       "      <th>biz_member_id</th>\n",
       "      <th>username</th>\n",
       "      <th>review_title</th>\n",
       "      <th>review_rating</th>\n",
       "      <th>review_text</th>\n",
       "      <th>review_date</th>\n",
       "    </tr>\n",
       "  </thead>\n",
       "  <tbody>\n",
       "    <tr>\n",
       "      <th>0</th>\n",
       "      <td>NaN</td>\n",
       "      <td>NaN</td>\n",
       "      <td>NaN</td>\n",
       "      <td>NaN</td>\n",
       "      <td>310458194</td>\n",
       "      <td>87C5888145EC92BDB0F72C18EB08CAEB</td>\n",
       "      <td>PhilipNewJersey</td>\n",
       "      <td>Excellent property</td>\n",
       "      <td>5</td>\n",
       "      <td>Right down the street from the Yale campus and...</td>\n",
       "      <td>September 15, 2015</td>\n",
       "    </tr>\n",
       "    <tr>\n",
       "      <th>1</th>\n",
       "      <td>NaN</td>\n",
       "      <td>NaN</td>\n",
       "      <td>NaN</td>\n",
       "      <td>NaN</td>\n",
       "      <td>309709618</td>\n",
       "      <td>373F7ED4C06E86BE735B38FE3C5FBAE8</td>\n",
       "      <td>Gloria J</td>\n",
       "      <td>Best Place to Stay at New Haven</td>\n",
       "      <td>4</td>\n",
       "      <td>We've stayed at a few places at New Haven, and...</td>\n",
       "      <td>September 13, 2015</td>\n",
       "    </tr>\n",
       "    <tr>\n",
       "      <th>2</th>\n",
       "      <td>NaN</td>\n",
       "      <td>NaN</td>\n",
       "      <td>NaN</td>\n",
       "      <td>NaN</td>\n",
       "      <td>308615033</td>\n",
       "      <td>3846E72EAB7732919C9B65F05D9CBBE1</td>\n",
       "      <td>ILphotomom</td>\n",
       "      <td>really enjoyed my stay</td>\n",
       "      <td>5</td>\n",
       "      <td>I was visiting New Haven for work and had the ...</td>\n",
       "      <td>September 9, 2015</td>\n",
       "    </tr>\n",
       "    <tr>\n",
       "      <th>3</th>\n",
       "      <td>NaN</td>\n",
       "      <td>NaN</td>\n",
       "      <td>NaN</td>\n",
       "      <td>NaN</td>\n",
       "      <td>306265572</td>\n",
       "      <td>8868FE2D7F3A2A3E6CBDD949C6B99520</td>\n",
       "      <td>donaldk184</td>\n",
       "      <td>The Study Rocks!</td>\n",
       "      <td>5</td>\n",
       "      <td>The best place to stay in New Haven. Great roo...</td>\n",
       "      <td>September 2, 2015</td>\n",
       "    </tr>\n",
       "    <tr>\n",
       "      <th>4</th>\n",
       "      <td>NaN</td>\n",
       "      <td>NaN</td>\n",
       "      <td>NaN</td>\n",
       "      <td>NaN</td>\n",
       "      <td>305217155</td>\n",
       "      <td>10182DEB7032B071483618C256BD0261</td>\n",
       "      <td>jksingapore</td>\n",
       "      <td>Truly wonderful hotel!</td>\n",
       "      <td>5</td>\n",
       "      <td>We had a fabulous experience staying at the St...</td>\n",
       "      <td>August 31, 2015</td>\n",
       "    </tr>\n",
       "  </tbody>\n",
       "</table>\n",
       "</div>"
      ],
      "text/plain": [
       "  review_id hotel_id hotel_name business_id biz_review_id  \\\n",
       "0       NaN      NaN        NaN         NaN     310458194   \n",
       "1       NaN      NaN        NaN         NaN     309709618   \n",
       "2       NaN      NaN        NaN         NaN     308615033   \n",
       "3       NaN      NaN        NaN         NaN     306265572   \n",
       "4       NaN      NaN        NaN         NaN     305217155   \n",
       "\n",
       "                      biz_member_id         username  \\\n",
       "0  87C5888145EC92BDB0F72C18EB08CAEB  PhilipNewJersey   \n",
       "1  373F7ED4C06E86BE735B38FE3C5FBAE8         Gloria J   \n",
       "2  3846E72EAB7732919C9B65F05D9CBBE1       ILphotomom   \n",
       "3  8868FE2D7F3A2A3E6CBDD949C6B99520       donaldk184   \n",
       "4  10182DEB7032B071483618C256BD0261      jksingapore   \n",
       "\n",
       "                      review_title review_rating  \\\n",
       "0               Excellent property             5   \n",
       "1  Best Place to Stay at New Haven             4   \n",
       "2           really enjoyed my stay             5   \n",
       "3                 The Study Rocks!             5   \n",
       "4           Truly wonderful hotel!             5   \n",
       "\n",
       "                                         review_text         review_date  \n",
       "0  Right down the street from the Yale campus and...  September 15, 2015  \n",
       "1  We've stayed at a few places at New Haven, and...  September 13, 2015  \n",
       "2  I was visiting New Haven for work and had the ...   September 9, 2015  \n",
       "3  The best place to stay in New Haven. Great roo...   September 2, 2015  \n",
       "4  We had a fabulous experience staying at the St...     August 31, 2015  "
      ]
     },
     "execution_count": 30,
     "metadata": {},
     "output_type": "execute_result"
    }
   ],
   "source": [
    "bigdf.head(5)"
   ]
  },
  {
   "cell_type": "code",
   "execution_count": null,
   "metadata": {
    "collapsed": true
   },
   "outputs": [],
   "source": []
  }
 ],
 "metadata": {
  "kernelspec": {
   "display_name": "Python 2",
   "language": "python",
   "name": "python2"
  },
  "language_info": {
   "codemirror_mode": {
    "name": "ipython",
    "version": 2
   },
   "file_extension": ".py",
   "mimetype": "text/x-python",
   "name": "python",
   "nbconvert_exporter": "python",
   "pygments_lexer": "ipython2",
   "version": "2.7.10"
  }
 },
 "nbformat": 4,
 "nbformat_minor": 0
}
