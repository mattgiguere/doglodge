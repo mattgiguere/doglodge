{
 "cells": [
  {
   "cell_type": "markdown",
   "metadata": {},
   "source": [
    "# test_splinter_scrape_ta_reviews"
   ]
  },
  {
   "cell_type": "code",
   "execution_count": 96,
   "metadata": {
    "collapsed": true
   },
   "outputs": [],
   "source": [
    "from splinter.browser import Browser\n",
    "import connect_aws_db as cadb\n",
    "from splinter_scrape_ta_reviews import get_hotel_urls\n",
    "from splinter_scrape_ta_reviews import scrape_hotel\n",
    "from splinter_scrape_ta_reviews import get_done_business_ids\n",
    "from splinter_scrape_ta_reviews import remove_duplicates\n",
    "from splinter_scrape_ta_reviews import get_biz_review_ids\n",
    "import pandas as pd\n",
    "import numpy as np"
   ]
  },
  {
   "cell_type": "code",
   "execution_count": 97,
   "metadata": {
    "collapsed": false
   },
   "outputs": [],
   "source": [
    "%load_ext autoreload"
   ]
  },
  {
   "cell_type": "code",
   "execution_count": 98,
   "metadata": {
    "collapsed": true
   },
   "outputs": [],
   "source": [
    "%autoreload 2"
   ]
  },
  {
   "cell_type": "code",
   "execution_count": 4,
   "metadata": {
    "collapsed": true
   },
   "outputs": [],
   "source": [
    "#import sys  \n",
    "#reload(sys)  \n",
    "#sys.setdefaultencoding('utf8')"
   ]
  },
  {
   "cell_type": "code",
   "execution_count": 5,
   "metadata": {
    "collapsed": true
   },
   "outputs": [],
   "source": [
    "city = 'new_haven'\n",
    "state = 'ct'"
   ]
  },
  {
   "cell_type": "code",
   "execution_count": 99,
   "metadata": {
    "collapsed": true
   },
   "outputs": [],
   "source": [
    "engine = cadb.connect_aws_db(write_unicode=True)"
   ]
  },
  {
   "cell_type": "code",
   "execution_count": 7,
   "metadata": {
    "collapsed": false
   },
   "outputs": [],
   "source": [
    "blinks = get_hotel_urls(city, state, engine)"
   ]
  },
  {
   "cell_type": "code",
   "execution_count": 8,
   "metadata": {
    "collapsed": false
   },
   "outputs": [],
   "source": [
    "br = Browser()"
   ]
  },
  {
   "cell_type": "code",
   "execution_count": 8,
   "metadata": {
    "collapsed": false
   },
   "outputs": [
    {
     "name": "stdout",
     "output_type": "stream",
     "text": [
      "(3278, u'1217689', u'http://www.tripadvisor.com/Hotel_Review-g33851-d1217689-Reviews-The_Study_at_Yale-New_Haven_Connecticut.html')\n",
      "(3279, u'85971', u'http://www.tripadvisor.com/Hotel_Review-g33851-d85971-Reviews-La_Quinta_Inn_Suites_New_Haven-New_Haven_Connecticut.html')\n",
      "(3280, u'225916', u'http://www.tripadvisor.com/Hotel_Review-g33851-d225916-Reviews-Days_Inn_New_Haven-New_Haven_Connecticut.html')\n",
      "(3281, u'119885', u'http://www.tripadvisor.com/Hotel_Review-g33851-d119885-Reviews-Duncan_Hotel-New_Haven_Connecticut.html')\n",
      "(3282, u'119904', u'http://www.tripadvisor.com/Hotel_Review-g33851-d119904-Reviews-Atlantic_Motel-New_Haven_Connecticut.html')\n",
      "(3283, u'83702', u'http://www.tripadvisor.com/Hotel_Review-g33851-d83702-Reviews-Regal_Inn-New_Haven_Connecticut.html')\n",
      "(3284, u'119851', u'http://www.tripadvisor.com/Hotel_Review-g33851-d119851-Reviews-Omni_New_Haven_Hotel_at_Yale-New_Haven_Connecticut.html')\n",
      "(3285, u'85912', u'http://www.tripadvisor.com/Hotel_Review-g33851-d85912-Reviews-New_Haven_Hotel-New_Haven_Connecticut.html')\n",
      "(3286, u'83697', u'http://www.tripadvisor.com/Hotel_Review-g33851-d83697-Reviews-Courtyard_New_Haven_at_Yale-New_Haven_Connecticut.html')\n",
      "(3287, u'85908', u'http://www.tripadvisor.com/Hotel_Review-g33851-d85908-Reviews-New_Haven_Premiere_Hotel_and_Suites-New_Haven_Connecticut.html')\n"
     ]
    }
   ],
   "source": [
    "for hotel_id, biz_id, link in blinks:\n",
    "    print(hotel_id, biz_id, link)"
   ]
  },
  {
   "cell_type": "code",
   "execution_count": 10,
   "metadata": {
    "collapsed": false
   },
   "outputs": [
    {
     "data": {
      "text/plain": [
       "u'http://www.tripadvisor.com/Hotel_Review-g33851-d1217689-Reviews-The_Study_at_Yale-New_Haven_Connecticut.html'"
      ]
     },
     "execution_count": 10,
     "metadata": {},
     "output_type": "execute_result"
    }
   ],
   "source": [
    "blinks[0][2]"
   ]
  },
  {
   "cell_type": "code",
   "execution_count": 12,
   "metadata": {
    "collapsed": true
   },
   "outputs": [],
   "source": [
    "donebids = get_done_business_ids(city, engine)"
   ]
  },
  {
   "cell_type": "code",
   "execution_count": 13,
   "metadata": {
    "collapsed": false
   },
   "outputs": [
    {
     "data": {
      "text/plain": [
       "[1217689, 85971, 225916, 119885, 119904, 83702, 85912, 83697, 119851, 85908]"
      ]
     },
     "execution_count": 13,
     "metadata": {},
     "output_type": "execute_result"
    }
   ],
   "source": [
    "donebids"
   ]
  },
  {
   "cell_type": "code",
   "execution_count": 16,
   "metadata": {
    "collapsed": false
   },
   "outputs": [
    {
     "data": {
      "text/plain": [
       "u'1217689'"
      ]
     },
     "execution_count": 16,
     "metadata": {},
     "output_type": "execute_result"
    }
   ],
   "source": [
    "blinks[0][1]"
   ]
  },
  {
   "cell_type": "code",
   "execution_count": 17,
   "metadata": {
    "collapsed": false
   },
   "outputs": [
    {
     "data": {
      "text/plain": [
       "False"
      ]
     },
     "execution_count": 17,
     "metadata": {},
     "output_type": "execute_result"
    }
   ],
   "source": [
    "int(blinks[0][1]) not in donebids"
   ]
  },
  {
   "cell_type": "markdown",
   "metadata": {},
   "source": [
    "### skip existing entries\n",
    "\n",
    "first make a test DataFrame"
   ]
  },
  {
   "cell_type": "code",
   "execution_count": 50,
   "metadata": {
    "collapsed": false
   },
   "outputs": [],
   "source": [
    "dt = [(None, 13923, u'81644', u'315150463', u'BDB26AE47382E5E2393FAE326E676068', u'Paul R', u'Poor Service Plus Billing Issues', u'1', u\"I'm a an Elite member (80+ nights/year). I will no longer stay at this hotel, nor will I have any of my organization stay there. The General Manager is Marco Quniteros and the Guest Care Manager is Luis Sandoval. Poor Service: I traveled there on business and arrived arrived late around 8pm. There were 2 check in desks, the one...More\", u'September 30, 2015'), (None, 13923, u'81644', u'312887596', u'19826BDC0584E92ADB07FD0B5DBC60AF', u'JJJ4762', u'Wonderful service, beautiful clean room, close to airport', u'5', u'Booked one night at this Courtyard as my flight was scheduled for the following morning. Comfortable recently renovated lobby, terrific room and a good breakfast but the highlight of my stay was the warm personal touches from the staff. In particular I want to mention Ana, at the front desk. After a very long couple of days of travel, the...More', u'September 22, 2015'), (None, 13923, u'81644', u'307031384', u'655AFE999E10FFB21C23BFB823B1B0D8', u'Maureen F', u'Close to airport.', u'5', u'Usual Courtyard hotel. Staff was friendly and helpful. Location is central to airport but a distance from downtown shopping and eating areas. There was a great chicken place across the street. If you are looking for a location that is away from the hustle bustle of San Jose, this Courtyard Marriott is the place for you. My stay was a...More', u'September 4, 2015'), (None, 13923, u'81644', u'303857639', u'CAB27AA0C676D42947E8AEA5D326BF1D', u'MSir', u'good option for layover', u'4', u\"clean, quiet comfortable rooms. Close to the airport, free shuttle. Surprisingly good food for breakfast. We would definitely stay here again. Can't speak to the value as we used American miles. The staff was friendly. Although supposedly you can drink the water, if you opt to buy it, hit the Walmart that is literally right next door.\", u''), (None, 13923, u'81644', u'300634339', u'3762AD12C96D5DA585F6E6F015305672', u'jooliecoolie', u'Fantastic Sleep Quality', u'5', u\"My husband and I stayed here one night for a wedding. I wish we could have stayed for another night. The pool and patio area were beautiful. The room was spacious and clean and the bed was heavenly. We slept so great with the blackout curtains that we didn't wake up until cleaning services knocked on our door! We were...More\", u''), (None, 13923, u'81644', u'298361218', u'C50E11B994B8FBE8B0C821717A5F9BC4', u'Phil d', u'Great Stay', u'5', u'I stayed at this hotel with a colleague for a weekend conference. We found the hotel very clean and comfortable! Everything was as expected from a Marriott. Although we did not have breakfast included in our room rate we mentioned on checkout that we would liked to have had breakfast included. The manager on duty promptly gave us a complimentary...More', u''), (None, 13923, u'81644', u'297368772', u'1B8283DF302E9D87CF054E56F3B4DB2D', u'LeeMTucson_Arizona', u'A very good alternative', u'4', u\"Close to the airport. Close to the expressway exit. Still plenty quiet. Nice rooms. Nice pool. Casual dining downstairs and a good alternative restaurant within walking distance. I couldn't ask more from a close to the airport hotel. Can you want to the airport. I'd say it was a little too far. And if you are going to drop off...More\", u''), (None, 13923, u'81644', u'296585304', u'CBD5A992B6BE37F7A24F37C771309082', u'Mal07', u'Good location', u'4', u\"Stayed here 5 nights for a business trip, a good clean hotel with larger than average room sizes. Close to San Jose airport and the 101 for getting around the Valley. Only downside is there is no restaurant (But you can get hot food at the bar / coffee shop, but not a decent meal) but this isn't a major...More\", u''), (None, 13923, u'81644', u'168426305', u'A8C4C9701BC5573606B61E2B7F41FB3C', u'Alex-Lava...', u\"\\xc0 2 minutes de l'a\\xe9roport\", u'4', u'Hotel tr\\xe8s bien comme la plupart des Courtyard. Id\\xe9al pour une nuit avant ou apr\\xe8s un vol. Shuttle prends 2...more', u''), (None, 13923, u'81644', u'167089751', u'B7A15AB21AAB5264F398381408221ECE', u'Maricarme...', u'Excelente punto central en nuestro caso.', u'5', u'Estuvimos cuatro noches, nos qued\\xf3 muy bien ubicado ya que estuvimos yendo a San Francisco y a Monterey California. No...more', u'')]"
   ]
  },
  {
   "cell_type": "code",
   "execution_count": 52,
   "metadata": {
    "collapsed": false
   },
   "outputs": [
    {
     "data": {
      "text/plain": [
       "10"
      ]
     },
     "execution_count": 52,
     "metadata": {},
     "output_type": "execute_result"
    }
   ],
   "source": [
    "len(dt)"
   ]
  },
  {
   "cell_type": "code",
   "execution_count": 53,
   "metadata": {
    "collapsed": true
   },
   "outputs": [],
   "source": [
    "dtdf = pd.DataFrame(dt)"
   ]
  },
  {
   "cell_type": "code",
   "execution_count": 64,
   "metadata": {
    "collapsed": false
   },
   "outputs": [],
   "source": [
    "dtdf.columns = ['review_id', \n",
    "'hotel_id', \n",
    "'business_id', \n",
    "'biz_review_id', \n",
    "'biz_member_id', \n",
    "'username', \n",
    "'review_title', \n",
    "'review_rating', \n",
    "'review_text', \n",
    "'review_date']"
   ]
  },
  {
   "cell_type": "code",
   "execution_count": 65,
   "metadata": {
    "collapsed": false
   },
   "outputs": [
    {
     "data": {
      "text/html": [
       "<div>\n",
       "<table border=\"1\" class=\"dataframe\">\n",
       "  <thead>\n",
       "    <tr style=\"text-align: right;\">\n",
       "      <th></th>\n",
       "      <th>review_id</th>\n",
       "      <th>hotel_id</th>\n",
       "      <th>business_id</th>\n",
       "      <th>biz_review_id</th>\n",
       "      <th>biz_member_id</th>\n",
       "      <th>username</th>\n",
       "      <th>review_title</th>\n",
       "      <th>review_rating</th>\n",
       "      <th>review_text</th>\n",
       "      <th>review_date</th>\n",
       "    </tr>\n",
       "  </thead>\n",
       "  <tbody>\n",
       "    <tr>\n",
       "      <th>0</th>\n",
       "      <td>None</td>\n",
       "      <td>13923</td>\n",
       "      <td>81644</td>\n",
       "      <td>315150463</td>\n",
       "      <td>BDB26AE47382E5E2393FAE326E676068</td>\n",
       "      <td>Paul R</td>\n",
       "      <td>Poor Service Plus Billing Issues</td>\n",
       "      <td>1</td>\n",
       "      <td>I'm a an Elite member (80+ nights/year). I wil...</td>\n",
       "      <td>September 30, 2015</td>\n",
       "    </tr>\n",
       "    <tr>\n",
       "      <th>1</th>\n",
       "      <td>None</td>\n",
       "      <td>13923</td>\n",
       "      <td>81644</td>\n",
       "      <td>312887596</td>\n",
       "      <td>19826BDC0584E92ADB07FD0B5DBC60AF</td>\n",
       "      <td>JJJ4762</td>\n",
       "      <td>Wonderful service, beautiful clean room, close...</td>\n",
       "      <td>5</td>\n",
       "      <td>Booked one night at this Courtyard as my fligh...</td>\n",
       "      <td>September 22, 2015</td>\n",
       "    </tr>\n",
       "    <tr>\n",
       "      <th>2</th>\n",
       "      <td>None</td>\n",
       "      <td>13923</td>\n",
       "      <td>81644</td>\n",
       "      <td>307031384</td>\n",
       "      <td>655AFE999E10FFB21C23BFB823B1B0D8</td>\n",
       "      <td>Maureen F</td>\n",
       "      <td>Close to airport.</td>\n",
       "      <td>5</td>\n",
       "      <td>Usual Courtyard hotel. Staff was friendly and ...</td>\n",
       "      <td>September 4, 2015</td>\n",
       "    </tr>\n",
       "  </tbody>\n",
       "</table>\n",
       "</div>"
      ],
      "text/plain": [
       "  review_id  hotel_id business_id biz_review_id  \\\n",
       "0      None     13923       81644     315150463   \n",
       "1      None     13923       81644     312887596   \n",
       "2      None     13923       81644     307031384   \n",
       "\n",
       "                      biz_member_id   username  \\\n",
       "0  BDB26AE47382E5E2393FAE326E676068     Paul R   \n",
       "1  19826BDC0584E92ADB07FD0B5DBC60AF    JJJ4762   \n",
       "2  655AFE999E10FFB21C23BFB823B1B0D8  Maureen F   \n",
       "\n",
       "                                        review_title review_rating  \\\n",
       "0                   Poor Service Plus Billing Issues             1   \n",
       "1  Wonderful service, beautiful clean room, close...             5   \n",
       "2                                  Close to airport.             5   \n",
       "\n",
       "                                         review_text         review_date  \n",
       "0  I'm a an Elite member (80+ nights/year). I wil...  September 30, 2015  \n",
       "1  Booked one night at this Courtyard as my fligh...  September 22, 2015  \n",
       "2  Usual Courtyard hotel. Staff was friendly and ...   September 4, 2015  "
      ]
     },
     "execution_count": 65,
     "metadata": {},
     "output_type": "execute_result"
    }
   ],
   "source": [
    "dtdf.head(3)"
   ]
  },
  {
   "cell_type": "code",
   "execution_count": 90,
   "metadata": {
    "collapsed": true
   },
   "outputs": [],
   "source": [
    "xstng_revs = get_biz_review_ids(city, engine)"
   ]
  },
  {
   "cell_type": "code",
   "execution_count": 91,
   "metadata": {
    "collapsed": false,
    "scrolled": true
   },
   "outputs": [
    {
     "data": {
      "text/plain": [
       "10040"
      ]
     },
     "execution_count": 91,
     "metadata": {},
     "output_type": "execute_result"
    }
   ],
   "source": [
    "len(xstng_revs)"
   ]
  },
  {
   "cell_type": "code",
   "execution_count": 95,
   "metadata": {
    "collapsed": false
   },
   "outputs": [
    {
     "data": {
      "text/plain": [
       "(array([], dtype=int64),)"
      ]
     },
     "execution_count": 95,
     "metadata": {},
     "output_type": "execute_result"
    }
   ],
   "source": [
    "np.where(xstng_revs == 312887596)"
   ]
  },
  {
   "cell_type": "code",
   "execution_count": 70,
   "metadata": {
    "collapsed": false
   },
   "outputs": [
    {
     "data": {
      "text/plain": [
       "Index([u'review_id', u'hotel_id', u'business_id', u'biz_review_id',\n",
       "       u'biz_member_id', u'username', u'review_title', u'review_rating',\n",
       "       u'review_text', u'review_date'],\n",
       "      dtype='object')"
      ]
     },
     "execution_count": 70,
     "metadata": {},
     "output_type": "execute_result"
    }
   ],
   "source": [
    "dtdf.columns"
   ]
  },
  {
   "cell_type": "code",
   "execution_count": 77,
   "metadata": {
    "collapsed": false
   },
   "outputs": [],
   "source": [
    "dtdf['biz_review_id'] = np.int64(dtdf['biz_review_id'].values)"
   ]
  },
  {
   "cell_type": "code",
   "execution_count": 81,
   "metadata": {
    "collapsed": false
   },
   "outputs": [
    {
     "data": {
      "text/plain": [
       "0    315150463\n",
       "1    312887596\n",
       "2    307031384\n",
       "3    303857639\n",
       "4    300634339\n",
       "5    298361218\n",
       "6    297368772\n",
       "7    296585304\n",
       "8    168426305\n",
       "9    167089751\n",
       "Name: biz_review_id, dtype: int64"
      ]
     },
     "execution_count": 81,
     "metadata": {},
     "output_type": "execute_result"
    }
   ],
   "source": [
    "dtdf['biz_review_id']"
   ]
  },
  {
   "cell_type": "code",
   "execution_count": 83,
   "metadata": {
    "collapsed": false
   },
   "outputs": [
    {
     "data": {
      "text/plain": [
       "(array([], dtype=int64),)"
      ]
     },
     "execution_count": 83,
     "metadata": {},
     "output_type": "execute_result"
    }
   ],
   "source": [
    "np.where(xstng_revs == 312887596L)"
   ]
  },
  {
   "cell_type": "code",
   "execution_count": 86,
   "metadata": {
    "collapsed": false
   },
   "outputs": [],
   "source": [
    "dtdf2 = remove_duplicates(dtdf, 'san_jose', engine)"
   ]
  },
  {
   "cell_type": "code",
   "execution_count": 87,
   "metadata": {
    "collapsed": false
   },
   "outputs": [
    {
     "data": {
      "text/plain": [
       "10"
      ]
     },
     "execution_count": 87,
     "metadata": {},
     "output_type": "execute_result"
    }
   ],
   "source": [
    "len(dtdf)"
   ]
  },
  {
   "cell_type": "code",
   "execution_count": 88,
   "metadata": {
    "collapsed": false
   },
   "outputs": [
    {
     "data": {
      "text/plain": [
       "10"
      ]
     },
     "execution_count": 88,
     "metadata": {},
     "output_type": "execute_result"
    }
   ],
   "source": [
    "len(dtdf2)"
   ]
  },
  {
   "cell_type": "code",
   "execution_count": null,
   "metadata": {
    "collapsed": true
   },
   "outputs": [],
   "source": []
  },
  {
   "cell_type": "markdown",
   "metadata": {},
   "source": [
    "### parsing utf chars"
   ]
  },
  {
   "cell_type": "code",
   "execution_count": 28,
   "metadata": {
    "collapsed": true
   },
   "outputs": [],
   "source": [
    "susrnm = ' C太郎'"
   ]
  },
  {
   "cell_type": "code",
   "execution_count": 29,
   "metadata": {
    "collapsed": false
   },
   "outputs": [
    {
     "data": {
      "text/plain": [
       "str"
      ]
     },
     "execution_count": 29,
     "metadata": {},
     "output_type": "execute_result"
    }
   ],
   "source": [
    "type(susrnm)"
   ]
  },
  {
   "cell_type": "code",
   "execution_count": 32,
   "metadata": {
    "collapsed": false
   },
   "outputs": [
    {
     "data": {
      "text/plain": [
       "' C\\xe5\\xa4\\xaa\\xe9\\x83\\x8e'"
      ]
     },
     "execution_count": 32,
     "metadata": {},
     "output_type": "execute_result"
    }
   ],
   "source": [
    "susrnm"
   ]
  },
  {
   "cell_type": "code",
   "execution_count": 34,
   "metadata": {
    "collapsed": false
   },
   "outputs": [
    {
     "data": {
      "text/plain": [
       "u'C\\u592a\\u90ce'"
      ]
     },
     "execution_count": 34,
     "metadata": {},
     "output_type": "execute_result"
    }
   ],
   "source": [
    "susrnm.decode('utf-8', 'ignore').strip()"
   ]
  },
  {
   "cell_type": "code",
   "execution_count": 36,
   "metadata": {
    "collapsed": false
   },
   "outputs": [
    {
     "name": "stdout",
     "output_type": "stream",
     "text": [
      "C太郎\n"
     ]
    }
   ],
   "source": [
    "print(susrnm.decode('utf-8', 'ignore').strip())"
   ]
  },
  {
   "cell_type": "code",
   "execution_count": 27,
   "metadata": {
    "collapsed": false
   },
   "outputs": [
    {
     "data": {
      "text/plain": [
       "'C\\xe5\\xa4\\xaa\\xe9\\x83\\x8e'"
      ]
     },
     "execution_count": 27,
     "metadata": {},
     "output_type": "execute_result"
    }
   ],
   "source": [
    "str(usrnm[0]).strip()"
   ]
  },
  {
   "cell_type": "code",
   "execution_count": 24,
   "metadata": {
    "collapsed": false,
    "scrolled": true
   },
   "outputs": [],
   "source": [
    "bigdf = scrape_hotel(blinks[0][2], br, engine)"
   ]
  },
  {
   "cell_type": "code",
   "execution_count": 25,
   "metadata": {
    "collapsed": false
   },
   "outputs": [
    {
     "data": {
      "text/plain": [
       "568"
      ]
     },
     "execution_count": 25,
     "metadata": {},
     "output_type": "execute_result"
    }
   ],
   "source": [
    "len(bigdf)"
   ]
  },
  {
   "cell_type": "code",
   "execution_count": 31,
   "metadata": {
    "collapsed": true
   },
   "outputs": [],
   "source": [
    "bigdf['business_id'] = blinks[0][0]"
   ]
  },
  {
   "cell_type": "code",
   "execution_count": 32,
   "metadata": {
    "collapsed": true
   },
   "outputs": [],
   "source": [
    "# drop the hotel_name column (this column does not exist in future versions):\n",
    "bigdf.drop('hotel_name', axis=1, inplace=True)"
   ]
  },
  {
   "cell_type": "code",
   "execution_count": 34,
   "metadata": {
    "collapsed": false,
    "scrolled": true
   },
   "outputs": [],
   "source": [
    "bigdf.to_sql('ta_reviews', engine, if_exists='append', index=False)"
   ]
  },
  {
   "cell_type": "code",
   "execution_count": 30,
   "metadata": {
    "collapsed": false
   },
   "outputs": [
    {
     "data": {
      "text/html": [
       "<div style=\"max-height:1000px;max-width:1500px;overflow:auto;\">\n",
       "<table border=\"1\" class=\"dataframe\">\n",
       "  <thead>\n",
       "    <tr style=\"text-align: right;\">\n",
       "      <th></th>\n",
       "      <th>review_id</th>\n",
       "      <th>hotel_id</th>\n",
       "      <th>hotel_name</th>\n",
       "      <th>business_id</th>\n",
       "      <th>biz_review_id</th>\n",
       "      <th>biz_member_id</th>\n",
       "      <th>username</th>\n",
       "      <th>review_title</th>\n",
       "      <th>review_rating</th>\n",
       "      <th>review_text</th>\n",
       "      <th>review_date</th>\n",
       "    </tr>\n",
       "  </thead>\n",
       "  <tbody>\n",
       "    <tr>\n",
       "      <th>0</th>\n",
       "      <td>NaN</td>\n",
       "      <td>NaN</td>\n",
       "      <td>NaN</td>\n",
       "      <td>NaN</td>\n",
       "      <td>310458194</td>\n",
       "      <td>87C5888145EC92BDB0F72C18EB08CAEB</td>\n",
       "      <td>PhilipNewJersey</td>\n",
       "      <td>Excellent property</td>\n",
       "      <td>5</td>\n",
       "      <td>Right down the street from the Yale campus and...</td>\n",
       "      <td>September 15, 2015</td>\n",
       "    </tr>\n",
       "    <tr>\n",
       "      <th>1</th>\n",
       "      <td>NaN</td>\n",
       "      <td>NaN</td>\n",
       "      <td>NaN</td>\n",
       "      <td>NaN</td>\n",
       "      <td>309709618</td>\n",
       "      <td>373F7ED4C06E86BE735B38FE3C5FBAE8</td>\n",
       "      <td>Gloria J</td>\n",
       "      <td>Best Place to Stay at New Haven</td>\n",
       "      <td>4</td>\n",
       "      <td>We've stayed at a few places at New Haven, and...</td>\n",
       "      <td>September 13, 2015</td>\n",
       "    </tr>\n",
       "    <tr>\n",
       "      <th>2</th>\n",
       "      <td>NaN</td>\n",
       "      <td>NaN</td>\n",
       "      <td>NaN</td>\n",
       "      <td>NaN</td>\n",
       "      <td>308615033</td>\n",
       "      <td>3846E72EAB7732919C9B65F05D9CBBE1</td>\n",
       "      <td>ILphotomom</td>\n",
       "      <td>really enjoyed my stay</td>\n",
       "      <td>5</td>\n",
       "      <td>I was visiting New Haven for work and had the ...</td>\n",
       "      <td>September 9, 2015</td>\n",
       "    </tr>\n",
       "    <tr>\n",
       "      <th>3</th>\n",
       "      <td>NaN</td>\n",
       "      <td>NaN</td>\n",
       "      <td>NaN</td>\n",
       "      <td>NaN</td>\n",
       "      <td>306265572</td>\n",
       "      <td>8868FE2D7F3A2A3E6CBDD949C6B99520</td>\n",
       "      <td>donaldk184</td>\n",
       "      <td>The Study Rocks!</td>\n",
       "      <td>5</td>\n",
       "      <td>The best place to stay in New Haven. Great roo...</td>\n",
       "      <td>September 2, 2015</td>\n",
       "    </tr>\n",
       "    <tr>\n",
       "      <th>4</th>\n",
       "      <td>NaN</td>\n",
       "      <td>NaN</td>\n",
       "      <td>NaN</td>\n",
       "      <td>NaN</td>\n",
       "      <td>305217155</td>\n",
       "      <td>10182DEB7032B071483618C256BD0261</td>\n",
       "      <td>jksingapore</td>\n",
       "      <td>Truly wonderful hotel!</td>\n",
       "      <td>5</td>\n",
       "      <td>We had a fabulous experience staying at the St...</td>\n",
       "      <td>August 31, 2015</td>\n",
       "    </tr>\n",
       "  </tbody>\n",
       "</table>\n",
       "</div>"
      ],
      "text/plain": [
       "  review_id hotel_id hotel_name business_id biz_review_id  \\\n",
       "0       NaN      NaN        NaN         NaN     310458194   \n",
       "1       NaN      NaN        NaN         NaN     309709618   \n",
       "2       NaN      NaN        NaN         NaN     308615033   \n",
       "3       NaN      NaN        NaN         NaN     306265572   \n",
       "4       NaN      NaN        NaN         NaN     305217155   \n",
       "\n",
       "                      biz_member_id         username  \\\n",
       "0  87C5888145EC92BDB0F72C18EB08CAEB  PhilipNewJersey   \n",
       "1  373F7ED4C06E86BE735B38FE3C5FBAE8         Gloria J   \n",
       "2  3846E72EAB7732919C9B65F05D9CBBE1       ILphotomom   \n",
       "3  8868FE2D7F3A2A3E6CBDD949C6B99520       donaldk184   \n",
       "4  10182DEB7032B071483618C256BD0261      jksingapore   \n",
       "\n",
       "                      review_title review_rating  \\\n",
       "0               Excellent property             5   \n",
       "1  Best Place to Stay at New Haven             4   \n",
       "2           really enjoyed my stay             5   \n",
       "3                 The Study Rocks!             5   \n",
       "4           Truly wonderful hotel!             5   \n",
       "\n",
       "                                         review_text         review_date  \n",
       "0  Right down the street from the Yale campus and...  September 15, 2015  \n",
       "1  We've stayed at a few places at New Haven, and...  September 13, 2015  \n",
       "2  I was visiting New Haven for work and had the ...   September 9, 2015  \n",
       "3  The best place to stay in New Haven. Great roo...   September 2, 2015  \n",
       "4  We had a fabulous experience staying at the St...     August 31, 2015  "
      ]
     },
     "execution_count": 30,
     "metadata": {},
     "output_type": "execute_result"
    }
   ],
   "source": [
    "bigdf.head(5)"
   ]
  },
  {
   "cell_type": "markdown",
   "metadata": {
    "collapsed": true
   },
   "source": [
    "### test duplicate entry error"
   ]
  },
  {
   "cell_type": "code",
   "execution_count": 100,
   "metadata": {
    "collapsed": true
   },
   "outputs": [],
   "source": [
    "dt = [(None, 13059, u'2192761', u'315810623', u'7D2C28361F65B09D6E36A78F046DE51E', u'Influencer', u'Exceptional Business and Convention Hotel', u'5', u\"I cannot say enough about how much I've enjoyed staying at the Omni Dallas for my business trips to Dallas. The interior design, cleanliness, service, food, amenities--all of these features, and much more, are delivered in grand style and with no headaches for the weary business traveler. Although there are many great hotels in Dallas, the Omni is at the...More\", u'October 3, 2015'), (None, 13059, u'2192761', u'315687003', u'01F5D2EB9E9446BCAFB454915CCC59CB', u'nofatboys', u'Not enough staff disorganized', u'2', u\"Waited about 20 minutes in line to valet my car. No one available to help with bags. Waited another 10 minutes in to check in. Came to my room and it still had someone's room service just outside my door. Just disappointing all the way around\", u'October 2, 2015'), (None, 13059, u'2192761', u'315739158', u'E0198AEC18F96F6EB0C7FB469290C147', u'Tina G', u'first stay in Dallas', u'5', u'From the front desk to the Spice restaurant to the bell hop everyone was extremely nice and welcoming we drove 10 hours and arrived at about noon the hotel was able to check us in early and placed us in a room that was high and quiet just what we wanted!', u'October 2, 2015'), (None, 13059, u'2192761', u'315739154', u'DAAA1F239CD5D5D50806D5FF6AA17FB1', u'danielled643', u'Fabulous', u'5', u'From the moment we pulled up to the moment we left, this hotel property was fabulous. They did everything right!! The staff was friendly and helpful. The rooms were perfect Everything was perfect. Thanks OMNI', u'October 2, 2015'), (None, 13059, u'2192761', u'315462377', u'78536447E73E770AC6F0F6CEB8C1FFE9', u'jhaensel', u'Perfect Hotel!!!', u'5', u'The Omni Dallas is very close to the Convention Center and to Downtown Dallas. Some very good restaurants and friendly staff. The rooms are nice, very clean and the view on the city is just outstanding. I would absolutely recommend this hotel for your stay in Dallas.', u'October 1, 2015'), (None, 13059, u'2192761', u'315514245', u'A99AF65C69AC37D84B45195FA212D9EF', u'rhtwo', u'Could Have Been Perfect, But', u'4', u'I made my reservation on a third party website. When I called the Omni Dallas to ask if my room was a nonsmoking one as requested I was told that because I had used a \"discount\" site I would need to contact the site to confirm any reservation details. The hotel confirmation I received indicated that all details were to...More', u'October 1, 2015'), (None, 13059, u'2192761', u'315514212', u'064FF74DFBF361A4463973ACF34F45F7', u'Julie T', u'Great for Business and Pleasure', u'5', u\"Always stay here when I am in Dallas for business. Have also stayed for pleasure. The rooms are nice and well appointed including robes! You can't beat the awesome pool with a view of the city after a long day of work! If you like sports, you can't beat the sports bar with a ton of TVs!\", u'October 1, 2015'), (None, 13059, u'2192761', u'315170219', u'75BFE1BE738E4A6760038A05F60306F5', u'Charles M', u'Beautiful hotel, top notch!', u'5', u'The city view room was amazing. The pool was perfect and great Margaritas from the pool bar. All the restaurants were very good. The staff was very friendly and helpful. The close proximity to the sites we were there to see was very helpful.', u'September 30, 2015'), (None, 13059, u'2192761', u'127734410', u'E50EC57CEE86E2773C70951D064BBFB7', u'tomypeck', u'Situation ideal y espectaculo de luces.', u'5', u'Con motivo de la celebracion de la Media Maraton de Dallas el pasado 25 de Marzo, nos alojamos mi mujer...more', u''), (None, 13059, u'2192761', u'127290453', u'F4415CE5A0677DC55E7E6910FADAD6A4', u'btebte', u'tres bon hotel que ce soit pour affaire ou pour le tourisme', u'4', u'tres bien plac\\xe9 a deux pas du centre de dallas belles prestations dans cet hotel moderne et tout neuf des...more', u'')]"
   ]
  },
  {
   "cell_type": "code",
   "execution_count": 101,
   "metadata": {
    "collapsed": true
   },
   "outputs": [],
   "source": [
    "dtdf = pd.DataFrame(dt)"
   ]
  },
  {
   "cell_type": "code",
   "execution_count": 102,
   "metadata": {
    "collapsed": true
   },
   "outputs": [],
   "source": [
    "dtdf.columns = ['review_id', \n",
    "'hotel_id', \n",
    "'business_id', \n",
    "'biz_review_id', \n",
    "'biz_member_id', \n",
    "'username', \n",
    "'review_title', \n",
    "'review_rating', \n",
    "'review_text', \n",
    "'review_date']"
   ]
  },
  {
   "cell_type": "code",
   "execution_count": 103,
   "metadata": {
    "collapsed": false
   },
   "outputs": [
    {
     "data": {
      "text/html": [
       "<div>\n",
       "<table border=\"1\" class=\"dataframe\">\n",
       "  <thead>\n",
       "    <tr style=\"text-align: right;\">\n",
       "      <th></th>\n",
       "      <th>review_id</th>\n",
       "      <th>hotel_id</th>\n",
       "      <th>business_id</th>\n",
       "      <th>biz_review_id</th>\n",
       "      <th>biz_member_id</th>\n",
       "      <th>username</th>\n",
       "      <th>review_title</th>\n",
       "      <th>review_rating</th>\n",
       "      <th>review_text</th>\n",
       "      <th>review_date</th>\n",
       "    </tr>\n",
       "  </thead>\n",
       "  <tbody>\n",
       "    <tr>\n",
       "      <th>0</th>\n",
       "      <td>None</td>\n",
       "      <td>13059</td>\n",
       "      <td>2192761</td>\n",
       "      <td>315810623</td>\n",
       "      <td>7D2C28361F65B09D6E36A78F046DE51E</td>\n",
       "      <td>Influencer</td>\n",
       "      <td>Exceptional Business and Convention Hotel</td>\n",
       "      <td>5</td>\n",
       "      <td>I cannot say enough about how much I've enjoye...</td>\n",
       "      <td>October 3, 2015</td>\n",
       "    </tr>\n",
       "    <tr>\n",
       "      <th>1</th>\n",
       "      <td>None</td>\n",
       "      <td>13059</td>\n",
       "      <td>2192761</td>\n",
       "      <td>315687003</td>\n",
       "      <td>01F5D2EB9E9446BCAFB454915CCC59CB</td>\n",
       "      <td>nofatboys</td>\n",
       "      <td>Not enough staff disorganized</td>\n",
       "      <td>2</td>\n",
       "      <td>Waited about 20 minutes in line to valet my ca...</td>\n",
       "      <td>October 2, 2015</td>\n",
       "    </tr>\n",
       "    <tr>\n",
       "      <th>2</th>\n",
       "      <td>None</td>\n",
       "      <td>13059</td>\n",
       "      <td>2192761</td>\n",
       "      <td>315739158</td>\n",
       "      <td>E0198AEC18F96F6EB0C7FB469290C147</td>\n",
       "      <td>Tina G</td>\n",
       "      <td>first stay in Dallas</td>\n",
       "      <td>5</td>\n",
       "      <td>From the front desk to the Spice restaurant to...</td>\n",
       "      <td>October 2, 2015</td>\n",
       "    </tr>\n",
       "    <tr>\n",
       "      <th>3</th>\n",
       "      <td>None</td>\n",
       "      <td>13059</td>\n",
       "      <td>2192761</td>\n",
       "      <td>315739154</td>\n",
       "      <td>DAAA1F239CD5D5D50806D5FF6AA17FB1</td>\n",
       "      <td>danielled643</td>\n",
       "      <td>Fabulous</td>\n",
       "      <td>5</td>\n",
       "      <td>From the moment we pulled up to the moment we ...</td>\n",
       "      <td>October 2, 2015</td>\n",
       "    </tr>\n",
       "    <tr>\n",
       "      <th>4</th>\n",
       "      <td>None</td>\n",
       "      <td>13059</td>\n",
       "      <td>2192761</td>\n",
       "      <td>315462377</td>\n",
       "      <td>78536447E73E770AC6F0F6CEB8C1FFE9</td>\n",
       "      <td>jhaensel</td>\n",
       "      <td>Perfect Hotel!!!</td>\n",
       "      <td>5</td>\n",
       "      <td>The Omni Dallas is very close to the Conventio...</td>\n",
       "      <td>October 1, 2015</td>\n",
       "    </tr>\n",
       "    <tr>\n",
       "      <th>5</th>\n",
       "      <td>None</td>\n",
       "      <td>13059</td>\n",
       "      <td>2192761</td>\n",
       "      <td>315514245</td>\n",
       "      <td>A99AF65C69AC37D84B45195FA212D9EF</td>\n",
       "      <td>rhtwo</td>\n",
       "      <td>Could Have Been Perfect, But</td>\n",
       "      <td>4</td>\n",
       "      <td>I made my reservation on a third party website...</td>\n",
       "      <td>October 1, 2015</td>\n",
       "    </tr>\n",
       "    <tr>\n",
       "      <th>6</th>\n",
       "      <td>None</td>\n",
       "      <td>13059</td>\n",
       "      <td>2192761</td>\n",
       "      <td>315514212</td>\n",
       "      <td>064FF74DFBF361A4463973ACF34F45F7</td>\n",
       "      <td>Julie T</td>\n",
       "      <td>Great for Business and Pleasure</td>\n",
       "      <td>5</td>\n",
       "      <td>Always stay here when I am in Dallas for busin...</td>\n",
       "      <td>October 1, 2015</td>\n",
       "    </tr>\n",
       "    <tr>\n",
       "      <th>7</th>\n",
       "      <td>None</td>\n",
       "      <td>13059</td>\n",
       "      <td>2192761</td>\n",
       "      <td>315170219</td>\n",
       "      <td>75BFE1BE738E4A6760038A05F60306F5</td>\n",
       "      <td>Charles M</td>\n",
       "      <td>Beautiful hotel, top notch!</td>\n",
       "      <td>5</td>\n",
       "      <td>The city view room was amazing. The pool was p...</td>\n",
       "      <td>September 30, 2015</td>\n",
       "    </tr>\n",
       "    <tr>\n",
       "      <th>8</th>\n",
       "      <td>None</td>\n",
       "      <td>13059</td>\n",
       "      <td>2192761</td>\n",
       "      <td>127734410</td>\n",
       "      <td>E50EC57CEE86E2773C70951D064BBFB7</td>\n",
       "      <td>tomypeck</td>\n",
       "      <td>Situation ideal y espectaculo de luces.</td>\n",
       "      <td>5</td>\n",
       "      <td>Con motivo de la celebracion de la Media Marat...</td>\n",
       "      <td></td>\n",
       "    </tr>\n",
       "    <tr>\n",
       "      <th>9</th>\n",
       "      <td>None</td>\n",
       "      <td>13059</td>\n",
       "      <td>2192761</td>\n",
       "      <td>127290453</td>\n",
       "      <td>F4415CE5A0677DC55E7E6910FADAD6A4</td>\n",
       "      <td>btebte</td>\n",
       "      <td>tres bon hotel que ce soit pour affaire ou pou...</td>\n",
       "      <td>4</td>\n",
       "      <td>tres bien placé a deux pas du centre de dallas...</td>\n",
       "      <td></td>\n",
       "    </tr>\n",
       "  </tbody>\n",
       "</table>\n",
       "</div>"
      ],
      "text/plain": [
       "  review_id  hotel_id business_id biz_review_id  \\\n",
       "0      None     13059     2192761     315810623   \n",
       "1      None     13059     2192761     315687003   \n",
       "2      None     13059     2192761     315739158   \n",
       "3      None     13059     2192761     315739154   \n",
       "4      None     13059     2192761     315462377   \n",
       "5      None     13059     2192761     315514245   \n",
       "6      None     13059     2192761     315514212   \n",
       "7      None     13059     2192761     315170219   \n",
       "8      None     13059     2192761     127734410   \n",
       "9      None     13059     2192761     127290453   \n",
       "\n",
       "                      biz_member_id      username  \\\n",
       "0  7D2C28361F65B09D6E36A78F046DE51E    Influencer   \n",
       "1  01F5D2EB9E9446BCAFB454915CCC59CB     nofatboys   \n",
       "2  E0198AEC18F96F6EB0C7FB469290C147        Tina G   \n",
       "3  DAAA1F239CD5D5D50806D5FF6AA17FB1  danielled643   \n",
       "4  78536447E73E770AC6F0F6CEB8C1FFE9      jhaensel   \n",
       "5  A99AF65C69AC37D84B45195FA212D9EF         rhtwo   \n",
       "6  064FF74DFBF361A4463973ACF34F45F7       Julie T   \n",
       "7  75BFE1BE738E4A6760038A05F60306F5     Charles M   \n",
       "8  E50EC57CEE86E2773C70951D064BBFB7      tomypeck   \n",
       "9  F4415CE5A0677DC55E7E6910FADAD6A4        btebte   \n",
       "\n",
       "                                        review_title review_rating  \\\n",
       "0          Exceptional Business and Convention Hotel             5   \n",
       "1                      Not enough staff disorganized             2   \n",
       "2                               first stay in Dallas             5   \n",
       "3                                           Fabulous             5   \n",
       "4                                   Perfect Hotel!!!             5   \n",
       "5                       Could Have Been Perfect, But             4   \n",
       "6                    Great for Business and Pleasure             5   \n",
       "7                        Beautiful hotel, top notch!             5   \n",
       "8            Situation ideal y espectaculo de luces.             5   \n",
       "9  tres bon hotel que ce soit pour affaire ou pou...             4   \n",
       "\n",
       "                                         review_text         review_date  \n",
       "0  I cannot say enough about how much I've enjoye...     October 3, 2015  \n",
       "1  Waited about 20 minutes in line to valet my ca...     October 2, 2015  \n",
       "2  From the front desk to the Spice restaurant to...     October 2, 2015  \n",
       "3  From the moment we pulled up to the moment we ...     October 2, 2015  \n",
       "4  The Omni Dallas is very close to the Conventio...     October 1, 2015  \n",
       "5  I made my reservation on a third party website...     October 1, 2015  \n",
       "6  Always stay here when I am in Dallas for busin...     October 1, 2015  \n",
       "7  The city view room was amazing. The pool was p...  September 30, 2015  \n",
       "8  Con motivo de la celebracion de la Media Marat...                      \n",
       "9  tres bien placé a deux pas du centre de dallas...                      "
      ]
     },
     "execution_count": 103,
     "metadata": {},
     "output_type": "execute_result"
    }
   ],
   "source": [
    "dtdf"
   ]
  },
  {
   "cell_type": "code",
   "execution_count": null,
   "metadata": {
    "collapsed": true
   },
   "outputs": [],
   "source": []
  }
 ],
 "metadata": {
  "kernelspec": {
   "display_name": "Python 2",
   "language": "python",
   "name": "python2"
  },
  "language_info": {
   "codemirror_mode": {
    "name": "ipython",
    "version": 2
   },
   "file_extension": ".py",
   "mimetype": "text/x-python",
   "name": "python",
   "nbconvert_exporter": "python",
   "pygments_lexer": "ipython2",
   "version": "2.7.10"
  }
 },
 "nbformat": 4,
 "nbformat_minor": 0
}
