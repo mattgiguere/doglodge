{
 "cells": [
  {
   "cell_type": "markdown",
   "metadata": {},
   "source": [
    "# test_splinter_scrape_ta_reviews"
   ]
  },
  {
   "cell_type": "code",
   "execution_count": 16,
   "metadata": {
    "collapsed": true
   },
   "outputs": [],
   "source": [
    "from splinter.browser import Browser\n",
    "import connect_aws_db as cadb\n",
    "from splinter_scrape_ta_reviews import get_hotel_urls\n",
    "from splinter_scrape_ta_reviews import scrape_hotel"
   ]
  },
  {
   "cell_type": "code",
   "execution_count": 2,
   "metadata": {
    "collapsed": false
   },
   "outputs": [],
   "source": [
    "%load_ext autoreload"
   ]
  },
  {
   "cell_type": "code",
   "execution_count": 3,
   "metadata": {
    "collapsed": true
   },
   "outputs": [],
   "source": [
    "%autoreload 2"
   ]
  },
  {
   "cell_type": "code",
   "execution_count": 4,
   "metadata": {
    "collapsed": true
   },
   "outputs": [],
   "source": [
    "city = 'new_haven'\n",
    "state = 'ct'\n",
    "engine = cadb.connect_aws_db(write_unicode=True)"
   ]
  },
  {
   "cell_type": "code",
   "execution_count": 10,
   "metadata": {
    "collapsed": false
   },
   "outputs": [],
   "source": [
    "blinks = get_hotel_urls(city, state, engine)"
   ]
  },
  {
   "cell_type": "code",
   "execution_count": 17,
   "metadata": {
    "collapsed": false
   },
   "outputs": [],
   "source": [
    "br = Browser()"
   ]
  },
  {
   "cell_type": "code",
   "execution_count": 11,
   "metadata": {
    "collapsed": false
   },
   "outputs": [
    {
     "name": "stdout",
     "output_type": "stream",
     "text": [
      "(u'1217689', u'http://www.tripadvisor.com/Hotel_Review-g33851-d1217689-Reviews-The_Study_at_Yale-New_Haven_Connecticut.html')\n",
      "(u'85971', u'http://www.tripadvisor.com/Hotel_Review-g33851-d85971-Reviews-La_Quinta_Inn_Suites_New_Haven-New_Haven_Connecticut.html')\n",
      "(u'225916', u'http://www.tripadvisor.com/Hotel_Review-g33851-d225916-Reviews-Days_Inn_New_Haven-New_Haven_Connecticut.html')\n",
      "(u'119885', u'http://www.tripadvisor.com/Hotel_Review-g33851-d119885-Reviews-Duncan_Hotel-New_Haven_Connecticut.html')\n",
      "(u'119904', u'http://www.tripadvisor.com/Hotel_Review-g33851-d119904-Reviews-Atlantic_Motel-New_Haven_Connecticut.html')\n",
      "(u'83702', u'http://www.tripadvisor.com/Hotel_Review-g33851-d83702-Reviews-Regal_Inn-New_Haven_Connecticut.html')\n",
      "(u'119851', u'http://www.tripadvisor.com/Hotel_Review-g33851-d119851-Reviews-Omni_New_Haven_Hotel_at_Yale-New_Haven_Connecticut.html')\n",
      "(u'85912', u'http://www.tripadvisor.com/Hotel_Review-g33851-d85912-Reviews-New_Haven_Hotel-New_Haven_Connecticut.html')\n",
      "(u'83697', u'http://www.tripadvisor.com/Hotel_Review-g33851-d83697-Reviews-Courtyard_New_Haven_at_Yale-New_Haven_Connecticut.html')\n",
      "(u'85908', u'http://www.tripadvisor.com/Hotel_Review-g33851-d85908-Reviews-New_Haven_Premiere_Hotel_and_Suites-New_Haven_Connecticut.html')\n"
     ]
    }
   ],
   "source": [
    "for biz_id, link in blinks:\n",
    "    print(biz_id, link)"
   ]
  },
  {
   "cell_type": "code",
   "execution_count": 14,
   "metadata": {
    "collapsed": false
   },
   "outputs": [
    {
     "data": {
      "text/plain": [
       "u'http://www.tripadvisor.com/Hotel_Review-g33851-d1217689-Reviews-The_Study_at_Yale-New_Haven_Connecticut.html'"
      ]
     },
     "execution_count": 14,
     "metadata": {},
     "output_type": "execute_result"
    }
   ],
   "source": [
    "blinks[0][1]"
   ]
  },
  {
   "cell_type": "code",
   "execution_count": null,
   "metadata": {
    "collapsed": false
   },
   "outputs": [
    {
     "name": "stdout",
     "output_type": "stream",
     "text": [
      "**************************************************\n",
      "Now on page 1\n",
      "sleeping for 14.6761024109 seconds before continuing.\n",
      "Username: PhilipNewJersey\n",
      "Location: New Jersey\n",
      "Username: Gloria J\n",
      "Location: \n",
      "Username: ILphotomom\n",
      "Location: Bloomington, Illinois\n",
      "Username: donaldk184\n",
      "Location: Carmel\n",
      "Username: jksingapore\n",
      "Location: \n",
      "Username: Mary Jo P\n",
      "Location: Washington DC, District of Columbia\n",
      "Username: elliethemutt\n",
      "Location: \n",
      "Username: Jill L\n",
      "Location: Chicago, Illinois\n",
      "member_info does not exist\n",
      "Username: A Trip Advisor Member\n",
      "Location: \n",
      "Username: HappyCoupleAndoverMA\n",
      "Location: Andover MA\n",
      "successfully completed page 2\n",
      "**************************************************\n",
      "Now on page 2\n",
      "sleeping for 18.6230561889 seconds before continuing.\n",
      "Username: MILOUW\n",
      "Location: New York City, New York\n",
      "Username: Momtravels2\n",
      "Location: Washington DC\n",
      "Username: Paradise1140\n",
      "Location: Saint Augustine, Florida\n",
      "Username: tmiboise\n",
      "Location: Boise, Idaho\n",
      "Username: D R\n",
      "Location: \n",
      "Username: atlartmom\n",
      "Location: \n",
      "Username: Ami M\n",
      "Location: \n",
      "Username: Michael S\n",
      "Location: Glasgow\n",
      "Username: Orion2014\n",
      "Location: Midland, Michigan\n",
      "Username: Tom C\n",
      "Location: Milford, New Jersey\n",
      "successfully completed page 3\n",
      "**************************************************\n",
      "Now on page 3\n",
      "sleeping for 11.198072155 seconds before continuing.\n",
      "Username: sgreez\n",
      "Location: Boston, Massachusetts\n",
      "Username: Umele\n",
      "Location: Charleston, SC\n",
      "Username: Kristin C\n",
      "Location: Bend, Oregon\n",
      "Username: Febo17\n",
      "Location: Barrington, IL\n",
      "Username: 8Track\n",
      "Location: Washington\n",
      "Username: Pat P\n",
      "Location: Boston, Massachusetts\n",
      "Username: Joe L\n",
      "Location: Syracuse, New York\n",
      "Username: floydyale\n",
      "Location: Los Gatos, California\n",
      "Username: MG2720\n",
      "Location: Los Angeles, California\n",
      "Username: bill s\n",
      "Location: New York City, New York\n",
      "successfully completed page 4\n",
      "**************************************************\n",
      "Now on page 4\n",
      "sleeping for 10.8919598488 seconds before continuing.\n",
      "Username: LauraES\n",
      "Location: Houston, Texas\n",
      "Username: 312jeff\n",
      "Location: Chicago, Illinois\n",
      "Username: Ravi V\n",
      "Location: \n",
      "Username: Kmaxhouse\n",
      "Location: Cleveland, Ohio\n",
      "Username: mgm507\n",
      "Location: Cincinnati, Ohio\n",
      "Username: royston w\n",
      "Location: Milton Keynes, United Kingdom\n",
      "Username: PJMM2311\n",
      "Location: Toronto\n",
      "Username: Tzvetelina D\n",
      "Location: \n",
      "Username: JordanScott\n",
      "Location: New York City, New York\n",
      "Username: anjuync\n",
      "Location: Singapore, Singapore\n",
      "successfully completed page 5\n",
      "**************************************************\n",
      "Now on page 5\n",
      "sleeping for 9.21636672284 seconds before continuing.\n",
      "Username: debreem\n",
      "Location: Colorado\n",
      "Username: anchmer\n",
      "Location: Seattle, Washington\n",
      "Username: Dianne1047\n",
      "Location: Coventry, Connecticut\n",
      "Username: terroth\n",
      "Location: Concord, Massachusetts\n",
      "Username: Discerning1145\n",
      "Location: riverhead\n",
      "Username: worldalmanac\n",
      "Location: San Francisco, California\n",
      "Username: kitschy\n",
      "Location: New York\n",
      "Username: sassyclax1968\n",
      "Location: new york, new york\n",
      "Username: Sailguy\n",
      "Location: Hamden, Connecticut\n",
      "Username: arisonalestari\n",
      "Location: Singapore, Singapore\n",
      "successfully completed page 6\n",
      "**************************************************\n",
      "Now on page 6\n",
      "sleeping for 11.8450797582 seconds before continuing.\n",
      "Username: S Z\n",
      "Location: Hanover, New Hampshire\n",
      "Username: Travelotely\n",
      "Location: London, United Kingdom\n",
      "Username: NemoSF\n",
      "Location: San Francisco, California\n",
      "Username: Pia M\n",
      "Location: New Haven, Connecticut\n",
      "Username: MikeinCalif0rnia\n",
      "Location: Los Angeles, California\n",
      "Username: AdamLoewy\n",
      "Location: Austin, Texas\n",
      "Username: Abby K\n",
      "Location: Louisville, Kentucky\n",
      "Username: sspatankar\n",
      "Location: ahmedabad\n",
      "Username: JacquelineCB\n",
      "Location: Sacramento, CA\n",
      "Username: Bellybirdsmom\n",
      "Location: Mahwah, New Jersey\n",
      "successfully completed page 7\n",
      "**************************************************\n",
      "Now on page 7\n",
      "sleeping for 13.0562653843 seconds before continuing.\n",
      "Username: Acmecai\n",
      "Location: Princeton, New Jersey\n",
      "Username: uesmom\n",
      "Location: nyc\n",
      "Username: Carlo B\n",
      "Location: Italy\n",
      "Username: Erin O\n",
      "Location: \n",
      "Username: AndyL71\n",
      "Location: Cowes, United Kingdom\n",
      "Username: James D\n",
      "Location: Weston, Massachusetts, United States\n",
      "Username: greg56003"
     ]
    }
   ],
   "source": [
    "bigdf = scrape_hotel(blinks[0][1], br, engine)"
   ]
  },
  {
   "cell_type": "code",
   "execution_count": null,
   "metadata": {
    "collapsed": true
   },
   "outputs": [],
   "source": []
  }
 ],
 "metadata": {
  "kernelspec": {
   "display_name": "Python 2",
   "language": "python",
   "name": "python2"
  },
  "language_info": {
   "codemirror_mode": {
    "name": "ipython",
    "version": 2
   },
   "file_extension": ".py",
   "mimetype": "text/x-python",
   "name": "python",
   "nbconvert_exporter": "python",
   "pygments_lexer": "ipython2",
   "version": "2.7.10"
  }
 },
 "nbformat": 4,
 "nbformat_minor": 0
}
