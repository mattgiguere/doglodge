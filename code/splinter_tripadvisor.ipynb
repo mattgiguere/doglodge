{
 "cells": [
  {
   "cell_type": "code",
   "execution_count": 1,
   "metadata": {
    "collapsed": true
   },
   "outputs": [],
   "source": [
    "import pandas as pd\n",
    "import numpy as np\n",
    "from splinter.browser import Browser\n",
    "import re"
   ]
  },
  {
   "cell_type": "code",
   "execution_count": 2,
   "metadata": {
    "collapsed": true
   },
   "outputs": [],
   "source": [
    "br = Browser()"
   ]
  },
  {
   "cell_type": "code",
   "execution_count": 3,
   "metadata": {
    "collapsed": true
   },
   "outputs": [],
   "source": [
    "url = \"http://www.tripadvisor.com/Hotels-g31310-Phoenix_Arizona-Hotels.html\""
   ]
  },
  {
   "cell_type": "code",
   "execution_count": 4,
   "metadata": {
    "collapsed": true
   },
   "outputs": [],
   "source": [
    "br.visit(url)"
   ]
  },
  {
   "cell_type": "code",
   "execution_count": 5,
   "metadata": {
    "collapsed": true
   },
   "outputs": [],
   "source": [
    "hotels_div = br.find_by_xpath('//*[@id=\"ACCOM_OVERVIEW\"]/div/div/div/div')\n",
    "titles_div = br.find_by_xpath('//*[@class=\"listing_title\"]')"
   ]
  },
  {
   "cell_type": "code",
   "execution_count": 6,
   "metadata": {
    "collapsed": false
   },
   "outputs": [
    {
     "data": {
      "text/plain": [
       "[<splinter.driver.webdriver.WebDriverElement at 0x102e58350>,\n",
       " <splinter.driver.webdriver.WebDriverElement at 0x102e583d0>,\n",
       " <splinter.driver.webdriver.WebDriverElement at 0x102e58450>,\n",
       " <splinter.driver.webdriver.WebDriverElement at 0x102e584d0>,\n",
       " <splinter.driver.webdriver.WebDriverElement at 0x102e58550>,\n",
       " <splinter.driver.webdriver.WebDriverElement at 0x102e585d0>,\n",
       " <splinter.driver.webdriver.WebDriverElement at 0x102e58650>,\n",
       " <splinter.driver.webdriver.WebDriverElement at 0x102e586d0>,\n",
       " <splinter.driver.webdriver.WebDriverElement at 0x102e58750>,\n",
       " <splinter.driver.webdriver.WebDriverElement at 0x102e587d0>,\n",
       " <splinter.driver.webdriver.WebDriverElement at 0x102e58850>,\n",
       " <splinter.driver.webdriver.WebDriverElement at 0x102e588d0>,\n",
       " <splinter.driver.webdriver.WebDriverElement at 0x102e58950>,\n",
       " <splinter.driver.webdriver.WebDriverElement at 0x102e589d0>,\n",
       " <splinter.driver.webdriver.WebDriverElement at 0x102e58a50>,\n",
       " <splinter.driver.webdriver.WebDriverElement at 0x102e58ad0>,\n",
       " <splinter.driver.webdriver.WebDriverElement at 0x102e58b50>,\n",
       " <splinter.driver.webdriver.WebDriverElement at 0x102e58bd0>,\n",
       " <splinter.driver.webdriver.WebDriverElement at 0x102e58c50>,\n",
       " <splinter.driver.webdriver.WebDriverElement at 0x102e58cd0>,\n",
       " <splinter.driver.webdriver.WebDriverElement at 0x102e58d50>,\n",
       " <splinter.driver.webdriver.WebDriverElement at 0x102e58dd0>,\n",
       " <splinter.driver.webdriver.WebDriverElement at 0x102e58e50>,\n",
       " <splinter.driver.webdriver.WebDriverElement at 0x102e58ed0>,\n",
       " <splinter.driver.webdriver.WebDriverElement at 0x102e58f50>,\n",
       " <splinter.driver.webdriver.WebDriverElement at 0x102e58fd0>,\n",
       " <splinter.driver.webdriver.WebDriverElement at 0x102e68090>,\n",
       " <splinter.driver.webdriver.WebDriverElement at 0x102e68110>,\n",
       " <splinter.driver.webdriver.WebDriverElement at 0x102e68190>,\n",
       " <splinter.driver.webdriver.WebDriverElement at 0x102e68210>,\n",
       " <splinter.driver.webdriver.WebDriverElement at 0x102e68290>,\n",
       " <splinter.driver.webdriver.WebDriverElement at 0x102e68310>,\n",
       " <splinter.driver.webdriver.WebDriverElement at 0x102e68390>,\n",
       " <splinter.driver.webdriver.WebDriverElement at 0x102e68410>,\n",
       " <splinter.driver.webdriver.WebDriverElement at 0x102e68490>]"
      ]
     },
     "execution_count": 6,
     "metadata": {},
     "output_type": "execute_result"
    }
   ],
   "source": [
    "hotels_div"
   ]
  },
  {
   "cell_type": "code",
   "execution_count": 32,
   "metadata": {
    "collapsed": false
   },
   "outputs": [
    {
     "data": {
      "text/plain": [
       "35"
      ]
     },
     "execution_count": 32,
     "metadata": {},
     "output_type": "execute_result"
    }
   ],
   "source": [
    "len(hotels_div)"
   ]
  },
  {
   "cell_type": "code",
   "execution_count": 7,
   "metadata": {
    "collapsed": false,
    "scrolled": true
   },
   "outputs": [
    {
     "name": "stdout",
     "output_type": "stream",
     "text": [
      "Wyndham Garden Phoenix Midtown\n",
      "http://www.tripadvisor.com/Hotel_Review-g31310-d73905-Reviews-Wyndham_Garden_Phoenix_Midtown-Phoenix_Arizona.html\n",
      "**************************************************\n",
      "Arizona Grand Resort & Spa\n",
      "http://www.tripadvisor.com/Hotel_Review-g31310-d112178-Reviews-Arizona_Grand_Resort_Spa-Phoenix_Arizona.html\n",
      "**************************************************\n",
      "Pointe Hilton Squaw Peak Resort\n",
      "http://www.tripadvisor.com/Hotel_Review-g31310-d73957-Reviews-Pointe_Hilton_Squaw_Peak_Resort-Phoenix_Arizona.html\n",
      "**************************************************\n",
      "Pointe Hilton Tapatio Cliffs Resort\n",
      "http://www.tripadvisor.com/Hotel_Review-g31310-d277997-Reviews-Pointe_Hilton_Tapatio_Cliffs_Resort-Phoenix_Arizona.html\n",
      "**************************************************\n",
      "Arizona Biltmore, A Waldorf Astoria Resort\n",
      "http://www.tripadvisor.com/Hotel_Review-g31310-d115484-Reviews-Arizona_Biltmore_A_Waldorf_Astoria_Resort-Phoenix_Arizona.html\n",
      "**************************************************\n",
      "Royal Palms Resort and Spa\n",
      "http://www.tripadvisor.com/Hotel_Review-g31310-d73943-Reviews-Royal_Palms_Resort_and_Spa-Phoenix_Arizona.html\n",
      "**************************************************\n",
      "JW Marriott Desert Ridge Resort & Spa Phoenix\n",
      "http://www.tripadvisor.com/Hotel_Review-g31310-d223860-Reviews-JW_Marriott_Desert_Ridge_Resort_Spa_Phoenix-Phoenix_Arizona.html\n",
      "**************************************************\n",
      "Marriott's Canyon Villas at Desert Ridge\n",
      "http://www.tripadvisor.com/Hotel_Review-g31310-d286542-Reviews-Marriott_s_Canyon_Villas_at_Desert_Ridge-Phoenix_Arizona.html\n",
      "**************************************************\n",
      "Hotel Palomar Phoenix - a Kimpton Hotel\n",
      "http://www.tripadvisor.com/Hotel_Review-g31310-d2627745-Reviews-Hotel_Palomar_Phoenix_a_Kimpton_Hotel-Phoenix_Arizona.html\n",
      "**************************************************\n",
      "The Clarendon Hotel and Spa\n",
      "http://www.tripadvisor.com/Hotel_Review-g31310-d266322-Reviews-The_Clarendon_Hotel_and_Spa-Phoenix_Arizona.html\n",
      "**************************************************\n",
      "Hampton Inn & Suites Phoenix North/Happy Valley\n",
      "http://www.tripadvisor.com/Hotel_Review-g31310-d1200121-Reviews-Hampton_Inn_Suites_Phoenix_North_Happy_Valley-Phoenix_Arizona.html\n",
      "**************************************************\n",
      "Homewood Suites Phoenix North - Happy Valley\n",
      "http://www.tripadvisor.com/Hotel_Review-g31310-d1201061-Reviews-Homewood_Suites_Phoenix_North_Happy_Valley-Phoenix_Arizona.html\n",
      "**************************************************\n",
      "Westin Phoenix Downtown\n",
      "http://www.tripadvisor.com/Hotel_Review-g31310-d2015227-Reviews-Westin_Phoenix_Downtown-Phoenix_Arizona.html\n",
      "**************************************************\n",
      "Radisson Hotel Phoenix North\n",
      "http://www.tripadvisor.com/Hotel_Review-g31310-d218100-Reviews-Radisson_Hotel_Phoenix_North-Phoenix_Arizona.html\n",
      "**************************************************\n",
      "Embassy Suites by Hilton Phoenix-Scottsdale\n",
      "http://www.tripadvisor.com/Hotel_Review-g31310-d224250-Reviews-Embassy_Suites_by_Hilton_Phoenix_Scottsdale-Phoenix_Arizona.html\n",
      "**************************************************\n",
      "Legacy Golf Resort\n",
      "http://www.tripadvisor.com/Hotel_Review-g31310-d74626-Reviews-Legacy_Golf_Resort-Phoenix_Arizona.html\n",
      "**************************************************\n",
      "Sheraton Phoenix Downtown Hotel\n",
      "http://www.tripadvisor.com/Hotel_Review-g31310-d1147292-Reviews-Sheraton_Phoenix_Downtown_Hotel-Phoenix_Arizona.html\n",
      "**************************************************\n",
      "Hyatt Regency Phoenix\n",
      "http://www.tripadvisor.com/Hotel_Review-g31310-d73855-Reviews-Hyatt_Regency_Phoenix-Phoenix_Arizona.html\n",
      "**************************************************\n",
      "Wyndham Garden Phoenix Midtown\n",
      "http://www.tripadvisor.com/Hotel_Review-g31310-d73905-Reviews-Wyndham_Garden_Phoenix_Midtown-Phoenix_Arizona.html\n",
      "**************************************************\n",
      "Hampton Inn Phoenix-Biltmore\n",
      "http://www.tripadvisor.com/Hotel_Review-g31310-d74624-Reviews-Hampton_Inn_Phoenix_Biltmore-Phoenix_Arizona.html\n",
      "**************************************************\n",
      "Embassy Suites by Hilton Hotel Phoenix Biltmore\n",
      "http://www.tripadvisor.com/Hotel_Review-g31310-d112154-Reviews-Embassy_Suites_by_Hilton_Hotel_Phoenix_Biltmore-Phoenix_Arizona.html\n",
      "**************************************************\n",
      "Aloft Phoenix-Airport\n",
      "http://www.tripadvisor.com/Hotel_Review-g31310-d1174692-Reviews-Aloft_Phoenix_Airport-Phoenix_Arizona.html\n",
      "**************************************************\n",
      "DoubleTree Suites by Hilton Hotel Phoenix\n",
      "http://www.tripadvisor.com/Hotel_Review-g31310-d115482-Reviews-DoubleTree_Suites_by_Hilton_Hotel_Phoenix-Phoenix_Arizona.html\n",
      "**************************************************\n",
      "BEST WESTERN Airport Inn\n",
      "http://www.tripadvisor.com/Hotel_Review-g31310-d73706-Reviews-BEST_WESTERN_Airport_Inn-Phoenix_Arizona.html\n",
      "**************************************************\n",
      "Drury Inn & Suites Phoenix Airport\n",
      "http://www.tripadvisor.com/Hotel_Review-g31310-d73923-Reviews-Drury_Inn_Suites_Phoenix_Airport-Phoenix_Arizona.html\n",
      "**************************************************\n",
      "BEST WESTERN Innsuites Phoenix Biltmore\n",
      "http://www.tripadvisor.com/Hotel_Review-g31310-d73739-Reviews-BEST_WESTERN_Innsuites_Phoenix_Biltmore-Phoenix_Arizona.html\n",
      "**************************************************\n",
      "Red Roof Inn Phoenix West\n",
      "http://www.tripadvisor.com/Hotel_Review-g31310-d224757-Reviews-Red_Roof_Inn_Phoenix_West-Phoenix_Arizona.html\n",
      "**************************************************\n",
      "Candlewood Suites Phoenix\n",
      "http://www.tripadvisor.com/Hotel_Review-g31310-d224733-Reviews-Candlewood_Suites_Phoenix-Phoenix_Arizona.html\n",
      "**************************************************\n",
      "La Quinta Inn & Suites Phoenix I-10 West\n",
      "http://www.tripadvisor.com/Hotel_Review-g31310-d634649-Reviews-La_Quinta_Inn_Suites_Phoenix_I_10_West-Phoenix_Arizona.html\n",
      "**************************************************\n",
      "Holiday Inn Express Phoenix Airport (University Drive)\n",
      "http://www.tripadvisor.com/Hotel_Review-g31310-d75662-Reviews-Holiday_Inn_Express_Phoenix_Airport_University_Drive-Phoenix_Arizona.html\n",
      "**************************************************\n",
      "Hilton Garden Inn Phoenix Airport\n",
      "http://www.tripadvisor.com/Hotel_Review-g31310-d223035-Reviews-Hilton_Garden_Inn_Phoenix_Airport-Phoenix_Arizona.html\n",
      "**************************************************\n"
     ]
    }
   ],
   "source": [
    "hotel_names = []\n",
    "links = []\n",
    "\n",
    "for title in titles_div:\n",
    "    print(title.text)\n",
    "    hotel_names.append(title.text)\n",
    "    print(title.find_by_xpath('a')['href'])\n",
    "    links.append(title.find_by_xpath('a')['href'])\n",
    "    print('*'*50)"
   ]
  },
  {
   "cell_type": "code",
   "execution_count": 8,
   "metadata": {
    "collapsed": false,
    "scrolled": true
   },
   "outputs": [
    {
     "data": {
      "text/plain": [
       "[u'http://www.tripadvisor.com/Hotel_Review-g31310-d73905-Reviews-Wyndham_Garden_Phoenix_Midtown-Phoenix_Arizona.html',\n",
       " u'http://www.tripadvisor.com/Hotel_Review-g31310-d112178-Reviews-Arizona_Grand_Resort_Spa-Phoenix_Arizona.html',\n",
       " u'http://www.tripadvisor.com/Hotel_Review-g31310-d73957-Reviews-Pointe_Hilton_Squaw_Peak_Resort-Phoenix_Arizona.html',\n",
       " u'http://www.tripadvisor.com/Hotel_Review-g31310-d277997-Reviews-Pointe_Hilton_Tapatio_Cliffs_Resort-Phoenix_Arizona.html',\n",
       " u'http://www.tripadvisor.com/Hotel_Review-g31310-d115484-Reviews-Arizona_Biltmore_A_Waldorf_Astoria_Resort-Phoenix_Arizona.html',\n",
       " u'http://www.tripadvisor.com/Hotel_Review-g31310-d73943-Reviews-Royal_Palms_Resort_and_Spa-Phoenix_Arizona.html',\n",
       " u'http://www.tripadvisor.com/Hotel_Review-g31310-d223860-Reviews-JW_Marriott_Desert_Ridge_Resort_Spa_Phoenix-Phoenix_Arizona.html',\n",
       " u'http://www.tripadvisor.com/Hotel_Review-g31310-d286542-Reviews-Marriott_s_Canyon_Villas_at_Desert_Ridge-Phoenix_Arizona.html',\n",
       " u'http://www.tripadvisor.com/Hotel_Review-g31310-d2627745-Reviews-Hotel_Palomar_Phoenix_a_Kimpton_Hotel-Phoenix_Arizona.html',\n",
       " u'http://www.tripadvisor.com/Hotel_Review-g31310-d266322-Reviews-The_Clarendon_Hotel_and_Spa-Phoenix_Arizona.html',\n",
       " u'http://www.tripadvisor.com/Hotel_Review-g31310-d1200121-Reviews-Hampton_Inn_Suites_Phoenix_North_Happy_Valley-Phoenix_Arizona.html',\n",
       " u'http://www.tripadvisor.com/Hotel_Review-g31310-d1201061-Reviews-Homewood_Suites_Phoenix_North_Happy_Valley-Phoenix_Arizona.html',\n",
       " u'http://www.tripadvisor.com/Hotel_Review-g31310-d2015227-Reviews-Westin_Phoenix_Downtown-Phoenix_Arizona.html',\n",
       " u'http://www.tripadvisor.com/Hotel_Review-g31310-d218100-Reviews-Radisson_Hotel_Phoenix_North-Phoenix_Arizona.html',\n",
       " u'http://www.tripadvisor.com/Hotel_Review-g31310-d224250-Reviews-Embassy_Suites_by_Hilton_Phoenix_Scottsdale-Phoenix_Arizona.html',\n",
       " u'http://www.tripadvisor.com/Hotel_Review-g31310-d74626-Reviews-Legacy_Golf_Resort-Phoenix_Arizona.html',\n",
       " u'http://www.tripadvisor.com/Hotel_Review-g31310-d1147292-Reviews-Sheraton_Phoenix_Downtown_Hotel-Phoenix_Arizona.html',\n",
       " u'http://www.tripadvisor.com/Hotel_Review-g31310-d73855-Reviews-Hyatt_Regency_Phoenix-Phoenix_Arizona.html',\n",
       " u'http://www.tripadvisor.com/Hotel_Review-g31310-d73905-Reviews-Wyndham_Garden_Phoenix_Midtown-Phoenix_Arizona.html',\n",
       " u'http://www.tripadvisor.com/Hotel_Review-g31310-d74624-Reviews-Hampton_Inn_Phoenix_Biltmore-Phoenix_Arizona.html',\n",
       " u'http://www.tripadvisor.com/Hotel_Review-g31310-d112154-Reviews-Embassy_Suites_by_Hilton_Hotel_Phoenix_Biltmore-Phoenix_Arizona.html',\n",
       " u'http://www.tripadvisor.com/Hotel_Review-g31310-d1174692-Reviews-Aloft_Phoenix_Airport-Phoenix_Arizona.html',\n",
       " u'http://www.tripadvisor.com/Hotel_Review-g31310-d115482-Reviews-DoubleTree_Suites_by_Hilton_Hotel_Phoenix-Phoenix_Arizona.html',\n",
       " u'http://www.tripadvisor.com/Hotel_Review-g31310-d73706-Reviews-BEST_WESTERN_Airport_Inn-Phoenix_Arizona.html',\n",
       " u'http://www.tripadvisor.com/Hotel_Review-g31310-d73923-Reviews-Drury_Inn_Suites_Phoenix_Airport-Phoenix_Arizona.html',\n",
       " u'http://www.tripadvisor.com/Hotel_Review-g31310-d73739-Reviews-BEST_WESTERN_Innsuites_Phoenix_Biltmore-Phoenix_Arizona.html',\n",
       " u'http://www.tripadvisor.com/Hotel_Review-g31310-d224757-Reviews-Red_Roof_Inn_Phoenix_West-Phoenix_Arizona.html',\n",
       " u'http://www.tripadvisor.com/Hotel_Review-g31310-d224733-Reviews-Candlewood_Suites_Phoenix-Phoenix_Arizona.html',\n",
       " u'http://www.tripadvisor.com/Hotel_Review-g31310-d634649-Reviews-La_Quinta_Inn_Suites_Phoenix_I_10_West-Phoenix_Arizona.html',\n",
       " u'http://www.tripadvisor.com/Hotel_Review-g31310-d75662-Reviews-Holiday_Inn_Express_Phoenix_Airport_University_Drive-Phoenix_Arizona.html',\n",
       " u'http://www.tripadvisor.com/Hotel_Review-g31310-d223035-Reviews-Hilton_Garden_Inn_Phoenix_Airport-Phoenix_Arizona.html']"
      ]
     },
     "execution_count": 8,
     "metadata": {},
     "output_type": "execute_result"
    }
   ],
   "source": [
    "links"
   ]
  },
  {
   "cell_type": "markdown",
   "metadata": {},
   "source": [
    "## Now to scrape the reviews from a specific hotel"
   ]
  },
  {
   "cell_type": "code",
   "execution_count": 46,
   "metadata": {
    "collapsed": false
   },
   "outputs": [
    {
     "name": "stdout",
     "output_type": "stream",
     "text": [
      "http://www.tripadvisor.com/Hotel_Review-g31310-d73905-Reviews-Wyndham_Garden_Phoenix_Midtown-Phoenix_Arizona.html\n"
     ]
    }
   ],
   "source": [
    "print(links[0])"
   ]
  },
  {
   "cell_type": "code",
   "execution_count": 47,
   "metadata": {
    "collapsed": false
   },
   "outputs": [],
   "source": [
    "br.visit(links[0])"
   ]
  },
  {
   "cell_type": "code",
   "execution_count": 48,
   "metadata": {
    "collapsed": true
   },
   "outputs": [],
   "source": [
    "full_reviews = br.find_by_xpath('//div[contains(@class, \"reviewSelector\")]')"
   ]
  },
  {
   "cell_type": "code",
   "execution_count": 35,
   "metadata": {
    "collapsed": false
   },
   "outputs": [
    {
     "data": {
      "text/plain": [
       "[<splinter.driver.webdriver.WebDriverElement at 0x10993b6d0>,\n",
       " <splinter.driver.webdriver.WebDriverElement at 0x1099a4190>,\n",
       " <splinter.driver.webdriver.WebDriverElement at 0x1099a4250>,\n",
       " <splinter.driver.webdriver.WebDriverElement at 0x1099a42d0>,\n",
       " <splinter.driver.webdriver.WebDriverElement at 0x1099a4350>,\n",
       " <splinter.driver.webdriver.WebDriverElement at 0x1099a4910>,\n",
       " <splinter.driver.webdriver.WebDriverElement at 0x1099a4f10>,\n",
       " <splinter.driver.webdriver.WebDriverElement at 0x1099a4fd0>,\n",
       " <splinter.driver.webdriver.WebDriverElement at 0x1099a4ed0>,\n",
       " <splinter.driver.webdriver.WebDriverElement at 0x1099a4e50>]"
      ]
     },
     "execution_count": 35,
     "metadata": {},
     "output_type": "execute_result"
    }
   ],
   "source": [
    "full_reviews"
   ]
  },
  {
   "cell_type": "code",
   "execution_count": 36,
   "metadata": {
    "collapsed": true
   },
   "outputs": [],
   "source": [
    "fullrev = full_reviews[0]"
   ]
  },
  {
   "cell_type": "code",
   "execution_count": 37,
   "metadata": {
    "collapsed": false
   },
   "outputs": [
    {
     "data": {
      "text/plain": [
       "u'522gerald...\\nAlbuquerque, New Mexico'"
      ]
     },
     "execution_count": 37,
     "metadata": {},
     "output_type": "execute_result"
    }
   ],
   "source": [
    "fullrev.find_by_xpath('div/div[contains(@class, \"col1of2\")]/div[contains(@class, \"member_info\")]').text"
   ]
  },
  {
   "cell_type": "code",
   "execution_count": 38,
   "metadata": {
    "collapsed": true
   },
   "outputs": [],
   "source": [
    "member_info = fullrev.find_by_xpath('div/div[contains(@class, \"col1of2\")]/div[contains(@class, \"member_info\")]')"
   ]
  },
  {
   "cell_type": "code",
   "execution_count": 39,
   "metadata": {
    "collapsed": false
   },
   "outputs": [
    {
     "data": {
      "text/plain": [
       "u'522gerald...'"
      ]
     },
     "execution_count": 39,
     "metadata": {},
     "output_type": "execute_result"
    }
   ],
   "source": [
    "member_info.find_by_xpath('div/div[contains(@class, \"username mo\")]').text"
   ]
  },
  {
   "cell_type": "code",
   "execution_count": 16,
   "metadata": {
    "collapsed": false
   },
   "outputs": [],
   "source": [
    "review = fullrev.find_by_xpath('div/div[@class=\"col2of2\"]/div[@class=\"innerBubble\"]')"
   ]
  },
  {
   "cell_type": "code",
   "execution_count": 17,
   "metadata": {
    "collapsed": false
   },
   "outputs": [
    {
     "data": {
      "text/plain": [
       "u'House keeping was very good. General cleanliness of the...'"
      ]
     },
     "execution_count": 17,
     "metadata": {},
     "output_type": "execute_result"
    }
   ],
   "source": [
    "review.find_by_xpath('div/div[contains(@class, \"quote\")]').text.strip()[1:-1]"
   ]
  },
  {
   "cell_type": "code",
   "execution_count": 18,
   "metadata": {
    "collapsed": false
   },
   "outputs": [
    {
     "data": {
      "text/plain": [
       "u'4'"
      ]
     },
     "execution_count": 18,
     "metadata": {},
     "output_type": "execute_result"
    }
   ],
   "source": [
    "review.find_by_xpath('div/div[contains(@class, \"rating\")]/span/img')['alt'].split(' ')[0]"
   ]
  },
  {
   "cell_type": "code",
   "execution_count": 19,
   "metadata": {
    "collapsed": false
   },
   "outputs": [
    {
     "data": {
      "text/plain": [
       "u'September 25, 2015'"
      ]
     },
     "execution_count": 19,
     "metadata": {},
     "output_type": "execute_result"
    }
   ],
   "source": [
    "review.find_by_xpath('div/div[contains(@class, \"rating\")]/span[contains(@class, \"ratingDate\")]')['title']"
   ]
  },
  {
   "cell_type": "code",
   "execution_count": 20,
   "metadata": {
    "collapsed": false
   },
   "outputs": [
    {
     "data": {
      "text/plain": [
       "u'House keeping was very good. General cleanliness of the room was very good. It was a little overloaded with furniture, but the size of the room was very good, plenty of lighting, heating and cooling'"
      ]
     },
     "execution_count": 20,
     "metadata": {},
     "output_type": "execute_result"
    }
   ],
   "source": [
    "review.find_by_xpath('div/div[contains(@class, \"entry\")]').text.strip().replace(\"\\n\", \"\")"
   ]
  },
  {
   "cell_type": "code",
   "execution_count": 21,
   "metadata": {
    "collapsed": false
   },
   "outputs": [
    {
     "data": {
      "text/plain": [
       "u'review_313650991'"
      ]
     },
     "execution_count": 21,
     "metadata": {},
     "output_type": "execute_result"
    }
   ],
   "source": [
    "fullrev['id']"
   ]
  },
  {
   "cell_type": "code",
   "execution_count": 22,
   "metadata": {
    "collapsed": false
   },
   "outputs": [
    {
     "data": {
      "text/plain": [
       "[<splinter.driver.webdriver.WebDriverElement at 0x102e88ad0>]"
      ]
     },
     "execution_count": 22,
     "metadata": {},
     "output_type": "execute_result"
    }
   ],
   "source": [
    "br.find_by_xpath('//a[contains(@class, \"next\")]')"
   ]
  },
  {
   "cell_type": "code",
   "execution_count": 23,
   "metadata": {
    "collapsed": false
   },
   "outputs": [
    {
     "data": {
      "text/plain": [
       "True"
      ]
     },
     "execution_count": 23,
     "metadata": {},
     "output_type": "execute_result"
    }
   ],
   "source": [
    "len(br.find_by_xpath('//a[contains(@class, \"next\")]')) > 0"
   ]
  },
  {
   "cell_type": "code",
   "execution_count": 24,
   "metadata": {
    "collapsed": false
   },
   "outputs": [
    {
     "data": {
      "text/plain": [
       "u'http://www.tripadvisor.com/Hotel_Review-g31310-d73905-Reviews-or10-Wyndham_Garden_Phoenix_Midtown-Phoenix_Arizona.html#REVIEWS'"
      ]
     },
     "execution_count": 24,
     "metadata": {},
     "output_type": "execute_result"
    }
   ],
   "source": [
    "br.find_by_xpath('//a[contains(@class, \"next\")]')['href']"
   ]
  },
  {
   "cell_type": "markdown",
   "metadata": {},
   "source": [
    "#### Extract Hotel Address, City, State, Zip"
   ]
  },
  {
   "cell_type": "code",
   "execution_count": 62,
   "metadata": {
    "collapsed": false
   },
   "outputs": [
    {
     "data": {
      "text/plain": [
       "u'3600 N. Second Ave.'"
      ]
     },
     "execution_count": 62,
     "metadata": {},
     "output_type": "execute_result"
    }
   ],
   "source": [
    "hotel_address = br.find_by_xpath('//span[contains(@class, \"street-address\")]').text\n",
    "hotel_address"
   ]
  },
  {
   "cell_type": "code",
   "execution_count": 63,
   "metadata": {
    "collapsed": false
   },
   "outputs": [
    {
     "data": {
      "text/plain": [
       "u'Phoenix'"
      ]
     },
     "execution_count": 63,
     "metadata": {},
     "output_type": "execute_result"
    }
   ],
   "source": [
    "#city\n",
    "hotel_city = br.find_by_xpath('//span[contains(@property, \"addressLocality\")]').text\n",
    "hotel_city"
   ]
  },
  {
   "cell_type": "code",
   "execution_count": 64,
   "metadata": {
    "collapsed": false
   },
   "outputs": [
    {
     "data": {
      "text/plain": [
       "u'AZ'"
      ]
     },
     "execution_count": 64,
     "metadata": {},
     "output_type": "execute_result"
    }
   ],
   "source": [
    "#state\n",
    "hotel_state = br.find_by_xpath('//span[contains(@property, \"addressRegion\")]').text\n",
    "hotel_state"
   ]
  },
  {
   "cell_type": "code",
   "execution_count": 65,
   "metadata": {
    "collapsed": false
   },
   "outputs": [
    {
     "data": {
      "text/plain": [
       "u'85013'"
      ]
     },
     "execution_count": 65,
     "metadata": {},
     "output_type": "execute_result"
    }
   ],
   "source": [
    "#zip code\n",
    "hotel_zip = br.find_by_xpath('//span[contains(@property, \"postalCode\")]').text\n",
    "hotel_zip"
   ]
  },
  {
   "cell_type": "code",
   "execution_count": 25,
   "metadata": {
    "collapsed": false,
    "scrolled": true
   },
   "outputs": [
    {
     "name": "stdout",
     "output_type": "stream",
     "text": [
      "Username: 522gerald...\n",
      "Location: Albuquerque, New Mexico\n",
      "full review_id: review_313650991\n",
      "review_id: 313650991\n",
      "Title: House keeping was very good. General cleanliness of the...\n",
      "Rating: 4\n",
      "Date: September 25, 2015\n",
      "Review:\n",
      "House keeping was very good. General cleanliness of the room was very good. It was a little overloaded with furniture, but the size of the room was very good, plenty of lighting, heating and cooling\n",
      "**************************************************\n",
      "Username: shalom602\n",
      "Location: Phoenix, Arizona\n",
      "full review_id: review_313434796\n",
      "review_id: 313434796\n",
      "Title: private event\n",
      "Rating: 5\n",
      "Date: September 25, 2015\n",
      "Review:\n",
      "For the past 4 years i have been staying at the WYNDHAM GARDEN PHOENIX MIDTOWN hotel and cannot express how satisfied I am with the hotel. Our organization hosts an event every year around the same time and host for about 300 people and this year and staff really exceled. I want to thank Sam for his hard work, and...More\n",
      "**************************************************\n",
      "Username: J4522PHemmat\n",
      "Location: Keams Canyon, Arizona\n",
      "full review_id: review_313408050\n",
      "review_id: 313408050\n",
      "Title: Business\n",
      "Rating: 3\n",
      "Date: September 24, 2015\n",
      "Review:\n",
      "Stay was ok. Wouldn't say it was great. At time of booking hotel didn't tell me about a deposit per room, upset that deposit had to come from personal account. Hopefully it was refunded back.\n",
      "**************************************************\n",
      "Username: Tina R\n",
      "Location: Tucson\n",
      "full review_id: review_313386244\n",
      "review_id: 313386244\n",
      "Title: Sad workout facilities\n",
      "Rating: 3\n",
      "Date: September 24, 2015\n",
      "Review:\n",
      "Room was comfortable, although I had to request to have a fridge and getting the bed to adjust (sleep number) was a bit difficult since the buttons seemed to be pretty worn, breakfast was pretty decent, staff was friendly. Wifi was not so great, kept getting kicked off and then very slow when I did get connected. Gym facilities were...More\n",
      "**************************************************\n",
      "Username: John C\n",
      "Location: Derbyshire, United Kingdom\n",
      "full review_id: review_313022540\n",
      "review_id: 313022540\n",
      "Title: Great staff\n",
      "Rating: 5\n",
      "Date: September 23, 2015\n",
      "Review:\n",
      "First time in phoenix, the hotel made my stay very pleasant. every thing nice and clean, staff very helpful and nice would recommend to any one. the location is good as good is very near the light rail which makes travel very easy. there is a good restaurant and bar on site.\n",
      "**************************************************\n",
      "Username: Y B\n",
      "Location: Houston\n",
      "full review_id: review_312707081\n",
      "review_id: 312707081\n",
      "Title: Nice hotel close to downtown\n",
      "Rating: 5\n",
      "Date: September 22, 2015\n",
      "Review:\n",
      "Staff and hotel was great as a whole. Wifi worked great, breakfast was wonderful, beds were comfortable and hotel is easy to get to from the airport via light rail. Would definitely stay again anytime\n",
      "**************************************************\n",
      "Username: tww7374\n",
      "Location: Winter Haven, Florida\n",
      "full review_id: review_312654918\n",
      "review_id: 312654918\n",
      "Title: Phoenix friends visit\n",
      "Rating: 5\n",
      "Date: September 22, 2015\n",
      "Review:\n",
      "I have stayed at this hotel several times before and will continue to use it. Very good location. Accessible to metro. Little old but clean rooms friendly staff and decent room rates. Will stay here again when I am in Phoenix.\n",
      "**************************************************\n",
      "Username: fishnerd\n",
      "Location: san jose\n",
      "full review_id: review_312545696\n",
      "review_id: 312545696\n",
      "Title: Great for the price\n",
      "Rating: 4\n",
      "Date: September 22, 2015\n",
      "Review:\n",
      "I was in Arizona because of a family medical emergency and was looking for a reasonabley priced place to stay close to the hospital. I stayed 6 nights. The room was fine, and nice to have a fridge and microwave. It could have used a few more electrical outlets for charging electronics. Uber fares to the Banner Good Sam hospital...More\n",
      "**************************************************\n",
      "Username: risher70\n",
      "Location: Missouri\n",
      "full review_id: review_311911568\n",
      "review_id: 311911568\n",
      "Title: A little disappointed\n",
      "Rating: 3\n",
      "Date: September 19, 2015\n",
      "Review:\n",
      "I was a little disappointed. I expected more out of a Wyndham property. I thought the desk was not very helpful. The sleep number bed didn't work. I think the device needed replaced or batteries. That was not a big deal. The pool water stunk. The room was clean. I didn't feel like the hotel was in the best of...More\n",
      "**************************************************\n",
      "Username: B5881SEsandrac\n",
      "Location: Los Ranchos de Albuquerque, New Mexico\n",
      "full review_id: review_311678108\n",
      "review_id: 311678108\n",
      "Title: Sports vacation\n",
      "Rating: 5\n",
      "Date: September 18, 2015\n",
      "Review:\n",
      "Great location, you can enjoy the hotel accommodations as well as the restaurant and lounge located in the lobby. Staff are great, rooms are clean. There's a Walgreens on the corner for any needs including alcohol and prepared foods. The valley metro will take you downtown where the basketball arena and baseball stadium are located. It's $4.00 for a one...More\n",
      "**************************************************\n"
     ]
    }
   ],
   "source": [
    "for fullrev in full_reviews:\n",
    "    # user name:\n",
    "    member_info = fullrev.find_by_xpath('div/div[contains(@class, \"col1of2\")]/div[contains(@class, \"member_info\")]')\n",
    "    usrnm = member_info.find_by_xpath('div/div[contains(@class, \"username mo\")]')\n",
    "    review = fullrev.find_by_xpath('div/div[@class=\"col2of2\"]/div[@class=\"innerBubble\"]')[0]\n",
    "    title = review.find_by_xpath('div/div[contains(@class, \"quote\")]').text.strip()[1:-1]\n",
    "    rating = review.find_by_xpath('div/div[contains(@class, \"rating\")]/span/img')['alt'].split(' ')[0]\n",
    "    date = review.find_by_xpath('div/div[contains(@class, \"rating\")]/span[contains(@class, \"ratingDate\")]')['title']\n",
    "    rev = review.find_by_xpath('div/div[contains(@class, \"entry\")]').text.strip().replace(\"\\n\", \"\")\n",
    "    if len(usrnm) > 0:\n",
    "        #location = member_info.xpath('div[1]')[0].text_content()\n",
    "        print('Username: {}'.format(str(usrnm[0].text).strip()))\n",
    "    else:\n",
    "        print('Username: A Trip Advisor Member')\n",
    "    \n",
    "    location = member_info.find_by_xpath('div[contains(@class, \"location\")]')\n",
    "    if len(location) > 0:\n",
    "        print('Location: {}'.format(str(location[0].text).strip()))\n",
    "    else:\n",
    "        print('Location: ')\n",
    "    \n",
    "    print('full review_id: {}'.format(fullrev['id']))\n",
    "    try:\n",
    "        rev_id = re.search('review_(\\d+)$', fullrev['id']).group(1)\n",
    "    except AttributeError:\n",
    "        rev_id = ''\n",
    "\n",
    "    print('review_id: {}'.format(rev_id))\n",
    "    print('Title: {}'.format(title))\n",
    "    print('Rating: {}'.format(rating))\n",
    "    print('Date: {}'.format(date))\n",
    "    print('Review:')\n",
    "    print(rev)\n",
    "    print('*'*50)\n"
   ]
  },
  {
   "cell_type": "code",
   "execution_count": 26,
   "metadata": {
    "collapsed": true
   },
   "outputs": [],
   "source": [
    "def return_results(url, page):\n",
    "    br.visit(url)\n",
    "    full_reviews = br.find_by_xpath('//div[contains(@class, \"reviewSelector\")]')\n",
    "\n",
    "    page_usernames = []\n",
    "    page_locations = []\n",
    "    page_titles = []\n",
    "    page_ratings = []\n",
    "    page_dates = []\n",
    "    page_reviews = []\n",
    "    page_review_ids = []\n",
    "\n",
    "    for fullrev in full_reviews:\n",
    "        # user name:\n",
    "        member_info = fullrev.find_by_xpath('div/div[contains(@class, \"col1of2\")]/div[contains(@class, \"member_info\")]')\n",
    "        usrnm = member_info.find_by_xpath('div/div[contains(@class, \"username mo\")]')\n",
    "        review = fullrev.find_by_xpath('div/div[@class=\"col2of2\"]/div[@class=\"innerBubble\"]')[0]\n",
    "        title = review.find_by_xpath('div/div[contains(@class, \"quote\")]').text.strip()[1:-1]\n",
    "        rating = review.find_by_xpath('div/div[contains(@class, \"rating\")]/span/img')['alt'].split(' ')[0]\n",
    "        date = review.find_by_xpath('div/div[contains(@class, \"rating\")]/span[contains(@class, \"ratingDate\")]')['title']\n",
    "        rev = review.find_by_xpath('div/div[contains(@class, \"entry\")]').text.strip().replace(\"\\n\", \"\")\n",
    "        if len(usrnm) > 0:\n",
    "            username = str(usrnm[0].text).strip()\n",
    "            print('Username: {}'.format(username))\n",
    "        else:\n",
    "            print('Username: A Trip Advisor Member')\n",
    "\n",
    "        locationel = member_info.find_by_xpath('div[contains(@class, \"location\")]')\n",
    "        if len(locationel) > 0:\n",
    "            location = str(locationel[0].text).strip()\n",
    "            print('Location: {}'.format(location))\n",
    "        else:\n",
    "            location = ''\n",
    "            print('Location: ')\n",
    "\n",
    "        print('full review_id: {}'.format(fullrev['id']))\n",
    "        try:\n",
    "            rev_id = re.search('review_(\\d+)$', fullrev['id']).group(1)\n",
    "        except AttributeError:\n",
    "            rev_id = ''\n",
    "\n",
    "#         print('review_id: {}'.format(rev_id))\n",
    "#         print('Title: {}'.format(title))\n",
    "#         print('Rating: {}'.format(rating))\n",
    "#         print('Date: {}'.format(date))\n",
    "#         print('Review:')\n",
    "#        print(rev)\n",
    "#        print('*'*50)\n",
    "\n",
    "        page_usernames.append(username)\n",
    "        page_locations.append(location)\n",
    "        page_titles.append(title)\n",
    "        page_ratings.append(ratings)\n",
    "        page_dates.append(date)\n",
    "        page_reviews.append(rev)\n",
    "        page_review_ids.append(rev_id)\n",
    "\n",
    "    if len(br.find_by_xpath('//a[contains(@class, \"next\")]')) > 0:\n",
    "        url = br.find_by_xpath('//a[contains(@class, \"next\")]')['href']\n",
    "        more_reviews = True\n",
    "        page += 1\n",
    "#        print('url and page updated.')\n",
    "    else:\n",
    "        more_reviews = False\n",
    "    \n",
    "    ret_dict = {'usrnms': page_usernames,\n",
    "                'locs': page_locations,\n",
    "                'ttls': page_titles,\n",
    "                'rtngs': page_ratings,\n",
    "                'dts': page_dates,\n",
    "                'rvws': page_reviews,\n",
    "                'revids': page_review_ids,\n",
    "               'url': url,\n",
    "               'more_reviews': more_reviews,\n",
    "               'page': page}\n",
    "    return ret_dict\n"
   ]
  },
  {
   "cell_type": "code",
   "execution_count": 30,
   "metadata": {
    "collapsed": false,
    "scrolled": true
   },
   "outputs": [
    {
     "name": "stdout",
     "output_type": "stream",
     "text": [
      "**************************************************\n",
      "Now on page 1\n",
      "Username: 522gerald...\n",
      "Location: Albuquerque, New Mexico\n",
      "full review_id: review_313650991\n",
      "Username: shalom602\n",
      "Location: Phoenix, Arizona\n",
      "full review_id: review_313434796\n",
      "Username: J4522PHemmat\n",
      "Location: Keams Canyon, Arizona\n",
      "full review_id: review_313408050\n",
      "Username: Tina R\n",
      "Location: Tucson\n",
      "full review_id: review_313386244\n",
      "Username: John C\n",
      "Location: Derbyshire, United Kingdom\n",
      "full review_id: review_313022540\n",
      "Username: Y B\n",
      "Location: Houston\n",
      "full review_id: review_312707081\n",
      "Username: tww7374\n",
      "Location: Winter Haven, Florida\n",
      "full review_id: review_312654918\n",
      "Username: fishnerd\n",
      "Location: san jose\n",
      "full review_id: review_312545696\n",
      "Username: risher70\n",
      "Location: Missouri\n",
      "full review_id: review_311911568\n",
      "Username: B5881SEsandrac\n",
      "Location: Los Ranchos de Albuquerque, New Mexico\n",
      "full review_id: review_311678108\n",
      "['Albuquerque, New Mexico', 'Phoenix, Arizona', 'Keams Canyon, Arizona', 'Tucson', 'Derbyshire, United Kingdom', 'Houston', 'Winter Haven, Florida', 'san jose', 'Missouri', 'Los Ranchos de Albuquerque, New Mexico']\n",
      "[u'House keeping was very good. General cleanliness of the...', u'private event', u'Business', u'Sad workout facilities', u'Great staff', u'Nice hotel close to downtown', u'Phoenix friends visit', u'Great for the price', u'A little disappointed', u'Sports vacation']\n",
      "successfully completed page 2\n"
     ]
    }
   ],
   "source": [
    "idx = 0\n",
    "usernames = []\n",
    "locations = []\n",
    "titles = []\n",
    "ratings = []\n",
    "dates = []\n",
    "reviews = []\n",
    "review_ids = []\n",
    "\n",
    "columns = ['hotel_id',\n",
    "           'hotel_url',\n",
    "           'hotel_name',\n",
    "           'hotel_address',\n",
    "           'hotel_city',\n",
    "           'hotel_state',\n",
    "           'hotel_zip',\n",
    "           'hotel_location',\n",
    "           'hotel_rating',\n",
    "           'hotel_latitude',\n",
    "           'hotel_longitude',\n",
    "           'review_count',\n",
    "           'hotel_address',\n",
    "           'business_id',\n",
    "           'review_id',\n",
    "           'user_id',\n",
    "           'username',\n",
    "           'review_title',\n",
    "           'review_text',\n",
    "           'review_rating',\n",
    "           'review_date']\n",
    "\n",
    "bigdf = pd.DataFrame(columns=columns)\n",
    "\n",
    "url = links[idx]\n",
    "hotel_name = hotel_names[idx]\n",
    "\n",
    "more_reviews = True\n",
    "page = 1\n",
    "while more_reviews:\n",
    "    #print('*'*50)\n",
    "    print('*'*50)\n",
    "    print('Now on page {}'.format(page))\n",
    "    #print('*'*50)\n",
    "    \n",
    "    df = pd.DataFrame(columns=columns)\n",
    "\n",
    "    ret_dict = return_results(url, page)\n",
    "    print(ret_dict['locs'])\n",
    "    print(ret_dict['ttls'])\n",
    "    df['username'] = ret_dict['usrnms']\n",
    "    df['hotel_location'] = ret_dict['locs']\n",
    "    df['review_title'] = ret_dict['ttls']\n",
    "    df['review_rating'] = ret_dict['rtngs']\n",
    "    df['review_date'] = ret_dict['dts']\n",
    "    df['review_text'] = ret_dict['rvws']\n",
    "    df['review_id'] = ret_dict['revids']\n",
    "    df['hotel_name'] = hotel_name\n",
    "    df['hotel_url'] = url\n",
    "    url = ret_dict['url']\n",
    "    more_reviews = ret_dict['more_reviews']\n",
    "    page = ret_dict['page']\n",
    "    print('successfully completed page {}'.format(page))\n",
    "    bigdf = bigdf.append(df)\n",
    "    more_reviews = False\n"
   ]
  },
  {
   "cell_type": "code",
   "execution_count": 29,
   "metadata": {
    "collapsed": false
   },
   "outputs": [
    {
     "data": {
      "text/plain": [
       "[u'Wyndham Garden Phoenix Midtown',\n",
       " u'Arizona Grand Resort & Spa',\n",
       " u'Pointe Hilton Squaw Peak Resort',\n",
       " u'Pointe Hilton Tapatio Cliffs Resort',\n",
       " u'Arizona Biltmore, A Waldorf Astoria Resort',\n",
       " u'Royal Palms Resort and Spa',\n",
       " u'JW Marriott Desert Ridge Resort & Spa Phoenix',\n",
       " u\"Marriott's Canyon Villas at Desert Ridge\",\n",
       " u'Hotel Palomar Phoenix - a Kimpton Hotel',\n",
       " u'The Clarendon Hotel and Spa',\n",
       " u'Hampton Inn & Suites Phoenix North/Happy Valley',\n",
       " u'Homewood Suites Phoenix North - Happy Valley',\n",
       " u'Westin Phoenix Downtown',\n",
       " u'Radisson Hotel Phoenix North',\n",
       " u'Embassy Suites by Hilton Phoenix-Scottsdale',\n",
       " u'Legacy Golf Resort',\n",
       " u'Sheraton Phoenix Downtown Hotel',\n",
       " u'Hyatt Regency Phoenix',\n",
       " u'Wyndham Garden Phoenix Midtown',\n",
       " u'Hampton Inn Phoenix-Biltmore',\n",
       " u'Embassy Suites by Hilton Hotel Phoenix Biltmore',\n",
       " u'Aloft Phoenix-Airport',\n",
       " u'DoubleTree Suites by Hilton Hotel Phoenix',\n",
       " u'BEST WESTERN Airport Inn',\n",
       " u'Drury Inn & Suites Phoenix Airport',\n",
       " u'BEST WESTERN Innsuites Phoenix Biltmore',\n",
       " u'Red Roof Inn Phoenix West',\n",
       " u'Candlewood Suites Phoenix',\n",
       " u'La Quinta Inn & Suites Phoenix I-10 West',\n",
       " u'Holiday Inn Express Phoenix Airport (University Drive)',\n",
       " u'Hilton Garden Inn Phoenix Airport']"
      ]
     },
     "execution_count": 29,
     "metadata": {},
     "output_type": "execute_result"
    }
   ],
   "source": [
    "hotel_names"
   ]
  },
  {
   "cell_type": "code",
   "execution_count": 31,
   "metadata": {
    "collapsed": false
   },
   "outputs": [
    {
     "data": {
      "text/html": [
       "<div style=\"max-height:1000px;max-width:1500px;overflow:auto;\">\n",
       "<table border=\"1\" class=\"dataframe\">\n",
       "  <thead>\n",
       "    <tr style=\"text-align: right;\">\n",
       "      <th></th>\n",
       "      <th>hotel_id</th>\n",
       "      <th>hotel_url</th>\n",
       "      <th>hotel_name</th>\n",
       "      <th>hotel_address</th>\n",
       "      <th>hotel_city</th>\n",
       "      <th>hotel_state</th>\n",
       "      <th>hotel_location</th>\n",
       "      <th>hotel_rating</th>\n",
       "      <th>hotel_latitude</th>\n",
       "      <th>hotel_longitude</th>\n",
       "      <th>review_count</th>\n",
       "      <th>hotel_address</th>\n",
       "      <th>business_id</th>\n",
       "      <th>review_id</th>\n",
       "      <th>user_id</th>\n",
       "      <th>username</th>\n",
       "      <th>review_title</th>\n",
       "      <th>review_text</th>\n",
       "      <th>review_rating</th>\n",
       "      <th>review_date</th>\n",
       "    </tr>\n",
       "  </thead>\n",
       "  <tbody>\n",
       "    <tr>\n",
       "      <th>0</th>\n",
       "      <td>NaN</td>\n",
       "      <td>http://www.tripadvisor.com/Hotel_Review-g31310...</td>\n",
       "      <td>Wyndham Garden Phoenix Midtown</td>\n",
       "      <td>NaN</td>\n",
       "      <td>NaN</td>\n",
       "      <td>NaN</td>\n",
       "      <td>Albuquerque, New Mexico</td>\n",
       "      <td>NaN</td>\n",
       "      <td>NaN</td>\n",
       "      <td>NaN</td>\n",
       "      <td>NaN</td>\n",
       "      <td>NaN</td>\n",
       "      <td>NaN</td>\n",
       "      <td>313650991</td>\n",
       "      <td>NaN</td>\n",
       "      <td>522gerald...</td>\n",
       "      <td>House keeping was very good. General cleanline...</td>\n",
       "      <td>House keeping was very good. General cleanline...</td>\n",
       "      <td>[]</td>\n",
       "      <td>September 25, 2015</td>\n",
       "    </tr>\n",
       "    <tr>\n",
       "      <th>1</th>\n",
       "      <td>NaN</td>\n",
       "      <td>http://www.tripadvisor.com/Hotel_Review-g31310...</td>\n",
       "      <td>Wyndham Garden Phoenix Midtown</td>\n",
       "      <td>NaN</td>\n",
       "      <td>NaN</td>\n",
       "      <td>NaN</td>\n",
       "      <td>Phoenix, Arizona</td>\n",
       "      <td>NaN</td>\n",
       "      <td>NaN</td>\n",
       "      <td>NaN</td>\n",
       "      <td>NaN</td>\n",
       "      <td>NaN</td>\n",
       "      <td>NaN</td>\n",
       "      <td>313434796</td>\n",
       "      <td>NaN</td>\n",
       "      <td>shalom602</td>\n",
       "      <td>private event</td>\n",
       "      <td>For the past 4 years i have been staying at th...</td>\n",
       "      <td>[]</td>\n",
       "      <td>September 25, 2015</td>\n",
       "    </tr>\n",
       "    <tr>\n",
       "      <th>2</th>\n",
       "      <td>NaN</td>\n",
       "      <td>http://www.tripadvisor.com/Hotel_Review-g31310...</td>\n",
       "      <td>Wyndham Garden Phoenix Midtown</td>\n",
       "      <td>NaN</td>\n",
       "      <td>NaN</td>\n",
       "      <td>NaN</td>\n",
       "      <td>Keams Canyon, Arizona</td>\n",
       "      <td>NaN</td>\n",
       "      <td>NaN</td>\n",
       "      <td>NaN</td>\n",
       "      <td>NaN</td>\n",
       "      <td>NaN</td>\n",
       "      <td>NaN</td>\n",
       "      <td>313408050</td>\n",
       "      <td>NaN</td>\n",
       "      <td>J4522PHemmat</td>\n",
       "      <td>Business</td>\n",
       "      <td>Stay was ok. Wouldn't say it was great. At tim...</td>\n",
       "      <td>[]</td>\n",
       "      <td>September 24, 2015</td>\n",
       "    </tr>\n",
       "    <tr>\n",
       "      <th>3</th>\n",
       "      <td>NaN</td>\n",
       "      <td>http://www.tripadvisor.com/Hotel_Review-g31310...</td>\n",
       "      <td>Wyndham Garden Phoenix Midtown</td>\n",
       "      <td>NaN</td>\n",
       "      <td>NaN</td>\n",
       "      <td>NaN</td>\n",
       "      <td>Tucson</td>\n",
       "      <td>NaN</td>\n",
       "      <td>NaN</td>\n",
       "      <td>NaN</td>\n",
       "      <td>NaN</td>\n",
       "      <td>NaN</td>\n",
       "      <td>NaN</td>\n",
       "      <td>313386244</td>\n",
       "      <td>NaN</td>\n",
       "      <td>Tina R</td>\n",
       "      <td>Sad workout facilities</td>\n",
       "      <td>Room was comfortable, although I had to reques...</td>\n",
       "      <td>[]</td>\n",
       "      <td>September 24, 2015</td>\n",
       "    </tr>\n",
       "    <tr>\n",
       "      <th>4</th>\n",
       "      <td>NaN</td>\n",
       "      <td>http://www.tripadvisor.com/Hotel_Review-g31310...</td>\n",
       "      <td>Wyndham Garden Phoenix Midtown</td>\n",
       "      <td>NaN</td>\n",
       "      <td>NaN</td>\n",
       "      <td>NaN</td>\n",
       "      <td>Derbyshire, United Kingdom</td>\n",
       "      <td>NaN</td>\n",
       "      <td>NaN</td>\n",
       "      <td>NaN</td>\n",
       "      <td>NaN</td>\n",
       "      <td>NaN</td>\n",
       "      <td>NaN</td>\n",
       "      <td>313022540</td>\n",
       "      <td>NaN</td>\n",
       "      <td>John C</td>\n",
       "      <td>Great staff</td>\n",
       "      <td>First time in phoenix, the hotel made my stay ...</td>\n",
       "      <td>[]</td>\n",
       "      <td>September 23, 2015</td>\n",
       "    </tr>\n",
       "    <tr>\n",
       "      <th>5</th>\n",
       "      <td>NaN</td>\n",
       "      <td>http://www.tripadvisor.com/Hotel_Review-g31310...</td>\n",
       "      <td>Wyndham Garden Phoenix Midtown</td>\n",
       "      <td>NaN</td>\n",
       "      <td>NaN</td>\n",
       "      <td>NaN</td>\n",
       "      <td>Houston</td>\n",
       "      <td>NaN</td>\n",
       "      <td>NaN</td>\n",
       "      <td>NaN</td>\n",
       "      <td>NaN</td>\n",
       "      <td>NaN</td>\n",
       "      <td>NaN</td>\n",
       "      <td>312707081</td>\n",
       "      <td>NaN</td>\n",
       "      <td>Y B</td>\n",
       "      <td>Nice hotel close to downtown</td>\n",
       "      <td>Staff and hotel was great as a whole. Wifi wor...</td>\n",
       "      <td>[]</td>\n",
       "      <td>September 22, 2015</td>\n",
       "    </tr>\n",
       "    <tr>\n",
       "      <th>6</th>\n",
       "      <td>NaN</td>\n",
       "      <td>http://www.tripadvisor.com/Hotel_Review-g31310...</td>\n",
       "      <td>Wyndham Garden Phoenix Midtown</td>\n",
       "      <td>NaN</td>\n",
       "      <td>NaN</td>\n",
       "      <td>NaN</td>\n",
       "      <td>Winter Haven, Florida</td>\n",
       "      <td>NaN</td>\n",
       "      <td>NaN</td>\n",
       "      <td>NaN</td>\n",
       "      <td>NaN</td>\n",
       "      <td>NaN</td>\n",
       "      <td>NaN</td>\n",
       "      <td>312654918</td>\n",
       "      <td>NaN</td>\n",
       "      <td>tww7374</td>\n",
       "      <td>Phoenix friends visit</td>\n",
       "      <td>I have stayed at this hotel several times befo...</td>\n",
       "      <td>[]</td>\n",
       "      <td>September 22, 2015</td>\n",
       "    </tr>\n",
       "    <tr>\n",
       "      <th>7</th>\n",
       "      <td>NaN</td>\n",
       "      <td>http://www.tripadvisor.com/Hotel_Review-g31310...</td>\n",
       "      <td>Wyndham Garden Phoenix Midtown</td>\n",
       "      <td>NaN</td>\n",
       "      <td>NaN</td>\n",
       "      <td>NaN</td>\n",
       "      <td>san jose</td>\n",
       "      <td>NaN</td>\n",
       "      <td>NaN</td>\n",
       "      <td>NaN</td>\n",
       "      <td>NaN</td>\n",
       "      <td>NaN</td>\n",
       "      <td>NaN</td>\n",
       "      <td>312545696</td>\n",
       "      <td>NaN</td>\n",
       "      <td>fishnerd</td>\n",
       "      <td>Great for the price</td>\n",
       "      <td>I was in Arizona because of a family medical e...</td>\n",
       "      <td>[]</td>\n",
       "      <td>September 22, 2015</td>\n",
       "    </tr>\n",
       "    <tr>\n",
       "      <th>8</th>\n",
       "      <td>NaN</td>\n",
       "      <td>http://www.tripadvisor.com/Hotel_Review-g31310...</td>\n",
       "      <td>Wyndham Garden Phoenix Midtown</td>\n",
       "      <td>NaN</td>\n",
       "      <td>NaN</td>\n",
       "      <td>NaN</td>\n",
       "      <td>Missouri</td>\n",
       "      <td>NaN</td>\n",
       "      <td>NaN</td>\n",
       "      <td>NaN</td>\n",
       "      <td>NaN</td>\n",
       "      <td>NaN</td>\n",
       "      <td>NaN</td>\n",
       "      <td>311911568</td>\n",
       "      <td>NaN</td>\n",
       "      <td>risher70</td>\n",
       "      <td>A little disappointed</td>\n",
       "      <td>I was a little disappointed. I expected more o...</td>\n",
       "      <td>[]</td>\n",
       "      <td>September 19, 2015</td>\n",
       "    </tr>\n",
       "    <tr>\n",
       "      <th>9</th>\n",
       "      <td>NaN</td>\n",
       "      <td>http://www.tripadvisor.com/Hotel_Review-g31310...</td>\n",
       "      <td>Wyndham Garden Phoenix Midtown</td>\n",
       "      <td>NaN</td>\n",
       "      <td>NaN</td>\n",
       "      <td>NaN</td>\n",
       "      <td>Los Ranchos de Albuquerque, New Mexico</td>\n",
       "      <td>NaN</td>\n",
       "      <td>NaN</td>\n",
       "      <td>NaN</td>\n",
       "      <td>NaN</td>\n",
       "      <td>NaN</td>\n",
       "      <td>NaN</td>\n",
       "      <td>311678108</td>\n",
       "      <td>NaN</td>\n",
       "      <td>B5881SEsandrac</td>\n",
       "      <td>Sports vacation</td>\n",
       "      <td>Great location, you can enjoy the hotel accomm...</td>\n",
       "      <td>[]</td>\n",
       "      <td>September 18, 2015</td>\n",
       "    </tr>\n",
       "  </tbody>\n",
       "</table>\n",
       "</div>"
      ],
      "text/plain": [
       "  hotel_id                                          hotel_url  \\\n",
       "0      NaN  http://www.tripadvisor.com/Hotel_Review-g31310...   \n",
       "1      NaN  http://www.tripadvisor.com/Hotel_Review-g31310...   \n",
       "2      NaN  http://www.tripadvisor.com/Hotel_Review-g31310...   \n",
       "3      NaN  http://www.tripadvisor.com/Hotel_Review-g31310...   \n",
       "4      NaN  http://www.tripadvisor.com/Hotel_Review-g31310...   \n",
       "5      NaN  http://www.tripadvisor.com/Hotel_Review-g31310...   \n",
       "6      NaN  http://www.tripadvisor.com/Hotel_Review-g31310...   \n",
       "7      NaN  http://www.tripadvisor.com/Hotel_Review-g31310...   \n",
       "8      NaN  http://www.tripadvisor.com/Hotel_Review-g31310...   \n",
       "9      NaN  http://www.tripadvisor.com/Hotel_Review-g31310...   \n",
       "\n",
       "                       hotel_name hotel_address hotel_city hotel_state  \\\n",
       "0  Wyndham Garden Phoenix Midtown           NaN        NaN         NaN   \n",
       "1  Wyndham Garden Phoenix Midtown           NaN        NaN         NaN   \n",
       "2  Wyndham Garden Phoenix Midtown           NaN        NaN         NaN   \n",
       "3  Wyndham Garden Phoenix Midtown           NaN        NaN         NaN   \n",
       "4  Wyndham Garden Phoenix Midtown           NaN        NaN         NaN   \n",
       "5  Wyndham Garden Phoenix Midtown           NaN        NaN         NaN   \n",
       "6  Wyndham Garden Phoenix Midtown           NaN        NaN         NaN   \n",
       "7  Wyndham Garden Phoenix Midtown           NaN        NaN         NaN   \n",
       "8  Wyndham Garden Phoenix Midtown           NaN        NaN         NaN   \n",
       "9  Wyndham Garden Phoenix Midtown           NaN        NaN         NaN   \n",
       "\n",
       "                           hotel_location hotel_rating hotel_latitude  \\\n",
       "0                 Albuquerque, New Mexico          NaN            NaN   \n",
       "1                        Phoenix, Arizona          NaN            NaN   \n",
       "2                   Keams Canyon, Arizona          NaN            NaN   \n",
       "3                                  Tucson          NaN            NaN   \n",
       "4              Derbyshire, United Kingdom          NaN            NaN   \n",
       "5                                 Houston          NaN            NaN   \n",
       "6                   Winter Haven, Florida          NaN            NaN   \n",
       "7                                san jose          NaN            NaN   \n",
       "8                                Missouri          NaN            NaN   \n",
       "9  Los Ranchos de Albuquerque, New Mexico          NaN            NaN   \n",
       "\n",
       "  hotel_longitude review_count hotel_address business_id  review_id user_id  \\\n",
       "0             NaN          NaN           NaN         NaN  313650991     NaN   \n",
       "1             NaN          NaN           NaN         NaN  313434796     NaN   \n",
       "2             NaN          NaN           NaN         NaN  313408050     NaN   \n",
       "3             NaN          NaN           NaN         NaN  313386244     NaN   \n",
       "4             NaN          NaN           NaN         NaN  313022540     NaN   \n",
       "5             NaN          NaN           NaN         NaN  312707081     NaN   \n",
       "6             NaN          NaN           NaN         NaN  312654918     NaN   \n",
       "7             NaN          NaN           NaN         NaN  312545696     NaN   \n",
       "8             NaN          NaN           NaN         NaN  311911568     NaN   \n",
       "9             NaN          NaN           NaN         NaN  311678108     NaN   \n",
       "\n",
       "         username                                       review_title  \\\n",
       "0    522gerald...  House keeping was very good. General cleanline...   \n",
       "1       shalom602                                      private event   \n",
       "2    J4522PHemmat                                           Business   \n",
       "3          Tina R                             Sad workout facilities   \n",
       "4          John C                                        Great staff   \n",
       "5             Y B                       Nice hotel close to downtown   \n",
       "6         tww7374                              Phoenix friends visit   \n",
       "7        fishnerd                                Great for the price   \n",
       "8        risher70                              A little disappointed   \n",
       "9  B5881SEsandrac                                    Sports vacation   \n",
       "\n",
       "                                         review_text review_rating  \\\n",
       "0  House keeping was very good. General cleanline...            []   \n",
       "1  For the past 4 years i have been staying at th...            []   \n",
       "2  Stay was ok. Wouldn't say it was great. At tim...            []   \n",
       "3  Room was comfortable, although I had to reques...            []   \n",
       "4  First time in phoenix, the hotel made my stay ...            []   \n",
       "5  Staff and hotel was great as a whole. Wifi wor...            []   \n",
       "6  I have stayed at this hotel several times befo...            []   \n",
       "7  I was in Arizona because of a family medical e...            []   \n",
       "8  I was a little disappointed. I expected more o...            []   \n",
       "9  Great location, you can enjoy the hotel accomm...            []   \n",
       "\n",
       "          review_date  \n",
       "0  September 25, 2015  \n",
       "1  September 25, 2015  \n",
       "2  September 24, 2015  \n",
       "3  September 24, 2015  \n",
       "4  September 23, 2015  \n",
       "5  September 22, 2015  \n",
       "6  September 22, 2015  \n",
       "7  September 22, 2015  \n",
       "8  September 19, 2015  \n",
       "9  September 18, 2015  "
      ]
     },
     "execution_count": 31,
     "metadata": {},
     "output_type": "execute_result"
    }
   ],
   "source": [
    "df"
   ]
  },
  {
   "cell_type": "code",
   "execution_count": null,
   "metadata": {
    "collapsed": true
   },
   "outputs": [],
   "source": []
  }
 ],
 "metadata": {
  "kernelspec": {
   "display_name": "Python 2",
   "language": "python",
   "name": "python2"
  },
  "language_info": {
   "codemirror_mode": {
    "name": "ipython",
    "version": 2
   },
   "file_extension": ".py",
   "mimetype": "text/x-python",
   "name": "python",
   "nbconvert_exporter": "python",
   "pygments_lexer": "ipython2",
   "version": "2.7.10"
  }
 },
 "nbformat": 4,
 "nbformat_minor": 0
}
