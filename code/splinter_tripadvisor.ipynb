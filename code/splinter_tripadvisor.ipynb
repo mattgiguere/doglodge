{
 "cells": [
  {
   "cell_type": "code",
   "execution_count": 52,
   "metadata": {
    "collapsed": true
   },
   "outputs": [],
   "source": [
    "import pandas as pd\n",
    "import numpy as np\n",
    "from splinter.browser import Browser\n",
    "import re\n",
    "import time\n",
    "import connect_aws_db as cadb"
   ]
  },
  {
   "cell_type": "markdown",
   "metadata": {},
   "source": [
    "## Determine URL for Hotels in city of interest"
   ]
  },
  {
   "cell_type": "code",
   "execution_count": 163,
   "metadata": {
    "collapsed": true
   },
   "outputs": [],
   "source": [
    "city = 'new haven'\n",
    "state = 'ct'\n",
    "category = 'hotels'"
   ]
  },
  {
   "cell_type": "code",
   "execution_count": 164,
   "metadata": {
    "collapsed": true
   },
   "outputs": [],
   "source": [
    "br = Browser()"
   ]
  },
  {
   "cell_type": "code",
   "execution_count": 165,
   "metadata": {
    "collapsed": true
   },
   "outputs": [],
   "source": [
    "url = \"http://www.tripadvisor.com\""
   ]
  },
  {
   "cell_type": "code",
   "execution_count": 167,
   "metadata": {
    "collapsed": true
   },
   "outputs": [],
   "source": [
    "url = \"http://www.tripadvisor.com/Hotels-g33851-New_Haven_Connecticut-Hotels.html\""
   ]
  },
  {
   "cell_type": "code",
   "execution_count": 168,
   "metadata": {
    "collapsed": true
   },
   "outputs": [],
   "source": [
    "br.visit(url)"
   ]
  },
  {
   "cell_type": "code",
   "execution_count": 170,
   "metadata": {
    "collapsed": false
   },
   "outputs": [
    {
     "data": {
      "text/plain": [
       "[<splinter.driver.webdriver.WebDriverElement at 0x105c30fd0>]"
      ]
     },
     "execution_count": 170,
     "metadata": {},
     "output_type": "execute_result"
    }
   ],
   "source": [
    "loclist = br.find_by_xpath('//*[contains(@id, \"BREADCRUMBS\")]')\n",
    "loclist"
   ]
  },
  {
   "cell_type": "code",
   "execution_count": 176,
   "metadata": {
    "collapsed": false
   },
   "outputs": [
    {
     "data": {
      "text/plain": [
       "[u'United States', u'Connecticut (CT)', u'New Haven', u' New Haven Hotels']"
      ]
     },
     "execution_count": 176,
     "metadata": {},
     "output_type": "execute_result"
    }
   ],
   "source": [
    "locstring = loclist.text.split(u'\\u203a')\n",
    "locstring"
   ]
  },
  {
   "cell_type": "code",
   "execution_count": 185,
   "metadata": {
    "collapsed": false
   },
   "outputs": [
    {
     "data": {
      "text/plain": [
       "u'new haven'"
      ]
     },
     "execution_count": 185,
     "metadata": {},
     "output_type": "execute_result"
    }
   ],
   "source": [
    "city = locstring[2].lower()\n",
    "city"
   ]
  },
  {
   "cell_type": "code",
   "execution_count": 184,
   "metadata": {
    "collapsed": false
   },
   "outputs": [
    {
     "data": {
      "text/plain": [
       "u'ct'"
      ]
     },
     "execution_count": 184,
     "metadata": {},
     "output_type": "execute_result"
    }
   ],
   "source": [
    "state = re.findall('\\w+ \\(([A-Z][A-Z])\\)',locstring[1])[0].lower()\n",
    "state"
   ]
  },
  {
   "cell_type": "code",
   "execution_count": null,
   "metadata": {
    "collapsed": true
   },
   "outputs": [],
   "source": []
  },
  {
   "cell_type": "code",
   "execution_count": 156,
   "metadata": {
    "collapsed": true
   },
   "outputs": [],
   "source": [
    "search_box = br.find_by_xpath('//*[contains(@id, \"searchbox\")]')\n",
    "search_box.fill(city+', '+state)"
   ]
  },
  {
   "cell_type": "code",
   "execution_count": 162,
   "metadata": {
    "collapsed": false
   },
   "outputs": [
    {
     "data": {
      "text/plain": [
       "0.5260205066716485"
      ]
     },
     "execution_count": 162,
     "metadata": {},
     "output_type": "execute_result"
    }
   ],
   "source": [
    "np.random.uniform(0, 1)"
   ]
  },
  {
   "cell_type": "code",
   "execution_count": 135,
   "metadata": {
    "collapsed": false
   },
   "outputs": [
    {
     "data": {
      "text/plain": [
       "[<splinter.driver.webdriver.WebDriverElement at 0x105c30250>]"
      ]
     },
     "execution_count": 135,
     "metadata": {},
     "output_type": "execute_result"
    }
   ],
   "source": [
    "search_field = br.find_by_xpath('//*[contains(@id, \"GEO_SCOPED_SEARCH_INPUT\")]')\n",
    "search_field"
   ]
  },
  {
   "cell_type": "code",
   "execution_count": 138,
   "metadata": {
    "collapsed": true
   },
   "outputs": [],
   "source": [
    "search_field.fill(city+', '+state+'\\r')\n",
    "time.sleep(1)\n",
    "search_field.fill('\\n')"
   ]
  },
  {
   "cell_type": "code",
   "execution_count": 139,
   "metadata": {
    "collapsed": false
   },
   "outputs": [],
   "source": [
    "#br.find_by_xpath('//*[contains(@class, \"poi_overview_item\")]').click()"
   ]
  },
  {
   "cell_type": "code",
   "execution_count": 140,
   "metadata": {
    "collapsed": false
   },
   "outputs": [],
   "source": [
    "lookin_field = br.find_by_xpath('//*[contains(@id, \"mainSearch\")]')\n",
    "#lookin_field.click()"
   ]
  },
  {
   "cell_type": "code",
   "execution_count": 144,
   "metadata": {
    "collapsed": true
   },
   "outputs": [],
   "source": [
    "lookin_field.fill(category+'\\r')\n",
    "time.sleep(1)\n",
    "lookin_field.fill(category+'\\r')\n",
    "time.sleep(1)\n",
    "lookin_field.fill('\\r')"
   ]
  },
  {
   "cell_type": "code",
   "execution_count": null,
   "metadata": {
    "collapsed": true
   },
   "outputs": [],
   "source": []
  },
  {
   "cell_type": "markdown",
   "metadata": {},
   "source": [
    "## Get hotel data for given url"
   ]
  },
  {
   "cell_type": "code",
   "execution_count": 11,
   "metadata": {
    "collapsed": true
   },
   "outputs": [],
   "source": [
    "br = Browser()"
   ]
  },
  {
   "cell_type": "code",
   "execution_count": 12,
   "metadata": {
    "collapsed": true
   },
   "outputs": [],
   "source": [
    "url = \"http://www.tripadvisor.com/Hotels-g31310-Phoenix_Arizona-Hotels.html\""
   ]
  },
  {
   "cell_type": "code",
   "execution_count": 13,
   "metadata": {
    "collapsed": true
   },
   "outputs": [],
   "source": [
    "br.visit(url)"
   ]
  },
  {
   "cell_type": "code",
   "execution_count": 14,
   "metadata": {
    "collapsed": false
   },
   "outputs": [],
   "source": [
    "date_bar = br.find_by_xpath('//*[contains(@class, \"meta_date_wrapper\")]')\n",
    "cin_btn = date_bar.find_by_xpath('span[contains(@class, \"meta_date_field   check_in\")]/span')[0]"
   ]
  },
  {
   "cell_type": "code",
   "execution_count": 15,
   "metadata": {
    "collapsed": false
   },
   "outputs": [
    {
     "data": {
      "text/plain": [
       "<splinter.driver.webdriver.WebDriverElement at 0x10985c610>"
      ]
     },
     "execution_count": 15,
     "metadata": {},
     "output_type": "execute_result"
    }
   ],
   "source": [
    "cin_btn"
   ]
  },
  {
   "cell_type": "code",
   "execution_count": 16,
   "metadata": {
    "collapsed": true
   },
   "outputs": [],
   "source": [
    "cin_btn.click()"
   ]
  },
  {
   "cell_type": "code",
   "execution_count": 17,
   "metadata": {
    "collapsed": false
   },
   "outputs": [
    {
     "data": {
      "text/plain": [
       "<splinter.driver.webdriver.WebDriverElement at 0x1098cda90>"
      ]
     },
     "execution_count": 17,
     "metadata": {},
     "output_type": "execute_result"
    }
   ],
   "source": [
    "rightcal = br.find_by_xpath('//div[contains(@class, \"month\")]')[1]\n",
    "rightcal"
   ]
  },
  {
   "cell_type": "code",
   "execution_count": 18,
   "metadata": {
    "collapsed": false
   },
   "outputs": [
    {
     "data": {
      "text/plain": [
       "[<splinter.driver.webdriver.WebDriverElement at 0x10985cd50>]"
      ]
     },
     "execution_count": 18,
     "metadata": {},
     "output_type": "execute_result"
    }
   ],
   "source": [
    "fri_btn = rightcal.find_by_xpath('table/tbody/tr[3]/td[6]/div')\n",
    "fri_btn"
   ]
  },
  {
   "cell_type": "code",
   "execution_count": 19,
   "metadata": {
    "collapsed": true
   },
   "outputs": [],
   "source": [
    "fri_btn.click()"
   ]
  },
  {
   "cell_type": "code",
   "execution_count": 20,
   "metadata": {
    "collapsed": false
   },
   "outputs": [
    {
     "data": {
      "text/plain": [
       "<splinter.driver.webdriver.WebDriverElement at 0x1098cd650>"
      ]
     },
     "execution_count": 20,
     "metadata": {},
     "output_type": "execute_result"
    }
   ],
   "source": [
    "cout_btn = date_bar.find_by_xpath('span[contains(@class, \"meta_date_field   check_out\")]/span')[0]\n",
    "cout_btn"
   ]
  },
  {
   "cell_type": "code",
   "execution_count": 21,
   "metadata": {
    "collapsed": true
   },
   "outputs": [],
   "source": [
    "cout_btn.click()"
   ]
  },
  {
   "cell_type": "code",
   "execution_count": 22,
   "metadata": {
    "collapsed": false
   },
   "outputs": [
    {
     "data": {
      "text/plain": [
       "<splinter.driver.webdriver.WebDriverElement at 0x10985cc10>"
      ]
     },
     "execution_count": 22,
     "metadata": {},
     "output_type": "execute_result"
    }
   ],
   "source": [
    "leftcal = br.find_by_xpath('//div[contains(@class, \"month\")]')[0]\n",
    "leftcal"
   ]
  },
  {
   "cell_type": "code",
   "execution_count": 23,
   "metadata": {
    "collapsed": false
   },
   "outputs": [
    {
     "data": {
      "text/plain": [
       "[<splinter.driver.webdriver.WebDriverElement at 0x10985cfd0>]"
      ]
     },
     "execution_count": 23,
     "metadata": {},
     "output_type": "execute_result"
    }
   ],
   "source": [
    "sat_btn = leftcal.find_by_xpath('table/tbody/tr[3]/td[7]/div')\n",
    "sat_btn"
   ]
  },
  {
   "cell_type": "code",
   "execution_count": 24,
   "metadata": {
    "collapsed": true
   },
   "outputs": [],
   "source": [
    "sat_btn.click()"
   ]
  },
  {
   "cell_type": "code",
   "execution_count": 16,
   "metadata": {
    "collapsed": true
   },
   "outputs": [],
   "source": [
    "time.sleep(5)"
   ]
  },
  {
   "cell_type": "code",
   "execution_count": 27,
   "metadata": {
    "collapsed": true
   },
   "outputs": [],
   "source": [
    "#hotels_div = br.find_by_xpath('//*[@id=\"ACCOM_OVERVIEW\"]/div/div/div/div')\n",
    "#property_div = br.find_by_xpath('//*[contains(@class, \"property_details\")]')"
   ]
  },
  {
   "cell_type": "code",
   "execution_count": 28,
   "metadata": {
    "collapsed": false
   },
   "outputs": [],
   "source": [
    "#property_div"
   ]
  },
  {
   "cell_type": "code",
   "execution_count": 29,
   "metadata": {
    "collapsed": false
   },
   "outputs": [],
   "source": [
    "#len(property_div)"
   ]
  },
  {
   "cell_type": "code",
   "execution_count": 30,
   "metadata": {
    "collapsed": true
   },
   "outputs": [],
   "source": [
    "listing_div = br.find_by_xpath('//div[contains(@class, \"hotels_lf_condensed\")]')"
   ]
  },
  {
   "cell_type": "code",
   "execution_count": 31,
   "metadata": {
    "collapsed": false,
    "scrolled": true
   },
   "outputs": [
    {
     "data": {
      "text/plain": [
       "[<splinter.driver.webdriver.WebDriverElement at 0x10986a610>,\n",
       " <splinter.driver.webdriver.WebDriverElement at 0x10986a050>,\n",
       " <splinter.driver.webdriver.WebDriverElement at 0x10986a0d0>,\n",
       " <splinter.driver.webdriver.WebDriverElement at 0x10986a150>,\n",
       " <splinter.driver.webdriver.WebDriverElement at 0x10986a1d0>,\n",
       " <splinter.driver.webdriver.WebDriverElement at 0x10986a250>,\n",
       " <splinter.driver.webdriver.WebDriverElement at 0x10986a2d0>,\n",
       " <splinter.driver.webdriver.WebDriverElement at 0x10986a350>,\n",
       " <splinter.driver.webdriver.WebDriverElement at 0x10986a3d0>,\n",
       " <splinter.driver.webdriver.WebDriverElement at 0x10986a450>,\n",
       " <splinter.driver.webdriver.WebDriverElement at 0x1098a8e50>,\n",
       " <splinter.driver.webdriver.WebDriverElement at 0x1098a8990>,\n",
       " <splinter.driver.webdriver.WebDriverElement at 0x1098a8c50>,\n",
       " <splinter.driver.webdriver.WebDriverElement at 0x1098f5050>,\n",
       " <splinter.driver.webdriver.WebDriverElement at 0x1098f50d0>,\n",
       " <splinter.driver.webdriver.WebDriverElement at 0x1098f5150>,\n",
       " <splinter.driver.webdriver.WebDriverElement at 0x1098f51d0>,\n",
       " <splinter.driver.webdriver.WebDriverElement at 0x1098f5250>,\n",
       " <splinter.driver.webdriver.WebDriverElement at 0x1098f52d0>,\n",
       " <splinter.driver.webdriver.WebDriverElement at 0x1098f5350>,\n",
       " <splinter.driver.webdriver.WebDriverElement at 0x1098f53d0>,\n",
       " <splinter.driver.webdriver.WebDriverElement at 0x1098f5450>,\n",
       " <splinter.driver.webdriver.WebDriverElement at 0x1098f54d0>,\n",
       " <splinter.driver.webdriver.WebDriverElement at 0x1098f5550>,\n",
       " <splinter.driver.webdriver.WebDriverElement at 0x1098f55d0>,\n",
       " <splinter.driver.webdriver.WebDriverElement at 0x1098f5650>,\n",
       " <splinter.driver.webdriver.WebDriverElement at 0x1098f56d0>,\n",
       " <splinter.driver.webdriver.WebDriverElement at 0x1098f5750>,\n",
       " <splinter.driver.webdriver.WebDriverElement at 0x1098f57d0>,\n",
       " <splinter.driver.webdriver.WebDriverElement at 0x1098f5850>,\n",
       " <splinter.driver.webdriver.WebDriverElement at 0x1098f58d0>]"
      ]
     },
     "execution_count": 31,
     "metadata": {},
     "output_type": "execute_result"
    }
   ],
   "source": [
    "listing_div"
   ]
  },
  {
   "cell_type": "code",
   "execution_count": 32,
   "metadata": {
    "collapsed": false
   },
   "outputs": [
    {
     "data": {
      "text/plain": [
       "31"
      ]
     },
     "execution_count": 32,
     "metadata": {},
     "output_type": "execute_result"
    }
   ],
   "source": [
    "len(listing_div)"
   ]
  },
  {
   "cell_type": "code",
   "execution_count": 33,
   "metadata": {
    "collapsed": true
   },
   "outputs": [],
   "source": [
    "#prop = property_div[0]"
   ]
  },
  {
   "cell_type": "code",
   "execution_count": 34,
   "metadata": {
    "collapsed": true
   },
   "outputs": [],
   "source": [
    "listing = listing_div[1]\n",
    "prop = listing.find_by_xpath('//*[contains(@class, \"property_details\")]')"
   ]
  },
  {
   "cell_type": "code",
   "execution_count": 35,
   "metadata": {
    "collapsed": false
   },
   "outputs": [
    {
     "data": {
      "text/plain": [
       "[u'112178']"
      ]
     },
     "execution_count": 35,
     "metadata": {},
     "output_type": "execute_result"
    }
   ],
   "source": [
    "re.findall('hotel_(\\d+)', listing['id'])"
   ]
  },
  {
   "cell_type": "code",
   "execution_count": 36,
   "metadata": {
    "collapsed": false
   },
   "outputs": [
    {
     "data": {
      "text/plain": [
       "u'Hilton Garden Inn Phoenix North Happy Valley'"
      ]
     },
     "execution_count": 36,
     "metadata": {},
     "output_type": "execute_result"
    }
   ],
   "source": [
    "prop.find_by_xpath('div/div[@class=\"listing_title\"]/a').text"
   ]
  },
  {
   "cell_type": "code",
   "execution_count": 37,
   "metadata": {
    "collapsed": false
   },
   "outputs": [
    {
     "data": {
      "text/plain": [
       "u'http://media-cdn.tripadvisor.com/media/photo-s/06/fd/e1/ef/king.jpg'"
      ]
     },
     "execution_count": 37,
     "metadata": {},
     "output_type": "execute_result"
    }
   ],
   "source": [
    "# extract the URL for the hotel thumbnail image\n",
    "prop.find_by_xpath('div[@class=\"photo_booking\"]/div/div/a/img')['src']"
   ]
  },
  {
   "cell_type": "code",
   "execution_count": 38,
   "metadata": {
    "collapsed": false
   },
   "outputs": [
    {
     "data": {
      "text/plain": [
       "u'$95* /night'"
      ]
     },
     "execution_count": 38,
     "metadata": {},
     "output_type": "execute_result"
    }
   ],
   "source": [
    "# get the price\n",
    "price_text = prop.find_by_xpath('div[contains(@class, \"prw_rup\")]/div/div/div/div[@class=\"headerContents\"]/div[contains(@class, \"price\")]').text\n",
    "price_text"
   ]
  },
  {
   "cell_type": "code",
   "execution_count": 39,
   "metadata": {
    "collapsed": false
   },
   "outputs": [
    {
     "data": {
      "text/plain": [
       "u'95'"
      ]
     },
     "execution_count": 39,
     "metadata": {},
     "output_type": "execute_result"
    }
   ],
   "source": [
    "re.findall('(\\d+)', price_text)[0]"
   ]
  },
  {
   "cell_type": "code",
   "execution_count": 20,
   "metadata": {
    "collapsed": false
   },
   "outputs": [
    {
     "data": {
      "text/plain": [
       "[<splinter.driver.webdriver.WebDriverElement at 0x102a0ab90>,\n",
       " <splinter.driver.webdriver.WebDriverElement at 0x102a0ac10>,\n",
       " <splinter.driver.webdriver.WebDriverElement at 0x102a0ac90>,\n",
       " <splinter.driver.webdriver.WebDriverElement at 0x102a0ad10>,\n",
       " <splinter.driver.webdriver.WebDriverElement at 0x102a0ad90>,\n",
       " <splinter.driver.webdriver.WebDriverElement at 0x102a0ae10>,\n",
       " <splinter.driver.webdriver.WebDriverElement at 0x102a0ae90>,\n",
       " <splinter.driver.webdriver.WebDriverElement at 0x102a0af10>,\n",
       " <splinter.driver.webdriver.WebDriverElement at 0x102a0af90>,\n",
       " <splinter.driver.webdriver.WebDriverElement at 0x102a0d050>,\n",
       " <splinter.driver.webdriver.WebDriverElement at 0x102a0d0d0>,\n",
       " <splinter.driver.webdriver.WebDriverElement at 0x102a0d150>,\n",
       " <splinter.driver.webdriver.WebDriverElement at 0x102a0d1d0>,\n",
       " <splinter.driver.webdriver.WebDriverElement at 0x102a0d250>,\n",
       " <splinter.driver.webdriver.WebDriverElement at 0x102a0d2d0>,\n",
       " <splinter.driver.webdriver.WebDriverElement at 0x102a0d350>,\n",
       " <splinter.driver.webdriver.WebDriverElement at 0x102a0d3d0>,\n",
       " <splinter.driver.webdriver.WebDriverElement at 0x102a0d450>,\n",
       " <splinter.driver.webdriver.WebDriverElement at 0x102a0d4d0>,\n",
       " <splinter.driver.webdriver.WebDriverElement at 0x102a0d550>,\n",
       " <splinter.driver.webdriver.WebDriverElement at 0x102a0d5d0>,\n",
       " <splinter.driver.webdriver.WebDriverElement at 0x102a0d650>,\n",
       " <splinter.driver.webdriver.WebDriverElement at 0x102a0d6d0>,\n",
       " <splinter.driver.webdriver.WebDriverElement at 0x102a0d750>,\n",
       " <splinter.driver.webdriver.WebDriverElement at 0x102a0d7d0>,\n",
       " <splinter.driver.webdriver.WebDriverElement at 0x102a0d850>,\n",
       " <splinter.driver.webdriver.WebDriverElement at 0x102a0d8d0>,\n",
       " <splinter.driver.webdriver.WebDriverElement at 0x102a0d950>,\n",
       " <splinter.driver.webdriver.WebDriverElement at 0x102a0d9d0>,\n",
       " <splinter.driver.webdriver.WebDriverElement at 0x102a0da50>]"
      ]
     },
     "execution_count": 20,
     "metadata": {},
     "output_type": "execute_result"
    }
   ],
   "source": [
    "br.find_by_xpath('//div[@id=\"ACCOM_OVERVIEW\"]/div[contains(@class, \"hotels_lf_condensed\")]')"
   ]
  },
  {
   "cell_type": "code",
   "execution_count": null,
   "metadata": {
    "collapsed": true
   },
   "outputs": [],
   "source": []
  },
  {
   "cell_type": "code",
   "execution_count": 24,
   "metadata": {
    "collapsed": false,
    "scrolled": true
   },
   "outputs": [
    {
     "name": "stdout",
     "output_type": "stream",
     "text": [
      "business_id: [u'112178']\n",
      "Arizona Grand Resort & Spa\n",
      "http://www.tripadvisor.com/Hotel_Review-g31310-d112178-Reviews-Arizona_Grand_Resort_Spa-Phoenix_Arizona.html\n",
      "Hotel img URL: http://media-cdn.tripadvisor.com/media/photo-f/07/77/c8/84/exterior-view.jpg\n",
      "Price: $199\n",
      "**************************************************\n",
      "business_id: [u'73957']\n",
      "Pointe Hilton Squaw Peak Resort\n",
      "http://www.tripadvisor.com/Hotel_Review-g31310-d73957-Reviews-Pointe_Hilton_Squaw_Peak_Resort-Phoenix_Arizona.html\n",
      "Hotel img URL: http://media-cdn.tripadvisor.com/media/ProviderThumbnails/dirs/60/bc/60bc4f2a4a0fca7003e090522214d7fb1large.jpg\n",
      "Price: $189\n",
      "**************************************************\n",
      "business_id: [u'277997']\n",
      "Pointe Hilton Tapatio Cliffs Resort\n",
      "http://www.tripadvisor.com/Hotel_Review-g31310-d277997-Reviews-Pointe_Hilton_Tapatio_Cliffs_Resort-Phoenix_Arizona.html\n",
      "Hotel img URL: http://media-cdn.tripadvisor.com/media/photo-s/08/f4/73/4f/exterior-with-pool.jpg\n",
      "Price: $159\n",
      "**************************************************\n"
     ]
    }
   ],
   "source": [
    "hotel_names = []\n",
    "links = []\n",
    "img_url = []\n",
    "hotel_price = []\n",
    "business_id = []\n",
    "\n",
    "listing_div = br.find_by_xpath('//div[@id=\"ACCOM_OVERVIEW\"]/div[contains(@class, \"hotels_lf_condensed\")]')\n",
    "listing_div = listing_div[:3]\n",
    "for listing in listing_div:\n",
    "    biz_id = re.findall('hotel_(\\d+)', listing['id'])\n",
    "    print('business_id: {}'.format(biz_id))\n",
    "    business_id.append(biz_id)\n",
    "    prop = listing.find_by_xpath('div/div/div/div[contains(@class, \"property_details\")]')\n",
    "    title = prop.find_by_xpath('div/div[@class=\"listing_title\"]')\n",
    "    print(title.text)\n",
    "    hotel_names.append(title.text)\n",
    "    print(title.find_by_xpath('a')['href'])\n",
    "    links.append(title.find_by_xpath('a')['href'])\n",
    "    hotel_img = prop.find_by_xpath('div[@class=\"photo_booking\"]/div/div/a/img')['src']\n",
    "    img_url.append(hotel_img)\n",
    "    print('Hotel img URL: {}'.format(hotel_img))\n",
    "    price_text = prop.find_by_xpath('div[contains(@class, \"prw_rup\")]/div/div/div/div[@class=\"headerContents\"]/div[contains(@class, \"price\")]').text\n",
    "    price = re.findall('(\\d+)', price_text)[0]\n",
    "    hotel_price.append(price)\n",
    "    print('Price: ${}'.format(price))\n",
    "    print('*'*50)"
   ]
  },
  {
   "cell_type": "code",
   "execution_count": 155,
   "metadata": {
    "collapsed": false,
    "scrolled": true
   },
   "outputs": [
    {
     "data": {
      "text/plain": [
       "[u'http://www.tripadvisor.com/Hotel_Review-g31310-d866698-Reviews-Courtyard_Phoenix_North_Happy_Valley-Phoenix_Arizona.html',\n",
       " u'http://www.tripadvisor.com/Hotel_Review-g31310-d73905-Reviews-Wyndham_Garden_Phoenix_Midtown-Phoenix_Arizona.html',\n",
       " u'http://www.tripadvisor.com/Hotel_Review-g31310-d266322-Reviews-The_Clarendon_Hotel_and_Spa-Phoenix_Arizona.html',\n",
       " u'http://www.tripadvisor.com/Hotel_Review-g31310-d115482-Reviews-DoubleTree_Suites_by_Hilton_Hotel_Phoenix-Phoenix_Arizona.html',\n",
       " u'http://www.tripadvisor.com/Hotel_Review-g31310-d74624-Reviews-Hampton_Inn_Phoenix_Biltmore-Phoenix_Arizona.html',\n",
       " u'http://www.tripadvisor.com/Hotel_Review-g31310-d240682-Reviews-Fairfield_Inn_Suites_Phoenix_Midtown-Phoenix_Arizona.html',\n",
       " u'http://www.tripadvisor.com/Hotel_Review-g31310-d239800-Reviews-Hilton_Garden_Inn_Phoenix_Midtown-Phoenix_Arizona.html',\n",
       " u'http://www.tripadvisor.com/Hotel_Review-g31310-d2015227-Reviews-Westin_Phoenix_Downtown-Phoenix_Arizona.html',\n",
       " u'http://www.tripadvisor.com/Hotel_Review-g31310-d73727-Reviews-Four_Points_By_Sheraton_Phoenix_South-Phoenix_Arizona.html',\n",
       " u'http://www.tripadvisor.com/Hotel_Review-g31310-d816807-Reviews-Americas_Best_Value_Inn_Downtown_Phoenix-Phoenix_Arizona.html',\n",
       " u'http://www.tripadvisor.com/Hotel_Review-g31310-d2627745-Reviews-Hotel_Palomar_Phoenix_a_Kimpton_Hotel-Phoenix_Arizona.html',\n",
       " u'http://www.tripadvisor.com/Hotel_Review-g31310-d223273-Reviews-Holiday_Inn_Express_Phoenix_Downtown-Phoenix_Arizona.html',\n",
       " u'http://www.tripadvisor.com/Hotel_Review-g31310-d73739-Reviews-BEST_WESTERN_Innsuites_Phoenix_Biltmore-Phoenix_Arizona.html',\n",
       " u'http://www.tripadvisor.com/Hotel_Review-g31310-d1147292-Reviews-Sheraton_Phoenix_Downtown_Hotel-Phoenix_Arizona.html',\n",
       " u'http://www.tripadvisor.com/Hotel_Review-g31310-d1174692-Reviews-Aloft_Phoenix_Airport-Phoenix_Arizona.html',\n",
       " u'http://www.tripadvisor.com/Hotel_Review-g31310-d73757-Reviews-Renaissance_Phoenix_Downtown-Phoenix_Arizona.html',\n",
       " u'http://www.tripadvisor.com/Hotel_Review-g31310-d112162-Reviews-Hotel_San_Carlos-Phoenix_Arizona.html',\n",
       " u'http://www.tripadvisor.com/Hotel_Review-g31310-d73792-Reviews-Embassy_Suites_by_Hilton_Phoenix_Airport_at_24th_Street-Phoenix_Arizona.html',\n",
       " u'http://www.tripadvisor.com/Hotel_Review-g31310-d73855-Reviews-Hyatt_Regency_Phoenix-Phoenix_Arizona.html',\n",
       " u'http://www.tripadvisor.com/Hotel_Review-g31310-d564652-Reviews-Radisson_Hotel_Phoenix_Airport-Phoenix_Arizona.html',\n",
       " u'http://www.tripadvisor.com/Hotel_Review-g31310-d73805-Reviews-BEST_WESTERN_Phoenix_I_17_MetroCenter_Inn-Phoenix_Arizona.html',\n",
       " u'http://www.tripadvisor.com/Hotel_Review-g31310-d1201061-Reviews-Homewood_Suites_Phoenix_North_Happy_Valley-Phoenix_Arizona.html',\n",
       " u'http://www.tripadvisor.com/Hotel_Review-g31310-d73923-Reviews-Drury_Inn_Suites_Phoenix_Airport-Phoenix_Arizona.html',\n",
       " u'http://www.tripadvisor.com/Hotel_Review-g31310-d112154-Reviews-Embassy_Suites_by_Hilton_Hotel_Phoenix_Biltmore-Phoenix_Arizona.html',\n",
       " u'http://www.tripadvisor.com/Hotel_Review-g31310-d218100-Reviews-Radisson_Hotel_Phoenix_North-Phoenix_Arizona.html',\n",
       " u'http://www.tripadvisor.com/Hotel_Review-g31310-d74826-Reviews-Courtyard_by_Marriott_Phoenix_Camelback-Phoenix_Arizona.html',\n",
       " u'http://www.tripadvisor.com/Hotel_Review-g31310-d74845-Reviews-Comfort_Inn_West-Phoenix_Arizona.html',\n",
       " u'http://www.tripadvisor.com/Hotel_Review-g31310-d73787-Reviews-Holiday_Inn_Suites_Phoenix_Airport_North-Phoenix_Arizona.html',\n",
       " u'http://www.tripadvisor.com/Hotel_Review-g31310-d1963064-Reviews-City_Center_Downtown-Phoenix_Arizona.html',\n",
       " u'http://www.tripadvisor.com/Hotel_Review-g31310-d73821-Reviews-Hilton_Phoenix_Airport-Phoenix_Arizona.html',\n",
       " u'http://www.tripadvisor.com/Hotel_Review-g31310-d112178-Reviews-Arizona_Grand_Resort_Spa-Phoenix_Arizona.html']"
      ]
     },
     "execution_count": 155,
     "metadata": {},
     "output_type": "execute_result"
    }
   ],
   "source": [
    "links"
   ]
  },
  {
   "cell_type": "code",
   "execution_count": 156,
   "metadata": {
    "collapsed": false
   },
   "outputs": [
    {
     "data": {
      "text/plain": [
       "31"
      ]
     },
     "execution_count": 156,
     "metadata": {},
     "output_type": "execute_result"
    }
   ],
   "source": [
    "len(links)"
   ]
  },
  {
   "cell_type": "code",
   "execution_count": 164,
   "metadata": {
    "collapsed": false
   },
   "outputs": [],
   "source": [
    "nxt_btn = br.find_by_xpath('//div[contains(@class, \"deckTools\")]/div[contains(@class, \"unified\")]/a[contains(@class, \"next\")]')"
   ]
  },
  {
   "cell_type": "code",
   "execution_count": 165,
   "metadata": {
    "collapsed": true
   },
   "outputs": [],
   "source": [
    "nxt_btn.click()"
   ]
  },
  {
   "cell_type": "code",
   "execution_count": 167,
   "metadata": {
    "collapsed": false
   },
   "outputs": [
    {
     "data": {
      "text/plain": [
       "1"
      ]
     },
     "execution_count": 167,
     "metadata": {},
     "output_type": "execute_result"
    }
   ],
   "source": [
    "len(nxt_btn)"
   ]
  },
  {
   "cell_type": "code",
   "execution_count": 41,
   "metadata": {
    "collapsed": false
   },
   "outputs": [
    {
     "data": {
      "text/plain": [
       "True"
      ]
     },
     "execution_count": 41,
     "metadata": {},
     "output_type": "execute_result"
    }
   ],
   "source": [
    "br.is_element_present_by_xpath('//*[contains(@class, \"prw_rup\")]/div/div/div/div[@class=\"headerContents\"]/div[contains(@class, \"price\")]', wait_time=1)"
   ]
  },
  {
   "cell_type": "markdown",
   "metadata": {},
   "source": [
    "## Combining the Above to Scrape All Hotel Information\n",
    "\n",
    "The code below combines all the code from above into one cell, and will scrape all information on the hotels for the first two pages of the TripAdvisor results."
   ]
  },
  {
   "cell_type": "code",
   "execution_count": 46,
   "metadata": {
    "collapsed": true
   },
   "outputs": [],
   "source": [
    "# this only needs to be done at the very beginning\n",
    "br = Browser()"
   ]
  },
  {
   "cell_type": "code",
   "execution_count": 47,
   "metadata": {
    "collapsed": false,
    "scrolled": true
   },
   "outputs": [
    {
     "name": "stdout",
     "output_type": "stream",
     "text": [
      "Dates selected.\n",
      "starting scraper loop.\n",
      "***************************************************************************\n",
      "Now scraping page 1 of 7 of the hotel results\n",
      "***************************************************************************\n",
      "Number of hotel listings on this page: 31\n",
      "business_id: None\n",
      "Country Inn & Suites By Carlson, Deer Valley\n",
      "http://www.tripadvisor.com/Hotel_Review-g31310-d119363-Reviews-Country_Inn_Suites_By_Carlson_Deer_Valley-Phoenix_Arizona.html\n",
      "Hotel img URL: http://media-cdn.tripadvisor.com/media/photo-s/06/fe/15/12/guest-room.jpg\n",
      "Price: $84\n",
      "**************************************************\n",
      "business_id: 112178\n",
      "Arizona Grand Resort & Spa\n",
      "http://www.tripadvisor.com/Hotel_Review-g31310-d112178-Reviews-Arizona_Grand_Resort_Spa-Phoenix_Arizona.html\n",
      "Hotel img URL: http://media-cdn.tripadvisor.com/media/photo-f/07/77/c8/84/exterior-view.jpg\n",
      "Price: $199\n",
      "**************************************************\n",
      "business_id: 73957\n",
      "Pointe Hilton Squaw Peak Resort\n",
      "http://www.tripadvisor.com/Hotel_Review-g31310-d73957-Reviews-Pointe_Hilton_Squaw_Peak_Resort-Phoenix_Arizona.html\n",
      "Hotel img URL: http://media-cdn.tripadvisor.com/media/ProviderThumbnails/dirs/60/bc/60bc4f2a4a0fca7003e090522214d7fb1large.jpg\n",
      "Price: $189\n",
      "**************************************************\n",
      "business_id: 277997\n",
      "Pointe Hilton Tapatio Cliffs Resort\n",
      "http://www.tripadvisor.com/Hotel_Review-g31310-d277997-Reviews-Pointe_Hilton_Tapatio_Cliffs_Resort-Phoenix_Arizona.html\n",
      "Hotel img URL: http://media-cdn.tripadvisor.com/media/photo-s/09/08/9e/1e/pointe-hilton-tapatio.jpg\n",
      "Price: $159\n",
      "**************************************************\n",
      "business_id: 115484\n",
      "Arizona Biltmore, A Waldorf Astoria Resort\n",
      "http://www.tripadvisor.com/Hotel_Review-g31310-d115484-Reviews-Arizona_Biltmore_A_Waldorf_Astoria_Resort-Phoenix_Arizona.html\n",
      "Hotel img URL: http://media-cdn.tripadvisor.com/media/photo-s/07/bb/5e/8f/arizona-biltmore-a-waldorf.jpg\n",
      "Price: $329\n",
      "**************************************************\n",
      "business_id: 223860\n",
      "JW Marriott Desert Ridge Resort & Spa Phoenix\n",
      "http://www.tripadvisor.com/Hotel_Review-g31310-d223860-Reviews-JW_Marriott_Desert_Ridge_Resort_Spa_Phoenix-Phoenix_Arizona.html\n",
      "Hotel img URL: http://media-cdn.tripadvisor.com/media/ProviderThumbnails/dirs/20/41/2041be60abc17191c4f3118b25ab474b1large.jpg\n",
      "Price: $389\n",
      "**************************************************\n",
      "business_id: 286542\n",
      "Marriott's Canyon Villas at Desert Ridge\n",
      "http://www.tripadvisor.com/Hotel_Review-g31310-d286542-Reviews-Marriott_s_Canyon_Villas_at_Desert_Ridge-Phoenix_Arizona.html\n",
      "Hotel img URL: http://media-cdn.tripadvisor.com/media/ProviderThumbnails/dirs/29/97/29978afba9100fa3454a8873fadfc3711large.jpg\n",
      "Price: $289\n",
      "**************************************************\n",
      "business_id: 2627745\n",
      "Hotel Palomar Phoenix - a Kimpton Hotel\n",
      "http://www.tripadvisor.com/Hotel_Review-g31310-d2627745-Reviews-Hotel_Palomar_Phoenix_a_Kimpton_Hotel-Phoenix_Arizona.html\n",
      "Hotel img URL: http://media-cdn.tripadvisor.com/media/photo-s/02/dc/0a/38/living-room-lobby.jpg\n",
      "Price: $289\n",
      "**************************************************\n",
      "business_id: 266322\n",
      "The Clarendon Hotel and Spa\n",
      "http://www.tripadvisor.com/Hotel_Review-g31310-d266322-Reviews-The_Clarendon_Hotel_and_Spa-Phoenix_Arizona.html\n",
      "Hotel img URL: http://media-cdn.tripadvisor.com/media/photo-s/07/ad/ef/6a/the-clarendon-hotel-and.jpg\n",
      "Price: $148\n",
      "**************************************************\n",
      "business_id: 1200121\n",
      "Hampton Inn & Suites Phoenix North/Happy Valley\n",
      "http://www.tripadvisor.com/Hotel_Review-g31310-d1200121-Reviews-Hampton_Inn_Suites_Phoenix_North_Happy_Valley-Phoenix_Arizona.html\n",
      "Hotel img URL: http://media-cdn.tripadvisor.com/media/photo-s/04/5e/f8/d6/hotel-exterior.jpg\n",
      "Price: $93\n",
      "**************************************************\n",
      "business_id: 1201061\n",
      "Homewood Suites Phoenix North - Happy Valley\n",
      "http://www.tripadvisor.com/Hotel_Review-g31310-d1201061-Reviews-Homewood_Suites_Phoenix_North_Happy_Valley-Phoenix_Arizona.html\n",
      "Hotel img URL: http://media-cdn.tripadvisor.com/media/photo-s/08/e6/83/6b/homewood-suites-phoenix.jpg\n",
      "Price: $103\n",
      "**************************************************\n",
      "business_id: 2015227\n",
      "Westin Phoenix Downtown\n",
      "http://www.tripadvisor.com/Hotel_Review-g31310-d2015227-Reviews-Westin_Phoenix_Downtown-Phoenix_Arizona.html\n",
      "Hotel img URL: http://media-cdn.tripadvisor.com/media/photo-s/01/e7/9d/4a/westin-phoenix-downtown.jpg\n",
      "Price: $269\n",
      "**************************************************\n",
      "business_id: 218100\n",
      "Radisson Hotel Phoenix North\n",
      "http://www.tripadvisor.com/Hotel_Review-g31310-d218100-Reviews-Radisson_Hotel_Phoenix_North-Phoenix_Arizona.html\n",
      "Hotel img URL: http://media-cdn.tripadvisor.com/media/photo-s/07/f0/66/e5/pool-at-night.jpg\n",
      "Price: $106\n",
      "**************************************************\n",
      "business_id: 224250\n",
      "Embassy Suites by Hilton Phoenix-Scottsdale\n",
      "http://www.tripadvisor.com/Hotel_Review-g31310-d224250-Reviews-Embassy_Suites_by_Hilton_Phoenix_Scottsdale-Phoenix_Arizona.html\n",
      "Hotel img URL: http://media-cdn.tripadvisor.com/media/photo-s/09/05/cb/eb/hotel-exterior.jpg\n",
      "Price: $153\n",
      "**************************************************\n",
      "business_id: 1147292\n",
      "Sheraton Phoenix Downtown Hotel\n",
      "http://www.tripadvisor.com/Hotel_Review-g31310-d1147292-Reviews-Sheraton_Phoenix_Downtown_Hotel-Phoenix_Arizona.html\n",
      "Hotel img URL: http://media-cdn.tripadvisor.com/media/photo-s/05/2e/bd/09/exterior.jpg\n",
      "Price: $159\n",
      "**************************************************\n",
      "business_id: 73855\n",
      "Hyatt Regency Phoenix\n",
      "http://www.tripadvisor.com/Hotel_Review-g31310-d73855-Reviews-Hyatt_Regency_Phoenix-Phoenix_Arizona.html\n",
      "Hotel img URL: http://media-cdn.tripadvisor.com/media/photo-s/07/28/5f/2d/hyatt-regency-phoenix.jpg\n",
      "Price: $251\n",
      "**************************************************\n",
      "business_id: 73905\n",
      "Wyndham Garden Phoenix Midtown\n",
      "http://www.tripadvisor.com/Hotel_Review-g31310-d73905-Reviews-Wyndham_Garden_Phoenix_Midtown-Phoenix_Arizona.html\n",
      "Hotel img URL: http://media-cdn.tripadvisor.com/media/ProviderThumbnails/dirs/79/0b/790b0d1a708b364e29def919181a33c58large.jpg\n",
      "Price: $135\n",
      "**************************************************\n",
      "business_id: 74624\n",
      "Hampton Inn Phoenix-Biltmore\n",
      "http://www.tripadvisor.com/Hotel_Review-g31310-d74624-Reviews-Hampton_Inn_Phoenix_Biltmore-Phoenix_Arizona.html\n",
      "Hotel img URL: http://media-cdn.tripadvisor.com/media/ProviderThumbnails/dirs/74/3d/743daa2baa0885bd15824c68c309b6403large.jpg\n",
      "Price: $110\n",
      "**************************************************\n",
      "business_id: 112154\n",
      "Embassy Suites by Hilton Hotel Phoenix Biltmore\n",
      "http://www.tripadvisor.com/Hotel_Review-g31310-d112154-Reviews-Embassy_Suites_by_Hilton_Hotel_Phoenix_Biltmore-Phoenix_Arizona.html\n",
      "Hotel img URL: http://media-cdn.tripadvisor.com/media/photo-s/01/a5/c3/32/voted-best-lobby-new.jpg\n",
      "Price: $169\n",
      "**************************************************\n",
      "business_id: 1174692\n",
      "Aloft Phoenix-Airport\n",
      "http://www.tripadvisor.com/Hotel_Review-g31310-d1174692-Reviews-Aloft_Phoenix_Airport-Phoenix_Arizona.html\n",
      "Hotel img URL: http://media-cdn.tripadvisor.com/media/photo-s/07/7d/16/28/exterior.jpg\n",
      "Price: $109\n",
      "**************************************************\n",
      "business_id: 115482\n",
      "DoubleTree Suites by Hilton Hotel Phoenix\n",
      "http://www.tripadvisor.com/Hotel_Review-g31310-d115482-Reviews-DoubleTree_Suites_by_Hilton_Hotel_Phoenix-Phoenix_Arizona.html\n",
      "Hotel img URL: http://media-cdn.tripadvisor.com/media/photo-s/07/ac/f1/6a/doubletree-suites-by.jpg\n",
      "Price: $109\n",
      "**************************************************\n",
      "business_id: 73706\n",
      "BEST WESTERN Airport Inn\n",
      "http://www.tripadvisor.com/Hotel_Review-g31310-d73706-Reviews-BEST_WESTERN_Airport_Inn-Phoenix_Arizona.html\n",
      "Hotel img URL: http://media-cdn.tripadvisor.com/media/ProviderThumbnails/dirs/b4/2a/b42a6a98b282f7e7a42dd69f1b2bb6c41large.jpg\n",
      "Price: $72\n",
      "**************************************************\n",
      "business_id: 73923\n",
      "Drury Inn & Suites Phoenix Airport\n",
      "http://www.tripadvisor.com/Hotel_Review-g31310-d73923-Reviews-Drury_Inn_Suites_Phoenix_Airport-Phoenix_Arizona.html\n",
      "Hotel img URL: http://media-cdn.tripadvisor.com/media/photo-s/06/ab/c2/a7/exterior.jpg\n",
      "Price: $100\n",
      "**************************************************\n",
      "business_id: 73739\n",
      "BEST WESTERN Innsuites Phoenix Biltmore\n",
      "http://www.tripadvisor.com/Hotel_Review-g31310-d73739-Reviews-BEST_WESTERN_Innsuites_Phoenix_Biltmore-Phoenix_Arizona.html\n",
      "Hotel img URL: http://media-cdn.tripadvisor.com/media/photo-s/07/78/10/09/swimming-pool-and-hot.jpg\n",
      "Price: $88\n",
      "**************************************************\n",
      "business_id: 224757\n",
      "Red Roof Inn Phoenix West\n",
      "http://www.tripadvisor.com/Hotel_Review-g31310-d224757-Reviews-Red_Roof_Inn_Phoenix_West-Phoenix_Arizona.html\n",
      "Hotel img URL: http://media-cdn.tripadvisor.com/media/photo-s/08/c3/a7/c8/exterior.jpg\n",
      "Price: $69\n",
      "**************************************************\n",
      "business_id: 224733\n",
      "Candlewood Suites Phoenix\n",
      "http://www.tripadvisor.com/Hotel_Review-g31310-d224733-Reviews-Candlewood_Suites_Phoenix-Phoenix_Arizona.html\n",
      "Hotel img URL: http://media-cdn.tripadvisor.com/media/ProviderThumbnails/dirs/70/aa/70aa08b39b862dd78c0a97cebc2fe83c3large.jpg\n",
      "Price: $71\n",
      "**************************************************\n",
      "business_id: 634649\n",
      "La Quinta Inn & Suites Phoenix I-10 West\n",
      "http://www.tripadvisor.com/Hotel_Review-g31310-d634649-Reviews-La_Quinta_Inn_Suites_Phoenix_I_10_West-Phoenix_Arizona.html\n",
      "Hotel img URL: http://media-cdn.tripadvisor.com/media/ProviderThumbnails/dirs/fa/ad/faade9872bc7b9ff27620dbfd3befc642large.jpg\n",
      "Price: $84\n",
      "**************************************************\n",
      "business_id: 75662\n",
      "Holiday Inn Express Phoenix Airport (University Drive)\n",
      "http://www.tripadvisor.com/Hotel_Review-g31310-d75662-Reviews-Holiday_Inn_Express_Phoenix_Airport_University_Drive-Phoenix_Arizona.html\n",
      "Hotel img URL: http://media-cdn.tripadvisor.com/media/photo-s/08/80/2c/fc/hotel-exterior.jpg\n",
      "Price: $91\n",
      "**************************************************\n",
      "business_id: 223035\n",
      "Hilton Garden Inn Phoenix Airport\n",
      "http://www.tripadvisor.com/Hotel_Review-g31310-d223035-Reviews-Hilton_Garden_Inn_Phoenix_Airport-Phoenix_Arizona.html\n",
      "Hotel img URL: http://media-cdn.tripadvisor.com/media/photo-s/09/02/35/48/hilton-garden-inn-phoenix.jpg\n",
      "Price: $94\n",
      "**************************************************\n",
      "business_id: 677854\n",
      "Courtyard by Marriott Phoenix West/Avondale\n",
      "http://www.tripadvisor.com/Hotel_Review-g31310-d677854-Reviews-Courtyard_by_Marriott_Phoenix_West_Avondale-Phoenix_Arizona.html\n",
      "Hotel img URL: http://media-cdn.tripadvisor.com/media/photo-s/09/05/a2/ad/exterior.jpg\n",
      "Price: $99\n",
      "**************************************************\n",
      "business_id: 754229\n",
      "Hyatt Place Phoenix - North\n",
      "http://www.tripadvisor.com/Hotel_Review-g31310-d754229-Reviews-Hyatt_Place_Phoenix_North-Phoenix_Arizona.html\n",
      "Hotel img URL: http://media-cdn.tripadvisor.com/media/photo-s/06/fd/fe/14/hyatt-place-double-double.jpg\n",
      "Price: $139\n",
      "**************************************************\n",
      "***************************************************************************\n",
      "Now scraping page 2 of 7 of the hotel results\n",
      "***************************************************************************\n",
      "Number of hotel listings on this page: 31\n",
      "business_id: None\n",
      "Americas Best Value Inn - Downtown Phoenix\n",
      "http://www.tripadvisor.com/Hotel_Review-g31310-d816807-Reviews-Americas_Best_Value_Inn_Downtown_Phoenix-Phoenix_Arizona.html\n",
      "Hotel img URL: http://media-cdn.tripadvisor.com/media/photo-s/05/73/5e/dd/americas-best-value-inn.jpg\n",
      "Price: $95\n",
      "**************************************************\n",
      "business_id: 115483\n",
      "Country Inn & Suites By Carlson, Phoenix Airport South\n",
      "http://www.tripadvisor.com/Hotel_Review-g31310-d115483-Reviews-Country_Inn_Suites_By_Carlson_Phoenix_Airport_South-Phoenix_Arizona.html\n",
      "Hotel img URL: http://media-cdn.tripadvisor.com/media/photo-s/06/69/2e/84/country-inn-suites-by.jpg\n",
      "Price: $89\n",
      "**************************************************\n",
      "business_id: 73760\n",
      "Hotel 502\n",
      "http://www.tripadvisor.com/Hotel_Review-g31310-d73760-Reviews-Hotel_502-Phoenix_Arizona.html\n",
      "Hotel img URL: http://media-cdn.tripadvisor.com/media/photo-s/08/5e/6f/5a/urban-oasis.jpg\n",
      "Price: $73\n",
      "**************************************************\n",
      "business_id: 1176581\n",
      "Hilton Garden Inn Phoenix Airport North\n",
      "http://www.tripadvisor.com/Hotel_Review-g31310-d1176581-Reviews-Hilton_Garden_Inn_Phoenix_Airport_North-Phoenix_Arizona.html\n",
      "Hotel img URL: http://media-cdn.tripadvisor.com/media/ProviderThumbnails/dirs/fc/45/fc458020b225cbdc7f94ddcb9940c04d3large.jpg\n",
      "Price: $135\n",
      "**************************************************\n",
      "business_id: 73805\n",
      "BEST WESTERN Phoenix I-17 MetroCenter Inn\n",
      "http://www.tripadvisor.com/Hotel_Review-g31310-d73805-Reviews-BEST_WESTERN_Phoenix_I_17_MetroCenter_Inn-Phoenix_Arizona.html\n",
      "Hotel img URL: http://media-cdn.tripadvisor.com/media/photo-s/07/77/e9/e5/exterior.jpg\n",
      "Price: $72\n",
      "**************************************************\n",
      "business_id: 225578\n",
      "Hampton Inn Phoenix/Anthem\n",
      "http://www.tripadvisor.com/Hotel_Review-g31310-d225578-Reviews-Hampton_Inn_Phoenix_Anthem-Phoenix_Arizona.html\n",
      "Hotel img URL: http://media-cdn.tripadvisor.com/media/photo-s/04/26/d2/60/hotel-exterior.jpg\n",
      "Price: $139\n",
      "**************************************************\n",
      "business_id: 73862\n",
      "La Quinta Inn Phoenix North\n",
      "http://www.tripadvisor.com/Hotel_Review-g31310-d73862-Reviews-La_Quinta_Inn_Phoenix_North-Phoenix_Arizona.html\n",
      "Hotel img URL: http://media-cdn.tripadvisor.com/media/ProviderThumbnails/dirs/1e/11/1e11379eeb3f53d1ba744dfc5c3cc9042large.jpg\n",
      "Price: $65\n",
      "**************************************************\n",
      "business_id: 73757\n",
      "Renaissance Phoenix Downtown\n",
      "http://www.tripadvisor.com/Hotel_Review-g31310-d73757-Reviews-Renaissance_Phoenix_Downtown-Phoenix_Arizona.html\n",
      "Hotel img URL: http://media-cdn.tripadvisor.com/media/photo-s/07/e2/fd/66/renaissance-phoenix-downtown.jpg\n",
      "Price: $299\n",
      "**************************************************\n",
      "business_id: 564652\n",
      "Radisson Hotel Phoenix Airport\n",
      "http://www.tripadvisor.com/Hotel_Review-g31310-d564652-Reviews-Radisson_Hotel_Phoenix_Airport-Phoenix_Arizona.html\n",
      "Hotel img URL: http://media-cdn.tripadvisor.com/media/photo-s/07/d3/17/70/radisson-hotel-phoenix.jpg\n",
      "Price: $114\n",
      "**************************************************\n",
      "business_id: 239947\n",
      "TownePlace Suites Phoenix North\n",
      "http://www.tripadvisor.com/Hotel_Review-g31310-d239947-Reviews-TownePlace_Suites_Phoenix_North-Phoenix_Arizona.html\n",
      "Hotel img URL: http://media-cdn.tripadvisor.com/media/photo-s/06/e9/ea/8b/towneplace-suites-phoenix.jpg\n",
      "Price: $85\n",
      "**************************************************\n",
      "business_id: 816807\n",
      "Americas Best Value Inn - Downtown Phoenix\n",
      "http://www.tripadvisor.com/Hotel_Review-g31310-d816807-Reviews-Americas_Best_Value_Inn_Downtown_Phoenix-Phoenix_Arizona.html\n",
      "Hotel img URL: http://media-cdn.tripadvisor.com/media/photo-s/05/73/5e/dd/americas-best-value-inn.jpg\n",
      "Price: $95\n",
      "**************************************************\n",
      "business_id: 119355\n",
      "Crowne Plaza Phoenix Airport\n",
      "http://www.tripadvisor.com/Hotel_Review-g31310-d119355-Reviews-Crowne_Plaza_Phoenix_Airport-Phoenix_Arizona.html\n",
      "Hotel img URL: http://media-cdn.tripadvisor.com/media/photo-s/03/5d/18/62/exterior.jpg\n",
      "Price: $126\n",
      "**************************************************\n",
      "business_id: 74590\n",
      "Courtyard by Marriott Phoenix Airport\n",
      "http://www.tripadvisor.com/Hotel_Review-g31310-d74590-Reviews-Courtyard_by_Marriott_Phoenix_Airport-Phoenix_Arizona.html\n",
      "Hotel img URL: http://media-cdn.tripadvisor.com/media/ProviderThumbnails/dirs/56/a4/56a4190a0300bdd23cadcddeb3e2f7691large.jpg\n",
      "Price: $99\n",
      "**************************************************\n",
      "business_id: 73896\n",
      "Hilton Phoenix Suites\n",
      "http://www.tripadvisor.com/Hotel_Review-g31310-d73896-Reviews-Hilton_Phoenix_Suites-Phoenix_Arizona.html\n",
      "Hotel img URL: http://media-cdn.tripadvisor.com/media/ProviderThumbnails/dirs/4b/db/4bdb5e74223c0529c107799b666eada41large.jpg\n",
      "Price: $159\n",
      "**************************************************\n",
      "business_id: 4499023\n",
      "Vee Quiva Hotel & Casino\n",
      "http://www.tripadvisor.com/Hotel_Review-g31310-d4499023-Reviews-Vee_Quiva_Hotel_Casino-Phoenix_Arizona.html\n",
      "Hotel img URL: http://media-cdn.tripadvisor.com/media/photo-o/04/5f/6c/4c/standard-room.jpg\n",
      "Price: $125\n",
      "**************************************************\n",
      "business_id: 119365\n",
      "Budget Lodge Downtown Phoenix\n",
      "http://www.tripadvisor.com/Hotel_Review-g31310-d119365-Reviews-Budget_Lodge_Downtown_Phoenix-Phoenix_Arizona.html\n",
      "Hotel img URL: http://media-cdn.tripadvisor.com/media/photo-f/02/35/a7/e7/downtown.jpg\n",
      "Price: $77\n",
      "**************************************************\n",
      "business_id: 73727\n",
      "Four Points By Sheraton Phoenix South\n",
      "http://www.tripadvisor.com/Hotel_Review-g31310-d73727-Reviews-Four_Points_By_Sheraton_Phoenix_South-Phoenix_Arizona.html\n",
      "Hotel img URL: http://media-cdn.tripadvisor.com/media/photo-s/06/1e/36/0e/pre-function-space-for.jpg\n",
      "Price: $109\n",
      "**************************************************\n",
      "business_id: 1605022\n",
      "Drury Inn & Suites Happy Valley\n",
      "http://www.tripadvisor.com/Hotel_Review-g31310-d1605022-Reviews-Drury_Inn_Suites_Happy_Valley-Phoenix_Arizona.html\n",
      "Hotel img URL: http://media-cdn.tripadvisor.com/media/photo-s/06/fd/ca/88/king-deluxe-room.jpg\n",
      "Price: $110\n",
      "**************************************************\n",
      "business_id: 73821\n",
      "Hilton Phoenix Airport\n",
      "http://www.tripadvisor.com/Hotel_Review-g31310-d73821-Reviews-Hilton_Phoenix_Airport-Phoenix_Arizona.html\n",
      "Hotel img URL: http://media-cdn.tripadvisor.com/media/photo-s/08/09/7e/cd/lobby.jpg\n",
      "Price: $116\n",
      "**************************************************\n",
      "business_id: 240682\n",
      "Fairfield Inn & Suites Phoenix Midtown\n",
      "http://www.tripadvisor.com/Hotel_Review-g31310-d240682-Reviews-Fairfield_Inn_Suites_Phoenix_Midtown-Phoenix_Arizona.html\n",
      "Hotel img URL: http://media-cdn.tripadvisor.com/media/photo-s/08/9c/57/86/fairfield-inn-suites.jpg\n",
      "Price: $149\n",
      "**************************************************\n",
      "business_id: 73787\n",
      "Holiday Inn & Suites Phoenix Airport North\n",
      "http://www.tripadvisor.com/Hotel_Review-g31310-d73787-Reviews-Holiday_Inn_Suites_Phoenix_Airport_North-Phoenix_Arizona.html\n",
      "Hotel img URL: http://media-cdn.tripadvisor.com/media/photo-s/08/b4/cb/63/hotel-exterior.jpg\n",
      "Price: $121\n",
      "**************************************************\n",
      "business_id: 119363\n",
      "Country Inn & Suites By Carlson, Deer Valley\n",
      "http://www.tripadvisor.com/Hotel_Review-g31310-d119363-Reviews-Country_Inn_Suites_By_Carlson_Deer_Valley-Phoenix_Arizona.html\n",
      "Hotel img URL: http://media-cdn.tripadvisor.com/media/photo-s/06/fe/15/12/guest-room.jpg\n",
      "Price: $84\n",
      "**************************************************\n",
      "business_id: 1657449\n",
      "Holiday Inn Hotel & Suites Phoenix Airport\n",
      "http://www.tripadvisor.com/Hotel_Review-g31310-d1657449-Reviews-Holiday_Inn_Hotel_Suites_Phoenix_Airport-Phoenix_Arizona.html\n",
      "Hotel img URL: http://media-cdn.tripadvisor.com/media/photo-s/02/da/0a/3d/holiday-inn-hotel-suites.jpg\n",
      "Price: $108\n",
      "**************************************************\n",
      "business_id: 119356\n",
      "Hampton Inn Phoenix-Airport North\n",
      "http://www.tripadvisor.com/Hotel_Review-g31310-d119356-Reviews-Hampton_Inn_Phoenix_Airport_North-Phoenix_Arizona.html\n",
      "Hotel img URL: http://media-cdn.tripadvisor.com/media/photo-s/08/c3/83/be/hotel-exterior.jpg\n",
      "Price: $119\n",
      "**************************************************\n",
      "business_id: 119351\n",
      "Homewood Suites by Hilton Phoenix - Biltmore\n",
      "http://www.tripadvisor.com/Hotel_Review-g31310-d119351-Reviews-Homewood_Suites_by_Hilton_Phoenix_Biltmore-Phoenix_Arizona.html\n",
      "Hotel img URL: http://media-cdn.tripadvisor.com/media/photo-s/08/2f/93/c3/exterior-night.jpg\n",
      "Price: $139\n",
      "**************************************************\n",
      "business_id: 271801\n",
      "Crowne Plaza Phoenix\n",
      "http://www.tripadvisor.com/Hotel_Review-g31310-d271801-Reviews-Crowne_Plaza_Phoenix-Phoenix_Arizona.html\n",
      "Hotel img URL: http://media-cdn.tripadvisor.com/media/photo-s/02/af/5b/79/filename-2012phxmc-cp.jpg\n",
      "Price: $169\n",
      "**************************************************\n",
      "business_id: 73810\n",
      "Hampton Inn Phoenix-Midtown-Downtown Area\n",
      "http://www.tripadvisor.com/Hotel_Review-g31310-d73810-Reviews-Hampton_Inn_Phoenix_Midtown_Downtown_Area-Phoenix_Arizona.html\n",
      "Hotel img URL: http://media-cdn.tripadvisor.com/media/photo-s/09/05/4b/06/hotel-exterior.jpg\n",
      "Price: $139\n",
      "**************************************************\n",
      "business_id: 223273\n",
      "Holiday Inn Express Phoenix Downtown\n",
      "http://www.tripadvisor.com/Hotel_Review-g31310-d223273-Reviews-Holiday_Inn_Express_Phoenix_Downtown-Phoenix_Arizona.html\n",
      "Hotel img URL: http://media-cdn.tripadvisor.com/media/ProviderThumbnails/dirs/18/50/18505e2317104ca0304aeaaf4d6dc1473large.jpg\n",
      "Price: $167\n",
      "**************************************************\n",
      "business_id: 73751\n",
      "Courtyard by Marriott Phoenix North\n",
      "http://www.tripadvisor.com/Hotel_Review-g31310-d73751-Reviews-Courtyard_by_Marriott_Phoenix_North-Phoenix_Arizona.html\n",
      "Hotel img URL: http://media-cdn.tripadvisor.com/media/photo-s/07/66/09/dc/courtyard-by-marriott.jpg\n",
      "Price: $103\n",
      "**************************************************\n",
      "business_id: 74826\n",
      "Courtyard by Marriott Phoenix Camelback\n",
      "http://www.tripadvisor.com/Hotel_Review-g31310-d74826-Reviews-Courtyard_by_Marriott_Phoenix_Camelback-Phoenix_Arizona.html\n",
      "Hotel img URL: http://media-cdn.tripadvisor.com/media/photo-s/09/05/99/ca/exterior.jpg\n",
      "Price: $87\n",
      "**************************************************\n",
      "business_id: 118778\n",
      "Holiday Inn Express Chandler - Phoenix\n",
      "http://www.tripadvisor.com/Hotel_Review-g31310-d118778-Reviews-Holiday_Inn_Express_Chandler_Phoenix-Phoenix_Arizona.html\n",
      "Hotel img URL: http://media-cdn.tripadvisor.com/media/photo-s/07/7b/6d/53/holiday-inn-express-phoenix.jpg\n",
      "Price: $84\n",
      "**************************************************\n",
      "***************************************************************************\n",
      "Now scraping page 3 of 7 of the hotel results\n",
      "***************************************************************************\n",
      "Number of hotel listings on this page: 31\n",
      "business_id: None\n",
      "Aloft Phoenix-Airport\n",
      "http://www.tripadvisor.com/Hotel_Review-g31310-d1174692-Reviews-Aloft_Phoenix_Airport-Phoenix_Arizona.html\n",
      "Hotel img URL: http://media-cdn.tripadvisor.com/media/photo-s/07/7d/16/28/exterior.jpg\n",
      "Price: $109\n",
      "**************************************************\n",
      "business_id: 239800\n",
      "Hilton Garden Inn Phoenix Midtown\n",
      "http://www.tripadvisor.com/Hotel_Review-g31310-d239800-Reviews-Hilton_Garden_Inn_Phoenix_Midtown-Phoenix_Arizona.html\n",
      "Hotel img URL: http://media-cdn.tripadvisor.com/media/photo-s/07/0c/61/43/hilton-garden-inn-phoenix.jpg\n",
      "Price: $98\n",
      "**************************************************\n",
      "!!!!!!!!!!!!!!!!!!!!!!!!!!!!!!!!!!!!!!!!!!!!!!!!!!!!!!!!!!!!!!!!!!!!!!!!!!!!!!!!\n",
      "ONE OF THE NEEDED DIVS DOES NOT EXIST!\n",
      "!!!!!!!!!!!!!!!!!!!!!!!!!!!!!!!!!!!!!!!!!!!!!!!!!!!!!!!!!!!!!!!!!!!!!!!!!!!!!!!!\n",
      "**************************************************\n",
      "!!!!!!!!!!!!!!!!!!!!!!!!!!!!!!!!!!!!!!!!!!!!!!!!!!!!!!!!!!!!!!!!!!!!!!!!!!!!!!!!\n",
      "ONE OF THE NEEDED DIVS DOES NOT EXIST!\n",
      "!!!!!!!!!!!!!!!!!!!!!!!!!!!!!!!!!!!!!!!!!!!!!!!!!!!!!!!!!!!!!!!!!!!!!!!!!!!!!!!!\n",
      "**************************************************\n",
      "!!!!!!!!!!!!!!!!!!!!!!!!!!!!!!!!!!!!!!!!!!!!!!!!!!!!!!!!!!!!!!!!!!!!!!!!!!!!!!!!\n",
      "ONE OF THE NEEDED DIVS DOES NOT EXIST!\n",
      "!!!!!!!!!!!!!!!!!!!!!!!!!!!!!!!!!!!!!!!!!!!!!!!!!!!!!!!!!!!!!!!!!!!!!!!!!!!!!!!!\n",
      "**************************************************\n",
      "!!!!!!!!!!!!!!!!!!!!!!!!!!!!!!!!!!!!!!!!!!!!!!!!!!!!!!!!!!!!!!!!!!!!!!!!!!!!!!!!\n",
      "ONE OF THE NEEDED DIVS DOES NOT EXIST!\n",
      "!!!!!!!!!!!!!!!!!!!!!!!!!!!!!!!!!!!!!!!!!!!!!!!!!!!!!!!!!!!!!!!!!!!!!!!!!!!!!!!!\n",
      "**************************************************\n",
      "!!!!!!!!!!!!!!!!!!!!!!!!!!!!!!!!!!!!!!!!!!!!!!!!!!!!!!!!!!!!!!!!!!!!!!!!!!!!!!!!\n",
      "ONE OF THE NEEDED DIVS DOES NOT EXIST!\n",
      "!!!!!!!!!!!!!!!!!!!!!!!!!!!!!!!!!!!!!!!!!!!!!!!!!!!!!!!!!!!!!!!!!!!!!!!!!!!!!!!!\n",
      "**************************************************\n",
      "!!!!!!!!!!!!!!!!!!!!!!!!!!!!!!!!!!!!!!!!!!!!!!!!!!!!!!!!!!!!!!!!!!!!!!!!!!!!!!!!\n",
      "ONE OF THE NEEDED DIVS DOES NOT EXIST!\n",
      "!!!!!!!!!!!!!!!!!!!!!!!!!!!!!!!!!!!!!!!!!!!!!!!!!!!!!!!!!!!!!!!!!!!!!!!!!!!!!!!!\n",
      "**************************************************\n",
      "!!!!!!!!!!!!!!!!!!!!!!!!!!!!!!!!!!!!!!!!!!!!!!!!!!!!!!!!!!!!!!!!!!!!!!!!!!!!!!!!\n",
      "ONE OF THE NEEDED DIVS DOES NOT EXIST!\n",
      "!!!!!!!!!!!!!!!!!!!!!!!!!!!!!!!!!!!!!!!!!!!!!!!!!!!!!!!!!!!!!!!!!!!!!!!!!!!!!!!!\n",
      "**************************************************\n",
      "!!!!!!!!!!!!!!!!!!!!!!!!!!!!!!!!!!!!!!!!!!!!!!!!!!!!!!!!!!!!!!!!!!!!!!!!!!!!!!!!\n",
      "ONE OF THE NEEDED DIVS DOES NOT EXIST!\n",
      "!!!!!!!!!!!!!!!!!!!!!!!!!!!!!!!!!!!!!!!!!!!!!!!!!!!!!!!!!!!!!!!!!!!!!!!!!!!!!!!!\n",
      "**************************************************\n",
      "!!!!!!!!!!!!!!!!!!!!!!!!!!!!!!!!!!!!!!!!!!!!!!!!!!!!!!!!!!!!!!!!!!!!!!!!!!!!!!!!\n",
      "ONE OF THE NEEDED DIVS DOES NOT EXIST!\n",
      "!!!!!!!!!!!!!!!!!!!!!!!!!!!!!!!!!!!!!!!!!!!!!!!!!!!!!!!!!!!!!!!!!!!!!!!!!!!!!!!!\n",
      "**************************************************\n",
      "!!!!!!!!!!!!!!!!!!!!!!!!!!!!!!!!!!!!!!!!!!!!!!!!!!!!!!!!!!!!!!!!!!!!!!!!!!!!!!!!\n",
      "ONE OF THE NEEDED DIVS DOES NOT EXIST!\n",
      "!!!!!!!!!!!!!!!!!!!!!!!!!!!!!!!!!!!!!!!!!!!!!!!!!!!!!!!!!!!!!!!!!!!!!!!!!!!!!!!!\n",
      "**************************************************\n",
      "!!!!!!!!!!!!!!!!!!!!!!!!!!!!!!!!!!!!!!!!!!!!!!!!!!!!!!!!!!!!!!!!!!!!!!!!!!!!!!!!\n",
      "ONE OF THE NEEDED DIVS DOES NOT EXIST!\n",
      "!!!!!!!!!!!!!!!!!!!!!!!!!!!!!!!!!!!!!!!!!!!!!!!!!!!!!!!!!!!!!!!!!!!!!!!!!!!!!!!!\n",
      "**************************************************\n",
      "!!!!!!!!!!!!!!!!!!!!!!!!!!!!!!!!!!!!!!!!!!!!!!!!!!!!!!!!!!!!!!!!!!!!!!!!!!!!!!!!\n",
      "ONE OF THE NEEDED DIVS DOES NOT EXIST!\n",
      "!!!!!!!!!!!!!!!!!!!!!!!!!!!!!!!!!!!!!!!!!!!!!!!!!!!!!!!!!!!!!!!!!!!!!!!!!!!!!!!!\n",
      "**************************************************\n",
      "!!!!!!!!!!!!!!!!!!!!!!!!!!!!!!!!!!!!!!!!!!!!!!!!!!!!!!!!!!!!!!!!!!!!!!!!!!!!!!!!\n",
      "ONE OF THE NEEDED DIVS DOES NOT EXIST!\n",
      "!!!!!!!!!!!!!!!!!!!!!!!!!!!!!!!!!!!!!!!!!!!!!!!!!!!!!!!!!!!!!!!!!!!!!!!!!!!!!!!!\n",
      "**************************************************\n",
      "!!!!!!!!!!!!!!!!!!!!!!!!!!!!!!!!!!!!!!!!!!!!!!!!!!!!!!!!!!!!!!!!!!!!!!!!!!!!!!!!\n",
      "ONE OF THE NEEDED DIVS DOES NOT EXIST!\n",
      "!!!!!!!!!!!!!!!!!!!!!!!!!!!!!!!!!!!!!!!!!!!!!!!!!!!!!!!!!!!!!!!!!!!!!!!!!!!!!!!!\n",
      "**************************************************\n",
      "!!!!!!!!!!!!!!!!!!!!!!!!!!!!!!!!!!!!!!!!!!!!!!!!!!!!!!!!!!!!!!!!!!!!!!!!!!!!!!!!\n",
      "ONE OF THE NEEDED DIVS DOES NOT EXIST!\n",
      "!!!!!!!!!!!!!!!!!!!!!!!!!!!!!!!!!!!!!!!!!!!!!!!!!!!!!!!!!!!!!!!!!!!!!!!!!!!!!!!!\n",
      "**************************************************\n",
      "!!!!!!!!!!!!!!!!!!!!!!!!!!!!!!!!!!!!!!!!!!!!!!!!!!!!!!!!!!!!!!!!!!!!!!!!!!!!!!!!\n",
      "ONE OF THE NEEDED DIVS DOES NOT EXIST!\n",
      "!!!!!!!!!!!!!!!!!!!!!!!!!!!!!!!!!!!!!!!!!!!!!!!!!!!!!!!!!!!!!!!!!!!!!!!!!!!!!!!!\n",
      "**************************************************\n",
      "!!!!!!!!!!!!!!!!!!!!!!!!!!!!!!!!!!!!!!!!!!!!!!!!!!!!!!!!!!!!!!!!!!!!!!!!!!!!!!!!\n",
      "ONE OF THE NEEDED DIVS DOES NOT EXIST!\n",
      "!!!!!!!!!!!!!!!!!!!!!!!!!!!!!!!!!!!!!!!!!!!!!!!!!!!!!!!!!!!!!!!!!!!!!!!!!!!!!!!!\n",
      "**************************************************\n",
      "!!!!!!!!!!!!!!!!!!!!!!!!!!!!!!!!!!!!!!!!!!!!!!!!!!!!!!!!!!!!!!!!!!!!!!!!!!!!!!!!\n",
      "ONE OF THE NEEDED DIVS DOES NOT EXIST!\n",
      "!!!!!!!!!!!!!!!!!!!!!!!!!!!!!!!!!!!!!!!!!!!!!!!!!!!!!!!!!!!!!!!!!!!!!!!!!!!!!!!!\n",
      "**************************************************\n",
      "!!!!!!!!!!!!!!!!!!!!!!!!!!!!!!!!!!!!!!!!!!!!!!!!!!!!!!!!!!!!!!!!!!!!!!!!!!!!!!!!\n",
      "ONE OF THE NEEDED DIVS DOES NOT EXIST!\n",
      "!!!!!!!!!!!!!!!!!!!!!!!!!!!!!!!!!!!!!!!!!!!!!!!!!!!!!!!!!!!!!!!!!!!!!!!!!!!!!!!!\n",
      "**************************************************\n",
      "!!!!!!!!!!!!!!!!!!!!!!!!!!!!!!!!!!!!!!!!!!!!!!!!!!!!!!!!!!!!!!!!!!!!!!!!!!!!!!!!\n",
      "ONE OF THE NEEDED DIVS DOES NOT EXIST!\n",
      "!!!!!!!!!!!!!!!!!!!!!!!!!!!!!!!!!!!!!!!!!!!!!!!!!!!!!!!!!!!!!!!!!!!!!!!!!!!!!!!!\n",
      "**************************************************\n",
      "!!!!!!!!!!!!!!!!!!!!!!!!!!!!!!!!!!!!!!!!!!!!!!!!!!!!!!!!!!!!!!!!!!!!!!!!!!!!!!!!\n",
      "ONE OF THE NEEDED DIVS DOES NOT EXIST!\n",
      "!!!!!!!!!!!!!!!!!!!!!!!!!!!!!!!!!!!!!!!!!!!!!!!!!!!!!!!!!!!!!!!!!!!!!!!!!!!!!!!!\n",
      "**************************************************\n",
      "!!!!!!!!!!!!!!!!!!!!!!!!!!!!!!!!!!!!!!!!!!!!!!!!!!!!!!!!!!!!!!!!!!!!!!!!!!!!!!!!\n",
      "ONE OF THE NEEDED DIVS DOES NOT EXIST!\n",
      "!!!!!!!!!!!!!!!!!!!!!!!!!!!!!!!!!!!!!!!!!!!!!!!!!!!!!!!!!!!!!!!!!!!!!!!!!!!!!!!!\n",
      "**************************************************\n",
      "!!!!!!!!!!!!!!!!!!!!!!!!!!!!!!!!!!!!!!!!!!!!!!!!!!!!!!!!!!!!!!!!!!!!!!!!!!!!!!!!\n",
      "ONE OF THE NEEDED DIVS DOES NOT EXIST!\n",
      "!!!!!!!!!!!!!!!!!!!!!!!!!!!!!!!!!!!!!!!!!!!!!!!!!!!!!!!!!!!!!!!!!!!!!!!!!!!!!!!!\n",
      "**************************************************\n",
      "!!!!!!!!!!!!!!!!!!!!!!!!!!!!!!!!!!!!!!!!!!!!!!!!!!!!!!!!!!!!!!!!!!!!!!!!!!!!!!!!\n",
      "ONE OF THE NEEDED DIVS DOES NOT EXIST!\n",
      "!!!!!!!!!!!!!!!!!!!!!!!!!!!!!!!!!!!!!!!!!!!!!!!!!!!!!!!!!!!!!!!!!!!!!!!!!!!!!!!!\n",
      "**************************************************\n",
      "!!!!!!!!!!!!!!!!!!!!!!!!!!!!!!!!!!!!!!!!!!!!!!!!!!!!!!!!!!!!!!!!!!!!!!!!!!!!!!!!\n",
      "ONE OF THE NEEDED DIVS DOES NOT EXIST!\n",
      "!!!!!!!!!!!!!!!!!!!!!!!!!!!!!!!!!!!!!!!!!!!!!!!!!!!!!!!!!!!!!!!!!!!!!!!!!!!!!!!!\n",
      "**************************************************\n",
      "!!!!!!!!!!!!!!!!!!!!!!!!!!!!!!!!!!!!!!!!!!!!!!!!!!!!!!!!!!!!!!!!!!!!!!!!!!!!!!!!\n",
      "ONE OF THE NEEDED DIVS DOES NOT EXIST!\n",
      "!!!!!!!!!!!!!!!!!!!!!!!!!!!!!!!!!!!!!!!!!!!!!!!!!!!!!!!!!!!!!!!!!!!!!!!!!!!!!!!!\n",
      "**************************************************\n",
      "!!!!!!!!!!!!!!!!!!!!!!!!!!!!!!!!!!!!!!!!!!!!!!!!!!!!!!!!!!!!!!!!!!!!!!!!!!!!!!!!\n",
      "ONE OF THE NEEDED DIVS DOES NOT EXIST!\n",
      "!!!!!!!!!!!!!!!!!!!!!!!!!!!!!!!!!!!!!!!!!!!!!!!!!!!!!!!!!!!!!!!!!!!!!!!!!!!!!!!!\n",
      "**************************************************\n",
      "!!!!!!!!!!!!!!!!!!!!!!!!!!!!!!!!!!!!!!!!!!!!!!!!!!!!!!!!!!!!!!!!!!!!!!!!!!!!!!!!\n",
      "ONE OF THE NEEDED DIVS DOES NOT EXIST!\n",
      "!!!!!!!!!!!!!!!!!!!!!!!!!!!!!!!!!!!!!!!!!!!!!!!!!!!!!!!!!!!!!!!!!!!!!!!!!!!!!!!!\n",
      "**************************************************\n",
      "!!!!!!!!!!!!!!!!!!!!!!!!!!!!!!!!!!!!!!!!!!!!!!!!!!!!!!!!!!!!!!!!!!!!!!!!!!!!!!!!\n",
      "ONE OF THE NEEDED DIVS DOES NOT EXIST!\n",
      "!!!!!!!!!!!!!!!!!!!!!!!!!!!!!!!!!!!!!!!!!!!!!!!!!!!!!!!!!!!!!!!!!!!!!!!!!!!!!!!!\n",
      "**************************************************\n",
      "***************************************************************************\n",
      "Now scraping page 4 of 7 of the hotel results\n",
      "***************************************************************************\n",
      "Number of hotel listings on this page: 31\n",
      "business_id: None\n",
      "Hyatt Regency Phoenix\n",
      "http://www.tripadvisor.com/Hotel_Review-g31310-d73855-Reviews-Hyatt_Regency_Phoenix-Phoenix_Arizona.html\n",
      "Hotel img URL: http://media-cdn.tripadvisor.com/media/photo-s/07/28/5f/2d/hyatt-regency-phoenix.jpg\n",
      "Price: $251\n",
      "**************************************************\n",
      "business_id: 74936\n",
      "Extended Stay America - Phoenix - Chandler\n",
      "http://www.tripadvisor.com/Hotel_Review-g31310-d74936-Reviews-Extended_Stay_America_Phoenix_Chandler-Phoenix_Arizona.html\n",
      "Hotel img URL: http://media-cdn.tripadvisor.com/media/ProviderThumbnails/dirs/01/0f/010fd187a223eafd62aa6e090e75c6744large.jpg\n",
      "Price: $66\n",
      "**************************************************\n",
      "business_id: 73859\n",
      "La Quinta Inn Phoenix Thomas Road\n",
      "http://www.tripadvisor.com/Hotel_Review-g31310-d73859-Reviews-La_Quinta_Inn_Phoenix_Thomas_Road-Phoenix_Arizona.html\n",
      "Hotel img URL: http://media-cdn.tripadvisor.com/media/ProviderThumbnails/dirs/9f/f9/9ff9bd4ded2f88ab335ea80523e0fd262large.jpg\n",
      "Price: $65\n",
      "**************************************************\n",
      "business_id: 112175\n",
      "Extended Stay America - Phoenix - Biltmore\n",
      "http://www.tripadvisor.com/Hotel_Review-g31310-d112175-Reviews-Extended_Stay_America_Phoenix_Biltmore-Phoenix_Arizona.html\n",
      "Hotel img URL: http://media-cdn.tripadvisor.com/media/photo-o/06/c8/66/b2/bathroom.jpg\n",
      "Price: $76\n",
      "**************************************************\n",
      "business_id: 74587\n",
      "Extended Stay America - Phoenix - Airport\n",
      "http://www.tripadvisor.com/Hotel_Review-g31310-d74587-Reviews-Extended_Stay_America_Phoenix_Airport-Phoenix_Arizona.html\n",
      "Hotel img URL: http://media-cdn.tripadvisor.com/media/photo-o/04/a9/52/4a/bathroom.jpg\n",
      "Price: $62\n",
      "**************************************************\n",
      "business_id: 74739\n",
      "Travelodge Phoenix (50th Ave.)\n",
      "http://www.tripadvisor.com/Hotel_Review-g31310-d74739-Reviews-Travelodge_Phoenix_50th_Ave-Phoenix_Arizona.html\n",
      "Hotel img URL: http://media-cdn.tripadvisor.com/media/photo-o/05/7d/f6/ea/exterior.jpg\n",
      "Price: $59\n",
      "**************************************************\n",
      "business_id: 119327\n",
      "Extended Stay America - Phoenix - Deer Valley\n",
      "http://www.tripadvisor.com/Hotel_Review-g31310-d119327-Reviews-Extended_Stay_America_Phoenix_Deer_Valley-Phoenix_Arizona.html\n",
      "Hotel img URL: http://media-cdn.tripadvisor.com/media/ProviderThumbnails/dirs/fd/0e/fd0e5e0c9ef4c889ef8005053f469ecf1large.jpg\n",
      "Price: $57\n",
      "**************************************************\n",
      "business_id: 1176612\n",
      "Comfort Inn Phoenix\n",
      "http://www.tripadvisor.com/Hotel_Review-g31310-d1176612-Reviews-Comfort_Inn_Phoenix-Phoenix_Arizona.html\n",
      "Hotel img URL: http://media-cdn.tripadvisor.com/media/photo-s/07/7f/b0/03/exterior.jpg\n",
      "Price: $69\n",
      "**************************************************\n",
      "business_id: 3156712\n",
      "EZ 8 Motel Airporter\n",
      "http://www.tripadvisor.com/Hotel_Review-g31310-d3156712-Reviews-EZ_8_Motel_Airporter-Phoenix_Arizona.html\n",
      "Hotel img URL: http://media-cdn.tripadvisor.com/media/photo-s/02/82/45/c3/filename-016-jpg-thumbnail0.jpg\n",
      "Price: $50\n",
      "**************************************************\n",
      "business_id: 119314\n",
      "Quality Inn & Suites at Metro Center\n",
      "http://www.tripadvisor.com/Hotel_Review-g31310-d119314-Reviews-Quality_Inn_Suites_at_Metro_Center-Phoenix_Arizona.html\n",
      "Hotel img URL: http://media-cdn.tripadvisor.com/media/photo-o/05/1c/92/58/exterior.jpg\n",
      "Price: $43\n",
      "**************************************************\n",
      "business_id: 3405788\n",
      "Knights Inn Phoenix East\n",
      "http://www.tripadvisor.com/Hotel_Review-g31310-d3405788-Reviews-Knights_Inn_Phoenix_East-Phoenix_Arizona.html\n",
      "Hotel img URL: http://media-cdn.tripadvisor.com/media/photo-s/02/d2/22/f9/skyline-inn-phoenix-airport.jpg\n",
      "Price: $45\n",
      "**************************************************\n",
      "business_id: 74744\n",
      "Super 8 Phoenix West I-10\n",
      "http://www.tripadvisor.com/Hotel_Review-g31310-d74744-Reviews-Super_8_Phoenix_West_I_10-Phoenix_Arizona.html\n",
      "Hotel img URL: http://media-cdn.tripadvisor.com/media/photo-o/06/2b/57/6b/pool.jpg\n",
      "Price: $55\n",
      "**************************************************\n",
      "business_id: 73875\n",
      "Motel 6 Phoenix East\n",
      "http://www.tripadvisor.com/Hotel_Review-g31310-d73875-Reviews-Motel_6_Phoenix_East-Phoenix_Arizona.html\n",
      "Hotel img URL: http://media-cdn.tripadvisor.com/media/photo-s/07/25/da/4b/motel-6-phoenix-east.jpg\n",
      "Price: $50\n",
      "**************************************************\n",
      "business_id: 73773\n",
      "Americas Best Value Inn Phoenix/I-10 West\n",
      "http://www.tripadvisor.com/Hotel_Review-g31310-d73773-Reviews-Americas_Best_Value_Inn_Phoenix_I_10_West-Phoenix_Arizona.html\n",
      "Hotel img URL: http://media-cdn.tripadvisor.com/media/photo-s/06/ef/5d/45/exterior.jpg\n",
      "Price: $75\n",
      "**************************************************\n",
      "business_id: 74410\n",
      "Budget Inn\n",
      "http://www.tripadvisor.com/Hotel_Review-g31310-d74410-Reviews-Budget_Inn-Phoenix_Arizona.html\n",
      "Hotel img URL: http://media-cdn.tripadvisor.com/media/photo-s/02/5e/4b/93/exterior.jpg\n",
      "Price: $90\n",
      "**************************************************\n",
      "business_id: 217199\n",
      "Crossland Economy Studios - Phoenix - Metro - Dunlap Ave.\n",
      "http://www.tripadvisor.com/Hotel_Review-g31310-d217199-Reviews-Crossland_Economy_Studios_Phoenix_Metro_Dunlap_Ave-Phoenix_Arizona.html\n",
      "Hotel img URL: http://media-cdn.tripadvisor.com/media/photo-s/06/fe/3b/63/queen-studio-suite.jpg\n",
      "Price: $43\n",
      "**************************************************\n",
      "business_id: 74816\n",
      "Crossland Economy Studios - Phoenix - West\n",
      "http://www.tripadvisor.com/Hotel_Review-g31310-d74816-Reviews-Crossland_Economy_Studios_Phoenix_West-Phoenix_Arizona.html\n",
      "Hotel img URL: http://media-cdn.tripadvisor.com/media/photo-s/02/44/f1/09/exterior.jpg\n",
      "Price: $43\n",
      "**************************************************\n",
      "business_id: 74720\n",
      "Days Inn Phoenix\n",
      "http://www.tripadvisor.com/Hotel_Review-g31310-d74720-Reviews-Days_Inn_Phoenix-Phoenix_Arizona.html\n",
      "Hotel img URL: http://media-cdn.tripadvisor.com/media/photo-o/06/2a/74/55/pool.jpg\n",
      "Price: $45\n",
      "**************************************************\n",
      "business_id: 73982\n",
      "Days Inn Phoenix Airport\n",
      "http://www.tripadvisor.com/Hotel_Review-g31310-d73982-Reviews-Days_Inn_Phoenix_Airport-Phoenix_Arizona.html\n",
      "Hotel img URL: http://media-cdn.tripadvisor.com/media/photo-o/07/77/c8/24/guest-room.jpg\n",
      "Price: $50\n",
      "**************************************************\n",
      "business_id: 73803\n",
      "Days Inn Phoenix West\n",
      "http://www.tripadvisor.com/Hotel_Review-g31310-d73803-Reviews-Days_Inn_Phoenix_West-Phoenix_Arizona.html\n",
      "Hotel img URL: http://media-cdn.tripadvisor.com/media/photo-s/02/ba/94/86/days-inn-phoenix-west.jpg\n",
      "Price: $42\n",
      "**************************************************\n",
      "business_id: 119335\n",
      "Extended Stay America - Phoenix - Airport - E. Oak St.\n",
      "http://www.tripadvisor.com/Hotel_Review-g31310-d119335-Reviews-Extended_Stay_America_Phoenix_Airport_E_Oak_St-Phoenix_Arizona.html\n",
      "Hotel img URL: http://media-cdn.tripadvisor.com/media/photo-s/07/7f/81/7d/on-site-fitness-facility.jpg\n",
      "Price: $47\n",
      "**************************************************\n",
      "business_id: 223039\n",
      "Extended Stay America - Phoenix - Chandler - E. Chandler Blvd.\n",
      "http://www.tripadvisor.com/Hotel_Review-g31310-d223039-Reviews-Extended_Stay_America_Phoenix_Chandler_E_Chandler_Blvd-Phoenix_Arizona.html\n",
      "Hotel img URL: http://media-cdn.tripadvisor.com/media/photo-o/07/73/94/08/exterior.jpg\n",
      "Price: $62\n",
      "**************************************************\n",
      "business_id: 74657\n",
      "Extended Stay America - Phoenix - Metro - Black Canyon Highway\n",
      "http://www.tripadvisor.com/Hotel_Review-g31310-d74657-Reviews-Extended_Stay_America_Phoenix_Metro_Black_Canyon_Highway-Phoenix_Arizona.html\n",
      "Hotel img URL: http://media-cdn.tripadvisor.com/media/photo-s/07/77/cb/99/on-site-fitness-facility.jpg\n",
      "Price: $47\n",
      "**************************************************\n",
      "business_id: 74652\n",
      "Extended Stay America - Phoenix - Midtown\n",
      "http://www.tripadvisor.com/Hotel_Review-g31310-d74652-Reviews-Extended_Stay_America_Phoenix_Midtown-Phoenix_Arizona.html\n",
      "Hotel img URL: http://media-cdn.tripadvisor.com/media/photo-o/06/c8/66/b4/bathroom.jpg\n",
      "Price: $76\n",
      "**************************************************\n",
      "business_id: 73927\n",
      "Howard Johnson Phoenix Airport/Downtown Area\n",
      "http://www.tripadvisor.com/Hotel_Review-g31310-d73927-Reviews-Howard_Johnson_Phoenix_Airport_Downtown_Area-Phoenix_Arizona.html\n",
      "Hotel img URL: http://media-cdn.tripadvisor.com/media/photo-s/07/c6/29/75/downtown-area.jpg\n",
      "Price: $64\n",
      "**************************************************\n",
      "business_id: 73712\n",
      "Howard Johnson Phoenix North\n",
      "http://www.tripadvisor.com/Hotel_Review-g31310-d73712-Reviews-Howard_Johnson_Phoenix_North-Phoenix_Arizona.html\n",
      "Hotel img URL: http://media-cdn.tripadvisor.com/media/photo-o/06/2e/4a/ba/pool.jpg\n",
      "Price: $35\n",
      "**************************************************\n",
      "business_id: 74732\n",
      "Knights Inn Fairground-Phoenix\n",
      "http://www.tripadvisor.com/Hotel_Review-g31310-d74732-Reviews-Knights_Inn_Fairground_Phoenix-Phoenix_Arizona.html\n",
      "Hotel img URL: http://media-cdn.tripadvisor.com/media/photo-s/02/1c/b8/1b/knights-inn-fairground.jpg\n",
      "Price: $34\n",
      "**************************************************\n",
      "business_id: 73889\n",
      "Knights Inn Phoenix North\n",
      "http://www.tripadvisor.com/Hotel_Review-g31310-d73889-Reviews-Knights_Inn_Phoenix_North-Phoenix_Arizona.html\n",
      "Hotel img URL: http://media-cdn.tripadvisor.com/media/photo-o/02/57/0f/dd/lobby.jpg\n",
      "Price: $31\n",
      "**************************************************\n",
      "business_id: 243927\n",
      "Motel 6 Phoenix Airport - 24th Street\n",
      "http://www.tripadvisor.com/Hotel_Review-g31310-d243927-Reviews-Motel_6_Phoenix_Airport_24th_Street-Phoenix_Arizona.html\n",
      "Hotel img URL: http://media-cdn.tripadvisor.com/media/photo-s/07/42/62/aa/motel-6-phoenix-airport.jpg\n",
      "Price: $56\n",
      "**************************************************\n",
      "business_id: 73869\n",
      "Motel 6 Phoenix - Black Canyon\n",
      "http://www.tripadvisor.com/Hotel_Review-g31310-d73869-Reviews-Motel_6_Phoenix_Black_Canyon-Phoenix_Arizona.html\n",
      "Hotel img URL: http://media-cdn.tripadvisor.com/media/photo-s/07/41/22/d0/motel-6-phoenix-black.jpg\n",
      "Price: $52\n",
      "**************************************************\n",
      "business_id: 73882\n",
      "Motel 6 Phoenix North - Bell Road\n",
      "http://www.tripadvisor.com/Hotel_Review-g31310-d73882-Reviews-Motel_6_Phoenix_North_Bell_Road-Phoenix_Arizona.html\n",
      "Hotel img URL: http://media-cdn.tripadvisor.com/media/photo-s/07/29/f0/b7/motel-6-phoenix-north.jpg\n",
      "Price: $52\n",
      "**************************************************\n",
      "***************************************************************************\n",
      "Now scraping page 5 of 7 of the hotel results\n",
      "***************************************************************************\n",
      "Number of hotel listings on this page: 31\n",
      "!!!!!!!!!!!!!!!!!!!!!!!!!!!!!!!!!!!!!!!!!!!!!!!!!!!!!!!!!!!!!!!!!!!!!!!!!!!!!!!!\n",
      "ONE OF THE NEEDED DIVS DOES NOT EXIST!\n",
      "!!!!!!!!!!!!!!!!!!!!!!!!!!!!!!!!!!!!!!!!!!!!!!!!!!!!!!!!!!!!!!!!!!!!!!!!!!!!!!!!\n",
      "**************************************************\n",
      "!!!!!!!!!!!!!!!!!!!!!!!!!!!!!!!!!!!!!!!!!!!!!!!!!!!!!!!!!!!!!!!!!!!!!!!!!!!!!!!!\n",
      "ONE OF THE NEEDED DIVS DOES NOT EXIST!\n",
      "!!!!!!!!!!!!!!!!!!!!!!!!!!!!!!!!!!!!!!!!!!!!!!!!!!!!!!!!!!!!!!!!!!!!!!!!!!!!!!!!\n",
      "**************************************************\n",
      "!!!!!!!!!!!!!!!!!!!!!!!!!!!!!!!!!!!!!!!!!!!!!!!!!!!!!!!!!!!!!!!!!!!!!!!!!!!!!!!!\n",
      "ONE OF THE NEEDED DIVS DOES NOT EXIST!\n",
      "!!!!!!!!!!!!!!!!!!!!!!!!!!!!!!!!!!!!!!!!!!!!!!!!!!!!!!!!!!!!!!!!!!!!!!!!!!!!!!!!\n",
      "**************************************************\n",
      "!!!!!!!!!!!!!!!!!!!!!!!!!!!!!!!!!!!!!!!!!!!!!!!!!!!!!!!!!!!!!!!!!!!!!!!!!!!!!!!!\n",
      "ONE OF THE NEEDED DIVS DOES NOT EXIST!\n",
      "!!!!!!!!!!!!!!!!!!!!!!!!!!!!!!!!!!!!!!!!!!!!!!!!!!!!!!!!!!!!!!!!!!!!!!!!!!!!!!!!\n",
      "**************************************************\n",
      "!!!!!!!!!!!!!!!!!!!!!!!!!!!!!!!!!!!!!!!!!!!!!!!!!!!!!!!!!!!!!!!!!!!!!!!!!!!!!!!!\n",
      "ONE OF THE NEEDED DIVS DOES NOT EXIST!\n",
      "!!!!!!!!!!!!!!!!!!!!!!!!!!!!!!!!!!!!!!!!!!!!!!!!!!!!!!!!!!!!!!!!!!!!!!!!!!!!!!!!\n",
      "**************************************************\n",
      "!!!!!!!!!!!!!!!!!!!!!!!!!!!!!!!!!!!!!!!!!!!!!!!!!!!!!!!!!!!!!!!!!!!!!!!!!!!!!!!!\n",
      "ONE OF THE NEEDED DIVS DOES NOT EXIST!\n",
      "!!!!!!!!!!!!!!!!!!!!!!!!!!!!!!!!!!!!!!!!!!!!!!!!!!!!!!!!!!!!!!!!!!!!!!!!!!!!!!!!\n",
      "**************************************************\n",
      "!!!!!!!!!!!!!!!!!!!!!!!!!!!!!!!!!!!!!!!!!!!!!!!!!!!!!!!!!!!!!!!!!!!!!!!!!!!!!!!!\n",
      "ONE OF THE NEEDED DIVS DOES NOT EXIST!\n",
      "!!!!!!!!!!!!!!!!!!!!!!!!!!!!!!!!!!!!!!!!!!!!!!!!!!!!!!!!!!!!!!!!!!!!!!!!!!!!!!!!\n",
      "**************************************************\n",
      "!!!!!!!!!!!!!!!!!!!!!!!!!!!!!!!!!!!!!!!!!!!!!!!!!!!!!!!!!!!!!!!!!!!!!!!!!!!!!!!!\n",
      "ONE OF THE NEEDED DIVS DOES NOT EXIST!\n",
      "!!!!!!!!!!!!!!!!!!!!!!!!!!!!!!!!!!!!!!!!!!!!!!!!!!!!!!!!!!!!!!!!!!!!!!!!!!!!!!!!\n",
      "**************************************************\n",
      "!!!!!!!!!!!!!!!!!!!!!!!!!!!!!!!!!!!!!!!!!!!!!!!!!!!!!!!!!!!!!!!!!!!!!!!!!!!!!!!!\n",
      "ONE OF THE NEEDED DIVS DOES NOT EXIST!\n",
      "!!!!!!!!!!!!!!!!!!!!!!!!!!!!!!!!!!!!!!!!!!!!!!!!!!!!!!!!!!!!!!!!!!!!!!!!!!!!!!!!\n",
      "**************************************************\n",
      "!!!!!!!!!!!!!!!!!!!!!!!!!!!!!!!!!!!!!!!!!!!!!!!!!!!!!!!!!!!!!!!!!!!!!!!!!!!!!!!!\n",
      "ONE OF THE NEEDED DIVS DOES NOT EXIST!\n",
      "!!!!!!!!!!!!!!!!!!!!!!!!!!!!!!!!!!!!!!!!!!!!!!!!!!!!!!!!!!!!!!!!!!!!!!!!!!!!!!!!\n",
      "**************************************************\n",
      "!!!!!!!!!!!!!!!!!!!!!!!!!!!!!!!!!!!!!!!!!!!!!!!!!!!!!!!!!!!!!!!!!!!!!!!!!!!!!!!!\n",
      "ONE OF THE NEEDED DIVS DOES NOT EXIST!\n",
      "!!!!!!!!!!!!!!!!!!!!!!!!!!!!!!!!!!!!!!!!!!!!!!!!!!!!!!!!!!!!!!!!!!!!!!!!!!!!!!!!\n",
      "**************************************************\n",
      "!!!!!!!!!!!!!!!!!!!!!!!!!!!!!!!!!!!!!!!!!!!!!!!!!!!!!!!!!!!!!!!!!!!!!!!!!!!!!!!!\n",
      "ONE OF THE NEEDED DIVS DOES NOT EXIST!\n",
      "!!!!!!!!!!!!!!!!!!!!!!!!!!!!!!!!!!!!!!!!!!!!!!!!!!!!!!!!!!!!!!!!!!!!!!!!!!!!!!!!\n",
      "**************************************************\n",
      "!!!!!!!!!!!!!!!!!!!!!!!!!!!!!!!!!!!!!!!!!!!!!!!!!!!!!!!!!!!!!!!!!!!!!!!!!!!!!!!!\n",
      "ONE OF THE NEEDED DIVS DOES NOT EXIST!\n",
      "!!!!!!!!!!!!!!!!!!!!!!!!!!!!!!!!!!!!!!!!!!!!!!!!!!!!!!!!!!!!!!!!!!!!!!!!!!!!!!!!\n",
      "**************************************************\n",
      "!!!!!!!!!!!!!!!!!!!!!!!!!!!!!!!!!!!!!!!!!!!!!!!!!!!!!!!!!!!!!!!!!!!!!!!!!!!!!!!!\n",
      "ONE OF THE NEEDED DIVS DOES NOT EXIST!\n",
      "!!!!!!!!!!!!!!!!!!!!!!!!!!!!!!!!!!!!!!!!!!!!!!!!!!!!!!!!!!!!!!!!!!!!!!!!!!!!!!!!\n",
      "**************************************************\n",
      "!!!!!!!!!!!!!!!!!!!!!!!!!!!!!!!!!!!!!!!!!!!!!!!!!!!!!!!!!!!!!!!!!!!!!!!!!!!!!!!!\n",
      "ONE OF THE NEEDED DIVS DOES NOT EXIST!\n",
      "!!!!!!!!!!!!!!!!!!!!!!!!!!!!!!!!!!!!!!!!!!!!!!!!!!!!!!!!!!!!!!!!!!!!!!!!!!!!!!!!\n",
      "**************************************************\n",
      "!!!!!!!!!!!!!!!!!!!!!!!!!!!!!!!!!!!!!!!!!!!!!!!!!!!!!!!!!!!!!!!!!!!!!!!!!!!!!!!!\n",
      "ONE OF THE NEEDED DIVS DOES NOT EXIST!\n",
      "!!!!!!!!!!!!!!!!!!!!!!!!!!!!!!!!!!!!!!!!!!!!!!!!!!!!!!!!!!!!!!!!!!!!!!!!!!!!!!!!\n",
      "**************************************************\n",
      "!!!!!!!!!!!!!!!!!!!!!!!!!!!!!!!!!!!!!!!!!!!!!!!!!!!!!!!!!!!!!!!!!!!!!!!!!!!!!!!!\n",
      "ONE OF THE NEEDED DIVS DOES NOT EXIST!\n",
      "!!!!!!!!!!!!!!!!!!!!!!!!!!!!!!!!!!!!!!!!!!!!!!!!!!!!!!!!!!!!!!!!!!!!!!!!!!!!!!!!\n",
      "**************************************************\n",
      "!!!!!!!!!!!!!!!!!!!!!!!!!!!!!!!!!!!!!!!!!!!!!!!!!!!!!!!!!!!!!!!!!!!!!!!!!!!!!!!!\n",
      "ONE OF THE NEEDED DIVS DOES NOT EXIST!\n",
      "!!!!!!!!!!!!!!!!!!!!!!!!!!!!!!!!!!!!!!!!!!!!!!!!!!!!!!!!!!!!!!!!!!!!!!!!!!!!!!!!\n",
      "**************************************************\n",
      "!!!!!!!!!!!!!!!!!!!!!!!!!!!!!!!!!!!!!!!!!!!!!!!!!!!!!!!!!!!!!!!!!!!!!!!!!!!!!!!!\n",
      "ONE OF THE NEEDED DIVS DOES NOT EXIST!\n",
      "!!!!!!!!!!!!!!!!!!!!!!!!!!!!!!!!!!!!!!!!!!!!!!!!!!!!!!!!!!!!!!!!!!!!!!!!!!!!!!!!\n",
      "**************************************************\n",
      "!!!!!!!!!!!!!!!!!!!!!!!!!!!!!!!!!!!!!!!!!!!!!!!!!!!!!!!!!!!!!!!!!!!!!!!!!!!!!!!!\n",
      "ONE OF THE NEEDED DIVS DOES NOT EXIST!\n",
      "!!!!!!!!!!!!!!!!!!!!!!!!!!!!!!!!!!!!!!!!!!!!!!!!!!!!!!!!!!!!!!!!!!!!!!!!!!!!!!!!\n",
      "**************************************************\n",
      "!!!!!!!!!!!!!!!!!!!!!!!!!!!!!!!!!!!!!!!!!!!!!!!!!!!!!!!!!!!!!!!!!!!!!!!!!!!!!!!!\n",
      "ONE OF THE NEEDED DIVS DOES NOT EXIST!\n",
      "!!!!!!!!!!!!!!!!!!!!!!!!!!!!!!!!!!!!!!!!!!!!!!!!!!!!!!!!!!!!!!!!!!!!!!!!!!!!!!!!\n",
      "**************************************************\n",
      "!!!!!!!!!!!!!!!!!!!!!!!!!!!!!!!!!!!!!!!!!!!!!!!!!!!!!!!!!!!!!!!!!!!!!!!!!!!!!!!!\n",
      "ONE OF THE NEEDED DIVS DOES NOT EXIST!\n",
      "!!!!!!!!!!!!!!!!!!!!!!!!!!!!!!!!!!!!!!!!!!!!!!!!!!!!!!!!!!!!!!!!!!!!!!!!!!!!!!!!\n",
      "**************************************************\n",
      "!!!!!!!!!!!!!!!!!!!!!!!!!!!!!!!!!!!!!!!!!!!!!!!!!!!!!!!!!!!!!!!!!!!!!!!!!!!!!!!!\n",
      "ONE OF THE NEEDED DIVS DOES NOT EXIST!\n",
      "!!!!!!!!!!!!!!!!!!!!!!!!!!!!!!!!!!!!!!!!!!!!!!!!!!!!!!!!!!!!!!!!!!!!!!!!!!!!!!!!\n",
      "**************************************************\n",
      "!!!!!!!!!!!!!!!!!!!!!!!!!!!!!!!!!!!!!!!!!!!!!!!!!!!!!!!!!!!!!!!!!!!!!!!!!!!!!!!!\n",
      "ONE OF THE NEEDED DIVS DOES NOT EXIST!\n",
      "!!!!!!!!!!!!!!!!!!!!!!!!!!!!!!!!!!!!!!!!!!!!!!!!!!!!!!!!!!!!!!!!!!!!!!!!!!!!!!!!\n",
      "**************************************************\n",
      "!!!!!!!!!!!!!!!!!!!!!!!!!!!!!!!!!!!!!!!!!!!!!!!!!!!!!!!!!!!!!!!!!!!!!!!!!!!!!!!!\n",
      "ONE OF THE NEEDED DIVS DOES NOT EXIST!\n",
      "!!!!!!!!!!!!!!!!!!!!!!!!!!!!!!!!!!!!!!!!!!!!!!!!!!!!!!!!!!!!!!!!!!!!!!!!!!!!!!!!\n",
      "**************************************************\n",
      "!!!!!!!!!!!!!!!!!!!!!!!!!!!!!!!!!!!!!!!!!!!!!!!!!!!!!!!!!!!!!!!!!!!!!!!!!!!!!!!!\n",
      "ONE OF THE NEEDED DIVS DOES NOT EXIST!\n",
      "!!!!!!!!!!!!!!!!!!!!!!!!!!!!!!!!!!!!!!!!!!!!!!!!!!!!!!!!!!!!!!!!!!!!!!!!!!!!!!!!\n",
      "**************************************************\n",
      "!!!!!!!!!!!!!!!!!!!!!!!!!!!!!!!!!!!!!!!!!!!!!!!!!!!!!!!!!!!!!!!!!!!!!!!!!!!!!!!!\n",
      "ONE OF THE NEEDED DIVS DOES NOT EXIST!\n",
      "!!!!!!!!!!!!!!!!!!!!!!!!!!!!!!!!!!!!!!!!!!!!!!!!!!!!!!!!!!!!!!!!!!!!!!!!!!!!!!!!\n",
      "**************************************************\n",
      "!!!!!!!!!!!!!!!!!!!!!!!!!!!!!!!!!!!!!!!!!!!!!!!!!!!!!!!!!!!!!!!!!!!!!!!!!!!!!!!!\n",
      "ONE OF THE NEEDED DIVS DOES NOT EXIST!\n",
      "!!!!!!!!!!!!!!!!!!!!!!!!!!!!!!!!!!!!!!!!!!!!!!!!!!!!!!!!!!!!!!!!!!!!!!!!!!!!!!!!\n",
      "**************************************************\n",
      "!!!!!!!!!!!!!!!!!!!!!!!!!!!!!!!!!!!!!!!!!!!!!!!!!!!!!!!!!!!!!!!!!!!!!!!!!!!!!!!!\n",
      "ONE OF THE NEEDED DIVS DOES NOT EXIST!\n",
      "!!!!!!!!!!!!!!!!!!!!!!!!!!!!!!!!!!!!!!!!!!!!!!!!!!!!!!!!!!!!!!!!!!!!!!!!!!!!!!!!\n",
      "**************************************************\n",
      "!!!!!!!!!!!!!!!!!!!!!!!!!!!!!!!!!!!!!!!!!!!!!!!!!!!!!!!!!!!!!!!!!!!!!!!!!!!!!!!!\n",
      "ONE OF THE NEEDED DIVS DOES NOT EXIST!\n",
      "!!!!!!!!!!!!!!!!!!!!!!!!!!!!!!!!!!!!!!!!!!!!!!!!!!!!!!!!!!!!!!!!!!!!!!!!!!!!!!!!\n",
      "**************************************************\n",
      "!!!!!!!!!!!!!!!!!!!!!!!!!!!!!!!!!!!!!!!!!!!!!!!!!!!!!!!!!!!!!!!!!!!!!!!!!!!!!!!!\n",
      "ONE OF THE NEEDED DIVS DOES NOT EXIST!\n",
      "!!!!!!!!!!!!!!!!!!!!!!!!!!!!!!!!!!!!!!!!!!!!!!!!!!!!!!!!!!!!!!!!!!!!!!!!!!!!!!!!\n",
      "**************************************************\n",
      "***************************************************************************\n",
      "Now scraping page 6 of 7 of the hotel results\n",
      "***************************************************************************\n",
      "Number of hotel listings on this page: 22\n",
      "business_id: None\n",
      "JW Marriott Desert Ridge Resort & Spa Phoenix\n",
      "http://www.tripadvisor.com/Hotel_Review-g31310-d223860-Reviews-JW_Marriott_Desert_Ridge_Resort_Spa_Phoenix-Phoenix_Arizona.html\n",
      "Hotel img URL: http://media-cdn.tripadvisor.com/media/ProviderThumbnails/dirs/20/41/2041be60abc17191c4f3118b25ab474b1large.jpg\n",
      "Price: $389\n",
      "**************************************************\n",
      "!!!!!!!!!!!!!!!!!!!!!!!!!!!!!!!!!!!!!!!!!!!!!!!!!!!!!!!!!!!!!!!!!!!!!!!!!!!!!!!!\n",
      "ONE OF THE NEEDED DIVS DOES NOT EXIST!\n",
      "!!!!!!!!!!!!!!!!!!!!!!!!!!!!!!!!!!!!!!!!!!!!!!!!!!!!!!!!!!!!!!!!!!!!!!!!!!!!!!!!\n",
      "**************************************************\n",
      "!!!!!!!!!!!!!!!!!!!!!!!!!!!!!!!!!!!!!!!!!!!!!!!!!!!!!!!!!!!!!!!!!!!!!!!!!!!!!!!!\n",
      "ONE OF THE NEEDED DIVS DOES NOT EXIST!\n",
      "!!!!!!!!!!!!!!!!!!!!!!!!!!!!!!!!!!!!!!!!!!!!!!!!!!!!!!!!!!!!!!!!!!!!!!!!!!!!!!!!\n",
      "**************************************************\n",
      "!!!!!!!!!!!!!!!!!!!!!!!!!!!!!!!!!!!!!!!!!!!!!!!!!!!!!!!!!!!!!!!!!!!!!!!!!!!!!!!!\n",
      "ONE OF THE NEEDED DIVS DOES NOT EXIST!\n",
      "!!!!!!!!!!!!!!!!!!!!!!!!!!!!!!!!!!!!!!!!!!!!!!!!!!!!!!!!!!!!!!!!!!!!!!!!!!!!!!!!\n",
      "**************************************************\n",
      "!!!!!!!!!!!!!!!!!!!!!!!!!!!!!!!!!!!!!!!!!!!!!!!!!!!!!!!!!!!!!!!!!!!!!!!!!!!!!!!!\n",
      "ONE OF THE NEEDED DIVS DOES NOT EXIST!\n",
      "!!!!!!!!!!!!!!!!!!!!!!!!!!!!!!!!!!!!!!!!!!!!!!!!!!!!!!!!!!!!!!!!!!!!!!!!!!!!!!!!\n",
      "**************************************************\n",
      "!!!!!!!!!!!!!!!!!!!!!!!!!!!!!!!!!!!!!!!!!!!!!!!!!!!!!!!!!!!!!!!!!!!!!!!!!!!!!!!!\n",
      "ONE OF THE NEEDED DIVS DOES NOT EXIST!\n",
      "!!!!!!!!!!!!!!!!!!!!!!!!!!!!!!!!!!!!!!!!!!!!!!!!!!!!!!!!!!!!!!!!!!!!!!!!!!!!!!!!\n",
      "**************************************************\n",
      "!!!!!!!!!!!!!!!!!!!!!!!!!!!!!!!!!!!!!!!!!!!!!!!!!!!!!!!!!!!!!!!!!!!!!!!!!!!!!!!!\n",
      "ONE OF THE NEEDED DIVS DOES NOT EXIST!\n",
      "!!!!!!!!!!!!!!!!!!!!!!!!!!!!!!!!!!!!!!!!!!!!!!!!!!!!!!!!!!!!!!!!!!!!!!!!!!!!!!!!\n",
      "**************************************************\n",
      "!!!!!!!!!!!!!!!!!!!!!!!!!!!!!!!!!!!!!!!!!!!!!!!!!!!!!!!!!!!!!!!!!!!!!!!!!!!!!!!!\n",
      "ONE OF THE NEEDED DIVS DOES NOT EXIST!\n",
      "!!!!!!!!!!!!!!!!!!!!!!!!!!!!!!!!!!!!!!!!!!!!!!!!!!!!!!!!!!!!!!!!!!!!!!!!!!!!!!!!\n",
      "**************************************************\n",
      "!!!!!!!!!!!!!!!!!!!!!!!!!!!!!!!!!!!!!!!!!!!!!!!!!!!!!!!!!!!!!!!!!!!!!!!!!!!!!!!!\n",
      "ONE OF THE NEEDED DIVS DOES NOT EXIST!\n",
      "!!!!!!!!!!!!!!!!!!!!!!!!!!!!!!!!!!!!!!!!!!!!!!!!!!!!!!!!!!!!!!!!!!!!!!!!!!!!!!!!\n",
      "**************************************************\n",
      "!!!!!!!!!!!!!!!!!!!!!!!!!!!!!!!!!!!!!!!!!!!!!!!!!!!!!!!!!!!!!!!!!!!!!!!!!!!!!!!!\n",
      "ONE OF THE NEEDED DIVS DOES NOT EXIST!\n",
      "!!!!!!!!!!!!!!!!!!!!!!!!!!!!!!!!!!!!!!!!!!!!!!!!!!!!!!!!!!!!!!!!!!!!!!!!!!!!!!!!\n",
      "**************************************************\n",
      "!!!!!!!!!!!!!!!!!!!!!!!!!!!!!!!!!!!!!!!!!!!!!!!!!!!!!!!!!!!!!!!!!!!!!!!!!!!!!!!!\n",
      "ONE OF THE NEEDED DIVS DOES NOT EXIST!\n",
      "!!!!!!!!!!!!!!!!!!!!!!!!!!!!!!!!!!!!!!!!!!!!!!!!!!!!!!!!!!!!!!!!!!!!!!!!!!!!!!!!\n",
      "**************************************************\n",
      "!!!!!!!!!!!!!!!!!!!!!!!!!!!!!!!!!!!!!!!!!!!!!!!!!!!!!!!!!!!!!!!!!!!!!!!!!!!!!!!!\n",
      "ONE OF THE NEEDED DIVS DOES NOT EXIST!\n",
      "!!!!!!!!!!!!!!!!!!!!!!!!!!!!!!!!!!!!!!!!!!!!!!!!!!!!!!!!!!!!!!!!!!!!!!!!!!!!!!!!\n",
      "**************************************************\n",
      "!!!!!!!!!!!!!!!!!!!!!!!!!!!!!!!!!!!!!!!!!!!!!!!!!!!!!!!!!!!!!!!!!!!!!!!!!!!!!!!!\n",
      "ONE OF THE NEEDED DIVS DOES NOT EXIST!\n",
      "!!!!!!!!!!!!!!!!!!!!!!!!!!!!!!!!!!!!!!!!!!!!!!!!!!!!!!!!!!!!!!!!!!!!!!!!!!!!!!!!\n",
      "**************************************************\n",
      "!!!!!!!!!!!!!!!!!!!!!!!!!!!!!!!!!!!!!!!!!!!!!!!!!!!!!!!!!!!!!!!!!!!!!!!!!!!!!!!!\n",
      "ONE OF THE NEEDED DIVS DOES NOT EXIST!\n",
      "!!!!!!!!!!!!!!!!!!!!!!!!!!!!!!!!!!!!!!!!!!!!!!!!!!!!!!!!!!!!!!!!!!!!!!!!!!!!!!!!\n",
      "**************************************************\n",
      "!!!!!!!!!!!!!!!!!!!!!!!!!!!!!!!!!!!!!!!!!!!!!!!!!!!!!!!!!!!!!!!!!!!!!!!!!!!!!!!!\n",
      "ONE OF THE NEEDED DIVS DOES NOT EXIST!\n",
      "!!!!!!!!!!!!!!!!!!!!!!!!!!!!!!!!!!!!!!!!!!!!!!!!!!!!!!!!!!!!!!!!!!!!!!!!!!!!!!!!\n",
      "**************************************************\n",
      "!!!!!!!!!!!!!!!!!!!!!!!!!!!!!!!!!!!!!!!!!!!!!!!!!!!!!!!!!!!!!!!!!!!!!!!!!!!!!!!!\n",
      "ONE OF THE NEEDED DIVS DOES NOT EXIST!\n",
      "!!!!!!!!!!!!!!!!!!!!!!!!!!!!!!!!!!!!!!!!!!!!!!!!!!!!!!!!!!!!!!!!!!!!!!!!!!!!!!!!\n",
      "**************************************************\n",
      "!!!!!!!!!!!!!!!!!!!!!!!!!!!!!!!!!!!!!!!!!!!!!!!!!!!!!!!!!!!!!!!!!!!!!!!!!!!!!!!!\n",
      "ONE OF THE NEEDED DIVS DOES NOT EXIST!\n",
      "!!!!!!!!!!!!!!!!!!!!!!!!!!!!!!!!!!!!!!!!!!!!!!!!!!!!!!!!!!!!!!!!!!!!!!!!!!!!!!!!\n",
      "**************************************************\n",
      "!!!!!!!!!!!!!!!!!!!!!!!!!!!!!!!!!!!!!!!!!!!!!!!!!!!!!!!!!!!!!!!!!!!!!!!!!!!!!!!!\n",
      "ONE OF THE NEEDED DIVS DOES NOT EXIST!\n",
      "!!!!!!!!!!!!!!!!!!!!!!!!!!!!!!!!!!!!!!!!!!!!!!!!!!!!!!!!!!!!!!!!!!!!!!!!!!!!!!!!\n",
      "**************************************************\n",
      "!!!!!!!!!!!!!!!!!!!!!!!!!!!!!!!!!!!!!!!!!!!!!!!!!!!!!!!!!!!!!!!!!!!!!!!!!!!!!!!!\n",
      "ONE OF THE NEEDED DIVS DOES NOT EXIST!\n",
      "!!!!!!!!!!!!!!!!!!!!!!!!!!!!!!!!!!!!!!!!!!!!!!!!!!!!!!!!!!!!!!!!!!!!!!!!!!!!!!!!\n",
      "**************************************************\n",
      "!!!!!!!!!!!!!!!!!!!!!!!!!!!!!!!!!!!!!!!!!!!!!!!!!!!!!!!!!!!!!!!!!!!!!!!!!!!!!!!!\n",
      "ONE OF THE NEEDED DIVS DOES NOT EXIST!\n",
      "!!!!!!!!!!!!!!!!!!!!!!!!!!!!!!!!!!!!!!!!!!!!!!!!!!!!!!!!!!!!!!!!!!!!!!!!!!!!!!!!\n",
      "**************************************************\n",
      "!!!!!!!!!!!!!!!!!!!!!!!!!!!!!!!!!!!!!!!!!!!!!!!!!!!!!!!!!!!!!!!!!!!!!!!!!!!!!!!!\n",
      "ONE OF THE NEEDED DIVS DOES NOT EXIST!\n",
      "!!!!!!!!!!!!!!!!!!!!!!!!!!!!!!!!!!!!!!!!!!!!!!!!!!!!!!!!!!!!!!!!!!!!!!!!!!!!!!!!\n",
      "**************************************************\n",
      "!!!!!!!!!!!!!!!!!!!!!!!!!!!!!!!!!!!!!!!!!!!!!!!!!!!!!!!!!!!!!!!!!!!!!!!!!!!!!!!!\n",
      "ONE OF THE NEEDED DIVS DOES NOT EXIST!\n",
      "!!!!!!!!!!!!!!!!!!!!!!!!!!!!!!!!!!!!!!!!!!!!!!!!!!!!!!!!!!!!!!!!!!!!!!!!!!!!!!!!\n",
      "**************************************************\n"
     ]
    }
   ],
   "source": [
    "# number of pages of hotel results to scrape\n",
    "max_pages = 7\n",
    "\n",
    "url = \"http://www.tripadvisor.com/Hotels-g31310-Phoenix_Arizona-Hotels.html\"\n",
    "\n",
    "#####################################################\n",
    "## do not edit below this line\n",
    "#####################################################\n",
    "# more_pages is used to keep track if there is more\n",
    "# than one page of hotel results for the given city\n",
    "more_pages = True\n",
    "\n",
    "# scraping will start on page 1 of the hotel results\n",
    "page = 1\n",
    "\n",
    "# open the URL in a browser object:\n",
    "br.visit(url)\n",
    "\n",
    "# find the div to enter the date range. This is needed to get pricing info:\n",
    "date_bar = br.find_by_xpath('//*[contains(@class, \"meta_date_wrapper\")]')\n",
    "\n",
    "# find the check in calendar span:\n",
    "cin_btn = date_bar.find_by_xpath('span[contains(@class, \"meta_date_field   check_in\")]/span')[0]\n",
    "\n",
    "# now click the check_in span to activate it\n",
    "cin_btn.click()\n",
    "\n",
    "# select the right calendar div (next month)\n",
    "rightcal = br.find_by_xpath('//div[contains(@class, \"month\")]')[1]\n",
    "\n",
    "# now select the third Friday of next month as the check in date\n",
    "fri_btn = rightcal.find_by_xpath('table/tbody/tr[3]/td[6]/div')\n",
    "\n",
    "# and click it\n",
    "fri_btn.click()\n",
    "\n",
    "# now choose the next day (saturday) as the check out date\n",
    "cout_btn = date_bar.find_by_xpath('span[contains(@class, \"meta_date_field   check_out\")]/span')[0]\n",
    "cout_btn.click()\n",
    "leftcal = br.find_by_xpath('//div[contains(@class, \"month\")]')[0]\n",
    "sat_btn = leftcal.find_by_xpath('table/tbody/tr[3]/td[7]/div')\n",
    "sat_btn.click()\n",
    "print('Dates selected.')\n",
    "\n",
    "# wait a few seconds for ta to retrieve prices\n",
    "time.sleep(5)\n",
    "\n",
    "# create a pandas dataframe that will be used for writing\n",
    "# the results to the DB:\n",
    "\n",
    "columns = ['hotel_id',\n",
    "           'hotel_url',\n",
    "           'hotel_img_url',\n",
    "           'hotel_name',\n",
    "           'hotel_address',\n",
    "           'hotel_city',\n",
    "           'hotel_state',\n",
    "           'hotel_rating',\n",
    "           'hotel_latitude',\n",
    "           'hotel_longitude',\n",
    "           'hotel_price',\n",
    "           'business_id',\n",
    "           'review_count',\n",
    "           'dog_review_count',\n",
    "           ]\n",
    "\n",
    "bigdf = pd.DataFrame(columns=columns)\n",
    "\n",
    "\n",
    "# create some lists to fill w. the results from each page\n",
    "hotel_names = []\n",
    "links = []\n",
    "img_url = []\n",
    "hotel_price = []\n",
    "business_id = []\n",
    "print('starting scraper loop.')\n",
    "while more_pages and page <= max_pages:\n",
    "    print('*'*75)\n",
    "    print('Now scraping page {} of {} of the hotel results'.format(page, max_pages))\n",
    "    print('*'*75)\n",
    "    # get all the review divs\n",
    "    time.sleep(5)\n",
    "    listing_div = br.find_by_xpath('//*[contains(@class, \"hotels_lf_condensed\")]')\n",
    "    xsts1 = br.is_element_present_by_xpath('//*[contains(@class, \"photo_booking\")]', wait_time=1)\n",
    "    xsts2 = br.is_element_present_by_xpath('//*[contains(@class, \"property_details\")]', wait_time=1)\n",
    "    xsts3 = br.is_element_present_by_xpath('//*[contains(@class, \"prw_rup\")]/div/div/div/div[@class=\"headerContents\"]/div[contains(@class, \"price\")]', wait_time=1)\n",
    "    while len(listing_div) < 3 or not xsts1 or not xsts2 or not xsts3:\n",
    "        print('now waiting for DOIs to return')\n",
    "        time.sleep(5)\n",
    "        listing_div = br.find_by_xpath('//*[contains(@class, \"hotels_lf_condensed\")]')\n",
    "        xsts1 = br.is_element_present_by_xpath('//*[contains(@class, \"photo_booking\")]', wait_time=1)\n",
    "        xsts2 = br.is_element_present_by_xpath('//*[contains(@class, \"property_details\")]', wait_time=1)\n",
    "        xsts3 = br.is_element_present_by_xpath('//*[contains(@class, \"prw_rup\")]/div/div/div/div[@class=\"headerContents\"]/div[contains(@class, \"price\")]', wait_time=1)\n",
    "        print('# of listings: {}'.format(len(listing_div)))\n",
    "        print('photo_booking exists: {}'.format(xsts1))\n",
    "        print('property_details exists: {}'.format(xsts2))\n",
    "        print('prw_up exists: {}'.format(xsts3))\n",
    "        \n",
    "    print('Number of hotel listings on this page: {}'.format(len(listing_div)))\n",
    "\n",
    "        \n",
    "    df = pd.DataFrame(columns=columns)\n",
    "\n",
    "    for listing in listing_div:\n",
    "        try:\n",
    "            biz_id = re.findall('hotel_(\\d+)', listing['id'])\n",
    "            if len(biz_id) > 0:\n",
    "                biz_id = biz_id[0]\n",
    "            else:\n",
    "                biz_id = None\n",
    "            prop = listing.find_by_xpath('div/div/div/div[contains(@class, \"property_details\")]')\n",
    "            title = prop.find_by_xpath('div/div[@class=\"listing_title\"]')\n",
    "            hotel_link = title.find_by_xpath('a')['href']\n",
    "            hotel_img = prop.find_by_xpath('div[@class=\"photo_booking\"]/div/div/a/img')['src']\n",
    "            price_text = prop.find_by_xpath('div[contains(@class, \"prw_rup\")]/div/div/div/div[@class=\"headerContents\"]/div[contains(@class, \"price\")]').text\n",
    "            price = re.findall('(\\d+)', price_text)[0]\n",
    "\n",
    "            print('business_id: {}'.format(biz_id))\n",
    "            print(title.text)\n",
    "            print(hotel_link)\n",
    "            print('Hotel img URL: {}'.format(hotel_img))\n",
    "            print('Price: ${}'.format(price))\n",
    "\n",
    "            business_id.append(biz_id)\n",
    "            hotel_names.append(title.text)\n",
    "            links.append(hotel_link)\n",
    "            img_url.append(hotel_img)\n",
    "            hotel_price.append(price)\n",
    "        except:\n",
    "            print('!'*80)\n",
    "            print('ONE OF THE NEEDED DIVS DOES NOT EXIST!')\n",
    "            print('!'*80)\n",
    "        print('*'*50)\n",
    "    \n",
    "    if len(hotel_names) > 0:\n",
    "        df['hotel_name'] = hotel_names\n",
    "        df['hotel_price'] = hotel_price\n",
    "        df['hotel_img_url'] = img_url\n",
    "        df['hotel_url'] = links\n",
    "        df['business_id'] = business_id\n",
    "        bigdf = bigdf.append(df)\n",
    "    \n",
    "    # update the page number\n",
    "    page += 1\n",
    "    \n",
    "    # if more pages are desired, look for a \"next\" button\n",
    "    if page <= max_pages:\n",
    "        nxt_btn = br.find_by_xpath('//div[contains(@class, \"deckTools\")]/div[contains(@class, \"unified\")]/a[contains(@class, \"next\")]')\n",
    "        # if there is a next button, click it\n",
    "        # else exit the while loop\n",
    "        if len(nxt_btn) > 0:\n",
    "            nxt_btn.click()\n",
    "        else:\n",
    "            more_pages = False"
   ]
  },
  {
   "cell_type": "code",
   "execution_count": 48,
   "metadata": {
    "collapsed": false
   },
   "outputs": [
    {
     "data": {
      "text/plain": [
       "443"
      ]
     },
     "execution_count": 48,
     "metadata": {},
     "output_type": "execute_result"
    }
   ],
   "source": [
    "len(bigdf)"
   ]
  },
  {
   "cell_type": "code",
   "execution_count": 49,
   "metadata": {
    "collapsed": false
   },
   "outputs": [
    {
     "data": {
      "text/plain": [
       "96"
      ]
     },
     "execution_count": 49,
     "metadata": {},
     "output_type": "execute_result"
    }
   ],
   "source": [
    "len(hotel_names)"
   ]
  },
  {
   "cell_type": "code",
   "execution_count": 50,
   "metadata": {
    "collapsed": false,
    "scrolled": true
   },
   "outputs": [
    {
     "data": {
      "text/html": [
       "<div style=\"max-height:1000px;max-width:1500px;overflow:auto;\">\n",
       "<table border=\"1\" class=\"dataframe\">\n",
       "  <thead>\n",
       "    <tr style=\"text-align: right;\">\n",
       "      <th></th>\n",
       "      <th>hotel_id</th>\n",
       "      <th>hotel_url</th>\n",
       "      <th>hotel_img_url</th>\n",
       "      <th>hotel_name</th>\n",
       "      <th>hotel_address</th>\n",
       "      <th>hotel_city</th>\n",
       "      <th>hotel_state</th>\n",
       "      <th>hotel_rating</th>\n",
       "      <th>hotel_latitude</th>\n",
       "      <th>hotel_longitude</th>\n",
       "      <th>hotel_price</th>\n",
       "      <th>business_id</th>\n",
       "      <th>review_count</th>\n",
       "      <th>dog_review_count</th>\n",
       "    </tr>\n",
       "  </thead>\n",
       "  <tbody>\n",
       "    <tr>\n",
       "      <th>0</th>\n",
       "      <td>NaN</td>\n",
       "      <td>http://www.tripadvisor.com/Hotel_Review-g31310...</td>\n",
       "      <td>http://media-cdn.tripadvisor.com/media/photo-s...</td>\n",
       "      <td>Country Inn &amp; Suites By Carlson, Deer Valley</td>\n",
       "      <td>NaN</td>\n",
       "      <td>NaN</td>\n",
       "      <td>NaN</td>\n",
       "      <td>NaN</td>\n",
       "      <td>NaN</td>\n",
       "      <td>NaN</td>\n",
       "      <td>84</td>\n",
       "      <td>None</td>\n",
       "      <td>NaN</td>\n",
       "      <td>NaN</td>\n",
       "    </tr>\n",
       "    <tr>\n",
       "      <th>1</th>\n",
       "      <td>NaN</td>\n",
       "      <td>http://www.tripadvisor.com/Hotel_Review-g31310...</td>\n",
       "      <td>http://media-cdn.tripadvisor.com/media/photo-f...</td>\n",
       "      <td>Arizona Grand Resort &amp; Spa</td>\n",
       "      <td>NaN</td>\n",
       "      <td>NaN</td>\n",
       "      <td>NaN</td>\n",
       "      <td>NaN</td>\n",
       "      <td>NaN</td>\n",
       "      <td>NaN</td>\n",
       "      <td>199</td>\n",
       "      <td>112178</td>\n",
       "      <td>NaN</td>\n",
       "      <td>NaN</td>\n",
       "    </tr>\n",
       "    <tr>\n",
       "      <th>2</th>\n",
       "      <td>NaN</td>\n",
       "      <td>http://www.tripadvisor.com/Hotel_Review-g31310...</td>\n",
       "      <td>http://media-cdn.tripadvisor.com/media/Provide...</td>\n",
       "      <td>Pointe Hilton Squaw Peak Resort</td>\n",
       "      <td>NaN</td>\n",
       "      <td>NaN</td>\n",
       "      <td>NaN</td>\n",
       "      <td>NaN</td>\n",
       "      <td>NaN</td>\n",
       "      <td>NaN</td>\n",
       "      <td>189</td>\n",
       "      <td>73957</td>\n",
       "      <td>NaN</td>\n",
       "      <td>NaN</td>\n",
       "    </tr>\n",
       "    <tr>\n",
       "      <th>3</th>\n",
       "      <td>NaN</td>\n",
       "      <td>http://www.tripadvisor.com/Hotel_Review-g31310...</td>\n",
       "      <td>http://media-cdn.tripadvisor.com/media/photo-s...</td>\n",
       "      <td>Pointe Hilton Tapatio Cliffs Resort</td>\n",
       "      <td>NaN</td>\n",
       "      <td>NaN</td>\n",
       "      <td>NaN</td>\n",
       "      <td>NaN</td>\n",
       "      <td>NaN</td>\n",
       "      <td>NaN</td>\n",
       "      <td>159</td>\n",
       "      <td>277997</td>\n",
       "      <td>NaN</td>\n",
       "      <td>NaN</td>\n",
       "    </tr>\n",
       "    <tr>\n",
       "      <th>4</th>\n",
       "      <td>NaN</td>\n",
       "      <td>http://www.tripadvisor.com/Hotel_Review-g31310...</td>\n",
       "      <td>http://media-cdn.tripadvisor.com/media/photo-s...</td>\n",
       "      <td>Arizona Biltmore, A Waldorf Astoria Resort</td>\n",
       "      <td>NaN</td>\n",
       "      <td>NaN</td>\n",
       "      <td>NaN</td>\n",
       "      <td>NaN</td>\n",
       "      <td>NaN</td>\n",
       "      <td>NaN</td>\n",
       "      <td>329</td>\n",
       "      <td>115484</td>\n",
       "      <td>NaN</td>\n",
       "      <td>NaN</td>\n",
       "    </tr>\n",
       "  </tbody>\n",
       "</table>\n",
       "</div>"
      ],
      "text/plain": [
       "  hotel_id                                          hotel_url  \\\n",
       "0      NaN  http://www.tripadvisor.com/Hotel_Review-g31310...   \n",
       "1      NaN  http://www.tripadvisor.com/Hotel_Review-g31310...   \n",
       "2      NaN  http://www.tripadvisor.com/Hotel_Review-g31310...   \n",
       "3      NaN  http://www.tripadvisor.com/Hotel_Review-g31310...   \n",
       "4      NaN  http://www.tripadvisor.com/Hotel_Review-g31310...   \n",
       "\n",
       "                                       hotel_img_url  \\\n",
       "0  http://media-cdn.tripadvisor.com/media/photo-s...   \n",
       "1  http://media-cdn.tripadvisor.com/media/photo-f...   \n",
       "2  http://media-cdn.tripadvisor.com/media/Provide...   \n",
       "3  http://media-cdn.tripadvisor.com/media/photo-s...   \n",
       "4  http://media-cdn.tripadvisor.com/media/photo-s...   \n",
       "\n",
       "                                     hotel_name hotel_address hotel_city  \\\n",
       "0  Country Inn & Suites By Carlson, Deer Valley           NaN        NaN   \n",
       "1                    Arizona Grand Resort & Spa           NaN        NaN   \n",
       "2               Pointe Hilton Squaw Peak Resort           NaN        NaN   \n",
       "3           Pointe Hilton Tapatio Cliffs Resort           NaN        NaN   \n",
       "4    Arizona Biltmore, A Waldorf Astoria Resort           NaN        NaN   \n",
       "\n",
       "  hotel_state hotel_rating hotel_latitude hotel_longitude hotel_price  \\\n",
       "0         NaN          NaN            NaN             NaN          84   \n",
       "1         NaN          NaN            NaN             NaN         199   \n",
       "2         NaN          NaN            NaN             NaN         189   \n",
       "3         NaN          NaN            NaN             NaN         159   \n",
       "4         NaN          NaN            NaN             NaN         329   \n",
       "\n",
       "  business_id review_count dog_review_count  \n",
       "0        None          NaN              NaN  \n",
       "1      112178          NaN              NaN  \n",
       "2       73957          NaN              NaN  \n",
       "3      277997          NaN              NaN  \n",
       "4      115484          NaN              NaN  "
      ]
     },
     "execution_count": 50,
     "metadata": {},
     "output_type": "execute_result"
    }
   ],
   "source": [
    "bigdf.head(5)"
   ]
  },
  {
   "cell_type": "markdown",
   "metadata": {},
   "source": [
    "### Write Hotels to DB"
   ]
  },
  {
   "cell_type": "code",
   "execution_count": 53,
   "metadata": {
    "collapsed": false
   },
   "outputs": [],
   "source": [
    "engine = cadb.connect_aws_db(write_unicode=True)\n",
    "bigdf.to_sql('ta_hotels', engine, if_exists='append', index=False)"
   ]
  },
  {
   "cell_type": "code",
   "execution_count": null,
   "metadata": {
    "collapsed": true
   },
   "outputs": [],
   "source": []
  },
  {
   "cell_type": "markdown",
   "metadata": {},
   "source": [
    "## Now to scrape the reviews from a specific hotel"
   ]
  },
  {
   "cell_type": "code",
   "execution_count": 46,
   "metadata": {
    "collapsed": false
   },
   "outputs": [
    {
     "name": "stdout",
     "output_type": "stream",
     "text": [
      "http://www.tripadvisor.com/Hotel_Review-g31310-d73905-Reviews-Wyndham_Garden_Phoenix_Midtown-Phoenix_Arizona.html\n"
     ]
    }
   ],
   "source": [
    "print(links[0])"
   ]
  },
  {
   "cell_type": "code",
   "execution_count": 47,
   "metadata": {
    "collapsed": false
   },
   "outputs": [],
   "source": [
    "br.visit(links[0])"
   ]
  },
  {
   "cell_type": "code",
   "execution_count": 186,
   "metadata": {
    "collapsed": true
   },
   "outputs": [],
   "source": [
    "hotel_url = \"http://www.tripadvisor.com/Hotel_Review-g31310-d73905-Reviews-Wyndham_Garden_Phoenix_Midtown-Phoenix_Arizona.html\""
   ]
  },
  {
   "cell_type": "code",
   "execution_count": 188,
   "metadata": {
    "collapsed": true
   },
   "outputs": [],
   "source": [
    "br = Browser()"
   ]
  },
  {
   "cell_type": "code",
   "execution_count": 189,
   "metadata": {
    "collapsed": false
   },
   "outputs": [],
   "source": [
    "br.visit(hotel_url)"
   ]
  },
  {
   "cell_type": "code",
   "execution_count": 190,
   "metadata": {
    "collapsed": true
   },
   "outputs": [],
   "source": [
    "full_reviews = br.find_by_xpath('//div[contains(@class, \"reviewSelector\")]')"
   ]
  },
  {
   "cell_type": "code",
   "execution_count": 191,
   "metadata": {
    "collapsed": false
   },
   "outputs": [
    {
     "data": {
      "text/plain": [
       "[<splinter.driver.webdriver.WebDriverElement at 0x109e5e1d0>,\n",
       " <splinter.driver.webdriver.WebDriverElement at 0x109e5ed50>,\n",
       " <splinter.driver.webdriver.WebDriverElement at 0x109e5ed10>,\n",
       " <splinter.driver.webdriver.WebDriverElement at 0x109e5ee50>,\n",
       " <splinter.driver.webdriver.WebDriverElement at 0x109e5eed0>,\n",
       " <splinter.driver.webdriver.WebDriverElement at 0x109e5ef50>,\n",
       " <splinter.driver.webdriver.WebDriverElement at 0x109e5ef90>,\n",
       " <splinter.driver.webdriver.WebDriverElement at 0x109e5e050>,\n",
       " <splinter.driver.webdriver.WebDriverElement at 0x109e5e390>,\n",
       " <splinter.driver.webdriver.WebDriverElement at 0x109e5e550>]"
      ]
     },
     "execution_count": 191,
     "metadata": {},
     "output_type": "execute_result"
    }
   ],
   "source": [
    "full_reviews"
   ]
  },
  {
   "cell_type": "code",
   "execution_count": 192,
   "metadata": {
    "collapsed": true
   },
   "outputs": [],
   "source": [
    "fullrev = full_reviews[0]"
   ]
  },
  {
   "cell_type": "code",
   "execution_count": 193,
   "metadata": {
    "collapsed": false
   },
   "outputs": [
    {
     "data": {
      "text/plain": [
       "u'522gerald...\\nAlbuquerque, New Mexico'"
      ]
     },
     "execution_count": 193,
     "metadata": {},
     "output_type": "execute_result"
    }
   ],
   "source": [
    "fullrev.find_by_xpath('div/div[contains(@class, \"col1of2\")]/div[contains(@class, \"member_info\")]').text"
   ]
  },
  {
   "cell_type": "code",
   "execution_count": 194,
   "metadata": {
    "collapsed": true
   },
   "outputs": [],
   "source": [
    "member_info = fullrev.find_by_xpath('div/div[contains(@class, \"col1of2\")]/div[contains(@class, \"member_info\")]')"
   ]
  },
  {
   "cell_type": "code",
   "execution_count": 200,
   "metadata": {
    "collapsed": false
   },
   "outputs": [],
   "source": [
    "member_str = member_info.find_by_xpath('div[contains(@class, \"memberOverlayLink\")]')['id']"
   ]
  },
  {
   "cell_type": "code",
   "execution_count": 201,
   "metadata": {
    "collapsed": false
   },
   "outputs": [
    {
     "data": {
      "text/plain": [
       "[u'33ECA3B218972AB4D4131DE6AFAE627F']"
      ]
     },
     "execution_count": 201,
     "metadata": {},
     "output_type": "execute_result"
    }
   ],
   "source": [
    "member_id = re.findall('UID_(.*)-', member_str)\n",
    "member_id"
   ]
  },
  {
   "cell_type": "code",
   "execution_count": 39,
   "metadata": {
    "collapsed": false
   },
   "outputs": [
    {
     "data": {
      "text/plain": [
       "u'522gerald...'"
      ]
     },
     "execution_count": 39,
     "metadata": {},
     "output_type": "execute_result"
    }
   ],
   "source": [
    "member_info.find_by_xpath('div/div[contains(@class, \"username mo\")]').text"
   ]
  },
  {
   "cell_type": "code",
   "execution_count": 16,
   "metadata": {
    "collapsed": false
   },
   "outputs": [],
   "source": [
    "review = fullrev.find_by_xpath('div/div[@class=\"col2of2\"]/div[@class=\"innerBubble\"]')"
   ]
  },
  {
   "cell_type": "code",
   "execution_count": 17,
   "metadata": {
    "collapsed": false
   },
   "outputs": [
    {
     "data": {
      "text/plain": [
       "u'House keeping was very good. General cleanliness of the...'"
      ]
     },
     "execution_count": 17,
     "metadata": {},
     "output_type": "execute_result"
    }
   ],
   "source": [
    "review.find_by_xpath('div/div[contains(@class, \"quote\")]').text.strip()[1:-1]"
   ]
  },
  {
   "cell_type": "code",
   "execution_count": 18,
   "metadata": {
    "collapsed": false
   },
   "outputs": [
    {
     "data": {
      "text/plain": [
       "u'4'"
      ]
     },
     "execution_count": 18,
     "metadata": {},
     "output_type": "execute_result"
    }
   ],
   "source": [
    "review.find_by_xpath('div/div[contains(@class, \"rating\")]/span/img')['alt'].split(' ')[0]"
   ]
  },
  {
   "cell_type": "code",
   "execution_count": 19,
   "metadata": {
    "collapsed": false
   },
   "outputs": [
    {
     "data": {
      "text/plain": [
       "u'September 25, 2015'"
      ]
     },
     "execution_count": 19,
     "metadata": {},
     "output_type": "execute_result"
    }
   ],
   "source": [
    "review.find_by_xpath('div/div[contains(@class, \"rating\")]/span[contains(@class, \"ratingDate\")]')['title']"
   ]
  },
  {
   "cell_type": "code",
   "execution_count": 20,
   "metadata": {
    "collapsed": false
   },
   "outputs": [
    {
     "data": {
      "text/plain": [
       "u'House keeping was very good. General cleanliness of the room was very good. It was a little overloaded with furniture, but the size of the room was very good, plenty of lighting, heating and cooling'"
      ]
     },
     "execution_count": 20,
     "metadata": {},
     "output_type": "execute_result"
    }
   ],
   "source": [
    "review.find_by_xpath('div/div[contains(@class, \"entry\")]').text.strip().replace(\"\\n\", \"\")"
   ]
  },
  {
   "cell_type": "code",
   "execution_count": 21,
   "metadata": {
    "collapsed": false
   },
   "outputs": [
    {
     "data": {
      "text/plain": [
       "u'review_313650991'"
      ]
     },
     "execution_count": 21,
     "metadata": {},
     "output_type": "execute_result"
    }
   ],
   "source": [
    "fullrev['id']"
   ]
  },
  {
   "cell_type": "code",
   "execution_count": 22,
   "metadata": {
    "collapsed": false
   },
   "outputs": [
    {
     "data": {
      "text/plain": [
       "[<splinter.driver.webdriver.WebDriverElement at 0x102e88ad0>]"
      ]
     },
     "execution_count": 22,
     "metadata": {},
     "output_type": "execute_result"
    }
   ],
   "source": [
    "br.find_by_xpath('//a[contains(@class, \"next\")]')"
   ]
  },
  {
   "cell_type": "code",
   "execution_count": 23,
   "metadata": {
    "collapsed": false
   },
   "outputs": [
    {
     "data": {
      "text/plain": [
       "True"
      ]
     },
     "execution_count": 23,
     "metadata": {},
     "output_type": "execute_result"
    }
   ],
   "source": [
    "len(br.find_by_xpath('//a[contains(@class, \"next\")]')) > 0"
   ]
  },
  {
   "cell_type": "code",
   "execution_count": 24,
   "metadata": {
    "collapsed": false
   },
   "outputs": [
    {
     "data": {
      "text/plain": [
       "u'http://www.tripadvisor.com/Hotel_Review-g31310-d73905-Reviews-or10-Wyndham_Garden_Phoenix_Midtown-Phoenix_Arizona.html#REVIEWS'"
      ]
     },
     "execution_count": 24,
     "metadata": {},
     "output_type": "execute_result"
    }
   ],
   "source": [
    "br.find_by_xpath('//a[contains(@class, \"next\")]')['href']"
   ]
  },
  {
   "cell_type": "markdown",
   "metadata": {},
   "source": [
    "#### Extract Hotel Address, City, State, Zip"
   ]
  },
  {
   "cell_type": "code",
   "execution_count": 62,
   "metadata": {
    "collapsed": false
   },
   "outputs": [
    {
     "data": {
      "text/plain": [
       "u'3600 N. Second Ave.'"
      ]
     },
     "execution_count": 62,
     "metadata": {},
     "output_type": "execute_result"
    }
   ],
   "source": [
    "hotel_address = br.find_by_xpath('//span[contains(@class, \"street-address\")]').text\n",
    "hotel_address"
   ]
  },
  {
   "cell_type": "code",
   "execution_count": 63,
   "metadata": {
    "collapsed": false
   },
   "outputs": [
    {
     "data": {
      "text/plain": [
       "u'Phoenix'"
      ]
     },
     "execution_count": 63,
     "metadata": {},
     "output_type": "execute_result"
    }
   ],
   "source": [
    "#city\n",
    "hotel_city = br.find_by_xpath('//span[contains(@property, \"addressLocality\")]').text\n",
    "hotel_city"
   ]
  },
  {
   "cell_type": "code",
   "execution_count": 64,
   "metadata": {
    "collapsed": false
   },
   "outputs": [
    {
     "data": {
      "text/plain": [
       "u'AZ'"
      ]
     },
     "execution_count": 64,
     "metadata": {},
     "output_type": "execute_result"
    }
   ],
   "source": [
    "#state\n",
    "hotel_state = br.find_by_xpath('//span[contains(@property, \"addressRegion\")]').text\n",
    "hotel_state"
   ]
  },
  {
   "cell_type": "code",
   "execution_count": 65,
   "metadata": {
    "collapsed": false
   },
   "outputs": [
    {
     "data": {
      "text/plain": [
       "u'85013'"
      ]
     },
     "execution_count": 65,
     "metadata": {},
     "output_type": "execute_result"
    }
   ],
   "source": [
    "#zip code\n",
    "hotel_zip = br.find_by_xpath('//span[contains(@property, \"postalCode\")]').text\n",
    "hotel_zip"
   ]
  },
  {
   "cell_type": "code",
   "execution_count": 204,
   "metadata": {
    "collapsed": false,
    "scrolled": true
   },
   "outputs": [
    {
     "name": "stdout",
     "output_type": "stream",
     "text": [
      "Username: 522gerald...\n",
      "Member id: 33ECA3B218972AB4D4131DE6AFAE627F\n",
      "Location: Albuquerque, New Mexico\n",
      "full review_id: review_313650991\n",
      "review_id: 313650991\n",
      "Title: House keeping was very good. General cleanliness of the...\n",
      "Rating: 4\n",
      "Date: September 25, 2015\n",
      "Review:\n",
      "House keeping was very good. General cleanliness of the room was very good. It was a little overloaded with furniture, but the size of the room was very good, plenty of lighting, heating and cooling\n",
      "**************************************************\n",
      "Username: shalom602\n",
      "Member id: B2FCE618F479DC289431CF6046739B2B\n",
      "Location: Phoenix, Arizona\n",
      "full review_id: review_313434796\n",
      "review_id: 313434796\n",
      "Title: private event\n",
      "Rating: 5\n",
      "Date: September 25, 2015\n",
      "Review:\n",
      "For the past 4 years i have been staying at the WYNDHAM GARDEN PHOENIX MIDTOWN hotel and cannot express how satisfied I am with the hotel. Our organization hosts an event every year around the same time and host for about 300 people and this year and staff really exceled. I want to thank Sam for his hard work, and...More\n",
      "**************************************************\n",
      "Username: J4522PHemmat\n",
      "Member id: B82053E3EDF09DC8D4231BB36563B627\n",
      "Location: Keams Canyon, Arizona\n",
      "full review_id: review_313408050\n",
      "review_id: 313408050\n",
      "Title: Business\n",
      "Rating: 3\n",
      "Date: September 24, 2015\n",
      "Review:\n",
      "Stay was ok. Wouldn't say it was great. At time of booking hotel didn't tell me about a deposit per room, upset that deposit had to come from personal account. Hopefully it was refunded back.\n",
      "**************************************************\n",
      "Username: Tina R\n",
      "Member id: 2648DA53CB7E949E8ED7F1ACA320A130\n",
      "Location: Tucson\n",
      "full review_id: review_313386244\n",
      "review_id: 313386244\n",
      "Title: Sad workout facilities\n",
      "Rating: 3\n",
      "Date: September 24, 2015\n",
      "Review:\n",
      "Room was comfortable, although I had to request to have a fridge and getting the bed to adjust (sleep number) was a bit difficult since the buttons seemed to be pretty worn, breakfast was pretty decent, staff was friendly. Wifi was not so great, kept getting kicked off and then very slow when I did get connected. Gym facilities were...More\n",
      "**************************************************\n",
      "Username: John C\n",
      "Member id: 81459ADD2A34DA9D277A513A0DEAF83F\n",
      "Location: Derbyshire, United Kingdom\n",
      "full review_id: review_313022540\n",
      "review_id: 313022540\n",
      "Title: Great staff\n",
      "Rating: 5\n",
      "Date: September 23, 2015\n",
      "Review:\n",
      "First time in phoenix, the hotel made my stay very pleasant. every thing nice and clean, staff very helpful and nice would recommend to any one. the location is good as good is very near the light rail which makes travel very easy. there is a good restaurant and bar on site.\n",
      "**************************************************\n",
      "Username: Y B\n",
      "Member id: 31394A8DE911427B7B2AF0460F35DB5F\n",
      "Location: Houston\n",
      "full review_id: review_312707081\n",
      "review_id: 312707081\n",
      "Title: Nice hotel close to downtown\n",
      "Rating: 5\n",
      "Date: September 22, 2015\n",
      "Review:\n",
      "Staff and hotel was great as a whole. Wifi worked great, breakfast was wonderful, beds were comfortable and hotel is easy to get to from the airport via light rail. Would definitely stay again anytime\n",
      "**************************************************\n",
      "Username: tww7374\n",
      "Member id: 077A5B6FEEC05DE22725F7A1DA4CB9E0\n",
      "Location: Winter Haven, Florida\n",
      "full review_id: review_312654918\n",
      "review_id: 312654918\n",
      "Title: Phoenix friends visit\n",
      "Rating: 5\n",
      "Date: September 22, 2015\n",
      "Review:\n",
      "I have stayed at this hotel several times before and will continue to use it. Very good location. Accessible to metro. Little old but clean rooms friendly staff and decent room rates. Will stay here again when I am in Phoenix.\n",
      "**************************************************\n",
      "Username: fishnerd\n",
      "Member id: 48C835B25FE8E6E411A088C4C38A4D02\n",
      "Location: san jose\n",
      "full review_id: review_312545696\n",
      "review_id: 312545696\n",
      "Title: Great for the price\n",
      "Rating: 4\n",
      "Date: September 22, 2015\n",
      "Review:\n",
      "I was in Arizona because of a family medical emergency and was looking for a reasonabley priced place to stay close to the hospital. I stayed 6 nights. The room was fine, and nice to have a fridge and microwave. It could have used a few more electrical outlets for charging electronics. Uber fares to the Banner Good Sam hospital...More\n",
      "**************************************************\n",
      "Username: risher70\n",
      "Member id: B7CC18CB7276B0D4B042BA2513873C41\n",
      "Location: Missouri\n",
      "full review_id: review_311911568\n",
      "review_id: 311911568\n",
      "Title: A little disappointed\n",
      "Rating: 3\n",
      "Date: September 19, 2015\n",
      "Review:\n",
      "I was a little disappointed. I expected more out of a Wyndham property. I thought the desk was not very helpful. The sleep number bed didn't work. I think the device needed replaced or batteries. That was not a big deal. The pool water stunk. The room was clean. I didn't feel like the hotel was in the best of...More\n",
      "**************************************************\n",
      "Username: B5881SEsandrac\n",
      "Member id: AA8A05CC3D241CDDA339BF5ECE28FC68\n",
      "Location: Los Ranchos de Albuquerque, New Mexico\n",
      "full review_id: review_311678108\n",
      "review_id: 311678108\n",
      "Title: Sports vacation\n",
      "Rating: 5\n",
      "Date: September 18, 2015\n",
      "Review:\n",
      "Great location, you can enjoy the hotel accommodations as well as the restaurant and lounge located in the lobby. Staff are great, rooms are clean. There's a Walgreens on the corner for any needs including alcohol and prepared foods. The valley metro will take you downtown where the basketball arena and baseball stadium are located. It's $4.00 for a one...More\n",
      "**************************************************\n"
     ]
    }
   ],
   "source": [
    "for fullrev in full_reviews:\n",
    "    # user name:\n",
    "    member_info = fullrev.find_by_xpath('div/div[contains(@class, \"col1of2\")]/div[contains(@class, \"member_info\")]')\n",
    "    member_str = member_info.find_by_xpath('div[contains(@class, \"memberOverlayLink\")]')['id']\n",
    "    member_id = re.findall('UID_(.*)-', member_str)[0]\n",
    "    usrnm = member_info.find_by_xpath('div/div[contains(@class, \"username mo\")]')\n",
    "    review = fullrev.find_by_xpath('div/div[@class=\"col2of2\"]/div[@class=\"innerBubble\"]')[0]\n",
    "    title = review.find_by_xpath('div/div[contains(@class, \"quote\")]').text.strip()[1:-1]\n",
    "    rating = review.find_by_xpath('div/div[contains(@class, \"rating\")]/span/img')['alt'].split(' ')[0]\n",
    "    date = review.find_by_xpath('div/div[contains(@class, \"rating\")]/span[contains(@class, \"ratingDate\")]')['title']\n",
    "    rev = review.find_by_xpath('div/div[contains(@class, \"entry\")]').text.strip().replace(\"\\n\", \"\")\n",
    "    if len(usrnm) > 0:\n",
    "        #location = member_info.xpath('div[1]')[0].text_content()\n",
    "        print('Username: {}'.format(str(usrnm[0].text).strip()))\n",
    "    else:\n",
    "        print('Username: A Trip Advisor Member')\n",
    "    print('Member id: {}'.format(member_id))\n",
    "    \n",
    "    location = member_info.find_by_xpath('div[contains(@class, \"location\")]')\n",
    "    if len(location) > 0:\n",
    "        print('Location: {}'.format(str(location[0].text).strip()))\n",
    "    else:\n",
    "        print('Location: ')\n",
    "    \n",
    "    print('full review_id: {}'.format(fullrev['id']))\n",
    "    try:\n",
    "        rev_id = re.search('review_(\\d+)$', fullrev['id']).group(1)\n",
    "    except AttributeError:\n",
    "        rev_id = ''\n",
    "\n",
    "    print('review_id: {}'.format(rev_id))\n",
    "    print('Title: {}'.format(title))\n",
    "    print('Rating: {}'.format(rating))\n",
    "    print('Date: {}'.format(date))\n",
    "    print('Review:')\n",
    "    print(rev)\n",
    "    print('*'*50)\n"
   ]
  },
  {
   "cell_type": "code",
   "execution_count": 205,
   "metadata": {
    "collapsed": true
   },
   "outputs": [],
   "source": [
    "def return_results(url, page):\n",
    "    br.visit(url)\n",
    "    full_reviews = br.find_by_xpath('//div[contains(@class, \"reviewSelector\")]')\n",
    "\n",
    "    page_usernames = []\n",
    "    page_memberids = []\n",
    "    page_locations = []\n",
    "    page_titles = []\n",
    "    page_ratings = []\n",
    "    page_dates = []\n",
    "    page_reviews = []\n",
    "    page_review_ids = []\n",
    "\n",
    "    for fullrev in full_reviews:\n",
    "        # user name:\n",
    "        member_info = fullrev.find_by_xpath('div/div[contains(@class, \"col1of2\")]/div[contains(@class, \"member_info\")]')\n",
    "        member_str = member_info.find_by_xpath('div[contains(@class, \"memberOverlayLink\")]')['id']\n",
    "        member_id = re.findall('UID_(.*)-', member_str)[0]\n",
    "        usrnm = member_info.find_by_xpath('div/div[contains(@class, \"username mo\")]')\n",
    "        review = fullrev.find_by_xpath('div/div[@class=\"col2of2\"]/div[@class=\"innerBubble\"]')[0]\n",
    "        title = review.find_by_xpath('div/div[contains(@class, \"quote\")]').text.strip()[1:-1]\n",
    "        rating = review.find_by_xpath('div/div[contains(@class, \"rating\")]/span/img')['alt'].split(' ')[0]\n",
    "        date = review.find_by_xpath('div/div[contains(@class, \"rating\")]/span[contains(@class, \"ratingDate\")]')['title']\n",
    "        rev = review.find_by_xpath('div/div[contains(@class, \"entry\")]').text.strip().replace(\"\\n\", \"\")\n",
    "        if len(usrnm) > 0:\n",
    "            username = str(usrnm[0].text).strip()\n",
    "            print('Username: {}'.format(username))\n",
    "        else:\n",
    "            print('Username: A Trip Advisor Member')\n",
    "\n",
    "        locationel = member_info.find_by_xpath('div[contains(@class, \"location\")]')\n",
    "        if len(locationel) > 0:\n",
    "            location = str(locationel[0].text).strip()\n",
    "            print('Location: {}'.format(location))\n",
    "        else:\n",
    "            location = ''\n",
    "            print('Location: ')\n",
    "\n",
    "        print('full review_id: {}'.format(fullrev['id']))\n",
    "        try:\n",
    "            rev_id = re.search('review_(\\d+)$', fullrev['id']).group(1)\n",
    "        except AttributeError:\n",
    "            rev_id = ''\n",
    "\n",
    "#         print('review_id: {}'.format(rev_id))\n",
    "#         print('Title: {}'.format(title))\n",
    "#         print('Rating: {}'.format(rating))\n",
    "#         print('Date: {}'.format(date))\n",
    "#         print('Review:')\n",
    "#        print(rev)\n",
    "#        print('*'*50)\n",
    "\n",
    "        page_usernames.append(username)\n",
    "        page_memberids.append(member_id)\n",
    "        page_locations.append(location)\n",
    "        page_titles.append(title)\n",
    "        page_ratings.append(ratings)\n",
    "        page_dates.append(date)\n",
    "        page_reviews.append(rev)\n",
    "        page_review_ids.append(rev_id)\n",
    "\n",
    "    if len(br.find_by_xpath('//a[contains(@class, \"next\")]')) > 0:\n",
    "        url = br.find_by_xpath('//a[contains(@class, \"next\")]')['href']\n",
    "        more_reviews = True\n",
    "        page += 1\n",
    "#        print('url and page updated.')\n",
    "    else:\n",
    "        more_reviews = False\n",
    "    \n",
    "    ret_dict = {'usrnms': page_usernames,\n",
    "                'mmbrids': page_memberids,\n",
    "                'locs': page_locations,\n",
    "                'ttls': page_titles,\n",
    "                'rtngs': page_ratings,\n",
    "                'dts': page_dates,\n",
    "                'rvws': page_reviews,\n",
    "                'revids': page_review_ids,\n",
    "               'url': url,\n",
    "               'more_reviews': more_reviews,\n",
    "               'page': page}\n",
    "    return ret_dict\n"
   ]
  },
  {
   "cell_type": "code",
   "execution_count": 30,
   "metadata": {
    "collapsed": false,
    "scrolled": true
   },
   "outputs": [
    {
     "name": "stdout",
     "output_type": "stream",
     "text": [
      "**************************************************\n",
      "Now on page 1\n",
      "Username: 522gerald...\n",
      "Location: Albuquerque, New Mexico\n",
      "full review_id: review_313650991\n",
      "Username: shalom602\n",
      "Location: Phoenix, Arizona\n",
      "full review_id: review_313434796\n",
      "Username: J4522PHemmat\n",
      "Location: Keams Canyon, Arizona\n",
      "full review_id: review_313408050\n",
      "Username: Tina R\n",
      "Location: Tucson\n",
      "full review_id: review_313386244\n",
      "Username: John C\n",
      "Location: Derbyshire, United Kingdom\n",
      "full review_id: review_313022540\n",
      "Username: Y B\n",
      "Location: Houston\n",
      "full review_id: review_312707081\n",
      "Username: tww7374\n",
      "Location: Winter Haven, Florida\n",
      "full review_id: review_312654918\n",
      "Username: fishnerd\n",
      "Location: san jose\n",
      "full review_id: review_312545696\n",
      "Username: risher70\n",
      "Location: Missouri\n",
      "full review_id: review_311911568\n",
      "Username: B5881SEsandrac\n",
      "Location: Los Ranchos de Albuquerque, New Mexico\n",
      "full review_id: review_311678108\n",
      "['Albuquerque, New Mexico', 'Phoenix, Arizona', 'Keams Canyon, Arizona', 'Tucson', 'Derbyshire, United Kingdom', 'Houston', 'Winter Haven, Florida', 'san jose', 'Missouri', 'Los Ranchos de Albuquerque, New Mexico']\n",
      "[u'House keeping was very good. General cleanliness of the...', u'private event', u'Business', u'Sad workout facilities', u'Great staff', u'Nice hotel close to downtown', u'Phoenix friends visit', u'Great for the price', u'A little disappointed', u'Sports vacation']\n",
      "successfully completed page 2\n"
     ]
    }
   ],
   "source": [
    "idx = 0\n",
    "usernames = []\n",
    "memberids = []\n",
    "locations = []\n",
    "titles = []\n",
    "ratings = []\n",
    "dates = []\n",
    "reviews = []\n",
    "review_ids = []\n",
    "\n",
    "columns = ['review_id',\n",
    "           'hotel_id',\n",
    "           'hotel_name',\n",
    "           'business_id',\n",
    "           'biz_review_id',\n",
    "           'biz_member_id',\n",
    "           'username',\n",
    "           'review_title',\n",
    "           'review_text',\n",
    "           'review_rating',\n",
    "           'review_date']\n",
    "\n",
    "bigdf = pd.DataFrame(columns=columns)\n",
    "\n",
    "url = links[idx]\n",
    "hotel_name = hotel_names[idx]\n",
    "\n",
    "more_reviews = True\n",
    "page = 1\n",
    "while more_reviews:\n",
    "    #print('*'*50)\n",
    "    print('*'*50)\n",
    "    print('Now on page {}'.format(page))\n",
    "    #print('*'*50)\n",
    "    \n",
    "    df = pd.DataFrame(columns=columns)\n",
    "\n",
    "    ret_dict = return_results(url, page)\n",
    "    print(ret_dict['locs'])\n",
    "    print(ret_dict['ttls'])\n",
    "    df['biz_review_id'] = ret_dict['revids']\n",
    "    df['biz_member_id'] = ret_dict['mmbrids']\n",
    "    df['username'] = ret_dict['usrnms']\n",
    "    df['review_title'] = ret_dict['ttls']\n",
    "    df['review_rating'] = ret_dict['rtngs']\n",
    "    df['review_date'] = ret_dict['dts']\n",
    "    df['review_text'] = ret_dict['rvws']\n",
    "    df['hotel_name'] = hotel_name\n",
    "    url = ret_dict['url']\n",
    "    more_reviews = ret_dict['more_reviews']\n",
    "    page = ret_dict['page']\n",
    "    print('successfully completed page {}'.format(page))\n",
    "    bigdf = bigdf.append(df)\n",
    "    more_reviews = False\n"
   ]
  },
  {
   "cell_type": "code",
   "execution_count": 29,
   "metadata": {
    "collapsed": false
   },
   "outputs": [
    {
     "data": {
      "text/plain": [
       "[u'Wyndham Garden Phoenix Midtown',\n",
       " u'Arizona Grand Resort & Spa',\n",
       " u'Pointe Hilton Squaw Peak Resort',\n",
       " u'Pointe Hilton Tapatio Cliffs Resort',\n",
       " u'Arizona Biltmore, A Waldorf Astoria Resort',\n",
       " u'Royal Palms Resort and Spa',\n",
       " u'JW Marriott Desert Ridge Resort & Spa Phoenix',\n",
       " u\"Marriott's Canyon Villas at Desert Ridge\",\n",
       " u'Hotel Palomar Phoenix - a Kimpton Hotel',\n",
       " u'The Clarendon Hotel and Spa',\n",
       " u'Hampton Inn & Suites Phoenix North/Happy Valley',\n",
       " u'Homewood Suites Phoenix North - Happy Valley',\n",
       " u'Westin Phoenix Downtown',\n",
       " u'Radisson Hotel Phoenix North',\n",
       " u'Embassy Suites by Hilton Phoenix-Scottsdale',\n",
       " u'Legacy Golf Resort',\n",
       " u'Sheraton Phoenix Downtown Hotel',\n",
       " u'Hyatt Regency Phoenix',\n",
       " u'Wyndham Garden Phoenix Midtown',\n",
       " u'Hampton Inn Phoenix-Biltmore',\n",
       " u'Embassy Suites by Hilton Hotel Phoenix Biltmore',\n",
       " u'Aloft Phoenix-Airport',\n",
       " u'DoubleTree Suites by Hilton Hotel Phoenix',\n",
       " u'BEST WESTERN Airport Inn',\n",
       " u'Drury Inn & Suites Phoenix Airport',\n",
       " u'BEST WESTERN Innsuites Phoenix Biltmore',\n",
       " u'Red Roof Inn Phoenix West',\n",
       " u'Candlewood Suites Phoenix',\n",
       " u'La Quinta Inn & Suites Phoenix I-10 West',\n",
       " u'Holiday Inn Express Phoenix Airport (University Drive)',\n",
       " u'Hilton Garden Inn Phoenix Airport']"
      ]
     },
     "execution_count": 29,
     "metadata": {},
     "output_type": "execute_result"
    }
   ],
   "source": [
    "hotel_names"
   ]
  },
  {
   "cell_type": "code",
   "execution_count": 31,
   "metadata": {
    "collapsed": false
   },
   "outputs": [
    {
     "data": {
      "text/html": [
       "<div style=\"max-height:1000px;max-width:1500px;overflow:auto;\">\n",
       "<table border=\"1\" class=\"dataframe\">\n",
       "  <thead>\n",
       "    <tr style=\"text-align: right;\">\n",
       "      <th></th>\n",
       "      <th>hotel_id</th>\n",
       "      <th>hotel_url</th>\n",
       "      <th>hotel_name</th>\n",
       "      <th>hotel_address</th>\n",
       "      <th>hotel_city</th>\n",
       "      <th>hotel_state</th>\n",
       "      <th>hotel_location</th>\n",
       "      <th>hotel_rating</th>\n",
       "      <th>hotel_latitude</th>\n",
       "      <th>hotel_longitude</th>\n",
       "      <th>review_count</th>\n",
       "      <th>hotel_address</th>\n",
       "      <th>business_id</th>\n",
       "      <th>review_id</th>\n",
       "      <th>user_id</th>\n",
       "      <th>username</th>\n",
       "      <th>review_title</th>\n",
       "      <th>review_text</th>\n",
       "      <th>review_rating</th>\n",
       "      <th>review_date</th>\n",
       "    </tr>\n",
       "  </thead>\n",
       "  <tbody>\n",
       "    <tr>\n",
       "      <th>0</th>\n",
       "      <td>NaN</td>\n",
       "      <td>http://www.tripadvisor.com/Hotel_Review-g31310...</td>\n",
       "      <td>Wyndham Garden Phoenix Midtown</td>\n",
       "      <td>NaN</td>\n",
       "      <td>NaN</td>\n",
       "      <td>NaN</td>\n",
       "      <td>Albuquerque, New Mexico</td>\n",
       "      <td>NaN</td>\n",
       "      <td>NaN</td>\n",
       "      <td>NaN</td>\n",
       "      <td>NaN</td>\n",
       "      <td>NaN</td>\n",
       "      <td>NaN</td>\n",
       "      <td>313650991</td>\n",
       "      <td>NaN</td>\n",
       "      <td>522gerald...</td>\n",
       "      <td>House keeping was very good. General cleanline...</td>\n",
       "      <td>House keeping was very good. General cleanline...</td>\n",
       "      <td>[]</td>\n",
       "      <td>September 25, 2015</td>\n",
       "    </tr>\n",
       "    <tr>\n",
       "      <th>1</th>\n",
       "      <td>NaN</td>\n",
       "      <td>http://www.tripadvisor.com/Hotel_Review-g31310...</td>\n",
       "      <td>Wyndham Garden Phoenix Midtown</td>\n",
       "      <td>NaN</td>\n",
       "      <td>NaN</td>\n",
       "      <td>NaN</td>\n",
       "      <td>Phoenix, Arizona</td>\n",
       "      <td>NaN</td>\n",
       "      <td>NaN</td>\n",
       "      <td>NaN</td>\n",
       "      <td>NaN</td>\n",
       "      <td>NaN</td>\n",
       "      <td>NaN</td>\n",
       "      <td>313434796</td>\n",
       "      <td>NaN</td>\n",
       "      <td>shalom602</td>\n",
       "      <td>private event</td>\n",
       "      <td>For the past 4 years i have been staying at th...</td>\n",
       "      <td>[]</td>\n",
       "      <td>September 25, 2015</td>\n",
       "    </tr>\n",
       "    <tr>\n",
       "      <th>2</th>\n",
       "      <td>NaN</td>\n",
       "      <td>http://www.tripadvisor.com/Hotel_Review-g31310...</td>\n",
       "      <td>Wyndham Garden Phoenix Midtown</td>\n",
       "      <td>NaN</td>\n",
       "      <td>NaN</td>\n",
       "      <td>NaN</td>\n",
       "      <td>Keams Canyon, Arizona</td>\n",
       "      <td>NaN</td>\n",
       "      <td>NaN</td>\n",
       "      <td>NaN</td>\n",
       "      <td>NaN</td>\n",
       "      <td>NaN</td>\n",
       "      <td>NaN</td>\n",
       "      <td>313408050</td>\n",
       "      <td>NaN</td>\n",
       "      <td>J4522PHemmat</td>\n",
       "      <td>Business</td>\n",
       "      <td>Stay was ok. Wouldn't say it was great. At tim...</td>\n",
       "      <td>[]</td>\n",
       "      <td>September 24, 2015</td>\n",
       "    </tr>\n",
       "    <tr>\n",
       "      <th>3</th>\n",
       "      <td>NaN</td>\n",
       "      <td>http://www.tripadvisor.com/Hotel_Review-g31310...</td>\n",
       "      <td>Wyndham Garden Phoenix Midtown</td>\n",
       "      <td>NaN</td>\n",
       "      <td>NaN</td>\n",
       "      <td>NaN</td>\n",
       "      <td>Tucson</td>\n",
       "      <td>NaN</td>\n",
       "      <td>NaN</td>\n",
       "      <td>NaN</td>\n",
       "      <td>NaN</td>\n",
       "      <td>NaN</td>\n",
       "      <td>NaN</td>\n",
       "      <td>313386244</td>\n",
       "      <td>NaN</td>\n",
       "      <td>Tina R</td>\n",
       "      <td>Sad workout facilities</td>\n",
       "      <td>Room was comfortable, although I had to reques...</td>\n",
       "      <td>[]</td>\n",
       "      <td>September 24, 2015</td>\n",
       "    </tr>\n",
       "    <tr>\n",
       "      <th>4</th>\n",
       "      <td>NaN</td>\n",
       "      <td>http://www.tripadvisor.com/Hotel_Review-g31310...</td>\n",
       "      <td>Wyndham Garden Phoenix Midtown</td>\n",
       "      <td>NaN</td>\n",
       "      <td>NaN</td>\n",
       "      <td>NaN</td>\n",
       "      <td>Derbyshire, United Kingdom</td>\n",
       "      <td>NaN</td>\n",
       "      <td>NaN</td>\n",
       "      <td>NaN</td>\n",
       "      <td>NaN</td>\n",
       "      <td>NaN</td>\n",
       "      <td>NaN</td>\n",
       "      <td>313022540</td>\n",
       "      <td>NaN</td>\n",
       "      <td>John C</td>\n",
       "      <td>Great staff</td>\n",
       "      <td>First time in phoenix, the hotel made my stay ...</td>\n",
       "      <td>[]</td>\n",
       "      <td>September 23, 2015</td>\n",
       "    </tr>\n",
       "    <tr>\n",
       "      <th>5</th>\n",
       "      <td>NaN</td>\n",
       "      <td>http://www.tripadvisor.com/Hotel_Review-g31310...</td>\n",
       "      <td>Wyndham Garden Phoenix Midtown</td>\n",
       "      <td>NaN</td>\n",
       "      <td>NaN</td>\n",
       "      <td>NaN</td>\n",
       "      <td>Houston</td>\n",
       "      <td>NaN</td>\n",
       "      <td>NaN</td>\n",
       "      <td>NaN</td>\n",
       "      <td>NaN</td>\n",
       "      <td>NaN</td>\n",
       "      <td>NaN</td>\n",
       "      <td>312707081</td>\n",
       "      <td>NaN</td>\n",
       "      <td>Y B</td>\n",
       "      <td>Nice hotel close to downtown</td>\n",
       "      <td>Staff and hotel was great as a whole. Wifi wor...</td>\n",
       "      <td>[]</td>\n",
       "      <td>September 22, 2015</td>\n",
       "    </tr>\n",
       "    <tr>\n",
       "      <th>6</th>\n",
       "      <td>NaN</td>\n",
       "      <td>http://www.tripadvisor.com/Hotel_Review-g31310...</td>\n",
       "      <td>Wyndham Garden Phoenix Midtown</td>\n",
       "      <td>NaN</td>\n",
       "      <td>NaN</td>\n",
       "      <td>NaN</td>\n",
       "      <td>Winter Haven, Florida</td>\n",
       "      <td>NaN</td>\n",
       "      <td>NaN</td>\n",
       "      <td>NaN</td>\n",
       "      <td>NaN</td>\n",
       "      <td>NaN</td>\n",
       "      <td>NaN</td>\n",
       "      <td>312654918</td>\n",
       "      <td>NaN</td>\n",
       "      <td>tww7374</td>\n",
       "      <td>Phoenix friends visit</td>\n",
       "      <td>I have stayed at this hotel several times befo...</td>\n",
       "      <td>[]</td>\n",
       "      <td>September 22, 2015</td>\n",
       "    </tr>\n",
       "    <tr>\n",
       "      <th>7</th>\n",
       "      <td>NaN</td>\n",
       "      <td>http://www.tripadvisor.com/Hotel_Review-g31310...</td>\n",
       "      <td>Wyndham Garden Phoenix Midtown</td>\n",
       "      <td>NaN</td>\n",
       "      <td>NaN</td>\n",
       "      <td>NaN</td>\n",
       "      <td>san jose</td>\n",
       "      <td>NaN</td>\n",
       "      <td>NaN</td>\n",
       "      <td>NaN</td>\n",
       "      <td>NaN</td>\n",
       "      <td>NaN</td>\n",
       "      <td>NaN</td>\n",
       "      <td>312545696</td>\n",
       "      <td>NaN</td>\n",
       "      <td>fishnerd</td>\n",
       "      <td>Great for the price</td>\n",
       "      <td>I was in Arizona because of a family medical e...</td>\n",
       "      <td>[]</td>\n",
       "      <td>September 22, 2015</td>\n",
       "    </tr>\n",
       "    <tr>\n",
       "      <th>8</th>\n",
       "      <td>NaN</td>\n",
       "      <td>http://www.tripadvisor.com/Hotel_Review-g31310...</td>\n",
       "      <td>Wyndham Garden Phoenix Midtown</td>\n",
       "      <td>NaN</td>\n",
       "      <td>NaN</td>\n",
       "      <td>NaN</td>\n",
       "      <td>Missouri</td>\n",
       "      <td>NaN</td>\n",
       "      <td>NaN</td>\n",
       "      <td>NaN</td>\n",
       "      <td>NaN</td>\n",
       "      <td>NaN</td>\n",
       "      <td>NaN</td>\n",
       "      <td>311911568</td>\n",
       "      <td>NaN</td>\n",
       "      <td>risher70</td>\n",
       "      <td>A little disappointed</td>\n",
       "      <td>I was a little disappointed. I expected more o...</td>\n",
       "      <td>[]</td>\n",
       "      <td>September 19, 2015</td>\n",
       "    </tr>\n",
       "    <tr>\n",
       "      <th>9</th>\n",
       "      <td>NaN</td>\n",
       "      <td>http://www.tripadvisor.com/Hotel_Review-g31310...</td>\n",
       "      <td>Wyndham Garden Phoenix Midtown</td>\n",
       "      <td>NaN</td>\n",
       "      <td>NaN</td>\n",
       "      <td>NaN</td>\n",
       "      <td>Los Ranchos de Albuquerque, New Mexico</td>\n",
       "      <td>NaN</td>\n",
       "      <td>NaN</td>\n",
       "      <td>NaN</td>\n",
       "      <td>NaN</td>\n",
       "      <td>NaN</td>\n",
       "      <td>NaN</td>\n",
       "      <td>311678108</td>\n",
       "      <td>NaN</td>\n",
       "      <td>B5881SEsandrac</td>\n",
       "      <td>Sports vacation</td>\n",
       "      <td>Great location, you can enjoy the hotel accomm...</td>\n",
       "      <td>[]</td>\n",
       "      <td>September 18, 2015</td>\n",
       "    </tr>\n",
       "  </tbody>\n",
       "</table>\n",
       "</div>"
      ],
      "text/plain": [
       "  hotel_id                                          hotel_url  \\\n",
       "0      NaN  http://www.tripadvisor.com/Hotel_Review-g31310...   \n",
       "1      NaN  http://www.tripadvisor.com/Hotel_Review-g31310...   \n",
       "2      NaN  http://www.tripadvisor.com/Hotel_Review-g31310...   \n",
       "3      NaN  http://www.tripadvisor.com/Hotel_Review-g31310...   \n",
       "4      NaN  http://www.tripadvisor.com/Hotel_Review-g31310...   \n",
       "5      NaN  http://www.tripadvisor.com/Hotel_Review-g31310...   \n",
       "6      NaN  http://www.tripadvisor.com/Hotel_Review-g31310...   \n",
       "7      NaN  http://www.tripadvisor.com/Hotel_Review-g31310...   \n",
       "8      NaN  http://www.tripadvisor.com/Hotel_Review-g31310...   \n",
       "9      NaN  http://www.tripadvisor.com/Hotel_Review-g31310...   \n",
       "\n",
       "                       hotel_name hotel_address hotel_city hotel_state  \\\n",
       "0  Wyndham Garden Phoenix Midtown           NaN        NaN         NaN   \n",
       "1  Wyndham Garden Phoenix Midtown           NaN        NaN         NaN   \n",
       "2  Wyndham Garden Phoenix Midtown           NaN        NaN         NaN   \n",
       "3  Wyndham Garden Phoenix Midtown           NaN        NaN         NaN   \n",
       "4  Wyndham Garden Phoenix Midtown           NaN        NaN         NaN   \n",
       "5  Wyndham Garden Phoenix Midtown           NaN        NaN         NaN   \n",
       "6  Wyndham Garden Phoenix Midtown           NaN        NaN         NaN   \n",
       "7  Wyndham Garden Phoenix Midtown           NaN        NaN         NaN   \n",
       "8  Wyndham Garden Phoenix Midtown           NaN        NaN         NaN   \n",
       "9  Wyndham Garden Phoenix Midtown           NaN        NaN         NaN   \n",
       "\n",
       "                           hotel_location hotel_rating hotel_latitude  \\\n",
       "0                 Albuquerque, New Mexico          NaN            NaN   \n",
       "1                        Phoenix, Arizona          NaN            NaN   \n",
       "2                   Keams Canyon, Arizona          NaN            NaN   \n",
       "3                                  Tucson          NaN            NaN   \n",
       "4              Derbyshire, United Kingdom          NaN            NaN   \n",
       "5                                 Houston          NaN            NaN   \n",
       "6                   Winter Haven, Florida          NaN            NaN   \n",
       "7                                san jose          NaN            NaN   \n",
       "8                                Missouri          NaN            NaN   \n",
       "9  Los Ranchos de Albuquerque, New Mexico          NaN            NaN   \n",
       "\n",
       "  hotel_longitude review_count hotel_address business_id  review_id user_id  \\\n",
       "0             NaN          NaN           NaN         NaN  313650991     NaN   \n",
       "1             NaN          NaN           NaN         NaN  313434796     NaN   \n",
       "2             NaN          NaN           NaN         NaN  313408050     NaN   \n",
       "3             NaN          NaN           NaN         NaN  313386244     NaN   \n",
       "4             NaN          NaN           NaN         NaN  313022540     NaN   \n",
       "5             NaN          NaN           NaN         NaN  312707081     NaN   \n",
       "6             NaN          NaN           NaN         NaN  312654918     NaN   \n",
       "7             NaN          NaN           NaN         NaN  312545696     NaN   \n",
       "8             NaN          NaN           NaN         NaN  311911568     NaN   \n",
       "9             NaN          NaN           NaN         NaN  311678108     NaN   \n",
       "\n",
       "         username                                       review_title  \\\n",
       "0    522gerald...  House keeping was very good. General cleanline...   \n",
       "1       shalom602                                      private event   \n",
       "2    J4522PHemmat                                           Business   \n",
       "3          Tina R                             Sad workout facilities   \n",
       "4          John C                                        Great staff   \n",
       "5             Y B                       Nice hotel close to downtown   \n",
       "6         tww7374                              Phoenix friends visit   \n",
       "7        fishnerd                                Great for the price   \n",
       "8        risher70                              A little disappointed   \n",
       "9  B5881SEsandrac                                    Sports vacation   \n",
       "\n",
       "                                         review_text review_rating  \\\n",
       "0  House keeping was very good. General cleanline...            []   \n",
       "1  For the past 4 years i have been staying at th...            []   \n",
       "2  Stay was ok. Wouldn't say it was great. At tim...            []   \n",
       "3  Room was comfortable, although I had to reques...            []   \n",
       "4  First time in phoenix, the hotel made my stay ...            []   \n",
       "5  Staff and hotel was great as a whole. Wifi wor...            []   \n",
       "6  I have stayed at this hotel several times befo...            []   \n",
       "7  I was in Arizona because of a family medical e...            []   \n",
       "8  I was a little disappointed. I expected more o...            []   \n",
       "9  Great location, you can enjoy the hotel accomm...            []   \n",
       "\n",
       "          review_date  \n",
       "0  September 25, 2015  \n",
       "1  September 25, 2015  \n",
       "2  September 24, 2015  \n",
       "3  September 24, 2015  \n",
       "4  September 23, 2015  \n",
       "5  September 22, 2015  \n",
       "6  September 22, 2015  \n",
       "7  September 22, 2015  \n",
       "8  September 19, 2015  \n",
       "9  September 18, 2015  "
      ]
     },
     "execution_count": 31,
     "metadata": {},
     "output_type": "execute_result"
    }
   ],
   "source": [
    "df"
   ]
  },
  {
   "cell_type": "code",
   "execution_count": null,
   "metadata": {
    "collapsed": true
   },
   "outputs": [],
   "source": []
  }
 ],
 "metadata": {
  "kernelspec": {
   "display_name": "Python 2",
   "language": "python",
   "name": "python2"
  },
  "language_info": {
   "codemirror_mode": {
    "name": "ipython",
    "version": 2
   },
   "file_extension": ".py",
   "mimetype": "text/x-python",
   "name": "python",
   "nbconvert_exporter": "python",
   "pygments_lexer": "ipython2",
   "version": "2.7.10"
  }
 },
 "nbformat": 4,
 "nbformat_minor": 0
}
