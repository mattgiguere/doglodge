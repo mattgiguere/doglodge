{
 "cells": [
  {
   "cell_type": "code",
   "execution_count": 1,
   "metadata": {
    "collapsed": true
   },
   "outputs": [],
   "source": [
    "import pandas as pd\n",
    "import numpy as np\n",
    "from splinter.browser import Browser\n",
    "import re"
   ]
  },
  {
   "cell_type": "code",
   "execution_count": 2,
   "metadata": {
    "collapsed": true
   },
   "outputs": [],
   "source": [
    "br = Browser()"
   ]
  },
  {
   "cell_type": "code",
   "execution_count": 3,
   "metadata": {
    "collapsed": true
   },
   "outputs": [],
   "source": [
    "url = \"http://www.tripadvisor.com/Hotels-g31310-Phoenix_Arizona-Hotels.html\""
   ]
  },
  {
   "cell_type": "code",
   "execution_count": 4,
   "metadata": {
    "collapsed": true
   },
   "outputs": [],
   "source": [
    "br.visit(url)"
   ]
  },
  {
   "cell_type": "code",
   "execution_count": 5,
   "metadata": {
    "collapsed": true
   },
   "outputs": [],
   "source": [
    "hotels_div = br.find_by_xpath('//*[@id=\"ACCOM_OVERVIEW\"]/div/div/div/div')\n",
    "titles_div = br.find_by_xpath('//*[@class=\"listing_title\"]')"
   ]
  },
  {
   "cell_type": "code",
   "execution_count": 6,
   "metadata": {
    "collapsed": false
   },
   "outputs": [
    {
     "data": {
      "text/plain": [
       "[<splinter.driver.webdriver.WebDriverElement at 0x1020d7310>,\n",
       " <splinter.driver.webdriver.WebDriverElement at 0x1020d7390>,\n",
       " <splinter.driver.webdriver.WebDriverElement at 0x1020d7410>,\n",
       " <splinter.driver.webdriver.WebDriverElement at 0x1020d7490>,\n",
       " <splinter.driver.webdriver.WebDriverElement at 0x1020d7510>,\n",
       " <splinter.driver.webdriver.WebDriverElement at 0x1020d7590>,\n",
       " <splinter.driver.webdriver.WebDriverElement at 0x1020d7610>,\n",
       " <splinter.driver.webdriver.WebDriverElement at 0x1020d7690>,\n",
       " <splinter.driver.webdriver.WebDriverElement at 0x1020d7710>,\n",
       " <splinter.driver.webdriver.WebDriverElement at 0x1020d7790>,\n",
       " <splinter.driver.webdriver.WebDriverElement at 0x1020d7810>,\n",
       " <splinter.driver.webdriver.WebDriverElement at 0x1020d7890>,\n",
       " <splinter.driver.webdriver.WebDriverElement at 0x1020d7910>,\n",
       " <splinter.driver.webdriver.WebDriverElement at 0x1020d7990>,\n",
       " <splinter.driver.webdriver.WebDriverElement at 0x1020d7a10>,\n",
       " <splinter.driver.webdriver.WebDriverElement at 0x1020d7a90>,\n",
       " <splinter.driver.webdriver.WebDriverElement at 0x1020d7b10>,\n",
       " <splinter.driver.webdriver.WebDriverElement at 0x1020d7b90>,\n",
       " <splinter.driver.webdriver.WebDriverElement at 0x1020d7c10>,\n",
       " <splinter.driver.webdriver.WebDriverElement at 0x1020d7c90>,\n",
       " <splinter.driver.webdriver.WebDriverElement at 0x1020d7d10>,\n",
       " <splinter.driver.webdriver.WebDriverElement at 0x1020d7d90>,\n",
       " <splinter.driver.webdriver.WebDriverElement at 0x1020d7e10>,\n",
       " <splinter.driver.webdriver.WebDriverElement at 0x1020d7e90>,\n",
       " <splinter.driver.webdriver.WebDriverElement at 0x1020d7f10>,\n",
       " <splinter.driver.webdriver.WebDriverElement at 0x1020d7f90>,\n",
       " <splinter.driver.webdriver.WebDriverElement at 0x1020e8050>,\n",
       " <splinter.driver.webdriver.WebDriverElement at 0x1020e80d0>,\n",
       " <splinter.driver.webdriver.WebDriverElement at 0x1020e8150>,\n",
       " <splinter.driver.webdriver.WebDriverElement at 0x1020e81d0>,\n",
       " <splinter.driver.webdriver.WebDriverElement at 0x1020e8250>,\n",
       " <splinter.driver.webdriver.WebDriverElement at 0x1020e82d0>,\n",
       " <splinter.driver.webdriver.WebDriverElement at 0x1020e8350>,\n",
       " <splinter.driver.webdriver.WebDriverElement at 0x1020e83d0>,\n",
       " <splinter.driver.webdriver.WebDriverElement at 0x1020e8450>]"
      ]
     },
     "execution_count": 6,
     "metadata": {},
     "output_type": "execute_result"
    }
   ],
   "source": [
    "hotels_div"
   ]
  },
  {
   "cell_type": "code",
   "execution_count": 7,
   "metadata": {
    "collapsed": false
   },
   "outputs": [
    {
     "name": "stdout",
     "output_type": "stream",
     "text": [
      "Hotel 502\n",
      "http://www.tripadvisor.com/Hotel_Review-g31310-d73760-Reviews-Hotel_502-Phoenix_Arizona.html\n",
      "**************************************************\n",
      "Arizona Grand Resort & Spa\n",
      "http://www.tripadvisor.com/Hotel_Review-g31310-d112178-Reviews-Arizona_Grand_Resort_Spa-Phoenix_Arizona.html\n",
      "**************************************************\n",
      "Pointe Hilton Squaw Peak Resort\n",
      "http://www.tripadvisor.com/Hotel_Review-g31310-d73957-Reviews-Pointe_Hilton_Squaw_Peak_Resort-Phoenix_Arizona.html\n",
      "**************************************************\n",
      "Pointe Hilton Tapatio Cliffs Resort\n",
      "http://www.tripadvisor.com/Hotel_Review-g31310-d277997-Reviews-Pointe_Hilton_Tapatio_Cliffs_Resort-Phoenix_Arizona.html\n",
      "**************************************************\n",
      "Arizona Biltmore, A Waldorf Astoria Resort\n",
      "http://www.tripadvisor.com/Hotel_Review-g31310-d115484-Reviews-Arizona_Biltmore_A_Waldorf_Astoria_Resort-Phoenix_Arizona.html\n",
      "**************************************************\n",
      "Royal Palms Resort and Spa\n",
      "http://www.tripadvisor.com/Hotel_Review-g31310-d73943-Reviews-Royal_Palms_Resort_and_Spa-Phoenix_Arizona.html\n",
      "**************************************************\n",
      "JW Marriott Desert Ridge Resort & Spa Phoenix\n",
      "http://www.tripadvisor.com/Hotel_Review-g31310-d223860-Reviews-JW_Marriott_Desert_Ridge_Resort_Spa_Phoenix-Phoenix_Arizona.html\n",
      "**************************************************\n",
      "Marriott's Canyon Villas at Desert Ridge\n",
      "http://www.tripadvisor.com/Hotel_Review-g31310-d286542-Reviews-Marriott_s_Canyon_Villas_at_Desert_Ridge-Phoenix_Arizona.html\n",
      "**************************************************\n",
      "Hotel Palomar Phoenix - a Kimpton Hotel\n",
      "http://www.tripadvisor.com/Hotel_Review-g31310-d2627745-Reviews-Hotel_Palomar_Phoenix_a_Kimpton_Hotel-Phoenix_Arizona.html\n",
      "**************************************************\n",
      "The Clarendon Hotel and Spa\n",
      "http://www.tripadvisor.com/Hotel_Review-g31310-d266322-Reviews-The_Clarendon_Hotel_and_Spa-Phoenix_Arizona.html\n",
      "**************************************************\n",
      "Hampton Inn & Suites Phoenix North/Happy Valley\n",
      "http://www.tripadvisor.com/Hotel_Review-g31310-d1200121-Reviews-Hampton_Inn_Suites_Phoenix_North_Happy_Valley-Phoenix_Arizona.html\n",
      "**************************************************\n",
      "Homewood Suites Phoenix North - Happy Valley\n",
      "http://www.tripadvisor.com/Hotel_Review-g31310-d1201061-Reviews-Homewood_Suites_Phoenix_North_Happy_Valley-Phoenix_Arizona.html\n",
      "**************************************************\n",
      "Westin Phoenix Downtown\n",
      "http://www.tripadvisor.com/Hotel_Review-g31310-d2015227-Reviews-Westin_Phoenix_Downtown-Phoenix_Arizona.html\n",
      "**************************************************\n",
      "Radisson Hotel Phoenix North\n",
      "http://www.tripadvisor.com/Hotel_Review-g31310-d218100-Reviews-Radisson_Hotel_Phoenix_North-Phoenix_Arizona.html\n",
      "**************************************************\n",
      "Embassy Suites by Hilton Phoenix-Scottsdale\n",
      "http://www.tripadvisor.com/Hotel_Review-g31310-d224250-Reviews-Embassy_Suites_by_Hilton_Phoenix_Scottsdale-Phoenix_Arizona.html\n",
      "**************************************************\n",
      "Legacy Golf Resort\n",
      "http://www.tripadvisor.com/Hotel_Review-g31310-d74626-Reviews-Legacy_Golf_Resort-Phoenix_Arizona.html\n",
      "**************************************************\n",
      "Sheraton Phoenix Downtown Hotel\n",
      "http://www.tripadvisor.com/Hotel_Review-g31310-d1147292-Reviews-Sheraton_Phoenix_Downtown_Hotel-Phoenix_Arizona.html\n",
      "**************************************************\n",
      "Hyatt Regency Phoenix\n",
      "http://www.tripadvisor.com/Hotel_Review-g31310-d73855-Reviews-Hyatt_Regency_Phoenix-Phoenix_Arizona.html\n",
      "**************************************************\n",
      "Wyndham Garden Phoenix Midtown\n",
      "http://www.tripadvisor.com/Hotel_Review-g31310-d73905-Reviews-Wyndham_Garden_Phoenix_Midtown-Phoenix_Arizona.html\n",
      "**************************************************\n",
      "Hampton Inn Phoenix-Biltmore\n",
      "http://www.tripadvisor.com/Hotel_Review-g31310-d74624-Reviews-Hampton_Inn_Phoenix_Biltmore-Phoenix_Arizona.html\n",
      "**************************************************\n",
      "Embassy Suites by Hilton Hotel Phoenix Biltmore\n",
      "http://www.tripadvisor.com/Hotel_Review-g31310-d112154-Reviews-Embassy_Suites_by_Hilton_Hotel_Phoenix_Biltmore-Phoenix_Arizona.html\n",
      "**************************************************\n",
      "Aloft Phoenix-Airport\n",
      "http://www.tripadvisor.com/Hotel_Review-g31310-d1174692-Reviews-Aloft_Phoenix_Airport-Phoenix_Arizona.html\n",
      "**************************************************\n",
      "DoubleTree Suites by Hilton Hotel Phoenix\n",
      "http://www.tripadvisor.com/Hotel_Review-g31310-d115482-Reviews-DoubleTree_Suites_by_Hilton_Hotel_Phoenix-Phoenix_Arizona.html\n",
      "**************************************************\n",
      "BEST WESTERN Airport Inn\n",
      "http://www.tripadvisor.com/Hotel_Review-g31310-d73706-Reviews-BEST_WESTERN_Airport_Inn-Phoenix_Arizona.html\n",
      "**************************************************\n",
      "Drury Inn & Suites Phoenix Airport\n",
      "http://www.tripadvisor.com/Hotel_Review-g31310-d73923-Reviews-Drury_Inn_Suites_Phoenix_Airport-Phoenix_Arizona.html\n",
      "**************************************************\n",
      "BEST WESTERN Innsuites Phoenix Biltmore\n",
      "http://www.tripadvisor.com/Hotel_Review-g31310-d73739-Reviews-BEST_WESTERN_Innsuites_Phoenix_Biltmore-Phoenix_Arizona.html\n",
      "**************************************************\n",
      "Red Roof Inn Phoenix West\n",
      "http://www.tripadvisor.com/Hotel_Review-g31310-d224757-Reviews-Red_Roof_Inn_Phoenix_West-Phoenix_Arizona.html\n",
      "**************************************************\n",
      "Candlewood Suites Phoenix\n",
      "http://www.tripadvisor.com/Hotel_Review-g31310-d224733-Reviews-Candlewood_Suites_Phoenix-Phoenix_Arizona.html\n",
      "**************************************************\n",
      "La Quinta Inn & Suites Phoenix I-10 West\n",
      "http://www.tripadvisor.com/Hotel_Review-g31310-d634649-Reviews-La_Quinta_Inn_Suites_Phoenix_I_10_West-Phoenix_Arizona.html\n",
      "**************************************************\n",
      "Holiday Inn Express Phoenix Airport (University Drive)\n",
      "http://www.tripadvisor.com/Hotel_Review-g31310-d75662-Reviews-Holiday_Inn_Express_Phoenix_Airport_University_Drive-Phoenix_Arizona.html\n",
      "**************************************************\n",
      "Hilton Garden Inn Phoenix Airport\n",
      "http://www.tripadvisor.com/Hotel_Review-g31310-d223035-Reviews-Hilton_Garden_Inn_Phoenix_Airport-Phoenix_Arizona.html\n",
      "**************************************************\n"
     ]
    }
   ],
   "source": [
    "hotel_names = []\n",
    "links = []\n",
    "\n",
    "for title in titles_div:\n",
    "    print(title.text)\n",
    "    hotel_names.append(title.text)\n",
    "    print(title.find_by_xpath('a')['href'])\n",
    "    links.append(title.find_by_xpath('a')['href'])\n",
    "    print('*'*50)"
   ]
  },
  {
   "cell_type": "code",
   "execution_count": 8,
   "metadata": {
    "collapsed": false
   },
   "outputs": [
    {
     "data": {
      "text/plain": [
       "[u'http://www.tripadvisor.com/Hotel_Review-g31310-d73760-Reviews-Hotel_502-Phoenix_Arizona.html',\n",
       " u'http://www.tripadvisor.com/Hotel_Review-g31310-d112178-Reviews-Arizona_Grand_Resort_Spa-Phoenix_Arizona.html',\n",
       " u'http://www.tripadvisor.com/Hotel_Review-g31310-d73957-Reviews-Pointe_Hilton_Squaw_Peak_Resort-Phoenix_Arizona.html',\n",
       " u'http://www.tripadvisor.com/Hotel_Review-g31310-d277997-Reviews-Pointe_Hilton_Tapatio_Cliffs_Resort-Phoenix_Arizona.html',\n",
       " u'http://www.tripadvisor.com/Hotel_Review-g31310-d115484-Reviews-Arizona_Biltmore_A_Waldorf_Astoria_Resort-Phoenix_Arizona.html',\n",
       " u'http://www.tripadvisor.com/Hotel_Review-g31310-d73943-Reviews-Royal_Palms_Resort_and_Spa-Phoenix_Arizona.html',\n",
       " u'http://www.tripadvisor.com/Hotel_Review-g31310-d223860-Reviews-JW_Marriott_Desert_Ridge_Resort_Spa_Phoenix-Phoenix_Arizona.html',\n",
       " u'http://www.tripadvisor.com/Hotel_Review-g31310-d286542-Reviews-Marriott_s_Canyon_Villas_at_Desert_Ridge-Phoenix_Arizona.html',\n",
       " u'http://www.tripadvisor.com/Hotel_Review-g31310-d2627745-Reviews-Hotel_Palomar_Phoenix_a_Kimpton_Hotel-Phoenix_Arizona.html',\n",
       " u'http://www.tripadvisor.com/Hotel_Review-g31310-d266322-Reviews-The_Clarendon_Hotel_and_Spa-Phoenix_Arizona.html',\n",
       " u'http://www.tripadvisor.com/Hotel_Review-g31310-d1200121-Reviews-Hampton_Inn_Suites_Phoenix_North_Happy_Valley-Phoenix_Arizona.html',\n",
       " u'http://www.tripadvisor.com/Hotel_Review-g31310-d1201061-Reviews-Homewood_Suites_Phoenix_North_Happy_Valley-Phoenix_Arizona.html',\n",
       " u'http://www.tripadvisor.com/Hotel_Review-g31310-d2015227-Reviews-Westin_Phoenix_Downtown-Phoenix_Arizona.html',\n",
       " u'http://www.tripadvisor.com/Hotel_Review-g31310-d218100-Reviews-Radisson_Hotel_Phoenix_North-Phoenix_Arizona.html',\n",
       " u'http://www.tripadvisor.com/Hotel_Review-g31310-d224250-Reviews-Embassy_Suites_by_Hilton_Phoenix_Scottsdale-Phoenix_Arizona.html',\n",
       " u'http://www.tripadvisor.com/Hotel_Review-g31310-d74626-Reviews-Legacy_Golf_Resort-Phoenix_Arizona.html',\n",
       " u'http://www.tripadvisor.com/Hotel_Review-g31310-d1147292-Reviews-Sheraton_Phoenix_Downtown_Hotel-Phoenix_Arizona.html',\n",
       " u'http://www.tripadvisor.com/Hotel_Review-g31310-d73855-Reviews-Hyatt_Regency_Phoenix-Phoenix_Arizona.html',\n",
       " u'http://www.tripadvisor.com/Hotel_Review-g31310-d73905-Reviews-Wyndham_Garden_Phoenix_Midtown-Phoenix_Arizona.html',\n",
       " u'http://www.tripadvisor.com/Hotel_Review-g31310-d74624-Reviews-Hampton_Inn_Phoenix_Biltmore-Phoenix_Arizona.html',\n",
       " u'http://www.tripadvisor.com/Hotel_Review-g31310-d112154-Reviews-Embassy_Suites_by_Hilton_Hotel_Phoenix_Biltmore-Phoenix_Arizona.html',\n",
       " u'http://www.tripadvisor.com/Hotel_Review-g31310-d1174692-Reviews-Aloft_Phoenix_Airport-Phoenix_Arizona.html',\n",
       " u'http://www.tripadvisor.com/Hotel_Review-g31310-d115482-Reviews-DoubleTree_Suites_by_Hilton_Hotel_Phoenix-Phoenix_Arizona.html',\n",
       " u'http://www.tripadvisor.com/Hotel_Review-g31310-d73706-Reviews-BEST_WESTERN_Airport_Inn-Phoenix_Arizona.html',\n",
       " u'http://www.tripadvisor.com/Hotel_Review-g31310-d73923-Reviews-Drury_Inn_Suites_Phoenix_Airport-Phoenix_Arizona.html',\n",
       " u'http://www.tripadvisor.com/Hotel_Review-g31310-d73739-Reviews-BEST_WESTERN_Innsuites_Phoenix_Biltmore-Phoenix_Arizona.html',\n",
       " u'http://www.tripadvisor.com/Hotel_Review-g31310-d224757-Reviews-Red_Roof_Inn_Phoenix_West-Phoenix_Arizona.html',\n",
       " u'http://www.tripadvisor.com/Hotel_Review-g31310-d224733-Reviews-Candlewood_Suites_Phoenix-Phoenix_Arizona.html',\n",
       " u'http://www.tripadvisor.com/Hotel_Review-g31310-d634649-Reviews-La_Quinta_Inn_Suites_Phoenix_I_10_West-Phoenix_Arizona.html',\n",
       " u'http://www.tripadvisor.com/Hotel_Review-g31310-d75662-Reviews-Holiday_Inn_Express_Phoenix_Airport_University_Drive-Phoenix_Arizona.html',\n",
       " u'http://www.tripadvisor.com/Hotel_Review-g31310-d223035-Reviews-Hilton_Garden_Inn_Phoenix_Airport-Phoenix_Arizona.html']"
      ]
     },
     "execution_count": 8,
     "metadata": {},
     "output_type": "execute_result"
    }
   ],
   "source": [
    "links"
   ]
  },
  {
   "cell_type": "markdown",
   "metadata": {},
   "source": [
    "## Now to scrape the reviews from a specific hotel"
   ]
  },
  {
   "cell_type": "code",
   "execution_count": 9,
   "metadata": {
    "collapsed": false
   },
   "outputs": [],
   "source": [
    "br.visit(links[0])"
   ]
  },
  {
   "cell_type": "code",
   "execution_count": 10,
   "metadata": {
    "collapsed": true
   },
   "outputs": [],
   "source": [
    "full_reviews = br.find_by_xpath('//div[contains(@class, \"reviewSelector\")]')"
   ]
  },
  {
   "cell_type": "code",
   "execution_count": 11,
   "metadata": {
    "collapsed": false
   },
   "outputs": [
    {
     "data": {
      "text/plain": [
       "[<splinter.driver.webdriver.WebDriverElement at 0x102108190>,\n",
       " <splinter.driver.webdriver.WebDriverElement at 0x102108210>,\n",
       " <splinter.driver.webdriver.WebDriverElement at 0x102108290>,\n",
       " <splinter.driver.webdriver.WebDriverElement at 0x102108310>,\n",
       " <splinter.driver.webdriver.WebDriverElement at 0x102108390>,\n",
       " <splinter.driver.webdriver.WebDriverElement at 0x102108410>,\n",
       " <splinter.driver.webdriver.WebDriverElement at 0x102108490>,\n",
       " <splinter.driver.webdriver.WebDriverElement at 0x102108510>,\n",
       " <splinter.driver.webdriver.WebDriverElement at 0x102108590>,\n",
       " <splinter.driver.webdriver.WebDriverElement at 0x102108610>]"
      ]
     },
     "execution_count": 11,
     "metadata": {},
     "output_type": "execute_result"
    }
   ],
   "source": [
    "full_reviews"
   ]
  },
  {
   "cell_type": "code",
   "execution_count": 12,
   "metadata": {
    "collapsed": true
   },
   "outputs": [],
   "source": [
    "fullrev = full_reviews[0]"
   ]
  },
  {
   "cell_type": "code",
   "execution_count": 13,
   "metadata": {
    "collapsed": false
   },
   "outputs": [
    {
     "data": {
      "text/plain": [
       "u'guillermo m'"
      ]
     },
     "execution_count": 13,
     "metadata": {},
     "output_type": "execute_result"
    }
   ],
   "source": [
    "fullrev.find_by_xpath('div/div[contains(@class, \"col1of2\")]/div[contains(@class, \"member_info\")]').text"
   ]
  },
  {
   "cell_type": "code",
   "execution_count": 14,
   "metadata": {
    "collapsed": true
   },
   "outputs": [],
   "source": [
    "member_info = fullrev.find_by_xpath('div/div[contains(@class, \"col1of2\")]/div[contains(@class, \"member_info\")]')"
   ]
  },
  {
   "cell_type": "code",
   "execution_count": 15,
   "metadata": {
    "collapsed": false
   },
   "outputs": [
    {
     "data": {
      "text/plain": [
       "u'guillermo m'"
      ]
     },
     "execution_count": 15,
     "metadata": {},
     "output_type": "execute_result"
    }
   ],
   "source": [
    "member_info.find_by_xpath('div/div[contains(@class, \"username mo\")]').text"
   ]
  },
  {
   "cell_type": "code",
   "execution_count": 16,
   "metadata": {
    "collapsed": false
   },
   "outputs": [],
   "source": [
    "review = fullrev.find_by_xpath('div/div[@class=\"col2of2\"]/div[@class=\"innerBubble\"]')"
   ]
  },
  {
   "cell_type": "code",
   "execution_count": 17,
   "metadata": {
    "collapsed": false
   },
   "outputs": [
    {
     "data": {
      "text/plain": [
       "u'my experience at Hotel 502'"
      ]
     },
     "execution_count": 17,
     "metadata": {},
     "output_type": "execute_result"
    }
   ],
   "source": [
    "review.find_by_xpath('div/div[contains(@class, \"quote\")]').text.strip()[1:-1]"
   ]
  },
  {
   "cell_type": "code",
   "execution_count": 18,
   "metadata": {
    "collapsed": false
   },
   "outputs": [
    {
     "data": {
      "text/plain": [
       "u'5'"
      ]
     },
     "execution_count": 18,
     "metadata": {},
     "output_type": "execute_result"
    }
   ],
   "source": [
    "review.find_by_xpath('div/div[contains(@class, \"rating\")]/span/img')['alt'].split(' ')[0]"
   ]
  },
  {
   "cell_type": "code",
   "execution_count": 19,
   "metadata": {
    "collapsed": false
   },
   "outputs": [
    {
     "data": {
      "text/plain": [
       "u'September 17, 2015'"
      ]
     },
     "execution_count": 19,
     "metadata": {},
     "output_type": "execute_result"
    }
   ],
   "source": [
    "review.find_by_xpath('div/div[contains(@class, \"rating\")]/span[contains(@class, \"ratingDate\")]')['title']"
   ]
  },
  {
   "cell_type": "code",
   "execution_count": 20,
   "metadata": {
    "collapsed": false
   },
   "outputs": [
    {
     "data": {
      "text/plain": [
       "u'i had the pleasure of staying here with my children for one night and for the amount of time that we spent here it was a great experience for my children they enjoyed the swimming pool and the open area to play at.....my children are ready to do it again'"
      ]
     },
     "execution_count": 20,
     "metadata": {},
     "output_type": "execute_result"
    }
   ],
   "source": [
    "review.find_by_xpath('div/div[contains(@class, \"entry\")]').text.strip().replace(\"\\n\", \"\")"
   ]
  },
  {
   "cell_type": "code",
   "execution_count": 21,
   "metadata": {
    "collapsed": false
   },
   "outputs": [
    {
     "data": {
      "text/plain": [
       "u'review_311406395'"
      ]
     },
     "execution_count": 21,
     "metadata": {},
     "output_type": "execute_result"
    }
   ],
   "source": [
    "fullrev['id']"
   ]
  },
  {
   "cell_type": "code",
   "execution_count": 22,
   "metadata": {
    "collapsed": false
   },
   "outputs": [
    {
     "data": {
      "text/plain": [
       "[<splinter.driver.webdriver.WebDriverElement at 0x102108a50>]"
      ]
     },
     "execution_count": 22,
     "metadata": {},
     "output_type": "execute_result"
    }
   ],
   "source": [
    "br.find_by_xpath('//a[contains(@class, \"next\")]')"
   ]
  },
  {
   "cell_type": "code",
   "execution_count": 23,
   "metadata": {
    "collapsed": false
   },
   "outputs": [
    {
     "data": {
      "text/plain": [
       "True"
      ]
     },
     "execution_count": 23,
     "metadata": {},
     "output_type": "execute_result"
    }
   ],
   "source": [
    "len(br.find_by_xpath('//a[contains(@class, \"next\")]')) > 0"
   ]
  },
  {
   "cell_type": "code",
   "execution_count": 24,
   "metadata": {
    "collapsed": false
   },
   "outputs": [
    {
     "data": {
      "text/plain": [
       "u'http://www.tripadvisor.com/Hotel_Review-g31310-d73760-Reviews-or10-Hotel_502-Phoenix_Arizona.html#REVIEWS'"
      ]
     },
     "execution_count": 24,
     "metadata": {},
     "output_type": "execute_result"
    }
   ],
   "source": [
    "br.find_by_xpath('//a[contains(@class, \"next\")]')['href']"
   ]
  },
  {
   "cell_type": "code",
   "execution_count": null,
   "metadata": {
    "collapsed": true
   },
   "outputs": [],
   "source": []
  },
  {
   "cell_type": "code",
   "execution_count": 40,
   "metadata": {
    "collapsed": false
   },
   "outputs": [
    {
     "ename": "StaleElementReferenceException",
     "evalue": "Message: Element not found in the cache - perhaps the page has changed since it was looked up\nStacktrace:\n    at fxdriver.cache.getElementAt (resource://fxdriver/modules/web-element-cache.js:9348)\n    at Utils.getElementAt (file:///var/folders/px/z8wy9m_936gfhvww06m4zs740000gn/T/tmpFZJkHu/extensions/fxdriver@googlecode.com/components/driver-component.js:8942)\n    at FirefoxDriver.prototype.findElementsInternal_ (file:///var/folders/px/z8wy9m_936gfhvww06m4zs740000gn/T/tmpFZJkHu/extensions/fxdriver@googlecode.com/components/driver-component.js:10685)\n    at FirefoxDriver.prototype.findChildElements (file:///var/folders/px/z8wy9m_936gfhvww06m4zs740000gn/T/tmpFZJkHu/extensions/fxdriver@googlecode.com/components/driver-component.js:10706)\n    at DelayedCommand.prototype.executeInternal_/h (file:///var/folders/px/z8wy9m_936gfhvww06m4zs740000gn/T/tmpFZJkHu/extensions/fxdriver@googlecode.com/components/command-processor.js:12643)\n    at DelayedCommand.prototype.executeInternal_ (file:///var/folders/px/z8wy9m_936gfhvww06m4zs740000gn/T/tmpFZJkHu/extensions/fxdriver@googlecode.com/components/command-processor.js:12648)\n    at DelayedCommand.prototype.execute/< (file:///var/folders/px/z8wy9m_936gfhvww06m4zs740000gn/T/tmpFZJkHu/extensions/fxdriver@googlecode.com/components/command-processor.js:12590)",
     "output_type": "error",
     "traceback": [
      "\u001b[0;31m---------------------------------------------------------------------------\u001b[0m",
      "\u001b[0;31mStaleElementReferenceException\u001b[0m            Traceback (most recent call last)",
      "\u001b[0;32m<ipython-input-40-bf09d75c9328>\u001b[0m in \u001b[0;36m<module>\u001b[0;34m()\u001b[0m\n\u001b[1;32m      1\u001b[0m \u001b[0;32mfor\u001b[0m \u001b[0mfullrev\u001b[0m \u001b[0;32min\u001b[0m \u001b[0mfull_reviews\u001b[0m\u001b[0;34m:\u001b[0m\u001b[0;34m\u001b[0m\u001b[0m\n\u001b[1;32m      2\u001b[0m     \u001b[0;31m# user name:\u001b[0m\u001b[0;34m\u001b[0m\u001b[0;34m\u001b[0m\u001b[0m\n\u001b[0;32m----> 3\u001b[0;31m     \u001b[0mmember_info\u001b[0m \u001b[0;34m=\u001b[0m \u001b[0mfullrev\u001b[0m\u001b[0;34m.\u001b[0m\u001b[0mfind_by_xpath\u001b[0m\u001b[0;34m(\u001b[0m\u001b[0;34m'div/div[contains(@class, \"col1of2\")]/div[contains(@class, \"member_info\")]'\u001b[0m\u001b[0;34m)\u001b[0m\u001b[0;34m\u001b[0m\u001b[0m\n\u001b[0m\u001b[1;32m      4\u001b[0m     \u001b[0musrnm\u001b[0m \u001b[0;34m=\u001b[0m \u001b[0mmember_info\u001b[0m\u001b[0;34m.\u001b[0m\u001b[0mfind_by_xpath\u001b[0m\u001b[0;34m(\u001b[0m\u001b[0;34m'div/div[contains(@class, \"username mo\")]'\u001b[0m\u001b[0;34m)\u001b[0m\u001b[0;34m\u001b[0m\u001b[0m\n\u001b[1;32m      5\u001b[0m     \u001b[0mreview\u001b[0m \u001b[0;34m=\u001b[0m \u001b[0mfullrev\u001b[0m\u001b[0;34m.\u001b[0m\u001b[0mfind_by_xpath\u001b[0m\u001b[0;34m(\u001b[0m\u001b[0;34m'div/div[@class=\"col2of2\"]/div[@class=\"innerBubble\"]'\u001b[0m\u001b[0;34m)\u001b[0m\u001b[0;34m[\u001b[0m\u001b[0;36m0\u001b[0m\u001b[0;34m]\u001b[0m\u001b[0;34m\u001b[0m\u001b[0m\n",
      "\u001b[0;32m/Applications/anaconda/lib/python2.7/site-packages/splinter/driver/webdriver/__init__.pyc\u001b[0m in \u001b[0;36mfind_by_xpath\u001b[0;34m(self, selector, original_find, original_query)\u001b[0m\n\u001b[1;32m    574\u001b[0m \u001b[0;34m\u001b[0m\u001b[0m\n\u001b[1;32m    575\u001b[0m     \u001b[0;32mdef\u001b[0m \u001b[0mfind_by_xpath\u001b[0m\u001b[0;34m(\u001b[0m\u001b[0mself\u001b[0m\u001b[0;34m,\u001b[0m \u001b[0mselector\u001b[0m\u001b[0;34m,\u001b[0m \u001b[0moriginal_find\u001b[0m\u001b[0;34m=\u001b[0m\u001b[0mNone\u001b[0m\u001b[0;34m,\u001b[0m \u001b[0moriginal_query\u001b[0m\u001b[0;34m=\u001b[0m\u001b[0mNone\u001b[0m\u001b[0;34m)\u001b[0m\u001b[0;34m:\u001b[0m\u001b[0;34m\u001b[0m\u001b[0m\n\u001b[0;32m--> 576\u001b[0;31m         \u001b[0melements\u001b[0m \u001b[0;34m=\u001b[0m \u001b[0mElementList\u001b[0m\u001b[0;34m(\u001b[0m\u001b[0mself\u001b[0m\u001b[0;34m.\u001b[0m\u001b[0m_element\u001b[0m\u001b[0;34m.\u001b[0m\u001b[0mfind_elements_by_xpath\u001b[0m\u001b[0;34m(\u001b[0m\u001b[0mselector\u001b[0m\u001b[0;34m)\u001b[0m\u001b[0;34m)\u001b[0m\u001b[0;34m\u001b[0m\u001b[0m\n\u001b[0m\u001b[1;32m    577\u001b[0m         return ElementList(\n\u001b[1;32m    578\u001b[0m             [self.__class__(element, self.parent) for element in elements], find_by='xpath', query=selector)\n",
      "\u001b[0;32m/Applications/anaconda/lib/python2.7/site-packages/selenium/webdriver/remote/webelement.pyc\u001b[0m in \u001b[0;36mfind_elements_by_xpath\u001b[0;34m(self, xpath)\u001b[0m\n\u001b[1;32m    244\u001b[0m \u001b[0;34m\u001b[0m\u001b[0m\n\u001b[1;32m    245\u001b[0m         \"\"\"\n\u001b[0;32m--> 246\u001b[0;31m         \u001b[0;32mreturn\u001b[0m \u001b[0mself\u001b[0m\u001b[0;34m.\u001b[0m\u001b[0mfind_elements\u001b[0m\u001b[0;34m(\u001b[0m\u001b[0mby\u001b[0m\u001b[0;34m=\u001b[0m\u001b[0mBy\u001b[0m\u001b[0;34m.\u001b[0m\u001b[0mXPATH\u001b[0m\u001b[0;34m,\u001b[0m \u001b[0mvalue\u001b[0m\u001b[0;34m=\u001b[0m\u001b[0mxpath\u001b[0m\u001b[0;34m)\u001b[0m\u001b[0;34m\u001b[0m\u001b[0m\n\u001b[0m\u001b[1;32m    247\u001b[0m \u001b[0;34m\u001b[0m\u001b[0m\n\u001b[1;32m    248\u001b[0m     \u001b[0;32mdef\u001b[0m \u001b[0mfind_element_by_class_name\u001b[0m\u001b[0;34m(\u001b[0m\u001b[0mself\u001b[0m\u001b[0;34m,\u001b[0m \u001b[0mname\u001b[0m\u001b[0;34m)\u001b[0m\u001b[0;34m:\u001b[0m\u001b[0;34m\u001b[0m\u001b[0m\n",
      "\u001b[0;32m/Applications/anaconda/lib/python2.7/site-packages/selenium/webdriver/remote/webelement.pyc\u001b[0m in \u001b[0;36mfind_elements\u001b[0;34m(self, by, value)\u001b[0m\n\u001b[1;32m    486\u001b[0m \u001b[0;34m\u001b[0m\u001b[0m\n\u001b[1;32m    487\u001b[0m         return self._execute(Command.FIND_CHILD_ELEMENTS,\n\u001b[0;32m--> 488\u001b[0;31m                              {\"using\": by, \"value\": value})['value']\n\u001b[0m\u001b[1;32m    489\u001b[0m \u001b[0;34m\u001b[0m\u001b[0m\n\u001b[1;32m    490\u001b[0m     \u001b[0;32mdef\u001b[0m \u001b[0m__hash__\u001b[0m\u001b[0;34m(\u001b[0m\u001b[0mself\u001b[0m\u001b[0;34m)\u001b[0m\u001b[0;34m:\u001b[0m\u001b[0;34m\u001b[0m\u001b[0m\n",
      "\u001b[0;32m/Applications/anaconda/lib/python2.7/site-packages/selenium/webdriver/remote/webelement.pyc\u001b[0m in \u001b[0;36m_execute\u001b[0;34m(self, command, params)\u001b[0m\n\u001b[1;32m    446\u001b[0m             \u001b[0mparams\u001b[0m \u001b[0;34m=\u001b[0m \u001b[0;34m{\u001b[0m\u001b[0;34m}\u001b[0m\u001b[0;34m\u001b[0m\u001b[0m\n\u001b[1;32m    447\u001b[0m         \u001b[0mparams\u001b[0m\u001b[0;34m[\u001b[0m\u001b[0;34m'id'\u001b[0m\u001b[0;34m]\u001b[0m \u001b[0;34m=\u001b[0m \u001b[0mself\u001b[0m\u001b[0;34m.\u001b[0m\u001b[0m_id\u001b[0m\u001b[0;34m\u001b[0m\u001b[0m\n\u001b[0;32m--> 448\u001b[0;31m         \u001b[0;32mreturn\u001b[0m \u001b[0mself\u001b[0m\u001b[0;34m.\u001b[0m\u001b[0m_parent\u001b[0m\u001b[0;34m.\u001b[0m\u001b[0mexecute\u001b[0m\u001b[0;34m(\u001b[0m\u001b[0mcommand\u001b[0m\u001b[0;34m,\u001b[0m \u001b[0mparams\u001b[0m\u001b[0;34m)\u001b[0m\u001b[0;34m\u001b[0m\u001b[0m\n\u001b[0m\u001b[1;32m    449\u001b[0m \u001b[0;34m\u001b[0m\u001b[0m\n\u001b[1;32m    450\u001b[0m     \u001b[0;32mdef\u001b[0m \u001b[0mfind_element\u001b[0m\u001b[0;34m(\u001b[0m\u001b[0mself\u001b[0m\u001b[0;34m,\u001b[0m \u001b[0mby\u001b[0m\u001b[0;34m=\u001b[0m\u001b[0mBy\u001b[0m\u001b[0;34m.\u001b[0m\u001b[0mID\u001b[0m\u001b[0;34m,\u001b[0m \u001b[0mvalue\u001b[0m\u001b[0;34m=\u001b[0m\u001b[0mNone\u001b[0m\u001b[0;34m)\u001b[0m\u001b[0;34m:\u001b[0m\u001b[0;34m\u001b[0m\u001b[0m\n",
      "\u001b[0;32m/Applications/anaconda/lib/python2.7/site-packages/selenium/webdriver/remote/webdriver.pyc\u001b[0m in \u001b[0;36mexecute\u001b[0;34m(self, driver_command, params)\u001b[0m\n\u001b[1;32m    194\u001b[0m         \u001b[0mresponse\u001b[0m \u001b[0;34m=\u001b[0m \u001b[0mself\u001b[0m\u001b[0;34m.\u001b[0m\u001b[0mcommand_executor\u001b[0m\u001b[0;34m.\u001b[0m\u001b[0mexecute\u001b[0m\u001b[0;34m(\u001b[0m\u001b[0mdriver_command\u001b[0m\u001b[0;34m,\u001b[0m \u001b[0mparams\u001b[0m\u001b[0;34m)\u001b[0m\u001b[0;34m\u001b[0m\u001b[0m\n\u001b[1;32m    195\u001b[0m         \u001b[0;32mif\u001b[0m \u001b[0mresponse\u001b[0m\u001b[0;34m:\u001b[0m\u001b[0;34m\u001b[0m\u001b[0m\n\u001b[0;32m--> 196\u001b[0;31m             \u001b[0mself\u001b[0m\u001b[0;34m.\u001b[0m\u001b[0merror_handler\u001b[0m\u001b[0;34m.\u001b[0m\u001b[0mcheck_response\u001b[0m\u001b[0;34m(\u001b[0m\u001b[0mresponse\u001b[0m\u001b[0;34m)\u001b[0m\u001b[0;34m\u001b[0m\u001b[0m\n\u001b[0m\u001b[1;32m    197\u001b[0m             response['value'] = self._unwrap_value(\n\u001b[1;32m    198\u001b[0m                 response.get('value', None))\n",
      "\u001b[0;32m/Applications/anaconda/lib/python2.7/site-packages/selenium/webdriver/remote/errorhandler.pyc\u001b[0m in \u001b[0;36mcheck_response\u001b[0;34m(self, response)\u001b[0m\n\u001b[1;32m    179\u001b[0m         \u001b[0;32melif\u001b[0m \u001b[0mexception_class\u001b[0m \u001b[0;34m==\u001b[0m \u001b[0mUnexpectedAlertPresentException\u001b[0m \u001b[0;32mand\u001b[0m \u001b[0;34m'alert'\u001b[0m \u001b[0;32min\u001b[0m \u001b[0mvalue\u001b[0m\u001b[0;34m:\u001b[0m\u001b[0;34m\u001b[0m\u001b[0m\n\u001b[1;32m    180\u001b[0m             \u001b[0;32mraise\u001b[0m \u001b[0mexception_class\u001b[0m\u001b[0;34m(\u001b[0m\u001b[0mmessage\u001b[0m\u001b[0;34m,\u001b[0m \u001b[0mscreen\u001b[0m\u001b[0;34m,\u001b[0m \u001b[0mstacktrace\u001b[0m\u001b[0;34m,\u001b[0m \u001b[0mvalue\u001b[0m\u001b[0;34m[\u001b[0m\u001b[0;34m'alert'\u001b[0m\u001b[0;34m]\u001b[0m\u001b[0;34m.\u001b[0m\u001b[0mget\u001b[0m\u001b[0;34m(\u001b[0m\u001b[0;34m'text'\u001b[0m\u001b[0;34m)\u001b[0m\u001b[0;34m)\u001b[0m\u001b[0;34m\u001b[0m\u001b[0m\n\u001b[0;32m--> 181\u001b[0;31m         \u001b[0;32mraise\u001b[0m \u001b[0mexception_class\u001b[0m\u001b[0;34m(\u001b[0m\u001b[0mmessage\u001b[0m\u001b[0;34m,\u001b[0m \u001b[0mscreen\u001b[0m\u001b[0;34m,\u001b[0m \u001b[0mstacktrace\u001b[0m\u001b[0;34m)\u001b[0m\u001b[0;34m\u001b[0m\u001b[0m\n\u001b[0m\u001b[1;32m    182\u001b[0m \u001b[0;34m\u001b[0m\u001b[0m\n\u001b[1;32m    183\u001b[0m     \u001b[0;32mdef\u001b[0m \u001b[0m_value_or_default\u001b[0m\u001b[0;34m(\u001b[0m\u001b[0mself\u001b[0m\u001b[0;34m,\u001b[0m \u001b[0mobj\u001b[0m\u001b[0;34m,\u001b[0m \u001b[0mkey\u001b[0m\u001b[0;34m,\u001b[0m \u001b[0mdefault\u001b[0m\u001b[0;34m)\u001b[0m\u001b[0;34m:\u001b[0m\u001b[0;34m\u001b[0m\u001b[0m\n",
      "\u001b[0;31mStaleElementReferenceException\u001b[0m: Message: Element not found in the cache - perhaps the page has changed since it was looked up\nStacktrace:\n    at fxdriver.cache.getElementAt (resource://fxdriver/modules/web-element-cache.js:9348)\n    at Utils.getElementAt (file:///var/folders/px/z8wy9m_936gfhvww06m4zs740000gn/T/tmpFZJkHu/extensions/fxdriver@googlecode.com/components/driver-component.js:8942)\n    at FirefoxDriver.prototype.findElementsInternal_ (file:///var/folders/px/z8wy9m_936gfhvww06m4zs740000gn/T/tmpFZJkHu/extensions/fxdriver@googlecode.com/components/driver-component.js:10685)\n    at FirefoxDriver.prototype.findChildElements (file:///var/folders/px/z8wy9m_936gfhvww06m4zs740000gn/T/tmpFZJkHu/extensions/fxdriver@googlecode.com/components/driver-component.js:10706)\n    at DelayedCommand.prototype.executeInternal_/h (file:///var/folders/px/z8wy9m_936gfhvww06m4zs740000gn/T/tmpFZJkHu/extensions/fxdriver@googlecode.com/components/command-processor.js:12643)\n    at DelayedCommand.prototype.executeInternal_ (file:///var/folders/px/z8wy9m_936gfhvww06m4zs740000gn/T/tmpFZJkHu/extensions/fxdriver@googlecode.com/components/command-processor.js:12648)\n    at DelayedCommand.prototype.execute/< (file:///var/folders/px/z8wy9m_936gfhvww06m4zs740000gn/T/tmpFZJkHu/extensions/fxdriver@googlecode.com/components/command-processor.js:12590)"
     ]
    }
   ],
   "source": [
    "for fullrev in full_reviews:\n",
    "    # user name:\n",
    "    member_info = fullrev.find_by_xpath('div/div[contains(@class, \"col1of2\")]/div[contains(@class, \"member_info\")]')\n",
    "    usrnm = member_info.find_by_xpath('div/div[contains(@class, \"username mo\")]')\n",
    "    review = fullrev.find_by_xpath('div/div[@class=\"col2of2\"]/div[@class=\"innerBubble\"]')[0]\n",
    "    title = review.find_by_xpath('div/div[contains(@class, \"quote\")]').text.strip()[1:-1]\n",
    "    rating = review.find_by_xpath('div/div[contains(@class, \"rating\")]/span/img')['alt'].split(' ')[0]\n",
    "    date = review.find_by_xpath('div/div[contains(@class, \"rating\")]/span[contains(@class, \"ratingDate\")]')['title']\n",
    "    rev = review.find_by_xpath('div/div[contains(@class, \"entry\")]').text.strip().replace(\"\\n\", \"\")\n",
    "    if len(usrnm) > 0:\n",
    "        #location = member_info.xpath('div[1]')[0].text_content()\n",
    "        print('Username: {}'.format(str(usrnm[0].text).strip()))\n",
    "    else:\n",
    "        print('Username: A Trip Advisor Member')\n",
    "    \n",
    "    location = member_info.find_by_xpath('div[contains(@class, \"location\")]')\n",
    "    if len(location) > 0:\n",
    "        print('Location: {}'.format(str(location[0].text).strip()))\n",
    "    else:\n",
    "        print('Location: ')\n",
    "    \n",
    "    print('full review_id: {}'.format(fullrev['id']))\n",
    "    try:\n",
    "        rev_id = re.search('review_(\\d+)$', fullrev['id']).group(1)\n",
    "    except AttributeError:\n",
    "        rev_id = ''\n",
    "\n",
    "    print('review_id: {}'.format(rev_id))\n",
    "    print('Title: {}'.format(title))\n",
    "    print('Rating: {}'.format(rating))\n",
    "    print('Date: {}'.format(date))\n",
    "    print('Review:')\n",
    "    print(rev)\n",
    "    print('*'*50)\n"
   ]
  },
  {
   "cell_type": "code",
   "execution_count": 43,
   "metadata": {
    "collapsed": true
   },
   "outputs": [],
   "source": [
    "def return_results(url, page):\n",
    "    br.visit(url)\n",
    "    full_reviews = br.find_by_xpath('//div[contains(@class, \"reviewSelector\")]')\n",
    "\n",
    "    page_usernames = []\n",
    "    page_locations = []\n",
    "    page_titles = []\n",
    "    page_ratings = []\n",
    "    page_dates = []\n",
    "    page_reviews = []\n",
    "    page_review_ids = []\n",
    "\n",
    "    for fullrev in full_reviews:\n",
    "        # user name:\n",
    "        member_info = fullrev.find_by_xpath('div/div[contains(@class, \"col1of2\")]/div[contains(@class, \"member_info\")]')\n",
    "        usrnm = member_info.find_by_xpath('div/div[contains(@class, \"username mo\")]')\n",
    "        review = fullrev.find_by_xpath('div/div[@class=\"col2of2\"]/div[@class=\"innerBubble\"]')[0]\n",
    "        title = review.find_by_xpath('div/div[contains(@class, \"quote\")]').text.strip()[1:-1]\n",
    "        rating = review.find_by_xpath('div/div[contains(@class, \"rating\")]/span/img')['alt'].split(' ')[0]\n",
    "        date = review.find_by_xpath('div/div[contains(@class, \"rating\")]/span[contains(@class, \"ratingDate\")]')['title']\n",
    "        rev = review.find_by_xpath('div/div[contains(@class, \"entry\")]').text.strip().replace(\"\\n\", \"\")\n",
    "        if len(usrnm) > 0:\n",
    "            username = str(usrnm[0].text).strip()\n",
    "            print('Username: {}'.format(username))\n",
    "        else:\n",
    "            print('Username: A Trip Advisor Member')\n",
    "\n",
    "        locationel = member_info.find_by_xpath('div[contains(@class, \"location\")]')\n",
    "        if len(locationel) > 0:\n",
    "            location = str(locationel[0].text).strip()\n",
    "            print('Location: {}'.format(location))\n",
    "        else:\n",
    "            location = ''\n",
    "            print('Location: ')\n",
    "\n",
    "        print('full review_id: {}'.format(fullrev['id']))\n",
    "        try:\n",
    "            rev_id = re.search('review_(\\d+)$', fullrev['id']).group(1)\n",
    "        except AttributeError:\n",
    "            rev_id = ''\n",
    "\n",
    "#         print('review_id: {}'.format(rev_id))\n",
    "#         print('Title: {}'.format(title))\n",
    "#         print('Rating: {}'.format(rating))\n",
    "#         print('Date: {}'.format(date))\n",
    "#         print('Review:')\n",
    "#        print(rev)\n",
    "#        print('*'*50)\n",
    "\n",
    "        page_usernames.append(username)\n",
    "        page_locations.append(location)\n",
    "        page_titles.append(title)\n",
    "        page_ratings.append(ratings)\n",
    "        page_dates.append(date)\n",
    "        page_reviews.append(rev)\n",
    "        page_review_ids.append(rev_id)\n",
    "\n",
    "    if len(br.find_by_xpath('//a[contains(@class, \"next\")]')) > 0:\n",
    "        url = br.find_by_xpath('//a[contains(@class, \"next\")]')['href']\n",
    "        more_reviews = True\n",
    "        page += 1\n",
    "#        print('url and page updated.')\n",
    "    else:\n",
    "        more_reviews = False\n",
    "    \n",
    "    ret_dict = {'usrnms': page_usernames,\n",
    "                'locs': page_locations,\n",
    "                'ttls': page_titles,\n",
    "                'rtngs': page_ratings,\n",
    "                'dts': page_dates,\n",
    "                'rvws': page_reviews,\n",
    "                'revids': page_review_ids,\n",
    "               'url': url,\n",
    "               'more_reviews': more_reviews,\n",
    "               'page': page}\n",
    "    return ret_dict\n"
   ]
  },
  {
   "cell_type": "code",
   "execution_count": 48,
   "metadata": {
    "collapsed": false,
    "scrolled": true
   },
   "outputs": [
    {
     "name": "stdout",
     "output_type": "stream",
     "text": [
      "**************************************************\n",
      "Now on page 1\n",
      "Username: guillermo m\n",
      "Location: \n",
      "full review_id: review_311406395\n",
      "Username: brendabinaz\n",
      "Location: Fort Mohave, Arizona\n",
      "full review_id: review_311039868\n",
      "Username: john t\n",
      "Location: Boston, Massachusetts\n",
      "full review_id: review_309509867\n",
      "Username: Justin S\n",
      "Location: las vegas\n",
      "full review_id: review_305997920\n",
      "Username: Joseph P\n",
      "Location: \n",
      "full review_id: review_297624740\n",
      "Username: David B\n",
      "Location: \n",
      "full review_id: review_294414105\n",
      "Username: James25778\n",
      "Location: California\n",
      "full review_id: review_294073132\n",
      "Username: Uriel L\n",
      "Location: \n",
      "full review_id: review_292173448\n",
      "Username: Pierre C\n",
      "Location: \n",
      "full review_id: review_292050200\n",
      "Username: tim a\n",
      "Location: \n",
      "full review_id: review_290194815\n",
      "['', 'Fort Mohave, Arizona', 'Boston, Massachusetts', 'las vegas', '', '', 'California', '', '', '']\n",
      "[u'my experience at Hotel 502', u'Friendly staff, average hotel', u'Up coming Hot Spot', u'Remodeled mess', u'OK - But Needs Help', u'Unbelievable Hospitality', u'Lovely service', u'Fantastic Hotel', u'Room 412', u'Fun on my return']\n",
      "Timed out! Trying that page again...\n"
     ]
    }
   ],
   "source": [
    "usernames = []\n",
    "locations = []\n",
    "titles = []\n",
    "ratings = []\n",
    "dates = []\n",
    "reviews = []\n",
    "review_ids = []\n",
    "\n",
    "columns = ['hotel_id',\n",
    "           'hotel_url',\n",
    "           'hotel_name',\n",
    "           'hotel_address',\n",
    "           'hotel_city',\n",
    "           'hotel_state',\n",
    "           'hotel_location',\n",
    "           'hotel_rating',\n",
    "           'hotel_latitude',\n",
    "           'hotel_longitude',\n",
    "           'review_count',\n",
    "           'hotel_address',\n",
    "           'business_id',\n",
    "           'review_id',\n",
    "           'user_id',\n",
    "           'username',\n",
    "           'review_title',\n",
    "           'review_text',\n",
    "           'review_rating',\n",
    "           'review_date']\n",
    "\n",
    "bigdf = pd.DataFrame(columns=columns)\n",
    "\n",
    "url = links[0]\n",
    "more_reviews = True\n",
    "page = 1\n",
    "while more_reviews:\n",
    "    #print('*'*50)\n",
    "    print('*'*50)\n",
    "    print('Now on page {}'.format(page))\n",
    "    #print('*'*50)\n",
    "    \n",
    "    df = pd.DataFrame(columns=columns)\n",
    "\n",
    "    try:\n",
    "        ret_dict = return_results(url, page)\n",
    "        print(ret_dict['locs'])\n",
    "        print(ret_dict['ttls'])\n",
    "        df['username'] = ret_dict['usrnms']\n",
    "        df['hotel_location'] = ret_dict['locs']\n",
    "        df['review_title'] = ret_dict['ttls']\n",
    "        df['review_rating'] = ret_dict['rtngs']\n",
    "        df['review_date'] = ret_dict['dts']\n",
    "        df['review_text'] = ret_dict['rvws']\n",
    "        df['review_id'] = ret_dict['revids']\n",
    "        df['hotel_name'] = hotel_names\n",
    "        df['hotel_url'] = url\n",
    "        url = ret_dict['url']\n",
    "        more_reviews = ret_dict['more_reviews']\n",
    "        page = ret_dict['page']\n",
    "        print('successfully completed page {}'.format(page))\n",
    "    except:\n",
    "        print('Timed out! Trying that page again...' )\n",
    "    bigdf = bigdf.append(df)\n",
    "    more_reviews = False\n"
   ]
  },
  {
   "cell_type": "code",
   "execution_count": 47,
   "metadata": {
    "collapsed": false
   },
   "outputs": [
    {
     "data": {
      "text/html": [
       "<div style=\"max-height:1000px;max-width:1500px;overflow:auto;\">\n",
       "<table border=\"1\" class=\"dataframe\">\n",
       "  <thead>\n",
       "    <tr style=\"text-align: right;\">\n",
       "      <th></th>\n",
       "      <th>hotel_id</th>\n",
       "      <th>hotel_url</th>\n",
       "      <th>hotel_name</th>\n",
       "      <th>hotel_address</th>\n",
       "      <th>hotel_city</th>\n",
       "      <th>hotel_state</th>\n",
       "      <th>hotel_location</th>\n",
       "      <th>hotel_rating</th>\n",
       "      <th>hotel_latitude</th>\n",
       "      <th>hotel_longitude</th>\n",
       "      <th>review_count</th>\n",
       "      <th>hotel_address</th>\n",
       "      <th>business_id</th>\n",
       "      <th>review_id</th>\n",
       "      <th>user_id</th>\n",
       "      <th>username</th>\n",
       "      <th>review_title</th>\n",
       "      <th>review_text</th>\n",
       "      <th>review_rating</th>\n",
       "      <th>review_date</th>\n",
       "    </tr>\n",
       "  </thead>\n",
       "  <tbody>\n",
       "    <tr>\n",
       "      <th>0</th>\n",
       "      <td>NaN</td>\n",
       "      <td>NaN</td>\n",
       "      <td>NaN</td>\n",
       "      <td>NaN</td>\n",
       "      <td>NaN</td>\n",
       "      <td>NaN</td>\n",
       "      <td></td>\n",
       "      <td>NaN</td>\n",
       "      <td>NaN</td>\n",
       "      <td>NaN</td>\n",
       "      <td>NaN</td>\n",
       "      <td>NaN</td>\n",
       "      <td>NaN</td>\n",
       "      <td>311406395</td>\n",
       "      <td>NaN</td>\n",
       "      <td>guillermo m</td>\n",
       "      <td>my experience at Hotel 502</td>\n",
       "      <td>i had the pleasure of staying here with my chi...</td>\n",
       "      <td>[]</td>\n",
       "      <td>September 17, 2015</td>\n",
       "    </tr>\n",
       "    <tr>\n",
       "      <th>1</th>\n",
       "      <td>NaN</td>\n",
       "      <td>NaN</td>\n",
       "      <td>NaN</td>\n",
       "      <td>NaN</td>\n",
       "      <td>NaN</td>\n",
       "      <td>NaN</td>\n",
       "      <td>Fort Mohave, Arizona</td>\n",
       "      <td>NaN</td>\n",
       "      <td>NaN</td>\n",
       "      <td>NaN</td>\n",
       "      <td>NaN</td>\n",
       "      <td>NaN</td>\n",
       "      <td>NaN</td>\n",
       "      <td>311039868</td>\n",
       "      <td>NaN</td>\n",
       "      <td>brendabinaz</td>\n",
       "      <td>Friendly staff, average hotel</td>\n",
       "      <td>The staff was really nice. Always saying hello...</td>\n",
       "      <td>[]</td>\n",
       "      <td>September 16, 2015</td>\n",
       "    </tr>\n",
       "    <tr>\n",
       "      <th>2</th>\n",
       "      <td>NaN</td>\n",
       "      <td>NaN</td>\n",
       "      <td>NaN</td>\n",
       "      <td>NaN</td>\n",
       "      <td>NaN</td>\n",
       "      <td>NaN</td>\n",
       "      <td>Boston, Massachusetts</td>\n",
       "      <td>NaN</td>\n",
       "      <td>NaN</td>\n",
       "      <td>NaN</td>\n",
       "      <td>NaN</td>\n",
       "      <td>NaN</td>\n",
       "      <td>NaN</td>\n",
       "      <td>309509867</td>\n",
       "      <td>NaN</td>\n",
       "      <td>john t</td>\n",
       "      <td>Up coming Hot Spot</td>\n",
       "      <td>The perfect location is the first thing I want...</td>\n",
       "      <td>[]</td>\n",
       "      <td>September 12, 2015</td>\n",
       "    </tr>\n",
       "    <tr>\n",
       "      <th>3</th>\n",
       "      <td>NaN</td>\n",
       "      <td>NaN</td>\n",
       "      <td>NaN</td>\n",
       "      <td>NaN</td>\n",
       "      <td>NaN</td>\n",
       "      <td>NaN</td>\n",
       "      <td>las vegas</td>\n",
       "      <td>NaN</td>\n",
       "      <td>NaN</td>\n",
       "      <td>NaN</td>\n",
       "      <td>NaN</td>\n",
       "      <td>NaN</td>\n",
       "      <td>NaN</td>\n",
       "      <td>305997920</td>\n",
       "      <td>NaN</td>\n",
       "      <td>Justin S</td>\n",
       "      <td>Remodeled mess</td>\n",
       "      <td>I have stay at this hotel about 12 times only ...</td>\n",
       "      <td>[]</td>\n",
       "      <td>September 1, 2015</td>\n",
       "    </tr>\n",
       "    <tr>\n",
       "      <th>4</th>\n",
       "      <td>NaN</td>\n",
       "      <td>NaN</td>\n",
       "      <td>NaN</td>\n",
       "      <td>NaN</td>\n",
       "      <td>NaN</td>\n",
       "      <td>NaN</td>\n",
       "      <td></td>\n",
       "      <td>NaN</td>\n",
       "      <td>NaN</td>\n",
       "      <td>NaN</td>\n",
       "      <td>NaN</td>\n",
       "      <td>NaN</td>\n",
       "      <td>NaN</td>\n",
       "      <td>297624740</td>\n",
       "      <td>NaN</td>\n",
       "      <td>Joseph P</td>\n",
       "      <td>OK - But Needs Help</td>\n",
       "      <td>Price for room - good / overall look - good / ...</td>\n",
       "      <td>[]</td>\n",
       "      <td></td>\n",
       "    </tr>\n",
       "    <tr>\n",
       "      <th>5</th>\n",
       "      <td>NaN</td>\n",
       "      <td>NaN</td>\n",
       "      <td>NaN</td>\n",
       "      <td>NaN</td>\n",
       "      <td>NaN</td>\n",
       "      <td>NaN</td>\n",
       "      <td></td>\n",
       "      <td>NaN</td>\n",
       "      <td>NaN</td>\n",
       "      <td>NaN</td>\n",
       "      <td>NaN</td>\n",
       "      <td>NaN</td>\n",
       "      <td>NaN</td>\n",
       "      <td>294414105</td>\n",
       "      <td>NaN</td>\n",
       "      <td>David B</td>\n",
       "      <td>Unbelievable Hospitality</td>\n",
       "      <td>My family and I just moved to Arizona from Neb...</td>\n",
       "      <td>[]</td>\n",
       "      <td></td>\n",
       "    </tr>\n",
       "    <tr>\n",
       "      <th>6</th>\n",
       "      <td>NaN</td>\n",
       "      <td>NaN</td>\n",
       "      <td>NaN</td>\n",
       "      <td>NaN</td>\n",
       "      <td>NaN</td>\n",
       "      <td>NaN</td>\n",
       "      <td>California</td>\n",
       "      <td>NaN</td>\n",
       "      <td>NaN</td>\n",
       "      <td>NaN</td>\n",
       "      <td>NaN</td>\n",
       "      <td>NaN</td>\n",
       "      <td>NaN</td>\n",
       "      <td>294073132</td>\n",
       "      <td>NaN</td>\n",
       "      <td>James25778</td>\n",
       "      <td>Lovely service</td>\n",
       "      <td>I came to this hotel and was pleasantly surpri...</td>\n",
       "      <td>[]</td>\n",
       "      <td></td>\n",
       "    </tr>\n",
       "    <tr>\n",
       "      <th>7</th>\n",
       "      <td>NaN</td>\n",
       "      <td>NaN</td>\n",
       "      <td>NaN</td>\n",
       "      <td>NaN</td>\n",
       "      <td>NaN</td>\n",
       "      <td>NaN</td>\n",
       "      <td></td>\n",
       "      <td>NaN</td>\n",
       "      <td>NaN</td>\n",
       "      <td>NaN</td>\n",
       "      <td>NaN</td>\n",
       "      <td>NaN</td>\n",
       "      <td>NaN</td>\n",
       "      <td>292173448</td>\n",
       "      <td>NaN</td>\n",
       "      <td>Uriel L</td>\n",
       "      <td>Fantastic Hotel</td>\n",
       "      <td>A few month back we stayed at this Hotel cause...</td>\n",
       "      <td>[]</td>\n",
       "      <td></td>\n",
       "    </tr>\n",
       "    <tr>\n",
       "      <th>8</th>\n",
       "      <td>NaN</td>\n",
       "      <td>NaN</td>\n",
       "      <td>NaN</td>\n",
       "      <td>NaN</td>\n",
       "      <td>NaN</td>\n",
       "      <td>NaN</td>\n",
       "      <td></td>\n",
       "      <td>NaN</td>\n",
       "      <td>NaN</td>\n",
       "      <td>NaN</td>\n",
       "      <td>NaN</td>\n",
       "      <td>NaN</td>\n",
       "      <td>NaN</td>\n",
       "      <td>292050200</td>\n",
       "      <td>NaN</td>\n",
       "      <td>Pierre C</td>\n",
       "      <td>Room 412</td>\n",
       "      <td>My stay at hotel 502 was excellent alfrieda wa...</td>\n",
       "      <td>[]</td>\n",
       "      <td></td>\n",
       "    </tr>\n",
       "    <tr>\n",
       "      <th>9</th>\n",
       "      <td>NaN</td>\n",
       "      <td>NaN</td>\n",
       "      <td>NaN</td>\n",
       "      <td>NaN</td>\n",
       "      <td>NaN</td>\n",
       "      <td>NaN</td>\n",
       "      <td></td>\n",
       "      <td>NaN</td>\n",
       "      <td>NaN</td>\n",
       "      <td>NaN</td>\n",
       "      <td>NaN</td>\n",
       "      <td>NaN</td>\n",
       "      <td>NaN</td>\n",
       "      <td>290194815</td>\n",
       "      <td>NaN</td>\n",
       "      <td>tim a</td>\n",
       "      <td>Fun on my return</td>\n",
       "      <td>As I have been working on a project it is grea...</td>\n",
       "      <td>[]</td>\n",
       "      <td></td>\n",
       "    </tr>\n",
       "  </tbody>\n",
       "</table>\n",
       "</div>"
      ],
      "text/plain": [
       "  hotel_id hotel_url hotel_name hotel_address hotel_city hotel_state  \\\n",
       "0      NaN       NaN        NaN           NaN        NaN         NaN   \n",
       "1      NaN       NaN        NaN           NaN        NaN         NaN   \n",
       "2      NaN       NaN        NaN           NaN        NaN         NaN   \n",
       "3      NaN       NaN        NaN           NaN        NaN         NaN   \n",
       "4      NaN       NaN        NaN           NaN        NaN         NaN   \n",
       "5      NaN       NaN        NaN           NaN        NaN         NaN   \n",
       "6      NaN       NaN        NaN           NaN        NaN         NaN   \n",
       "7      NaN       NaN        NaN           NaN        NaN         NaN   \n",
       "8      NaN       NaN        NaN           NaN        NaN         NaN   \n",
       "9      NaN       NaN        NaN           NaN        NaN         NaN   \n",
       "\n",
       "          hotel_location hotel_rating hotel_latitude hotel_longitude  \\\n",
       "0                                 NaN            NaN             NaN   \n",
       "1   Fort Mohave, Arizona          NaN            NaN             NaN   \n",
       "2  Boston, Massachusetts          NaN            NaN             NaN   \n",
       "3              las vegas          NaN            NaN             NaN   \n",
       "4                                 NaN            NaN             NaN   \n",
       "5                                 NaN            NaN             NaN   \n",
       "6             California          NaN            NaN             NaN   \n",
       "7                                 NaN            NaN             NaN   \n",
       "8                                 NaN            NaN             NaN   \n",
       "9                                 NaN            NaN             NaN   \n",
       "\n",
       "  review_count hotel_address business_id  review_id user_id     username  \\\n",
       "0          NaN           NaN         NaN  311406395     NaN  guillermo m   \n",
       "1          NaN           NaN         NaN  311039868     NaN  brendabinaz   \n",
       "2          NaN           NaN         NaN  309509867     NaN       john t   \n",
       "3          NaN           NaN         NaN  305997920     NaN     Justin S   \n",
       "4          NaN           NaN         NaN  297624740     NaN     Joseph P   \n",
       "5          NaN           NaN         NaN  294414105     NaN      David B   \n",
       "6          NaN           NaN         NaN  294073132     NaN   James25778   \n",
       "7          NaN           NaN         NaN  292173448     NaN      Uriel L   \n",
       "8          NaN           NaN         NaN  292050200     NaN     Pierre C   \n",
       "9          NaN           NaN         NaN  290194815     NaN        tim a   \n",
       "\n",
       "                    review_title  \\\n",
       "0     my experience at Hotel 502   \n",
       "1  Friendly staff, average hotel   \n",
       "2             Up coming Hot Spot   \n",
       "3                 Remodeled mess   \n",
       "4            OK - But Needs Help   \n",
       "5       Unbelievable Hospitality   \n",
       "6                 Lovely service   \n",
       "7                Fantastic Hotel   \n",
       "8                       Room 412   \n",
       "9               Fun on my return   \n",
       "\n",
       "                                         review_text review_rating  \\\n",
       "0  i had the pleasure of staying here with my chi...            []   \n",
       "1  The staff was really nice. Always saying hello...            []   \n",
       "2  The perfect location is the first thing I want...            []   \n",
       "3  I have stay at this hotel about 12 times only ...            []   \n",
       "4  Price for room - good / overall look - good / ...            []   \n",
       "5  My family and I just moved to Arizona from Neb...            []   \n",
       "6  I came to this hotel and was pleasantly surpri...            []   \n",
       "7  A few month back we stayed at this Hotel cause...            []   \n",
       "8  My stay at hotel 502 was excellent alfrieda wa...            []   \n",
       "9  As I have been working on a project it is grea...            []   \n",
       "\n",
       "          review_date  \n",
       "0  September 17, 2015  \n",
       "1  September 16, 2015  \n",
       "2  September 12, 2015  \n",
       "3   September 1, 2015  \n",
       "4                      \n",
       "5                      \n",
       "6                      \n",
       "7                      \n",
       "8                      \n",
       "9                      "
      ]
     },
     "execution_count": 47,
     "metadata": {},
     "output_type": "execute_result"
    }
   ],
   "source": [
    "df"
   ]
  },
  {
   "cell_type": "code",
   "execution_count": null,
   "metadata": {
    "collapsed": true
   },
   "outputs": [],
   "source": []
  }
 ],
 "metadata": {
  "kernelspec": {
   "display_name": "Python 2",
   "language": "python",
   "name": "python2"
  },
  "language_info": {
   "codemirror_mode": {
    "name": "ipython",
    "version": 2
   },
   "file_extension": ".py",
   "mimetype": "text/x-python",
   "name": "python",
   "nbconvert_exporter": "python",
   "pygments_lexer": "ipython2",
   "version": "2.7.10"
  }
 },
 "nbformat": 4,
 "nbformat_minor": 0
}
