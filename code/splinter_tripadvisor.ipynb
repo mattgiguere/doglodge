{
 "cells": [
  {
   "cell_type": "code",
   "execution_count": 1,
   "metadata": {
    "collapsed": true
   },
   "outputs": [],
   "source": [
    "import pandas as pd\n",
    "import numpy as np\n",
    "from splinter.browser import Browser\n",
    "import re"
   ]
  },
  {
   "cell_type": "code",
   "execution_count": 2,
   "metadata": {
    "collapsed": true
   },
   "outputs": [],
   "source": [
    "br = Browser()"
   ]
  },
  {
   "cell_type": "code",
   "execution_count": 3,
   "metadata": {
    "collapsed": true
   },
   "outputs": [],
   "source": [
    "url = \"http://www.tripadvisor.com/Hotels-g31310-Phoenix_Arizona-Hotels.html\""
   ]
  },
  {
   "cell_type": "code",
   "execution_count": 4,
   "metadata": {
    "collapsed": true
   },
   "outputs": [],
   "source": [
    "br.visit(url)"
   ]
  },
  {
   "cell_type": "code",
   "execution_count": 5,
   "metadata": {
    "collapsed": true
   },
   "outputs": [],
   "source": [
    "hotels_div = br.find_by_xpath('//*[@id=\"ACCOM_OVERVIEW\"]/div/div/div/div')\n",
    "titles_div = br.find_by_xpath('//*[@class=\"listing_title\"]')"
   ]
  },
  {
   "cell_type": "code",
   "execution_count": 6,
   "metadata": {
    "collapsed": false
   },
   "outputs": [
    {
     "data": {
      "text/plain": [
       "[<splinter.driver.webdriver.WebDriverElement at 0x1020d7310>,\n",
       " <splinter.driver.webdriver.WebDriverElement at 0x1020d7390>,\n",
       " <splinter.driver.webdriver.WebDriverElement at 0x1020d7410>,\n",
       " <splinter.driver.webdriver.WebDriverElement at 0x1020d7490>,\n",
       " <splinter.driver.webdriver.WebDriverElement at 0x1020d7510>,\n",
       " <splinter.driver.webdriver.WebDriverElement at 0x1020d7590>,\n",
       " <splinter.driver.webdriver.WebDriverElement at 0x1020d7610>,\n",
       " <splinter.driver.webdriver.WebDriverElement at 0x1020d7690>,\n",
       " <splinter.driver.webdriver.WebDriverElement at 0x1020d7710>,\n",
       " <splinter.driver.webdriver.WebDriverElement at 0x1020d7790>,\n",
       " <splinter.driver.webdriver.WebDriverElement at 0x1020d7810>,\n",
       " <splinter.driver.webdriver.WebDriverElement at 0x1020d7890>,\n",
       " <splinter.driver.webdriver.WebDriverElement at 0x1020d7910>,\n",
       " <splinter.driver.webdriver.WebDriverElement at 0x1020d7990>,\n",
       " <splinter.driver.webdriver.WebDriverElement at 0x1020d7a10>,\n",
       " <splinter.driver.webdriver.WebDriverElement at 0x1020d7a90>,\n",
       " <splinter.driver.webdriver.WebDriverElement at 0x1020d7b10>,\n",
       " <splinter.driver.webdriver.WebDriverElement at 0x1020d7b90>,\n",
       " <splinter.driver.webdriver.WebDriverElement at 0x1020d7c10>,\n",
       " <splinter.driver.webdriver.WebDriverElement at 0x1020d7c90>,\n",
       " <splinter.driver.webdriver.WebDriverElement at 0x1020d7d10>,\n",
       " <splinter.driver.webdriver.WebDriverElement at 0x1020d7d90>,\n",
       " <splinter.driver.webdriver.WebDriverElement at 0x1020d7e10>,\n",
       " <splinter.driver.webdriver.WebDriverElement at 0x1020d7e90>,\n",
       " <splinter.driver.webdriver.WebDriverElement at 0x1020d7f10>,\n",
       " <splinter.driver.webdriver.WebDriverElement at 0x1020d7f90>,\n",
       " <splinter.driver.webdriver.WebDriverElement at 0x1020e8050>,\n",
       " <splinter.driver.webdriver.WebDriverElement at 0x1020e80d0>,\n",
       " <splinter.driver.webdriver.WebDriverElement at 0x1020e8150>,\n",
       " <splinter.driver.webdriver.WebDriverElement at 0x1020e81d0>,\n",
       " <splinter.driver.webdriver.WebDriverElement at 0x1020e8250>,\n",
       " <splinter.driver.webdriver.WebDriverElement at 0x1020e82d0>,\n",
       " <splinter.driver.webdriver.WebDriverElement at 0x1020e8350>,\n",
       " <splinter.driver.webdriver.WebDriverElement at 0x1020e83d0>,\n",
       " <splinter.driver.webdriver.WebDriverElement at 0x1020e8450>]"
      ]
     },
     "execution_count": 6,
     "metadata": {},
     "output_type": "execute_result"
    }
   ],
   "source": [
    "hotels_div"
   ]
  },
  {
   "cell_type": "code",
   "execution_count": 7,
   "metadata": {
    "collapsed": false
   },
   "outputs": [
    {
     "name": "stdout",
     "output_type": "stream",
     "text": [
      "Holiday Inn Hotel & Suites Phoenix Airport\n",
      "http://www.tripadvisor.com/Hotel_Review-g31310-d1657449-Reviews-Holiday_Inn_Hotel_Suites_Phoenix_Airport-Phoenix_Arizona.html\n",
      "**************************************************\n",
      "Arizona Grand Resort & Spa\n",
      "http://www.tripadvisor.com/Hotel_Review-g31310-d112178-Reviews-Arizona_Grand_Resort_Spa-Phoenix_Arizona.html\n",
      "**************************************************\n",
      "Pointe Hilton Squaw Peak Resort\n",
      "http://www.tripadvisor.com/Hotel_Review-g31310-d73957-Reviews-Pointe_Hilton_Squaw_Peak_Resort-Phoenix_Arizona.html\n",
      "**************************************************\n",
      "Pointe Hilton Tapatio Cliffs Resort\n",
      "http://www.tripadvisor.com/Hotel_Review-g31310-d277997-Reviews-Pointe_Hilton_Tapatio_Cliffs_Resort-Phoenix_Arizona.html\n",
      "**************************************************\n",
      "Arizona Biltmore, A Waldorf Astoria Resort\n",
      "http://www.tripadvisor.com/Hotel_Review-g31310-d115484-Reviews-Arizona_Biltmore_A_Waldorf_Astoria_Resort-Phoenix_Arizona.html\n",
      "**************************************************\n",
      "Royal Palms Resort and Spa\n",
      "http://www.tripadvisor.com/Hotel_Review-g31310-d73943-Reviews-Royal_Palms_Resort_and_Spa-Phoenix_Arizona.html\n",
      "**************************************************\n",
      "JW Marriott Desert Ridge Resort & Spa Phoenix\n",
      "http://www.tripadvisor.com/Hotel_Review-g31310-d223860-Reviews-JW_Marriott_Desert_Ridge_Resort_Spa_Phoenix-Phoenix_Arizona.html\n",
      "**************************************************\n",
      "Marriott's Canyon Villas at Desert Ridge\n",
      "http://www.tripadvisor.com/Hotel_Review-g31310-d286542-Reviews-Marriott_s_Canyon_Villas_at_Desert_Ridge-Phoenix_Arizona.html\n",
      "**************************************************\n",
      "Hotel Palomar Phoenix - a Kimpton Hotel\n",
      "http://www.tripadvisor.com/Hotel_Review-g31310-d2627745-Reviews-Hotel_Palomar_Phoenix_a_Kimpton_Hotel-Phoenix_Arizona.html\n",
      "**************************************************\n",
      "The Clarendon Hotel and Spa\n",
      "http://www.tripadvisor.com/Hotel_Review-g31310-d266322-Reviews-The_Clarendon_Hotel_and_Spa-Phoenix_Arizona.html\n",
      "**************************************************\n",
      "Hampton Inn & Suites Phoenix North/Happy Valley\n",
      "http://www.tripadvisor.com/Hotel_Review-g31310-d1200121-Reviews-Hampton_Inn_Suites_Phoenix_North_Happy_Valley-Phoenix_Arizona.html\n",
      "**************************************************\n",
      "Homewood Suites Phoenix North - Happy Valley\n",
      "http://www.tripadvisor.com/Hotel_Review-g31310-d1201061-Reviews-Homewood_Suites_Phoenix_North_Happy_Valley-Phoenix_Arizona.html\n",
      "**************************************************\n",
      "Westin Phoenix Downtown\n",
      "http://www.tripadvisor.com/Hotel_Review-g31310-d2015227-Reviews-Westin_Phoenix_Downtown-Phoenix_Arizona.html\n",
      "**************************************************\n",
      "Radisson Hotel Phoenix North\n",
      "http://www.tripadvisor.com/Hotel_Review-g31310-d218100-Reviews-Radisson_Hotel_Phoenix_North-Phoenix_Arizona.html\n",
      "**************************************************\n",
      "Embassy Suites by Hilton Phoenix-Scottsdale\n",
      "http://www.tripadvisor.com/Hotel_Review-g31310-d224250-Reviews-Embassy_Suites_by_Hilton_Phoenix_Scottsdale-Phoenix_Arizona.html\n",
      "**************************************************\n",
      "Legacy Golf Resort\n",
      "http://www.tripadvisor.com/Hotel_Review-g31310-d74626-Reviews-Legacy_Golf_Resort-Phoenix_Arizona.html\n",
      "**************************************************\n",
      "Sheraton Phoenix Downtown Hotel\n",
      "http://www.tripadvisor.com/Hotel_Review-g31310-d1147292-Reviews-Sheraton_Phoenix_Downtown_Hotel-Phoenix_Arizona.html\n",
      "**************************************************\n",
      "Hyatt Regency Phoenix\n",
      "http://www.tripadvisor.com/Hotel_Review-g31310-d73855-Reviews-Hyatt_Regency_Phoenix-Phoenix_Arizona.html\n",
      "**************************************************\n",
      "Wyndham Garden Phoenix Midtown\n",
      "http://www.tripadvisor.com/Hotel_Review-g31310-d73905-Reviews-Wyndham_Garden_Phoenix_Midtown-Phoenix_Arizona.html\n",
      "**************************************************\n",
      "Hampton Inn Phoenix-Biltmore\n",
      "http://www.tripadvisor.com/Hotel_Review-g31310-d74624-Reviews-Hampton_Inn_Phoenix_Biltmore-Phoenix_Arizona.html\n",
      "**************************************************\n",
      "Embassy Suites by Hilton Hotel Phoenix Biltmore\n",
      "http://www.tripadvisor.com/Hotel_Review-g31310-d112154-Reviews-Embassy_Suites_by_Hilton_Hotel_Phoenix_Biltmore-Phoenix_Arizona.html\n",
      "**************************************************\n",
      "Aloft Phoenix-Airport\n",
      "http://www.tripadvisor.com/Hotel_Review-g31310-d1174692-Reviews-Aloft_Phoenix_Airport-Phoenix_Arizona.html\n",
      "**************************************************\n",
      "DoubleTree Suites by Hilton Hotel Phoenix\n",
      "http://www.tripadvisor.com/Hotel_Review-g31310-d115482-Reviews-DoubleTree_Suites_by_Hilton_Hotel_Phoenix-Phoenix_Arizona.html\n",
      "**************************************************\n",
      "Drury Inn & Suites Phoenix Airport\n",
      "http://www.tripadvisor.com/Hotel_Review-g31310-d73923-Reviews-Drury_Inn_Suites_Phoenix_Airport-Phoenix_Arizona.html\n",
      "**************************************************\n",
      "Red Roof Inn Phoenix West\n",
      "http://www.tripadvisor.com/Hotel_Review-g31310-d224757-Reviews-Red_Roof_Inn_Phoenix_West-Phoenix_Arizona.html\n",
      "**************************************************\n",
      "Holiday Inn Express Phoenix Airport (University Drive)\n",
      "http://www.tripadvisor.com/Hotel_Review-g31310-d75662-Reviews-Holiday_Inn_Express_Phoenix_Airport_University_Drive-Phoenix_Arizona.html\n",
      "**************************************************\n",
      "BEST WESTERN Innsuites Phoenix Biltmore\n",
      "http://www.tripadvisor.com/Hotel_Review-g31310-d73739-Reviews-BEST_WESTERN_Innsuites_Phoenix_Biltmore-Phoenix_Arizona.html\n",
      "**************************************************\n",
      "La Quinta Inn & Suites Phoenix I-10 West\n",
      "http://www.tripadvisor.com/Hotel_Review-g31310-d634649-Reviews-La_Quinta_Inn_Suites_Phoenix_I_10_West-Phoenix_Arizona.html\n",
      "**************************************************\n",
      "Candlewood Suites Phoenix\n",
      "http://www.tripadvisor.com/Hotel_Review-g31310-d224733-Reviews-Candlewood_Suites_Phoenix-Phoenix_Arizona.html\n",
      "**************************************************\n",
      "Sheraton Crescent Hotel\n",
      "http://www.tripadvisor.com/Hotel_Review-g31310-d73947-Reviews-Sheraton_Crescent_Hotel-Phoenix_Arizona.html\n",
      "**************************************************\n",
      "BEST WESTERN Airport Inn\n",
      "http://www.tripadvisor.com/Hotel_Review-g31310-d73706-Reviews-BEST_WESTERN_Airport_Inn-Phoenix_Arizona.html\n",
      "**************************************************\n"
     ]
    }
   ],
   "source": [
    "hotel_names = []\n",
    "links = []\n",
    "\n",
    "for title in titles_div:\n",
    "    print(title.text)\n",
    "    hotel_names.append(title.text)\n",
    "    print(title.find_by_xpath('a')['href'])\n",
    "    links.append(title.find_by_xpath('a')['href'])\n",
    "    print('*'*50)"
   ]
  },
  {
   "cell_type": "code",
   "execution_count": 8,
   "metadata": {
    "collapsed": false
   },
   "outputs": [
    {
     "data": {
      "text/plain": [
       "[u'http://www.tripadvisor.com/Hotel_Review-g31310-d1657449-Reviews-Holiday_Inn_Hotel_Suites_Phoenix_Airport-Phoenix_Arizona.html',\n",
       " u'http://www.tripadvisor.com/Hotel_Review-g31310-d112178-Reviews-Arizona_Grand_Resort_Spa-Phoenix_Arizona.html',\n",
       " u'http://www.tripadvisor.com/Hotel_Review-g31310-d73957-Reviews-Pointe_Hilton_Squaw_Peak_Resort-Phoenix_Arizona.html',\n",
       " u'http://www.tripadvisor.com/Hotel_Review-g31310-d277997-Reviews-Pointe_Hilton_Tapatio_Cliffs_Resort-Phoenix_Arizona.html',\n",
       " u'http://www.tripadvisor.com/Hotel_Review-g31310-d115484-Reviews-Arizona_Biltmore_A_Waldorf_Astoria_Resort-Phoenix_Arizona.html',\n",
       " u'http://www.tripadvisor.com/Hotel_Review-g31310-d73943-Reviews-Royal_Palms_Resort_and_Spa-Phoenix_Arizona.html',\n",
       " u'http://www.tripadvisor.com/Hotel_Review-g31310-d223860-Reviews-JW_Marriott_Desert_Ridge_Resort_Spa_Phoenix-Phoenix_Arizona.html',\n",
       " u'http://www.tripadvisor.com/Hotel_Review-g31310-d286542-Reviews-Marriott_s_Canyon_Villas_at_Desert_Ridge-Phoenix_Arizona.html',\n",
       " u'http://www.tripadvisor.com/Hotel_Review-g31310-d2627745-Reviews-Hotel_Palomar_Phoenix_a_Kimpton_Hotel-Phoenix_Arizona.html',\n",
       " u'http://www.tripadvisor.com/Hotel_Review-g31310-d266322-Reviews-The_Clarendon_Hotel_and_Spa-Phoenix_Arizona.html',\n",
       " u'http://www.tripadvisor.com/Hotel_Review-g31310-d1200121-Reviews-Hampton_Inn_Suites_Phoenix_North_Happy_Valley-Phoenix_Arizona.html',\n",
       " u'http://www.tripadvisor.com/Hotel_Review-g31310-d1201061-Reviews-Homewood_Suites_Phoenix_North_Happy_Valley-Phoenix_Arizona.html',\n",
       " u'http://www.tripadvisor.com/Hotel_Review-g31310-d2015227-Reviews-Westin_Phoenix_Downtown-Phoenix_Arizona.html',\n",
       " u'http://www.tripadvisor.com/Hotel_Review-g31310-d218100-Reviews-Radisson_Hotel_Phoenix_North-Phoenix_Arizona.html',\n",
       " u'http://www.tripadvisor.com/Hotel_Review-g31310-d224250-Reviews-Embassy_Suites_by_Hilton_Phoenix_Scottsdale-Phoenix_Arizona.html',\n",
       " u'http://www.tripadvisor.com/Hotel_Review-g31310-d74626-Reviews-Legacy_Golf_Resort-Phoenix_Arizona.html',\n",
       " u'http://www.tripadvisor.com/Hotel_Review-g31310-d1147292-Reviews-Sheraton_Phoenix_Downtown_Hotel-Phoenix_Arizona.html',\n",
       " u'http://www.tripadvisor.com/Hotel_Review-g31310-d73855-Reviews-Hyatt_Regency_Phoenix-Phoenix_Arizona.html',\n",
       " u'http://www.tripadvisor.com/Hotel_Review-g31310-d73905-Reviews-Wyndham_Garden_Phoenix_Midtown-Phoenix_Arizona.html',\n",
       " u'http://www.tripadvisor.com/Hotel_Review-g31310-d74624-Reviews-Hampton_Inn_Phoenix_Biltmore-Phoenix_Arizona.html',\n",
       " u'http://www.tripadvisor.com/Hotel_Review-g31310-d112154-Reviews-Embassy_Suites_by_Hilton_Hotel_Phoenix_Biltmore-Phoenix_Arizona.html',\n",
       " u'http://www.tripadvisor.com/Hotel_Review-g31310-d1174692-Reviews-Aloft_Phoenix_Airport-Phoenix_Arizona.html',\n",
       " u'http://www.tripadvisor.com/Hotel_Review-g31310-d115482-Reviews-DoubleTree_Suites_by_Hilton_Hotel_Phoenix-Phoenix_Arizona.html',\n",
       " u'http://www.tripadvisor.com/Hotel_Review-g31310-d73923-Reviews-Drury_Inn_Suites_Phoenix_Airport-Phoenix_Arizona.html',\n",
       " u'http://www.tripadvisor.com/Hotel_Review-g31310-d224757-Reviews-Red_Roof_Inn_Phoenix_West-Phoenix_Arizona.html',\n",
       " u'http://www.tripadvisor.com/Hotel_Review-g31310-d75662-Reviews-Holiday_Inn_Express_Phoenix_Airport_University_Drive-Phoenix_Arizona.html',\n",
       " u'http://www.tripadvisor.com/Hotel_Review-g31310-d73739-Reviews-BEST_WESTERN_Innsuites_Phoenix_Biltmore-Phoenix_Arizona.html',\n",
       " u'http://www.tripadvisor.com/Hotel_Review-g31310-d634649-Reviews-La_Quinta_Inn_Suites_Phoenix_I_10_West-Phoenix_Arizona.html',\n",
       " u'http://www.tripadvisor.com/Hotel_Review-g31310-d224733-Reviews-Candlewood_Suites_Phoenix-Phoenix_Arizona.html',\n",
       " u'http://www.tripadvisor.com/Hotel_Review-g31310-d73947-Reviews-Sheraton_Crescent_Hotel-Phoenix_Arizona.html',\n",
       " u'http://www.tripadvisor.com/Hotel_Review-g31310-d73706-Reviews-BEST_WESTERN_Airport_Inn-Phoenix_Arizona.html']"
      ]
     },
     "execution_count": 8,
     "metadata": {},
     "output_type": "execute_result"
    }
   ],
   "source": [
    "links"
   ]
  },
  {
   "cell_type": "markdown",
   "metadata": {},
   "source": [
    "## Now to scrape the reviews from a specific hotel"
   ]
  },
  {
   "cell_type": "code",
   "execution_count": 11,
   "metadata": {
    "collapsed": false
   },
   "outputs": [],
   "source": [
    "br.visit(links[0])"
   ]
  },
  {
   "cell_type": "code",
   "execution_count": 12,
   "metadata": {
    "collapsed": true
   },
   "outputs": [],
   "source": [
    "full_reviews = br.find_by_xpath('//div[contains(@class, \"reviewSelector\")]')"
   ]
  },
  {
   "cell_type": "code",
   "execution_count": 13,
   "metadata": {
    "collapsed": false
   },
   "outputs": [
    {
     "data": {
      "text/plain": [
       "[<splinter.driver.webdriver.WebDriverElement at 0x1096ee850>,\n",
       " <splinter.driver.webdriver.WebDriverElement at 0x1096ee8d0>,\n",
       " <splinter.driver.webdriver.WebDriverElement at 0x1096ee950>,\n",
       " <splinter.driver.webdriver.WebDriverElement at 0x1096ee9d0>,\n",
       " <splinter.driver.webdriver.WebDriverElement at 0x1096eea50>,\n",
       " <splinter.driver.webdriver.WebDriverElement at 0x1096eead0>,\n",
       " <splinter.driver.webdriver.WebDriverElement at 0x1096eeb50>,\n",
       " <splinter.driver.webdriver.WebDriverElement at 0x1096eebd0>,\n",
       " <splinter.driver.webdriver.WebDriverElement at 0x1096eec50>,\n",
       " <splinter.driver.webdriver.WebDriverElement at 0x1096eecd0>]"
      ]
     },
     "execution_count": 13,
     "metadata": {},
     "output_type": "execute_result"
    }
   ],
   "source": [
    "full_reviews"
   ]
  },
  {
   "cell_type": "code",
   "execution_count": 14,
   "metadata": {
    "collapsed": true
   },
   "outputs": [],
   "source": [
    "fullrev = full_reviews[0]"
   ]
  },
  {
   "cell_type": "code",
   "execution_count": 15,
   "metadata": {
    "collapsed": false
   },
   "outputs": [
    {
     "data": {
      "text/plain": [
       "u'Mary G\\nLafayette'"
      ]
     },
     "execution_count": 15,
     "metadata": {},
     "output_type": "execute_result"
    }
   ],
   "source": [
    "fullrev.find_by_xpath('div/div[contains(@class, \"col1of2\")]/div[contains(@class, \"member_info\")]').text"
   ]
  },
  {
   "cell_type": "code",
   "execution_count": 19,
   "metadata": {
    "collapsed": true
   },
   "outputs": [],
   "source": [
    "member_info = fullrev.find_by_xpath('div/div[contains(@class, \"col1of2\")]/div[contains(@class, \"member_info\")]')"
   ]
  },
  {
   "cell_type": "code",
   "execution_count": 20,
   "metadata": {
    "collapsed": false
   },
   "outputs": [
    {
     "data": {
      "text/plain": [
       "u'Mary G'"
      ]
     },
     "execution_count": 20,
     "metadata": {},
     "output_type": "execute_result"
    }
   ],
   "source": [
    "member_info.find_by_xpath('div/div[contains(@class, \"username mo\")]').text"
   ]
  },
  {
   "cell_type": "code",
   "execution_count": 22,
   "metadata": {
    "collapsed": false
   },
   "outputs": [],
   "source": [
    "review = fullrev.find_by_xpath('div/div[@class=\"col2of2\"]/div[@class=\"innerBubble\"]')"
   ]
  },
  {
   "cell_type": "code",
   "execution_count": 24,
   "metadata": {
    "collapsed": false
   },
   "outputs": [
    {
     "data": {
      "text/plain": [
       "u'\\u201ctraveling through\\u201d'"
      ]
     },
     "execution_count": 24,
     "metadata": {},
     "output_type": "execute_result"
    }
   ],
   "source": [
    "review.find_by_xpath('div/div[contains(@class, \"quote\")]').text.strip()[1:-1]"
   ]
  },
  {
   "cell_type": "code",
   "execution_count": 26,
   "metadata": {
    "collapsed": false
   },
   "outputs": [
    {
     "data": {
      "text/plain": [
       "u'5'"
      ]
     },
     "execution_count": 26,
     "metadata": {},
     "output_type": "execute_result"
    }
   ],
   "source": [
    "review.find_by_xpath('div/div[contains(@class, \"rating\")]/span/img')['alt'].split(' ')[0]"
   ]
  },
  {
   "cell_type": "code",
   "execution_count": 28,
   "metadata": {
    "collapsed": false
   },
   "outputs": [
    {
     "data": {
      "text/plain": [
       "u'September 11, 2015'"
      ]
     },
     "execution_count": 28,
     "metadata": {},
     "output_type": "execute_result"
    }
   ],
   "source": [
    "review.find_by_xpath('div/div[contains(@class, \"rating\")]/span[contains(@class, \"ratingDate\")]')['title']"
   ]
  },
  {
   "cell_type": "code",
   "execution_count": 29,
   "metadata": {
    "collapsed": false
   },
   "outputs": [
    {
     "data": {
      "text/plain": [
       "u'We had previously stayed at this hotel and both times we were very pleased with the stay. The location is excellent for road warriors as it it very accessible. Plenty of eating or shopping options close by.'"
      ]
     },
     "execution_count": 29,
     "metadata": {},
     "output_type": "execute_result"
    }
   ],
   "source": [
    "review.find_by_xpath('div/div[contains(@class, \"entry\")]').text.strip().replace(\"\\n\", \"\")"
   ]
  },
  {
   "cell_type": "code",
   "execution_count": 30,
   "metadata": {
    "collapsed": false
   },
   "outputs": [
    {
     "data": {
      "text/plain": [
       "u'review_309423510'"
      ]
     },
     "execution_count": 30,
     "metadata": {},
     "output_type": "execute_result"
    }
   ],
   "source": [
    "fullrev['id']"
   ]
  },
  {
   "cell_type": "code",
   "execution_count": 34,
   "metadata": {
    "collapsed": false
   },
   "outputs": [
    {
     "data": {
      "text/plain": [
       "[<splinter.driver.webdriver.WebDriverElement at 0x109849750>]"
      ]
     },
     "execution_count": 34,
     "metadata": {},
     "output_type": "execute_result"
    }
   ],
   "source": [
    "br.find_by_xpath('//a[contains(@class, \"next\")]')"
   ]
  },
  {
   "cell_type": "code",
   "execution_count": 35,
   "metadata": {
    "collapsed": false
   },
   "outputs": [
    {
     "data": {
      "text/plain": [
       "True"
      ]
     },
     "execution_count": 35,
     "metadata": {},
     "output_type": "execute_result"
    }
   ],
   "source": [
    "len(br.find_by_xpath('//a[contains(@class, \"next\")]')) > 0"
   ]
  },
  {
   "cell_type": "code",
   "execution_count": 36,
   "metadata": {
    "collapsed": false
   },
   "outputs": [
    {
     "data": {
      "text/plain": [
       "u'http://www.tripadvisor.com/Hotel_Review-g31310-d74927-Reviews-or10-La_Quinta_Inn_Suites_Phoenix_Chandler-Phoenix_Arizona.html#REVIEWS'"
      ]
     },
     "execution_count": 36,
     "metadata": {},
     "output_type": "execute_result"
    }
   ],
   "source": [
    "br.find_by_xpath('//a[contains(@class, \"next\")]')['href']"
   ]
  },
  {
   "cell_type": "code",
   "execution_count": null,
   "metadata": {
    "collapsed": true
   },
   "outputs": [],
   "source": []
  },
  {
   "cell_type": "code",
   "execution_count": 33,
   "metadata": {
    "collapsed": true
   },
   "outputs": [
    {
     "name": "stdout",
     "output_type": "stream",
     "text": [
      "Username: Mary G\n",
      "Location: Lafayette\n",
      "full review_id: review_309423510\n",
      "review_id: 309423510\n",
      "Title: traveling through\n",
      "Rating: 5\n",
      "Date: September 11, 2015\n",
      "Review:\n",
      "We had previously stayed at this hotel and both times we were very pleased with the stay. The location is excellent for road warriors as it it very accessible. Plenty of eating or shopping options close by.\n",
      "**************************************************\n",
      "Username: Leo B\n",
      "Location: san diego\n",
      "full review_id: review_309144874\n",
      "review_id: 309144874\n",
      "Title: VISIT\n",
      "Rating: 3\n",
      "Date: September 10, 2015\n",
      "Review:\n",
      "overall satisfied with stay. please consider my suggestion for breakfast [more fruit variety]. Would be nice to have an elliptical machine at the small gym in place of the other thread-mill. My reservation was for two twin bed room but was surprise to be provided with a room with a king bed. Staff quickly resolved the issue by providing a...More\n",
      "**************************************************\n",
      "Username: bucketoferrs\n",
      "Location: Phoenix, Arizona\n",
      "full review_id: review_302635263\n",
      "review_id: 302635263\n",
      "Title: Great Stay\n",
      "Rating: 5\n",
      "Date: August 23, 2015\n",
      "Review:\n",
      "I stayed here for a couple of days while my house was being worked on. This place was affordable and offered the basic things I needed like free wifi and breakfast. Every time I walked by the desk I was greeted the staff here is very nice even down to the cleaning ladies. I would recommend this hotel\n",
      "**************************************************\n",
      "Username: MGlide\n",
      "Location: Cypress, Texas\n",
      "full review_id: review_301137922\n",
      "review_id: 301137922\n",
      "Title: Update to Previous Review\n",
      "Rating: 3\n",
      "Date: August 19, 2015\n",
      "Review:\n",
      "This was the second visit to this La Quinta location. Our first stop was great. We enjoyed it immensely. This second trip was not nearly as satisfying. The problems started at check-in. The clerk handed out water to the person in front of me at check-in. I am a gold member of the La Quinta club so I asked for...More\n",
      "**************************************************\n",
      "Username: L1696PFbarbaras\n",
      "Location: \n",
      "full review_id: review_298180066\n",
      "review_id: 298180066\n",
      "Title: Laquinta Chandler\n",
      "Rating: 4\n",
      "Date: \n",
      "Review:\n",
      "This is a very clean well maintained hotel. Everything at the hotel was very nice and staff was extremely helpful and attentive. The breakfast bar was put out early which was nice for us. I asked for and got extra blankets. Hotel is close to many places to eat and very close to interstate highway\n",
      "**************************************************\n",
      "Username: Gregory L\n",
      "Location: Yuma, United States\n",
      "full review_id: review_297778236\n",
      "review_id: 297778236\n",
      "Title: Pleasantly Surprissed\n",
      "Rating: 5\n",
      "Date: \n",
      "Review:\n",
      "I have not stayed at any La Quinta for 25 years but I will definetly be staying at this hotel again when visiting the Phoenix area. I normally stay at a Marriott brand and pay alot more than at this La Quinta. The hotel was very clean and the beds are very comfortable. Also very nice to security walking around...More\n",
      "**************************************************\n",
      "Username: jwehner1215\n",
      "Location: Tucson, Arizona\n",
      "full review_id: review_296625884\n",
      "review_id: 296625884\n",
      "Title: Smelly room, barking dogs, dirty rooms\n",
      "Rating: 1\n",
      "Date: \n",
      "Review:\n",
      "I was in Phoenix for business and when I entered my room I was disgusted. There were pets stains on the floor and smell of urine throughout the room. I had to go to the store to get air freshner. There were barking dogs all night long, a little white dog in the elevator wanted to attack me. The front...More\n",
      "**************************************************\n",
      "Username: blunny\n",
      "Location: Wimberley, Texas\n",
      "full review_id: review_296179755\n",
      "review_id: 296179755\n",
      "Title: Second time back, just as good\n",
      "Rating: 5\n",
      "Date: \n",
      "Review:\n",
      "Needed a accessible handicap room, two beds. Got it. However on 3rd floor. Desk clerk showed us were to park so we were near the elevator, made it easy for wheelchair and luggage. Parked in the front in handicap spot so I felt safe leaving some stuff in the car. Had to trek a little to the ice machine, but...More\n",
      "**************************************************\n",
      "Username: Mark S\n",
      "Location: Flagstaff, United States\n",
      "full review_id: review_296514735\n",
      "review_id: 296514735\n",
      "Title: Good Stay\n",
      "Rating: 4\n",
      "Date: \n",
      "Review:\n",
      "Nice place to stay. They had everything they advertised. I was glad we stayed the night here, as we had no trouble at all throughout the stay. Our bathroom had a few stray hair that had not been cleaned up, but otherwise my wife and I enjoyed it.\n",
      "**************************************************\n",
      "Username: Scott W\n",
      "Location: Albuquerque, United States\n",
      "full review_id: review_291947616\n",
      "review_id: 291947616\n",
      "Title: Needs a little maintenance\n",
      "Rating: 4\n",
      "Date: \n",
      "Review:\n",
      "Overall still a nice mid price motel but needs a little basic room maintenance to bring it back up a notch. But all the basics are still very good. TV worked well and the bed and pillows are very comfortable. Air conditioner was very quiet and worked well. I love a quiet air conditioner.\n",
      "**************************************************\n"
     ]
    }
   ],
   "source": [
    "for fullrev in full_reviews:\n",
    "    # user name:\n",
    "    member_info = fullrev.find_by_xpath('div/div[contains(@class, \"col1of2\")]/div[contains(@class, \"member_info\")]')\n",
    "    usrnm = member_info.find_by_xpath('div/div[contains(@class, \"username mo\")]')\n",
    "    review = fullrev.find_by_xpath('div/div[@class=\"col2of2\"]/div[@class=\"innerBubble\"]')[0]\n",
    "    title = review.find_by_xpath('div/div[contains(@class, \"quote\")]').text.strip()[1:-1]\n",
    "    rating = review.find_by_xpath('div/div[contains(@class, \"rating\")]/span/img')['alt'].split(' ')[0]\n",
    "    date = review.find_by_xpath('div/div[contains(@class, \"rating\")]/span[contains(@class, \"ratingDate\")]')['title']\n",
    "    rev = review.find_by_xpath('div/div[contains(@class, \"entry\")]').text.strip().replace(\"\\n\", \"\")\n",
    "    if len(usrnm) > 0:\n",
    "        #location = member_info.xpath('div[1]')[0].text_content()\n",
    "        print('Username: {}'.format(str(usrnm[0].text).strip()))\n",
    "    else:\n",
    "        print('Username: A Trip Advisor Member')\n",
    "    \n",
    "    location = member_info.find_by_xpath('div[contains(@class, \"location\")]')\n",
    "    if len(location) > 0:\n",
    "        print('Location: {}'.format(str(location[0].text).strip()))\n",
    "    else:\n",
    "        print('Location: ')\n",
    "    \n",
    "    print('full review_id: {}'.format(fullrev['id']))\n",
    "    try:\n",
    "        rev_id = re.search('review_(\\d+)$', fullrev['id']).group(1)\n",
    "    except AttributeError:\n",
    "        rev_id = ''\n",
    "\n",
    "    print('review_id: {}'.format(rev_id))\n",
    "    print('Title: {}'.format(title))\n",
    "    print('Rating: {}'.format(rating))\n",
    "    print('Date: {}'.format(date))\n",
    "    print('Review:')\n",
    "    print(rev)\n",
    "    print('*'*50)\n"
   ]
  },
  {
   "cell_type": "code",
   "execution_count": 9,
   "metadata": {
    "collapsed": true
   },
   "outputs": [],
   "source": [
    "def return_results(url, page):\n",
    "    br.visit(url)\n",
    "    full_reviews = br.find_by_xpath('//div[contains(@class, \"reviewSelector\")]')\n",
    "\n",
    "    page_usernames = []\n",
    "    page_locations = []\n",
    "    page_titles = []\n",
    "    page_ratings = []\n",
    "    page_dates = []\n",
    "    page_reviews = []\n",
    "    page_review_ids = []\n",
    "\n",
    "    for fullrev in full_reviews:\n",
    "        # user name:\n",
    "        member_info = fullrev.find_by_xpath('div/div[contains(@class, \"col1of2\")]/div[contains(@class, \"member_info\")]')\n",
    "        usrnm = member_info.find_by_xpath('div/div[contains(@class, \"username mo\")]')\n",
    "        review = fullrev.find_by_xpath('div/div[@class=\"col2of2\"]/div[@class=\"innerBubble\"]')[0]\n",
    "        title = review.find_by_xpath('div/div[contains(@class, \"quote\")]').text.strip()[1:-1]\n",
    "        rating = review.find_by_xpath('div/div[contains(@class, \"rating\")]/span/img')['alt'].split(' ')[0]\n",
    "        date = review.find_by_xpath('div/div[contains(@class, \"rating\")]/span[contains(@class, \"ratingDate\")]')['title']\n",
    "        rev = review.find_by_xpath('div/div[contains(@class, \"entry\")]').text.strip().replace(\"\\n\", \"\")\n",
    "#         if len(usrnm) > 0:\n",
    "#             #location = member_info.xpath('div[1]')[0].text_content()\n",
    "#             print('Username: {}'.format(str(usrnm[0].text).strip()))\n",
    "#         else:\n",
    "#             print('Username: A Trip Advisor Member')\n",
    "\n",
    "        location = member_info.find_by_xpath('div[contains(@class, \"location\")]')\n",
    "#         if len(location) > 0:\n",
    "#             print('Location: {}'.format(str(location[0].text).strip()))\n",
    "#         else:\n",
    "#             print('Location: ')\n",
    "\n",
    "#        print('full review_id: {}'.format(fullrev['id']))\n",
    "        try:\n",
    "            rev_id = re.search('review_(\\d+)$', fullrev['id']).group(1)\n",
    "        except AttributeError:\n",
    "            rev_id = ''\n",
    "\n",
    "#         print('review_id: {}'.format(rev_id))\n",
    "#         print('Title: {}'.format(title))\n",
    "#         print('Rating: {}'.format(rating))\n",
    "#         print('Date: {}'.format(date))\n",
    "#         print('Review:')\n",
    "#        print(rev)\n",
    "#        print('*'*50)\n",
    "\n",
    "        page_titles.append(title)\n",
    "        page_ratings.append(ratings)\n",
    "        page_dates.append(date)\n",
    "        page_reviews.append(rev)\n",
    "        page_review_ids.append(rev_id)\n",
    "\n",
    "    if len(br.find_by_xpath('//a[contains(@class, \"next\")]')) > 0:\n",
    "        url = br.find_by_xpath('//a[contains(@class, \"next\")]')['href']\n",
    "        more_reviews = True\n",
    "        page += 1\n",
    "#        print('url and page updated.')\n",
    "    else:\n",
    "        more_reviews = False\n",
    "    \n",
    "    ret_dict = {'usrnms': page_usernames,\n",
    "                'locs': page_locations,\n",
    "                'ttls': page_titles,\n",
    "                'rtngs': page_ratings,\n",
    "                'dts': page_dates,\n",
    "                'rvws': page_reviews,\n",
    "                'revids': page_review_ids,\n",
    "               'url': url,\n",
    "               'more_reviews': more_reviews,\n",
    "               'page': page}\n",
    "    return ret_dict\n"
   ]
  },
  {
   "cell_type": "code",
   "execution_count": 10,
   "metadata": {
    "collapsed": false,
    "scrolled": true
   },
   "outputs": [
    {
     "name": "stdout",
     "output_type": "stream",
     "text": [
      "**************************************************\n",
      "Now on page 1\n",
      "Nice front desk management-forgive me-I do not have his name. He was manager on duty Sept 4th about 9pm! We were greeted as real guests rather than folks staying a night at leaving our car at the hotel for purposes of airport parking. Unlike like some hotels that have the little breakfast rooms, this is a full service Holiday Inn...More\n",
      "Overall pleasant experience. Close proximity to airport makes for a cheap cab ride. The hotel is in need of some modern renovations but the place was clean. Lucas at the front desk made me chuckle. Good job guys!\n",
      "From the very start my mom and I were welcomed and greeted with a smile. Gaby was up at the front and made the check in process satisfactory. The room was nice, and had everything in it from the start. Lucas and Bree were back at the front later on when I had to go get an extra room key...More\n",
      "We were a group of 5 needing a park and fly option. Everything from checkin to check out was great. The front desk staff was super friendly and our request for a room upgrade was met with a happy YES! Our room was large and clean. Asked for extra towels and had them immediately! Drinks and dinner in the bar...More\n",
      "My husband and I usually fly out of Phoenix but live in Tucson. We like staying at this holiday inn simply because they offer a 24 hour shuttle and staff is great. We also can park our car in lot for the week at much lesser cost than airport. Except for housekeeping. This last stay the room was not very...More\n",
      "My wife and I had a three night stay here at this hotel. When I checked in, oh my, did we have a mess. The front desk had checked-in another guest with the same last name with my reservation and gave me his reservation. Only when verifying that I was \"Spire\" and the reservation said \"Platinum\" that we noticed it...More\n",
      "Very clean and friendly staff. I was not familiar with the area I thought this one was closest to airport, however we passed right by another one closer. This one did not offer a free breakfast bar and we were running very short on time the next morning and did not have time to sit down and order a meal...More\n",
      "We arrived into Phoenix late in the evening and stayed for one night before heading to the Grand Canyon. The hotel shuttle picked us up promptly. The hotel was immaculate and very comfortable. The shuttle brought my husband back to the airport the next day to get the rental car. It was all very easy. Great way to start a...More\n",
      "Nice hotel.friendly staff. Great clean room. Complementary and working wifi. Nice breakfast buffet. Free parking. 10 min from the airport. Swimming pool . We tad 2 queen beds and this was suitable for 2 adults an 2 teen kids.\n",
      "I received more than I expected. The room was clean, large, and nicely furnished. Staff was friendly and helpful. I would stay here again without hesitation. The buildings look new and are well decorated. The property feels comfortable awesome!\n",
      "**************************************************\n",
      "Now on page 2\n",
      "Nice front desk management-forgive me-I do not have his name. He was manager on duty Sept 4th about 9pm! We were greeted as real guests rather than folks staying a night at leaving our car at the hotel for purposes of airport parking. Unlike like some hotels that have the little breakfast rooms, this is a full service Holiday Inn...More\n",
      "Timed out! Trying that page again...\n",
      "**************************************************\n",
      "Now on page 2\n",
      "This hotel surprised me at how nice it is and how professional the staff is. From the front desk to the restaurant, they are very friendly, helpful and professional. The room was very modern with a separate sitting area, two tvs, refrigerator, and coffee maker. The shower pressure was the best I have ever experienced in a hotel. The food...More\n",
      "We were travelling to california and made a one day stop in phoenix, we usually stay near arizona mills but decided to stay at this hotel because of the reviews on trip advisor. arrived around 6 Pm so we decided to take a little swim, the pool was really clean. we were really amazed with the breakfast that was included...More\n",
      "I recently had an unexpected overnight near the Phoenix Airport, and used Hotwire to make a reservation. The hotel turned out to be Holiday Inn Hotel and Suites, Phoenix Airport. What a find! I typically have not been a fan of Holiday Inn, but if this is the direction they are going in, sign me up. I was treated like...More\n",
      "We arrived late at night to the convenient airport location and check-in was a breeze. We reserved a suite at a great price. It was clean, updated, and comfortable. The view is pretty dismal in an industrial area, but who care. Free wifi. The free breakfast was limited so we opted to add the hot breakfast on for about $10...More\n",
      "Hotel close to airport and check in very quick and friendly. Nice on-site bar and restaurant. Very friendly staff and useful free shuttle service to/from airport and to local light rail if you wanted to venture further afield. Room was well equipped, spacious and only lacked a safe deposit facility. Breakfast buffet good value and quality with plenty of choice....More\n",
      "We stayed at Holiday Inn Hotel and Suites 2 nights over Memorial Day weekend. It had restaurant, bar, very nice outdoor pool and hot tub which we had all to ourselves probably due to the holiday weekend. The room was very nice with a king bed, microwave, refrigerator. They had \"vending\" by front desk with a few food items, beer...More\n",
      "This hotel offers shuttle service to and from the airport. When arriving you need to call the hotel and they will send someone to your location. We had a late flight in so we saved money on the rental car by not picking up until the next morning and using the shuttle service instead. The shuttle drivers were incredibly friendly...More\n",
      "My husband and I stayed there May 13, 2015. We had over and above service...all staff was well trained and made you feel like family. The desk clerk, Erika, helped us out with an issue we had, in fact she spent 45 minutes, and didn't give up until the problem was solved. Big time kudo's to her. We had the...More\n",
      "Friendly and attentive staff, clean, excellent maid service. Well priced room service and drink prices at downstairs bar. There is a microwave and fridge in the room that was well maintained and worked great. Plenty of restraunts in the area as well as grocery stores. I will stay at this location again! Well done Holiday Inn PHX!\n",
      "The hotel was pleasant and inexpensive. We received great service and enjoyed our complementary breakfast. The airport shuttle was quick and reliable. The bedroom and bathroom was clean and spacious. I would recommend staying at this hotel!\n",
      "**************************************************\n",
      "Now on page 3\n",
      "This hotel surprised me at how nice it is and how professional the staff is. From the front desk to the restaurant, they are very friendly, helpful and professional. The room was very modern with a separate sitting area, two tvs, refrigerator, and coffee maker. The shower pressure was the best I have ever experienced in a hotel. The food...More\n",
      "Timed out! Trying that page again...\n",
      "**************************************************\n",
      "Now on page 3\n",
      "We chose this hotel as our final stop for our Arizona vacation because it was close to the airport and reasonably priced. I was pleasantly surprised -- what a nice property. It was very clean, the lobby was open and inviting (complete with business center for printing boarding passes), and the front desk staff was pleasant and helpful. It's always...More\n",
      "I have a mixed track record with my experiences with at Holiday Inns. With this one I experienced great customer service, clean though slighty worn rooms, decent room service, and a comfortable bed. The Executive rooms are so big you'll wonder why they don't have more furniture to fill up the space. A really good choice if you're looking for...More\n",
      "We stayed at this hotel for one night during a quick weekend get away to Phoenix. The hotel itself is very close to the airport. The check in process was fast and the staff were wonderful. Our room was on the 5th floor and had two queen beds. The room also had a small refrigerator and microwave. We were not...More\n",
      "Stayed one night prior to flying out of PHX. My room was quite spacious, suite-like, quiet, and the bed very comfortable. Wish I had more time to sleep there but had to get up early for a 6 am flight. Enjoyed a salad and wine for dinner at their bar/cafe. The salad was very good, fresh and nicely plated. There...More\n",
      "Wish we'd have been able to stay longer! The pool and lounging area of this property is gorgeous! Rooms were clean and spacious! The 2tvs in the 2 different rooms made it a great place for families. We ordered room service and the bbq chicken pizza was delicious and affordable. Food arrived within 20 min as promised!\n",
      "Booked a 2 bdrm suite and it was amazing! Everyone had their own space and the beds were very comfy. The bathrooms were do big. Yes there were 2 huge ones! One with a jacuzzi tub but both walk in showers. Too bad we were only here for a night before flying home!!\n",
      "This is the first newer Holiday Inn we have stayed at in years, and they have done a great job. The lobby was unpretentious, user friendly and had EVERYTHING I needed- a small shopping area, business center and sitting area. Our room was great, The mattress very comfortable and everything spotless. We will definitely be back, and highly recommend this...More\n",
      "Very nice hotel, excellent location close to PHX airport, very quite and comfortable. Front desk always helpful. I did not have time to try breakfast just glanced over it and it looked ok with enough choices.\n",
      "We had a Suite on the top floor of the Hotel and it was spacious and clean. The bed was comfortable, but the sofa was not. I asked at check in if I could leave some Champagne for my GodDaughter's room as she was getting married the next day. I also asked for champagne glasses to be sent to my...More\n",
      "Stayed Mar. 10. Very clean and comfortable room. Liked the 'wet area' for the microwave, mini frig. and coffee maker. Elevators are rather slow. Went in the hot tub-water in pool was not heated and it was still cool weather. NOTE: If you don't have a car, there is no restaurant of any kind within walking distance. I don;t know...More\n",
      "**************************************************\n",
      "Now on page 4\n",
      "Timed out! Trying that page again...\n",
      "**************************************************\n",
      "Now on page 4\n",
      "the hotel was clean, the personnel were very helpful and courteous, the restaurant was reasonable. Was a little disappointed that the restaurant was not open from 10 - 4. I was unable to get any lunch.\n",
      "PROS 1. Perfectly clean, odor-free room and bathroom. Furniture, carpets, beds, fixtures all in excellent condition. 2. Excellent TV. My room included mini-refrigerator, microwave oven and coffee maker. 3. Excellent desk/workspace with plenty of power outlets. Excellent lighting throughout room. 4. Friendly, helpful desk staff. 5. Convenient, free parking. CONS 1. The fitness center was very small and disappointing, containing...More\n",
      "We stayed here the night before flying back from vacation. It's close to the airport and they have a shuttle that will take you back and forth. Our room was large and well-maintained. The bathroom was located between the living area and the bedroom, which I liked as it provided a buffer. Someone could watch TV in either area, or...More\n",
      "This was our second stay at this hotel. We stayed here on both ends of a trip to Tucson. It is a very clean, quiet, and updated hotel. Suite rooms are spacious for a family of four. Beds and pillows are perfect. Hotel rooms and grounds very clean and well maintained, a very nice property. The front desk staff was...More\n",
      "My wife and I stayed here on both ends of a trip to Phoenix and Tucson including the Fiesta Bowl using our IHG Rewards Nights. This is a very attractive well-managed clean hotel with a complimentary 24hr. shuttle to-and-from the airport. I see in other reviews many get this property confused with the Holiday Inn Express properties. We were one...More\n",
      "Called for a shuttle, they were there within 15 minutes and we were in the spacious hotel room with our shoes off within 25! In the morning the shuttle was warmed up and waiting for us getting us to the airport within plenty of time to catch flight. Just exactly what we needed and very nice room!\n",
      "Very nice property. Staff extremely friendly and helpful. Free shuttles to/from Mill Street in Tempe. Breakfast buffet was really good. Well managed operation. Bar and restaurant on site. Great service. good food, customer service oriented.\n",
      "Very pleasant hotel, rooms very nice, staff warm and welcoming, from the front desk to the airport shuttle drivers. It is not near anything at this location, but does offer on-site restaurant, and a shuttle to the local area if you want to get out.\n",
      "I was traveling with my daughter on a tour of several AZ colleges and had an early AM flight out of Phoenix. I decided I would stay at a hotel near the airport that had shuttle service. Not only did this hotel offer airport shuttle service, it offered shuttle service to the downtown Tempe shops and restaurants a few miles...More\n",
      "Comfortable bed. Nice room overall, other than the grout around the bathtub was starting to deteriorate. Good access to the airport. My only complaint was no breakfast included here. They do offer a restaurant, but if I’m going to pay for it, I’d prefer to check out one of the local establishments (Matt’s Big Breakfast was fantastic) rather than dine...More\n",
      "**************************************************\n",
      "Now on page 5\n",
      "Timed out! Trying that page again...\n",
      "**************************************************\n",
      "Now on page 5\n",
      "Just stayed one night. Thought it was very nice; nice pool and grounds. There WAS free coffee in the morning. Staff was friendly. I thought it was a cut above in terms of an airport hotel. There is traffic noise on the 44th Street side but not horribly so--I guess if I had known I would have requested the other...More\n",
      "I recently stayed at this hotel for 2-nights on business. The first contact with the hotel was a call for the shuttle. The front desk clearly and concisely directed me to the shuttle pick up point at the airport, took my name and told me the shuttle would be there in a few minutes. The shuttle was clearly marked with...More\n",
      "Good location by the airport. Front desk told me that the bar was just renovated. It was not complete, drop ceiling was open in places, holes in ceiling where lights would go, wine rack not complete, only one beer on tap. Great, they are working on it, but it is WAY TOO SMALL. I hope it looks better, but they...More\n",
      "We decided to stay close to the airport our last night in Arizona. This was a very nice hotel. The rooms are well appointed and clean. This is a great location to get back to the airport. We were satisfied with our stay.\n",
      "I stayed in this hotel for a meeting next door. They had a shuttle from Airport to pick up. The staff in the reception was very friendly and when I asked for cab to go the meeting, they checked with me in detail and advised me that I can walk in for that meeting. Breakfast was nice and they had...More\n",
      "Due to problems at the airport we had to stay unexpectedly in Phoenix, we decided to stay at the holiday inn at the airport - we are so glad we did! There is a free bus shuttle to and from the airport upon our arrival at the hotel approx a 5 min bus ride from the airport the receptionist 'Ron'...More\n",
      "Well if I have to fine something wrong the carpet in the front room had a wrinkle in the carpet, one of the toilet roll holders was loose. That being said the room was very nice, clean and relaxing visit.\n",
      "Very nice hotel. It is starting to show some signs of age though. The 2 individuals I dealt with from the staff were very nice and courteous. Restaurant and bar were undergoing renovations and I wasn't aware of this until we arrived. They still had adequate space set aside for both. Question - is it a prerequisite for a hotel...More\n",
      "Hotel is close to the airport and not too hard to find, but there is nothing around in the immediate vicinity, so very limited re. dining options. Food was OK and service was fine. Room clean and a good size. WiFi is free.\n",
      "My husband and I ended up with an 8 hour layover in Phoenix and decided to catch a few hours of sleep after a very long international flight. This was truly the nicest place we stayed throughout our twelve day vacation. The rooms were impeccable and luxuriously equipped, the staff was all extremely friendly, helpful, and kind, and the facilities...More\n",
      "**************************************************\n",
      "Now on page 6\n",
      "Just stayed one night. Thought it was very nice; nice pool and grounds. There WAS free coffee in the morning. Staff was friendly. I thought it was a cut above in terms of an airport hotel. There is traffic noise on the 44th Street side but not horribly so--I guess if I had known I would have requested the other...More\n",
      "Timed out! Trying that page again...\n",
      "**************************************************\n",
      "Now on page 6\n",
      "This was the perfect stopover hotel flying into and out of Phoenix. Rooms are clean, modern, and spacious (we had a suite), with comfortable bedding. The courtyard and pool are beautiful, and the breakfast was great. We stayed 2x in 10 days and both times we were glad we chose this hotel. Helpful, courteous staff in lobby and restaurant. On...More\n",
      "We picked this location as an overnight stop on our way to Hawaii. I decided to pick it due to the great reviews on Trip Advisor. We flew in very late from San Antonio. We called the hotel for the shuttle and it came very quickly. Check in was friendly and quick. The room was very nice and the beds...More\n",
      "I/We travel a lot on business or vacation. This hotel is our favorite place to stay the night before traveling. As most trips require an early flight the stay is so convenient. Everyone there takes care of us. The rooms are comfortable and quiet. The staff is outstanding. We are returning this week. The park/stay/eat/fly is a great promotion.\n",
      "Arrived in Phoenix from the UK and used this hotel for an overnight stay before travelling onto LA. Location is ideal in relation to the airport. As there were 4 of us in the party, we were allocated one of the suites. It was clean, spacious and had all the amenities you'd expect in modern hotel accommodation. The eating area...More\n",
      "I was here last year and liked it a lot: this year is even better. The lobby is remodelled and spacious, all staff are very helpfu and friendly and the rooms are comfortable and quiet. I had one overnight stay on my way throgh, and 3 nigs on my way back. I was made very comfortable, my requests were promptly...More\n",
      "I had injured my lag and was using a walker when we arrived. Olivia at the desk saw that I was having trouble walking so when I asked for a King bed instead of 2 beds (it was our anniversary) she moved us to a king close to the elevator with a walk in shower. All the staff was most...More\n",
      "This hotel is the perfect stay for my one night stay over while positioning for a mileage run to SXM. Very friendly staff, very close to airport (about 5 min drive), very clean and quite rooms. Property looks really new. Breakfast buffet was good and was included in room Your rate may vary to include or exclude buffet. Note, if...More\n",
      "Recently stayed for two nights. Rooms are large with divider between bedroom and sitting area, seating and bed comfortable.The room was in good condition, the main areas very clean, however when I dropped something off the desk in bedroom, the area under desk and behind wardrobe, were in need of attention. The dark coloured decoration and furnishings coupled with poor...More\n",
      "I recently visited this hotel, and found it to be extremely clean. The staff was very friendly and helpful during check/out. The rooms were very clean and comfortable and I would highly recommend this hotel to anyone visiting the Phoenix area. We would definitely stay here again.\n",
      "We recently discovered this hotel, which is not easily found. It is a relatively new hotel, so the facilities are terrific! The staff is very friendly and helpful. There is a restaurant which serves good food at reasonable prices. One major attraction is that it is just a few minutes from Sky Harbor Airport, and they have a \"Stay, Park,...More\n",
      "**************************************************\n",
      "Now on page 7\n",
      "This was the perfect stopover hotel flying into and out of Phoenix. Rooms are clean, modern, and spacious (we had a suite), with comfortable bedding. The courtyard and pool are beautiful, and the breakfast was great. We stayed 2x in 10 days and both times we were glad we chose this hotel. Helpful, courteous staff in lobby and restaurant. On...More\n",
      "Timed out! Trying that page again...\n",
      "**************************************************\n",
      "Now on page 7\n",
      "This hotel was a good place to overnight before a morning flight. Room was clean, newer and had everything we wanted. Price including hot breakfast was very reasonable at $99. Staff was friendly and easy check in/out. We would stay again\n",
      "(First, make sure you have the right hotel as there is also a Holiday Inn- PHX Airport North located on 44th St. This review is for the Holiday Inn PHX Airport located on 48th St. Not only are they located on similar streets, they even look alike! ) Only 5 years old, this hotel is clean, modern and well maintained,...More\n",
      "This HIE is a good stop if you need a convienient place to stay before an early morning flight. Our king room was larger than average, clean and well equiped. The front desk attendent was helpful with printed directions to airport/rental car return and an extensive list of restaurants in the area. We have stayed at this Inn in the...More\n",
      "I now have been staying at this hotel for the last 3 months. May 16 I had an emergency and needed to have a ups package sent out and could not arrange for a pick up at the hotel and a staff member took the package for me on her lunch hour. For the last 3 months I have seen...More\n",
      "I originally booked this hotel through Hotwire and had planned on staying there the night before my fellowship interview. Unfortunately my flight to Phoenix was cancelled and I was unable to make it that night. I called the hotel to see if I could switch my reservation to the next night. They were very friendly and accommodating and allowed me...More\n",
      "I love this place...staff are so friendly and accomodating, willing to go the extra mile. Been traveling for over a year and have had no issues since being here. 2nd home away from home...comfort and ease\n",
      "We spent one night here and really appreciated their airport shuttle service as well as the clean, quiet, roomy, comfortable room. The staff we encountered were all very pleasant and helpful. The restaurant in the hotel has delicious food and wonderful service as well.\n",
      "Needed a last minute place to stay, staff was very helpful the room was very clean, after an event that we got very dirty at the staff was great about getting us extra towels and toiletries and even called our room to see if we needed anything else. Would recommend staying there to anyone\n",
      "We reserved two rooms as my daughter and granddaughter had an early am flight out. Had only one person at the check-in desk and there was a line of about six people. The person in front of us did not realize most hotels take a credit card for incidentals and argued about it for about 3-4 minutes. Once we got...More\n",
      "Stayed in Phoenix for a weekend and ended up at the Holiday Inn (as recommended by in-vehicle GPS!). All-in-all a decent place to sleep and fairly central (with a car) to the sights of Phoenix and Scottsdale. The pool isn't much -- pretty much in the middle of the back parking lot with one lone shade tree and umbrellas that...More\n",
      "**************************************************\n",
      "Now on page 8\n",
      "This hotel was a good place to overnight before a morning flight. Room was clean, newer and had everything we wanted. Price including hot breakfast was very reasonable at $99. Staff was friendly and easy check in/out. We would stay again\n",
      "Timed out! Trying that page again...\n",
      "**************************************************\n",
      "Now on page 8\n",
      "After checking out of the fantastic Pointe Hilton Squaw Peak and taking a $50 Execucar ride here the night before we flew home from a wonderful vacation we were told they didn't have a room for us due to the guest in our room deciding to extend their stay. They without asking if it was ok with us told us...More\n",
      "I'm not sure this is the best of the bunch for Phoenix Airport Park & Fly, but it was an ok choice. Hotel is basic. Room was standard and, thankfully, quiet. Bed was less than comfortable. Front desk staff was friendly. Airport shuttle never showed up, so the hotel van took us. Thought we were going to be stuck in...More\n",
      "I stayed here for a week on business. It's very close to the airport. The only time I noticed the planes at all was when I was in the hot tub outside. There's a small pool and a hot tub which I enjoyed nightly. The restaurant is clean and the food is good. TV's at every table. There's a smaller...More\n",
      "Spent three nights here on a business trip and although I would normally rate this hotel \"Average\" for a business-class airport hotel, I'm giving it the lowest rating possible because when I combine that \"nothing special\" rating with a specific experience I had during my first night...well, I'd never, ever stay here again. At 1:30 a.m. on Tuesday morning, I...More\n",
      "My wife and I stayed here for one night before a morning flight out of Sky Harbor. This hotel is certainly not a resort, but if you take it for what it is (to or from the airport), it is just fine. The rooms are very clean, beds were comfy, quiet the night we were there – all of the...More\n",
      "We spent one night over the holidays at the Holiday Inn and Suite Phoenix Airport. The hotel is pretty nice and the staff were really nice, professional and helpful. The rooms were clean, bright, and comfortable The shuttle service was helpful and it doesn't take too long to get to the airport (although it was the Holiday season so the...More\n",
      "We decided to stay here because of its proximity to the airport and to ASU where we were going to do a visit with our niece flying in from back east. It was wonderfully situated equidistant from both. We got upgraded to a suite upon our arrival, but we couldn't use the upgrade because we needed two queens (sadly). The...More\n",
      "Got at priceline, I was staying an extra night in Phoenix so I got into Priceline and reserved using their blind reservation system. I was a little nervous but I was very surprised when I got there. The rooms are clean and comfortable, beds are nice, it has a small fridge and a microwave. Breakfast is $9 or $10, not...More\n",
      "I was here for a short overnight stay before flying out. The location is excellent-- very convenient to the airport and also with great freeway access. I arrived late at night, so parking was a little challenging but I was able to find a spot in the back. The front desk agent was friendly upon check-in. Unfortunately, I wanted a...More\n",
      "We needed a hotel near the airport for a flight out the next morning. We have come to expect great things from Holiday Inn and decided to book an Executive Suite for the night at $171. Shuttle service from the airport to the Holiday Inn was fine. Check-in was as we expected, quick and courteous. The only issue we had...More\n",
      "**************************************************\n",
      "Now on page 9\n",
      "After checking out of the fantastic Pointe Hilton Squaw Peak and taking a $50 Execucar ride here the night before we flew home from a wonderful vacation we were told they didn't have a room for us due to the guest in our room deciding to extend their stay. They without asking if it was ok with us told us...More\n",
      "Timed out! Trying that page again...\n",
      "**************************************************\n",
      "Now on page 9\n",
      "Booked a room here for 3.11.2014 and after looking on GOOGLE EARTH noticed there were no restaurants nearby. I called the hotel to find out if delivery was an option since we would not have a rental car. I spoke with someone named \"Erica\" (or so it sounded). I asked the question, \"Do you have restaurants in the vicinity who...More\n",
      "This was actually a thoroughly decent place to rest after a long flight. Check-in was painless with happy staff and the room was clean and tidy. The courtesy shuttle bus to-and-from the airport runs regularly; at least twice an hour and I think possibly more. It only takes about 10 minutes to get from hotel to the airport so very...More\n",
      "Over all this is a nice hotel near the Phoenix airport and has shuttle bus. The staff are very nice,including the driver of the shuttle bus that picked us up. The breakfast was very good. The restaurant is somewhat pricey. We started to walk to Denny's for supper and the Shuttle bus driver took us there. The rooms are most...More\n",
      "Booked on points from ihg. Arrived at hotel late afternoon and there was almost no parking due to a wedding compounded by the park'n'fly. Check in was courteous and rapid and the room was quite nice, modern, big king bed, large LED TV with plenty of channels, good sized bathroom. However, was not capable of connecting to Wi-Fi although I...More\n",
      "I was staying here to present a seminar and the staff was absolutely wonderful. The Banquet manager, Donna, made sure everything was set up correctly in my room and her assistant Oscar helped get my sound system hooked into the podium. She made recommendations for dinner on the night I arrived which was close and delicious. I would be happy...More\n",
      "Arrived late and checked out early, all worked well, from the hotel airport shuttle service (short ride to/from the airport), to a better than expected breakfast. A well run and clean Holiday Inn, that's fine for an airport overnight stop. As a previous reviewer noted, the in room aircon unit was of the below the window and noisy variety. Although...More\n",
      "The staff was very friendly and helpful and the beds were very comfortable. The hotel was quiet and in close proximity to the airport and they offer an airport shuttle. The only drawback was that the hotel is not in walking distance to restaurants.\n",
      "I stayed at this hotel for two nights--got a great rate on Hotwire. When I checked in, I requested a room with a bathtub. My father, who was staying in a different hotel, helped me lug up my stuff to the 3rd floor and then left. I opened the bathroom to find just a shower--no tub. I called the front...More\n",
      "Clean modern room. Everything worked. Beds were comfortable and the internet was good. Elevation control on the desk chair was broken but a call to the desk brought a replacement in less than 30 minutes. The big surprise was the restaurant. It had all the charm of a cafeteria but the food and service was excellent. Firecracker calamari were big...More\n",
      "We picked this Holiday Inn as we wanted a hotel not too far from the airport car rental place. Since we checked in on Christmas evening, the surrounding areas were quiet. Luckily the hotel restaurant was still open and our family of 5 adults ended up having dinner there (about half-hour before closing). Food was good and price was very...More\n",
      "**************************************************\n",
      "Now on page 10\n",
      "Booked a room here for 3.11.2014 and after looking on GOOGLE EARTH noticed there were no restaurants nearby. I called the hotel to find out if delivery was an option since we would not have a rental car. I spoke with someone named \"Erica\" (or so it sounded). I asked the question, \"Do you have restaurants in the vicinity who...More\n",
      "Timed out! Trying that page again...\n",
      "**************************************************\n",
      "Now on page 10\n",
      "We were looking for a hotel after flying in to PHX; this hotel was close by and reasonable with AARP discount. Clean room. Also has a small restaurant as there are none nearby. Recommend for just a night or so. Located in business area.\n",
      "We stayed here to fly to California just before Thanksgiving. It was actually Monday night because we wanted to watch the football game. We had our 6 and 7 year old with us but were allowed to sit in the lounge and order food and watch the game. They also have a nice little restaurant. The lounge waitress was excellent...More\n",
      "Overall excellent service from this hotel and from the front desk representative (Weston). Weston was exceptional in arranging a conference room for a private event that was needed at the last moment. Exceptional customer service and response during my stay.\n",
      "We find this hotel at great rate on expedia.... Best holiday inn we've been. Great service, nice room, comfortable bed... Great location in the airport area. Excelent shuttle service, free and perfect pick up time....We definitely will come back...\n",
      "Hotel is new clean easy to access reasonably priced. Receptionisit is okay. Only Falit was air conditioning in room. Direct wind comes from aircon to your body on bed. Not able to change or adjust. I had a cold due to this and I found many guests in breakfast roo were coughing. This is deadly faut you damage your condition...More\n",
      "Wanda and her staff could not have been more helpful when I was \"stranded\" for an evening in Phoenix. From their pre-printed directions on how to get to places like the Drug Store easily to their greeting me by name when I left the lobby, the service was just wonderful. The hotel is clean and comfortable. An excellent value if...More\n",
      "This hotel is very close to the Phoenix airport. They have a shuttle service. This Holiday Inn is very modern and up to date. There is a restaurant on property. I worked with Justin at the front desk. He and the manager were among the kindest most helpful hotel staff I have worked with in many months of travel. I...More\n",
      "We stayed here for 2 nights. Rooms are quiet, comfortable and very clean. The hotel is convenient to airport and the university. We went down towards the university to eat at a great little Mexican cafe.\n",
      "Close to the airport and convenient. Rooms clean and it's a modern hotel. The location is somewhat remote and your food and beverage is really limited to the hotel itself. If you want a clean, safe and comfortable room before or after a flight, this works well. Tip: ask for a room away from the landing strips for greater quiet.\n",
      "We stayed here one night for an early morning flight. Quick access to the airport. The property is very nice. Rooms are spacious and quiet. Nice property to stay if you need to be convenient to the airport. There is a restaurant on the property, but not any nearby.\n",
      "**************************************************\n",
      "Now on page 11\n",
      "We were looking for a hotel after flying in to PHX; this hotel was close by and reasonable with AARP discount. Clean room. Also has a small restaurant as there are none nearby. Recommend for just a night or so. Located in business area.\n",
      "Timed out! Trying that page again...\n",
      "**************************************************\n",
      "Now on page 11\n",
      "I stayed here for 3 nights afte a flight from New Zealand. The staff were really helpful and friendly, and gave me clear directions for the free airport shuttle which made life so much easier. Room service was very good indeed: clear about delivery times, wellpresented food and not intrusive. Menu is not enormous, but has variety and is well...More\n",
      "I stayed there for 1 night. It was nice and clean and quiet and affordable. Close to the airport and free parking. Clean breakfast area with selection of whole grain breads and omelets. Everything I was looking for. I would stay there again\n",
      "I've stayed here several times and this is a beautiful hotel. The front desk staff is always friendly and helpful. The bar is great and the bartenders are always friendly and stay on top of your drinks. You don;t often think of a Holiday Inn as a steak source, but they have a great steak. This one is truly a...More\n",
      "Stayed overnight here for flight the next morning. Hotel was nice, room was spacious and clean. Front desk staff member, Andrea, was friendly and helpful. Had a yummy dinner at the restaurant. Didn't use the pool, but it looked nice. Don't hesitate to stay.\n",
      "We booked this hotel on Priceline and got a very competitive rate, when we saw it was a Holiday Inn I got nervous but fear not, this is a wonderful hotel. It is brand new in hotel years, and the rooms were beautiful and spotless. Phoenix was 115 degrees while we were there but you would have never known it...More\n",
      "Yes, we flew into Phoenix on the way to somewhere else and decided to rest up from our flight instead of driving through the night. Good thing we did it at this hotel. Everything was AOK at the Holiday Inn. Nice room and a good rest was had. Restaurant was OK, food so so, may have been an off night...More\n",
      "I stayed at this property for one night when returning from a trip. This is a high end Holiday Inn with a restaurant and bar. Libby and rooms are very nice. I lucked out with a Priceline cost of $40 but even at their regular rates this is a hotel with alot if amenities if you are staying in Phoenix...More\n",
      "I stayed 1 night at the Holiday Inn Hotel & Suites Phoenix Airport in March 2013. The hotel was CLEAN and was ok for a one night stay. I did use the pool area and it was nice to have available. I also ordered room service from the menu in the room. The delivery time took over an hour, but...More\n",
      "The room was nice and the bed was comfy. I had no issues during my two night stay other than the fact that there was nothing in the area. Don't go driving around westward because you end up in an unpleasant area. Stick to the East around ASU if you're wandering or need something. The restaurant was great (although expensive)....More\n",
      "We had an early flight so we stayed here after our visit from Sedona. Hotel was one of the cleanest I have stayed at Nice pool , large rooms. Big refrigerator. Hotel staff was wonderful. Free 24hr shuttle. We checked in, dropped off our luggage. Took our rental car back to the airport, took the shuttle from the airport and...More\n",
      "**************************************************\n",
      "Now on page 12\n",
      "I stayed here for 3 nights afte a flight from New Zealand. The staff were really helpful and friendly, and gave me clear directions for the free airport shuttle which made life so much easier. Room service was very good indeed: clear about delivery times, wellpresented food and not intrusive. Menu is not enormous, but has variety and is well...More\n",
      "Timed out! Trying that page again...\n",
      "**************************************************\n",
      "Now on page 12\n",
      "Stayed here on another one of my quick weekend getaways, and was very happy overall with my stay at this hotel. Overall the hotel was nice, clean, and the staff was friendly. The rooms were nicely furnished. If you don't have a car there aren't many options for things to do near this hotel, and no places to eat nearby....More\n",
      "This is a step up from the usual airport hotel. It's new, spacious, well appointed, and well maintained. I stayed here recently at the end of a trip in Arizona and was pleasantly surprised. The location is excellent, we made it to the rental car centre in 15-20 minutes at 8:00am on a weekday. The hotel is just off a...More\n",
      "I stayed here for a quick overnight prior to catching a flight. It was very easy access from I-10. The room was clean and new. The bed was comfortable. Biggest plus was a great rate for the room and parking for up to 14 days including a shuttle to and from the airport. Cannot be beat when you consider what...More\n",
      "Checked into the hotel since it was close to the airport and had shuttle service. Rooms are clean and updated as was the lobby. Corrine who checked me in was very friendly and helpful with restaurant suggestions as well as driving directions. Would definitely recommend.\n",
      "Four and a half stars...We stayed here on an overnight layover on our way home from the D.C. area. This hotel is very close to the airport and they have a 24-hour shuttle that runs every 30 minutes. There is a restaurant and bar in the lobby and they gave us a coupon for a free drink in the bar....More\n",
      "I wasn't expecting much when I arrived at this hotel. I was pleasantly surprised with the exterior. When I walked I to the room, I forgot I was at a holiday inn. I actually had a living room with a mounted flat screen tv. A microwave and mini frig. The small balony was so cute (I guess that's for smokers....More\n",
      "I stayed at this hotel the night after returning from Afghanistan with the Arizona Army National Guard. The check in staff was amazingly friendly. They even gave me two drinks at the bar plus a breakfast buffet. All of the common areas of the hotel are immaculate and the rooms are extraordinarily clean. This is an outstanding property with a...More\n",
      "I was very surprised on how spacious the regular room was! It was huge! The hotel itself was very clean. Corrine at the front desk was awesome! Very helpful! Their continental breakfast buffet was surprisingly very good! They have a good spread to choose from. They also provide a \"bathroom kit\" for their guests, in case they forgot to bring...More\n",
      "I stayed at the property because I had an early flight out the next day. Very friendly staff, great rooms with comfortable beds. Hotel shuttle to the airport runs 24 hrs and that makes it very convenient for early flights.\n",
      "Criteria for Hotel for one night in Phoenix - early evening arrival from Europe so quick drink, quick meal, then sleep. 3 Adults (Mum Dad & Son) Booked King Bed Exec Suite best flexible with breakfast - on the road next day for 15-day road trip. Simple two-room suite at a cost of $191. I asked in advance if the...More\n",
      "**************************************************\n",
      "Now on page 13\n",
      "Timed out! Trying that page again...\n",
      "**************************************************\n",
      "Now on page 13\n",
      "After a long flight what do you want from your hotel; Near to the airport. Easy check in. Comfortable room and a good nights sleep. Good breakfast in the morning Easy check out On top of that good customer service. Well this hotel is exactly what your looking for ! Not too many bells and whistle, but not bare minimum....More\n",
      "Clean and quiet. Very comfortable beds, good size rooms. Stayed for business trip. Unless you are staying for just one night the location is horrible. Right next to airport, but not really within walking distance to anything. Not even a convenient store or gas station nearby. Unless you have a rental car choose a different location.\n",
      "Overall, I have absolutely no complaints about the hotel! We were able to check in a little early Monday (always helpful). After a long traveling day, had dinner that night at Soleil, and I was, overall, very impressed by the food...and the choices! It wasn't a hamburger or some chicken fingers. I had linguine with clams, and my husband had...More\n",
      "the room itself was fine but the in room ac was so noisy and the air blowing right over the bed made for an uncomfortable night. This was my first Holiday Inn expereince and I was puzzled by the tiny pillows - even with 4 pillows there was little actual pillow room on a king size bed. I was unable...More\n",
      "Desk staff very friendly and helpful. Room was very clean, beds were comfortable with a choice of firm or soft pillows, bath towels softer than most hotels. Free Wifi that worked well. Hotel is conveniently located off the interstate about 5-10 mins from the airport. We did not eat there so I can't comment on the food, but eating area...More\n",
      "The location was convenient to the airport, downtown Tempe, and spring training facilities. Fun and challenging hiking trails all within 30 minutes. I would certainly visit this hotel again the next time I am in Phoenix.\n",
      "I can't say enough about this hotel. It's convenient to the airport and everyone was gracious and friendly. The room was comfortable and quiet, the food service was good and reasonably priced and the van drivers were helpful and courteous. I would recommend this facility very highly.\n",
      "If i could i would give them a higher rating. GREAT CUSTOMER SERVICE! We went for the weekend well our car broke down :( we just made it to the hotel, from Los Angeles, Ca. Ron (THANK YOU!!) was so helpful to us my husband and i really appreciated his help, we went back to thank him personally but he...More\n",
      "I stayed one night at this airport and found the room to be very clean, comfortable and quiet. I was not there long enough to visit the gym and other amenities the hotel has to offer. Their morning breakfast buffet offered typical choices such as bacon, bread, yogurt, cereals, milk, juice machines etc. I did not eat their breakfast. The...More\n",
      "People talk about the area around the airport as being sketchy. The area where this hotel is located is far from sketchy. You want sketchy in the Phoenix area then just drive north/NW on Highway 60. This hotel is very nice and the wine bar restaurant has the best pricing on bottles at any restaurant I have ever been to...More\n",
      "**************************************************\n",
      "Now on page 14\n",
      "After a long flight what do you want from your hotel; Near to the airport. Easy check in. Comfortable room and a good nights sleep. Good breakfast in the morning Easy check out On top of that good customer service. Well this hotel is exactly what your looking for ! Not too many bells and whistle, but not bare minimum....More\n",
      "Timed out! Trying that page again...\n",
      "**************************************************\n",
      "Now on page 14\n",
      "I stayed one night as a layover to take a shuttle to Yuma so I choose a hotel with an airport shuttle Unfortunately the shuttle took 20 mins to come after I called it from the airport and it said Hilton not holiday inn. The breakfast was good and the next morning the shuttle to the airport was very efficient!\n",
      "My stay was for a business presentation on Saturday,Dec 1, 2012. I was greeted warmly and by name by the front counter staff, and also given a list of dining and breakfast schedules, etc. I found my room much nicer than expected, with an entirely separate bathroom. Everything was immaculate, and I was pleased. Breakfast the next morning was delicious....More\n",
      "At the lobby. It was a pleasure to walk into the modern decor and clean lines. The people at the front desk were efficient, polite and genuinely friendly. It wasn't just our lucky day, everyone we met was very nice. I'd give the room an extra star if I could, it was well designed to be a hotel room in...More\n",
      "We held our yearly Board meeting at this hotel - our requirements were free airport shuttle (people flying in from all over the country) and onsite dining in addition to our meeting space needs. This hotel met our requirements at an affordable price (we are non-profit) and exceeded expectations. Rooms were great and the food at the restaurant was very...More\n",
      "We really enjoyed our one night stay in this hotel. The rooms were nicely furnished and very clean. We really liked the shower with no bathtub. Our check in could not have been more pleasant. Corinne was really friendly, efficient and helpful. She is indeed an asset to this hotel. We had dinner in the hotel because we had been...More\n",
      "I have been a loyal customer of the Intercontinental Hotel Group for many years. It is sad to say that the stay at this Holiday Inn was the worst experience that I’ve ever had in a hotel. Not only we had to wait more that 30 minutes at the airport for the hotel shuttle to pick us up but our...More\n",
      "I got stuck in Phoenix due to a cancelled flight. The airline located a room here for me. I was pleasantly surprised. The hotel offers a shuttle, and although i had to call for a pick up due to my late evening arrival, the shuttle arrived promptly and delivered me to the door in just a few minutes. The room...More\n",
      "We stayed here to catch a flight out off Phoenix the next morning. Our stay was great. Staff was very nice especially at breakfast. The breakfast was delicious and well spacious. Tmour room was nice and clean and the beds were comfortable. It close to a lot of things like downtown, the airport, and I-10. Overall our stay was wonderful.\n",
      "Freindly and effecient Staff! Rooms and hallways were clean comfortable! Food was pretty good - had to stay there during a marathon so the hotel was pretty full - waiting for an elevator up was a bit of a hassle-found out the next morning they could have let us up the stairs from the outside (evening desk person didnt know...More\n",
      "This hotel reminded me why I stay at HIE! Room was massive with comfy beds. Parking was great. Wish it included breakfast and had more restaurants close by. Front desk staff super friendly. Will stay here again when in Phoenix.\n",
      "**************************************************\n",
      "Now on page 15\n",
      "I stayed one night as a layover to take a shuttle to Yuma so I choose a hotel with an airport shuttle Unfortunately the shuttle took 20 mins to come after I called it from the airport and it said Hilton not holiday inn. The breakfast was good and the next morning the shuttle to the airport was very efficient!\n",
      "Timed out! Trying that page again...\n",
      "**************************************************\n",
      "Now on page 15\n",
      "I have stayed at this location several times. It is close to the appointments that I usually have while in the Phoenix area. I like the fact that it is minutes from the airport, rental car return is a snap, and the restaruant on the premisis is nice, convenient and the service is real good. I like the courtyard feel...More\n",
      "The hotel was clean and an updated Holiday Inn. The shower and room were very nice, we had a 2 Q non smoking room. But WHAT MADE OUR STAY WAS THE STAFF. We drove up from Tucson the night of the visit and got stuck in a traffic jam for 6 hours (usually around 2 hours) making our arrival quite...More\n",
      "Heading home from st martin to seattle, we stayed over night in phoenix. we got in late, but were greeted with perfect service. The desk gal was so helpful and so delightful. Our room was perfect and they had an outside patio by the pool where we had wi-fi and a very comfortable table and chairs to enjoy the sunshine...More\n",
      "The front desk and shuttle drivers were great-extremely friendly and accommodating! The room was clean, with very comfortable beds loaded with pillows. The fitness room comprised two treadmills and a water cooler that may have contained tap water; but, it worked for my temporary needs. The restaurant had a pretty decent dinner ( I had some pasta-type dish), a gigantic...More\n",
      "Stayed here for business. The heated pool and spa were great after work and still managed to get some sun outside. They had washer and dryer for the business traveler. I stayed here for 2 weeks. Dining area was decent for food but kinda pricey. Room service was available which was great. Small bar was ok for a drink. They...More\n",
      "Really great hotel. We had a marvellous room with separate sitting room and kitchen. Very comfortable and great value. Good location and very easy to get to. Lots of parking available. Receptionist very helpful and gave us clear instructions on how to get to the room etc\n",
      "Stayed here on business, but may come back for a vacation later. It had a very nice pool/courtyard area and huge rooms. It would be perfect for a family vacation. The staff was very helpful and the shuttle driver offered to take us anywhere within 5 miles for free. My only complaint is that it's a little over a mile...More\n",
      "I needed to stay at a hotel close to the airport when flying in and out of Phoenix. The hotel was easy to find. Thats very important for an out of towner flying in at night. The hotel was very, very clean. The staff was very helpful and made me feel very comfortable. The room was nice. I would stay...More\n",
      "I ended up here because I was stranded at Phoenix Airport for a day due to the storm (Sandy) on the East Coast preventing me from returning home. I chose the hotel because of the airport shuttle, a great deal on Hotwire and 95 percent positive reviews there--and the reviews weren't wrong! The only negative thing about this place is...More\n",
      "I booked this room last minute and hoped for the best. What a great surprised on arrival! This is a new, clean and well-appointed hotel. There is a super nice restaurant/lounge/bar in the lobby with TVs in every booth. It was great to watch the news while eating breakfast. The front desk and breakfast staff were all very friendly. The...More\n",
      "**************************************************\n",
      "Now on page 16\n",
      "I have stayed at this location several times. It is close to the appointments that I usually have while in the Phoenix area. I like the fact that it is minutes from the airport, rental car return is a snap, and the restaruant on the premisis is nice, convenient and the service is real good. I like the courtyard feel...More\n",
      "Timed out! Trying that page again...\n",
      "**************************************************\n",
      "Now on page 16\n",
      "I stayed here for two nights for a work event. The service staff was extremely professional, the room was large and exceptionally clean, and it's locale was near ideal for what was needed. The included breakfast was a nice bonus, and a decent meal. I would highly recommend for night before flight stays, or any kind of business meeting as...More\n",
      "I spent only one night in this hotel (arriving late and leaving early) on my way from northern to southern Arizona, so I cannot say much about location and surroundings. The hotel seems to be in a very good state. The room was very spacious, comfortable and clean. The room rate was reasonable. Breakfast was included but actually a bit...More\n",
      "Clean, spacious room...nice comfortable bar area for relaxing out of room. Not an express so no free breakfast. If you are flying out of Phoenix on an early flight from somewhere else in Arizona you can get something at airport. This was convenient stay the night before return to home. Efficient shuttle service.\n",
      "I used the park/stay/fly rate which was very reasonable at $94 and parked free for a week. This is the only way to get to and from the airport. I had an early flight so I stayed the night before here and had a no hassle 5 min. ride in their van to the airport., I have stayed here almost...More\n",
      "We stayed here overnight on arriving in the USA, prior to starting our road trip to Chicago. All the staff, reception, bar and restaurant and shuttle drivers were very friendly,extremely helpful and efficient. We ate dinner in the hotel and enjoyed our meal very much, good service from the Waitress who helped me choose some good local beers! Decent buffet...More\n",
      "Right near the airport. Neat, clean, comfy beds. Every room has has a fridge and a microwave. Really convenient. we were not there for business. We were on our way further and needed place to spend the night. This was easy to get to and was worth staying there.\n",
      "This is such a great hotel. It is beautiful, and cozey. The rooms are big, each with two areas. One for the bedroom/bathroom, and also a living area.The pool area is very nice. lots of chairs and shade too. The beds are nice and comfortable. There are restaurants and store all near by. And not to far from the airport....More\n",
      "Greeted with a smile as soon as I arrived, Andrea and Oliva were outstanding, they went above and beyond to help me and my family. I strongly \" reccccommmmendddd \" this facility just for the way we were treated ! The room was clean, the restaurant had excellent food and the service was great ! Being close to the airport...More\n",
      "I have nothing bad to say about this hotel. It was clean, the staff in particular, Brandon, was phenomenal. He was very accommodating. The room is nice and spacious and most of all clean! Would and will recommend this hotel to everyone!\n",
      "Terra M I arrived on Friday for a 1 week stay. Right away I was treated well. My fridge in my room wasn't as cold as it should be so Andrea switched me to a room that the fridge was cold. I was in Phoenix for a Photography workshop and to do some sight seeing. Again Andrea was my go...More\n",
      "**************************************************\n",
      "Now on page 17\n",
      "I stayed here for two nights for a work event. The service staff was extremely professional, the room was large and exceptionally clean, and it's locale was near ideal for what was needed. The included breakfast was a nice bonus, and a decent meal. I would highly recommend for night before flight stays, or any kind of business meeting as...More\n",
      "Timed out! Trying that page again...\n",
      "**************************************************\n",
      "Now on page 17\n",
      "Adequate room for overnight stay for early am flight.Good price.Bar food staved off hunger.Good shuttle service to airport every half hour.\n",
      "My wife and I were only staying for one night, We took our breakfast vouchers to the dinning area. There was a complete spread. Continental items, hot eggs, sausage, ham, bacon, hash browns, chorizo eggs, biscuits and gravy, fresh fruit, cottage cheese, granola, various juices, coffee milk, cereal, bagel toast, and just about anything you could want. Very nice seating,...More\n",
      "We flew into Phoenix and stayed here one night before driving to the Grand Canyon. The beds were very comfortable. My son and I enjoyed the pool. The staff was very friendly. I would definitely consider this hotel for longer stays in the Phoenix area.\n",
      "Spent one night there for a business trip. All of the staff was extremely friendly. As it has been said this hotel is 2 years old but still seems new inside. I like the rooms as they are very comfortable and clean. The breakfast buffet was very good. The layout is a bit awkward (they didn't design that space very...More\n",
      "We were leaving phoenix but ended up missing our flight.. Picked the holiday inn & suites to stay. The front desk were so helpful as we were not prepared for another night. The shuttle is a 5 min drive too\n",
      "I was recently in Phoenix for a 2 day meeting and opted for the Holiday Inn & Suites near the airport for my one night stay. This is a relatively new hotel -- opened about 2 years ago, I believe. Check in was easy and the person at the desk was very courteous. The room was clean, and it was...More\n",
      "The Staff here are top notch right from the friendly efficient front desk people (Andrea and Dan) to the waiters and waitresses. The rooms were very clean and I will always stay here when in Phoenix. Kudos to whoever hired such staff.\n",
      "Only stayed one night on our way on to somewhere else. Swift check-in, excellent comfortable room with comfy beds. Good bathroom and plenty of towels. Nice and quiet which was really appreciated after a long flight from the UK. The restaurant was quite small but the service was good. On checking in we were given a voucher for a free...More\n",
      "My mother and I stayed at this hotel in March 2012 for baseball spring training. This hotel was awesome! Modern, clean, friendly staff, and great location. If you have a modern GPS system, you will easily find this hotel. Like an earlier review, I never heard any airplane noise from the nearby Phoenix Airport. We highly recommend this hotel!!\n",
      "I stayed in the executive suite for 3 nights. The room looked clean and nice. But the a/c made so much noise that I couldn't sleep for the first night. The service was the most aweful part. Firstly, the front desk or the room service rarely picked up calls. I walked up to the front desk only to find that...More\n",
      "**************************************************\n",
      "Now on page 18\n",
      "Adequate room for overnight stay for early am flight.Good price.Bar food staved off hunger.Good shuttle service to airport every half hour.\n",
      "Timed out! Trying that page again...\n",
      "**************************************************\n",
      "Now on page 18\n",
      "They put us in a room on the second floor directly above a live band on the first floor. The band played till 1:00AM...not much sleep that night.\n",
      "I rated this hotel many months back and decided to confirm that this is the place to stay when in Phoenix. The front desk person was very helpful when I checked in and the manager happened to come out and was great. Spoke with me about my needs and volunteered his assistance if I needed anything. He reminded me of...More\n",
      "Just there for few nights, for work. Nice resto, nice bar. Beautiful lobby. When I found the room i was in noisy, i was shifted to another swiftly but the young man at the front desk. His name was Justin, I think. Lovely service. It's near airport so there is noise, of course. But it's a great option if you...More\n",
      "We booked one night at the Holiday Inn Express as it was very close to the airport for an early afternoon flight. The room was new, clean and had all the things we needed for the night. The only area of improvement was the breakfast. It was my assumption that breakfast was included (my fault), but were willing to pay...More\n",
      "We wanted a hotel close to phoenix airport for one night. We were not arriving until late at night after nearly 24 hours of travelling. Clean, quiet and friendly is all we wanted. We had a short wait at the airport because I was not aware that I had to ring for the shuttle bus to come and pick us...More\n",
      "My husband and I came here in late December 2011 and stayed only one night. We flew in and rented a car and were slightly frustrated that the address given did not provide us to the door of the hotel when entered it into our GPS. However, when we called front desk, they provided us quick and easy directions and...More\n",
      "We stayed here for 5 nights. It was close to the airport, shopping and downtown Phoenix. The rooms were nice, a little small but overall we were happy. We would recommend this hotel to our friends.\n",
      "Hard not be jaundiced by the difficulty of finding this place. If you reserve online and click on the link in the confirmation e-mail, you are taken to someplace completely different than where the hotel is actually located. When I called to get directions from the incorrect location, I was put on hold for several minutes while I stewed in...More\n",
      "We stayed here when we took a 2 week cruise to South America. It worked perfectly for us with the parking options that are available. Since we were gone during the Christmas holidays the parking had to be reserved. The hotel was convenient, good shuttle service, clean and friendly. The parking was about the same as other off site parking...More\n",
      "The rooms are clean and comfortable. The services have always been excellent. I've stayed at this facility numerous times and will continue to do so in the future.\n",
      "**************************************************\n",
      "Now on page 19\n",
      "They put us in a room on the second floor directly above a live band on the first floor. The band played till 1:00AM...not much sleep that night.\n",
      "Timed out! Trying that page again...\n",
      "**************************************************\n",
      "Now on page 19\n",
      "Stayed at this hotel on 12/28/11. The location was chosen because it is close to Phoenix Sky Harbor airport and offers free 24 hour shuttle service to the airport. The rooms are clean and quiet. The heating and air conditioning worked great and was also quiet. The shuttle service to the airport was quick (less than 5 minutes) and picked...More\n",
      "Great location, confortable beds and great service. Shuttle Bus a little unorganized but great perk for the hotel!\n",
      "We arrived at the airport and waited 20mins for the free shuttle. Called again as the hotel is only 5 mins from pick up spot and was rudely challenged by front desk staff as to whether or not we were waiting in correct location (we were). After a 40min wait for shuttle, they upgraded our room and apologised. Everything was...More\n",
      "Great location! 5 min. to airport using thier van. I park there when the both of us are traveling and leave the car up to 14 days with the stay and park program for free. Also when I fly out early in the a.m. we stay there and avoid the the traffic across towm. Not fancy but good food. Not...More\n",
      "We are retired; had a necessary visit with relatives; needed overnight stay nearby; brother made reservations; diappointed in the HI&S .. extremely noisey from highway and air traffic, room was cold, hair dryer had hair on it; mirror was dirty; pillows inadequate. Way too much cost (134) for what we received. Will not stay again.\n",
      "My family and I were returning from a vacation overseas when our evening flight was cancelled out of PHX. So at 11pm we had to find a hotel. We had been traveling over 24 hours straight so we were tired and grumpy. The airline tried to send us to some crappy place but I'm a Priority Club member so I...More\n",
      "Friendly, attentive, clean and the restaurant and bar folks were great. Thanks for a great stay.\n",
      "I stayed here for 3 weekdays on a business trip. I use Holiday Inn Express Hotels a lot, but I try to steer clear of the regular Holiday Inn branded hotels as I have been often disappointed by old properties in need of renovation. However, this Holiday Inn is very new. My stay started well with a very friendly greeting...More\n",
      "We stayed here to be close to the airport and car rental return. Front desk staff were friendly and helpful advising me how to return rental the evening of our hotel stay and access free shuttle back to hotel. The following morning the shuttle was prompt delivering us to the airport in lots of time to check in for our...More\n",
      "The last night of our vacation we needed a room near the airport in Phoenix. Holiday Inn...perfect!! Staff - professional and friendly. Service - love the 24-hr shuttle from the airport after dropping off our rental car and back the next morning for our flight. Lounge serving complete menu - welcome after a long day of driving. Room - big...More\n",
      "**************************************************\n",
      "Now on page 20\n",
      "Stayed at this hotel on 12/28/11. The location was chosen because it is close to Phoenix Sky Harbor airport and offers free 24 hour shuttle service to the airport. The rooms are clean and quiet. The heating and air conditioning worked great and was also quiet. The shuttle service to the airport was quick (less than 5 minutes) and picked...More\n",
      "Timed out! Trying that page again...\n",
      "**************************************************\n",
      "Now on page 20\n",
      "If you're visiting the great city of Phoenix, and need to stay near the airport, this place is among the best. It's also within a short drive to many fine restaurants. The staff is friendly and knowledgeable about the local area and go out of their way to make you feel welcome and comfortable. The Soleil lounge is a relaxing...More\n",
      "My wife and I recently stayed here again and once again had a great time. We spent a little more time in the bar and were happy with how we were taken care of, actually got to enjoy the pool, and had a better customer service experience than last time here. We are big fans of the sales manager, Rolando....More\n",
      "We checked in to the hotel, and our room was very nice. We had a suite, so lots of room.The room was very clean, and I think it was the best night sleep I had in weeks.We also had asked for a late check out, and housekeeping did not bother us once. That is very rare. The only down fall...More\n",
      "I love new hotels. They are always so clean and stylish. We stayed here the night before we flew back home to Ohio, after a 2 week vacation that had started in Seattle. The beds were SO soft, along with the pillows. It was incredible. My kids went swimming in their outdoor pool, which was small, but fun for the...More\n",
      "We stayed one night here before catching an early flight out of Phoenix Sky Harbour to Washington DC. The minor problem we ran into was finding the hotel. S. 48th Street is not where you might expect it to be. It is south off E. University Drive just west of the 143. Once we had given up and phoned the...More\n",
      "We stay at this hotel when flying to Central & South America. Staff and rooms are very nice and it's close to the airport. We live 31 miles avay and the flights are early morning. So I get to sleep in and get to the airport with no problems. I have the top level on the Holiday Inn program so...More\n",
      "I booked this last night last minute via Priceline (while i was on my flight.) I arrived around almost 11pm. The shuttle picked up right away after i called. They were ready for my arrival so i was able to get right up to my room. It was large and very clean with big screen TV. The free wifi is...More\n",
      "Staff is great. Offered Priority Club amenities. Room was large and comfortable. Great night's rest.\n",
      "I agree that this hotel is a bit hard to find (with the 48th St. issue) but otherwise, everything was great. We got a good book-ahead fare, which was honored again two other non-consecutive nights when we had to stay an extra night (due to flight cancellations) and then returned again the last night of our unexpectedly lengthened trip for...More\n",
      "Using the Hertz Neverlost, I had to call the hotel to find them. The clerk said that happens all the time. Apparently, there are two S. 48th streets. Once there, the dinner was good, the room very nice. great lobby, smells new.\n",
      "**************************************************\n",
      "Now on page 21\n",
      "If you're visiting the great city of Phoenix, and need to stay near the airport, this place is among the best. It's also within a short drive to many fine restaurants. The staff is friendly and knowledgeable about the local area and go out of their way to make you feel welcome and comfortable. The Soleil lounge is a relaxing...More\n",
      "Timed out! Trying that page again...\n",
      "**************************************************\n",
      "Now on page 21\n",
      "I wasn't actually travelling for pleasure to this particular location. I got stuck in San Francisco and was re-routed to Phoenix to catch the first flight home to Norfolk. I called the emergency accommodation number (on a pink ticket from Southwest) and the first hotel on the list was this one. 5 minutes from the airport, 24/7 shuttle. Sold. I...More\n",
      "I stayed here for a week in August. I found everything about this hotel to be fine. Helpful staff, good clean rooms, WiFi and a hearty breakfast buffet. Yes, it's out of the city but you need a car to get around Phoenix anyway. From here, you can drive downtown or to the major shopping malls easily. I will stay...More\n",
      "Most places close to the Phoenix Airport are pretty bad. This one was less than 10 minutes away, SUPER CLEAN and the staff was great!! Lots of restaurants close by (near the university) too. would HIGHLY RECOMMEND THIS MOTEL\n",
      "We stayed at the Holiday Inn & Suites Phoenix Airport on 48th street. The room was very clean, staff was exceptionally friendly. You will not be disappointed if you stay here. My husband used the free internet and had no problem connecting and staying connected.\n",
      "Loved this hotel. New, clean, spacious rooms, close to the airport. My biggest concern was bed bugs, but rest assured there are NONE here. Clean as could be! I was thrilled! The breakfast was delicious and the staff was excellent. Will be back again. Stayed here three nights!\n",
      "Room was comfortable. I turned on air-con for a while and it cooled quickly and was fairly quiet. Coffee machine didn't seem to work, but that could have been me. Overall things were very modern and clean. If you like to use stairs rather than the elevator, you cannot in this hotel, as they are alarmed. One of those American...More\n",
      "Found the desk clerk very pleasant which was a relief after coming from the airport late at night and tired. The bed was extremely comfortable and the room was immaculant. The breakfast buffet was very good also. The location to the airport was convenient. Cleaning staff were very friendly and polite. I would stay here again.\n",
      "The hotel is just perfect. Friendly staff and brand new. The wifi is the best I have ever had in a U.S. hotel. The restaurant is ok, but not sooo good. Best value ever. Not near the center but if you just want to have a rest before going to the Grand Canyon, this is the place. There's a hot...More\n",
      "Stayed one night so I could make a morning flight at Sky Harbor. This new (1 year old) hotel is like no other Holiday Inn I've stayed at. Ultra-modern, pillow-top bed, fresh color scheme, great amenities, a very nice bar/restaurant with an inventive menu. Really enjoyed this stay and wish I had spent the earlier part of the week in...More\n",
      "This hotel is a great place to stay if you need to be close to the airport, or ASU. It has a very modern feel, quite different from most holiday inns I've been in. The rooms are very comfortable, the bar is awesome ( Belinda is the best!) the food is very good ( I suggest the chicken and risotto)...More\n",
      "**************************************************\n",
      "Now on page 22\n",
      "I wasn't actually travelling for pleasure to this particular location. I got stuck in San Francisco and was re-routed to Phoenix to catch the first flight home to Norfolk. I called the emergency accommodation number (on a pink ticket from Southwest) and the first hotel on the list was this one. 5 minutes from the airport, 24/7 shuttle. Sold. I...More\n",
      "Timed out! Trying that page again...\n",
      "**************************************************\n",
      "Now on page 22\n",
      "Don't stay in the summer because the staff does not turn on the air-conditioner before someone arrives. Ours ran for 8 hrs straight. We left early in the morning for the airpor to get away from it's noise. Only eat in the restaurant if you want bad service with so, so food.\n",
      "We flew in to Phoenix and were just staying for one day so I called the 800 number for holiday inn just to reserve a room for the night the customer service rep gave me the information and said the price would be $99 + tax I mentioned that I had seen a rate of $72 per night and they...More\n",
      "Stayed for 3 nights on business. Location was ideal. Very clean. Customer service was great. Full service. New build. Price was fantastic. Would stay here any time I am in Phoenix.\n",
      "Excellent new hotel. 5-10 minute drive from the airport car rental center. Front desk was very nice. Very helpful, printed maps for us and made recommendations. The rooms are very clean and quiet. Nice flat screen tv and big fluffy pillows. The price was right at under 90.00. I highly recommend staying and would stay again next time in Phoenix.\n",
      "This is a fairly new property and you can tell they have been listening to customers as this one has nice spaces in the public areas, restaurant with decent food, open all hours. Rooms are comfortable with more than adequate lighting. I think internet was free but we did not use except to print boarding passes. Staff was knowledgable about...More\n",
      "In Phoenix for the first time and chose this hotel because of location close to the airport. Staff was FANTASTIC - they helped plan my adventures and provided maps to help me find my way. Room was clean and spacious with all the amenities, including a microwave and refrigerator. Restaurant was good as well. I would highly recommend this hotel...More\n",
      "A small group of us stayed here while in town for work, and everything was just right. Rolando in sales took great care of us, the new rooms were spacious and very clean, and the staff (except for one guy) was fantastic. The location was great for us as well, since we were working in Tempe, Chandler, and Phoenix. I...More\n",
      "We stayed for one night in February, due to an early flight out of PHX airport the following morning. The hotel is about 10 minutes from the airport adjacent to the freeway in a corporate park area. It is away from the flight path, so no noise from airplanes flying overhead. The hotel is brand new, and was probably built...More\n",
      "I stayed here on 2 separate occasions in May. The staff went out of their way to be friendly and helpful. Beautiful new facility; clean; lovely restaurant / lounge, business centre; close to airport; they gave complimentary drink coupons on arrival - I'd highly recommend this hotel.\n",
      "Waited over 90 minutes for hotel shuttle making numerous calls to staff. Staff was rude, disrespectful and snotty. Management was indifferent to address the problem the next day. No adult supervision (management) during off hours. This hotel, located in close proximity to Sky Harbor is new, but with all of the other choices right in the same area - this...More\n",
      "**************************************************\n",
      "Now on page 23\n",
      "Don't stay in the summer because the staff does not turn on the air-conditioner before someone arrives. Ours ran for 8 hrs straight. We left early in the morning for the airpor to get away from it's noise. Only eat in the restaurant if you want bad service with so, so food.\n",
      "Timed out! Trying that page again...\n",
      "**************************************************\n",
      "Now on page 23\n",
      "A lot of thought and research was done to design this handicap room. We always need room for an electric wheelchair and shower chair without having to move furniture and equipment, this room was huge . We also need two beds, since the disabled person is often traveling with a caregiver that is not related or has a family with...More\n",
      "New hotel. Stayed there several times when traveling to central and south america with earily flights and vacations. Very nice accomadiations, clean, great staff. Nice pub style restaurant. You can spend the night and park your car for up to 14 days free. Beats airport parking and the worry of wondering if you will get to the airport on time....More\n",
      "I'm amazed that no other review has mentioned this. Maybe we just had the only room affected by this. We were on the top floor. Great, right? No one above us. Wrong! I can only guess that the HVAC system for the hotel was right above our heads. Something mechanical sure was. It cycled on and off literally every 30...More\n",
      "This is the second time I have stayed at this location and it did not disappoint. Even though my meetings were downtown, I choose to stay here again, due to the friendliness of the staff, quality of service and cleanliness. Dan checked me in, he was very polite and professional. I am a Priority Club Platinum member, and this Holiday...More\n",
      "Very comfortable room near the airport, spacious with nice outdoor jacuzzi. We appreciated the free shuttle - helped save us money on the car rental - could return early. They were very accomodating\n",
      "Hotel new & clean as stated, but very noisy--next to freeway, breakfast set-up very difficult to use & same food every day-not all rooms come with breakfast, clerks do not address issues, simply brush you off. Printer out of toner for 3 days at least.\n",
      "I stayed here because it was close to the Tempe Arts Festival site. Overall it is a great location for many things including being close to the airport and yes you can hear the planes at 5:00 am but it never bothered me. It is also extremely close to HWY 143 and I could hear the trucks but again I...More\n",
      "It's an airport hotel, yes. It's a tourist class hotel, probably. But it does everything right. We parked easily, checked in fast, room was clean with free wi fi, no surprises, cozy. We were hungry and it was late, so we went to the small restaurant in the lobby. We had low expectations but were we ever pleasantly surprised. The...More\n",
      "I highly recommend this hotel. The staff is very cordial and professional. It is apparent they aim to make your experience a great one. I am a priority club member and I travel quite a bit, as a result, I am no stranger to hotel stays. When I am in the area on business I choose to stay at this...More\n",
      "Room was clean, bed and pillows so comfortable. A nice little restaurant and lounge on site so there was no need to drive any farther after a long day of traveling!! Nice dinner with a glass of wine. Desk clerk provided a map with clear easy to follow directions to car rental return the next morning. Would definitely return! Highly...More\n",
      "**************************************************\n",
      "Now on page 24\n",
      "A lot of thought and research was done to design this handicap room. We always need room for an electric wheelchair and shower chair without having to move furniture and equipment, this room was huge . We also need two beds, since the disabled person is often traveling with a caregiver that is not related or has a family with...More\n",
      "Timed out! Trying that page again...\n",
      "**************************************************\n",
      "Now on page 24\n",
      "Staff were very helpful. Rooms were very nice. I needed a taxi and they provided a list of recommended services. Free wifi throughout the hotel. Location is good to airport but there isn't anything to walk to from the hotel, so you either need the shuttle if it is close, or you need to get a taxi or car service.\n",
      "this hotel is very clean and queit, despite being close to the airport. The staff were friendly and the breakfast food was good. The bed was very comfortable\n",
      "We were looking for a nice, clean and spacious room to stay in for one day and night before flying out the next morning. This was a PERFECT selection. The price was great. The room was spacious. There were four of us (2 adults and 2 children) and we were not on top of each other. My 10 month old...More\n",
      "My employer had me review this hotel against another nearby hotel last Summer. I have since stayed at this hotel at least 6 different times becasue I perfer it to the other hotel. The room a fresh and comfortable. The staff is friendly and pleansant. My only negative comment was once I got it late around 2am, but nobody was...More\n",
      "I like the fact that is very close to the airport beside the noise my staying was good. They're very helpful given me the so needed information when I had to stay for a conference meeting of our company.\n",
      "The excellent service started when I called the hotel directly and spoke to Andrea. I needed to be there for 5 nights and because of the big football game in town they could only book me for 2. Andrea gave me a lot of helpful info and suggested I call back and when I did Dana was there to help...More\n",
      "The hotel seems very new, but had several issues. We were there for the BCS national championship so the hotel was absolutely full. Like the rest of Phoenix - they didn't seem prepared for the crowd. When we checked in - our room smelled. We asked if there was another room, and there wasn't but they instantly gave us free...More\n",
      "I got stuck with a non cancelable \"special\" rate for the national championship. i tried to cancel and move to the Holiday Inn Express where family and friends were staying. The hotel staff and manager, Dana refused to allow a cancelation even with a penalty. I paid more ($50) but got lesser accomodations than the Holdiay Inn Express, less than...More\n",
      "This was a great hotel. We were in town from Oklahoma for the 2011 Fiesta Bowl. It was very clean and the service was excellent. HD tvs in the rooms. We even got a chance to meet with the owner and he wanted to make sure our stay was a good experience. The best thing about this hotel is the...More\n",
      "I agree with the other reviews that I read. The hotel is a great place to stay to catch a plane out of the Phoenix airport. The room we stayed in was comfortable, quiet and clean. Daniel at the front desk was so helpful in directions to a restaurant and making arrangements for shuttle service. The shuttle to the airport...More\n",
      "**************************************************\n",
      "Now on page 25\n",
      "Staff were very helpful. Rooms were very nice. I needed a taxi and they provided a list of recommended services. Free wifi throughout the hotel. Location is good to airport but there isn't anything to walk to from the hotel, so you either need the shuttle if it is close, or you need to get a taxi or car service.\n",
      "Timed out! Trying that page again...\n",
      "**************************************************\n",
      "Now on page 25\n",
      "I stayed here for 7 days and it was absolutely wonderful. The only complaint I have is with regards to the shuttle service. A couple of times, the shuttle was not available, because the front desk thought it was cancelled, another time it wasn't going to be able and we found out last minute, and the final inconvenience was when...More\n",
      "I had a great stay at the hotel, the restaurant and front desk employees were friendly and helpful. The rooms are decorated in a colorful manner, not your mom or dad's Holiday Inn anymore! Location can't be beat, they also had free shuttle to airport. Dan at front desk especially helpful. I did have a billing problem, so did my...More\n",
      "From check-in, and throughout the stay, a beautiful experience. The room layout is superb and spacious. The built-in desk area could be a bit more spacious, but the sitting area, with a chair and a pull-out queen sofa sleeper, is roomy and well lit. The separate sleeping area, with an additional 37\" flat screen TV, is nearly as large as...More\n",
      "We stayed here first because it was close to the airport and we were not familiar with Phoenix. We found that this is a new facility and very modern. The staff starting with Andrea, Tori and Dan at the front desk were very friendly and willing to help us find things that we wanted to see. They even printed out...More\n",
      "When walked into the hotel in the evening, I was very impressed - clean and quiet, friendly staff. I would've give the hotel a good score if this never happened - I forgot my brand new Citizen watch on the countertop of the rest room when checking out. Two hours later, when I recognized it and drove back to the...More\n",
      "Great room , very helpful front desk staff. Everything was right, The gym is on the sparse side, however.\n",
      "The most courteous staff and waitresses I have expeienced in this chain. Excellent and unique meals - antipasta dinner and godfather omlette for breakfast. Excellent location to reach Sky Harbor Airpot in less than 5 minutes.\n",
      "Someone at this hotel has figured it out. A great hotel that has an incredible staff. No need to leave as the food is as good or better than you will find in 99% of the restaurant in the Phoenix area. Breakfast, lunch, hot appitizers at happy hour and dinner are all amazing. I never have to drive out to...More\n",
      "Recently on a overnight to Phoenix, I was pleasantly suprised on the accomodations, personnel, food and in general the hotel overall... when checking in the staff me an upgrade and told me what game was on TV and channel and the special at the restaurant. Really a nice change from the hum drum on being a road warrior. Price was...More\n",
      "We recently drove into Phoenix after a week at the Grand Canyon and Sedona for an early flight out the next morning. We stayed at the Holiday Inn on 48th St. This was perfect. Close to the airport, yet quiet enough for a good night's sleep. This place is brand new, opened in April. Dan at the front desk was...More\n",
      "**************************************************\n",
      "Now on page 26\n",
      "I stayed here for 7 days and it was absolutely wonderful. The only complaint I have is with regards to the shuttle service. A couple of times, the shuttle was not available, because the front desk thought it was cancelled, another time it wasn't going to be able and we found out last minute, and the final inconvenience was when...More\n",
      "Timed out! Trying that page again...\n",
      "**************************************************\n",
      "Now on page 26\n",
      "The room was clean, the pool was sparkling, and the employees were all helpful. The bed was firm, with plenty of pillow options, as will as cover options. Plus, there was a super large screen TV, fridge, microwave, coffee maker, iron, hair dryer, and plenty of storage.\n",
      "After a long day of driving from Utah to Phoenix in order to fly out of PHX the next morning, we were greeted by a less than friendly person at the front desk who did not seem at all interested in answering our questions. In 5 days of traveling in the Southwest, she was the only person with whom we...More\n",
      "Check in was quick & efficient. Staff extremely friendly & accomodating. Heather in the restaurant has an unbelievable attitude. Very friendly young lady. Great hotel, restaurant & staff. Will stay here again on return trips to Phoenix.\n",
      "We stayed here based on TA reviews and have to agree with the positive things others have said. The location is excellent, only 5-7 minutes from the airport and the shuttle service was right on time. Only stayed one night but would most definitely return. The Hotel is new, the rooms are spotless, nicely furnished, very comfortable beds, and the...More\n",
      "This hotel is beautiful! I felt like I was wrapped in luxury from the moment I walked in the front door. The staff are all friendly and polite. They took the time to use my name whenever they talked to me, in person or on the phone. After I checked in they called my room to make sure everything was...More\n",
      "Only stayed overnight to get to the airport but the service was great. Front desk clerk and shuttle drivers were friendly and helpful. The room was fine and the bed was comfortable. Would stay there again.\n",
      "Stayed three individual nights at the Holiday Inn for stpovers at PHX Great value for money, clean rooms, nice staff, good food, high speed wifi... Etc etc etc. If you are looking for a Hotel close to PHX airport this is a great place. Only minor point to improve would be breakfast, that could be a bit more interesting. Will...More\n",
      "The weather was unbearably hot BUT the hotel made our stay extremely comfortable. The Holiday Inn at Phoenix airport is a new, modern hotel. We were welcomed by excellent staff as soon as we walked in and that did not end there, it went from courteous staff at check-in to breakfast and all the way to check-out. The maids were...More\n",
      "We needed a hotel very near Phoenix Airport with a restaurant, for an early morning flight. Pre-paid, the room cost just under $80.It had two queen sized beds, a micro wave, coffee maker, a fridge and was air conditioned. It offered both synthetic firm and soft pillows or down filled pillows if requested. (synthetic pillows had a removable band attached)...More\n",
      "Stayed on a layover, was a little concerned about the area when I booked (especially given the inexpensive rate) but it is a nice business area close to the airport. Shuttle was fast/efficient as was check-in. Everything is new and very nice, closer to a Hyatt/Hilton experience with decor. Staff was great, food and drink was very good as well.\n",
      "**************************************************\n",
      "Now on page 27\n",
      "The room was clean, the pool was sparkling, and the employees were all helpful. The bed was firm, with plenty of pillow options, as will as cover options. Plus, there was a super large screen TV, fridge, microwave, coffee maker, iron, hair dryer, and plenty of storage.\n",
      "Timed out! Trying that page again...\n",
      "**************************************************\n",
      "Now on page 27\n",
      "Okay, it is a relatively new hotel. Yes it is pretty and clean. That's all the good i can say about it. My work computer could not reach my office computer since the hotel blocked it somehow. This is the only hotel ever that I have had this problem. Yes, I got the internet but they have so many firewalls...More\n",
      "This hotel is very new, and the rooms are super clean and well-appointed for the price. A king suite at this hotel was 50% less than a 2 queen room at a nearby hotel. We stayed here with a 10 month old and a 4 year old, and the staff was super helpful. A crib was waiting for us in...More\n",
      "I am somewhat of a neat freak and am picky about hotels. That said, here is my review: Front Desk: very nice staff; aim to please; professional; service with a smile Housekeeping: excellent; very clean - no complaints; responds quickly to requests 2 Queen Bed Rooms: a little cramped for 4 people (2 adults/2children) - no room to open all...More\n",
      "Four and a half stars...We stayed here on an overnight layover on our way home from the D.C. area. This hotel is very close to the airport and they have a 24-hour shuttle that runs every 30 minutes. There is a restaurant and bar in the lobby and they gave us a coupon for a free drink in the bar....More\n",
      "Stayed for a Friday night before setting off on a Roadtrip. I needed a place to crash after 18 hours of travel. The shuttle was prompt and the drivers I had were helpful and friendly. Reception was most helpful and the bar staff receptive and attentive. The rooms were what to be expected of a new hotel. I was given...More\n",
      "The kind folks at the front desk told me this hotel has been open only a month. I stayed here in mid May for business one weeknight. I had room 201 and it was lovely. Corner room with wrap around windows, HUGE flat panel tv, desk and leather chair with ottoman. Lovely pool ( too late to use sadly) and...More\n",
      "\"Wow\" is the best way to describe this new hotel. I was impressed by the design and the building as a whole. I had never seen a Holiday Inn like this. I guess this is the new image they are promoting but I had seen other ones and they're nothing like this. My room was very comfortable and had four...More\n",
      "Hotel com bom nível de conforto, quartos amplos com dois ambientes espaçosos e sacada, bom nível de limpeza estacionamento e...more\n",
      "Bom hotel perto do aeroporto com preços padrão aeroporto, mas com qualidade no serviço das instalações superior ao padrão. Possui...more\n",
      "夜遅い到着であったため、周辺に飲食店がないことは大きなディスアドバンテージでした。しかしながら、部屋はスイートタイプで広...more\n",
      "**************************************************\n",
      "Now on page 28\n",
      "Okay, it is a relatively new hotel. Yes it is pretty and clean. That's all the good i can say about it. My work computer could not reach my office computer since the hotel blocked it somehow. This is the only hotel ever that I have had this problem. Yes, I got the internet but they have so many firewalls...More\n",
      "Timed out! Trying that page again...\n",
      "**************************************************\n",
      "Now on page 28\n",
      "L'albergo ha stanze spaziose e pulite. Il personale è gentile; buona la colazione. La cena è stata buona e non...more\n",
      "Ho scelto questo albergo perché é nelle vicinanze dell'aeroporto e con servizio navetta hotel - aeroporto. Le camere erano pulite,...more\n",
      "vicino all'aeroporto, buona scelta per chi usa Phoenix solo come punto di partenza per altre mete. Checkin rapido, camere piuttosto...more\n",
      "Pratique car très proche de l'aéroport, mais pas de soucis par rapport au bruit, les chambres sont très bien isolées...more\n",
      "Schöne grosse Zimmer, die Betten sind bequem das Zimmer ist sehr sauber. Der Preis ist ok mit 120 Dollar pro...more\n",
      "Hotel idéalement situé à proximité de l' aéroport. Pour bénéficier de la navette gratuite il suffit de contacter l' hotel...more\n",
      "Nous avons séjourné une nuit dans cette hôtel. Les chambres sont modernes et spacieuses avec un coin salon. Le système...more\n",
      "l'hotel si trova fuori città , zona aeroporto . Ottimo holiday inn , camere pulite e spaziose , parcheggio esterno...more\n"
     ]
    }
   ],
   "source": [
    "usernames = []\n",
    "locations = []\n",
    "titles = []\n",
    "ratings = []\n",
    "dates = []\n",
    "reviews = []\n",
    "review_ids = []\n",
    "\n",
    "columns = [\n",
    "\n",
    "bigdf = \n",
    "\n",
    "url = links[0]\n",
    "more_reviews = True\n",
    "page = 1\n",
    "while more_reviews:\n",
    "    #print('*'*50)\n",
    "    print('*'*50)\n",
    "    print('Now on page {}'.format(page))\n",
    "    #print('*'*50)\n",
    "\n",
    "    try:\n",
    "        ret_dict = return_results(url, page)\n",
    "        usernames.append(ret_dict['usrnms'])\n",
    "        locations.append(ret_dict['locs'])\n",
    "        titles.append(ret_dict['ttls'])\n",
    "        ratings.append(ret_dict['rtngs'])\n",
    "        dates.append(ret_dict['dts'])\n",
    "        reviews.append(ret_dict['rvws'])\n",
    "        review_ids.append(ret_dict['revids'])\n",
    "        url = ret_dict['url']\n",
    "        more_reviews = ret_dict['more_reviews']\n",
    "        page = ret_dict['page']\n",
    "    except:\n",
    "        print('Timed out! Trying that page again...' )\n",
    "    more_reviews = False\n"
   ]
  },
  {
   "cell_type": "code",
   "execution_count": null,
   "metadata": {
    "collapsed": false
   },
   "outputs": [],
   "source": []
  },
  {
   "cell_type": "code",
   "execution_count": null,
   "metadata": {
    "collapsed": true
   },
   "outputs": [],
   "source": []
  }
 ],
 "metadata": {
  "kernelspec": {
   "display_name": "Python 2",
   "language": "python",
   "name": "python2"
  },
  "language_info": {
   "codemirror_mode": {
    "name": "ipython",
    "version": 2
   },
   "file_extension": ".py",
   "mimetype": "text/x-python",
   "name": "python",
   "nbconvert_exporter": "python",
   "pygments_lexer": "ipython2",
   "version": "2.7.10"
  }
 },
 "nbformat": 4,
 "nbformat_minor": 0
}
