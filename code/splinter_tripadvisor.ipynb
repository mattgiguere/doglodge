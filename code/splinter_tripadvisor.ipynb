{
 "cells": [
  {
   "cell_type": "code",
   "execution_count": 1,
   "metadata": {
    "collapsed": true
   },
   "outputs": [],
   "source": [
    "import pandas as pd\n",
    "import numpy as np\n",
    "from splinter.browser import Browser\n",
    "import re\n",
    "import time"
   ]
  },
  {
   "cell_type": "code",
   "execution_count": 2,
   "metadata": {
    "collapsed": true
   },
   "outputs": [],
   "source": [
    "br = Browser()"
   ]
  },
  {
   "cell_type": "code",
   "execution_count": 3,
   "metadata": {
    "collapsed": true
   },
   "outputs": [],
   "source": [
    "url = \"http://www.tripadvisor.com/Hotels-g31310-Phoenix_Arizona-Hotels.html\""
   ]
  },
  {
   "cell_type": "code",
   "execution_count": 4,
   "metadata": {
    "collapsed": true
   },
   "outputs": [],
   "source": [
    "br.visit(url)"
   ]
  },
  {
   "cell_type": "code",
   "execution_count": 5,
   "metadata": {
    "collapsed": false
   },
   "outputs": [],
   "source": [
    "date_bar = br.find_by_xpath('//*[contains(@class, \"meta_date_wrapper\")]')\n",
    "cin_btn = date_bar.find_by_xpath('span[contains(@class, \"meta_date_field   check_in\")]/span')[0]"
   ]
  },
  {
   "cell_type": "code",
   "execution_count": 6,
   "metadata": {
    "collapsed": false
   },
   "outputs": [
    {
     "data": {
      "text/plain": [
       "<splinter.driver.webdriver.WebDriverElement at 0x1029e8610>"
      ]
     },
     "execution_count": 6,
     "metadata": {},
     "output_type": "execute_result"
    }
   ],
   "source": [
    "cin_btn"
   ]
  },
  {
   "cell_type": "code",
   "execution_count": 7,
   "metadata": {
    "collapsed": true
   },
   "outputs": [],
   "source": [
    "cin_btn.click()"
   ]
  },
  {
   "cell_type": "code",
   "execution_count": 8,
   "metadata": {
    "collapsed": false
   },
   "outputs": [
    {
     "data": {
      "text/plain": [
       "<splinter.driver.webdriver.WebDriverElement at 0x1029e8a90>"
      ]
     },
     "execution_count": 8,
     "metadata": {},
     "output_type": "execute_result"
    }
   ],
   "source": [
    "rightcal = br.find_by_xpath('//div[contains(@class, \"month\")]')[1]\n",
    "rightcal"
   ]
  },
  {
   "cell_type": "code",
   "execution_count": 9,
   "metadata": {
    "collapsed": false
   },
   "outputs": [
    {
     "data": {
      "text/plain": [
       "[<splinter.driver.webdriver.WebDriverElement at 0x1029e8850>]"
      ]
     },
     "execution_count": 9,
     "metadata": {},
     "output_type": "execute_result"
    }
   ],
   "source": [
    "fri_btn = rightcal.find_by_xpath('table/tbody/tr[3]/td[6]/div')\n",
    "fri_btn"
   ]
  },
  {
   "cell_type": "code",
   "execution_count": 10,
   "metadata": {
    "collapsed": true
   },
   "outputs": [],
   "source": [
    "fri_btn.click()"
   ]
  },
  {
   "cell_type": "code",
   "execution_count": 11,
   "metadata": {
    "collapsed": false
   },
   "outputs": [
    {
     "data": {
      "text/plain": [
       "<splinter.driver.webdriver.WebDriverElement at 0x1029e8b90>"
      ]
     },
     "execution_count": 11,
     "metadata": {},
     "output_type": "execute_result"
    }
   ],
   "source": [
    "cout_btn = date_bar.find_by_xpath('span[contains(@class, \"meta_date_field   check_out\")]/span')[0]\n",
    "cout_btn"
   ]
  },
  {
   "cell_type": "code",
   "execution_count": 12,
   "metadata": {
    "collapsed": true
   },
   "outputs": [],
   "source": [
    "cout_btn.click()"
   ]
  },
  {
   "cell_type": "code",
   "execution_count": 13,
   "metadata": {
    "collapsed": false
   },
   "outputs": [
    {
     "data": {
      "text/plain": [
       "<splinter.driver.webdriver.WebDriverElement at 0x1029e8c90>"
      ]
     },
     "execution_count": 13,
     "metadata": {},
     "output_type": "execute_result"
    }
   ],
   "source": [
    "leftcal = br.find_by_xpath('//div[contains(@class, \"month\")]')[0]\n",
    "leftcal"
   ]
  },
  {
   "cell_type": "code",
   "execution_count": 14,
   "metadata": {
    "collapsed": false
   },
   "outputs": [
    {
     "data": {
      "text/plain": [
       "[<splinter.driver.webdriver.WebDriverElement at 0x1029e86d0>]"
      ]
     },
     "execution_count": 14,
     "metadata": {},
     "output_type": "execute_result"
    }
   ],
   "source": [
    "sat_btn = leftcal.find_by_xpath('table/tbody/tr[3]/td[7]/div')\n",
    "sat_btn"
   ]
  },
  {
   "cell_type": "code",
   "execution_count": 15,
   "metadata": {
    "collapsed": true
   },
   "outputs": [],
   "source": [
    "sat_btn.click()"
   ]
  },
  {
   "cell_type": "code",
   "execution_count": 16,
   "metadata": {
    "collapsed": true
   },
   "outputs": [],
   "source": [
    "time.sleep(5)"
   ]
  },
  {
   "cell_type": "code",
   "execution_count": 179,
   "metadata": {
    "collapsed": true
   },
   "outputs": [],
   "source": [
    "#hotels_div = br.find_by_xpath('//*[@id=\"ACCOM_OVERVIEW\"]/div/div/div/div')\n",
    "property_div = br.find_by_xpath('//*[contains(@class, \"property_details\")]')"
   ]
  },
  {
   "cell_type": "code",
   "execution_count": 180,
   "metadata": {
    "collapsed": true
   },
   "outputs": [
    {
     "data": {
      "text/plain": [
       "[<splinter.driver.webdriver.WebDriverElement at 0x10994c410>,\n",
       " <splinter.driver.webdriver.WebDriverElement at 0x10994c310>,\n",
       " <splinter.driver.webdriver.WebDriverElement at 0x109a1c050>,\n",
       " <splinter.driver.webdriver.WebDriverElement at 0x109a1c110>,\n",
       " <splinter.driver.webdriver.WebDriverElement at 0x109a1c190>,\n",
       " <splinter.driver.webdriver.WebDriverElement at 0x109a1c1d0>,\n",
       " <splinter.driver.webdriver.WebDriverElement at 0x109a1c4d0>,\n",
       " <splinter.driver.webdriver.WebDriverElement at 0x109a1c350>,\n",
       " <splinter.driver.webdriver.WebDriverElement at 0x109a1c3d0>,\n",
       " <splinter.driver.webdriver.WebDriverElement at 0x109a1c210>,\n",
       " <splinter.driver.webdriver.WebDriverElement at 0x109a1c290>,\n",
       " <splinter.driver.webdriver.WebDriverElement at 0x109a1c2d0>,\n",
       " <splinter.driver.webdriver.WebDriverElement at 0x109a1c910>,\n",
       " <splinter.driver.webdriver.WebDriverElement at 0x109a1c9d0>,\n",
       " <splinter.driver.webdriver.WebDriverElement at 0x109a1ca50>,\n",
       " <splinter.driver.webdriver.WebDriverElement at 0x109a1ca90>,\n",
       " <splinter.driver.webdriver.WebDriverElement at 0x109a1cd90>,\n",
       " <splinter.driver.webdriver.WebDriverElement at 0x109a1cc10>,\n",
       " <splinter.driver.webdriver.WebDriverElement at 0x109a1cc90>,\n",
       " <splinter.driver.webdriver.WebDriverElement at 0x109a1cad0>,\n",
       " <splinter.driver.webdriver.WebDriverElement at 0x109a1cb50>,\n",
       " <splinter.driver.webdriver.WebDriverElement at 0x109a1cbd0>,\n",
       " <splinter.driver.webdriver.WebDriverElement at 0x109a1c890>,\n",
       " <splinter.driver.webdriver.WebDriverElement at 0x1099f7310>,\n",
       " <splinter.driver.webdriver.WebDriverElement at 0x1099f72d0>,\n",
       " <splinter.driver.webdriver.WebDriverElement at 0x1099f7510>,\n",
       " <splinter.driver.webdriver.WebDriverElement at 0x1099f7390>,\n",
       " <splinter.driver.webdriver.WebDriverElement at 0x1099f7350>,\n",
       " <splinter.driver.webdriver.WebDriverElement at 0x1099f7150>,\n",
       " <splinter.driver.webdriver.WebDriverElement at 0x1099f70d0>,\n",
       " <splinter.driver.webdriver.WebDriverElement at 0x1099f7110>]"
      ]
     },
     "execution_count": 180,
     "metadata": {},
     "output_type": "execute_result"
    }
   ],
   "source": [
    "property_div"
   ]
  },
  {
   "cell_type": "code",
   "execution_count": 134,
   "metadata": {
    "collapsed": false
   },
   "outputs": [
    {
     "data": {
      "text/plain": [
       "31"
      ]
     },
     "execution_count": 134,
     "metadata": {},
     "output_type": "execute_result"
    }
   ],
   "source": [
    "len(property_div)"
   ]
  },
  {
   "cell_type": "code",
   "execution_count": 17,
   "metadata": {
    "collapsed": true
   },
   "outputs": [],
   "source": [
    "listing_div = br.find_by_xpath('//div[contains(@class, \"hotels_lf_condensed\")]')"
   ]
  },
  {
   "cell_type": "code",
   "execution_count": 18,
   "metadata": {
    "collapsed": false,
    "scrolled": true
   },
   "outputs": [
    {
     "data": {
      "text/plain": [
       "[<splinter.driver.webdriver.WebDriverElement at 0x102a09490>,\n",
       " <splinter.driver.webdriver.WebDriverElement at 0x102a09510>,\n",
       " <splinter.driver.webdriver.WebDriverElement at 0x102a09590>,\n",
       " <splinter.driver.webdriver.WebDriverElement at 0x102a09610>,\n",
       " <splinter.driver.webdriver.WebDriverElement at 0x102a09690>,\n",
       " <splinter.driver.webdriver.WebDriverElement at 0x102a09710>,\n",
       " <splinter.driver.webdriver.WebDriverElement at 0x102a09790>,\n",
       " <splinter.driver.webdriver.WebDriverElement at 0x102a09810>,\n",
       " <splinter.driver.webdriver.WebDriverElement at 0x102a09890>,\n",
       " <splinter.driver.webdriver.WebDriverElement at 0x102a09910>,\n",
       " <splinter.driver.webdriver.WebDriverElement at 0x102a09990>,\n",
       " <splinter.driver.webdriver.WebDriverElement at 0x102a09a10>,\n",
       " <splinter.driver.webdriver.WebDriverElement at 0x102a09a90>,\n",
       " <splinter.driver.webdriver.WebDriverElement at 0x102a09b10>,\n",
       " <splinter.driver.webdriver.WebDriverElement at 0x102a09b90>,\n",
       " <splinter.driver.webdriver.WebDriverElement at 0x102a09c10>,\n",
       " <splinter.driver.webdriver.WebDriverElement at 0x102a09c90>,\n",
       " <splinter.driver.webdriver.WebDriverElement at 0x102a09d10>,\n",
       " <splinter.driver.webdriver.WebDriverElement at 0x102a09d90>,\n",
       " <splinter.driver.webdriver.WebDriverElement at 0x102a09e10>,\n",
       " <splinter.driver.webdriver.WebDriverElement at 0x102a09e90>,\n",
       " <splinter.driver.webdriver.WebDriverElement at 0x102a09f10>,\n",
       " <splinter.driver.webdriver.WebDriverElement at 0x102a09f90>,\n",
       " <splinter.driver.webdriver.WebDriverElement at 0x102a0a050>,\n",
       " <splinter.driver.webdriver.WebDriverElement at 0x102a0a0d0>,\n",
       " <splinter.driver.webdriver.WebDriverElement at 0x102a0a150>,\n",
       " <splinter.driver.webdriver.WebDriverElement at 0x102a0a1d0>,\n",
       " <splinter.driver.webdriver.WebDriverElement at 0x102a0a250>,\n",
       " <splinter.driver.webdriver.WebDriverElement at 0x102a0a2d0>,\n",
       " <splinter.driver.webdriver.WebDriverElement at 0x102a0a350>,\n",
       " <splinter.driver.webdriver.WebDriverElement at 0x102a0a3d0>]"
      ]
     },
     "execution_count": 18,
     "metadata": {},
     "output_type": "execute_result"
    }
   ],
   "source": [
    "listing_div"
   ]
  },
  {
   "cell_type": "code",
   "execution_count": 19,
   "metadata": {
    "collapsed": false
   },
   "outputs": [
    {
     "data": {
      "text/plain": [
       "31"
      ]
     },
     "execution_count": 19,
     "metadata": {},
     "output_type": "execute_result"
    }
   ],
   "source": [
    "len(listing_div)"
   ]
  },
  {
   "cell_type": "code",
   "execution_count": 190,
   "metadata": {
    "collapsed": true
   },
   "outputs": [],
   "source": [
    "#prop = property_div[0]"
   ]
  },
  {
   "cell_type": "code",
   "execution_count": 199,
   "metadata": {
    "collapsed": true
   },
   "outputs": [],
   "source": [
    "listing = listing_div[1]\n",
    "prop = listing.find_by_xpath('//*[contains(@class, \"property_details\")]')"
   ]
  },
  {
   "cell_type": "code",
   "execution_count": 200,
   "metadata": {
    "collapsed": false
   },
   "outputs": [
    {
     "data": {
      "text/plain": [
       "[u'73957']"
      ]
     },
     "execution_count": 200,
     "metadata": {},
     "output_type": "execute_result"
    }
   ],
   "source": [
    "re.findall('hotel_(\\d+)', listing['id'])"
   ]
  },
  {
   "cell_type": "code",
   "execution_count": 192,
   "metadata": {
    "collapsed": false
   },
   "outputs": [
    {
     "data": {
      "text/plain": [
       "u'La Quinta Inn Phoenix North'"
      ]
     },
     "execution_count": 192,
     "metadata": {},
     "output_type": "execute_result"
    }
   ],
   "source": [
    "prop.find_by_xpath('div/div[@class=\"listing_title\"]/a').text"
   ]
  },
  {
   "cell_type": "code",
   "execution_count": 142,
   "metadata": {
    "collapsed": false
   },
   "outputs": [
    {
     "data": {
      "text/plain": [
       "u'http://media-cdn.tripadvisor.com/media/photo-f/07/77/c8/84/exterior-view.jpg'"
      ]
     },
     "execution_count": 142,
     "metadata": {},
     "output_type": "execute_result"
    }
   ],
   "source": [
    "# extract the URL for the hotel thumbnail image\n",
    "prop.find_by_xpath('div[@class=\"photo_booking\"]/div/div/a/img')['src']"
   ]
  },
  {
   "cell_type": "code",
   "execution_count": 151,
   "metadata": {
    "collapsed": false
   },
   "outputs": [
    {
     "data": {
      "text/plain": [
       "u'$199* /night'"
      ]
     },
     "execution_count": 151,
     "metadata": {},
     "output_type": "execute_result"
    }
   ],
   "source": [
    "# get the price\n",
    "price_text = prop.find_by_xpath('div[contains(@class, \"prw_rup\")]/div/div/div/div[@class=\"headerContents\"]/div[contains(@class, \"price\")]').text\n",
    "price_text"
   ]
  },
  {
   "cell_type": "code",
   "execution_count": 153,
   "metadata": {
    "collapsed": false
   },
   "outputs": [
    {
     "data": {
      "text/plain": [
       "u'199'"
      ]
     },
     "execution_count": 153,
     "metadata": {},
     "output_type": "execute_result"
    }
   ],
   "source": [
    "re.findall('(\\d+)', price_text)[0]"
   ]
  },
  {
   "cell_type": "code",
   "execution_count": 20,
   "metadata": {
    "collapsed": false
   },
   "outputs": [
    {
     "data": {
      "text/plain": [
       "[<splinter.driver.webdriver.WebDriverElement at 0x102a0ab90>,\n",
       " <splinter.driver.webdriver.WebDriverElement at 0x102a0ac10>,\n",
       " <splinter.driver.webdriver.WebDriverElement at 0x102a0ac90>,\n",
       " <splinter.driver.webdriver.WebDriverElement at 0x102a0ad10>,\n",
       " <splinter.driver.webdriver.WebDriverElement at 0x102a0ad90>,\n",
       " <splinter.driver.webdriver.WebDriverElement at 0x102a0ae10>,\n",
       " <splinter.driver.webdriver.WebDriverElement at 0x102a0ae90>,\n",
       " <splinter.driver.webdriver.WebDriverElement at 0x102a0af10>,\n",
       " <splinter.driver.webdriver.WebDriverElement at 0x102a0af90>,\n",
       " <splinter.driver.webdriver.WebDriverElement at 0x102a0d050>,\n",
       " <splinter.driver.webdriver.WebDriverElement at 0x102a0d0d0>,\n",
       " <splinter.driver.webdriver.WebDriverElement at 0x102a0d150>,\n",
       " <splinter.driver.webdriver.WebDriverElement at 0x102a0d1d0>,\n",
       " <splinter.driver.webdriver.WebDriverElement at 0x102a0d250>,\n",
       " <splinter.driver.webdriver.WebDriverElement at 0x102a0d2d0>,\n",
       " <splinter.driver.webdriver.WebDriverElement at 0x102a0d350>,\n",
       " <splinter.driver.webdriver.WebDriverElement at 0x102a0d3d0>,\n",
       " <splinter.driver.webdriver.WebDriverElement at 0x102a0d450>,\n",
       " <splinter.driver.webdriver.WebDriverElement at 0x102a0d4d0>,\n",
       " <splinter.driver.webdriver.WebDriverElement at 0x102a0d550>,\n",
       " <splinter.driver.webdriver.WebDriverElement at 0x102a0d5d0>,\n",
       " <splinter.driver.webdriver.WebDriverElement at 0x102a0d650>,\n",
       " <splinter.driver.webdriver.WebDriverElement at 0x102a0d6d0>,\n",
       " <splinter.driver.webdriver.WebDriverElement at 0x102a0d750>,\n",
       " <splinter.driver.webdriver.WebDriverElement at 0x102a0d7d0>,\n",
       " <splinter.driver.webdriver.WebDriverElement at 0x102a0d850>,\n",
       " <splinter.driver.webdriver.WebDriverElement at 0x102a0d8d0>,\n",
       " <splinter.driver.webdriver.WebDriverElement at 0x102a0d950>,\n",
       " <splinter.driver.webdriver.WebDriverElement at 0x102a0d9d0>,\n",
       " <splinter.driver.webdriver.WebDriverElement at 0x102a0da50>]"
      ]
     },
     "execution_count": 20,
     "metadata": {},
     "output_type": "execute_result"
    }
   ],
   "source": [
    "br.find_by_xpath('//div[@id=\"ACCOM_OVERVIEW\"]/div[contains(@class, \"hotels_lf_condensed\")]')"
   ]
  },
  {
   "cell_type": "code",
   "execution_count": 24,
   "metadata": {
    "collapsed": false,
    "scrolled": true
   },
   "outputs": [
    {
     "name": "stdout",
     "output_type": "stream",
     "text": [
      "business_id: [u'112178']\n",
      "Arizona Grand Resort & Spa\n",
      "http://www.tripadvisor.com/Hotel_Review-g31310-d112178-Reviews-Arizona_Grand_Resort_Spa-Phoenix_Arizona.html\n",
      "Hotel img URL: http://media-cdn.tripadvisor.com/media/photo-f/07/77/c8/84/exterior-view.jpg\n",
      "Price: $199\n",
      "**************************************************\n",
      "business_id: [u'73957']\n",
      "Pointe Hilton Squaw Peak Resort\n",
      "http://www.tripadvisor.com/Hotel_Review-g31310-d73957-Reviews-Pointe_Hilton_Squaw_Peak_Resort-Phoenix_Arizona.html\n",
      "Hotel img URL: http://media-cdn.tripadvisor.com/media/ProviderThumbnails/dirs/60/bc/60bc4f2a4a0fca7003e090522214d7fb1large.jpg\n",
      "Price: $189\n",
      "**************************************************\n",
      "business_id: [u'277997']\n",
      "Pointe Hilton Tapatio Cliffs Resort\n",
      "http://www.tripadvisor.com/Hotel_Review-g31310-d277997-Reviews-Pointe_Hilton_Tapatio_Cliffs_Resort-Phoenix_Arizona.html\n",
      "Hotel img URL: http://media-cdn.tripadvisor.com/media/photo-s/08/f4/73/4f/exterior-with-pool.jpg\n",
      "Price: $159\n",
      "**************************************************\n"
     ]
    }
   ],
   "source": [
    "hotel_names = []\n",
    "links = []\n",
    "img_url = []\n",
    "hotel_price = []\n",
    "business_id = []\n",
    "\n",
    "listing_div = br.find_by_xpath('//div[@id=\"ACCOM_OVERVIEW\"]/div[contains(@class, \"hotels_lf_condensed\")]')\n",
    "listing_div = listing_div[:3]\n",
    "for listing in listing_div:\n",
    "    biz_id = re.findall('hotel_(\\d+)', listing['id'])\n",
    "    print('business_id: {}'.format(biz_id))\n",
    "    business_id.append(biz_id)\n",
    "    prop = listing.find_by_xpath('div/div/div/div[contains(@class, \"property_details\")]')\n",
    "    title = prop.find_by_xpath('div/div[@class=\"listing_title\"]')\n",
    "    print(title.text)\n",
    "    hotel_names.append(title.text)\n",
    "    print(title.find_by_xpath('a')['href'])\n",
    "    links.append(title.find_by_xpath('a')['href'])\n",
    "    hotel_img = prop.find_by_xpath('div[@class=\"photo_booking\"]/div/div/a/img')['src']\n",
    "    img_url.append(hotel_img)\n",
    "    print('Hotel img URL: {}'.format(hotel_img))\n",
    "    price_text = prop.find_by_xpath('div[contains(@class, \"prw_rup\")]/div/div/div/div[@class=\"headerContents\"]/div[contains(@class, \"price\")]').text\n",
    "    price = re.findall('(\\d+)', price_text)[0]\n",
    "    hotel_price.append(price)\n",
    "    print('Price: ${}'.format(price))\n",
    "    print('*'*50)"
   ]
  },
  {
   "cell_type": "code",
   "execution_count": 155,
   "metadata": {
    "collapsed": false,
    "scrolled": true
   },
   "outputs": [
    {
     "data": {
      "text/plain": [
       "[u'http://www.tripadvisor.com/Hotel_Review-g31310-d866698-Reviews-Courtyard_Phoenix_North_Happy_Valley-Phoenix_Arizona.html',\n",
       " u'http://www.tripadvisor.com/Hotel_Review-g31310-d73905-Reviews-Wyndham_Garden_Phoenix_Midtown-Phoenix_Arizona.html',\n",
       " u'http://www.tripadvisor.com/Hotel_Review-g31310-d266322-Reviews-The_Clarendon_Hotel_and_Spa-Phoenix_Arizona.html',\n",
       " u'http://www.tripadvisor.com/Hotel_Review-g31310-d115482-Reviews-DoubleTree_Suites_by_Hilton_Hotel_Phoenix-Phoenix_Arizona.html',\n",
       " u'http://www.tripadvisor.com/Hotel_Review-g31310-d74624-Reviews-Hampton_Inn_Phoenix_Biltmore-Phoenix_Arizona.html',\n",
       " u'http://www.tripadvisor.com/Hotel_Review-g31310-d240682-Reviews-Fairfield_Inn_Suites_Phoenix_Midtown-Phoenix_Arizona.html',\n",
       " u'http://www.tripadvisor.com/Hotel_Review-g31310-d239800-Reviews-Hilton_Garden_Inn_Phoenix_Midtown-Phoenix_Arizona.html',\n",
       " u'http://www.tripadvisor.com/Hotel_Review-g31310-d2015227-Reviews-Westin_Phoenix_Downtown-Phoenix_Arizona.html',\n",
       " u'http://www.tripadvisor.com/Hotel_Review-g31310-d73727-Reviews-Four_Points_By_Sheraton_Phoenix_South-Phoenix_Arizona.html',\n",
       " u'http://www.tripadvisor.com/Hotel_Review-g31310-d816807-Reviews-Americas_Best_Value_Inn_Downtown_Phoenix-Phoenix_Arizona.html',\n",
       " u'http://www.tripadvisor.com/Hotel_Review-g31310-d2627745-Reviews-Hotel_Palomar_Phoenix_a_Kimpton_Hotel-Phoenix_Arizona.html',\n",
       " u'http://www.tripadvisor.com/Hotel_Review-g31310-d223273-Reviews-Holiday_Inn_Express_Phoenix_Downtown-Phoenix_Arizona.html',\n",
       " u'http://www.tripadvisor.com/Hotel_Review-g31310-d73739-Reviews-BEST_WESTERN_Innsuites_Phoenix_Biltmore-Phoenix_Arizona.html',\n",
       " u'http://www.tripadvisor.com/Hotel_Review-g31310-d1147292-Reviews-Sheraton_Phoenix_Downtown_Hotel-Phoenix_Arizona.html',\n",
       " u'http://www.tripadvisor.com/Hotel_Review-g31310-d1174692-Reviews-Aloft_Phoenix_Airport-Phoenix_Arizona.html',\n",
       " u'http://www.tripadvisor.com/Hotel_Review-g31310-d73757-Reviews-Renaissance_Phoenix_Downtown-Phoenix_Arizona.html',\n",
       " u'http://www.tripadvisor.com/Hotel_Review-g31310-d112162-Reviews-Hotel_San_Carlos-Phoenix_Arizona.html',\n",
       " u'http://www.tripadvisor.com/Hotel_Review-g31310-d73792-Reviews-Embassy_Suites_by_Hilton_Phoenix_Airport_at_24th_Street-Phoenix_Arizona.html',\n",
       " u'http://www.tripadvisor.com/Hotel_Review-g31310-d73855-Reviews-Hyatt_Regency_Phoenix-Phoenix_Arizona.html',\n",
       " u'http://www.tripadvisor.com/Hotel_Review-g31310-d564652-Reviews-Radisson_Hotel_Phoenix_Airport-Phoenix_Arizona.html',\n",
       " u'http://www.tripadvisor.com/Hotel_Review-g31310-d73805-Reviews-BEST_WESTERN_Phoenix_I_17_MetroCenter_Inn-Phoenix_Arizona.html',\n",
       " u'http://www.tripadvisor.com/Hotel_Review-g31310-d1201061-Reviews-Homewood_Suites_Phoenix_North_Happy_Valley-Phoenix_Arizona.html',\n",
       " u'http://www.tripadvisor.com/Hotel_Review-g31310-d73923-Reviews-Drury_Inn_Suites_Phoenix_Airport-Phoenix_Arizona.html',\n",
       " u'http://www.tripadvisor.com/Hotel_Review-g31310-d112154-Reviews-Embassy_Suites_by_Hilton_Hotel_Phoenix_Biltmore-Phoenix_Arizona.html',\n",
       " u'http://www.tripadvisor.com/Hotel_Review-g31310-d218100-Reviews-Radisson_Hotel_Phoenix_North-Phoenix_Arizona.html',\n",
       " u'http://www.tripadvisor.com/Hotel_Review-g31310-d74826-Reviews-Courtyard_by_Marriott_Phoenix_Camelback-Phoenix_Arizona.html',\n",
       " u'http://www.tripadvisor.com/Hotel_Review-g31310-d74845-Reviews-Comfort_Inn_West-Phoenix_Arizona.html',\n",
       " u'http://www.tripadvisor.com/Hotel_Review-g31310-d73787-Reviews-Holiday_Inn_Suites_Phoenix_Airport_North-Phoenix_Arizona.html',\n",
       " u'http://www.tripadvisor.com/Hotel_Review-g31310-d1963064-Reviews-City_Center_Downtown-Phoenix_Arizona.html',\n",
       " u'http://www.tripadvisor.com/Hotel_Review-g31310-d73821-Reviews-Hilton_Phoenix_Airport-Phoenix_Arizona.html',\n",
       " u'http://www.tripadvisor.com/Hotel_Review-g31310-d112178-Reviews-Arizona_Grand_Resort_Spa-Phoenix_Arizona.html']"
      ]
     },
     "execution_count": 155,
     "metadata": {},
     "output_type": "execute_result"
    }
   ],
   "source": [
    "links"
   ]
  },
  {
   "cell_type": "code",
   "execution_count": 156,
   "metadata": {
    "collapsed": false
   },
   "outputs": [
    {
     "data": {
      "text/plain": [
       "31"
      ]
     },
     "execution_count": 156,
     "metadata": {},
     "output_type": "execute_result"
    }
   ],
   "source": [
    "len(links)"
   ]
  },
  {
   "cell_type": "code",
   "execution_count": 164,
   "metadata": {
    "collapsed": false
   },
   "outputs": [],
   "source": [
    "nxt_btn = br.find_by_xpath('//div[contains(@class, \"deckTools\")]/div[contains(@class, \"unified\")]/a[contains(@class, \"next\")]')"
   ]
  },
  {
   "cell_type": "code",
   "execution_count": 165,
   "metadata": {
    "collapsed": true
   },
   "outputs": [],
   "source": [
    "nxt_btn.click()"
   ]
  },
  {
   "cell_type": "code",
   "execution_count": 167,
   "metadata": {
    "collapsed": false
   },
   "outputs": [
    {
     "data": {
      "text/plain": [
       "1"
      ]
     },
     "execution_count": 167,
     "metadata": {},
     "output_type": "execute_result"
    }
   ],
   "source": [
    "len(nxt_btn)"
   ]
  },
  {
   "cell_type": "markdown",
   "metadata": {},
   "source": [
    "## Combining the Above to Scrape All Hotel Information\n",
    "\n",
    "The code below combines all the code from above into one cell, and will scrape all information on the hotels for the first two pages of the TripAdvisor results."
   ]
  },
  {
   "cell_type": "code",
   "execution_count": 8,
   "metadata": {
    "collapsed": true
   },
   "outputs": [],
   "source": [
    "# this only needs to be done at the very beginning\n",
    "br = Browser()"
   ]
  },
  {
   "cell_type": "code",
   "execution_count": 9,
   "metadata": {
    "collapsed": false,
    "scrolled": true
   },
   "outputs": [
    {
     "name": "stdout",
     "output_type": "stream",
     "text": [
      "***************************************************************************\n",
      "Now scraping page 1 of 7 of the hotel results\n",
      "***************************************************************************\n"
     ]
    },
    {
     "ename": "error",
     "evalue": "[Errno 61] Connection refused",
     "output_type": "error",
     "traceback": [
      "\u001b[0;31m---------------------------------------------------------------------------\u001b[0m",
      "\u001b[0;31merror\u001b[0m                                     Traceback (most recent call last)",
      "\u001b[0;32m<ipython-input-9-02bf10283375>\u001b[0m in \u001b[0;36m<module>\u001b[0;34m()\u001b[0m\n\u001b[1;32m     86\u001b[0m     \u001b[0;32mwhile\u001b[0m \u001b[0mlen\u001b[0m\u001b[0;34m(\u001b[0m\u001b[0mlisting_div\u001b[0m\u001b[0;34m)\u001b[0m \u001b[0;34m<\u001b[0m \u001b[0;36m3\u001b[0m \u001b[0;32mor\u001b[0m \u001b[0;32mnot\u001b[0m \u001b[0mxsts1\u001b[0m \u001b[0;32mor\u001b[0m \u001b[0;32mnot\u001b[0m \u001b[0mxsts2\u001b[0m \u001b[0;32mor\u001b[0m \u001b[0;32mnot\u001b[0m \u001b[0mxsts3\u001b[0m\u001b[0;34m:\u001b[0m\u001b[0;34m\u001b[0m\u001b[0m\n\u001b[1;32m     87\u001b[0m         \u001b[0mtime\u001b[0m\u001b[0;34m.\u001b[0m\u001b[0msleep\u001b[0m\u001b[0;34m(\u001b[0m\u001b[0;36m5\u001b[0m\u001b[0;34m)\u001b[0m\u001b[0;34m\u001b[0m\u001b[0m\n\u001b[0;32m---> 88\u001b[0;31m         \u001b[0mlisting_div\u001b[0m \u001b[0;34m=\u001b[0m \u001b[0mbr\u001b[0m\u001b[0;34m.\u001b[0m\u001b[0mfind_by_xpath\u001b[0m\u001b[0;34m(\u001b[0m\u001b[0;34m'//*[contains(@class, \"hotels_lf_condensed\")]'\u001b[0m\u001b[0;34m)\u001b[0m\u001b[0;34m\u001b[0m\u001b[0m\n\u001b[0m\u001b[1;32m     89\u001b[0m         \u001b[0mxsts1\u001b[0m \u001b[0;34m=\u001b[0m \u001b[0mbr\u001b[0m\u001b[0;34m.\u001b[0m\u001b[0mis_element_present_by_xpath\u001b[0m\u001b[0;34m(\u001b[0m\u001b[0;34m'//*[contains(@class, \"photo_booking\")]'\u001b[0m\u001b[0;34m,\u001b[0m \u001b[0mwait_time\u001b[0m\u001b[0;34m=\u001b[0m\u001b[0;36m1\u001b[0m\u001b[0;34m)\u001b[0m\u001b[0;34m\u001b[0m\u001b[0m\n\u001b[1;32m     90\u001b[0m         \u001b[0mxsts2\u001b[0m \u001b[0;34m=\u001b[0m \u001b[0mbr\u001b[0m\u001b[0;34m.\u001b[0m\u001b[0mis_element_present_by_xpath\u001b[0m\u001b[0;34m(\u001b[0m\u001b[0;34m'//*[contains(@class, \"property_details\")]'\u001b[0m\u001b[0;34m,\u001b[0m \u001b[0mwait_time\u001b[0m\u001b[0;34m=\u001b[0m\u001b[0;36m1\u001b[0m\u001b[0;34m)\u001b[0m\u001b[0;34m\u001b[0m\u001b[0m\n",
      "\u001b[0;32m/Applications/anaconda/lib/python2.7/site-packages/splinter/driver/webdriver/__init__.pyc\u001b[0m in \u001b[0;36mfind_by_xpath\u001b[0;34m(self, xpath, original_find, original_query)\u001b[0m\n\u001b[1;32m    392\u001b[0m         return self.find_by(\n\u001b[1;32m    393\u001b[0m             \u001b[0mself\u001b[0m\u001b[0;34m.\u001b[0m\u001b[0mdriver\u001b[0m\u001b[0;34m.\u001b[0m\u001b[0mfind_elements_by_xpath\u001b[0m\u001b[0;34m,\u001b[0m \u001b[0mxpath\u001b[0m\u001b[0;34m,\u001b[0m \u001b[0moriginal_find\u001b[0m\u001b[0;34m=\u001b[0m\u001b[0moriginal_find\u001b[0m\u001b[0;34m,\u001b[0m\u001b[0;34m\u001b[0m\u001b[0m\n\u001b[0;32m--> 394\u001b[0;31m             original_query=original_query)\n\u001b[0m\u001b[1;32m    395\u001b[0m \u001b[0;34m\u001b[0m\u001b[0m\n\u001b[1;32m    396\u001b[0m     \u001b[0;32mdef\u001b[0m \u001b[0mfind_by_name\u001b[0m\u001b[0;34m(\u001b[0m\u001b[0mself\u001b[0m\u001b[0;34m,\u001b[0m \u001b[0mname\u001b[0m\u001b[0;34m)\u001b[0m\u001b[0;34m:\u001b[0m\u001b[0;34m\u001b[0m\u001b[0m\n",
      "\u001b[0;32m/Applications/anaconda/lib/python2.7/site-packages/splinter/driver/webdriver/__init__.pyc\u001b[0m in \u001b[0;36mfind_by\u001b[0;34m(self, finder, selector, original_find, original_query)\u001b[0m\n\u001b[1;32m    370\u001b[0m         \u001b[0;32mwhile\u001b[0m \u001b[0mtime\u001b[0m\u001b[0;34m.\u001b[0m\u001b[0mtime\u001b[0m\u001b[0;34m(\u001b[0m\u001b[0;34m)\u001b[0m \u001b[0;34m<\u001b[0m \u001b[0mend_time\u001b[0m\u001b[0;34m:\u001b[0m\u001b[0;34m\u001b[0m\u001b[0m\n\u001b[1;32m    371\u001b[0m             \u001b[0;32mtry\u001b[0m\u001b[0;34m:\u001b[0m\u001b[0;34m\u001b[0m\u001b[0m\n\u001b[0;32m--> 372\u001b[0;31m                 \u001b[0melements\u001b[0m \u001b[0;34m=\u001b[0m \u001b[0mfinder\u001b[0m\u001b[0;34m(\u001b[0m\u001b[0mselector\u001b[0m\u001b[0;34m)\u001b[0m\u001b[0;34m\u001b[0m\u001b[0m\n\u001b[0m\u001b[1;32m    373\u001b[0m                 \u001b[0;32mif\u001b[0m \u001b[0;32mnot\u001b[0m \u001b[0misinstance\u001b[0m\u001b[0;34m(\u001b[0m\u001b[0melements\u001b[0m\u001b[0;34m,\u001b[0m \u001b[0mlist\u001b[0m\u001b[0;34m)\u001b[0m\u001b[0;34m:\u001b[0m\u001b[0;34m\u001b[0m\u001b[0m\n\u001b[1;32m    374\u001b[0m                     \u001b[0melements\u001b[0m \u001b[0;34m=\u001b[0m \u001b[0;34m[\u001b[0m\u001b[0melements\u001b[0m\u001b[0;34m]\u001b[0m\u001b[0;34m\u001b[0m\u001b[0m\n",
      "\u001b[0;32m/Applications/anaconda/lib/python2.7/site-packages/selenium/webdriver/remote/webdriver.pyc\u001b[0m in \u001b[0;36mfind_elements_by_xpath\u001b[0;34m(self, xpath)\u001b[0m\n\u001b[1;32m    263\u001b[0m             \u001b[0mdriver\u001b[0m\u001b[0;34m.\u001b[0m\u001b[0mfind_elements_by_xpath\u001b[0m\u001b[0;34m(\u001b[0m\u001b[0;34m\"//div[contains(@class, 'foo')]\"\u001b[0m\u001b[0;34m)\u001b[0m\u001b[0;34m\u001b[0m\u001b[0m\n\u001b[1;32m    264\u001b[0m         \"\"\"\n\u001b[0;32m--> 265\u001b[0;31m         \u001b[0;32mreturn\u001b[0m \u001b[0mself\u001b[0m\u001b[0;34m.\u001b[0m\u001b[0mfind_elements\u001b[0m\u001b[0;34m(\u001b[0m\u001b[0mby\u001b[0m\u001b[0;34m=\u001b[0m\u001b[0mBy\u001b[0m\u001b[0;34m.\u001b[0m\u001b[0mXPATH\u001b[0m\u001b[0;34m,\u001b[0m \u001b[0mvalue\u001b[0m\u001b[0;34m=\u001b[0m\u001b[0mxpath\u001b[0m\u001b[0;34m)\u001b[0m\u001b[0;34m\u001b[0m\u001b[0m\n\u001b[0m\u001b[1;32m    266\u001b[0m \u001b[0;34m\u001b[0m\u001b[0m\n\u001b[1;32m    267\u001b[0m     \u001b[0;32mdef\u001b[0m \u001b[0mfind_element_by_link_text\u001b[0m\u001b[0;34m(\u001b[0m\u001b[0mself\u001b[0m\u001b[0;34m,\u001b[0m \u001b[0mlink_text\u001b[0m\u001b[0;34m)\u001b[0m\u001b[0;34m:\u001b[0m\u001b[0;34m\u001b[0m\u001b[0m\n",
      "\u001b[0;32m/Applications/anaconda/lib/python2.7/site-packages/selenium/webdriver/remote/webdriver.pyc\u001b[0m in \u001b[0;36mfind_elements\u001b[0;34m(self, by, value)\u001b[0m\n\u001b[1;32m    732\u001b[0m \u001b[0;34m\u001b[0m\u001b[0m\n\u001b[1;32m    733\u001b[0m         return self.execute(Command.FIND_ELEMENTS,\n\u001b[0;32m--> 734\u001b[0;31m                              {'using': by, 'value': value})['value']\n\u001b[0m\u001b[1;32m    735\u001b[0m     \u001b[0;34m@\u001b[0m\u001b[0mproperty\u001b[0m\u001b[0;34m\u001b[0m\u001b[0m\n\u001b[1;32m    736\u001b[0m     \u001b[0;32mdef\u001b[0m \u001b[0mdesired_capabilities\u001b[0m\u001b[0;34m(\u001b[0m\u001b[0mself\u001b[0m\u001b[0;34m)\u001b[0m\u001b[0;34m:\u001b[0m\u001b[0;34m\u001b[0m\u001b[0m\n",
      "\u001b[0;32m/Applications/anaconda/lib/python2.7/site-packages/selenium/webdriver/remote/webdriver.pyc\u001b[0m in \u001b[0;36mexecute\u001b[0;34m(self, driver_command, params)\u001b[0m\n\u001b[1;32m    192\u001b[0m \u001b[0;34m\u001b[0m\u001b[0m\n\u001b[1;32m    193\u001b[0m         \u001b[0mparams\u001b[0m \u001b[0;34m=\u001b[0m \u001b[0mself\u001b[0m\u001b[0;34m.\u001b[0m\u001b[0m_wrap_value\u001b[0m\u001b[0;34m(\u001b[0m\u001b[0mparams\u001b[0m\u001b[0;34m)\u001b[0m\u001b[0;34m\u001b[0m\u001b[0m\n\u001b[0;32m--> 194\u001b[0;31m         \u001b[0mresponse\u001b[0m \u001b[0;34m=\u001b[0m \u001b[0mself\u001b[0m\u001b[0;34m.\u001b[0m\u001b[0mcommand_executor\u001b[0m\u001b[0;34m.\u001b[0m\u001b[0mexecute\u001b[0m\u001b[0;34m(\u001b[0m\u001b[0mdriver_command\u001b[0m\u001b[0;34m,\u001b[0m \u001b[0mparams\u001b[0m\u001b[0;34m)\u001b[0m\u001b[0;34m\u001b[0m\u001b[0m\n\u001b[0m\u001b[1;32m    195\u001b[0m         \u001b[0;32mif\u001b[0m \u001b[0mresponse\u001b[0m\u001b[0;34m:\u001b[0m\u001b[0;34m\u001b[0m\u001b[0m\n\u001b[1;32m    196\u001b[0m             \u001b[0mself\u001b[0m\u001b[0;34m.\u001b[0m\u001b[0merror_handler\u001b[0m\u001b[0;34m.\u001b[0m\u001b[0mcheck_response\u001b[0m\u001b[0;34m(\u001b[0m\u001b[0mresponse\u001b[0m\u001b[0;34m)\u001b[0m\u001b[0;34m\u001b[0m\u001b[0m\n",
      "\u001b[0;32m/Applications/anaconda/lib/python2.7/site-packages/selenium/webdriver/remote/remote_connection.pyc\u001b[0m in \u001b[0;36mexecute\u001b[0;34m(self, command, params)\u001b[0m\n\u001b[1;32m    393\u001b[0m         \u001b[0mpath\u001b[0m \u001b[0;34m=\u001b[0m \u001b[0mstring\u001b[0m\u001b[0;34m.\u001b[0m\u001b[0mTemplate\u001b[0m\u001b[0;34m(\u001b[0m\u001b[0mcommand_info\u001b[0m\u001b[0;34m[\u001b[0m\u001b[0;36m1\u001b[0m\u001b[0;34m]\u001b[0m\u001b[0;34m)\u001b[0m\u001b[0;34m.\u001b[0m\u001b[0msubstitute\u001b[0m\u001b[0;34m(\u001b[0m\u001b[0mparams\u001b[0m\u001b[0;34m)\u001b[0m\u001b[0;34m\u001b[0m\u001b[0m\n\u001b[1;32m    394\u001b[0m         \u001b[0murl\u001b[0m \u001b[0;34m=\u001b[0m \u001b[0;34m'%s%s'\u001b[0m \u001b[0;34m%\u001b[0m \u001b[0;34m(\u001b[0m\u001b[0mself\u001b[0m\u001b[0;34m.\u001b[0m\u001b[0m_url\u001b[0m\u001b[0;34m,\u001b[0m \u001b[0mpath\u001b[0m\u001b[0;34m)\u001b[0m\u001b[0;34m\u001b[0m\u001b[0m\n\u001b[0;32m--> 395\u001b[0;31m         \u001b[0;32mreturn\u001b[0m \u001b[0mself\u001b[0m\u001b[0;34m.\u001b[0m\u001b[0m_request\u001b[0m\u001b[0;34m(\u001b[0m\u001b[0mcommand_info\u001b[0m\u001b[0;34m[\u001b[0m\u001b[0;36m0\u001b[0m\u001b[0;34m]\u001b[0m\u001b[0;34m,\u001b[0m \u001b[0murl\u001b[0m\u001b[0;34m,\u001b[0m \u001b[0mbody\u001b[0m\u001b[0;34m=\u001b[0m\u001b[0mdata\u001b[0m\u001b[0;34m)\u001b[0m\u001b[0;34m\u001b[0m\u001b[0m\n\u001b[0m\u001b[1;32m    396\u001b[0m \u001b[0;34m\u001b[0m\u001b[0m\n\u001b[1;32m    397\u001b[0m     \u001b[0;32mdef\u001b[0m \u001b[0m_request\u001b[0m\u001b[0;34m(\u001b[0m\u001b[0mself\u001b[0m\u001b[0;34m,\u001b[0m \u001b[0mmethod\u001b[0m\u001b[0;34m,\u001b[0m \u001b[0murl\u001b[0m\u001b[0;34m,\u001b[0m \u001b[0mbody\u001b[0m\u001b[0;34m=\u001b[0m\u001b[0mNone\u001b[0m\u001b[0;34m)\u001b[0m\u001b[0;34m:\u001b[0m\u001b[0;34m\u001b[0m\u001b[0m\n",
      "\u001b[0;32m/Applications/anaconda/lib/python2.7/site-packages/selenium/webdriver/remote/remote_connection.pyc\u001b[0m in \u001b[0;36m_request\u001b[0;34m(self, method, url, body)\u001b[0m\n\u001b[1;32m    423\u001b[0m                 \u001b[0mbody\u001b[0m \u001b[0;34m=\u001b[0m \u001b[0mNone\u001b[0m\u001b[0;34m\u001b[0m\u001b[0m\n\u001b[1;32m    424\u001b[0m             \u001b[0;32mtry\u001b[0m\u001b[0;34m:\u001b[0m\u001b[0;34m\u001b[0m\u001b[0m\n\u001b[0;32m--> 425\u001b[0;31m                 \u001b[0mself\u001b[0m\u001b[0;34m.\u001b[0m\u001b[0m_conn\u001b[0m\u001b[0;34m.\u001b[0m\u001b[0mrequest\u001b[0m\u001b[0;34m(\u001b[0m\u001b[0mmethod\u001b[0m\u001b[0;34m,\u001b[0m \u001b[0mparsed_url\u001b[0m\u001b[0;34m.\u001b[0m\u001b[0mpath\u001b[0m\u001b[0;34m,\u001b[0m \u001b[0mbody\u001b[0m\u001b[0;34m,\u001b[0m \u001b[0mheaders\u001b[0m\u001b[0;34m)\u001b[0m\u001b[0;34m\u001b[0m\u001b[0m\n\u001b[0m\u001b[1;32m    426\u001b[0m                 \u001b[0mresp\u001b[0m \u001b[0;34m=\u001b[0m \u001b[0mself\u001b[0m\u001b[0;34m.\u001b[0m\u001b[0m_conn\u001b[0m\u001b[0;34m.\u001b[0m\u001b[0mgetresponse\u001b[0m\u001b[0;34m(\u001b[0m\u001b[0;34m)\u001b[0m\u001b[0;34m\u001b[0m\u001b[0m\n\u001b[1;32m    427\u001b[0m             \u001b[0;32mexcept\u001b[0m \u001b[0;34m(\u001b[0m\u001b[0mhttplib\u001b[0m\u001b[0;34m.\u001b[0m\u001b[0mHTTPException\u001b[0m\u001b[0;34m,\u001b[0m \u001b[0msocket\u001b[0m\u001b[0;34m.\u001b[0m\u001b[0merror\u001b[0m\u001b[0;34m)\u001b[0m\u001b[0;34m:\u001b[0m\u001b[0;34m\u001b[0m\u001b[0m\n",
      "\u001b[0;32m/Applications/anaconda/lib/python2.7/httplib.pyc\u001b[0m in \u001b[0;36mrequest\u001b[0;34m(self, method, url, body, headers)\u001b[0m\n\u001b[1;32m   1051\u001b[0m     \u001b[0;32mdef\u001b[0m \u001b[0mrequest\u001b[0m\u001b[0;34m(\u001b[0m\u001b[0mself\u001b[0m\u001b[0;34m,\u001b[0m \u001b[0mmethod\u001b[0m\u001b[0;34m,\u001b[0m \u001b[0murl\u001b[0m\u001b[0;34m,\u001b[0m \u001b[0mbody\u001b[0m\u001b[0;34m=\u001b[0m\u001b[0mNone\u001b[0m\u001b[0;34m,\u001b[0m \u001b[0mheaders\u001b[0m\u001b[0;34m=\u001b[0m\u001b[0;34m{\u001b[0m\u001b[0;34m}\u001b[0m\u001b[0;34m)\u001b[0m\u001b[0;34m:\u001b[0m\u001b[0;34m\u001b[0m\u001b[0m\n\u001b[1;32m   1052\u001b[0m         \u001b[0;34m\"\"\"Send a complete request to the server.\"\"\"\u001b[0m\u001b[0;34m\u001b[0m\u001b[0m\n\u001b[0;32m-> 1053\u001b[0;31m         \u001b[0mself\u001b[0m\u001b[0;34m.\u001b[0m\u001b[0m_send_request\u001b[0m\u001b[0;34m(\u001b[0m\u001b[0mmethod\u001b[0m\u001b[0;34m,\u001b[0m \u001b[0murl\u001b[0m\u001b[0;34m,\u001b[0m \u001b[0mbody\u001b[0m\u001b[0;34m,\u001b[0m \u001b[0mheaders\u001b[0m\u001b[0;34m)\u001b[0m\u001b[0;34m\u001b[0m\u001b[0m\n\u001b[0m\u001b[1;32m   1054\u001b[0m \u001b[0;34m\u001b[0m\u001b[0m\n\u001b[1;32m   1055\u001b[0m     \u001b[0;32mdef\u001b[0m \u001b[0m_set_content_length\u001b[0m\u001b[0;34m(\u001b[0m\u001b[0mself\u001b[0m\u001b[0;34m,\u001b[0m \u001b[0mbody\u001b[0m\u001b[0;34m,\u001b[0m \u001b[0mmethod\u001b[0m\u001b[0;34m)\u001b[0m\u001b[0;34m:\u001b[0m\u001b[0;34m\u001b[0m\u001b[0m\n",
      "\u001b[0;32m/Applications/anaconda/lib/python2.7/httplib.pyc\u001b[0m in \u001b[0;36m_send_request\u001b[0;34m(self, method, url, body, headers)\u001b[0m\n\u001b[1;32m   1091\u001b[0m         \u001b[0;32mfor\u001b[0m \u001b[0mhdr\u001b[0m\u001b[0;34m,\u001b[0m \u001b[0mvalue\u001b[0m \u001b[0;32min\u001b[0m \u001b[0mheaders\u001b[0m\u001b[0;34m.\u001b[0m\u001b[0miteritems\u001b[0m\u001b[0;34m(\u001b[0m\u001b[0;34m)\u001b[0m\u001b[0;34m:\u001b[0m\u001b[0;34m\u001b[0m\u001b[0m\n\u001b[1;32m   1092\u001b[0m             \u001b[0mself\u001b[0m\u001b[0;34m.\u001b[0m\u001b[0mputheader\u001b[0m\u001b[0;34m(\u001b[0m\u001b[0mhdr\u001b[0m\u001b[0;34m,\u001b[0m \u001b[0mvalue\u001b[0m\u001b[0;34m)\u001b[0m\u001b[0;34m\u001b[0m\u001b[0m\n\u001b[0;32m-> 1093\u001b[0;31m         \u001b[0mself\u001b[0m\u001b[0;34m.\u001b[0m\u001b[0mendheaders\u001b[0m\u001b[0;34m(\u001b[0m\u001b[0mbody\u001b[0m\u001b[0;34m)\u001b[0m\u001b[0;34m\u001b[0m\u001b[0m\n\u001b[0m\u001b[1;32m   1094\u001b[0m \u001b[0;34m\u001b[0m\u001b[0m\n\u001b[1;32m   1095\u001b[0m     \u001b[0;32mdef\u001b[0m \u001b[0mgetresponse\u001b[0m\u001b[0;34m(\u001b[0m\u001b[0mself\u001b[0m\u001b[0;34m,\u001b[0m \u001b[0mbuffering\u001b[0m\u001b[0;34m=\u001b[0m\u001b[0mFalse\u001b[0m\u001b[0;34m)\u001b[0m\u001b[0;34m:\u001b[0m\u001b[0;34m\u001b[0m\u001b[0m\n",
      "\u001b[0;32m/Applications/anaconda/lib/python2.7/httplib.pyc\u001b[0m in \u001b[0;36mendheaders\u001b[0;34m(self, message_body)\u001b[0m\n\u001b[1;32m   1047\u001b[0m         \u001b[0;32melse\u001b[0m\u001b[0;34m:\u001b[0m\u001b[0;34m\u001b[0m\u001b[0m\n\u001b[1;32m   1048\u001b[0m             \u001b[0;32mraise\u001b[0m \u001b[0mCannotSendHeader\u001b[0m\u001b[0;34m(\u001b[0m\u001b[0;34m)\u001b[0m\u001b[0;34m\u001b[0m\u001b[0m\n\u001b[0;32m-> 1049\u001b[0;31m         \u001b[0mself\u001b[0m\u001b[0;34m.\u001b[0m\u001b[0m_send_output\u001b[0m\u001b[0;34m(\u001b[0m\u001b[0mmessage_body\u001b[0m\u001b[0;34m)\u001b[0m\u001b[0;34m\u001b[0m\u001b[0m\n\u001b[0m\u001b[1;32m   1050\u001b[0m \u001b[0;34m\u001b[0m\u001b[0m\n\u001b[1;32m   1051\u001b[0m     \u001b[0;32mdef\u001b[0m \u001b[0mrequest\u001b[0m\u001b[0;34m(\u001b[0m\u001b[0mself\u001b[0m\u001b[0;34m,\u001b[0m \u001b[0mmethod\u001b[0m\u001b[0;34m,\u001b[0m \u001b[0murl\u001b[0m\u001b[0;34m,\u001b[0m \u001b[0mbody\u001b[0m\u001b[0;34m=\u001b[0m\u001b[0mNone\u001b[0m\u001b[0;34m,\u001b[0m \u001b[0mheaders\u001b[0m\u001b[0;34m=\u001b[0m\u001b[0;34m{\u001b[0m\u001b[0;34m}\u001b[0m\u001b[0;34m)\u001b[0m\u001b[0;34m:\u001b[0m\u001b[0;34m\u001b[0m\u001b[0m\n",
      "\u001b[0;32m/Applications/anaconda/lib/python2.7/httplib.pyc\u001b[0m in \u001b[0;36m_send_output\u001b[0;34m(self, message_body)\u001b[0m\n\u001b[1;32m    891\u001b[0m             \u001b[0mmsg\u001b[0m \u001b[0;34m+=\u001b[0m \u001b[0mmessage_body\u001b[0m\u001b[0;34m\u001b[0m\u001b[0m\n\u001b[1;32m    892\u001b[0m             \u001b[0mmessage_body\u001b[0m \u001b[0;34m=\u001b[0m \u001b[0mNone\u001b[0m\u001b[0;34m\u001b[0m\u001b[0m\n\u001b[0;32m--> 893\u001b[0;31m         \u001b[0mself\u001b[0m\u001b[0;34m.\u001b[0m\u001b[0msend\u001b[0m\u001b[0;34m(\u001b[0m\u001b[0mmsg\u001b[0m\u001b[0;34m)\u001b[0m\u001b[0;34m\u001b[0m\u001b[0m\n\u001b[0m\u001b[1;32m    894\u001b[0m         \u001b[0;32mif\u001b[0m \u001b[0mmessage_body\u001b[0m \u001b[0;32mis\u001b[0m \u001b[0;32mnot\u001b[0m \u001b[0mNone\u001b[0m\u001b[0;34m:\u001b[0m\u001b[0;34m\u001b[0m\u001b[0m\n\u001b[1;32m    895\u001b[0m             \u001b[0;31m#message_body was not a string (i.e. it is a file) and\u001b[0m\u001b[0;34m\u001b[0m\u001b[0;34m\u001b[0m\u001b[0m\n",
      "\u001b[0;32m/Applications/anaconda/lib/python2.7/httplib.pyc\u001b[0m in \u001b[0;36msend\u001b[0;34m(self, data)\u001b[0m\n\u001b[1;32m    853\u001b[0m         \u001b[0;32mif\u001b[0m \u001b[0mself\u001b[0m\u001b[0;34m.\u001b[0m\u001b[0msock\u001b[0m \u001b[0;32mis\u001b[0m \u001b[0mNone\u001b[0m\u001b[0;34m:\u001b[0m\u001b[0;34m\u001b[0m\u001b[0m\n\u001b[1;32m    854\u001b[0m             \u001b[0;32mif\u001b[0m \u001b[0mself\u001b[0m\u001b[0;34m.\u001b[0m\u001b[0mauto_open\u001b[0m\u001b[0;34m:\u001b[0m\u001b[0;34m\u001b[0m\u001b[0m\n\u001b[0;32m--> 855\u001b[0;31m                 \u001b[0mself\u001b[0m\u001b[0;34m.\u001b[0m\u001b[0mconnect\u001b[0m\u001b[0;34m(\u001b[0m\u001b[0;34m)\u001b[0m\u001b[0;34m\u001b[0m\u001b[0m\n\u001b[0m\u001b[1;32m    856\u001b[0m             \u001b[0;32melse\u001b[0m\u001b[0;34m:\u001b[0m\u001b[0;34m\u001b[0m\u001b[0m\n\u001b[1;32m    857\u001b[0m                 \u001b[0;32mraise\u001b[0m \u001b[0mNotConnected\u001b[0m\u001b[0;34m(\u001b[0m\u001b[0;34m)\u001b[0m\u001b[0;34m\u001b[0m\u001b[0m\n",
      "\u001b[0;32m/Applications/anaconda/lib/python2.7/httplib.pyc\u001b[0m in \u001b[0;36mconnect\u001b[0;34m(self)\u001b[0m\n\u001b[1;32m    830\u001b[0m         \u001b[0;34m\"\"\"Connect to the host and port specified in __init__.\"\"\"\u001b[0m\u001b[0;34m\u001b[0m\u001b[0m\n\u001b[1;32m    831\u001b[0m         self.sock = self._create_connection((self.host,self.port),\n\u001b[0;32m--> 832\u001b[0;31m                                            self.timeout, self.source_address)\n\u001b[0m\u001b[1;32m    833\u001b[0m \u001b[0;34m\u001b[0m\u001b[0m\n\u001b[1;32m    834\u001b[0m         \u001b[0;32mif\u001b[0m \u001b[0mself\u001b[0m\u001b[0;34m.\u001b[0m\u001b[0m_tunnel_host\u001b[0m\u001b[0;34m:\u001b[0m\u001b[0;34m\u001b[0m\u001b[0m\n",
      "\u001b[0;32m/Applications/anaconda/lib/python2.7/socket.pyc\u001b[0m in \u001b[0;36mcreate_connection\u001b[0;34m(address, timeout, source_address)\u001b[0m\n\u001b[1;32m    573\u001b[0m \u001b[0;34m\u001b[0m\u001b[0m\n\u001b[1;32m    574\u001b[0m     \u001b[0;32mif\u001b[0m \u001b[0merr\u001b[0m \u001b[0;32mis\u001b[0m \u001b[0;32mnot\u001b[0m \u001b[0mNone\u001b[0m\u001b[0;34m:\u001b[0m\u001b[0;34m\u001b[0m\u001b[0m\n\u001b[0;32m--> 575\u001b[0;31m         \u001b[0;32mraise\u001b[0m \u001b[0merr\u001b[0m\u001b[0;34m\u001b[0m\u001b[0m\n\u001b[0m\u001b[1;32m    576\u001b[0m     \u001b[0;32melse\u001b[0m\u001b[0;34m:\u001b[0m\u001b[0;34m\u001b[0m\u001b[0m\n\u001b[1;32m    577\u001b[0m         \u001b[0;32mraise\u001b[0m \u001b[0merror\u001b[0m\u001b[0;34m(\u001b[0m\u001b[0;34m\"getaddrinfo returns an empty list\"\u001b[0m\u001b[0;34m)\u001b[0m\u001b[0;34m\u001b[0m\u001b[0m\n",
      "\u001b[0;31merror\u001b[0m: [Errno 61] Connection refused"
     ]
    }
   ],
   "source": [
    "# number of pages of hotel results to scrape\n",
    "max_pages = 7\n",
    "\n",
    "url = \"http://www.tripadvisor.com/Hotels-g31310-Phoenix_Arizona-Hotels.html\"\n",
    "\n",
    "#####################################################\n",
    "## do not edit below this line\n",
    "#####################################################\n",
    "# more_pages is used to keep track if there is more\n",
    "# than one page of hotel results for the given city\n",
    "more_pages = True\n",
    "\n",
    "# scraping will start on page 1 of the hotel results\n",
    "page = 1\n",
    "\n",
    "# open the URL in a browser object:\n",
    "br.visit(url)\n",
    "\n",
    "# find the div to enter the date range. This is needed to get pricing info:\n",
    "date_bar = br.find_by_xpath('//*[contains(@class, \"meta_date_wrapper\")]')\n",
    "\n",
    "# find the check in calendar span:\n",
    "cin_btn = date_bar.find_by_xpath('span[contains(@class, \"meta_date_field   check_in\")]/span')[0]\n",
    "\n",
    "# now click the check_in span to activate it\n",
    "cin_btn.click()\n",
    "\n",
    "# select the right calendar div (next month)\n",
    "rightcal = br.find_by_xpath('//div[contains(@class, \"month\")]')[1]\n",
    "\n",
    "# now select the third Friday of next month as the check in date\n",
    "fri_btn = rightcal.find_by_xpath('table/tbody/tr[3]/td[6]/div')\n",
    "\n",
    "# and click it\n",
    "fri_btn.click()\n",
    "\n",
    "# now choose the next day (saturday) as the check out date\n",
    "cout_btn = date_bar.find_by_xpath('span[contains(@class, \"meta_date_field   check_out\")]/span')[0]\n",
    "cout_btn.click()\n",
    "leftcal = br.find_by_xpath('//div[contains(@class, \"month\")]')[0]\n",
    "sat_btn = leftcal.find_by_xpath('table/tbody/tr[3]/td[7]/div')\n",
    "sat_btn.click()\n",
    "\n",
    "# wait a few seconds for ta to retrieve prices\n",
    "time.sleep(5)\n",
    "\n",
    "# create a pandas dataframe that will be used for writing\n",
    "# the results to the DB:\n",
    "\n",
    "columns = ['hotel_id',\n",
    "           'hotel_url',\n",
    "           'hotel_img_url',\n",
    "           'hotel_name',\n",
    "           'hotel_address',\n",
    "           'hotel_city',\n",
    "           'hotel_state',\n",
    "           'hotel_rating',\n",
    "           'hotel_latitude',\n",
    "           'hotel_longitude',\n",
    "           'hotel_price',\n",
    "           'business_id',\n",
    "           'review_count',\n",
    "           'dog_review_count',\n",
    "           ]\n",
    "\n",
    "bigdf = pd.DataFrame(columns=columns)\n",
    "\n",
    "\n",
    "# create some lists to fill w. the results from each page\n",
    "hotel_names = []\n",
    "links = []\n",
    "img_url = []\n",
    "hotel_price = []\n",
    "business_id = []\n",
    "\n",
    "while more_pages and page <= max_pages:\n",
    "    print('*'*75)\n",
    "    print('Now scraping page {} of {} of the hotel results'.format(page, max_pages))\n",
    "    print('*'*75)\n",
    "    # get all the review divs\n",
    "    time.sleep(5)\n",
    "    listing_div = br.find_by_xpath('//*[contains(@class, \"hotels_lf_condensed\")]')\n",
    "    xsts1 = br.is_element_present_by_xpath('//*[contains(@class, \"photo_booking\")]', wait_time=1)\n",
    "    xsts2 = br.is_element_present_by_xpath('//*[contains(@class, \"property_details\")]', wait_time=1)\n",
    "    xsts3 = br.is_element_present_by_xpath('div[contains(@class, \"prw_rup\")]/div/div/div/div[@class=\"headerContents\"]/div[contains(@class, \"price\")]', wait_time=1)\n",
    "    while len(listing_div) < 3 or not xsts1 or not xsts2 or not xsts3:\n",
    "        time.sleep(5)\n",
    "        listing_div = br.find_by_xpath('//*[contains(@class, \"hotels_lf_condensed\")]')\n",
    "        xsts1 = br.is_element_present_by_xpath('//*[contains(@class, \"photo_booking\")]', wait_time=1)\n",
    "        xsts2 = br.is_element_present_by_xpath('//*[contains(@class, \"property_details\")]', wait_time=1)\n",
    "        xsts3 = br.is_element_present_by_xpath('div[contains(@class, \"prw_rup\")]/div/div/div/div[@class=\"headerContents\"]/div[contains(@class, \"price\")]', wait_time=1)\n",
    "    while br.is_element_not_present_by_xpath('//*[@class=\"prw_rup prw_meta_short_cell_sbs_meta\"]'):\n",
    "        time.sleep(5)\n",
    "        \n",
    "    print('Number of hotel listings on this page: {}'.format(len(listing_div)))\n",
    "\n",
    "        \n",
    "    df = pd.DataFrame(columns=columns)\n",
    "\n",
    "    for listing in listing_div:\n",
    "        biz_id = re.findall('hotel_(\\d+)', listing['id'])\n",
    "        if len(biz_id) > 0:\n",
    "            biz_id = biz_id[0]\n",
    "        else:\n",
    "            biz_id = None\n",
    "        business_id.append(biz_id)\n",
    "        print('business_id: {}'.format(biz_id))\n",
    "        prop = listing.find_by_xpath('div/div/div/div[contains(@class, \"property_details\")]')\n",
    "        title = prop.find_by_xpath('div/div[@class=\"listing_title\"]')\n",
    "        print(title.text)\n",
    "        hotel_names.append(title.text)\n",
    "        print(title.find_by_xpath('a')['href'])\n",
    "        links.append(title.find_by_xpath('a')['href'])\n",
    "        hotel_img = prop.find_by_xpath('div[@class=\"photo_booking\"]/div/div/a/img')['src']\n",
    "        img_url.append(hotel_img)\n",
    "        print('Hotel img URL: {}'.format(hotel_img))\n",
    "        price_text = prop.find_by_xpath('div[contains(@class, \"prw_rup\")]/div/div/div/div[@class=\"headerContents\"]/div[contains(@class, \"price\")]').text\n",
    "        price = re.findall('(\\d+)', price_text)[0]\n",
    "        hotel_price.append(price)\n",
    "        print('Price: ${}'.format(price))\n",
    "        print('*'*50)\n",
    "    df['hotel_name'] = hotel_names\n",
    "    df['hotel_price'] = hotel_price\n",
    "    df['hotel_img_url'] = img_url\n",
    "    df['hotel_url'] = links\n",
    "    df['business_id'] = business_id\n",
    "    bigdf = bigdf.append(df)\n",
    "    \n",
    "    # update the page number\n",
    "    page += 1\n",
    "    \n",
    "    # if more pages are desired, look for a \"next\" button\n",
    "    if page <= max_pages:\n",
    "        nxt_btn = br.find_by_xpath('//div[contains(@class, \"deckTools\")]/div[contains(@class, \"unified\")]/a[contains(@class, \"next\")]')\n",
    "        # if there is a next button, click it\n",
    "        # else exit the while loop\n",
    "        if len(nxt_btn) > 0:\n",
    "            nxt_btn.click()\n",
    "        else:\n",
    "            more_pages = False"
   ]
  },
  {
   "cell_type": "code",
   "execution_count": 5,
   "metadata": {
    "collapsed": false
   },
   "outputs": [
    {
     "data": {
      "text/plain": [
       "True"
      ]
     },
     "execution_count": 5,
     "metadata": {},
     "output_type": "execute_result"
    }
   ],
   "source": [
    "br.is_element_present_by_xpath('//*[contains(@class, \"hotels_lf_condensed\")]', wait_time=1)"
   ]
  },
  {
   "cell_type": "code",
   "execution_count": 26,
   "metadata": {
    "collapsed": false
   },
   "outputs": [
    {
     "data": {
      "text/plain": [
       "62"
      ]
     },
     "execution_count": 26,
     "metadata": {},
     "output_type": "execute_result"
    }
   ],
   "source": [
    "len(hotel_names)"
   ]
  },
  {
   "cell_type": "code",
   "execution_count": 28,
   "metadata": {
    "collapsed": false,
    "scrolled": true
   },
   "outputs": [
    {
     "data": {
      "text/html": [
       "<div style=\"max-height:1000px;max-width:1500px;overflow:auto;\">\n",
       "<table border=\"1\" class=\"dataframe\">\n",
       "  <thead>\n",
       "    <tr style=\"text-align: right;\">\n",
       "      <th></th>\n",
       "      <th>hotel_id</th>\n",
       "      <th>hotel_url</th>\n",
       "      <th>hotel_img_url</th>\n",
       "      <th>hotel_name</th>\n",
       "      <th>hotel_address</th>\n",
       "      <th>hotel_city</th>\n",
       "      <th>hotel_state</th>\n",
       "      <th>hotel_rating</th>\n",
       "      <th>hotel_latitude</th>\n",
       "      <th>hotel_longitude</th>\n",
       "      <th>hotel_price</th>\n",
       "      <th>business_id</th>\n",
       "      <th>review_count</th>\n",
       "      <th>dog_review_count</th>\n",
       "    </tr>\n",
       "  </thead>\n",
       "  <tbody>\n",
       "    <tr>\n",
       "      <th>0</th>\n",
       "      <td>NaN</td>\n",
       "      <td>http://www.tripadvisor.com/Hotel_Review-g31310...</td>\n",
       "      <td>http://media-cdn.tripadvisor.com/media/Provide...</td>\n",
       "      <td>Holiday Inn Phoenix-West</td>\n",
       "      <td>NaN</td>\n",
       "      <td>NaN</td>\n",
       "      <td>NaN</td>\n",
       "      <td>NaN</td>\n",
       "      <td>NaN</td>\n",
       "      <td>NaN</td>\n",
       "      <td>199</td>\n",
       "      <td>[]</td>\n",
       "      <td>NaN</td>\n",
       "      <td>NaN</td>\n",
       "    </tr>\n",
       "    <tr>\n",
       "      <th>1</th>\n",
       "      <td>NaN</td>\n",
       "      <td>http://www.tripadvisor.com/Hotel_Review-g31310...</td>\n",
       "      <td>http://media-cdn.tripadvisor.com/media/photo-f...</td>\n",
       "      <td>Arizona Grand Resort &amp; Spa</td>\n",
       "      <td>NaN</td>\n",
       "      <td>NaN</td>\n",
       "      <td>NaN</td>\n",
       "      <td>NaN</td>\n",
       "      <td>NaN</td>\n",
       "      <td>NaN</td>\n",
       "      <td>229</td>\n",
       "      <td>[112178]</td>\n",
       "      <td>NaN</td>\n",
       "      <td>NaN</td>\n",
       "    </tr>\n",
       "    <tr>\n",
       "      <th>2</th>\n",
       "      <td>NaN</td>\n",
       "      <td>http://www.tripadvisor.com/Hotel_Review-g31310...</td>\n",
       "      <td>http://media-cdn.tripadvisor.com/media/Provide...</td>\n",
       "      <td>Pointe Hilton Squaw Peak Resort</td>\n",
       "      <td>NaN</td>\n",
       "      <td>NaN</td>\n",
       "      <td>NaN</td>\n",
       "      <td>NaN</td>\n",
       "      <td>NaN</td>\n",
       "      <td>NaN</td>\n",
       "      <td>169</td>\n",
       "      <td>[73957]</td>\n",
       "      <td>NaN</td>\n",
       "      <td>NaN</td>\n",
       "    </tr>\n",
       "    <tr>\n",
       "      <th>3</th>\n",
       "      <td>NaN</td>\n",
       "      <td>http://www.tripadvisor.com/Hotel_Review-g31310...</td>\n",
       "      <td>http://media-cdn.tripadvisor.com/media/photo-s...</td>\n",
       "      <td>Arizona Biltmore, A Waldorf Astoria Resort</td>\n",
       "      <td>NaN</td>\n",
       "      <td>NaN</td>\n",
       "      <td>NaN</td>\n",
       "      <td>NaN</td>\n",
       "      <td>NaN</td>\n",
       "      <td>NaN</td>\n",
       "      <td>329</td>\n",
       "      <td>[115484]</td>\n",
       "      <td>NaN</td>\n",
       "      <td>NaN</td>\n",
       "    </tr>\n",
       "    <tr>\n",
       "      <th>4</th>\n",
       "      <td>NaN</td>\n",
       "      <td>http://www.tripadvisor.com/Hotel_Review-g31310...</td>\n",
       "      <td>http://media-cdn.tripadvisor.com/media/photo-s...</td>\n",
       "      <td>Royal Palms Resort and Spa</td>\n",
       "      <td>NaN</td>\n",
       "      <td>NaN</td>\n",
       "      <td>NaN</td>\n",
       "      <td>NaN</td>\n",
       "      <td>NaN</td>\n",
       "      <td>NaN</td>\n",
       "      <td>429</td>\n",
       "      <td>[73943]</td>\n",
       "      <td>NaN</td>\n",
       "      <td>NaN</td>\n",
       "    </tr>\n",
       "  </tbody>\n",
       "</table>\n",
       "</div>"
      ],
      "text/plain": [
       "  hotel_id                                          hotel_url  \\\n",
       "0      NaN  http://www.tripadvisor.com/Hotel_Review-g31310...   \n",
       "1      NaN  http://www.tripadvisor.com/Hotel_Review-g31310...   \n",
       "2      NaN  http://www.tripadvisor.com/Hotel_Review-g31310...   \n",
       "3      NaN  http://www.tripadvisor.com/Hotel_Review-g31310...   \n",
       "4      NaN  http://www.tripadvisor.com/Hotel_Review-g31310...   \n",
       "\n",
       "                                       hotel_img_url  \\\n",
       "0  http://media-cdn.tripadvisor.com/media/Provide...   \n",
       "1  http://media-cdn.tripadvisor.com/media/photo-f...   \n",
       "2  http://media-cdn.tripadvisor.com/media/Provide...   \n",
       "3  http://media-cdn.tripadvisor.com/media/photo-s...   \n",
       "4  http://media-cdn.tripadvisor.com/media/photo-s...   \n",
       "\n",
       "                                   hotel_name hotel_address hotel_city  \\\n",
       "0                    Holiday Inn Phoenix-West           NaN        NaN   \n",
       "1                  Arizona Grand Resort & Spa           NaN        NaN   \n",
       "2             Pointe Hilton Squaw Peak Resort           NaN        NaN   \n",
       "3  Arizona Biltmore, A Waldorf Astoria Resort           NaN        NaN   \n",
       "4                  Royal Palms Resort and Spa           NaN        NaN   \n",
       "\n",
       "  hotel_state hotel_rating hotel_latitude hotel_longitude hotel_price  \\\n",
       "0         NaN          NaN            NaN             NaN         199   \n",
       "1         NaN          NaN            NaN             NaN         229   \n",
       "2         NaN          NaN            NaN             NaN         169   \n",
       "3         NaN          NaN            NaN             NaN         329   \n",
       "4         NaN          NaN            NaN             NaN         429   \n",
       "\n",
       "  business_id review_count dog_review_count  \n",
       "0          []          NaN              NaN  \n",
       "1    [112178]          NaN              NaN  \n",
       "2     [73957]          NaN              NaN  \n",
       "3    [115484]          NaN              NaN  \n",
       "4     [73943]          NaN              NaN  "
      ]
     },
     "execution_count": 28,
     "metadata": {},
     "output_type": "execute_result"
    }
   ],
   "source": [
    "bigdf.head(5)"
   ]
  },
  {
   "cell_type": "markdown",
   "metadata": {},
   "source": [
    "## Now to scrape the reviews from a specific hotel"
   ]
  },
  {
   "cell_type": "code",
   "execution_count": 46,
   "metadata": {
    "collapsed": false
   },
   "outputs": [
    {
     "name": "stdout",
     "output_type": "stream",
     "text": [
      "http://www.tripadvisor.com/Hotel_Review-g31310-d73905-Reviews-Wyndham_Garden_Phoenix_Midtown-Phoenix_Arizona.html\n"
     ]
    }
   ],
   "source": [
    "print(links[0])"
   ]
  },
  {
   "cell_type": "code",
   "execution_count": 47,
   "metadata": {
    "collapsed": false
   },
   "outputs": [],
   "source": [
    "br.visit(links[0])"
   ]
  },
  {
   "cell_type": "code",
   "execution_count": 48,
   "metadata": {
    "collapsed": true
   },
   "outputs": [],
   "source": [
    "full_reviews = br.find_by_xpath('//div[contains(@class, \"reviewSelector\")]')"
   ]
  },
  {
   "cell_type": "code",
   "execution_count": 35,
   "metadata": {
    "collapsed": false
   },
   "outputs": [
    {
     "data": {
      "text/plain": [
       "[<splinter.driver.webdriver.WebDriverElement at 0x10993b6d0>,\n",
       " <splinter.driver.webdriver.WebDriverElement at 0x1099a4190>,\n",
       " <splinter.driver.webdriver.WebDriverElement at 0x1099a4250>,\n",
       " <splinter.driver.webdriver.WebDriverElement at 0x1099a42d0>,\n",
       " <splinter.driver.webdriver.WebDriverElement at 0x1099a4350>,\n",
       " <splinter.driver.webdriver.WebDriverElement at 0x1099a4910>,\n",
       " <splinter.driver.webdriver.WebDriverElement at 0x1099a4f10>,\n",
       " <splinter.driver.webdriver.WebDriverElement at 0x1099a4fd0>,\n",
       " <splinter.driver.webdriver.WebDriverElement at 0x1099a4ed0>,\n",
       " <splinter.driver.webdriver.WebDriverElement at 0x1099a4e50>]"
      ]
     },
     "execution_count": 35,
     "metadata": {},
     "output_type": "execute_result"
    }
   ],
   "source": [
    "full_reviews"
   ]
  },
  {
   "cell_type": "code",
   "execution_count": 36,
   "metadata": {
    "collapsed": true
   },
   "outputs": [],
   "source": [
    "fullrev = full_reviews[0]"
   ]
  },
  {
   "cell_type": "code",
   "execution_count": 37,
   "metadata": {
    "collapsed": false
   },
   "outputs": [
    {
     "data": {
      "text/plain": [
       "u'522gerald...\\nAlbuquerque, New Mexico'"
      ]
     },
     "execution_count": 37,
     "metadata": {},
     "output_type": "execute_result"
    }
   ],
   "source": [
    "fullrev.find_by_xpath('div/div[contains(@class, \"col1of2\")]/div[contains(@class, \"member_info\")]').text"
   ]
  },
  {
   "cell_type": "code",
   "execution_count": 38,
   "metadata": {
    "collapsed": true
   },
   "outputs": [],
   "source": [
    "member_info = fullrev.find_by_xpath('div/div[contains(@class, \"col1of2\")]/div[contains(@class, \"member_info\")]')"
   ]
  },
  {
   "cell_type": "code",
   "execution_count": 39,
   "metadata": {
    "collapsed": false
   },
   "outputs": [
    {
     "data": {
      "text/plain": [
       "u'522gerald...'"
      ]
     },
     "execution_count": 39,
     "metadata": {},
     "output_type": "execute_result"
    }
   ],
   "source": [
    "member_info.find_by_xpath('div/div[contains(@class, \"username mo\")]').text"
   ]
  },
  {
   "cell_type": "code",
   "execution_count": 16,
   "metadata": {
    "collapsed": false
   },
   "outputs": [],
   "source": [
    "review = fullrev.find_by_xpath('div/div[@class=\"col2of2\"]/div[@class=\"innerBubble\"]')"
   ]
  },
  {
   "cell_type": "code",
   "execution_count": 17,
   "metadata": {
    "collapsed": false
   },
   "outputs": [
    {
     "data": {
      "text/plain": [
       "u'House keeping was very good. General cleanliness of the...'"
      ]
     },
     "execution_count": 17,
     "metadata": {},
     "output_type": "execute_result"
    }
   ],
   "source": [
    "review.find_by_xpath('div/div[contains(@class, \"quote\")]').text.strip()[1:-1]"
   ]
  },
  {
   "cell_type": "code",
   "execution_count": 18,
   "metadata": {
    "collapsed": false
   },
   "outputs": [
    {
     "data": {
      "text/plain": [
       "u'4'"
      ]
     },
     "execution_count": 18,
     "metadata": {},
     "output_type": "execute_result"
    }
   ],
   "source": [
    "review.find_by_xpath('div/div[contains(@class, \"rating\")]/span/img')['alt'].split(' ')[0]"
   ]
  },
  {
   "cell_type": "code",
   "execution_count": 19,
   "metadata": {
    "collapsed": false
   },
   "outputs": [
    {
     "data": {
      "text/plain": [
       "u'September 25, 2015'"
      ]
     },
     "execution_count": 19,
     "metadata": {},
     "output_type": "execute_result"
    }
   ],
   "source": [
    "review.find_by_xpath('div/div[contains(@class, \"rating\")]/span[contains(@class, \"ratingDate\")]')['title']"
   ]
  },
  {
   "cell_type": "code",
   "execution_count": 20,
   "metadata": {
    "collapsed": false
   },
   "outputs": [
    {
     "data": {
      "text/plain": [
       "u'House keeping was very good. General cleanliness of the room was very good. It was a little overloaded with furniture, but the size of the room was very good, plenty of lighting, heating and cooling'"
      ]
     },
     "execution_count": 20,
     "metadata": {},
     "output_type": "execute_result"
    }
   ],
   "source": [
    "review.find_by_xpath('div/div[contains(@class, \"entry\")]').text.strip().replace(\"\\n\", \"\")"
   ]
  },
  {
   "cell_type": "code",
   "execution_count": 21,
   "metadata": {
    "collapsed": false
   },
   "outputs": [
    {
     "data": {
      "text/plain": [
       "u'review_313650991'"
      ]
     },
     "execution_count": 21,
     "metadata": {},
     "output_type": "execute_result"
    }
   ],
   "source": [
    "fullrev['id']"
   ]
  },
  {
   "cell_type": "code",
   "execution_count": 22,
   "metadata": {
    "collapsed": false
   },
   "outputs": [
    {
     "data": {
      "text/plain": [
       "[<splinter.driver.webdriver.WebDriverElement at 0x102e88ad0>]"
      ]
     },
     "execution_count": 22,
     "metadata": {},
     "output_type": "execute_result"
    }
   ],
   "source": [
    "br.find_by_xpath('//a[contains(@class, \"next\")]')"
   ]
  },
  {
   "cell_type": "code",
   "execution_count": 23,
   "metadata": {
    "collapsed": false
   },
   "outputs": [
    {
     "data": {
      "text/plain": [
       "True"
      ]
     },
     "execution_count": 23,
     "metadata": {},
     "output_type": "execute_result"
    }
   ],
   "source": [
    "len(br.find_by_xpath('//a[contains(@class, \"next\")]')) > 0"
   ]
  },
  {
   "cell_type": "code",
   "execution_count": 24,
   "metadata": {
    "collapsed": false
   },
   "outputs": [
    {
     "data": {
      "text/plain": [
       "u'http://www.tripadvisor.com/Hotel_Review-g31310-d73905-Reviews-or10-Wyndham_Garden_Phoenix_Midtown-Phoenix_Arizona.html#REVIEWS'"
      ]
     },
     "execution_count": 24,
     "metadata": {},
     "output_type": "execute_result"
    }
   ],
   "source": [
    "br.find_by_xpath('//a[contains(@class, \"next\")]')['href']"
   ]
  },
  {
   "cell_type": "markdown",
   "metadata": {},
   "source": [
    "#### Extract Hotel Address, City, State, Zip"
   ]
  },
  {
   "cell_type": "code",
   "execution_count": 62,
   "metadata": {
    "collapsed": false
   },
   "outputs": [
    {
     "data": {
      "text/plain": [
       "u'3600 N. Second Ave.'"
      ]
     },
     "execution_count": 62,
     "metadata": {},
     "output_type": "execute_result"
    }
   ],
   "source": [
    "hotel_address = br.find_by_xpath('//span[contains(@class, \"street-address\")]').text\n",
    "hotel_address"
   ]
  },
  {
   "cell_type": "code",
   "execution_count": 63,
   "metadata": {
    "collapsed": false
   },
   "outputs": [
    {
     "data": {
      "text/plain": [
       "u'Phoenix'"
      ]
     },
     "execution_count": 63,
     "metadata": {},
     "output_type": "execute_result"
    }
   ],
   "source": [
    "#city\n",
    "hotel_city = br.find_by_xpath('//span[contains(@property, \"addressLocality\")]').text\n",
    "hotel_city"
   ]
  },
  {
   "cell_type": "code",
   "execution_count": 64,
   "metadata": {
    "collapsed": false
   },
   "outputs": [
    {
     "data": {
      "text/plain": [
       "u'AZ'"
      ]
     },
     "execution_count": 64,
     "metadata": {},
     "output_type": "execute_result"
    }
   ],
   "source": [
    "#state\n",
    "hotel_state = br.find_by_xpath('//span[contains(@property, \"addressRegion\")]').text\n",
    "hotel_state"
   ]
  },
  {
   "cell_type": "code",
   "execution_count": 65,
   "metadata": {
    "collapsed": false
   },
   "outputs": [
    {
     "data": {
      "text/plain": [
       "u'85013'"
      ]
     },
     "execution_count": 65,
     "metadata": {},
     "output_type": "execute_result"
    }
   ],
   "source": [
    "#zip code\n",
    "hotel_zip = br.find_by_xpath('//span[contains(@property, \"postalCode\")]').text\n",
    "hotel_zip"
   ]
  },
  {
   "cell_type": "code",
   "execution_count": 25,
   "metadata": {
    "collapsed": false,
    "scrolled": true
   },
   "outputs": [
    {
     "name": "stdout",
     "output_type": "stream",
     "text": [
      "Username: 522gerald...\n",
      "Location: Albuquerque, New Mexico\n",
      "full review_id: review_313650991\n",
      "review_id: 313650991\n",
      "Title: House keeping was very good. General cleanliness of the...\n",
      "Rating: 4\n",
      "Date: September 25, 2015\n",
      "Review:\n",
      "House keeping was very good. General cleanliness of the room was very good. It was a little overloaded with furniture, but the size of the room was very good, plenty of lighting, heating and cooling\n",
      "**************************************************\n",
      "Username: shalom602\n",
      "Location: Phoenix, Arizona\n",
      "full review_id: review_313434796\n",
      "review_id: 313434796\n",
      "Title: private event\n",
      "Rating: 5\n",
      "Date: September 25, 2015\n",
      "Review:\n",
      "For the past 4 years i have been staying at the WYNDHAM GARDEN PHOENIX MIDTOWN hotel and cannot express how satisfied I am with the hotel. Our organization hosts an event every year around the same time and host for about 300 people and this year and staff really exceled. I want to thank Sam for his hard work, and...More\n",
      "**************************************************\n",
      "Username: J4522PHemmat\n",
      "Location: Keams Canyon, Arizona\n",
      "full review_id: review_313408050\n",
      "review_id: 313408050\n",
      "Title: Business\n",
      "Rating: 3\n",
      "Date: September 24, 2015\n",
      "Review:\n",
      "Stay was ok. Wouldn't say it was great. At time of booking hotel didn't tell me about a deposit per room, upset that deposit had to come from personal account. Hopefully it was refunded back.\n",
      "**************************************************\n",
      "Username: Tina R\n",
      "Location: Tucson\n",
      "full review_id: review_313386244\n",
      "review_id: 313386244\n",
      "Title: Sad workout facilities\n",
      "Rating: 3\n",
      "Date: September 24, 2015\n",
      "Review:\n",
      "Room was comfortable, although I had to request to have a fridge and getting the bed to adjust (sleep number) was a bit difficult since the buttons seemed to be pretty worn, breakfast was pretty decent, staff was friendly. Wifi was not so great, kept getting kicked off and then very slow when I did get connected. Gym facilities were...More\n",
      "**************************************************\n",
      "Username: John C\n",
      "Location: Derbyshire, United Kingdom\n",
      "full review_id: review_313022540\n",
      "review_id: 313022540\n",
      "Title: Great staff\n",
      "Rating: 5\n",
      "Date: September 23, 2015\n",
      "Review:\n",
      "First time in phoenix, the hotel made my stay very pleasant. every thing nice and clean, staff very helpful and nice would recommend to any one. the location is good as good is very near the light rail which makes travel very easy. there is a good restaurant and bar on site.\n",
      "**************************************************\n",
      "Username: Y B\n",
      "Location: Houston\n",
      "full review_id: review_312707081\n",
      "review_id: 312707081\n",
      "Title: Nice hotel close to downtown\n",
      "Rating: 5\n",
      "Date: September 22, 2015\n",
      "Review:\n",
      "Staff and hotel was great as a whole. Wifi worked great, breakfast was wonderful, beds were comfortable and hotel is easy to get to from the airport via light rail. Would definitely stay again anytime\n",
      "**************************************************\n",
      "Username: tww7374\n",
      "Location: Winter Haven, Florida\n",
      "full review_id: review_312654918\n",
      "review_id: 312654918\n",
      "Title: Phoenix friends visit\n",
      "Rating: 5\n",
      "Date: September 22, 2015\n",
      "Review:\n",
      "I have stayed at this hotel several times before and will continue to use it. Very good location. Accessible to metro. Little old but clean rooms friendly staff and decent room rates. Will stay here again when I am in Phoenix.\n",
      "**************************************************\n",
      "Username: fishnerd\n",
      "Location: san jose\n",
      "full review_id: review_312545696\n",
      "review_id: 312545696\n",
      "Title: Great for the price\n",
      "Rating: 4\n",
      "Date: September 22, 2015\n",
      "Review:\n",
      "I was in Arizona because of a family medical emergency and was looking for a reasonabley priced place to stay close to the hospital. I stayed 6 nights. The room was fine, and nice to have a fridge and microwave. It could have used a few more electrical outlets for charging electronics. Uber fares to the Banner Good Sam hospital...More\n",
      "**************************************************\n",
      "Username: risher70\n",
      "Location: Missouri\n",
      "full review_id: review_311911568\n",
      "review_id: 311911568\n",
      "Title: A little disappointed\n",
      "Rating: 3\n",
      "Date: September 19, 2015\n",
      "Review:\n",
      "I was a little disappointed. I expected more out of a Wyndham property. I thought the desk was not very helpful. The sleep number bed didn't work. I think the device needed replaced or batteries. That was not a big deal. The pool water stunk. The room was clean. I didn't feel like the hotel was in the best of...More\n",
      "**************************************************\n",
      "Username: B5881SEsandrac\n",
      "Location: Los Ranchos de Albuquerque, New Mexico\n",
      "full review_id: review_311678108\n",
      "review_id: 311678108\n",
      "Title: Sports vacation\n",
      "Rating: 5\n",
      "Date: September 18, 2015\n",
      "Review:\n",
      "Great location, you can enjoy the hotel accommodations as well as the restaurant and lounge located in the lobby. Staff are great, rooms are clean. There's a Walgreens on the corner for any needs including alcohol and prepared foods. The valley metro will take you downtown where the basketball arena and baseball stadium are located. It's $4.00 for a one...More\n",
      "**************************************************\n"
     ]
    }
   ],
   "source": [
    "for fullrev in full_reviews:\n",
    "    # user name:\n",
    "    member_info = fullrev.find_by_xpath('div/div[contains(@class, \"col1of2\")]/div[contains(@class, \"member_info\")]')\n",
    "    usrnm = member_info.find_by_xpath('div/div[contains(@class, \"username mo\")]')\n",
    "    review = fullrev.find_by_xpath('div/div[@class=\"col2of2\"]/div[@class=\"innerBubble\"]')[0]\n",
    "    title = review.find_by_xpath('div/div[contains(@class, \"quote\")]').text.strip()[1:-1]\n",
    "    rating = review.find_by_xpath('div/div[contains(@class, \"rating\")]/span/img')['alt'].split(' ')[0]\n",
    "    date = review.find_by_xpath('div/div[contains(@class, \"rating\")]/span[contains(@class, \"ratingDate\")]')['title']\n",
    "    rev = review.find_by_xpath('div/div[contains(@class, \"entry\")]').text.strip().replace(\"\\n\", \"\")\n",
    "    if len(usrnm) > 0:\n",
    "        #location = member_info.xpath('div[1]')[0].text_content()\n",
    "        print('Username: {}'.format(str(usrnm[0].text).strip()))\n",
    "    else:\n",
    "        print('Username: A Trip Advisor Member')\n",
    "    \n",
    "    location = member_info.find_by_xpath('div[contains(@class, \"location\")]')\n",
    "    if len(location) > 0:\n",
    "        print('Location: {}'.format(str(location[0].text).strip()))\n",
    "    else:\n",
    "        print('Location: ')\n",
    "    \n",
    "    print('full review_id: {}'.format(fullrev['id']))\n",
    "    try:\n",
    "        rev_id = re.search('review_(\\d+)$', fullrev['id']).group(1)\n",
    "    except AttributeError:\n",
    "        rev_id = ''\n",
    "\n",
    "    print('review_id: {}'.format(rev_id))\n",
    "    print('Title: {}'.format(title))\n",
    "    print('Rating: {}'.format(rating))\n",
    "    print('Date: {}'.format(date))\n",
    "    print('Review:')\n",
    "    print(rev)\n",
    "    print('*'*50)\n"
   ]
  },
  {
   "cell_type": "code",
   "execution_count": 26,
   "metadata": {
    "collapsed": true
   },
   "outputs": [],
   "source": [
    "def return_results(url, page):\n",
    "    br.visit(url)\n",
    "    full_reviews = br.find_by_xpath('//div[contains(@class, \"reviewSelector\")]')\n",
    "\n",
    "    page_usernames = []\n",
    "    page_locations = []\n",
    "    page_titles = []\n",
    "    page_ratings = []\n",
    "    page_dates = []\n",
    "    page_reviews = []\n",
    "    page_review_ids = []\n",
    "\n",
    "    for fullrev in full_reviews:\n",
    "        # user name:\n",
    "        member_info = fullrev.find_by_xpath('div/div[contains(@class, \"col1of2\")]/div[contains(@class, \"member_info\")]')\n",
    "        usrnm = member_info.find_by_xpath('div/div[contains(@class, \"username mo\")]')\n",
    "        review = fullrev.find_by_xpath('div/div[@class=\"col2of2\"]/div[@class=\"innerBubble\"]')[0]\n",
    "        title = review.find_by_xpath('div/div[contains(@class, \"quote\")]').text.strip()[1:-1]\n",
    "        rating = review.find_by_xpath('div/div[contains(@class, \"rating\")]/span/img')['alt'].split(' ')[0]\n",
    "        date = review.find_by_xpath('div/div[contains(@class, \"rating\")]/span[contains(@class, \"ratingDate\")]')['title']\n",
    "        rev = review.find_by_xpath('div/div[contains(@class, \"entry\")]').text.strip().replace(\"\\n\", \"\")\n",
    "        if len(usrnm) > 0:\n",
    "            username = str(usrnm[0].text).strip()\n",
    "            print('Username: {}'.format(username))\n",
    "        else:\n",
    "            print('Username: A Trip Advisor Member')\n",
    "\n",
    "        locationel = member_info.find_by_xpath('div[contains(@class, \"location\")]')\n",
    "        if len(locationel) > 0:\n",
    "            location = str(locationel[0].text).strip()\n",
    "            print('Location: {}'.format(location))\n",
    "        else:\n",
    "            location = ''\n",
    "            print('Location: ')\n",
    "\n",
    "        print('full review_id: {}'.format(fullrev['id']))\n",
    "        try:\n",
    "            rev_id = re.search('review_(\\d+)$', fullrev['id']).group(1)\n",
    "        except AttributeError:\n",
    "            rev_id = ''\n",
    "\n",
    "#         print('review_id: {}'.format(rev_id))\n",
    "#         print('Title: {}'.format(title))\n",
    "#         print('Rating: {}'.format(rating))\n",
    "#         print('Date: {}'.format(date))\n",
    "#         print('Review:')\n",
    "#        print(rev)\n",
    "#        print('*'*50)\n",
    "\n",
    "        page_usernames.append(username)\n",
    "        page_locations.append(location)\n",
    "        page_titles.append(title)\n",
    "        page_ratings.append(ratings)\n",
    "        page_dates.append(date)\n",
    "        page_reviews.append(rev)\n",
    "        page_review_ids.append(rev_id)\n",
    "\n",
    "    if len(br.find_by_xpath('//a[contains(@class, \"next\")]')) > 0:\n",
    "        url = br.find_by_xpath('//a[contains(@class, \"next\")]')['href']\n",
    "        more_reviews = True\n",
    "        page += 1\n",
    "#        print('url and page updated.')\n",
    "    else:\n",
    "        more_reviews = False\n",
    "    \n",
    "    ret_dict = {'usrnms': page_usernames,\n",
    "                'locs': page_locations,\n",
    "                'ttls': page_titles,\n",
    "                'rtngs': page_ratings,\n",
    "                'dts': page_dates,\n",
    "                'rvws': page_reviews,\n",
    "                'revids': page_review_ids,\n",
    "               'url': url,\n",
    "               'more_reviews': more_reviews,\n",
    "               'page': page}\n",
    "    return ret_dict\n"
   ]
  },
  {
   "cell_type": "code",
   "execution_count": 30,
   "metadata": {
    "collapsed": false,
    "scrolled": true
   },
   "outputs": [
    {
     "name": "stdout",
     "output_type": "stream",
     "text": [
      "**************************************************\n",
      "Now on page 1\n",
      "Username: 522gerald...\n",
      "Location: Albuquerque, New Mexico\n",
      "full review_id: review_313650991\n",
      "Username: shalom602\n",
      "Location: Phoenix, Arizona\n",
      "full review_id: review_313434796\n",
      "Username: J4522PHemmat\n",
      "Location: Keams Canyon, Arizona\n",
      "full review_id: review_313408050\n",
      "Username: Tina R\n",
      "Location: Tucson\n",
      "full review_id: review_313386244\n",
      "Username: John C\n",
      "Location: Derbyshire, United Kingdom\n",
      "full review_id: review_313022540\n",
      "Username: Y B\n",
      "Location: Houston\n",
      "full review_id: review_312707081\n",
      "Username: tww7374\n",
      "Location: Winter Haven, Florida\n",
      "full review_id: review_312654918\n",
      "Username: fishnerd\n",
      "Location: san jose\n",
      "full review_id: review_312545696\n",
      "Username: risher70\n",
      "Location: Missouri\n",
      "full review_id: review_311911568\n",
      "Username: B5881SEsandrac\n",
      "Location: Los Ranchos de Albuquerque, New Mexico\n",
      "full review_id: review_311678108\n",
      "['Albuquerque, New Mexico', 'Phoenix, Arizona', 'Keams Canyon, Arizona', 'Tucson', 'Derbyshire, United Kingdom', 'Houston', 'Winter Haven, Florida', 'san jose', 'Missouri', 'Los Ranchos de Albuquerque, New Mexico']\n",
      "[u'House keeping was very good. General cleanliness of the...', u'private event', u'Business', u'Sad workout facilities', u'Great staff', u'Nice hotel close to downtown', u'Phoenix friends visit', u'Great for the price', u'A little disappointed', u'Sports vacation']\n",
      "successfully completed page 2\n"
     ]
    }
   ],
   "source": [
    "idx = 0\n",
    "usernames = []\n",
    "locations = []\n",
    "titles = []\n",
    "ratings = []\n",
    "dates = []\n",
    "reviews = []\n",
    "review_ids = []\n",
    "\n",
    "columns = ['hotel_id',\n",
    "           'hotel_url',\n",
    "           'hotel_name',\n",
    "           'hotel_address',\n",
    "           'hotel_city',\n",
    "           'hotel_state',\n",
    "           'hotel_zip',\n",
    "           'hotel_location',\n",
    "           'hotel_rating',\n",
    "           'hotel_latitude',\n",
    "           'hotel_longitude',\n",
    "           'review_count',\n",
    "           'hotel_address',\n",
    "           'business_id',\n",
    "           'review_id',\n",
    "           'user_id',\n",
    "           'username',\n",
    "           'review_title',\n",
    "           'review_text',\n",
    "           'review_rating',\n",
    "           'review_date']\n",
    "\n",
    "bigdf = pd.DataFrame(columns=columns)\n",
    "\n",
    "url = links[idx]\n",
    "hotel_name = hotel_names[idx]\n",
    "\n",
    "more_reviews = True\n",
    "page = 1\n",
    "while more_reviews:\n",
    "    #print('*'*50)\n",
    "    print('*'*50)\n",
    "    print('Now on page {}'.format(page))\n",
    "    #print('*'*50)\n",
    "    \n",
    "    df = pd.DataFrame(columns=columns)\n",
    "\n",
    "    ret_dict = return_results(url, page)\n",
    "    print(ret_dict['locs'])\n",
    "    print(ret_dict['ttls'])\n",
    "    df['username'] = ret_dict['usrnms']\n",
    "    df['hotel_location'] = ret_dict['locs']\n",
    "    df['review_title'] = ret_dict['ttls']\n",
    "    df['review_rating'] = ret_dict['rtngs']\n",
    "    df['review_date'] = ret_dict['dts']\n",
    "    df['review_text'] = ret_dict['rvws']\n",
    "    df['review_id'] = ret_dict['revids']\n",
    "    df['hotel_name'] = hotel_name\n",
    "    df['hotel_url'] = url\n",
    "    url = ret_dict['url']\n",
    "    more_reviews = ret_dict['more_reviews']\n",
    "    page = ret_dict['page']\n",
    "    print('successfully completed page {}'.format(page))\n",
    "    bigdf = bigdf.append(df)\n",
    "    more_reviews = False\n"
   ]
  },
  {
   "cell_type": "code",
   "execution_count": 29,
   "metadata": {
    "collapsed": false
   },
   "outputs": [
    {
     "data": {
      "text/plain": [
       "[u'Wyndham Garden Phoenix Midtown',\n",
       " u'Arizona Grand Resort & Spa',\n",
       " u'Pointe Hilton Squaw Peak Resort',\n",
       " u'Pointe Hilton Tapatio Cliffs Resort',\n",
       " u'Arizona Biltmore, A Waldorf Astoria Resort',\n",
       " u'Royal Palms Resort and Spa',\n",
       " u'JW Marriott Desert Ridge Resort & Spa Phoenix',\n",
       " u\"Marriott's Canyon Villas at Desert Ridge\",\n",
       " u'Hotel Palomar Phoenix - a Kimpton Hotel',\n",
       " u'The Clarendon Hotel and Spa',\n",
       " u'Hampton Inn & Suites Phoenix North/Happy Valley',\n",
       " u'Homewood Suites Phoenix North - Happy Valley',\n",
       " u'Westin Phoenix Downtown',\n",
       " u'Radisson Hotel Phoenix North',\n",
       " u'Embassy Suites by Hilton Phoenix-Scottsdale',\n",
       " u'Legacy Golf Resort',\n",
       " u'Sheraton Phoenix Downtown Hotel',\n",
       " u'Hyatt Regency Phoenix',\n",
       " u'Wyndham Garden Phoenix Midtown',\n",
       " u'Hampton Inn Phoenix-Biltmore',\n",
       " u'Embassy Suites by Hilton Hotel Phoenix Biltmore',\n",
       " u'Aloft Phoenix-Airport',\n",
       " u'DoubleTree Suites by Hilton Hotel Phoenix',\n",
       " u'BEST WESTERN Airport Inn',\n",
       " u'Drury Inn & Suites Phoenix Airport',\n",
       " u'BEST WESTERN Innsuites Phoenix Biltmore',\n",
       " u'Red Roof Inn Phoenix West',\n",
       " u'Candlewood Suites Phoenix',\n",
       " u'La Quinta Inn & Suites Phoenix I-10 West',\n",
       " u'Holiday Inn Express Phoenix Airport (University Drive)',\n",
       " u'Hilton Garden Inn Phoenix Airport']"
      ]
     },
     "execution_count": 29,
     "metadata": {},
     "output_type": "execute_result"
    }
   ],
   "source": [
    "hotel_names"
   ]
  },
  {
   "cell_type": "code",
   "execution_count": 31,
   "metadata": {
    "collapsed": false
   },
   "outputs": [
    {
     "data": {
      "text/html": [
       "<div style=\"max-height:1000px;max-width:1500px;overflow:auto;\">\n",
       "<table border=\"1\" class=\"dataframe\">\n",
       "  <thead>\n",
       "    <tr style=\"text-align: right;\">\n",
       "      <th></th>\n",
       "      <th>hotel_id</th>\n",
       "      <th>hotel_url</th>\n",
       "      <th>hotel_name</th>\n",
       "      <th>hotel_address</th>\n",
       "      <th>hotel_city</th>\n",
       "      <th>hotel_state</th>\n",
       "      <th>hotel_location</th>\n",
       "      <th>hotel_rating</th>\n",
       "      <th>hotel_latitude</th>\n",
       "      <th>hotel_longitude</th>\n",
       "      <th>review_count</th>\n",
       "      <th>hotel_address</th>\n",
       "      <th>business_id</th>\n",
       "      <th>review_id</th>\n",
       "      <th>user_id</th>\n",
       "      <th>username</th>\n",
       "      <th>review_title</th>\n",
       "      <th>review_text</th>\n",
       "      <th>review_rating</th>\n",
       "      <th>review_date</th>\n",
       "    </tr>\n",
       "  </thead>\n",
       "  <tbody>\n",
       "    <tr>\n",
       "      <th>0</th>\n",
       "      <td>NaN</td>\n",
       "      <td>http://www.tripadvisor.com/Hotel_Review-g31310...</td>\n",
       "      <td>Wyndham Garden Phoenix Midtown</td>\n",
       "      <td>NaN</td>\n",
       "      <td>NaN</td>\n",
       "      <td>NaN</td>\n",
       "      <td>Albuquerque, New Mexico</td>\n",
       "      <td>NaN</td>\n",
       "      <td>NaN</td>\n",
       "      <td>NaN</td>\n",
       "      <td>NaN</td>\n",
       "      <td>NaN</td>\n",
       "      <td>NaN</td>\n",
       "      <td>313650991</td>\n",
       "      <td>NaN</td>\n",
       "      <td>522gerald...</td>\n",
       "      <td>House keeping was very good. General cleanline...</td>\n",
       "      <td>House keeping was very good. General cleanline...</td>\n",
       "      <td>[]</td>\n",
       "      <td>September 25, 2015</td>\n",
       "    </tr>\n",
       "    <tr>\n",
       "      <th>1</th>\n",
       "      <td>NaN</td>\n",
       "      <td>http://www.tripadvisor.com/Hotel_Review-g31310...</td>\n",
       "      <td>Wyndham Garden Phoenix Midtown</td>\n",
       "      <td>NaN</td>\n",
       "      <td>NaN</td>\n",
       "      <td>NaN</td>\n",
       "      <td>Phoenix, Arizona</td>\n",
       "      <td>NaN</td>\n",
       "      <td>NaN</td>\n",
       "      <td>NaN</td>\n",
       "      <td>NaN</td>\n",
       "      <td>NaN</td>\n",
       "      <td>NaN</td>\n",
       "      <td>313434796</td>\n",
       "      <td>NaN</td>\n",
       "      <td>shalom602</td>\n",
       "      <td>private event</td>\n",
       "      <td>For the past 4 years i have been staying at th...</td>\n",
       "      <td>[]</td>\n",
       "      <td>September 25, 2015</td>\n",
       "    </tr>\n",
       "    <tr>\n",
       "      <th>2</th>\n",
       "      <td>NaN</td>\n",
       "      <td>http://www.tripadvisor.com/Hotel_Review-g31310...</td>\n",
       "      <td>Wyndham Garden Phoenix Midtown</td>\n",
       "      <td>NaN</td>\n",
       "      <td>NaN</td>\n",
       "      <td>NaN</td>\n",
       "      <td>Keams Canyon, Arizona</td>\n",
       "      <td>NaN</td>\n",
       "      <td>NaN</td>\n",
       "      <td>NaN</td>\n",
       "      <td>NaN</td>\n",
       "      <td>NaN</td>\n",
       "      <td>NaN</td>\n",
       "      <td>313408050</td>\n",
       "      <td>NaN</td>\n",
       "      <td>J4522PHemmat</td>\n",
       "      <td>Business</td>\n",
       "      <td>Stay was ok. Wouldn't say it was great. At tim...</td>\n",
       "      <td>[]</td>\n",
       "      <td>September 24, 2015</td>\n",
       "    </tr>\n",
       "    <tr>\n",
       "      <th>3</th>\n",
       "      <td>NaN</td>\n",
       "      <td>http://www.tripadvisor.com/Hotel_Review-g31310...</td>\n",
       "      <td>Wyndham Garden Phoenix Midtown</td>\n",
       "      <td>NaN</td>\n",
       "      <td>NaN</td>\n",
       "      <td>NaN</td>\n",
       "      <td>Tucson</td>\n",
       "      <td>NaN</td>\n",
       "      <td>NaN</td>\n",
       "      <td>NaN</td>\n",
       "      <td>NaN</td>\n",
       "      <td>NaN</td>\n",
       "      <td>NaN</td>\n",
       "      <td>313386244</td>\n",
       "      <td>NaN</td>\n",
       "      <td>Tina R</td>\n",
       "      <td>Sad workout facilities</td>\n",
       "      <td>Room was comfortable, although I had to reques...</td>\n",
       "      <td>[]</td>\n",
       "      <td>September 24, 2015</td>\n",
       "    </tr>\n",
       "    <tr>\n",
       "      <th>4</th>\n",
       "      <td>NaN</td>\n",
       "      <td>http://www.tripadvisor.com/Hotel_Review-g31310...</td>\n",
       "      <td>Wyndham Garden Phoenix Midtown</td>\n",
       "      <td>NaN</td>\n",
       "      <td>NaN</td>\n",
       "      <td>NaN</td>\n",
       "      <td>Derbyshire, United Kingdom</td>\n",
       "      <td>NaN</td>\n",
       "      <td>NaN</td>\n",
       "      <td>NaN</td>\n",
       "      <td>NaN</td>\n",
       "      <td>NaN</td>\n",
       "      <td>NaN</td>\n",
       "      <td>313022540</td>\n",
       "      <td>NaN</td>\n",
       "      <td>John C</td>\n",
       "      <td>Great staff</td>\n",
       "      <td>First time in phoenix, the hotel made my stay ...</td>\n",
       "      <td>[]</td>\n",
       "      <td>September 23, 2015</td>\n",
       "    </tr>\n",
       "    <tr>\n",
       "      <th>5</th>\n",
       "      <td>NaN</td>\n",
       "      <td>http://www.tripadvisor.com/Hotel_Review-g31310...</td>\n",
       "      <td>Wyndham Garden Phoenix Midtown</td>\n",
       "      <td>NaN</td>\n",
       "      <td>NaN</td>\n",
       "      <td>NaN</td>\n",
       "      <td>Houston</td>\n",
       "      <td>NaN</td>\n",
       "      <td>NaN</td>\n",
       "      <td>NaN</td>\n",
       "      <td>NaN</td>\n",
       "      <td>NaN</td>\n",
       "      <td>NaN</td>\n",
       "      <td>312707081</td>\n",
       "      <td>NaN</td>\n",
       "      <td>Y B</td>\n",
       "      <td>Nice hotel close to downtown</td>\n",
       "      <td>Staff and hotel was great as a whole. Wifi wor...</td>\n",
       "      <td>[]</td>\n",
       "      <td>September 22, 2015</td>\n",
       "    </tr>\n",
       "    <tr>\n",
       "      <th>6</th>\n",
       "      <td>NaN</td>\n",
       "      <td>http://www.tripadvisor.com/Hotel_Review-g31310...</td>\n",
       "      <td>Wyndham Garden Phoenix Midtown</td>\n",
       "      <td>NaN</td>\n",
       "      <td>NaN</td>\n",
       "      <td>NaN</td>\n",
       "      <td>Winter Haven, Florida</td>\n",
       "      <td>NaN</td>\n",
       "      <td>NaN</td>\n",
       "      <td>NaN</td>\n",
       "      <td>NaN</td>\n",
       "      <td>NaN</td>\n",
       "      <td>NaN</td>\n",
       "      <td>312654918</td>\n",
       "      <td>NaN</td>\n",
       "      <td>tww7374</td>\n",
       "      <td>Phoenix friends visit</td>\n",
       "      <td>I have stayed at this hotel several times befo...</td>\n",
       "      <td>[]</td>\n",
       "      <td>September 22, 2015</td>\n",
       "    </tr>\n",
       "    <tr>\n",
       "      <th>7</th>\n",
       "      <td>NaN</td>\n",
       "      <td>http://www.tripadvisor.com/Hotel_Review-g31310...</td>\n",
       "      <td>Wyndham Garden Phoenix Midtown</td>\n",
       "      <td>NaN</td>\n",
       "      <td>NaN</td>\n",
       "      <td>NaN</td>\n",
       "      <td>san jose</td>\n",
       "      <td>NaN</td>\n",
       "      <td>NaN</td>\n",
       "      <td>NaN</td>\n",
       "      <td>NaN</td>\n",
       "      <td>NaN</td>\n",
       "      <td>NaN</td>\n",
       "      <td>312545696</td>\n",
       "      <td>NaN</td>\n",
       "      <td>fishnerd</td>\n",
       "      <td>Great for the price</td>\n",
       "      <td>I was in Arizona because of a family medical e...</td>\n",
       "      <td>[]</td>\n",
       "      <td>September 22, 2015</td>\n",
       "    </tr>\n",
       "    <tr>\n",
       "      <th>8</th>\n",
       "      <td>NaN</td>\n",
       "      <td>http://www.tripadvisor.com/Hotel_Review-g31310...</td>\n",
       "      <td>Wyndham Garden Phoenix Midtown</td>\n",
       "      <td>NaN</td>\n",
       "      <td>NaN</td>\n",
       "      <td>NaN</td>\n",
       "      <td>Missouri</td>\n",
       "      <td>NaN</td>\n",
       "      <td>NaN</td>\n",
       "      <td>NaN</td>\n",
       "      <td>NaN</td>\n",
       "      <td>NaN</td>\n",
       "      <td>NaN</td>\n",
       "      <td>311911568</td>\n",
       "      <td>NaN</td>\n",
       "      <td>risher70</td>\n",
       "      <td>A little disappointed</td>\n",
       "      <td>I was a little disappointed. I expected more o...</td>\n",
       "      <td>[]</td>\n",
       "      <td>September 19, 2015</td>\n",
       "    </tr>\n",
       "    <tr>\n",
       "      <th>9</th>\n",
       "      <td>NaN</td>\n",
       "      <td>http://www.tripadvisor.com/Hotel_Review-g31310...</td>\n",
       "      <td>Wyndham Garden Phoenix Midtown</td>\n",
       "      <td>NaN</td>\n",
       "      <td>NaN</td>\n",
       "      <td>NaN</td>\n",
       "      <td>Los Ranchos de Albuquerque, New Mexico</td>\n",
       "      <td>NaN</td>\n",
       "      <td>NaN</td>\n",
       "      <td>NaN</td>\n",
       "      <td>NaN</td>\n",
       "      <td>NaN</td>\n",
       "      <td>NaN</td>\n",
       "      <td>311678108</td>\n",
       "      <td>NaN</td>\n",
       "      <td>B5881SEsandrac</td>\n",
       "      <td>Sports vacation</td>\n",
       "      <td>Great location, you can enjoy the hotel accomm...</td>\n",
       "      <td>[]</td>\n",
       "      <td>September 18, 2015</td>\n",
       "    </tr>\n",
       "  </tbody>\n",
       "</table>\n",
       "</div>"
      ],
      "text/plain": [
       "  hotel_id                                          hotel_url  \\\n",
       "0      NaN  http://www.tripadvisor.com/Hotel_Review-g31310...   \n",
       "1      NaN  http://www.tripadvisor.com/Hotel_Review-g31310...   \n",
       "2      NaN  http://www.tripadvisor.com/Hotel_Review-g31310...   \n",
       "3      NaN  http://www.tripadvisor.com/Hotel_Review-g31310...   \n",
       "4      NaN  http://www.tripadvisor.com/Hotel_Review-g31310...   \n",
       "5      NaN  http://www.tripadvisor.com/Hotel_Review-g31310...   \n",
       "6      NaN  http://www.tripadvisor.com/Hotel_Review-g31310...   \n",
       "7      NaN  http://www.tripadvisor.com/Hotel_Review-g31310...   \n",
       "8      NaN  http://www.tripadvisor.com/Hotel_Review-g31310...   \n",
       "9      NaN  http://www.tripadvisor.com/Hotel_Review-g31310...   \n",
       "\n",
       "                       hotel_name hotel_address hotel_city hotel_state  \\\n",
       "0  Wyndham Garden Phoenix Midtown           NaN        NaN         NaN   \n",
       "1  Wyndham Garden Phoenix Midtown           NaN        NaN         NaN   \n",
       "2  Wyndham Garden Phoenix Midtown           NaN        NaN         NaN   \n",
       "3  Wyndham Garden Phoenix Midtown           NaN        NaN         NaN   \n",
       "4  Wyndham Garden Phoenix Midtown           NaN        NaN         NaN   \n",
       "5  Wyndham Garden Phoenix Midtown           NaN        NaN         NaN   \n",
       "6  Wyndham Garden Phoenix Midtown           NaN        NaN         NaN   \n",
       "7  Wyndham Garden Phoenix Midtown           NaN        NaN         NaN   \n",
       "8  Wyndham Garden Phoenix Midtown           NaN        NaN         NaN   \n",
       "9  Wyndham Garden Phoenix Midtown           NaN        NaN         NaN   \n",
       "\n",
       "                           hotel_location hotel_rating hotel_latitude  \\\n",
       "0                 Albuquerque, New Mexico          NaN            NaN   \n",
       "1                        Phoenix, Arizona          NaN            NaN   \n",
       "2                   Keams Canyon, Arizona          NaN            NaN   \n",
       "3                                  Tucson          NaN            NaN   \n",
       "4              Derbyshire, United Kingdom          NaN            NaN   \n",
       "5                                 Houston          NaN            NaN   \n",
       "6                   Winter Haven, Florida          NaN            NaN   \n",
       "7                                san jose          NaN            NaN   \n",
       "8                                Missouri          NaN            NaN   \n",
       "9  Los Ranchos de Albuquerque, New Mexico          NaN            NaN   \n",
       "\n",
       "  hotel_longitude review_count hotel_address business_id  review_id user_id  \\\n",
       "0             NaN          NaN           NaN         NaN  313650991     NaN   \n",
       "1             NaN          NaN           NaN         NaN  313434796     NaN   \n",
       "2             NaN          NaN           NaN         NaN  313408050     NaN   \n",
       "3             NaN          NaN           NaN         NaN  313386244     NaN   \n",
       "4             NaN          NaN           NaN         NaN  313022540     NaN   \n",
       "5             NaN          NaN           NaN         NaN  312707081     NaN   \n",
       "6             NaN          NaN           NaN         NaN  312654918     NaN   \n",
       "7             NaN          NaN           NaN         NaN  312545696     NaN   \n",
       "8             NaN          NaN           NaN         NaN  311911568     NaN   \n",
       "9             NaN          NaN           NaN         NaN  311678108     NaN   \n",
       "\n",
       "         username                                       review_title  \\\n",
       "0    522gerald...  House keeping was very good. General cleanline...   \n",
       "1       shalom602                                      private event   \n",
       "2    J4522PHemmat                                           Business   \n",
       "3          Tina R                             Sad workout facilities   \n",
       "4          John C                                        Great staff   \n",
       "5             Y B                       Nice hotel close to downtown   \n",
       "6         tww7374                              Phoenix friends visit   \n",
       "7        fishnerd                                Great for the price   \n",
       "8        risher70                              A little disappointed   \n",
       "9  B5881SEsandrac                                    Sports vacation   \n",
       "\n",
       "                                         review_text review_rating  \\\n",
       "0  House keeping was very good. General cleanline...            []   \n",
       "1  For the past 4 years i have been staying at th...            []   \n",
       "2  Stay was ok. Wouldn't say it was great. At tim...            []   \n",
       "3  Room was comfortable, although I had to reques...            []   \n",
       "4  First time in phoenix, the hotel made my stay ...            []   \n",
       "5  Staff and hotel was great as a whole. Wifi wor...            []   \n",
       "6  I have stayed at this hotel several times befo...            []   \n",
       "7  I was in Arizona because of a family medical e...            []   \n",
       "8  I was a little disappointed. I expected more o...            []   \n",
       "9  Great location, you can enjoy the hotel accomm...            []   \n",
       "\n",
       "          review_date  \n",
       "0  September 25, 2015  \n",
       "1  September 25, 2015  \n",
       "2  September 24, 2015  \n",
       "3  September 24, 2015  \n",
       "4  September 23, 2015  \n",
       "5  September 22, 2015  \n",
       "6  September 22, 2015  \n",
       "7  September 22, 2015  \n",
       "8  September 19, 2015  \n",
       "9  September 18, 2015  "
      ]
     },
     "execution_count": 31,
     "metadata": {},
     "output_type": "execute_result"
    }
   ],
   "source": [
    "df"
   ]
  },
  {
   "cell_type": "code",
   "execution_count": null,
   "metadata": {
    "collapsed": true
   },
   "outputs": [],
   "source": []
  }
 ],
 "metadata": {
  "kernelspec": {
   "display_name": "Python 2",
   "language": "python",
   "name": "python2"
  },
  "language_info": {
   "codemirror_mode": {
    "name": "ipython",
    "version": 2
   },
   "file_extension": ".py",
   "mimetype": "text/x-python",
   "name": "python",
   "nbconvert_exporter": "python",
   "pygments_lexer": "ipython2",
   "version": "2.7.10"
  }
 },
 "nbformat": 4,
 "nbformat_minor": 0
}
