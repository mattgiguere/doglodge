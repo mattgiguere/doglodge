{
 "cells": [
  {
   "cell_type": "markdown",
   "metadata": {},
   "source": [
    "# create_ta_db_tables\n",
    "\n",
    "a notebook to create the database tables for the ta data."
   ]
  },
  {
   "cell_type": "code",
   "execution_count": 1,
   "metadata": {
    "collapsed": true
   },
   "outputs": [],
   "source": [
    "import connect_aws_db as cadb"
   ]
  },
  {
   "cell_type": "code",
   "execution_count": 2,
   "metadata": {
    "collapsed": true
   },
   "outputs": [],
   "source": [
    "engine = cadb.connect_aws_db(write_unicode=True)"
   ]
  },
  {
   "cell_type": "code",
   "execution_count": 3,
   "metadata": {
    "collapsed": true
   },
   "outputs": [],
   "source": [
    "conn = engine.connect()"
   ]
  },
  {
   "cell_type": "markdown",
   "metadata": {},
   "source": [
    "### create the hotels table"
   ]
  },
  {
   "cell_type": "code",
   "execution_count": 4,
   "metadata": {
    "collapsed": true
   },
   "outputs": [],
   "source": [
    "# cmd = \"DROP TABLE ta_hotels\"\n",
    "# result = conn.execute(cmd)"
   ]
  },
  {
   "cell_type": "code",
   "execution_count": 4,
   "metadata": {
    "collapsed": true
   },
   "outputs": [],
   "source": [
    "cmd = \"\"\"\n",
    "        CREATE TABLE ta_hotels\n",
    "        (\n",
    "        hotel_id MEDIUMINT AUTO_INCREMENT,\n",
    "        hotel_url VARCHAR(512),\n",
    "        hotel_img_url VARCHAR(512),\n",
    "        hotel_name VARCHAR(512),\n",
    "        hotel_address VARCHAR(1024),\n",
    "        hotel_city VARCHAR(512),\n",
    "        hotel_state VARCHAR(32),\n",
    "        hotel_rating INT(11),\n",
    "        hotel_latitude FLOAT,\n",
    "        hotel_longitude FLOAT,\n",
    "        hotel_price FLOAT,\n",
    "        business_id VARCHAR(256),\n",
    "        review_count INT,\n",
    "        dog_review_count INT,\n",
    "        PRIMARY KEY (hotel_id)\n",
    "        )\n",
    "        \"\"\"\n"
   ]
  },
  {
   "cell_type": "code",
   "execution_count": 5,
   "metadata": {
    "collapsed": false
   },
   "outputs": [
    {
     "data": {
      "text/plain": [
       "<sqlalchemy.engine.result.ResultProxy at 0x106fc0790>"
      ]
     },
     "execution_count": 5,
     "metadata": {},
     "output_type": "execute_result"
    }
   ],
   "source": [
    "conn.execute(cmd)"
   ]
  },
  {
   "cell_type": "code",
   "execution_count": null,
   "metadata": {
    "collapsed": true
   },
   "outputs": [],
   "source": []
  }
 ],
 "metadata": {
  "kernelspec": {
   "display_name": "Python 2",
   "language": "python",
   "name": "python2"
  },
  "language_info": {
   "codemirror_mode": {
    "name": "ipython",
    "version": 2
   },
   "file_extension": ".py",
   "mimetype": "text/x-python",
   "name": "python",
   "nbconvert_exporter": "python",
   "pygments_lexer": "ipython2",
   "version": "2.7.10"
  }
 },
 "nbformat": 4,
 "nbformat_minor": 0
}
