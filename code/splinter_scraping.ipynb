{
 "cells": [
  {
   "cell_type": "code",
   "execution_count": 1,
   "metadata": {
    "collapsed": true
   },
   "outputs": [],
   "source": [
    "import pandas as pd\n",
    "import numpy as np"
   ]
  },
  {
   "cell_type": "code",
   "execution_count": 2,
   "metadata": {
    "collapsed": true
   },
   "outputs": [],
   "source": [
    "from splinter.browser import Browser"
   ]
  },
  {
   "cell_type": "code",
   "execution_count": 3,
   "metadata": {
    "collapsed": false
   },
   "outputs": [],
   "source": [
    "br = Browser()"
   ]
  },
  {
   "cell_type": "code",
   "execution_count": 4,
   "metadata": {
    "collapsed": false
   },
   "outputs": [],
   "source": [
    "br.visit('http://www.bringfido.com/lodging/city/san_jose_ca_us/')"
   ]
  },
  {
   "cell_type": "code",
   "execution_count": 5,
   "metadata": {
    "collapsed": false
   },
   "outputs": [],
   "source": [
    "archive_links = br.find_by_xpath('//*[@id=\"results_list\"]/div')"
   ]
  },
  {
   "cell_type": "code",
   "execution_count": 6,
   "metadata": {
    "collapsed": false
   },
   "outputs": [],
   "source": [
    "one_link = archive_links[1]"
   ]
  },
  {
   "cell_type": "code",
   "execution_count": 7,
   "metadata": {
    "collapsed": false
   },
   "outputs": [
    {
     "data": {
      "text/plain": [
       "u'Fairmont San Jose\\nSan Jose, CA, US\\nThe Fairmont San Jose welcomes a maximum of two pets, 60lbs or less, for an additional $75 per stay. Pets may not be left unattended at any time. All rooms are pet friendly.\\nHotel Overview | Map | Photos | Guest Reviews\\nLow Rates from\\n$103 + pet fee\\nCHECK RATES'"
      ]
     },
     "execution_count": 7,
     "metadata": {},
     "output_type": "execute_result"
    }
   ],
   "source": [
    "one_link.text"
   ]
  },
  {
   "cell_type": "code",
   "execution_count": 8,
   "metadata": {
    "collapsed": false
   },
   "outputs": [
    {
     "data": {
      "text/plain": [
       "u'Fairmont San Jose'"
      ]
     },
     "execution_count": 8,
     "metadata": {},
     "output_type": "execute_result"
    }
   ],
   "source": [
    "one_link.find_by_xpath('div/h1/a').value"
   ]
  },
  {
   "cell_type": "code",
   "execution_count": 9,
   "metadata": {
    "collapsed": false
   },
   "outputs": [
    {
     "data": {
      "text/plain": [
       "u'Fairmont San Jose\\nSan Jose, CA, US\\nThe Fairmont San Jose welcomes a maximum of two pets, 60lbs or less, for an additional $75 per stay. Pets may not be left unattended at any time. All rooms are pet friendly.\\nHotel Overview | Map | Photos | Guest Reviews\\nLow Rates from\\n$103 + pet fee\\nCHECK RATES'"
      ]
     },
     "execution_count": 9,
     "metadata": {},
     "output_type": "execute_result"
    }
   ],
   "source": [
    "one_link.text"
   ]
  },
  {
   "cell_type": "code",
   "execution_count": 10,
   "metadata": {
    "collapsed": false
   },
   "outputs": [
    {
     "data": {
      "text/plain": [
       "u'http://www.bringfido.com/lodging/68322/?cid=14455&ar=&dt=&rm=1&ad=1&ch=0&dg=1&rt=103.2'"
      ]
     },
     "execution_count": 10,
     "metadata": {},
     "output_type": "execute_result"
    }
   ],
   "source": [
    "one_link.find_by_xpath('div/h1/a')['href']"
   ]
  },
  {
   "cell_type": "code",
   "execution_count": 21,
   "metadata": {
    "collapsed": false
   },
   "outputs": [
    {
     "data": {
      "text/plain": [
       "u'68322'"
      ]
     },
     "execution_count": 21,
     "metadata": {},
     "output_type": "execute_result"
    }
   ],
   "source": [
    "one_link['id'].split('_')[-1]"
   ]
  },
  {
   "cell_type": "code",
   "execution_count": 30,
   "metadata": {
    "collapsed": false
   },
   "outputs": [
    {
     "data": {
      "text/plain": [
       "u'http://www.bringfido.com/site_media/photos/ein/5/2/8/116825/15920_82_b.jpg'"
      ]
     },
     "execution_count": 30,
     "metadata": {},
     "output_type": "execute_result"
    }
   ],
   "source": [
    "one_link.find_by_xpath('div/div[@class=\"photo_inner\"]/a/img')['src']"
   ]
  },
  {
   "cell_type": "code",
   "execution_count": 14,
   "metadata": {
    "collapsed": false
   },
   "outputs": [],
   "source": [
    "hotel_names = []\n",
    "text_summaries = []\n",
    "links = []\n",
    "biz_ids = []\n",
    "\n",
    "for lnk in archive_links:\n",
    "    hotel_names.append(lnk.find_by_xpath('div[2]/h1/a').value)\n",
    "    biz_ids.append(lnk['id'].split('_')[-1])\n",
    "    text_summaries.append(lnk.text)\n",
    "    this_link = lnk.find_by_xpath('div/h1/a')['href']\n",
    "    links.append(this_link)\n"
   ]
  },
  {
   "cell_type": "code",
   "execution_count": 15,
   "metadata": {
    "collapsed": false
   },
   "outputs": [
    {
     "data": {
      "text/plain": [
       "[u'http://www.bringfido.com/lodging/68306/?cid=14455&ar=&dt=&rm=1&ad=1&ch=0&dg=1&rt=99.19',\n",
       " u'http://www.bringfido.com/lodging/68322/?cid=14455&ar=&dt=&rm=1&ad=1&ch=0&dg=1&rt=103.2',\n",
       " u'http://www.bringfido.com/lodging/68296/?cid=14455&ar=&dt=&rm=1&ad=1&ch=0&dg=1&rt=279.3',\n",
       " u'http://www.bringfido.com/lodging/68292/?cid=14455&ar=&dt=&rm=1&ad=1&ch=0&dg=1&rt=125.99',\n",
       " u'http://www.bringfido.com/lodging/68289/?cid=14455&ar=&dt=&rm=1&ad=1&ch=0&dg=1&rt=69.99',\n",
       " u'http://www.bringfido.com/lodging/68307/?cid=14455&ar=&dt=&rm=1&ad=1&ch=0&dg=1&rt=179.01',\n",
       " u'http://www.bringfido.com/lodging/68290/?cid=14455&ar=&dt=&rm=1&ad=1&ch=0&dg=1&rt=112.49',\n",
       " u'http://www.bringfido.com/lodging/68308/?cid=14455&ar=&dt=&rm=1&ad=1&ch=0&dg=1&rt=329',\n",
       " u'http://www.bringfido.com/lodging/68286/?cid=14455&ar=&dt=&rm=1&ad=1&ch=0&dg=1&rt=239',\n",
       " u'http://www.bringfido.com/lodging/68320/?cid=14455&ar=&dt=&rm=1&ad=1&ch=0&dg=1&rt=123',\n",
       " u'http://www.bringfido.com/lodging/68291/?cid=14455&ar=&dt=&rm=1&ad=1&ch=0&dg=1&rt=69.99',\n",
       " u'http://www.bringfido.com/lodging/68303/?cid=14455&ar=&dt=&rm=1&ad=1&ch=0&dg=1&rt=119',\n",
       " u'http://www.bringfido.com/lodging/68301/?cid=14455&ar=&dt=&rm=1&ad=1&ch=0&dg=1&rt=69.99',\n",
       " u'http://www.bringfido.com/lodging/68324/?cid=14455&ar=&dt=&rm=1&ad=1&ch=0&dg=1&rt=109',\n",
       " u'http://www.bringfido.com/lodging/68317/?cid=14455&ar=&dt=&rm=1&ad=1&ch=0&dg=1&rt=229']"
      ]
     },
     "execution_count": 15,
     "metadata": {},
     "output_type": "execute_result"
    }
   ],
   "source": [
    "links"
   ]
  },
  {
   "cell_type": "code",
   "execution_count": 16,
   "metadata": {
    "collapsed": false
   },
   "outputs": [
    {
     "data": {
      "text/plain": [
       "[u'68306',\n",
       " u'68322',\n",
       " u'68296',\n",
       " u'68292',\n",
       " u'68289',\n",
       " u'68307',\n",
       " u'68290',\n",
       " u'68308',\n",
       " u'68286',\n",
       " u'68320',\n",
       " u'68291',\n",
       " u'68303',\n",
       " u'68301',\n",
       " u'68324',\n",
       " u'68317']"
      ]
     },
     "execution_count": 16,
     "metadata": {},
     "output_type": "execute_result"
    }
   ],
   "source": [
    "biz_ids"
   ]
  },
  {
   "cell_type": "code",
   "execution_count": 19,
   "metadata": {
    "collapsed": false
   },
   "outputs": [
    {
     "data": {
      "text/plain": [
       "3"
      ]
     },
     "execution_count": 19,
     "metadata": {},
     "output_type": "execute_result"
    }
   ],
   "source": [
    "len(br.find_by_xpath('//*[@id=\"results_paging_controls_bottom\"]/span'))"
   ]
  },
  {
   "cell_type": "code",
   "execution_count": 21,
   "metadata": {
    "collapsed": true
   },
   "outputs": [],
   "source": [
    "button = br.find_by_id('page_2')[0]"
   ]
  },
  {
   "cell_type": "code",
   "execution_count": 22,
   "metadata": {
    "collapsed": false
   },
   "outputs": [
    {
     "data": {
      "text/plain": [
       "<splinter.driver.webdriver.WebDriverElement at 0x103663bd0>"
      ]
     },
     "execution_count": 22,
     "metadata": {},
     "output_type": "execute_result"
    }
   ],
   "source": [
    "button"
   ]
  },
  {
   "cell_type": "code",
   "execution_count": 18,
   "metadata": {
    "collapsed": true
   },
   "outputs": [],
   "source": [
    "button.click()"
   ]
  },
  {
   "cell_type": "code",
   "execution_count": 13,
   "metadata": {
    "collapsed": true
   },
   "outputs": [],
   "source": [
    "url_base = 'http://www.bringfido.com'  \n",
    "hotel_id = 0\n",
    "link = links[1]\n",
    "br.visit(link)"
   ]
  },
  {
   "cell_type": "code",
   "execution_count": 14,
   "metadata": {
    "collapsed": true
   },
   "outputs": [],
   "source": [
    "hotel_description = br.find_by_xpath('//*[@class=\"body\"]').text"
   ]
  },
  {
   "cell_type": "code",
   "execution_count": 15,
   "metadata": {
    "collapsed": false
   },
   "outputs": [
    {
     "data": {
      "text/plain": [
       "u'La Quinta Inn Phoenix Arcadia is dog friendly. Two pets of any size are welcome for no additional fee. All rooms are pet friendly. If you find that this pet policy is no longer accurate, please submit a correction now.'"
      ]
     },
     "execution_count": 15,
     "metadata": {},
     "output_type": "execute_result"
    }
   ],
   "source": [
    "hotel_description"
   ]
  },
  {
   "cell_type": "code",
   "execution_count": 16,
   "metadata": {
    "collapsed": true
   },
   "outputs": [],
   "source": [
    "details = br.find_by_xpath('//*[@class=\"address\"]').text.split('\\n')"
   ]
  },
  {
   "cell_type": "code",
   "execution_count": 17,
   "metadata": {
    "collapsed": false
   },
   "outputs": [
    {
     "data": {
      "text/plain": [
       "[u'4727 E Thomas Rd',\n",
       " u'Phoenix, AZ, US 85018',\n",
       " u'877-411-3436',\n",
       " u'View Website']"
      ]
     },
     "execution_count": 17,
     "metadata": {},
     "output_type": "execute_result"
    }
   ],
   "source": [
    "details"
   ]
  },
  {
   "cell_type": "code",
   "execution_count": 18,
   "metadata": {
    "collapsed": false
   },
   "outputs": [],
   "source": [
    "reviews = br.find_by_xpath('//*[@class=\"review_container\"]')"
   ]
  },
  {
   "cell_type": "code",
   "execution_count": 19,
   "metadata": {
    "collapsed": false
   },
   "outputs": [
    {
     "data": {
      "text/plain": [
       "[<splinter.driver.webdriver.WebDriverElement at 0x1021dbed0>,\n",
       " <splinter.driver.webdriver.WebDriverElement at 0x1021dbd50>,\n",
       " <splinter.driver.webdriver.WebDriverElement at 0x1021dbc10>,\n",
       " <splinter.driver.webdriver.WebDriverElement at 0x1021dbe90>,\n",
       " <splinter.driver.webdriver.WebDriverElement at 0x1021dbc50>,\n",
       " <splinter.driver.webdriver.WebDriverElement at 0x1021dbf90>]"
      ]
     },
     "execution_count": 19,
     "metadata": {},
     "output_type": "execute_result"
    }
   ],
   "source": [
    "reviews"
   ]
  },
  {
   "cell_type": "markdown",
   "metadata": {},
   "source": [
    "#### Extract the view div content"
   ]
  },
  {
   "cell_type": "code",
   "execution_count": 20,
   "metadata": {
    "collapsed": true
   },
   "outputs": [],
   "source": [
    "rev = reviews[0]"
   ]
  },
  {
   "cell_type": "code",
   "execution_count": 21,
   "metadata": {
    "collapsed": false
   },
   "outputs": [
    {
     "data": {
      "text/plain": [
       "u'Great place to stay!'"
      ]
     },
     "execution_count": 21,
     "metadata": {},
     "output_type": "execute_result"
    }
   ],
   "source": [
    "# title:\n",
    "rev.find_by_xpath('div/div[1]').text"
   ]
  },
  {
   "cell_type": "code",
   "execution_count": 22,
   "metadata": {
    "collapsed": false
   },
   "outputs": [
    {
     "data": {
      "text/plain": [
       "u'Jen in Vancouver'"
      ]
     },
     "execution_count": 22,
     "metadata": {},
     "output_type": "execute_result"
    }
   ],
   "source": [
    "# author\n",
    "rev.find_by_xpath('div/div[2]').text"
   ]
  },
  {
   "cell_type": "markdown",
   "metadata": {},
   "source": [
    "#### text"
   ]
  },
  {
   "cell_type": "code",
   "execution_count": 23,
   "metadata": {
    "collapsed": false
   },
   "outputs": [
    {
     "data": {
      "text/plain": [
       "u\"We've stayed at this La Quinta several times with our two mini schnauzers. The staff is all very friendly. Rooms were clean but not overly fancy - we felt like we didn't need to worry leaving our dogs there for short periods while we went out to eat, etc. In a great location. Great breakfast too!\""
      ]
     },
     "execution_count": 23,
     "metadata": {},
     "output_type": "execute_result"
    }
   ],
   "source": [
    "rev.find_by_xpath('div/div[3]').text"
   ]
  },
  {
   "cell_type": "markdown",
   "metadata": {},
   "source": [
    "#### rating"
   ]
  },
  {
   "cell_type": "code",
   "execution_count": 24,
   "metadata": {
    "collapsed": false
   },
   "outputs": [
    {
     "data": {
      "text/plain": [
       "u'5'"
      ]
     },
     "execution_count": 24,
     "metadata": {},
     "output_type": "execute_result"
    }
   ],
   "source": [
    "rev.find_by_xpath('div[2]/img')['src'].split('/')[-1][0:1]\n"
   ]
  },
  {
   "cell_type": "markdown",
   "metadata": {},
   "source": [
    "### Now loop through all pages extracting the elements"
   ]
  },
  {
   "cell_type": "code",
   "execution_count": 25,
   "metadata": {
    "collapsed": false
   },
   "outputs": [
    {
     "name": "stdout",
     "output_type": "stream",
     "text": [
      "**************************************************\n",
      "Now on http://www.bringfido.com/lodging/64846/?cid=14020&ar=&dt=&rm=1&ad=1&ch=0&dg=1&rt=199\n",
      "**************************************************\n",
      "[<splinter.driver.webdriver.WebDriverElement object at 0x1095c0610>]\n",
      "\n",
      "5\n",
      "**************************************************\n",
      "Now on http://www.bringfido.com/lodging/64835/?cid=14020&ar=&dt=&rm=1&ad=1&ch=0&dg=1&rt=64\n",
      "**************************************************\n",
      "[<splinter.driver.webdriver.WebDriverElement object at 0x1095f00d0>, <splinter.driver.webdriver.WebDriverElement object at 0x1095f0150>, <splinter.driver.webdriver.WebDriverElement object at 0x1095f01d0>, <splinter.driver.webdriver.WebDriverElement object at 0x1095f0250>, <splinter.driver.webdriver.WebDriverElement object at 0x1095f02d0>, <splinter.driver.webdriver.WebDriverElement object at 0x1095f0350>]\n",
      "\n",
      "5\n",
      "5\n",
      "5\n",
      "4\n",
      "3\n",
      "1\n",
      "**************************************************\n",
      "Now on http://www.bringfido.com/lodging/64834/?cid=14020&ar=&dt=&rm=1&ad=1&ch=0&dg=1&rt=62\n",
      "**************************************************\n",
      "[<splinter.driver.webdriver.WebDriverElement object at 0x1095f0850>]\n",
      "\n",
      "2\n",
      "**************************************************\n",
      "Now on http://www.bringfido.com/lodging/64836/?cid=14020&ar=&dt=&rm=1&ad=1&ch=0&dg=1&rt=64\n",
      "**************************************************\n",
      "[<splinter.driver.webdriver.WebDriverElement object at 0x1095f0f10>]\n",
      "\n",
      "4\n",
      "**************************************************\n",
      "Now on http://www.bringfido.com/lodging/64824/?cid=14020&ar=&dt=&rm=1&ad=1&ch=0&dg=1&rt=44.99\n",
      "**************************************************\n",
      "[<splinter.driver.webdriver.WebDriverElement object at 0x1095f0650>]\n",
      "\n",
      "3\n",
      "**************************************************\n",
      "Now on http://www.bringfido.com/lodging/132841/?cid=14020&ar=&dt=&rm=1&ad=1&ch=0&dg=1&rt=53\n",
      "**************************************************\n",
      "[]\n",
      "\n",
      "**************************************************\n",
      "Now on http://www.bringfido.com/lodging/64763/?cid=14020&ar=&dt=&rm=1&ad=1&ch=0&dg=1&rt=329\n",
      "**************************************************\n",
      "[<splinter.driver.webdriver.WebDriverElement object at 0x1095f2090>]\n",
      "\n",
      "5\n",
      "**************************************************\n",
      "Now on http://www.bringfido.com/lodging/130968/?cid=14020&ar=&dt=&rm=1&ad=1&ch=0&dg=1&rt=66\n",
      "**************************************************\n",
      "[]\n",
      "\n",
      "**************************************************\n",
      "Now on http://www.bringfido.com/lodging/64862/?cid=14020&ar=&dt=&rm=1&ad=1&ch=0&dg=1&rt=159\n",
      "**************************************************\n",
      "[]\n",
      "\n",
      "**************************************************\n",
      "Now on http://www.bringfido.com/lodging/64769/?cid=14020&ar=&dt=&rm=1&ad=1&ch=0&dg=1&rt=71.1\n",
      "**************************************************\n",
      "[]\n",
      "\n",
      "**************************************************\n",
      "Now on http://www.bringfido.com/lodging/64863/?cid=14020&ar=&dt=&rm=1&ad=1&ch=0&dg=1&rt=319\n",
      "**************************************************\n",
      "[]\n",
      "\n",
      "**************************************************\n",
      "Now on http://www.bringfido.com/lodging/64794/?cid=14020&ar=&dt=&rm=1&ad=1&ch=0&dg=1&rt=71.2\n",
      "**************************************************\n",
      "[]\n",
      "\n",
      "**************************************************\n",
      "Now on http://www.bringfido.com/lodging/132840/?cid=14020&ar=&dt=&rm=1&ad=1&ch=0&dg=1&rt=30\n",
      "**************************************************\n",
      "[]\n",
      "\n",
      "**************************************************\n",
      "Now on http://www.bringfido.com/lodging/64861/?cid=14020&ar=&dt=&rm=1&ad=1&ch=0&dg=1&rt=134.78\n",
      "**************************************************\n",
      "[]\n",
      "\n",
      "**************************************************\n",
      "Now on http://www.bringfido.com/lodging/64847/?cid=14020&ar=&dt=&rm=1&ad=1&ch=0&dg=1&rt=199\n",
      "**************************************************\n",
      "[]\n",
      "\n"
     ]
    },
    {
     "name": "stderr",
     "output_type": "stream",
     "text": [
      "/Applications/anaconda/lib/python2.7/site-packages/numpy/core/_methods.py:59: RuntimeWarning: Mean of empty slice.\n",
      "  warnings.warn(\"Mean of empty slice.\", RuntimeWarning)\n"
     ]
    }
   ],
   "source": [
    "columns = ['hotel_id',\n",
    "           'hotel_url',\n",
    "           'hotel_name',\n",
    "           'hotel_address',\n",
    "           'hotel_city',\n",
    "           'hotel_state',\n",
    "           'hotel_rating',\n",
    "           'hotel_latitude',\n",
    "           'hotel_longitude',\n",
    "           'review_count',\n",
    "           'hotel_address',\n",
    "           'business_id',\n",
    "           'review_id',\n",
    "           'user_id',\n",
    "           'username',\n",
    "           'review_title',\n",
    "           'review_text',\n",
    "           'review_rating',\n",
    "           'review_date']\n",
    "\n",
    "bigdf = pd.DataFrame(columns=columns)\n",
    "\n",
    "for hotel_id, link in enumerate(links):\n",
    "    print('*'*50)\n",
    "    print('Now on {}'.format(link))\n",
    "    print('*'*50)\n",
    "    br.visit(link)\n",
    "    \n",
    "    df = pd.DataFrame(columns=columns)\n",
    "\n",
    "    hotel_description = br.find_by_xpath('//*[@class=\"body\"]').text\n",
    "\n",
    "    # scrape the address details section of the page\n",
    "    details = br.find_by_xpath('//*[@class=\"address\"]').text.split('\\n')\n",
    "\n",
    "    # now get just the address:\n",
    "    address = details[0]\n",
    "    \n",
    "    # and just the city, state, country, and zip code:\n",
    "    csczip = details[1]\n",
    "    \n",
    "    # and just the phone number\n",
    "    phone = details[2]\n",
    "    \n",
    "    # now separate the city, state, and zip:\n",
    "    city, state, zipcode = csczip.strip().split(',')\n",
    "    zipcode = zipcode[3:]\n",
    "    \n",
    "    #Now using correct Xpath we are fetching URL of archives\n",
    "    reviews = br.find_by_xpath('//*[@class=\"review_container\"]')\n",
    "\n",
    "    texts = []\n",
    "    titles = []\n",
    "    authors = []\n",
    "    ratings = []\n",
    "\n",
    "    print(reviews)\n",
    "    print('')\n",
    "    for rev in reviews:\n",
    "        titles.append(rev.find_by_xpath('div/div[1]').text)\n",
    "        authors.append(rev.find_by_xpath('div/div[2]').text)\n",
    "        texts.append(rev.find_by_xpath('div/div[3]').text)\n",
    "        ratings.append(rev.find_by_xpath('div[2]/img')['src'].split('/')[-1][0:1])\n",
    "        print(rev.find_by_xpath('div[2]/img')['src'].split('/')[-1][0:1])\n",
    "    \n",
    "    df['review_title'] = titles\n",
    "    df['username'] = authors\n",
    "    df['review_text'] = texts\n",
    "    df['review_rating'] = ratings\n",
    "    df['hotel_id'] = hotel_id\n",
    "    df['hotel_name'] = hotel_names[hotel_id]\n",
    "    df['hotel_url'] = link\n",
    "    df['hotel_address'] = address\n",
    "    df['hotel_city'] = city\n",
    "    df['hotel_state'] = state\n",
    "    df['hotel_rating'] = np.mean([int(rat) for rat in ratings])\n",
    "    df['hotel_latitude'] = ''\n",
    "    df['hotel_longitude'] = ''\n",
    "    df['review_count'] = len(texts)\n",
    "    df['review_id'] = 0\n",
    "    df['user_id'] = 0\n",
    "    \n",
    "    bigdf = bigdf.append(df)"
   ]
  },
  {
   "cell_type": "code",
   "execution_count": 26,
   "metadata": {
    "collapsed": false
   },
   "outputs": [
    {
     "data": {
      "text/html": [
       "<div style=\"max-height:1000px;max-width:1500px;overflow:auto;\">\n",
       "<table border=\"1\" class=\"dataframe\">\n",
       "  <thead>\n",
       "    <tr style=\"text-align: right;\">\n",
       "      <th></th>\n",
       "      <th>hotel_id</th>\n",
       "      <th>hotel_url</th>\n",
       "      <th>hotel_name</th>\n",
       "      <th>hotel_address</th>\n",
       "      <th>hotel_city</th>\n",
       "      <th>hotel_state</th>\n",
       "      <th>hotel_rating</th>\n",
       "      <th>hotel_latitude</th>\n",
       "      <th>hotel_longitude</th>\n",
       "      <th>review_count</th>\n",
       "      <th>hotel_address</th>\n",
       "      <th>business_id</th>\n",
       "      <th>review_id</th>\n",
       "      <th>user_id</th>\n",
       "      <th>username</th>\n",
       "      <th>review_title</th>\n",
       "      <th>review_text</th>\n",
       "      <th>review_rating</th>\n",
       "      <th>review_date</th>\n",
       "    </tr>\n",
       "  </thead>\n",
       "  <tbody>\n",
       "    <tr>\n",
       "      <th>0</th>\n",
       "      <td>0</td>\n",
       "      <td>http://www.bringfido.com/lodging/64846/?cid=14...</td>\n",
       "      <td>Pointe Hilton Squaw Peak Resort</td>\n",
       "      <td>7677 North 16th Street</td>\n",
       "      <td>Phoenix</td>\n",
       "      <td>AZ</td>\n",
       "      <td>5.000000</td>\n",
       "      <td></td>\n",
       "      <td></td>\n",
       "      <td>1</td>\n",
       "      <td>7677 North 16th Street</td>\n",
       "      <td>NaN</td>\n",
       "      <td>0</td>\n",
       "      <td>0</td>\n",
       "      <td>Marti Ackermann in Tucson, AZ</td>\n",
       "      <td>Pointe Hilton Squaw Peak</td>\n",
       "      <td>Really nice property. Great walking areas for ...</td>\n",
       "      <td>5</td>\n",
       "      <td>NaN</td>\n",
       "    </tr>\n",
       "    <tr>\n",
       "      <th>0</th>\n",
       "      <td>1</td>\n",
       "      <td>http://www.bringfido.com/lodging/64835/?cid=14...</td>\n",
       "      <td>La Quinta Inn Phoenix Arcadia</td>\n",
       "      <td>4727 E Thomas Rd</td>\n",
       "      <td>Phoenix</td>\n",
       "      <td>AZ</td>\n",
       "      <td>3.833333</td>\n",
       "      <td></td>\n",
       "      <td></td>\n",
       "      <td>6</td>\n",
       "      <td>4727 E Thomas Rd</td>\n",
       "      <td>NaN</td>\n",
       "      <td>0</td>\n",
       "      <td>0</td>\n",
       "      <td>Jen in Vancouver</td>\n",
       "      <td>Great place to stay!</td>\n",
       "      <td>We've stayed at this La Quinta several times w...</td>\n",
       "      <td>5</td>\n",
       "      <td>NaN</td>\n",
       "    </tr>\n",
       "    <tr>\n",
       "      <th>1</th>\n",
       "      <td>1</td>\n",
       "      <td>http://www.bringfido.com/lodging/64835/?cid=14...</td>\n",
       "      <td>La Quinta Inn Phoenix Arcadia</td>\n",
       "      <td>4727 E Thomas Rd</td>\n",
       "      <td>Phoenix</td>\n",
       "      <td>AZ</td>\n",
       "      <td>3.833333</td>\n",
       "      <td></td>\n",
       "      <td></td>\n",
       "      <td>6</td>\n",
       "      <td>4727 E Thomas Rd</td>\n",
       "      <td>NaN</td>\n",
       "      <td>0</td>\n",
       "      <td>0</td>\n",
       "      <td>Jody in Sierra Vista, AZ</td>\n",
       "      <td>Awesome Staff!!</td>\n",
       "      <td>This place was awesome!! The entire staff was ...</td>\n",
       "      <td>5</td>\n",
       "      <td>NaN</td>\n",
       "    </tr>\n",
       "    <tr>\n",
       "      <th>2</th>\n",
       "      <td>1</td>\n",
       "      <td>http://www.bringfido.com/lodging/64835/?cid=14...</td>\n",
       "      <td>La Quinta Inn Phoenix Arcadia</td>\n",
       "      <td>4727 E Thomas Rd</td>\n",
       "      <td>Phoenix</td>\n",
       "      <td>AZ</td>\n",
       "      <td>3.833333</td>\n",
       "      <td></td>\n",
       "      <td></td>\n",
       "      <td>6</td>\n",
       "      <td>4727 E Thomas Rd</td>\n",
       "      <td>NaN</td>\n",
       "      <td>0</td>\n",
       "      <td>0</td>\n",
       "      <td>Kristi in Henderson NV</td>\n",
       "      <td>Very dog friendly</td>\n",
       "      <td>We've stayed at this hotel two times with our ...</td>\n",
       "      <td>5</td>\n",
       "      <td>NaN</td>\n",
       "    </tr>\n",
       "    <tr>\n",
       "      <th>3</th>\n",
       "      <td>1</td>\n",
       "      <td>http://www.bringfido.com/lodging/64835/?cid=14...</td>\n",
       "      <td>La Quinta Inn Phoenix Arcadia</td>\n",
       "      <td>4727 E Thomas Rd</td>\n",
       "      <td>Phoenix</td>\n",
       "      <td>AZ</td>\n",
       "      <td>3.833333</td>\n",
       "      <td></td>\n",
       "      <td></td>\n",
       "      <td>6</td>\n",
       "      <td>4727 E Thomas Rd</td>\n",
       "      <td>NaN</td>\n",
       "      <td>0</td>\n",
       "      <td>0</td>\n",
       "      <td>Christopher in Los Angeles</td>\n",
       "      <td>All around great place to stay.</td>\n",
       "      <td>My room while a bit small was very clean and t...</td>\n",
       "      <td>4</td>\n",
       "      <td>NaN</td>\n",
       "    </tr>\n",
       "    <tr>\n",
       "      <th>4</th>\n",
       "      <td>1</td>\n",
       "      <td>http://www.bringfido.com/lodging/64835/?cid=14...</td>\n",
       "      <td>La Quinta Inn Phoenix Arcadia</td>\n",
       "      <td>4727 E Thomas Rd</td>\n",
       "      <td>Phoenix</td>\n",
       "      <td>AZ</td>\n",
       "      <td>3.833333</td>\n",
       "      <td></td>\n",
       "      <td></td>\n",
       "      <td>6</td>\n",
       "      <td>4727 E Thomas Rd</td>\n",
       "      <td>NaN</td>\n",
       "      <td>0</td>\n",
       "      <td>0</td>\n",
       "      <td>Dave in Sedona</td>\n",
       "      <td>Management and customer service</td>\n",
       "      <td>The big gentleman who manages the front desk i...</td>\n",
       "      <td>3</td>\n",
       "      <td>NaN</td>\n",
       "    </tr>\n",
       "    <tr>\n",
       "      <th>5</th>\n",
       "      <td>1</td>\n",
       "      <td>http://www.bringfido.com/lodging/64835/?cid=14...</td>\n",
       "      <td>La Quinta Inn Phoenix Arcadia</td>\n",
       "      <td>4727 E Thomas Rd</td>\n",
       "      <td>Phoenix</td>\n",
       "      <td>AZ</td>\n",
       "      <td>3.833333</td>\n",
       "      <td></td>\n",
       "      <td></td>\n",
       "      <td>6</td>\n",
       "      <td>4727 E Thomas Rd</td>\n",
       "      <td>NaN</td>\n",
       "      <td>0</td>\n",
       "      <td>0</td>\n",
       "      <td>Teri in Southern California</td>\n",
       "      <td>Bad Experience.</td>\n",
       "      <td>I was driving from So Cal to Houston, TX for t...</td>\n",
       "      <td>1</td>\n",
       "      <td>NaN</td>\n",
       "    </tr>\n",
       "    <tr>\n",
       "      <th>0</th>\n",
       "      <td>2</td>\n",
       "      <td>http://www.bringfido.com/lodging/64834/?cid=14...</td>\n",
       "      <td>La Quinta Inn Phoenix North</td>\n",
       "      <td>2510 WGreenway Rd</td>\n",
       "      <td>Phoenix</td>\n",
       "      <td>AZ</td>\n",
       "      <td>2.000000</td>\n",
       "      <td></td>\n",
       "      <td></td>\n",
       "      <td>1</td>\n",
       "      <td>2510 WGreenway Rd</td>\n",
       "      <td>NaN</td>\n",
       "      <td>0</td>\n",
       "      <td>0</td>\n",
       "      <td>emma in park city</td>\n",
       "      <td>no dog area</td>\n",
       "      <td>the hotel was fine but it is all hard scape ar...</td>\n",
       "      <td>2</td>\n",
       "      <td>NaN</td>\n",
       "    </tr>\n",
       "    <tr>\n",
       "      <th>0</th>\n",
       "      <td>3</td>\n",
       "      <td>http://www.bringfido.com/lodging/64836/?cid=14...</td>\n",
       "      <td>La Quinta Inn Phoenix Thomas Road</td>\n",
       "      <td>2725 N Black Canyon Hwy</td>\n",
       "      <td>Phoenix</td>\n",
       "      <td>AZ</td>\n",
       "      <td>4.000000</td>\n",
       "      <td></td>\n",
       "      <td></td>\n",
       "      <td>1</td>\n",
       "      <td>2725 N Black Canyon Hwy</td>\n",
       "      <td>NaN</td>\n",
       "      <td>0</td>\n",
       "      <td>0</td>\n",
       "      <td>Scruffy in CA</td>\n",
       "      <td>Recommended!</td>\n",
       "      <td>Hotel has a grass area and dog potty station. ...</td>\n",
       "      <td>4</td>\n",
       "      <td>NaN</td>\n",
       "    </tr>\n",
       "    <tr>\n",
       "      <th>0</th>\n",
       "      <td>4</td>\n",
       "      <td>http://www.bringfido.com/lodging/64824/?cid=14...</td>\n",
       "      <td>Crossland Economy Studios Phoenix Metro</td>\n",
       "      <td>2102 W Dunlap Ave</td>\n",
       "      <td>Phoenix</td>\n",
       "      <td>AZ</td>\n",
       "      <td>3.000000</td>\n",
       "      <td></td>\n",
       "      <td></td>\n",
       "      <td>1</td>\n",
       "      <td>2102 W Dunlap Ave</td>\n",
       "      <td>NaN</td>\n",
       "      <td>0</td>\n",
       "      <td>0</td>\n",
       "      <td>Melissa in Kingman, AZ</td>\n",
       "      <td>Needs improvement</td>\n",
       "      <td>My room in general was in need of a lot of gen...</td>\n",
       "      <td>3</td>\n",
       "      <td>NaN</td>\n",
       "    </tr>\n",
       "    <tr>\n",
       "      <th>0</th>\n",
       "      <td>6</td>\n",
       "      <td>http://www.bringfido.com/lodging/64763/?cid=14...</td>\n",
       "      <td>Arizona Biltmore Waldorf Astoria</td>\n",
       "      <td>2400 E Missouri Ave</td>\n",
       "      <td>Phoenix</td>\n",
       "      <td>AZ</td>\n",
       "      <td>5.000000</td>\n",
       "      <td></td>\n",
       "      <td></td>\n",
       "      <td>1</td>\n",
       "      <td>2400 E Missouri Ave</td>\n",
       "      <td>NaN</td>\n",
       "      <td>0</td>\n",
       "      <td>0</td>\n",
       "      <td>Karrie in Friendship ME</td>\n",
       "      <td>Gus &amp; Luna Pampered at the Arizona Biltmore</td>\n",
       "      <td>Very dog friendly. Aimee at the front desk was...</td>\n",
       "      <td>5</td>\n",
       "      <td>NaN</td>\n",
       "    </tr>\n",
       "  </tbody>\n",
       "</table>\n",
       "</div>"
      ],
      "text/plain": [
       "   hotel_id                                          hotel_url  \\\n",
       "0         0  http://www.bringfido.com/lodging/64846/?cid=14...   \n",
       "0         1  http://www.bringfido.com/lodging/64835/?cid=14...   \n",
       "1         1  http://www.bringfido.com/lodging/64835/?cid=14...   \n",
       "2         1  http://www.bringfido.com/lodging/64835/?cid=14...   \n",
       "3         1  http://www.bringfido.com/lodging/64835/?cid=14...   \n",
       "4         1  http://www.bringfido.com/lodging/64835/?cid=14...   \n",
       "5         1  http://www.bringfido.com/lodging/64835/?cid=14...   \n",
       "0         2  http://www.bringfido.com/lodging/64834/?cid=14...   \n",
       "0         3  http://www.bringfido.com/lodging/64836/?cid=14...   \n",
       "0         4  http://www.bringfido.com/lodging/64824/?cid=14...   \n",
       "0         6  http://www.bringfido.com/lodging/64763/?cid=14...   \n",
       "\n",
       "                                hotel_name            hotel_address  \\\n",
       "0          Pointe Hilton Squaw Peak Resort   7677 North 16th Street   \n",
       "0            La Quinta Inn Phoenix Arcadia         4727 E Thomas Rd   \n",
       "1            La Quinta Inn Phoenix Arcadia         4727 E Thomas Rd   \n",
       "2            La Quinta Inn Phoenix Arcadia         4727 E Thomas Rd   \n",
       "3            La Quinta Inn Phoenix Arcadia         4727 E Thomas Rd   \n",
       "4            La Quinta Inn Phoenix Arcadia         4727 E Thomas Rd   \n",
       "5            La Quinta Inn Phoenix Arcadia         4727 E Thomas Rd   \n",
       "0              La Quinta Inn Phoenix North        2510 WGreenway Rd   \n",
       "0        La Quinta Inn Phoenix Thomas Road  2725 N Black Canyon Hwy   \n",
       "0  Crossland Economy Studios Phoenix Metro        2102 W Dunlap Ave   \n",
       "0         Arizona Biltmore Waldorf Astoria      2400 E Missouri Ave   \n",
       "\n",
       "  hotel_city hotel_state  hotel_rating hotel_latitude hotel_longitude  \\\n",
       "0    Phoenix          AZ      5.000000                                  \n",
       "0    Phoenix          AZ      3.833333                                  \n",
       "1    Phoenix          AZ      3.833333                                  \n",
       "2    Phoenix          AZ      3.833333                                  \n",
       "3    Phoenix          AZ      3.833333                                  \n",
       "4    Phoenix          AZ      3.833333                                  \n",
       "5    Phoenix          AZ      3.833333                                  \n",
       "0    Phoenix          AZ      2.000000                                  \n",
       "0    Phoenix          AZ      4.000000                                  \n",
       "0    Phoenix          AZ      3.000000                                  \n",
       "0    Phoenix          AZ      5.000000                                  \n",
       "\n",
       "   review_count            hotel_address business_id  review_id  user_id  \\\n",
       "0             1   7677 North 16th Street         NaN          0        0   \n",
       "0             6         4727 E Thomas Rd         NaN          0        0   \n",
       "1             6         4727 E Thomas Rd         NaN          0        0   \n",
       "2             6         4727 E Thomas Rd         NaN          0        0   \n",
       "3             6         4727 E Thomas Rd         NaN          0        0   \n",
       "4             6         4727 E Thomas Rd         NaN          0        0   \n",
       "5             6         4727 E Thomas Rd         NaN          0        0   \n",
       "0             1        2510 WGreenway Rd         NaN          0        0   \n",
       "0             1  2725 N Black Canyon Hwy         NaN          0        0   \n",
       "0             1        2102 W Dunlap Ave         NaN          0        0   \n",
       "0             1      2400 E Missouri Ave         NaN          0        0   \n",
       "\n",
       "                        username                                 review_title  \\\n",
       "0  Marti Ackermann in Tucson, AZ                     Pointe Hilton Squaw Peak   \n",
       "0               Jen in Vancouver                         Great place to stay!   \n",
       "1       Jody in Sierra Vista, AZ                              Awesome Staff!!   \n",
       "2         Kristi in Henderson NV                            Very dog friendly   \n",
       "3     Christopher in Los Angeles              All around great place to stay.   \n",
       "4                 Dave in Sedona              Management and customer service   \n",
       "5    Teri in Southern California                              Bad Experience.   \n",
       "0              emma in park city                                  no dog area   \n",
       "0                  Scruffy in CA                                 Recommended!   \n",
       "0         Melissa in Kingman, AZ                            Needs improvement   \n",
       "0        Karrie in Friendship ME  Gus & Luna Pampered at the Arizona Biltmore   \n",
       "\n",
       "                                         review_text review_rating review_date  \n",
       "0  Really nice property. Great walking areas for ...             5         NaN  \n",
       "0  We've stayed at this La Quinta several times w...             5         NaN  \n",
       "1  This place was awesome!! The entire staff was ...             5         NaN  \n",
       "2  We've stayed at this hotel two times with our ...             5         NaN  \n",
       "3  My room while a bit small was very clean and t...             4         NaN  \n",
       "4  The big gentleman who manages the front desk i...             3         NaN  \n",
       "5  I was driving from So Cal to Houston, TX for t...             1         NaN  \n",
       "0  the hotel was fine but it is all hard scape ar...             2         NaN  \n",
       "0  Hotel has a grass area and dog potty station. ...             4         NaN  \n",
       "0  My room in general was in need of a lot of gen...             3         NaN  \n",
       "0  Very dog friendly. Aimee at the front desk was...             5         NaN  "
      ]
     },
     "execution_count": 26,
     "metadata": {},
     "output_type": "execute_result"
    }
   ],
   "source": [
    "bigdf"
   ]
  },
  {
   "cell_type": "code",
   "execution_count": 27,
   "metadata": {
    "collapsed": false
   },
   "outputs": [
    {
     "data": {
      "text/plain": [
       "11"
      ]
     },
     "execution_count": 27,
     "metadata": {},
     "output_type": "execute_result"
    }
   ],
   "source": [
    "len(bigdf)"
   ]
  },
  {
   "cell_type": "markdown",
   "metadata": {},
   "source": [
    "## Add reviews to DB"
   ]
  },
  {
   "cell_type": "code",
   "execution_count": 31,
   "metadata": {
    "collapsed": true
   },
   "outputs": [],
   "source": [
    "import sqlalchemy\n",
    "import connect_aws_db as cadb"
   ]
  },
  {
   "cell_type": "code",
   "execution_count": 32,
   "metadata": {
    "collapsed": true
   },
   "outputs": [],
   "source": [
    "engine = cadb.connect_aws_db(write_unicode=True)"
   ]
  },
  {
   "cell_type": "code",
   "execution_count": 33,
   "metadata": {
    "collapsed": true
   },
   "outputs": [],
   "source": [
    "conn = engine.connect()"
   ]
  },
  {
   "cell_type": "code",
   "execution_count": 34,
   "metadata": {
    "collapsed": true
   },
   "outputs": [],
   "source": [
    "cmd = \"DROP TABLE bf_reviews\"\n",
    "result = conn.execute(cmd)"
   ]
  },
  {
   "cell_type": "code",
   "execution_count": 35,
   "metadata": {
    "collapsed": true
   },
   "outputs": [],
   "source": [
    "cmd = \"\"\"\n",
    "        CREATE TABLE bf_reviews\n",
    "        (\n",
    "        review_id MEDIUMINT AUTO_INCREMENT,\n",
    "        hotel_id VARCHAR(256),\n",
    "        hotel_url VARCHAR(512),\n",
    "        hotel_img_url VARCHAR(512),\n",
    "        business_id VARCHAR(256),\n",
    "        user_id MEDIUMINT,\n",
    "        username VARCHAR(128),\n",
    "        review_title VARCHAR(256),\n",
    "        review_rating INT,\n",
    "        review_text VARCHAR(5000),\n",
    "        PRIMARY KEY (review_id)\n",
    "        )\n",
    "        \"\"\"\n",
    "        "
   ]
  },
  {
   "cell_type": "code",
   "execution_count": 36,
   "metadata": {
    "collapsed": true
   },
   "outputs": [],
   "source": [
    "result = conn.execute(cmd)"
   ]
  },
  {
   "cell_type": "code",
   "execution_count": 34,
   "metadata": {
    "collapsed": true
   },
   "outputs": [],
   "source": [
    "bigdf_reviews = bigdf[['hotel_id', 'review_id', 'business_id', 'user_id',\n",
    "                      'username', 'review_title', 'review_text', 'review_rating']].copy()"
   ]
  },
  {
   "cell_type": "code",
   "execution_count": 35,
   "metadata": {
    "collapsed": true
   },
   "outputs": [],
   "source": [
    "bigdf_reviews.to_sql('bf_reviews', engine, if_exists='append', index=False)"
   ]
  },
  {
   "cell_type": "code",
   "execution_count": 37,
   "metadata": {
    "collapsed": true
   },
   "outputs": [],
   "source": [
    "cmd = \"DROP TABLE bf_hotels\"\n",
    "result = conn.execute(cmd)"
   ]
  },
  {
   "cell_type": "code",
   "execution_count": 38,
   "metadata": {
    "collapsed": true
   },
   "outputs": [],
   "source": [
    "cmd = \"\"\"\n",
    "        CREATE TABLE bf_hotels\n",
    "        (\n",
    "        hotel_id MEDIUMINT AUTO_INCREMENT,\n",
    "        hotel_url VARCHAR(512),\n",
    "        hotel_img_url VARCHAR(512),\n",
    "        hotel_name VARCHAR(512),\n",
    "        hotel_address VARCHAR(1024),\n",
    "        hotel_city VARCHAR(512),\n",
    "        hotel_state VARCHAR(32),\n",
    "        hotel_rating INT(11),\n",
    "        hotel_latitude FLOAT,\n",
    "        hotel_longitude FLOAT,\n",
    "        business_id VARCHAR(256),\n",
    "        review_count MEDIUMINT,\n",
    "        PRIMARY KEY (hotel_id)\n",
    "        )\n",
    "        \"\"\"\n"
   ]
  },
  {
   "cell_type": "code",
   "execution_count": 39,
   "metadata": {
    "collapsed": true
   },
   "outputs": [],
   "source": [
    "result = conn.execute(cmd)"
   ]
  },
  {
   "cell_type": "markdown",
   "metadata": {},
   "source": [
    "## Add second page of bringfido Phoenix reviews"
   ]
  },
  {
   "cell_type": "code",
   "execution_count": 39,
   "metadata": {
    "collapsed": true
   },
   "outputs": [],
   "source": [
    "#page_1_url = \"http://www.bringfido.com/lodging/city/phoenix_az_us/?arrival=None&adults=1&fee_under_25=False&rate_low=0&multiple_allowed=False&departure=None&dogs=0&rate_high=1000&rating_high=5&rooms=1&rating_low=0&large_allowed=False&nofee=False&deposit_only=False&type=&children=0&location=Phoenix%2C+AZ%2C+US\"\n",
    "# palo alto\n",
    "br.visit('http://www.bringfido.com/lodging/city/palo_alto_ca_us')"
   ]
  },
  {
   "cell_type": "code",
   "execution_count": 40,
   "metadata": {
    "collapsed": false
   },
   "outputs": [
    {
     "data": {
      "text/plain": [
       "[u'http://www.bringfido.com/lodging/67427/?cid=14392&ar=&dt=&rm=1&ad=1&ch=0&dg=1&rt=199',\n",
       " u'http://www.bringfido.com/lodging/67422/?cid=14392&ar=&dt=&rm=1&ad=1&ch=0&dg=1&rt=575',\n",
       " u'http://www.bringfido.com/lodging/67419/?cid=14392&ar=&dt=&rm=1&ad=1&ch=0&dg=1&rt=108',\n",
       " u'http://www.bringfido.com/lodging/67420/?cid=14392&ar=&dt=&rm=1&ad=1&ch=0&dg=1&rt=149',\n",
       " u'http://www.bringfido.com/lodging/67421/?cid=14392&ar=&dt=&rm=1&ad=1&ch=0&dg=1&rt=369',\n",
       " u'http://www.bringfido.com/lodging/67431/?cid=14392&ar=&dt=&rm=1&ad=1&ch=0&dg=1&rt=499',\n",
       " u'http://www.bringfido.com/lodging/67416/?cid=14392&ar=&dt=&rm=1&ad=1&ch=0&dg=1&rt=150',\n",
       " u'http://www.bringfido.com/lodging/128142/?cid=14392&ar=&dt=&rm=1&ad=1&ch=0&dg=1&rt=335']"
      ]
     },
     "execution_count": 40,
     "metadata": {},
     "output_type": "execute_result"
    }
   ],
   "source": [
    "archive_links = br.find_by_xpath('//*[@id=\"results_list\"]/div')\n",
    "\n",
    "hotel_names = []\n",
    "text_summaries = []\n",
    "links = []\n",
    "\n",
    "for lnk in archive_links:\n",
    "    hotel_names.append(lnk.find_by_xpath('div[2]/h1/a').value)\n",
    "    text_summaries.append(lnk.text)\n",
    "    this_link = lnk.find_by_xpath('div/h1/a')['href']\n",
    "    links.append(this_link)\n",
    "\n",
    "links"
   ]
  },
  {
   "cell_type": "code",
   "execution_count": 41,
   "metadata": {
    "collapsed": false
   },
   "outputs": [
    {
     "name": "stdout",
     "output_type": "stream",
     "text": [
      "**************************************************\n",
      "Now on http://www.bringfido.com/lodging/67427/?cid=14392&ar=&dt=&rm=1&ad=1&ch=0&dg=1&rt=199\n",
      "**************************************************\n",
      "[<splinter.driver.webdriver.WebDriverElement object at 0x1053eaa90>]\n",
      "\n",
      "3\n",
      "**************************************************\n",
      "Now on http://www.bringfido.com/lodging/67422/?cid=14392&ar=&dt=&rm=1&ad=1&ch=0&dg=1&rt=575\n",
      "**************************************************\n",
      "[<splinter.driver.webdriver.WebDriverElement object at 0x1053f63d0>, <splinter.driver.webdriver.WebDriverElement object at 0x1053f6590>]\n",
      "\n",
      "5\n",
      "5\n",
      "**************************************************\n",
      "Now on http://www.bringfido.com/lodging/67419/?cid=14392&ar=&dt=&rm=1&ad=1&ch=0&dg=1&rt=108\n",
      "**************************************************\n",
      "[<splinter.driver.webdriver.WebDriverElement object at 0x1053eaed0>]\n",
      "\n",
      "5\n",
      "**************************************************\n",
      "Now on http://www.bringfido.com/lodging/67420/?cid=14392&ar=&dt=&rm=1&ad=1&ch=0&dg=1&rt=149\n",
      "**************************************************\n",
      "[<splinter.driver.webdriver.WebDriverElement object at 0x1053eadd0>]\n",
      "\n",
      "1\n",
      "**************************************************\n",
      "Now on http://www.bringfido.com/lodging/67421/?cid=14392&ar=&dt=&rm=1&ad=1&ch=0&dg=1&rt=369\n",
      "**************************************************\n",
      "[]\n",
      "\n",
      "**************************************************\n",
      "Now on http://www.bringfido.com/lodging/67431/?cid=14392&ar=&dt=&rm=1&ad=1&ch=0&dg=1&rt=499\n",
      "**************************************************\n",
      "[]\n",
      "\n",
      "**************************************************\n",
      "Now on http://www.bringfido.com/lodging/67416/?cid=14392&ar=&dt=&rm=1&ad=1&ch=0&dg=1&rt=150\n",
      "**************************************************\n",
      "[]\n",
      "\n",
      "**************************************************\n",
      "Now on http://www.bringfido.com/lodging/128142/?cid=14392&ar=&dt=&rm=1&ad=1&ch=0&dg=1&rt=335\n",
      "**************************************************\n",
      "[]\n",
      "\n"
     ]
    }
   ],
   "source": [
    "columns = ['hotel_id',\n",
    "           'hotel_url',\n",
    "           'hotel_name',\n",
    "           'hotel_address',\n",
    "           'hotel_city',\n",
    "           'hotel_state',\n",
    "           'hotel_rating',\n",
    "           'hotel_latitude',\n",
    "           'hotel_longitude',\n",
    "           'review_count',\n",
    "           'hotel_address',\n",
    "           'business_id',\n",
    "           'review_id',\n",
    "           'user_id',\n",
    "           'username',\n",
    "           'review_title',\n",
    "           'review_text',\n",
    "           'review_rating',\n",
    "           'review_date']\n",
    "\n",
    "bigdf = pd.DataFrame(columns=columns)\n",
    "\n",
    "for hotel_id, link in enumerate(links):\n",
    "    print('*'*50)\n",
    "    print('Now on {}'.format(link))\n",
    "    print('*'*50)\n",
    "    br.visit(link)\n",
    "    \n",
    "    df = pd.DataFrame(columns=columns)\n",
    "\n",
    "    hotel_description = br.find_by_xpath('//*[@class=\"body\"]').text\n",
    "\n",
    "    # scrape the address details section of the page\n",
    "    details = br.find_by_xpath('//*[@class=\"address\"]').text.split('\\n')\n",
    "\n",
    "    # now get just the address:\n",
    "    address = details[0]\n",
    "    \n",
    "    # and just the city, state, country, and zip code:\n",
    "    csczip = details[1]\n",
    "    \n",
    "    # and just the phone number\n",
    "    phone = details[2]\n",
    "    \n",
    "    # now separate the city, state, and zip:\n",
    "    city, state, zipcode = csczip.strip().split(',')\n",
    "    zipcode = zipcode[3:]\n",
    "    \n",
    "    #Now using correct Xpath we are fetching URL of archives\n",
    "    reviews = br.find_by_xpath('//*[@class=\"review_container\"]')\n",
    "\n",
    "    texts = []\n",
    "    titles = []\n",
    "    authors = []\n",
    "    ratings = []\n",
    "\n",
    "    print(reviews)\n",
    "    print('')\n",
    "    for rev in reviews:\n",
    "        titles.append(rev.find_by_xpath('div/div[1]').text)\n",
    "        authors.append(rev.find_by_xpath('div/div[2]').text)\n",
    "        texts.append(rev.find_by_xpath('div/div[3]').text)\n",
    "        ratings.append(rev.find_by_xpath('div[2]/img')['src'].split('/')[-1][0:1])\n",
    "        print(rev.find_by_xpath('div[2]/img')['src'].split('/')[-1][0:1])\n",
    "    \n",
    "    df['review_title'] = titles\n",
    "    df['username'] = authors\n",
    "    df['review_text'] = texts\n",
    "    df['review_rating'] = ratings\n",
    "    df['hotel_id'] = hotel_id\n",
    "    df['hotel_name'] = hotel_names[hotel_id]\n",
    "    df['hotel_url'] = link\n",
    "    df['hotel_address'] = address\n",
    "    df['hotel_city'] = city\n",
    "    df['hotel_state'] = state\n",
    "    df['hotel_rating'] = np.mean([int(rat) for rat in ratings])\n",
    "    df['hotel_latitude'] = ''\n",
    "    df['hotel_longitude'] = ''\n",
    "    df['review_count'] = len(texts)\n",
    "    df['review_id'] = 0\n",
    "    df['user_id'] = 0\n",
    "    \n",
    "    bigdf = bigdf.append(df)"
   ]
  },
  {
   "cell_type": "code",
   "execution_count": 42,
   "metadata": {
    "collapsed": true
   },
   "outputs": [],
   "source": [
    "bigdf_reviews = bigdf[['hotel_id', 'review_id', 'business_id', 'user_id',\n",
    "                      'username', 'review_title', 'review_text', 'review_rating']].copy()\n",
    "\n",
    "bigdf_reviews.to_sql('bf_reviews', engine, if_exists='append', index=False)"
   ]
  },
  {
   "cell_type": "code",
   "execution_count": null,
   "metadata": {
    "collapsed": true
   },
   "outputs": [],
   "source": []
  }
 ],
 "metadata": {
  "kernelspec": {
   "display_name": "Python 2",
   "language": "python",
   "name": "python2"
  },
  "language_info": {
   "codemirror_mode": {
    "name": "ipython",
    "version": 2
   },
   "file_extension": ".py",
   "mimetype": "text/x-python",
   "name": "python",
   "nbconvert_exporter": "python",
   "pygments_lexer": "ipython2",
   "version": "2.7.10"
  }
 },
 "nbformat": 4,
 "nbformat_minor": 0
}
