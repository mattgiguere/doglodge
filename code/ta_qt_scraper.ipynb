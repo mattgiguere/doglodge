{
 "cells": [
  {
   "cell_type": "markdown",
   "metadata": {},
   "source": [
    "# ta_qt_scraper\n",
    "\n",
    "Code describing the scraping of the tripadvisor site."
   ]
  },
  {
   "cell_type": "code",
   "execution_count": 1,
   "metadata": {
    "collapsed": true
   },
   "outputs": [],
   "source": [
    "import sys  \n",
    "from PyQt4.QtGui import *  \n",
    "from PyQt4.QtCore import *  \n",
    "from PyQt4.QtWebKit import *  \n",
    "from lxml import html \n",
    "from time import sleep"
   ]
  },
  {
   "cell_type": "code",
   "execution_count": 2,
   "metadata": {
    "collapsed": true
   },
   "outputs": [],
   "source": [
    "class Render(QWebPage):  \n",
    "    def __init__(self, url):  \n",
    "        self.app = QApplication(sys.argv)  \n",
    "        QWebPage.__init__(self)  \n",
    "        self.loadFinished.connect(self._loadFinished)  \n",
    "        self.mainFrame().load(QUrl(url))  \n",
    "        self.app.exec_()  \n",
    "\n",
    "    def _loadFinished(self, result):  \n",
    "        self.frame = self.mainFrame()  \n",
    "        self.app.quit() \n",
    "    \n",
    "    def update_url(self, url):\n",
    "        self.mainFrame().load(QUrl(url))\n",
    "        self.app.exec_()  \n",
    "        "
   ]
  },
  {
   "cell_type": "code",
   "execution_count": 3,
   "metadata": {
    "collapsed": true
   },
   "outputs": [],
   "source": [
    "url=\"http://www.tripadvisor.com/Hotels-g33851-New_Haven_Connecticut-Hotels.html\""
   ]
  },
  {
   "cell_type": "code",
   "execution_count": 4,
   "metadata": {
    "collapsed": true
   },
   "outputs": [],
   "source": [
    "#Create the render object:\n",
    "r = Render(url)\n",
    "\n",
    "#result is a QString:\n",
    "result = r.frame.toHtml()\n",
    "\n",
    "#QString should be converted to string before processed by lxml\n",
    "formatted_result = str(result.toAscii())\n",
    "\n",
    "#Next build lxml tree from formatted_result\n",
    "tree = html.fromstring(formatted_result)"
   ]
  },
  {
   "cell_type": "code",
   "execution_count": 5,
   "metadata": {
    "collapsed": false
   },
   "outputs": [],
   "source": [
    "#Now using correct Xpath we are fetching URL of archives\n",
    "hotels_div = tree.xpath('//*[@id=\"ACCOM_OVERVIEW\"]/div/div/div/div')\n",
    "titles_div = tree.xpath('//*[@class=\"listing_title\"]')"
   ]
  },
  {
   "cell_type": "code",
   "execution_count": 6,
   "metadata": {
    "collapsed": false
   },
   "outputs": [
    {
     "data": {
      "text/plain": [
       "[<Element div at 0x109e396d8>,\n",
       " <Element div at 0x109e39890>,\n",
       " <Element div at 0x109e398e8>,\n",
       " <Element div at 0x109e39940>,\n",
       " <Element div at 0x109e39998>,\n",
       " <Element div at 0x109e399f0>,\n",
       " <Element div at 0x109e39a48>,\n",
       " <Element div at 0x109e39aa0>,\n",
       " <Element div at 0x109e39af8>,\n",
       " <Element div at 0x109e39b50>,\n",
       " <Element div at 0x109e39ba8>,\n",
       " <Element div at 0x109e39c00>,\n",
       " <Element div at 0x109e39c58>,\n",
       " <Element div at 0x109e39cb0>,\n",
       " <Element div at 0x109e39d08>,\n",
       " <Element div at 0x109e39d60>]"
      ]
     },
     "execution_count": 6,
     "metadata": {},
     "output_type": "execute_result"
    }
   ],
   "source": [
    "hotels_div"
   ]
  },
  {
   "cell_type": "code",
   "execution_count": 7,
   "metadata": {
    "collapsed": false
   },
   "outputs": [
    {
     "data": {
      "text/plain": [
       "[<Element div at 0x109e39db8>,\n",
       " <Element div at 0x109e39e10>,\n",
       " <Element div at 0x109e39e68>,\n",
       " <Element div at 0x109e39ec0>,\n",
       " <Element div at 0x109e39f18>,\n",
       " <Element div at 0x109e39f70>,\n",
       " <Element div at 0x109e39fc8>,\n",
       " <Element div at 0x109e57050>,\n",
       " <Element div at 0x109e570a8>,\n",
       " <Element div at 0x109e57100>,\n",
       " <Element div at 0x109e57158>,\n",
       " <Element div at 0x109e571b0>]"
      ]
     },
     "execution_count": 7,
     "metadata": {},
     "output_type": "execute_result"
    }
   ],
   "source": [
    "titles_div"
   ]
  },
  {
   "cell_type": "code",
   "execution_count": 8,
   "metadata": {
    "collapsed": false
   },
   "outputs": [
    {
     "name": "stdout",
     "output_type": "stream",
     "text": [
      "The Study at Yale\n",
      "/Hotel_Review-g33851-d1217689-Reviews-The_Study_at_Yale-New_Haven_Connecticut.html\n",
      "**************************************************\n",
      "Omni New Haven Hotel at YaleSpecial Offer12% Off or Free Parking! \n",
      "/Hotel_Review-g33851-d119851-Reviews-Omni_New_Haven_Hotel_at_Yale-New_Haven_Connecticut.html\n",
      "**************************************************\n",
      "New Haven Hotel\n",
      "/Hotel_Review-g33851-d85912-Reviews-New_Haven_Hotel-New_Haven_Connecticut.html\n",
      "**************************************************\n",
      "Courtyard New Haven at YaleSpecial OfferDouble Rewards Points! \n",
      "/Hotel_Review-g33851-d83697-Reviews-Courtyard_New_Haven_at_Yale-New_Haven_Connecticut.html\n",
      "**************************************************\n",
      "New Haven Premiere Hotel and Suites\n",
      "/Hotel_Review-g33851-d85908-Reviews-New_Haven_Premiere_Hotel_and_Suites-New_Haven_Connecticut.html\n",
      "**************************************************\n",
      "Duncan Hotel\n",
      "/Hotel_Review-g33851-d119885-Reviews-Duncan_Hotel-New_Haven_Connecticut.html\n",
      "**************************************************\n",
      "La Quinta Inn & Suites New HavenSpecial OfferSave up to 25% \n",
      "/Hotel_Review-g33851-d85971-Reviews-La_Quinta_Inn_Suites_New_Haven-New_Haven_Connecticut.html\n",
      "**************************************************\n",
      "Days Inn New HavenSpecial OfferPlan Ahead & Save 15% \n",
      "/Hotel_Review-g33851-d225916-Reviews-Days_Inn_New_Haven-New_Haven_Connecticut.html\n",
      "**************************************************\n",
      "Atlantic Motel\n",
      "/Hotel_Review-g33851-d119904-Reviews-Atlantic_Motel-New_Haven_Connecticut.html\n",
      "**************************************************\n",
      "Regal Inn\n",
      "/Hotel_Review-g33851-d83702-Reviews-Regal_Inn-New_Haven_Connecticut.html\n",
      "**************************************************\n",
      "New Haven Inn\n",
      "/Hotel_Review-g33851-d83701-Reviews-New_Haven_Inn-New_Haven_Connecticut.html\n",
      "**************************************************\n",
      "Park Plaza Hotel\n",
      "/Hotel_Review-g33851-d269024-Reviews-Park_Plaza_Hotel-New_Haven_Connecticut.html\n",
      "**************************************************\n"
     ]
    }
   ],
   "source": [
    "hotel_names = []\n",
    "links = []\n",
    "\n",
    "for title in titles_div:\n",
    "    print(title.text_content())\n",
    "    hotel_names.append(title.text_content())\n",
    "    print(title.xpath('a/@href')[0])\n",
    "    links.append(title.xpath('a/@href')[0])\n",
    "    print('*'*50)"
   ]
  },
  {
   "cell_type": "code",
   "execution_count": 9,
   "metadata": {
    "collapsed": false
   },
   "outputs": [
    {
     "data": {
      "text/plain": [
       "['/Hotel_Review-g33851-d1217689-Reviews-The_Study_at_Yale-New_Haven_Connecticut.html',\n",
       " '/Hotel_Review-g33851-d119851-Reviews-Omni_New_Haven_Hotel_at_Yale-New_Haven_Connecticut.html',\n",
       " '/Hotel_Review-g33851-d85912-Reviews-New_Haven_Hotel-New_Haven_Connecticut.html',\n",
       " '/Hotel_Review-g33851-d83697-Reviews-Courtyard_New_Haven_at_Yale-New_Haven_Connecticut.html',\n",
       " '/Hotel_Review-g33851-d85908-Reviews-New_Haven_Premiere_Hotel_and_Suites-New_Haven_Connecticut.html',\n",
       " '/Hotel_Review-g33851-d119885-Reviews-Duncan_Hotel-New_Haven_Connecticut.html',\n",
       " '/Hotel_Review-g33851-d85971-Reviews-La_Quinta_Inn_Suites_New_Haven-New_Haven_Connecticut.html',\n",
       " '/Hotel_Review-g33851-d225916-Reviews-Days_Inn_New_Haven-New_Haven_Connecticut.html',\n",
       " '/Hotel_Review-g33851-d119904-Reviews-Atlantic_Motel-New_Haven_Connecticut.html',\n",
       " '/Hotel_Review-g33851-d83702-Reviews-Regal_Inn-New_Haven_Connecticut.html',\n",
       " '/Hotel_Review-g33851-d83701-Reviews-New_Haven_Inn-New_Haven_Connecticut.html',\n",
       " '/Hotel_Review-g33851-d269024-Reviews-Park_Plaza_Hotel-New_Haven_Connecticut.html']"
      ]
     },
     "execution_count": 9,
     "metadata": {},
     "output_type": "execute_result"
    }
   ],
   "source": [
    "links"
   ]
  },
  {
   "cell_type": "markdown",
   "metadata": {},
   "source": [
    "## Now to scrape the reviews from a specific hotel"
   ]
  },
  {
   "cell_type": "code",
   "execution_count": 10,
   "metadata": {
    "collapsed": false
   },
   "outputs": [
    {
     "data": {
      "text/plain": [
       "'http://www.tripadvisor.com/Hotel_Review-g33851-d1217689-Reviews-The_Study_at_Yale-New_Haven_Connecticut.html'"
      ]
     },
     "execution_count": 10,
     "metadata": {},
     "output_type": "execute_result"
    }
   ],
   "source": [
    "base_url = 'http://www.tripadvisor.com'\n",
    "url = base_url+links[0]\n",
    "url"
   ]
  },
  {
   "cell_type": "code",
   "execution_count": 11,
   "metadata": {
    "collapsed": false
   },
   "outputs": [],
   "source": [
    "#Create the render object:\n",
    "r.update_url(url)\n",
    "\n",
    "#result is a QString:\n",
    "result = r.frame.toHtml()\n",
    "\n",
    "#QString should be converted to string before processed by lxml\n",
    "formatted_result = str(result.toAscii())\n",
    "\n",
    "#Next build lxml tree from formatted_result\n",
    "tree = html.fromstring(formatted_result)"
   ]
  },
  {
   "cell_type": "code",
   "execution_count": 12,
   "metadata": {
    "collapsed": true
   },
   "outputs": [],
   "source": [
    "# example of how to access specific divs within divs\n",
    "# sel.xpath('//div[@id=\"REVIEWS\"]/div/div[contains(@class, \"review\")]/div[@class=\"col2of2\"]/div[@class=\"innerBubble\"]')"
   ]
  },
  {
   "cell_type": "code",
   "execution_count": 172,
   "metadata": {
    "collapsed": false
   },
   "outputs": [],
   "source": [
    "full_reviews = tree.xpath('//div[contains(@class, \"reviewSelector\")]')\n",
    "# users = tree.xpath('//div[@class=\"col1of2\"]')"
   ]
  },
  {
   "cell_type": "code",
   "execution_count": 173,
   "metadata": {
    "collapsed": false
   },
   "outputs": [
    {
     "data": {
      "text/plain": [
       "[<Element div at 0x10aecdc00>,\n",
       " <Element div at 0x10ae18ec0>,\n",
       " <Element div at 0x10ae18f18>,\n",
       " <Element div at 0x10ae18f70>,\n",
       " <Element div at 0x10ae18fc8>,\n",
       " <Element div at 0x10ae2b050>,\n",
       " <Element div at 0x10ae2b0a8>,\n",
       " <Element div at 0x10ae2b100>,\n",
       " <Element div at 0x10ae2b158>,\n",
       " <Element div at 0x10ae2b1b0>]"
      ]
     },
     "execution_count": 173,
     "metadata": {},
     "output_type": "execute_result"
    }
   ],
   "source": [
    "full_reviews"
   ]
  },
  {
   "cell_type": "code",
   "execution_count": 108,
   "metadata": {
    "collapsed": false
   },
   "outputs": [
    {
     "data": {
      "text/plain": [
       "[<Element div at 0x1171b7730>,\n",
       " <Element div at 0x1171b77e0>,\n",
       " <Element div at 0x1171b7788>,\n",
       " <Element div at 0x1171b7838>,\n",
       " <Element div at 0x1171b7890>,\n",
       " <Element div at 0x1171b78e8>,\n",
       " <Element div at 0x1171b7940>,\n",
       " <Element div at 0x1171b7998>,\n",
       " <Element div at 0x1171b79f0>,\n",
       " <Element div at 0x1171b7a48>]"
      ]
     },
     "execution_count": 108,
     "metadata": {},
     "output_type": "execute_result"
    }
   ],
   "source": [
    "users"
   ]
  },
  {
   "cell_type": "code",
   "execution_count": 109,
   "metadata": {
    "collapsed": false
   },
   "outputs": [],
   "source": [
    "usr = users[0]"
   ]
  },
  {
   "cell_type": "code",
   "execution_count": 110,
   "metadata": {
    "collapsed": false
   },
   "outputs": [
    {
     "data": {
      "text/plain": [
       "'\\n\\n\\n\\n\\n\\n\\n\\n\\nGloria J\\n\\n\\n\\n\\n\\n\\n\\n\\nLevel  Contributor \\n\\n\\n4 reviews \\n\\n\\n'"
      ]
     },
     "execution_count": 110,
     "metadata": {},
     "output_type": "execute_result"
    }
   ],
   "source": [
    "usr.text_content()"
   ]
  },
  {
   "cell_type": "code",
   "execution_count": 189,
   "metadata": {
    "collapsed": false
   },
   "outputs": [
    {
     "name": "stdout",
     "output_type": "stream",
     "text": [
      "Username: Gloria J\n",
      "Location: \n",
      "Title: Best Place to Stay at New Haven\n",
      "Rating: 4\n",
      "Date: September 13, 2015\n",
      "Review:\n",
      "We've stayed at a few places at New Haven, and this is by far the best place in terms of service, atmosphere, and location. It is located very close to Yale and in a charming boutique area. The staff members we encountered were all very nice and helpful and free water, breakfast items, and fruits were nice touches. Could use...More\n",
      "**************************************************\n",
      "Username: ILphotomom\n",
      "Location: Bloomington, Illinois\n",
      "Title: really enjoyed my stay\n",
      "Rating: 5\n",
      "Date: September 9, 2015\n",
      "Review:\n",
      "I was visiting New Haven for work and had the good fortune to end up at The Study at Yale - The room was spacious with a long desk along the window facing out to the street lined with shops. Nice view right on campus and only 1 block from the art gallery\n",
      "**************************************************\n",
      "Username: donaldk184\n",
      "Location: Carmel\n",
      "Title: The Study Rocks!\n",
      "Rating: 5\n",
      "Date: September 2, 2015\n",
      "Review:\n",
      "The best place to stay in New Haven. Great rooms and customer service. It's the place to have a civilized stay when visiting New Haven. I appreciated the honesty from the folks at the front desk when recommending where to eat and where to avoid.\n",
      "**************************************************\n",
      "Username: jksingapore\n",
      "Location: \n",
      "Title: Truly wonderful hotel!\n",
      "Rating: 5\n",
      "Date: August 31, 2015\n",
      "Review:\n",
      "We had a fabulous experience staying at the Study at Yale. The staff is excellent: warm, welcoming, hard working and professional. The rooms are comfortable and well appointed. The hotel is in a perfect location for visiting Yale and New Haven. The restaurant is fantastic, we enjoyed all our meals there. We could not have been more delighted with our...More\n",
      "**************************************************\n",
      "Username: Mary Jo P\n",
      "Location: Washington DC, District of Columbia\n",
      "Title: Excellent choice at Yale Univ!\n",
      "Rating: 5\n",
      "Date: August 30, 2015\n",
      "Review:\n",
      "For a visit to New Haven - on Yale campus; very friendly staff; good restaurant; thoughtful little extras (bottled water free!), snacks and quick breakfast items in lobby; comfortable, tasteful lobby area. Would stay here for every visit to Yale if we could get in.\n",
      "**************************************************\n",
      "Username: elliethemutt\n",
      "Location: \n",
      "Title: Perfect Place to stay while taking your kid to look at Yale.\n",
      "Rating: 5\n",
      "Date: August 30, 2015\n",
      "Review:\n",
      "Stayed there with my 17 year old daughter, who is considering applying to Yale. One of the nicest hotels I've stayed at in the U.S. Has a \"study\" theme, with a comfortable leather reading chair with ottoman in the room. Our room looked out on the beautiful old buildings of the Yale campus. The contemporary design of the room was...More\n",
      "**************************************************\n",
      "Username: Jill L\n",
      "Location: Chicago, Illinois\n",
      "Title: LOVE THE STUDY/NEW HAVEN\n",
      "Rating: 5\n",
      "Date: August 29, 2015\n",
      "Review:\n",
      "The Study is one of our very favorite hotels. We have stayed often over the last 5 years, and the staff is family for us. They always make us feel more than welcome, go way beyond anything expected, have welcomed friends of ours new to New Haven to the Study family. Service is excellent, friendly, and we are always sad...More\n",
      "**************************************************\n",
      "Username: A Trip Advisor Member\n",
      "Location: \n",
      "Title: Excellent Again\n",
      "Rating: 5\n",
      "Date: August 27, 2015\n",
      "Review:\n",
      "Our 4th stay in several years, still very clean. Friendly staff are very helpful, along with the valet parking. Lobby: complimentary ice water, popcorn, cookies and fruit - nice touch. The hotel restaurant food was great - locally sourced with attention to detail. Walking distance to Shake Shak, Chipotle, DD etc.\n",
      "**************************************************\n",
      "Username: HappyCoupleAndoverMA\n",
      "Location: Andover MA\n",
      "Title: Chic Modern Hotel, right at Yale.\n",
      "Rating: 4\n",
      "Date: August 26, 2015\n",
      "Review:\n",
      "This chic new hotel right adjacent to many of the Yale buildings is lovely and convenient. We did feel that some of the staff may be a bit \"green\", especially the restaurant servers, who could have been more attentive. Our room was very nicely done in a high-class modern minimalist style. However, and I hope it was just room 504,...More\n",
      "**************************************************\n",
      "Username: MILOUW\n",
      "Location: New York City, New York\n",
      "Title: Well run Hotel\n",
      "Rating: 5\n",
      "Date: August 26, 2015\n",
      "Review:\n",
      "This is a clean modern facility on the Yale campus.Friendly staffRooms are well equipped .Providing newspapers and real soap in bathroom !Not cheap, valet parking only.Excellent location to visit the Yale art gallery which is literally on the next block.Not cheap however.\n",
      "**************************************************\n"
     ]
    }
   ],
   "source": [
    "for fullrev in full_reviews:\n",
    "    # user name:\n",
    "    member_info = fullrev.xpath('div/div[contains(@class, \"col1of2\")]/div[contains(@class, \"member_info\")]')[0]\n",
    "    usrnm = member_info.xpath('div/div[contains(@class, \"username mo\")]')\n",
    "    review = fullrev.xpath('div/div[@class=\"col2of2\"]/div[@class=\"innerBubble\"]')[0]\n",
    "    title = review.xpath('div/div[contains(@class, \"quote\")]')[0].text_content().strip()[1:-1]\n",
    "    rating = review.xpath('div/div[contains(@class, \"rating\")]/span/img/@alt')[0].split(' ')[0]\n",
    "    date = review.xpath('div/div[contains(@class, \"rating\")]/span[contains(@class, \"ratingDate\")]/@title')[0]\n",
    "    rev = review.xpath('div/div[contains(@class, \"entry\")]')[0].text_content().strip().replace(\"\\n\", \"\")\n",
    "    if len(usrnm) > 0:\n",
    "        #location = member_info.xpath('div[1]')[0].text_content()\n",
    "        print('Username: {}'.format(str(usrnm[0].text_content()).strip()))\n",
    "    else:\n",
    "        print('Username: A Trip Advisor Member')\n",
    "    \n",
    "    location = member_info.xpath('div[contains(@class, \"location\")]')\n",
    "    if len(location) > 0:\n",
    "        print('Location: {}'.format(str(location[0].text_content()).strip()))\n",
    "    else:\n",
    "        print('Location: ')\n",
    "    \n",
    "    print('Title: {}'.format(title))\n",
    "    print('Rating: {}'.format(rating))\n",
    "    print('Date: {}'.format(date))\n",
    "    print('Review:')\n",
    "    print(rev)\n",
    "    print('*'*50)\n"
   ]
  },
  {
   "cell_type": "code",
   "execution_count": 167,
   "metadata": {
    "collapsed": false
   },
   "outputs": [
    {
     "data": {
      "text/plain": [
       "'/Hotel_Review-g33851-d1217689-Reviews-or10-The_Study_at_Yale-New_Haven_Connecticut.html#REVIEWS'"
      ]
     },
     "execution_count": 167,
     "metadata": {},
     "output_type": "execute_result"
    }
   ],
   "source": [
    "len(tree.xpath('//a[contains(@class, \"next\")]'))\n",
    "tree.xpath('//a[contains(@class, \"next\")]/@href')[0]"
   ]
  },
  {
   "cell_type": "markdown",
   "metadata": {},
   "source": [
    "### Now scraping all pages of the reviews:"
   ]
  },
  {
   "cell_type": "code",
   "execution_count": null,
   "metadata": {
    "collapsed": false,
    "scrolled": false
   },
   "outputs": [
    {
     "name": "stdout",
     "output_type": "stream",
     "text": [
      "**************************************************\n",
      "Now on page 1\n",
      "**************************************************\n",
      "**************************************************\n",
      "Now on page 2\n",
      "**************************************************\n",
      "**************************************************\n",
      "Now on page 3\n",
      "**************************************************\n",
      "**************************************************\n",
      "Now on page 4\n",
      "**************************************************\n",
      "**************************************************\n",
      "Now on page 5\n",
      "**************************************************\n",
      "**************************************************\n",
      "Now on page 6\n",
      "**************************************************\n",
      "**************************************************\n",
      "Now on page 7\n",
      "**************************************************\n",
      "**************************************************\n",
      "Now on page 8\n",
      "**************************************************\n",
      "**************************************************\n",
      "Now on page 9\n",
      "**************************************************\n",
      "**************************************************\n",
      "Now on page 10\n",
      "**************************************************\n",
      "**************************************************\n",
      "Now on page 11\n",
      "**************************************************\n",
      "**************************************************\n",
      "Now on page 12\n",
      "**************************************************\n",
      "**************************************************\n",
      "Now on page 13\n",
      "**************************************************\n",
      "**************************************************\n",
      "Now on page 14\n",
      "**************************************************\n",
      "**************************************************\n",
      "Now on page 15\n",
      "**************************************************\n",
      "**************************************************\n",
      "Now on page 16\n",
      "**************************************************\n",
      "**************************************************\n",
      "Now on page 17\n",
      "**************************************************\n",
      "**************************************************\n",
      "Now on page 18\n",
      "**************************************************\n",
      "**************************************************\n",
      "Now on page 19\n",
      "**************************************************\n",
      "**************************************************\n",
      "Now on page 20\n",
      "**************************************************\n",
      "**************************************************\n",
      "Now on page 21\n",
      "**************************************************\n",
      "**************************************************\n",
      "Now on page 22\n",
      "**************************************************\n",
      "**************************************************"
     ]
    }
   ],
   "source": [
    "usernames = []\n",
    "locations = []\n",
    "titles = []\n",
    "ratings = []\n",
    "dates = []\n",
    "reviews = []\n",
    "\n",
    "base_url = 'http://www.tripadvisor.com'\n",
    "url = base_url+links[0]\n",
    "url\n",
    "more_reviews = True\n",
    "page = 1\n",
    "while more_reviews:\n",
    "    #print('*'*50)\n",
    "    print('*'*50)\n",
    "    print('Now on page {}'.format(page))\n",
    "    #print('*'*50)\n",
    "    print('*'*50)\n",
    "    #Create the render object:\n",
    "    r.update_url(url)\n",
    "\n",
    "    #result is a QString:\n",
    "    result = r.frame.toHtml()\n",
    "\n",
    "    #QString should be converted to string before processed by lxml\n",
    "    formatted_result = str(result.toAscii())\n",
    "\n",
    "    #Next build lxml tree from formatted_result\n",
    "    tree = html.fromstring(formatted_result)\n",
    "    \n",
    "    full_reviews = tree.xpath('//div[contains(@class, \"reviewSelector\")]')\n",
    "\n",
    "    for fullrev in full_reviews:\n",
    "        # user name:\n",
    "        member_info = fullrev.xpath('div/div[contains(@class, \"col1of2\")]/div[contains(@class, \"member_info\")]')[0]\n",
    "        usrnm = member_info.xpath('div/div[contains(@class, \"username mo\")]')\n",
    "        review = fullrev.xpath('div/div[@class=\"col2of2\"]/div[@class=\"innerBubble\"]')[0]\n",
    "        title = review.xpath('div/div[contains(@class, \"quote\")]')[0].text_content().strip()[1:-1]\n",
    "        rating = review.xpath('div/div[contains(@class, \"rating\")]/span/img/@alt')[0].split(' ')[0]\n",
    "        date = review.xpath('div/div[contains(@class, \"rating\")]/span[contains(@class, \"ratingDate\")]/@title')\n",
    "        if len(date) > 0:\n",
    "            date = date[0]\n",
    "        else:\n",
    "            date = review.xpath('div/div[contains(@class, \"rating\")]/span[contains(@class, \"ratingDate\")]')[0].text_content()\n",
    "        rev = review.xpath('div/div[contains(@class, \"entry\")]')[0].text_content().strip().replace(\"\\n\", \"\")\n",
    "        if len(usrnm) > 0:\n",
    "            #location = member_info.xpath('div[1]')[0].text_content()\n",
    "            #print('Username: {}'.format(str(usrnm[0].text_content()).strip()))\n",
    "            usernames.append(str(usrnm[0].text_content()).strip())\n",
    "        else:\n",
    "            #print('Username: A Trip Advisor Member')\n",
    "            usernames.append('')\n",
    "\n",
    "        location = member_info.xpath('div[contains(@class, \"location\")]')\n",
    "        if len(location) > 0:\n",
    "            # print('Location: {}'.format(str(location[0].text_content()).strip()))\n",
    "            locations.append(location[0].text_content().strip())\n",
    "        else:\n",
    "            # print('Location: ')\n",
    "            locations.append('')\n",
    "\n",
    "#         print('Title: {}'.format(title))\n",
    "#         print('Rating: {}'.format(rating))\n",
    "#         print('Date: {}'.format(date))\n",
    "#         print('Review:')\n",
    "#         print(rev)\n",
    "        titles.append(title)\n",
    "        ratings.append(ratings)\n",
    "        dates.append(date)\n",
    "        reviews.append(rev)\n",
    "#         print('*'*50)\n",
    "    \n",
    "    if len(tree.xpath('//a[contains(@class, \"next\")]')) > 0:\n",
    "        url = base_url+tree.xpath('//a[contains(@class, \"next\")]/@href')[0]\n",
    "        page += 1\n",
    "    else:\n",
    "        more_reviews = False\n"
   ]
  },
  {
   "cell_type": "code",
   "execution_count": null,
   "metadata": {
    "collapsed": true
   },
   "outputs": [],
   "source": []
  }
 ],
 "metadata": {
  "kernelspec": {
   "display_name": "Python 2",
   "language": "python",
   "name": "python2"
  },
  "language_info": {
   "codemirror_mode": {
    "name": "ipython",
    "version": 2
   },
   "file_extension": ".py",
   "mimetype": "text/x-python",
   "name": "python",
   "nbconvert_exporter": "python",
   "pygments_lexer": "ipython2",
   "version": "2.7.10"
  }
 },
 "nbformat": 4,
 "nbformat_minor": 0
}
