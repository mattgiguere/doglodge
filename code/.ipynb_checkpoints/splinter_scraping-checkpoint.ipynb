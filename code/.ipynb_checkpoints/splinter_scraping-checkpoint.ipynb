{
 "cells": [
  {
   "cell_type": "code",
   "execution_count": 1,
   "metadata": {
    "collapsed": true
   },
   "outputs": [],
   "source": [
    "from splinter.browser import Browser"
   ]
  },
  {
   "cell_type": "code",
   "execution_count": 4,
   "metadata": {
    "collapsed": false
   },
   "outputs": [],
   "source": [
    "br = Browser()"
   ]
  },
  {
   "cell_type": "code",
   "execution_count": 5,
   "metadata": {
    "collapsed": true
   },
   "outputs": [],
   "source": [
    "br.visit('http://www.bringfido.com/lodging/city/phoenix_az_us/')"
   ]
  },
  {
   "cell_type": "code",
   "execution_count": 7,
   "metadata": {
    "collapsed": false
   },
   "outputs": [],
   "source": [
    "archive_links = br.find_by_xpath('//*[@id=\"results_list\"]/div')"
   ]
  },
  {
   "cell_type": "code",
   "execution_count": 30,
   "metadata": {
    "collapsed": false
   },
   "outputs": [],
   "source": [
    "one_link = archive_links[1]"
   ]
  },
  {
   "cell_type": "code",
   "execution_count": 31,
   "metadata": {
    "collapsed": false
   },
   "outputs": [
    {
     "data": {
      "text/plain": [
       "u'La Quinta Inn Phoenix Arcadia\\nPhoenix, AZ, US\\nLa Quinta Inn Phoenix Arcadia is dog friendly. Two pets of any size are welcome for no additional fee. All rooms are pet friendly.\\nHotel Overview | Map | Photos | Guest Reviews\\nLow Rates from\\n$64 (no pet fee)\\nVISIT WEBSITE'"
      ]
     },
     "execution_count": 31,
     "metadata": {},
     "output_type": "execute_result"
    }
   ],
   "source": [
    "one_link.text"
   ]
  },
  {
   "cell_type": "code",
   "execution_count": 32,
   "metadata": {
    "collapsed": false
   },
   "outputs": [
    {
     "data": {
      "text/plain": [
       "u'La Quinta Inn Phoenix Arcadia'"
      ]
     },
     "execution_count": 32,
     "metadata": {},
     "output_type": "execute_result"
    }
   ],
   "source": [
    "one_link.find_by_xpath('div/h1/a').value"
   ]
  },
  {
   "cell_type": "code",
   "execution_count": 33,
   "metadata": {
    "collapsed": false
   },
   "outputs": [
    {
     "data": {
      "text/plain": [
       "u'La Quinta Inn Phoenix Arcadia\\nPhoenix, AZ, US\\nLa Quinta Inn Phoenix Arcadia is dog friendly. Two pets of any size are welcome for no additional fee. All rooms are pet friendly.\\nHotel Overview | Map | Photos | Guest Reviews\\nLow Rates from\\n$64 (no pet fee)\\nVISIT WEBSITE'"
      ]
     },
     "execution_count": 33,
     "metadata": {},
     "output_type": "execute_result"
    }
   ],
   "source": [
    "one_link.text"
   ]
  },
  {
   "cell_type": "code",
   "execution_count": 34,
   "metadata": {
    "collapsed": false
   },
   "outputs": [
    {
     "data": {
      "text/plain": [
       "u'http://www.bringfido.com/lodging/64835/?cid=14020&ar=&dt=&rm=1&ad=1&ch=0&dg=1&rt=64'"
      ]
     },
     "execution_count": 34,
     "metadata": {},
     "output_type": "execute_result"
    }
   ],
   "source": [
    "one_link.find_by_xpath('div/h1/a')['href']"
   ]
  },
  {
   "cell_type": "code",
   "execution_count": 35,
   "metadata": {
    "collapsed": false
   },
   "outputs": [],
   "source": [
    "hotel_names = []\n",
    "text_summaries = []\n",
    "links = []\n",
    "\n",
    "for lnk in archive_links:\n",
    "    hotel_names.append(lnk.find_by_xpath('div[2]/h1/a').value)\n",
    "    text_summaries.append(lnk.text)\n",
    "    this_link = lnk.find_by_xpath('div/h1/a')['href']\n",
    "    links.append(this_link)\n"
   ]
  },
  {
   "cell_type": "code",
   "execution_count": 36,
   "metadata": {
    "collapsed": false
   },
   "outputs": [
    {
     "data": {
      "text/plain": [
       "[u'http://www.bringfido.com/lodging/64846/?cid=14020&ar=&dt=&rm=1&ad=1&ch=0&dg=1&rt=199',\n",
       " u'http://www.bringfido.com/lodging/64835/?cid=14020&ar=&dt=&rm=1&ad=1&ch=0&dg=1&rt=64',\n",
       " u'http://www.bringfido.com/lodging/64834/?cid=14020&ar=&dt=&rm=1&ad=1&ch=0&dg=1&rt=62',\n",
       " u'http://www.bringfido.com/lodging/64836/?cid=14020&ar=&dt=&rm=1&ad=1&ch=0&dg=1&rt=64',\n",
       " u'http://www.bringfido.com/lodging/64824/?cid=14020&ar=&dt=&rm=1&ad=1&ch=0&dg=1&rt=44.99',\n",
       " u'http://www.bringfido.com/lodging/132841/?cid=14020&ar=&dt=&rm=1&ad=1&ch=0&dg=1&rt=53',\n",
       " u'http://www.bringfido.com/lodging/64763/?cid=14020&ar=&dt=&rm=1&ad=1&ch=0&dg=1&rt=329',\n",
       " u'http://www.bringfido.com/lodging/130968/?cid=14020&ar=&dt=&rm=1&ad=1&ch=0&dg=1&rt=66',\n",
       " u'http://www.bringfido.com/lodging/64862/?cid=14020&ar=&dt=&rm=1&ad=1&ch=0&dg=1&rt=159',\n",
       " u'http://www.bringfido.com/lodging/64769/?cid=14020&ar=&dt=&rm=1&ad=1&ch=0&dg=1&rt=71.1',\n",
       " u'http://www.bringfido.com/lodging/64863/?cid=14020&ar=&dt=&rm=1&ad=1&ch=0&dg=1&rt=319',\n",
       " u'http://www.bringfido.com/lodging/64794/?cid=14020&ar=&dt=&rm=1&ad=1&ch=0&dg=1&rt=71.2',\n",
       " u'http://www.bringfido.com/lodging/132840/?cid=14020&ar=&dt=&rm=1&ad=1&ch=0&dg=1&rt=30',\n",
       " u'http://www.bringfido.com/lodging/64847/?cid=14020&ar=&dt=&rm=1&ad=1&ch=0&dg=1&rt=199',\n",
       " u'http://www.bringfido.com/lodging/64861/?cid=14020&ar=&dt=&rm=1&ad=1&ch=0&dg=1&rt=134.78']"
      ]
     },
     "execution_count": 36,
     "metadata": {},
     "output_type": "execute_result"
    }
   ],
   "source": [
    "links"
   ]
  },
  {
   "cell_type": "code",
   "execution_count": 38,
   "metadata": {
    "collapsed": true
   },
   "outputs": [],
   "source": [
    "url_base = 'http://www.bringfido.com'  \n",
    "hotel_id = 0\n",
    "link = links[0]\n",
    "br.visit(link)"
   ]
  },
  {
   "cell_type": "code",
   "execution_count": 39,
   "metadata": {
    "collapsed": true
   },
   "outputs": [],
   "source": [
    "hotel_description = br.find_by_xpath('//*[@class=\"body\"]').text"
   ]
  },
  {
   "cell_type": "code",
   "execution_count": 40,
   "metadata": {
    "collapsed": false
   },
   "outputs": [
    {
     "data": {
      "text/plain": [
       "u'Pointe Hilton Squaw Peak Resort welcomes two pets, under 75 lbs, for an additional $75 per stay. If you find that this pet policy is no longer accurate, please submit a correction now.'"
      ]
     },
     "execution_count": 40,
     "metadata": {},
     "output_type": "execute_result"
    }
   ],
   "source": [
    "hotel_description"
   ]
  },
  {
   "cell_type": "code",
   "execution_count": null,
   "metadata": {
    "collapsed": true
   },
   "outputs": [],
   "source": []
  },
  {
   "cell_type": "code",
   "execution_count": null,
   "metadata": {
    "collapsed": true
   },
   "outputs": [],
   "source": [
    "columns = ['hotel_id',\n",
    "           'hotel_url',\n",
    "           'hotel_name',\n",
    "           'hotel_address',\n",
    "           'hotel_city',\n",
    "           'hotel_state',\n",
    "           'hotel_rating',\n",
    "           'hotel_latitude',\n",
    "           'hotel_longitude',\n",
    "           'review_count',\n",
    "           'hotel_address',\n",
    "           'business_id',\n",
    "           'review_id',\n",
    "           'user_id',\n",
    "           'username',\n",
    "           'review_title',\n",
    "           'review_text',\n",
    "           'review_rating',\n",
    "           'review_date']\n",
    "\n",
    "bigdf = pd.DataFrame(columns=columns)\n",
    "\n",
    "\n",
    "for hotel_id, link in enumerate(links):\n",
    "    print('*'*50)\n",
    "    print('Now on {}'.format(link))\n",
    "    print('*'*50)\n",
    "    br.visit(link)\n",
    "    \n",
    "    df = pd.DataFrame(columns=columns)\n",
    "\n",
    "    hotel_description = br.find_by_xpath('//*[@class=\"body\"]')\n",
    "\n",
    "    # scrape the address details section of the page\n",
    "    details = br.find_by_xpath('//*[@class=\"address\"]')\n",
    "\n",
    "    # now get just the address:\n",
    "    address = details[0]\n",
    "    \n",
    "    # and just the city, state, country, and zip code:\n",
    "    csczip = details[1]\n",
    "    \n",
    "    # and just the phone number\n",
    "    phone = details[2]\n",
    "    \n",
    "    # now separate the city, state, and zip:\n",
    "    city, state, zipcode = csczip.strip().split(',')\n",
    "    zipcode = zipcode[3:]\n",
    "    \n",
    "    #Now using correct Xpath we are fetching URL of archives\n",
    "    reviews = tree.xpath('//*[@class=\"review_container\"]')\n",
    "\n",
    "    texts = []\n",
    "    titles = []\n",
    "    authors = []\n",
    "    ratings = []\n",
    "\n",
    "    print(reviews)\n",
    "    print('')\n",
    "    for rev in reviews:\n",
    "        titles.append(rev.xpath('div/div[1]/text()')[0])\n",
    "        authors.append(rev.xpath('div/div[2]/text()')[0])\n",
    "        texts.append(rev.xpath('div/div[3]/text()')[0])\n",
    "        ratings.append(rev.xpath('div[2]/img/@src')[0].split('/')[-1][0:1])\n",
    "        print(rev.xpath('div[2]/img/@src')[0].split('/')[-1][0:1])\n",
    "    \n",
    "    df['review_title'] = titles\n",
    "    df['username'] = authors\n",
    "    df['review_text'] = texts\n",
    "    df['review_rating'] = ratings\n",
    "    df['hotel_id'] = hotel_id\n",
    "    df['hotel_name'] = hotel_names[hotel_id]\n",
    "    df['hotel_url'] = url\n",
    "    df['hotel_address'] = address\n",
    "    df['hotel_city'] = city\n",
    "    df['hotel_state'] = state\n",
    "    df['hotel_rating'] = np.mean([int(rat) for rat in ratings])\n",
    "    df['hotel_latitude'] = ''\n",
    "    df['hotel_longitude'] = ''\n",
    "    df['review_count'] = len(texts)\n",
    "    df['review_id'] = 0\n",
    "    df['user_id'] = 0\n",
    "    \n",
    "    bigdf = bigdf.append(df)\n",
    "\n",
    "\n"
   ]
  }
 ],
 "metadata": {
  "kernelspec": {
   "display_name": "Python 2",
   "language": "python",
   "name": "python2"
  },
  "language_info": {
   "codemirror_mode": {
    "name": "ipython",
    "version": 2
   },
   "file_extension": ".py",
   "mimetype": "text/x-python",
   "name": "python",
   "nbconvert_exporter": "python",
   "pygments_lexer": "ipython2",
   "version": "2.7.10"
  }
 },
 "nbformat": 4,
 "nbformat_minor": 0
}
