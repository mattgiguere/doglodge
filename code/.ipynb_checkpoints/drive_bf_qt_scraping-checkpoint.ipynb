{
 "cells": [
  {
   "cell_type": "markdown",
   "metadata": {},
   "source": [
    "# drive_bf_qt_scraping\n",
    "\n",
    "A notebook to describing the code used to drive the scraping."
   ]
  },
  {
   "cell_type": "code",
   "execution_count": 14,
   "metadata": {
    "collapsed": true
   },
   "outputs": [],
   "source": [
    "import sys  \n",
    "from PyQt4.QtGui import *  \n",
    "from PyQt4.QtCore import *  \n",
    "from PyQt4.QtWebKit import *  \n",
    "from lxml import html\n",
    "import pandas as pd"
   ]
  },
  {
   "cell_type": "code",
   "execution_count": 2,
   "metadata": {
    "collapsed": true
   },
   "outputs": [],
   "source": [
    "class Render(QWebPage):  \n",
    "    def __init__(self, url):  \n",
    "        self.app = QApplication(sys.argv)  \n",
    "        QWebPage.__init__(self)  \n",
    "        self.loadFinished.connect(self._loadFinished)  \n",
    "        self.mainFrame().load(QUrl(url))  \n",
    "        self.app.exec_()  \n",
    "\n",
    "    def _loadFinished(self, result):  \n",
    "        self.frame = self.mainFrame()  \n",
    "        self.app.quit() \n",
    "    \n",
    "    def update_url(self, url):\n",
    "        self.mainFrame().load(QUrl(url))  \n",
    "        self.app.exec_()  \n",
    "        "
   ]
  },
  {
   "cell_type": "markdown",
   "metadata": {},
   "source": [
    "## First get the hotel data links and text summaries"
   ]
  },
  {
   "cell_type": "code",
   "execution_count": 3,
   "metadata": {
    "collapsed": true
   },
   "outputs": [],
   "source": [
    "url = 'http://www.bringfido.com/lodging/city/phoenix_az_us'  \n",
    "#This does the magic.Loads everything\n",
    "r = Render(url)  \n",
    "#result is a QString.\n",
    "result = r.frame.toHtml()"
   ]
  },
  {
   "cell_type": "code",
   "execution_count": 4,
   "metadata": {
    "collapsed": true
   },
   "outputs": [],
   "source": [
    "#QString should be converted to string before processed by lxml\n",
    "formatted_result = str(result.toAscii())"
   ]
  },
  {
   "cell_type": "code",
   "execution_count": 5,
   "metadata": {
    "collapsed": true
   },
   "outputs": [],
   "source": [
    "#Next build lxml tree from formatted_result\n",
    "tree = html.fromstring(formatted_result)"
   ]
  },
  {
   "cell_type": "code",
   "execution_count": 6,
   "metadata": {
    "collapsed": true
   },
   "outputs": [],
   "source": [
    "#Now using correct Xpath we are fetching URL of archives\n",
    "archive_links = tree.xpath('//*[@id=\"results_list\"]/div')\n",
    "\n",
    "hotel_names = []\n",
    "text_summaries = []\n",
    "links = []\n",
    "\n",
    "for lnk in archive_links:\n",
    "    hotel_names.append(lnk.xpath('div[2]/h1/a/text()')[0])\n",
    "    text_summaries.append(lnk.text_content())\n",
    "    links.append(lnk.xpath('div/h1/a/@href')[0])\n",
    "    # print(lnk.text_content())\n",
    "    # print('*'*25)\n"
   ]
  },
  {
   "cell_type": "code",
   "execution_count": 7,
   "metadata": {
    "collapsed": false
   },
   "outputs": [
    {
     "data": {
      "text/plain": [
       "['/lodging/64846/?cid=14020&ar=&dt=&rm=1&ad=1&ch=0&dg=1&rt=199',\n",
       " '/lodging/64835/?cid=14020&ar=&dt=&rm=1&ad=1&ch=0&dg=1&rt=64',\n",
       " '/lodging/64834/?cid=14020&ar=&dt=&rm=1&ad=1&ch=0&dg=1&rt=62',\n",
       " '/lodging/64836/?cid=14020&ar=&dt=&rm=1&ad=1&ch=0&dg=1&rt=64',\n",
       " '/lodging/64824/?cid=14020&ar=&dt=&rm=1&ad=1&ch=0&dg=1&rt=44.99',\n",
       " '/lodging/132841/?cid=14020&ar=&dt=&rm=1&ad=1&ch=0&dg=1&rt=53',\n",
       " '/lodging/64763/?cid=14020&ar=&dt=&rm=1&ad=1&ch=0&dg=1&rt=329',\n",
       " '/lodging/130968/?cid=14020&ar=&dt=&rm=1&ad=1&ch=0&dg=1&rt=66',\n",
       " '/lodging/64862/?cid=14020&ar=&dt=&rm=1&ad=1&ch=0&dg=1&rt=159',\n",
       " '/lodging/64769/?cid=14020&ar=&dt=&rm=1&ad=1&ch=0&dg=1&rt=71.1',\n",
       " '/lodging/64863/?cid=14020&ar=&dt=&rm=1&ad=1&ch=0&dg=1&rt=319',\n",
       " '/lodging/64794/?cid=14020&ar=&dt=&rm=1&ad=1&ch=0&dg=1&rt=71.2',\n",
       " '/lodging/132840/?cid=14020&ar=&dt=&rm=1&ad=1&ch=0&dg=1&rt=30',\n",
       " '/lodging/64847/?cid=14020&ar=&dt=&rm=1&ad=1&ch=0&dg=1&rt=199',\n",
       " '/lodging/64861/?cid=14020&ar=&dt=&rm=1&ad=1&ch=0&dg=1&rt=134.78']"
      ]
     },
     "execution_count": 7,
     "metadata": {},
     "output_type": "execute_result"
    }
   ],
   "source": [
    "links"
   ]
  },
  {
   "cell_type": "code",
   "execution_count": 11,
   "metadata": {
    "collapsed": false
   },
   "outputs": [],
   "source": [
    "url_base = 'http://www.bringfido.com'  \n",
    "r.update_url(url_base+links[0])"
   ]
  },
  {
   "cell_type": "code",
   "execution_count": 15,
   "metadata": {
    "collapsed": true
   },
   "outputs": [],
   "source": [
    "columns = ['hotel_id',\n",
    "           'hotel_name',\n",
    "           'hotel_address',\n",
    "           'hotel_city',\n",
    "           'hotel_state',\n",
    "           'hotel_rating',\n",
    "           'hotel_latitude',\n",
    "           'hotel_longitude',\n",
    "           'review_count',\n",
    "           'hotel_address',\n",
    "           'business_id',\n",
    "           'review_id',\n",
    "           'user_id',\n",
    "           'review_text',\n",
    "           'review_rating',\n",
    "           'review_date']"
   ]
  },
  {
   "cell_type": "code",
   "execution_count": 16,
   "metadata": {
    "collapsed": true
   },
   "outputs": [],
   "source": [
    "df = pd.DataFrame(columns=columns)"
   ]
  },
  {
   "cell_type": "code",
   "execution_count": 17,
   "metadata": {
    "collapsed": false
   },
   "outputs": [
    {
     "data": {
      "text/html": [
       "<div style=\"max-height:1000px;max-width:1500px;overflow:auto;\">\n",
       "<table border=\"1\" class=\"dataframe\">\n",
       "  <thead>\n",
       "    <tr style=\"text-align: right;\">\n",
       "      <th></th>\n",
       "      <th>hotel_id</th>\n",
       "      <th>hotel_name</th>\n",
       "      <th>hotel_address</th>\n",
       "      <th>hotel_city</th>\n",
       "      <th>hotel_state</th>\n",
       "      <th>hotel_rating</th>\n",
       "      <th>hotel_latitude</th>\n",
       "      <th>hotel_longitude</th>\n",
       "      <th>review_count</th>\n",
       "      <th>hotel_address</th>\n",
       "      <th>business_id</th>\n",
       "      <th>review_id</th>\n",
       "      <th>user_id</th>\n",
       "      <th>review_text</th>\n",
       "      <th>review_rating</th>\n",
       "      <th>review_date</th>\n",
       "    </tr>\n",
       "  </thead>\n",
       "  <tbody>\n",
       "  </tbody>\n",
       "</table>\n",
       "</div>"
      ],
      "text/plain": [
       "Empty DataFrame\n",
       "Columns: [hotel_id, hotel_name, hotel_address, hotel_city, hotel_state, hotel_rating, hotel_latitude, hotel_longitude, review_count, hotel_address, business_id, review_id, user_id, review_text, review_rating, review_date]\n",
       "Index: []"
      ]
     },
     "execution_count": 17,
     "metadata": {},
     "output_type": "execute_result"
    }
   ],
   "source": [
    "df.head(1)"
   ]
  },
  {
   "cell_type": "code",
   "execution_count": 12,
   "metadata": {
    "collapsed": false
   },
   "outputs": [
    {
     "name": "stdout",
     "output_type": "stream",
     "text": [
      "[<Element div at 0x10d2eca48>]\n",
      "\n",
      "5\n"
     ]
    }
   ],
   "source": [
    "result = r.frame.toHtml()\n",
    "\n",
    "#QString should be converted to string before processed by lxml\n",
    "formatted_result = str(result.toAscii())\n",
    "\n",
    "tree = html.fromstring(formatted_result) \n",
    "\n",
    "hotel_description = tree.xpath('//*[@class=\"body\"]/text()')\n",
    "\n",
    "# scrape the address details section of the page\n",
    "details = tree.xpath('//*[@class=\"address\"]/text()')\n",
    "\n",
    "# now get just the address:\n",
    "address = details[0]\n",
    "\n",
    "# and just the city, state, country, and zip code:\n",
    "csczip = details[1]\n",
    "\n",
    "# and just the phone number\n",
    "phone = details[2]\n",
    "\n",
    "# outer_addresses.append(address)\n",
    "# outer_csczip.append(csczip)\n",
    "# outer_phones.append(phone)\n",
    "\n",
    "#Now using correct Xpath we are fetching URL of archives\n",
    "reviews = tree.xpath('//*[@class=\"review_container\"]')\n",
    "\n",
    "texts = []\n",
    "titles = []\n",
    "authors = []\n",
    "ratings = []\n",
    "\n",
    "print(reviews)\n",
    "print('')\n",
    "for rev in reviews:\n",
    "    titles.append(rev.xpath('div/div[1]/text()')[0])\n",
    "    authors.append(rev.xpath('div/div[2]/text()')[0])\n",
    "    texts.append(rev.xpath('div/div[3]/text()')[0])\n",
    "    ratings.append(rev.xpath('div[2]/img/@src')[0].split('/')[-1][0:1])\n",
    "    print(rev.xpath('div[2]/img/@src')[0].split('/')[-1][0:1])\n"
   ]
  },
  {
   "cell_type": "code",
   "execution_count": 27,
   "metadata": {
    "collapsed": false
   },
   "outputs": [],
   "source": [
    "city, state, zipcode = csczip.strip().split(',')\n",
    "zipcode = zipcode[3:]"
   ]
  },
  {
   "cell_type": "code",
   "execution_count": 28,
   "metadata": {
    "collapsed": false
   },
   "outputs": [
    {
     "name": "stdout",
     "output_type": "stream",
     "text": [
      "Phoenix\n",
      " AZ\n",
      " 85020\n"
     ]
    }
   ],
   "source": [
    "print(city)\n",
    "print(state)\n",
    "print(zipcode)"
   ]
  },
  {
   "cell_type": "code",
   "execution_count": 13,
   "metadata": {
    "collapsed": false
   },
   "outputs": [
    {
     "data": {
      "text/plain": [
       "['Really nice property. Great walking areas for the pets. Centrally located. A lot of swimming pools to use. A water park for the kids. Pets are not allowed in the water park of course. The casita room was nice, but there was no table, making it hard to eat anything with the dogs there. Casita rooms are small. Overall, very nice!']"
      ]
     },
     "execution_count": 13,
     "metadata": {},
     "output_type": "execute_result"
    }
   ],
   "source": [
    "texts"
   ]
  },
  {
   "cell_type": "markdown",
   "metadata": {},
   "source": [
    "## Now cycle through each hotel, and scrape the reviews, ratings, etc."
   ]
  },
  {
   "cell_type": "code",
   "execution_count": 8,
   "metadata": {
    "collapsed": false
   },
   "outputs": [
    {
     "name": "stdout",
     "output_type": "stream",
     "text": [
      "**************************************************\n",
      "Now on /lodging/70449/?cid=14745&ar=&dt=&rm=1&ad=1&ch=0&dg=1&rt=75.01\n",
      "**************************************************\n",
      "[<Element div at 0x109e69f70>, <Element div at 0x109e69fc8>]\n",
      "\n",
      "5\n",
      "3\n",
      "**************************************************\n",
      "Now on /lodging/70451/?cid=14745&ar=&dt=&rm=1&ad=1&ch=0&dg=1&rt=219\n",
      "**************************************************\n",
      "[]\n",
      "\n",
      "**************************************************\n",
      "Now on /lodging/70452/?cid=14745&ar=&dt=&rm=1&ad=1&ch=0&dg=1&rt=109.65\n",
      "**************************************************\n",
      "[<Element div at 0x109e3cf70>, <Element div at 0x10b104418>, <Element div at 0x10b104470>, <Element div at 0x10b1044c8>, <Element div at 0x10b104520>, <Element div at 0x10b104578>]\n",
      "\n",
      "5\n",
      "5\n",
      "5\n",
      "4\n",
      "4\n",
      "2\n",
      "**************************************************\n",
      "Now on /lodging/70447/?cid=14745&ar=&dt=&rm=1&ad=1&ch=0&dg=1&rt=55.95\n",
      "**************************************************\n",
      "[<Element div at 0x10b1043c0>, <Element div at 0x109e690a8>, <Element div at 0x109e69100>]\n",
      "\n",
      "1\n",
      "1\n",
      "1\n",
      "**************************************************\n",
      "Now on /lodging/106805/?cid=14745&ar=&dt=&rm=1&ad=1&ch=0&dg=1&rt=189\n",
      "**************************************************\n",
      "[]\n",
      "\n"
     ]
    }
   ],
   "source": [
    "url_base = 'http://www.bringfido.com'  \n",
    "\n",
    "outer_hotel_id = []\n",
    "outer_texts = []\n",
    "outer_titles = []\n",
    "outer_authors = []\n",
    "outer_ratings = []\n",
    "outer_addresses = []\n",
    "outer_csczip = []\n",
    "outer_phones = []\n",
    "\n",
    "for hotel_id, link in enumerate(links):\n",
    "    print('*'*50)\n",
    "    print('Now on {}'.format(link))\n",
    "    print('*'*50)\n",
    "    r.update_url(url_base+link)  \n",
    "    result = r.frame.toHtml()\n",
    "\n",
    "    #QString should be converted to string before processed by lxml\n",
    "    formatted_result = str(result.toAscii())\n",
    "\n",
    "    tree = html.fromstring(formatted_result) \n",
    "\n",
    "    hotel_description = tree.xpath('//*[@class=\"body\"]/text()')\n",
    "\n",
    "    # scrape the address details section of the page\n",
    "    details = tree.xpath('//*[@class=\"address\"]/text()')\n",
    "\n",
    "    # now get just the address:\n",
    "    address = details[0]\n",
    "    \n",
    "    # and just the city, state, country, and zip code:\n",
    "    csczip = details[1]\n",
    "    \n",
    "    # and just the phone number\n",
    "    phone = details[2]\n",
    "\n",
    "    outer_addresses.append(address)\n",
    "    outer_csczip.append(csczip)\n",
    "    outer_phones.append(phone)\n",
    "    \n",
    "    #Now using correct Xpath we are fetching URL of archives\n",
    "    reviews = tree.xpath('//*[@class=\"review_container\"]')\n",
    "\n",
    "    texts = []\n",
    "    titles = []\n",
    "    authors = []\n",
    "    ratings = []\n",
    "\n",
    "    print(reviews)\n",
    "    print('')\n",
    "    for rev in reviews:\n",
    "        titles.append(rev.xpath('div/div[1]/text()')[0])\n",
    "        authors.append(rev.xpath('div/div[2]/text()')[0])\n",
    "        texts.append(rev.xpath('div/div[3]/text()')[0])\n",
    "        ratings.append(rev.xpath('div[2]/img/@src')[0].split('/')[-1][0:1])\n",
    "        print(rev.xpath('div[2]/img/@src')[0].split('/')[-1][0:1])\n",
    "    outer_texts.append(texts)\n",
    "    outer_titles.append(titles)\n",
    "    outer_authors.append(authors)\n",
    "    outer_ratings.append(ratings)\n"
   ]
  },
  {
   "cell_type": "code",
   "execution_count": 8,
   "metadata": {
    "collapsed": false
   },
   "outputs": [],
   "source": [
    "# for idx, hotel_nm in enumerate(hotel_names):\n",
    "#     print('*'*50)\n",
    "#     print(hotel_nm)\n",
    "#     print(outer_addresses[idx])\n",
    "#     print(outer_csczip[idx])\n",
    "#     print(outer_phones[idx])\n",
    "#     print('Number of reviews: {}'.format(len(outer_texts[idx])))\n",
    "#     print(outer_texts[idx])"
   ]
  },
  {
   "cell_type": "code",
   "execution_count": null,
   "metadata": {
    "collapsed": true
   },
   "outputs": [],
   "source": []
  }
 ],
 "metadata": {
  "kernelspec": {
   "display_name": "Python 2",
   "language": "python",
   "name": "python2"
  },
  "language_info": {
   "codemirror_mode": {
    "name": "ipython",
    "version": 2
   },
   "file_extension": ".py",
   "mimetype": "text/x-python",
   "name": "python",
   "nbconvert_exporter": "python",
   "pygments_lexer": "ipython2",
   "version": "2.7.10"
  }
 },
 "nbformat": 4,
 "nbformat_minor": 0
}
