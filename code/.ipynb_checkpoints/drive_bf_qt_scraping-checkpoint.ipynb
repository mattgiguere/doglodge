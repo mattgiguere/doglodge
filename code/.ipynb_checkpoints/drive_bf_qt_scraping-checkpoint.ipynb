{
 "cells": [
  {
   "cell_type": "markdown",
   "metadata": {},
   "source": [
    "# drive_bf_qt_scraping\n",
    "\n",
    "A notebook to describing the code used to drive the scraping."
   ]
  },
  {
   "cell_type": "code",
   "execution_count": 1,
   "metadata": {
    "collapsed": true
   },
   "outputs": [],
   "source": [
    "import sys  \n",
    "from PyQt4.QtGui import *  \n",
    "from PyQt4.QtCore import *  \n",
    "from PyQt4.QtWebKit import *  \n",
    "from lxml import html\n",
    "import pandas as pd\n",
    "import numpy as np\n",
    "import time"
   ]
  },
  {
   "cell_type": "code",
   "execution_count": 2,
   "metadata": {
    "collapsed": true
   },
   "outputs": [],
   "source": [
    "import sys\n",
    "from PyQt4 import QtGui, QtCore, QtWebKit \n",
    "\n",
    "class MainForm(QtGui.QMainWindow):\n",
    "    def __init__(self, parent=None):\n",
    "        super(MainForm, self).__init__(parent)\n",
    "\n",
    "        self.pages = ['http://www.google.com', 'http://www.citrix.com', 'http://yahoo.com', 'http://reddit.com']\n",
    "        self.index = 0\n",
    "\n",
    "        self.view = QtWebKit.QWebView()  \n",
    "        self.view.connect(self.view, QtCore.SIGNAL('loadFinished(bool)'), self.loadFinished)\n",
    "        self.setCentralWidget(self.view)\n",
    "\n",
    "        self.view.load(QtCore.QUrl(self.pages[self.index]))\n",
    "\n",
    "    def loadFinished(self, ok):\n",
    "        self.index += 1\n",
    "        if self.index < len(self.pages) :\n",
    "            self.view.load(QtCore.QUrl(self.pages[self.index]))\n",
    "        else:\n",
    "            print 'done'\n",
    "\n",
    "def main():\n",
    "    app = QtGui.QApplication(sys.argv)\n",
    "    form = MainForm()\n",
    "    form.show()\n",
    "    app.exec_()\n"
   ]
  },
  {
   "cell_type": "code",
   "execution_count": 3,
   "metadata": {
    "collapsed": true
   },
   "outputs": [],
   "source": [
    "class Render(QWebPage):  \n",
    "    def __init__(self, url):  \n",
    "        self.app = QApplication(sys.argv)  \n",
    "        QWebPage.__init__(self)  \n",
    "        self.loadFinished.connect(self._loadFinished)  \n",
    "        self.mainFrame().load(QUrl(url))  \n",
    "        self.app.exec_()  \n",
    "\n",
    "    def _loadFinished(self, result):  \n",
    "        self.frame = self.mainFrame()  \n",
    "        self.app.quit() \n",
    "    \n",
    "    def update_url(self, url):\n",
    "        self.mainFrame().load(QUrl(url))  \n",
    "        self.app.exec_()  \n",
    "        "
   ]
  },
  {
   "cell_type": "code",
   "execution_count": 11,
   "metadata": {
    "collapsed": true
   },
   "outputs": [],
   "source": [
    "from selenium import webdriver\n",
    "from selenium.webdriver.common.by import By\n",
    "from selenium.webdriver.support.ui import WebDriverWait # available since 2.4.0\n",
    "from selenium.webdriver.support import expected_conditions as EC # available since 2.26.0"
   ]
  },
  {
   "cell_type": "code",
   "execution_count": null,
   "metadata": {
    "collapsed": true
   },
   "outputs": [],
   "source": []
  },
  {
   "cell_type": "markdown",
   "metadata": {},
   "source": [
    "## First get the hotel data links and text summaries"
   ]
  },
  {
   "cell_type": "code",
   "execution_count": 4,
   "metadata": {
    "collapsed": true
   },
   "outputs": [],
   "source": [
    "url = 'http://www.bringfido.com/lodging/city/phoenix_az_us/'  "
   ]
  },
  {
   "cell_type": "code",
   "execution_count": 16,
   "metadata": {
    "collapsed": false
   },
   "outputs": [],
   "source": [
    "ff = webdriver.Firefox()\n",
    "ff.get(url)\n",
    "ff.find_element_by_xpath(\"//div[@class='photo']\")\n",
    "\n",
    "try:\n",
    "    element = WebDriverWait(ff, 10).until(EC.presence_of_element_located((By.CLASS_NAME, \"photo_inner\")))\n",
    "finally:\n",
    "    archive_links = ff.find_element_by_xpath('//*[@id=\"results_list\"]/div')\n",
    "    ff.quit()"
   ]
  },
  {
   "cell_type": "code",
   "execution_count": 5,
   "metadata": {
    "collapsed": true
   },
   "outputs": [],
   "source": [
    "#This does the magic.Loads everything\n",
    "r = Render(url)  \n",
    "#result is a QString.\n",
    "result = r.frame.toHtml()"
   ]
  },
  {
   "cell_type": "code",
   "execution_count": 5,
   "metadata": {
    "collapsed": true
   },
   "outputs": [],
   "source": [
    "r.update_url(url)"
   ]
  },
  {
   "cell_type": "code",
   "execution_count": 6,
   "metadata": {
    "collapsed": true
   },
   "outputs": [],
   "source": [
    "#QString should be converted to string before processed by lxml\n",
    "formatted_result = str(result.toAscii())"
   ]
  },
  {
   "cell_type": "code",
   "execution_count": 7,
   "metadata": {
    "collapsed": false,
    "scrolled": true
   },
   "outputs": [],
   "source": [
    "#formatted_result"
   ]
  },
  {
   "cell_type": "code",
   "execution_count": 7,
   "metadata": {
    "collapsed": true
   },
   "outputs": [],
   "source": [
    "#Next build lxml tree from formatted_result\n",
    "tree = html.fromstring(formatted_result)"
   ]
  },
  {
   "cell_type": "code",
   "execution_count": 8,
   "metadata": {
    "collapsed": true
   },
   "outputs": [],
   "source": [
    "#Now using correct Xpath we are fetching URL of archives\n",
    "archive_links = tree.xpath('//*[@id=\"results_list\"]/div')"
   ]
  },
  {
   "cell_type": "code",
   "execution_count": 9,
   "metadata": {
    "collapsed": false
   },
   "outputs": [],
   "source": [
    "hotel_names = []\n",
    "text_summaries = []\n",
    "links = []\n",
    "\n",
    "for lnk in archive_links:\n",
    "    hotel_names.append(lnk.xpath('div[2]/h1/a/text()')[0])\n",
    "    text_summaries.append(lnk.text_content())\n",
    "    links.append(lnk.xpath('div/h1/a/@href')[0])\n",
    "    # print(lnk.text_content())\n",
    "    # print('*'*25)"
   ]
  },
  {
   "cell_type": "code",
   "execution_count": 10,
   "metadata": {
    "collapsed": false
   },
   "outputs": [
    {
     "data": {
      "text/plain": [
       "[<Element div at 0x10ca10f18>, <Element div at 0x10ca10f70>]"
      ]
     },
     "execution_count": 10,
     "metadata": {},
     "output_type": "execute_result"
    }
   ],
   "source": [
    "tree.xpath('//div[contains(@id, \"results_list\")]')"
   ]
  },
  {
   "cell_type": "code",
   "execution_count": 14,
   "metadata": {
    "collapsed": false
   },
   "outputs": [],
   "source": [
    "res = browser.find_element_by_xpath('//div[contains(@id, \"results_list\")]/div')"
   ]
  },
  {
   "cell_type": "code",
   "execution_count": 14,
   "metadata": {
    "collapsed": false
   },
   "outputs": [
    {
     "data": {
      "text/plain": [
       "['Pointe Hilton Squaw Peak Resort',\n",
       " 'La Quinta Inn Phoenix Arcadia',\n",
       " 'La Quinta Inn Phoenix North',\n",
       " 'La Quinta Inn Phoenix Thomas Road',\n",
       " 'Crossland Economy Studios Phoenix Metro',\n",
       " 'House, 1 Bedroom, Sleeps 4, 1 Bathroom',\n",
       " 'Arizona Biltmore Waldorf Astoria',\n",
       " '2-Blocks from South Mountain Park',\n",
       " 'Sheraton Crescent Hotel',\n",
       " 'Best Western InnSuites Phoenix Hotel & Suites',\n",
       " 'Sheraton Phoenix Downtown Hotel',\n",
       " 'Embassy Suites Phoenix Airport West',\n",
       " 'Condo, 1 Bedroom, Sleeps 2, 1 Bathroom',\n",
       " 'Pointe Hilton Tapatio Cliffs Resort',\n",
       " 'Royal Palms Resort & Spa']"
      ]
     },
     "execution_count": 14,
     "metadata": {},
     "output_type": "execute_result"
    }
   ],
   "source": [
    "hotel_names"
   ]
  },
  {
   "cell_type": "code",
   "execution_count": 13,
   "metadata": {
    "collapsed": false
   },
   "outputs": [],
   "source": [
    "hotel_names = ['Pointe Hilton Squaw Peak Resort',\n",
    " 'La Quinta Inn Phoenix Arcadia',\n",
    " 'La Quinta Inn Phoenix North',\n",
    " 'La Quinta Inn Phoenix Thomas Road',\n",
    " 'Crossland Economy Studios Phoenix Metro',\n",
    " 'House, 1 Bedroom, Sleeps 4, 1 Bathroom',\n",
    " 'Arizona Biltmore Waldorf Astoria',\n",
    " '2-Blocks from South Mountain Park',\n",
    " 'Sheraton Crescent Hotel',\n",
    " 'Best Western InnSuites Phoenix Hotel & Suites',\n",
    " 'Sheraton Phoenix Downtown Hotel',\n",
    " 'Embassy Suites Phoenix Airport West',\n",
    " 'Condo, 1 Bedroom, Sleeps 2, 1 Bathroom',\n",
    " 'Pointe Hilton Tapatio Cliffs Resort',\n",
    " 'Royal Palms Resort & Spa']"
   ]
  },
  {
   "cell_type": "code",
   "execution_count": 11,
   "metadata": {
    "collapsed": false
   },
   "outputs": [
    {
     "data": {
      "text/plain": [
       "['/lodging/64846/?cid=14020&ar=&dt=&rm=1&ad=1&ch=0&dg=1&rt=199',\n",
       " '/lodging/64835/?cid=14020&ar=&dt=&rm=1&ad=1&ch=0&dg=1&rt=64',\n",
       " '/lodging/64834/?cid=14020&ar=&dt=&rm=1&ad=1&ch=0&dg=1&rt=62',\n",
       " '/lodging/64836/?cid=14020&ar=&dt=&rm=1&ad=1&ch=0&dg=1&rt=64',\n",
       " '/lodging/64824/?cid=14020&ar=&dt=&rm=1&ad=1&ch=0&dg=1&rt=44.99',\n",
       " '/lodging/132841/?cid=14020&ar=&dt=&rm=1&ad=1&ch=0&dg=1&rt=53',\n",
       " '/lodging/64763/?cid=14020&ar=&dt=&rm=1&ad=1&ch=0&dg=1&rt=329',\n",
       " '/lodging/130968/?cid=14020&ar=&dt=&rm=1&ad=1&ch=0&dg=1&rt=66',\n",
       " '/lodging/64862/?cid=14020&ar=&dt=&rm=1&ad=1&ch=0&dg=1&rt=159',\n",
       " '/lodging/64769/?cid=14020&ar=&dt=&rm=1&ad=1&ch=0&dg=1&rt=71.1',\n",
       " '/lodging/64863/?cid=14020&ar=&dt=&rm=1&ad=1&ch=0&dg=1&rt=319',\n",
       " '/lodging/64794/?cid=14020&ar=&dt=&rm=1&ad=1&ch=0&dg=1&rt=71.2',\n",
       " '/lodging/132840/?cid=14020&ar=&dt=&rm=1&ad=1&ch=0&dg=1&rt=30',\n",
       " '/lodging/64847/?cid=14020&ar=&dt=&rm=1&ad=1&ch=0&dg=1&rt=199',\n",
       " '/lodging/64861/?cid=14020&ar=&dt=&rm=1&ad=1&ch=0&dg=1&rt=134.78']"
      ]
     },
     "execution_count": 11,
     "metadata": {},
     "output_type": "execute_result"
    }
   ],
   "source": [
    "links"
   ]
  },
  {
   "cell_type": "code",
   "execution_count": 15,
   "metadata": {
    "collapsed": true
   },
   "outputs": [],
   "source": [
    "links = ['/lodging/64846/?cid=14020&ar=&dt=&rm=1&ad=1&ch=0&dg=1&rt=199',\n",
    "         '/lodging/64835/?cid=14020&ar=&dt=&rm=1&ad=1&ch=0&dg=1&rt=64',\n",
    "         '/lodging/64834/?cid=14020&ar=&dt=&rm=1&ad=1&ch=0&dg=1&rt=62',\n",
    "         '/lodging/64836/?cid=14020&ar=&dt=&rm=1&ad=1&ch=0&dg=1&rt=64',\n",
    "         '/lodging/64824/?cid=14020&ar=&dt=&rm=1&ad=1&ch=0&dg=1&rt=44.99',\n",
    "         '/lodging/132841/?cid=14020&ar=&dt=&rm=1&ad=1&ch=0&dg=1&rt=53',\n",
    "         '/lodging/64763/?cid=14020&ar=&dt=&rm=1&ad=1&ch=0&dg=1&rt=329',\n",
    "         '/lodging/130968/?cid=14020&ar=&dt=&rm=1&ad=1&ch=0&dg=1&rt=66',\n",
    "         '/lodging/64862/?cid=14020&ar=&dt=&rm=1&ad=1&ch=0&dg=1&rt=159',\n",
    "         '/lodging/64769/?cid=14020&ar=&dt=&rm=1&ad=1&ch=0&dg=1&rt=71.1',\n",
    "         '/lodging/64863/?cid=14020&ar=&dt=&rm=1&ad=1&ch=0&dg=1&rt=319',\n",
    "         '/lodging/64794/?cid=14020&ar=&dt=&rm=1&ad=1&ch=0&dg=1&rt=71.2',\n",
    "         '/lodging/132840/?cid=14020&ar=&dt=&rm=1&ad=1&ch=0&dg=1&rt=30',\n",
    "         '/lodging/64847/?cid=14020&ar=&dt=&rm=1&ad=1&ch=0&dg=1&rt=199',\n",
    "         '/lodging/64861/?cid=14020&ar=&dt=&rm=1&ad=1&ch=0&dg=1&rt=134.78']"
   ]
  },
  {
   "cell_type": "code",
   "execution_count": 11,
   "metadata": {
    "collapsed": false
   },
   "outputs": [
    {
     "data": {
      "text/plain": [
       "['Pointe Hilton Squaw Peak ResortPhoenix, AZ, USPointe Hilton Squaw Peak Resort welcomes two pets, under 75 lbs, for an additional $75 per stay.Hotel Overview | Map | Photos | Guest ReviewsLow Rates from$199 + pet feeCHECK RATES',\n",
       " 'La Quinta Inn Phoenix ArcadiaPhoenix, AZ, USLa Quinta Inn Phoenix Arcadia is dog friendly. Two pets of any size are welcome for no additional fee. All rooms are pet friendly.Hotel Overview | Map | Photos | Guest ReviewsLow Rates from$64 (no pet fee)VISIT WEBSITE',\n",
       " 'La Quinta Inn Phoenix NorthPhoenix, AZ, USLa Quinta Inn Phoenix North is dog friendly. Two pets of any size are welcome for no additional fee. All rooms are pet friendly.Hotel Overview | Map | Photos | Guest ReviewsLow Rates from$62 (no pet fee)VISIT WEBSITE',\n",
       " 'La Quinta Inn Phoenix Thomas RoadPhoenix, AZ, USLa Quinta Inn Phoenix Thomas Road is dog friendly. Two pets of any size are welcome for no additional fee. All rooms are pet friendly.Hotel Overview | Map | Photos | Guest ReviewsLow Rates from$64 (no pet fee)VISIT WEBSITE',\n",
       " 'Crossland Economy Studios Phoenix MetroPhoenix, AZ, USCrossland Economy Studios Phoenix Metro is pet friendly! Two cats or dogs of any size are welcome for an additional fee of $25 per pet per night, not to exceed $150 per room. Well-behaved pets are ...Hotel Overview | Map | Photos | Guest ReviewsLow Rates from$45 + pet feeCHECK RATES',\n",
       " 'House, 1 Bedroom, Sleeps 4, 1 BathroomPhoenix, AZ, USPets are allowed with prior approval from the homeowner only. Please inquire for information on pet fee and other restrictions.Hotel Overview | Map | Photos | Guest ReviewsLow Rates from$53 + pet feeVISIT WEBSITE',\n",
       " 'Arizona Biltmore Waldorf AstoriaPhoenix, AZ, USArizona Biltmore Resort & Spa is pet friendly! Up to two pets under 100 lbs are allowed per room for a $100 flat fee per stay. Please note that there is a limited number of pet ...Hotel Overview | Map | Photos | Guest ReviewsLow Rates from$329 + pet feeCHECK RATES',\n",
       " '2-Blocks from South Mountain ParkPhoenix, AZ, USPets are allowed with prior approval from the homeowner only. Please inquire for information on pet fee and other restrictions. Large, fenced-in lot available for your pet to run and enjoy.Hotel Overview | Map | Photos | Guest ReviewsLow Rates from$66 + pet feeVISIT WEBSITE',\n",
       " 'Sheraton Crescent HotelPhoenix, AZ, USThe Sheraton Crescent Hotel is pet friendly! Up to two pets (50 lbs or less) are welcome for no additional fee. Guests traveling with pets are required to sign a pet waiver upon check-in.Hotel Overview | Map | Photos | Guest ReviewsLow Rates from$159 (no pet fee)CHECK RATES',\n",
       " 'Best Western InnSuites Phoenix Hotel & SuitesPhoenix, AZ, USBest Western Innsuites Hotel Phoenix is pet friendly! Two dogs (up to 80 lbs) are welcome in select rooms WITH TWO QUEEN BEDS for an additional fee of $20 per stay. Pet friendly rooms are limited. ...Hotel Overview | Map | Photos | Guest ReviewsLow Rates from$71 + pet feeVISIT WEBSITE',\n",
       " 'Sheraton Phoenix Downtown HotelPhoenix, AZ, USThe Sheraton is pet friendly. They welcome up to two DOGS only, (max weight 80 lbs) They do not charge a pet fee, but dogs may not be left alone in the room.Hotel Overview | Map | Photos | Guest ReviewsLow Rates from$319 + pet feeCHECK RATES',\n",
       " 'Embassy Suites Phoenix Airport WestPhoenix, AZ, USThe Embassy Suites Phoenix - Airport West welcomes multiple pets, under 50 lbs, for an additional $25 per room, per night.Hotel Overview | Map | Photos | Guest ReviewsLow Rates from$71 + pet feeCHECK RATES',\n",
       " 'Condo, 1 Bedroom, Sleeps 2, 1 BathroomPhoenix, AZ, USPets are allowed with prior approval from the homeowner only. Please inquire for information on pet fee and other restrictions.Hotel Overview | Map | Photos | Guest ReviewsLow Rates from$30 + pet feeVISIT WEBSITE',\n",
       " 'Pointe Hilton Tapatio Cliffs ResortPhoenix, AZ, USPointe Hilton Tapatio Cliffs Resort welcomes a maximum of two pets, 75 lbs or less, per guest room for an additional $75 per stay. Additional pets may be accepted with approval prior to booking.Hotel Overview | Map | Photos | Guest ReviewsLow Rates from$199 + pet feeCHECK RATES',\n",
       " 'Royal Palms Resort & SpaPhoenix, AZ, USThe Royal Palms Resort and Spa is pet friendly! Up to two dogs (with a combined weight of 30 lbs or less) are welcome for an additional fee of $100 per stay along with a $150 ...Hotel Overview | Map | Photos | Guest ReviewsLow Rates from$135 + pet feeCHECK RATES']"
      ]
     },
     "execution_count": 11,
     "metadata": {},
     "output_type": "execute_result"
    }
   ],
   "source": [
    "text_summaries"
   ]
  },
  {
   "cell_type": "code",
   "execution_count": 9,
   "metadata": {
    "collapsed": false
   },
   "outputs": [],
   "source": [
    "url_base = 'http://www.bringfido.com'  \n",
    "r.update_url(url_base+links[1])"
   ]
  },
  {
   "cell_type": "code",
   "execution_count": 10,
   "metadata": {
    "collapsed": true
   },
   "outputs": [],
   "source": [
    "columns = ['hotel_id',\n",
    "           'hotel_name',\n",
    "           'hotel_address',\n",
    "           'hotel_city',\n",
    "           'hotel_state',\n",
    "           'hotel_rating',\n",
    "           'hotel_latitude',\n",
    "           'hotel_longitude',\n",
    "           'review_count',\n",
    "           'hotel_address',\n",
    "           'business_id',\n",
    "           'review_id',\n",
    "           'user_id',\n",
    "           'review_text',\n",
    "           'review_rating',\n",
    "           'review_date']"
   ]
  },
  {
   "cell_type": "code",
   "execution_count": 11,
   "metadata": {
    "collapsed": true
   },
   "outputs": [],
   "source": [
    "df = pd.DataFrame(columns=columns)"
   ]
  },
  {
   "cell_type": "code",
   "execution_count": 12,
   "metadata": {
    "collapsed": false
   },
   "outputs": [
    {
     "data": {
      "text/html": [
       "<div style=\"max-height:1000px;max-width:1500px;overflow:auto;\">\n",
       "<table border=\"1\" class=\"dataframe\">\n",
       "  <thead>\n",
       "    <tr style=\"text-align: right;\">\n",
       "      <th></th>\n",
       "      <th>hotel_id</th>\n",
       "      <th>hotel_name</th>\n",
       "      <th>hotel_address</th>\n",
       "      <th>hotel_city</th>\n",
       "      <th>hotel_state</th>\n",
       "      <th>hotel_rating</th>\n",
       "      <th>hotel_latitude</th>\n",
       "      <th>hotel_longitude</th>\n",
       "      <th>review_count</th>\n",
       "      <th>hotel_address</th>\n",
       "      <th>business_id</th>\n",
       "      <th>review_id</th>\n",
       "      <th>user_id</th>\n",
       "      <th>review_text</th>\n",
       "      <th>review_rating</th>\n",
       "      <th>review_date</th>\n",
       "    </tr>\n",
       "  </thead>\n",
       "  <tbody>\n",
       "  </tbody>\n",
       "</table>\n",
       "</div>"
      ],
      "text/plain": [
       "Empty DataFrame\n",
       "Columns: [hotel_id, hotel_name, hotel_address, hotel_city, hotel_state, hotel_rating, hotel_latitude, hotel_longitude, review_count, hotel_address, business_id, review_id, user_id, review_text, review_rating, review_date]\n",
       "Index: []"
      ]
     },
     "execution_count": 12,
     "metadata": {},
     "output_type": "execute_result"
    }
   ],
   "source": [
    "df.head(1)"
   ]
  },
  {
   "cell_type": "code",
   "execution_count": 14,
   "metadata": {
    "collapsed": false
   },
   "outputs": [
    {
     "name": "stdout",
     "output_type": "stream",
     "text": [
      "[<Element div at 0x117b471b0>, <Element div at 0x117b47208>, <Element div at 0x117b47260>, <Element div at 0x117b472b8>, <Element div at 0x117b47310>, <Element div at 0x117b47368>]\n",
      "\n",
      "5\n",
      "5\n",
      "5\n",
      "4\n",
      "3\n",
      "1\n"
     ]
    }
   ],
   "source": [
    "result = r.frame.toHtml()\n",
    "\n",
    "#QString should be converted to string before processed by lxml\n",
    "formatted_result = str(result.toAscii())\n",
    "\n",
    "tree = html.fromstring(formatted_result) \n",
    "\n",
    "hotel_description = tree.xpath('//*[@class=\"body\"]/text()')\n",
    "\n",
    "# scrape the address details section of the page\n",
    "details = tree.xpath('//*[@class=\"address\"]/text()')\n",
    "\n",
    "# now get just the address:\n",
    "address = details[0]\n",
    "\n",
    "# and just the city, state, country, and zip code:\n",
    "csczip = details[1]\n",
    "\n",
    "# and just the phone number\n",
    "phone = details[2]\n",
    "\n",
    "# outer_addresses.append(address)\n",
    "# outer_csczip.append(csczip)\n",
    "# outer_phones.append(phone)\n",
    "\n",
    "#Now using correct Xpath we are fetching URL of archives\n",
    "reviews = tree.xpath('//*[@class=\"review_container\"]')\n",
    "\n",
    "texts = []\n",
    "titles = []\n",
    "authors = []\n",
    "ratings = []\n",
    "\n",
    "print(reviews)\n",
    "print('')\n",
    "for rev in reviews:\n",
    "    titles.append(rev.xpath('div/div[1]/text()')[0])\n",
    "    authors.append(rev.xpath('div/div[2]/text()')[0])\n",
    "    texts.append(rev.xpath('div/div[3]/text()')[0])\n",
    "    ratings.append(rev.xpath('div[2]/img/@src')[0].split('/')[-1][0:1])\n",
    "    print(rev.xpath('div[2]/img/@src')[0].split('/')[-1][0:1])\n"
   ]
  },
  {
   "cell_type": "code",
   "execution_count": 15,
   "metadata": {
    "collapsed": false
   },
   "outputs": [],
   "source": [
    "city, state, zipcode = csczip.strip().split(',')\n",
    "zipcode = zipcode[3:]"
   ]
  },
  {
   "cell_type": "code",
   "execution_count": 16,
   "metadata": {
    "collapsed": false
   },
   "outputs": [
    {
     "name": "stdout",
     "output_type": "stream",
     "text": [
      "Phoenix\n",
      " AZ\n",
      " 85018\n"
     ]
    }
   ],
   "source": [
    "print(city)\n",
    "print(state)\n",
    "print(zipcode)"
   ]
  },
  {
   "cell_type": "code",
   "execution_count": 17,
   "metadata": {
    "collapsed": false
   },
   "outputs": [
    {
     "data": {
      "text/plain": [
       "[\"We've stayed at this La Quinta several times with our two mini schnauzers. The staff is all very friendly. Rooms were clean but not overly fancy - we felt like we didn't need to worry leaving our dogs there for short periods while we went out to eat, etc. In a great location. Great breakfast too!\",\n",
       " 'This place was awesome!! The entire staff was extremely friendly and accommodating to us and our English Mastiff, Kadence. Dog area was well lit, clean and provided clean up bags. Continental Breakfast had a great selection. There was plenty of space in the room for our kennel and all of our luggage. I would recommend this hotel to dog owners and non- dog owners alike. If we ever pass through this way again this will definitely be the place we stay!! ',\n",
       " \"We've stayed at this hotel two times with our three mini dachshunds. Nice grass area with picnic tables and doggie bags everywhere. Great place and very dog friendly.\",\n",
       " \"My room while a bit small was very clean and the beds were super comfy. The free breakfast was pretty standard for hotel breakfast with the exception of the biscuits and gravy which were delicious. The staff was extremely helpful and friendly. The location was great too. Within walking distance to a shopping mall that had practically everything in it. A median strip between 47/48th st that's built like a park/walkway was the perfect spot to take my dogs on a walk. There's also another park a few blocks south that's nice if you need to change things up a bit.\\nThere was multiple wifi access points too so you can pick the one with the best signal strength. In the few other hotels I've been staying at on my trip they will have only one wifi router so if you have a crappy signal you'd have to move to another room or deal with it.\\nFor the price I think this is one of the better places to stay.\\n\",\n",
       " 'The big gentleman who manages the front desk is very creepy. He is rude and has very young girls working the front desk that seem to be very submissive towards him, eek! The thought of the rest!',\n",
       " \"I was driving from So Cal to Houston, TX for the holidays and stayed at this La Quinta because I wanted an inexpensive, dog friendly hotel with a reputation for cleanliness and reliability. This place did not meet my standards at all. The front desk person was rude, unattentive and unhelful. Our room was a wreck. We ended up in a handicap room-which was dirty and the shower wand didn't work. I do NOT recommend this place at all. Yuck!\"]"
      ]
     },
     "execution_count": 17,
     "metadata": {},
     "output_type": "execute_result"
    }
   ],
   "source": [
    "texts"
   ]
  },
  {
   "cell_type": "code",
   "execution_count": 18,
   "metadata": {
    "collapsed": true
   },
   "outputs": [],
   "source": [
    "df = pd.DataFrame(columns=columns)"
   ]
  },
  {
   "cell_type": "code",
   "execution_count": 19,
   "metadata": {
    "collapsed": true
   },
   "outputs": [],
   "source": [
    "df['review_text'] = texts"
   ]
  },
  {
   "cell_type": "code",
   "execution_count": 21,
   "metadata": {
    "collapsed": false
   },
   "outputs": [],
   "source": [
    "df['hotel_id'] = 1"
   ]
  },
  {
   "cell_type": "code",
   "execution_count": 24,
   "metadata": {
    "collapsed": false
   },
   "outputs": [
    {
     "data": {
      "text/html": [
       "<div style=\"max-height:1000px;max-width:1500px;overflow:auto;\">\n",
       "<table border=\"1\" class=\"dataframe\">\n",
       "  <thead>\n",
       "    <tr style=\"text-align: right;\">\n",
       "      <th></th>\n",
       "      <th>hotel_id</th>\n",
       "      <th>hotel_name</th>\n",
       "      <th>hotel_address</th>\n",
       "      <th>hotel_city</th>\n",
       "      <th>hotel_state</th>\n",
       "      <th>hotel_rating</th>\n",
       "      <th>hotel_latitude</th>\n",
       "      <th>hotel_longitude</th>\n",
       "      <th>review_count</th>\n",
       "      <th>hotel_address</th>\n",
       "      <th>business_id</th>\n",
       "      <th>review_id</th>\n",
       "      <th>user_id</th>\n",
       "      <th>review_text</th>\n",
       "      <th>review_rating</th>\n",
       "      <th>review_date</th>\n",
       "    </tr>\n",
       "  </thead>\n",
       "  <tbody>\n",
       "    <tr>\n",
       "      <th>0</th>\n",
       "      <td>1</td>\n",
       "      <td>NaN</td>\n",
       "      <td>NaN</td>\n",
       "      <td>NaN</td>\n",
       "      <td>NaN</td>\n",
       "      <td>NaN</td>\n",
       "      <td>NaN</td>\n",
       "      <td>NaN</td>\n",
       "      <td>NaN</td>\n",
       "      <td>NaN</td>\n",
       "      <td>NaN</td>\n",
       "      <td>NaN</td>\n",
       "      <td>NaN</td>\n",
       "      <td>We've stayed at this La Quinta several times w...</td>\n",
       "      <td>NaN</td>\n",
       "      <td>NaN</td>\n",
       "    </tr>\n",
       "    <tr>\n",
       "      <th>1</th>\n",
       "      <td>1</td>\n",
       "      <td>NaN</td>\n",
       "      <td>NaN</td>\n",
       "      <td>NaN</td>\n",
       "      <td>NaN</td>\n",
       "      <td>NaN</td>\n",
       "      <td>NaN</td>\n",
       "      <td>NaN</td>\n",
       "      <td>NaN</td>\n",
       "      <td>NaN</td>\n",
       "      <td>NaN</td>\n",
       "      <td>NaN</td>\n",
       "      <td>NaN</td>\n",
       "      <td>This place was awesome!! The entire staff was ...</td>\n",
       "      <td>NaN</td>\n",
       "      <td>NaN</td>\n",
       "    </tr>\n",
       "    <tr>\n",
       "      <th>2</th>\n",
       "      <td>1</td>\n",
       "      <td>NaN</td>\n",
       "      <td>NaN</td>\n",
       "      <td>NaN</td>\n",
       "      <td>NaN</td>\n",
       "      <td>NaN</td>\n",
       "      <td>NaN</td>\n",
       "      <td>NaN</td>\n",
       "      <td>NaN</td>\n",
       "      <td>NaN</td>\n",
       "      <td>NaN</td>\n",
       "      <td>NaN</td>\n",
       "      <td>NaN</td>\n",
       "      <td>We've stayed at this hotel two times with our ...</td>\n",
       "      <td>NaN</td>\n",
       "      <td>NaN</td>\n",
       "    </tr>\n",
       "    <tr>\n",
       "      <th>3</th>\n",
       "      <td>1</td>\n",
       "      <td>NaN</td>\n",
       "      <td>NaN</td>\n",
       "      <td>NaN</td>\n",
       "      <td>NaN</td>\n",
       "      <td>NaN</td>\n",
       "      <td>NaN</td>\n",
       "      <td>NaN</td>\n",
       "      <td>NaN</td>\n",
       "      <td>NaN</td>\n",
       "      <td>NaN</td>\n",
       "      <td>NaN</td>\n",
       "      <td>NaN</td>\n",
       "      <td>My room while a bit small was very clean and t...</td>\n",
       "      <td>NaN</td>\n",
       "      <td>NaN</td>\n",
       "    </tr>\n",
       "    <tr>\n",
       "      <th>4</th>\n",
       "      <td>1</td>\n",
       "      <td>NaN</td>\n",
       "      <td>NaN</td>\n",
       "      <td>NaN</td>\n",
       "      <td>NaN</td>\n",
       "      <td>NaN</td>\n",
       "      <td>NaN</td>\n",
       "      <td>NaN</td>\n",
       "      <td>NaN</td>\n",
       "      <td>NaN</td>\n",
       "      <td>NaN</td>\n",
       "      <td>NaN</td>\n",
       "      <td>NaN</td>\n",
       "      <td>The big gentleman who manages the front desk i...</td>\n",
       "      <td>NaN</td>\n",
       "      <td>NaN</td>\n",
       "    </tr>\n",
       "    <tr>\n",
       "      <th>5</th>\n",
       "      <td>1</td>\n",
       "      <td>NaN</td>\n",
       "      <td>NaN</td>\n",
       "      <td>NaN</td>\n",
       "      <td>NaN</td>\n",
       "      <td>NaN</td>\n",
       "      <td>NaN</td>\n",
       "      <td>NaN</td>\n",
       "      <td>NaN</td>\n",
       "      <td>NaN</td>\n",
       "      <td>NaN</td>\n",
       "      <td>NaN</td>\n",
       "      <td>NaN</td>\n",
       "      <td>I was driving from So Cal to Houston, TX for t...</td>\n",
       "      <td>NaN</td>\n",
       "      <td>NaN</td>\n",
       "    </tr>\n",
       "  </tbody>\n",
       "</table>\n",
       "</div>"
      ],
      "text/plain": [
       "   hotel_id hotel_name hotel_address hotel_city hotel_state hotel_rating  \\\n",
       "0         1        NaN           NaN        NaN         NaN          NaN   \n",
       "1         1        NaN           NaN        NaN         NaN          NaN   \n",
       "2         1        NaN           NaN        NaN         NaN          NaN   \n",
       "3         1        NaN           NaN        NaN         NaN          NaN   \n",
       "4         1        NaN           NaN        NaN         NaN          NaN   \n",
       "5         1        NaN           NaN        NaN         NaN          NaN   \n",
       "\n",
       "  hotel_latitude hotel_longitude review_count hotel_address business_id  \\\n",
       "0            NaN             NaN          NaN           NaN         NaN   \n",
       "1            NaN             NaN          NaN           NaN         NaN   \n",
       "2            NaN             NaN          NaN           NaN         NaN   \n",
       "3            NaN             NaN          NaN           NaN         NaN   \n",
       "4            NaN             NaN          NaN           NaN         NaN   \n",
       "5            NaN             NaN          NaN           NaN         NaN   \n",
       "\n",
       "  review_id user_id                                        review_text  \\\n",
       "0       NaN     NaN  We've stayed at this La Quinta several times w...   \n",
       "1       NaN     NaN  This place was awesome!! The entire staff was ...   \n",
       "2       NaN     NaN  We've stayed at this hotel two times with our ...   \n",
       "3       NaN     NaN  My room while a bit small was very clean and t...   \n",
       "4       NaN     NaN  The big gentleman who manages the front desk i...   \n",
       "5       NaN     NaN  I was driving from So Cal to Houston, TX for t...   \n",
       "\n",
       "  review_rating review_date  \n",
       "0           NaN         NaN  \n",
       "1           NaN         NaN  \n",
       "2           NaN         NaN  \n",
       "3           NaN         NaN  \n",
       "4           NaN         NaN  \n",
       "5           NaN         NaN  "
      ]
     },
     "execution_count": 24,
     "metadata": {},
     "output_type": "execute_result"
    }
   ],
   "source": [
    "df"
   ]
  },
  {
   "cell_type": "markdown",
   "metadata": {},
   "source": [
    "## Now cycle through each hotel, and scrape the reviews, ratings, etc."
   ]
  },
  {
   "cell_type": "code",
   "execution_count": 16,
   "metadata": {
    "collapsed": false
   },
   "outputs": [
    {
     "name": "stdout",
     "output_type": "stream",
     "text": [
      "**************************************************\n",
      "Now on /lodging/64846/?cid=14020&ar=&dt=&rm=1&ad=1&ch=0&dg=1&rt=199\n",
      "**************************************************\n",
      "[<Element div at 0x11903ed08>]\n",
      "\n",
      "5\n",
      "**************************************************\n",
      "Now on /lodging/64835/?cid=14020&ar=&dt=&rm=1&ad=1&ch=0&dg=1&rt=64\n",
      "**************************************************\n",
      "[<Element div at 0x119009a48>, <Element div at 0x119009aa0>, <Element div at 0x119009af8>, <Element div at 0x119009b50>, <Element div at 0x119009ba8>, <Element div at 0x119009c00>]\n",
      "\n",
      "5\n",
      "5\n",
      "5\n",
      "4\n",
      "3\n",
      "1\n",
      "**************************************************\n",
      "Now on /lodging/64834/?cid=14020&ar=&dt=&rm=1&ad=1&ch=0&dg=1&rt=62\n",
      "**************************************************\n",
      "[<Element div at 0x10ca10d60>]\n",
      "\n",
      "2\n"
     ]
    }
   ],
   "source": [
    "url_base = 'http://www.bringfido.com'  \n",
    "\n",
    "columns = ['hotel_id',\n",
    "           'hotel_url',\n",
    "           'hotel_name',\n",
    "           'hotel_address',\n",
    "           'hotel_city',\n",
    "           'hotel_state',\n",
    "           'hotel_rating',\n",
    "           'hotel_latitude',\n",
    "           'hotel_longitude',\n",
    "           'review_count',\n",
    "           'hotel_address',\n",
    "           'business_id',\n",
    "           'review_id',\n",
    "           'user_id',\n",
    "           'username',\n",
    "           'review_title',\n",
    "           'review_text',\n",
    "           'review_rating',\n",
    "           'review_date']\n",
    "\n",
    "bigdf = pd.DataFrame(columns=columns)\n",
    "\n",
    "\n",
    "for hotel_id, link in enumerate(links[:3]):\n",
    "    print('*'*50)\n",
    "    print('Now on {}'.format(link))\n",
    "    print('*'*50)\n",
    "    r.update_url(url_base+link)  \n",
    "    result = r.frame.toHtml()\n",
    "    \n",
    "    df = pd.DataFrame(columns=columns)\n",
    "\n",
    "    #QString should be converted to string before processed by lxml\n",
    "    formatted_result = str(result.toAscii())\n",
    "\n",
    "    tree = html.fromstring(formatted_result) \n",
    "\n",
    "    hotel_description = tree.xpath('//*[@class=\"body\"]/text()')\n",
    "\n",
    "    # scrape the address details section of the page\n",
    "    details = tree.xpath('//*[@class=\"address\"]/text()')\n",
    "\n",
    "    # now get just the address:\n",
    "    address = details[0]\n",
    "    \n",
    "    # and just the city, state, country, and zip code:\n",
    "    csczip = details[1]\n",
    "    \n",
    "    # and just the phone number\n",
    "    phone = details[2]\n",
    "    \n",
    "    # now separate the city, state, and zip:\n",
    "    city, state, zipcode = csczip.strip().split(',')\n",
    "    zipcode = zipcode[3:]\n",
    "    \n",
    "    #Now using correct Xpath we are fetching URL of archives\n",
    "    reviews = tree.xpath('//*[@class=\"review_container\"]')\n",
    "\n",
    "    texts = []\n",
    "    titles = []\n",
    "    authors = []\n",
    "    ratings = []\n",
    "\n",
    "    print(reviews)\n",
    "    print('')\n",
    "    for rev in reviews:\n",
    "        titles.append(rev.xpath('div/div[1]/text()')[0])\n",
    "        authors.append(rev.xpath('div/div[2]/text()')[0])\n",
    "        texts.append(rev.xpath('div/div[3]/text()')[0])\n",
    "        ratings.append(rev.xpath('div[2]/img/@src')[0].split('/')[-1][0:1])\n",
    "        print(rev.xpath('div[2]/img/@src')[0].split('/')[-1][0:1])\n",
    "    \n",
    "    df['review_title'] = titles\n",
    "    df['username'] = authors\n",
    "    df['review_text'] = texts\n",
    "    df['review_rating'] = ratings\n",
    "    df['hotel_id'] = hotel_id\n",
    "    df['hotel_name'] = hotel_names[hotel_id]\n",
    "    df['hotel_url'] = url\n",
    "    df['hotel_address'] = address\n",
    "    df['hotel_city'] = city\n",
    "    df['hotel_state'] = state\n",
    "    df['hotel_rating'] = np.mean([int(rat) for rat in ratings])\n",
    "    df['hotel_latitude'] = ''\n",
    "    df['hotel_longitude'] = ''\n",
    "    df['review_count'] = len(texts)\n",
    "    df['review_id'] = 0\n",
    "    df['user_id'] = 0\n",
    "    \n",
    "    bigdf = bigdf.append(df)\n",
    "\n",
    "\n"
   ]
  },
  {
   "cell_type": "code",
   "execution_count": 13,
   "metadata": {
    "collapsed": false
   },
   "outputs": [
    {
     "data": {
      "text/html": [
       "<div style=\"max-height:1000px;max-width:1500px;overflow:auto;\">\n",
       "<table border=\"1\" class=\"dataframe\">\n",
       "  <thead>\n",
       "    <tr style=\"text-align: right;\">\n",
       "      <th></th>\n",
       "      <th>hotel_id</th>\n",
       "      <th>hotel_url</th>\n",
       "      <th>hotel_name</th>\n",
       "      <th>hotel_address</th>\n",
       "      <th>hotel_city</th>\n",
       "      <th>hotel_state</th>\n",
       "      <th>hotel_rating</th>\n",
       "      <th>hotel_latitude</th>\n",
       "      <th>hotel_longitude</th>\n",
       "      <th>review_count</th>\n",
       "      <th>hotel_address</th>\n",
       "      <th>business_id</th>\n",
       "      <th>review_id</th>\n",
       "      <th>user_id</th>\n",
       "      <th>username</th>\n",
       "      <th>review_title</th>\n",
       "      <th>review_text</th>\n",
       "      <th>review_rating</th>\n",
       "      <th>review_date</th>\n",
       "    </tr>\n",
       "  </thead>\n",
       "  <tbody>\n",
       "    <tr>\n",
       "      <th>0</th>\n",
       "      <td>2</td>\n",
       "      <td>http://www.bringfido.com/lodging/city/phoenix_...</td>\n",
       "      <td>La Quinta Inn Phoenix North</td>\n",
       "      <td>\\n2510 WGreenway Rd</td>\n",
       "      <td>Phoenix</td>\n",
       "      <td>AZ</td>\n",
       "      <td>2</td>\n",
       "      <td></td>\n",
       "      <td></td>\n",
       "      <td>1</td>\n",
       "      <td>\\n2510 WGreenway Rd</td>\n",
       "      <td>NaN</td>\n",
       "      <td>0</td>\n",
       "      <td>0</td>\n",
       "      <td>\\nemma\\nin park city\\n</td>\n",
       "      <td>no dog area</td>\n",
       "      <td>the hotel was fine but it is all hard scape ar...</td>\n",
       "      <td>2</td>\n",
       "      <td>NaN</td>\n",
       "    </tr>\n",
       "  </tbody>\n",
       "</table>\n",
       "</div>"
      ],
      "text/plain": [
       "   hotel_id                                          hotel_url  \\\n",
       "0         2  http://www.bringfido.com/lodging/city/phoenix_...   \n",
       "\n",
       "                    hotel_name        hotel_address hotel_city hotel_state  \\\n",
       "0  La Quinta Inn Phoenix North  \\n2510 WGreenway Rd    Phoenix          AZ   \n",
       "\n",
       "   hotel_rating hotel_latitude hotel_longitude  review_count  \\\n",
       "0             2                                            1   \n",
       "\n",
       "         hotel_address business_id  review_id  user_id  \\\n",
       "0  \\n2510 WGreenway Rd         NaN          0        0   \n",
       "\n",
       "                 username review_title  \\\n",
       "0  \\nemma\\nin park city\\n  no dog area   \n",
       "\n",
       "                                         review_text review_rating review_date  \n",
       "0  the hotel was fine but it is all hard scape ar...             2         NaN  "
      ]
     },
     "execution_count": 13,
     "metadata": {},
     "output_type": "execute_result"
    }
   ],
   "source": [
    "df"
   ]
  },
  {
   "cell_type": "code",
   "execution_count": 15,
   "metadata": {
    "collapsed": true
   },
   "outputs": [],
   "source": [
    "bigdf = bigdf.append(df)"
   ]
  },
  {
   "cell_type": "code",
   "execution_count": 17,
   "metadata": {
    "collapsed": false
   },
   "outputs": [
    {
     "data": {
      "text/html": [
       "<div style=\"max-height:1000px;max-width:1500px;overflow:auto;\">\n",
       "<table border=\"1\" class=\"dataframe\">\n",
       "  <thead>\n",
       "    <tr style=\"text-align: right;\">\n",
       "      <th></th>\n",
       "      <th>hotel_id</th>\n",
       "      <th>hotel_url</th>\n",
       "      <th>hotel_name</th>\n",
       "      <th>hotel_address</th>\n",
       "      <th>hotel_city</th>\n",
       "      <th>hotel_state</th>\n",
       "      <th>hotel_rating</th>\n",
       "      <th>hotel_latitude</th>\n",
       "      <th>hotel_longitude</th>\n",
       "      <th>review_count</th>\n",
       "      <th>hotel_address</th>\n",
       "      <th>business_id</th>\n",
       "      <th>review_id</th>\n",
       "      <th>user_id</th>\n",
       "      <th>username</th>\n",
       "      <th>review_title</th>\n",
       "      <th>review_text</th>\n",
       "      <th>review_rating</th>\n",
       "      <th>review_date</th>\n",
       "    </tr>\n",
       "  </thead>\n",
       "  <tbody>\n",
       "    <tr>\n",
       "      <th>0</th>\n",
       "      <td>0</td>\n",
       "      <td>http://www.bringfido.com/lodging/city/phoenix_...</td>\n",
       "      <td>Pointe Hilton Squaw Peak Resort</td>\n",
       "      <td>\\n7677 North 16th Street</td>\n",
       "      <td>Phoenix</td>\n",
       "      <td>AZ</td>\n",
       "      <td>5.000000</td>\n",
       "      <td></td>\n",
       "      <td></td>\n",
       "      <td>1</td>\n",
       "      <td>\\n7677 North 16th Street</td>\n",
       "      <td>NaN</td>\n",
       "      <td>0</td>\n",
       "      <td>0</td>\n",
       "      <td>\\nMarti Ackermann\\nin Tucson, AZ\\n</td>\n",
       "      <td>Pointe Hilton Squaw Peak</td>\n",
       "      <td>Really nice property. Great walking areas for ...</td>\n",
       "      <td>5</td>\n",
       "      <td>NaN</td>\n",
       "    </tr>\n",
       "    <tr>\n",
       "      <th>0</th>\n",
       "      <td>1</td>\n",
       "      <td>http://www.bringfido.com/lodging/city/phoenix_...</td>\n",
       "      <td>La Quinta Inn Phoenix Arcadia</td>\n",
       "      <td>\\n4727 E Thomas Rd</td>\n",
       "      <td>Phoenix</td>\n",
       "      <td>AZ</td>\n",
       "      <td>3.833333</td>\n",
       "      <td></td>\n",
       "      <td></td>\n",
       "      <td>6</td>\n",
       "      <td>\\n4727 E Thomas Rd</td>\n",
       "      <td>NaN</td>\n",
       "      <td>0</td>\n",
       "      <td>0</td>\n",
       "      <td>\\nJen\\nin Vancouver\\n</td>\n",
       "      <td>Great place to stay!</td>\n",
       "      <td>We've stayed at this La Quinta several times w...</td>\n",
       "      <td>5</td>\n",
       "      <td>NaN</td>\n",
       "    </tr>\n",
       "    <tr>\n",
       "      <th>1</th>\n",
       "      <td>1</td>\n",
       "      <td>http://www.bringfido.com/lodging/city/phoenix_...</td>\n",
       "      <td>La Quinta Inn Phoenix Arcadia</td>\n",
       "      <td>\\n4727 E Thomas Rd</td>\n",
       "      <td>Phoenix</td>\n",
       "      <td>AZ</td>\n",
       "      <td>3.833333</td>\n",
       "      <td></td>\n",
       "      <td></td>\n",
       "      <td>6</td>\n",
       "      <td>\\n4727 E Thomas Rd</td>\n",
       "      <td>NaN</td>\n",
       "      <td>0</td>\n",
       "      <td>0</td>\n",
       "      <td>\\nJody\\nin Sierra Vista, AZ\\n</td>\n",
       "      <td>Awesome Staff!!</td>\n",
       "      <td>This place was awesome!! The entire staff was ...</td>\n",
       "      <td>5</td>\n",
       "      <td>NaN</td>\n",
       "    </tr>\n",
       "    <tr>\n",
       "      <th>2</th>\n",
       "      <td>1</td>\n",
       "      <td>http://www.bringfido.com/lodging/city/phoenix_...</td>\n",
       "      <td>La Quinta Inn Phoenix Arcadia</td>\n",
       "      <td>\\n4727 E Thomas Rd</td>\n",
       "      <td>Phoenix</td>\n",
       "      <td>AZ</td>\n",
       "      <td>3.833333</td>\n",
       "      <td></td>\n",
       "      <td></td>\n",
       "      <td>6</td>\n",
       "      <td>\\n4727 E Thomas Rd</td>\n",
       "      <td>NaN</td>\n",
       "      <td>0</td>\n",
       "      <td>0</td>\n",
       "      <td>\\nKristi\\nin Henderson NV\\n</td>\n",
       "      <td>Very dog friendly</td>\n",
       "      <td>We've stayed at this hotel two times with our ...</td>\n",
       "      <td>5</td>\n",
       "      <td>NaN</td>\n",
       "    </tr>\n",
       "    <tr>\n",
       "      <th>3</th>\n",
       "      <td>1</td>\n",
       "      <td>http://www.bringfido.com/lodging/city/phoenix_...</td>\n",
       "      <td>La Quinta Inn Phoenix Arcadia</td>\n",
       "      <td>\\n4727 E Thomas Rd</td>\n",
       "      <td>Phoenix</td>\n",
       "      <td>AZ</td>\n",
       "      <td>3.833333</td>\n",
       "      <td></td>\n",
       "      <td></td>\n",
       "      <td>6</td>\n",
       "      <td>\\n4727 E Thomas Rd</td>\n",
       "      <td>NaN</td>\n",
       "      <td>0</td>\n",
       "      <td>0</td>\n",
       "      <td>\\nChristopher\\nin Los Angeles\\n</td>\n",
       "      <td>All around great place to stay.</td>\n",
       "      <td>My room while a bit small was very clean and t...</td>\n",
       "      <td>4</td>\n",
       "      <td>NaN</td>\n",
       "    </tr>\n",
       "    <tr>\n",
       "      <th>4</th>\n",
       "      <td>1</td>\n",
       "      <td>http://www.bringfido.com/lodging/city/phoenix_...</td>\n",
       "      <td>La Quinta Inn Phoenix Arcadia</td>\n",
       "      <td>\\n4727 E Thomas Rd</td>\n",
       "      <td>Phoenix</td>\n",
       "      <td>AZ</td>\n",
       "      <td>3.833333</td>\n",
       "      <td></td>\n",
       "      <td></td>\n",
       "      <td>6</td>\n",
       "      <td>\\n4727 E Thomas Rd</td>\n",
       "      <td>NaN</td>\n",
       "      <td>0</td>\n",
       "      <td>0</td>\n",
       "      <td>\\nDave\\nin Sedona\\n</td>\n",
       "      <td>Management and customer service</td>\n",
       "      <td>The big gentleman who manages the front desk i...</td>\n",
       "      <td>3</td>\n",
       "      <td>NaN</td>\n",
       "    </tr>\n",
       "    <tr>\n",
       "      <th>5</th>\n",
       "      <td>1</td>\n",
       "      <td>http://www.bringfido.com/lodging/city/phoenix_...</td>\n",
       "      <td>La Quinta Inn Phoenix Arcadia</td>\n",
       "      <td>\\n4727 E Thomas Rd</td>\n",
       "      <td>Phoenix</td>\n",
       "      <td>AZ</td>\n",
       "      <td>3.833333</td>\n",
       "      <td></td>\n",
       "      <td></td>\n",
       "      <td>6</td>\n",
       "      <td>\\n4727 E Thomas Rd</td>\n",
       "      <td>NaN</td>\n",
       "      <td>0</td>\n",
       "      <td>0</td>\n",
       "      <td>\\nTeri\\nin Southern California\\n</td>\n",
       "      <td>Bad Experience.</td>\n",
       "      <td>I was driving from So Cal to Houston, TX for t...</td>\n",
       "      <td>1</td>\n",
       "      <td>NaN</td>\n",
       "    </tr>\n",
       "    <tr>\n",
       "      <th>0</th>\n",
       "      <td>2</td>\n",
       "      <td>http://www.bringfido.com/lodging/city/phoenix_...</td>\n",
       "      <td>La Quinta Inn Phoenix North</td>\n",
       "      <td>\\n2510 WGreenway Rd</td>\n",
       "      <td>Phoenix</td>\n",
       "      <td>AZ</td>\n",
       "      <td>2.000000</td>\n",
       "      <td></td>\n",
       "      <td></td>\n",
       "      <td>1</td>\n",
       "      <td>\\n2510 WGreenway Rd</td>\n",
       "      <td>NaN</td>\n",
       "      <td>0</td>\n",
       "      <td>0</td>\n",
       "      <td>\\nemma\\nin park city\\n</td>\n",
       "      <td>no dog area</td>\n",
       "      <td>the hotel was fine but it is all hard scape ar...</td>\n",
       "      <td>2</td>\n",
       "      <td>NaN</td>\n",
       "    </tr>\n",
       "  </tbody>\n",
       "</table>\n",
       "</div>"
      ],
      "text/plain": [
       "   hotel_id                                          hotel_url  \\\n",
       "0         0  http://www.bringfido.com/lodging/city/phoenix_...   \n",
       "0         1  http://www.bringfido.com/lodging/city/phoenix_...   \n",
       "1         1  http://www.bringfido.com/lodging/city/phoenix_...   \n",
       "2         1  http://www.bringfido.com/lodging/city/phoenix_...   \n",
       "3         1  http://www.bringfido.com/lodging/city/phoenix_...   \n",
       "4         1  http://www.bringfido.com/lodging/city/phoenix_...   \n",
       "5         1  http://www.bringfido.com/lodging/city/phoenix_...   \n",
       "0         2  http://www.bringfido.com/lodging/city/phoenix_...   \n",
       "\n",
       "                        hotel_name             hotel_address hotel_city  \\\n",
       "0  Pointe Hilton Squaw Peak Resort  \\n7677 North 16th Street    Phoenix   \n",
       "0    La Quinta Inn Phoenix Arcadia        \\n4727 E Thomas Rd    Phoenix   \n",
       "1    La Quinta Inn Phoenix Arcadia        \\n4727 E Thomas Rd    Phoenix   \n",
       "2    La Quinta Inn Phoenix Arcadia        \\n4727 E Thomas Rd    Phoenix   \n",
       "3    La Quinta Inn Phoenix Arcadia        \\n4727 E Thomas Rd    Phoenix   \n",
       "4    La Quinta Inn Phoenix Arcadia        \\n4727 E Thomas Rd    Phoenix   \n",
       "5    La Quinta Inn Phoenix Arcadia        \\n4727 E Thomas Rd    Phoenix   \n",
       "0      La Quinta Inn Phoenix North       \\n2510 WGreenway Rd    Phoenix   \n",
       "\n",
       "  hotel_state  hotel_rating hotel_latitude hotel_longitude  review_count  \\\n",
       "0          AZ      5.000000                                            1   \n",
       "0          AZ      3.833333                                            6   \n",
       "1          AZ      3.833333                                            6   \n",
       "2          AZ      3.833333                                            6   \n",
       "3          AZ      3.833333                                            6   \n",
       "4          AZ      3.833333                                            6   \n",
       "5          AZ      3.833333                                            6   \n",
       "0          AZ      2.000000                                            1   \n",
       "\n",
       "              hotel_address business_id  review_id  user_id  \\\n",
       "0  \\n7677 North 16th Street         NaN          0        0   \n",
       "0        \\n4727 E Thomas Rd         NaN          0        0   \n",
       "1        \\n4727 E Thomas Rd         NaN          0        0   \n",
       "2        \\n4727 E Thomas Rd         NaN          0        0   \n",
       "3        \\n4727 E Thomas Rd         NaN          0        0   \n",
       "4        \\n4727 E Thomas Rd         NaN          0        0   \n",
       "5        \\n4727 E Thomas Rd         NaN          0        0   \n",
       "0       \\n2510 WGreenway Rd         NaN          0        0   \n",
       "\n",
       "                             username                     review_title  \\\n",
       "0  \\nMarti Ackermann\\nin Tucson, AZ\\n         Pointe Hilton Squaw Peak   \n",
       "0               \\nJen\\nin Vancouver\\n             Great place to stay!   \n",
       "1       \\nJody\\nin Sierra Vista, AZ\\n                 Awesome Staff!!    \n",
       "2         \\nKristi\\nin Henderson NV\\n                Very dog friendly   \n",
       "3     \\nChristopher\\nin Los Angeles\\n  All around great place to stay.   \n",
       "4                 \\nDave\\nin Sedona\\n  Management and customer service   \n",
       "5    \\nTeri\\nin Southern California\\n                 Bad Experience.    \n",
       "0              \\nemma\\nin park city\\n                      no dog area   \n",
       "\n",
       "                                         review_text review_rating review_date  \n",
       "0  Really nice property. Great walking areas for ...             5         NaN  \n",
       "0  We've stayed at this La Quinta several times w...             5         NaN  \n",
       "1  This place was awesome!! The entire staff was ...             5         NaN  \n",
       "2  We've stayed at this hotel two times with our ...             5         NaN  \n",
       "3  My room while a bit small was very clean and t...             4         NaN  \n",
       "4  The big gentleman who manages the front desk i...             3         NaN  \n",
       "5  I was driving from So Cal to Houston, TX for t...             1         NaN  \n",
       "0  the hotel was fine but it is all hard scape ar...             2         NaN  "
      ]
     },
     "execution_count": 17,
     "metadata": {},
     "output_type": "execute_result"
    }
   ],
   "source": [
    "bigdf"
   ]
  },
  {
   "cell_type": "code",
   "execution_count": 27,
   "metadata": {
    "collapsed": false
   },
   "outputs": [
    {
     "data": {
      "text/plain": [
       "['5']"
      ]
     },
     "execution_count": 27,
     "metadata": {},
     "output_type": "execute_result"
    }
   ],
   "source": [
    "ratings"
   ]
  },
  {
   "cell_type": "code",
   "execution_count": 8,
   "metadata": {
    "collapsed": false
   },
   "outputs": [],
   "source": [
    "# for idx, hotel_nm in enumerate(hotel_names):\n",
    "#     print('*'*50)\n",
    "#     print(hotel_nm)\n",
    "#     print(outer_addresses[idx])\n",
    "#     print(outer_csczip[idx])\n",
    "#     print(outer_phones[idx])\n",
    "#     print('Number of reviews: {}'.format(len(outer_texts[idx])))\n",
    "#     print(outer_texts[idx])"
   ]
  },
  {
   "cell_type": "markdown",
   "metadata": {
    "collapsed": true
   },
   "source": [
    "### Write data to SQL"
   ]
  },
  {
   "cell_type": "code",
   "execution_count": 24,
   "metadata": {
    "collapsed": false
   },
   "outputs": [
    {
     "data": {
      "text/plain": [
       "Index([u'hotel_id', u'hotel_url', u'hotel_name', u'hotel_address', u'hotel_city', u'hotel_state', u'hotel_rating', u'hotel_latitude', u'hotel_longitude', u'review_count', u'hotel_address', u'business_id', u'review_id', u'user_id', u'username', u'review_title', u'review_text', u'review_rating', u'review_date'], dtype='object')"
      ]
     },
     "execution_count": 24,
     "metadata": {},
     "output_type": "execute_result"
    }
   ],
   "source": [
    "bigdf.columns"
   ]
  },
  {
   "cell_type": "code",
   "execution_count": 18,
   "metadata": {
    "collapsed": true
   },
   "outputs": [],
   "source": [
    "import sqlalchemy\n",
    "import connect_aws_db as cadb"
   ]
  },
  {
   "cell_type": "code",
   "execution_count": 19,
   "metadata": {
    "collapsed": true
   },
   "outputs": [],
   "source": [
    "engine = cadb.connect_aws_db(write_unicode=True)"
   ]
  },
  {
   "cell_type": "code",
   "execution_count": 20,
   "metadata": {
    "collapsed": false
   },
   "outputs": [],
   "source": [
    "conn = engine.connect()"
   ]
  },
  {
   "cell_type": "markdown",
   "metadata": {},
   "source": [
    "#### First the reviews"
   ]
  },
  {
   "cell_type": "code",
   "execution_count": 28,
   "metadata": {
    "collapsed": true
   },
   "outputs": [],
   "source": [
    "cmd = \"DROP TABLE bf_reviews\"\n",
    "result = conn.execute(cmd)"
   ]
  },
  {
   "cell_type": "code",
   "execution_count": 29,
   "metadata": {
    "collapsed": true
   },
   "outputs": [],
   "source": [
    "cmd = \"\"\"\n",
    "        CREATE TABLE bf_reviews\n",
    "        (\n",
    "        review_id MEDIUMINT AUTO_INCREMENT,\n",
    "        hotel_id VARCHAR(256),\n",
    "        business_id VARCHAR(256),\n",
    "        user_id MEDIUMINT,\n",
    "        username VARCHAR(128),\n",
    "        review_title VARCHAR(256),\n",
    "        review_rating INT,\n",
    "        review_text VARCHAR(5000),\n",
    "        PRIMARY KEY (review_id)\n",
    "        )\n",
    "        \"\"\"\n",
    "        "
   ]
  },
  {
   "cell_type": "code",
   "execution_count": 30,
   "metadata": {
    "collapsed": true
   },
   "outputs": [],
   "source": [
    "result = conn.execute(cmd)"
   ]
  },
  {
   "cell_type": "code",
   "execution_count": 31,
   "metadata": {
    "collapsed": false
   },
   "outputs": [],
   "source": [
    "bigdf_reviews = bigdf[['hotel_id', 'review_id', 'business_id', 'user_id',\n",
    "                      'username', 'review_title', 'review_text', 'review_rating']].copy()"
   ]
  },
  {
   "cell_type": "code",
   "execution_count": 32,
   "metadata": {
    "collapsed": false
   },
   "outputs": [],
   "source": [
    "bigdf_reviews.to_sql('bf_reviews', engine, if_exists='append', index=False)"
   ]
  },
  {
   "cell_type": "markdown",
   "metadata": {},
   "source": [
    "#### Next the hotels"
   ]
  },
  {
   "cell_type": "code",
   "execution_count": 33,
   "metadata": {
    "collapsed": false
   },
   "outputs": [
    {
     "data": {
      "text/plain": [
       "Index([u'hotel_id', u'hotel_url', u'hotel_name', u'hotel_address', u'hotel_city', u'hotel_state', u'hotel_rating', u'hotel_latitude', u'hotel_longitude', u'review_count', u'hotel_address', u'business_id', u'review_id', u'user_id', u'username', u'review_title', u'review_text', u'review_rating', u'review_date'], dtype='object')"
      ]
     },
     "execution_count": 33,
     "metadata": {},
     "output_type": "execute_result"
    }
   ],
   "source": [
    "bigdf.columns"
   ]
  },
  {
   "cell_type": "code",
   "execution_count": 63,
   "metadata": {
    "collapsed": false
   },
   "outputs": [],
   "source": [
    "cmd = \"DROP TABLE bf_hotels\"\n",
    "result = conn.execute(cmd)"
   ]
  },
  {
   "cell_type": "code",
   "execution_count": 64,
   "metadata": {
    "collapsed": true
   },
   "outputs": [],
   "source": [
    "cmd = \"\"\"\n",
    "        CREATE TABLE bf_hotels\n",
    "        (\n",
    "        hotel_id MEDIUMINT AUTO_INCREMENT,\n",
    "        hotel_url VARCHAR(512),\n",
    "        hotel_name VARCHAR(512),\n",
    "        hotel_address VARCHAR(1024),\n",
    "        hotel_city VARCHAR(512),\n",
    "        hotel_state VARCHAR(32),\n",
    "        hotel_rating INT,\n",
    "        hotel_latitude FLOAT,\n",
    "        hotel_longitude FLOAT,\n",
    "        business_id VARCHAR(256),\n",
    "        review_count MEDIUMINT,\n",
    "        PRIMARY KEY (hotel_id)\n",
    "        )\n",
    "        \"\"\"\n",
    "        "
   ]
  },
  {
   "cell_type": "code",
   "execution_count": 65,
   "metadata": {
    "collapsed": false
   },
   "outputs": [],
   "source": [
    "result = conn.execute(cmd)"
   ]
  },
  {
   "cell_type": "code",
   "execution_count": 66,
   "metadata": {
    "collapsed": true
   },
   "outputs": [],
   "source": [
    "bigdf_hotels = bigdf[['hotel_id', 'hotel_url', 'hotel_name', 'hotel_address',\n",
    "                      'hotel_city', 'hotel_state', 'hotel_rating', 'hotel_latitude',\n",
    "                      'hotel_longitude', 'review_count']].copy()"
   ]
  },
  {
   "cell_type": "code",
   "execution_count": 67,
   "metadata": {
    "collapsed": true
   },
   "outputs": [],
   "source": [
    "bigdf_hotels['hotel_id'] = 0\n",
    "bigdf_hotels['hotel_latitude'] = 0.\n",
    "bigdf_hotels['hotel_longitude'] = 0.\n"
   ]
  },
  {
   "cell_type": "code",
   "execution_count": 68,
   "metadata": {
    "collapsed": false,
    "scrolled": true
   },
   "outputs": [],
   "source": [
    "bigdf_hotels.to_sql('bf_hotels', engine, if_exists='append', index=False)"
   ]
  },
  {
   "cell_type": "code",
   "execution_count": null,
   "metadata": {
    "collapsed": true
   },
   "outputs": [],
   "source": []
  }
 ],
 "metadata": {
  "kernelspec": {
   "display_name": "Python 2",
   "language": "python",
   "name": "python2"
  },
  "language_info": {
   "codemirror_mode": {
    "name": "ipython",
    "version": 2
   },
   "file_extension": ".py",
   "mimetype": "text/x-python",
   "name": "python",
   "nbconvert_exporter": "python",
   "pygments_lexer": "ipython2",
   "version": "2.7.10"
  }
 },
 "nbformat": 4,
 "nbformat_minor": 0
}
