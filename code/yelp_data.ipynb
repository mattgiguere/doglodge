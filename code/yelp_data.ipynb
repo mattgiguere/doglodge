{
 "cells": [
  {
   "cell_type": "code",
   "execution_count": 4,
   "metadata": {
    "collapsed": false
   },
   "outputs": [],
   "source": [
    "import jq\n",
    "import json"
   ]
  },
  {
   "cell_type": "code",
   "execution_count": 14,
   "metadata": {
    "collapsed": false
   },
   "outputs": [],
   "source": [
    "data = []\n",
    "with open('../data/yelp_academic_dataset_business.json') as the_dat:\n",
    "    for line in the_dat:\n",
    "        data.append(json.loads(line))"
   ]
  },
  {
   "cell_type": "code",
   "execution_count": 18,
   "metadata": {
    "collapsed": false
   },
   "outputs": [
    {
     "data": {
      "text/plain": [
       "{u'attributes': {u'By Appointment Only': True},\n",
       " u'business_id': u'vcNAWiLM4dR7D2nwwJ7nCA',\n",
       " u'categories': [u'Doctors', u'Health & Medical'],\n",
       " u'city': u'Phoenix',\n",
       " u'full_address': u'4840 E Indian School Rd\\nSte 101\\nPhoenix, AZ 85018',\n",
       " u'hours': {u'Friday': {u'close': u'17:00', u'open': u'08:00'},\n",
       "  u'Monday': {u'close': u'17:00', u'open': u'08:00'},\n",
       "  u'Thursday': {u'close': u'17:00', u'open': u'08:00'},\n",
       "  u'Tuesday': {u'close': u'17:00', u'open': u'08:00'},\n",
       "  u'Wednesday': {u'close': u'17:00', u'open': u'08:00'}},\n",
       " u'latitude': 33.499313,\n",
       " u'longitude': -111.983758,\n",
       " u'name': u'Eric Goldberg, MD',\n",
       " u'neighborhoods': [],\n",
       " u'open': True,\n",
       " u'review_count': 9,\n",
       " u'stars': 3.5,\n",
       " u'state': u'AZ',\n",
       " u'type': u'business'}"
      ]
     },
     "execution_count": 18,
     "metadata": {},
     "output_type": "execute_result"
    }
   ],
   "source": [
    "data[0]"
   ]
  },
  {
   "cell_type": "code",
   "execution_count": null,
   "metadata": {
    "collapsed": true
   },
   "outputs": [],
   "source": []
  }
 ],
 "metadata": {
  "kernelspec": {
   "display_name": "Python 2",
   "language": "python",
   "name": "python2"
  },
  "language_info": {
   "codemirror_mode": {
    "name": "ipython",
    "version": 2
   },
   "file_extension": ".py",
   "mimetype": "text/x-python",
   "name": "python",
   "nbconvert_exporter": "python",
   "pygments_lexer": "ipython2",
   "version": "2.7.10"
  }
 },
 "nbformat": 4,
 "nbformat_minor": 0
}
