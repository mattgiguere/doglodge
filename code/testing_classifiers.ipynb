{
 "cells": [
  {
   "cell_type": "markdown",
   "metadata": {},
   "source": [
    "# testing_classifiers"
   ]
  },
  {
   "cell_type": "code",
   "execution_count": 1,
   "metadata": {
    "collapsed": true
   },
   "outputs": [],
   "source": [
    "import numpy as np\n",
    "from time import time\n",
    "import matplotlib.pyplot as plt\n",
    "\n",
    "from sklearn.datasets import fetch_20newsgroups\n",
    "from sklearn.feature_extraction.text import TfidfVectorizer\n",
    "from sklearn.feature_extraction.text import HashingVectorizer\n",
    "from sklearn.feature_selection import SelectKBest, chi2\n",
    "from sklearn.linear_model import RidgeClassifier\n",
    "from sklearn.svm import LinearSVC\n",
    "from sklearn.linear_model import SGDClassifier\n",
    "from sklearn.linear_model import Perceptron\n",
    "from sklearn.linear_model import PassiveAggressiveClassifier\n",
    "from sklearn.naive_bayes import BernoulliNB, MultinomialNB\n",
    "from sklearn.neighbors import KNeighborsClassifier\n",
    "from sklearn.neighbors import NearestCentroid\n",
    "from sklearn.ensemble import RandomForestClassifier\n",
    "from sklearn.utils.extmath import density\n",
    "from sklearn import metrics\n",
    "\n",
    "import pandas as pd\n",
    "import connect_aws_db as cadb\n"
   ]
  },
  {
   "cell_type": "code",
   "execution_count": 2,
   "metadata": {
    "collapsed": true
   },
   "outputs": [],
   "source": [
    "%matplotlib inline"
   ]
  },
  {
   "cell_type": "code",
   "execution_count": 3,
   "metadata": {
    "collapsed": true
   },
   "outputs": [],
   "source": [
    "engine = cadb.connect_aws_db(write_unicode=True)"
   ]
  },
  {
   "cell_type": "code",
   "execution_count": 4,
   "metadata": {
    "collapsed": true
   },
   "outputs": [],
   "source": [
    "categories = ['dogs', 'general']"
   ]
  },
  {
   "cell_type": "markdown",
   "metadata": {},
   "source": [
    "### Restore BF Reviews and Ratings"
   ]
  },
  {
   "cell_type": "code",
   "execution_count": 5,
   "metadata": {
    "collapsed": true
   },
   "outputs": [],
   "source": [
    "cmd = \"SELECT review_rating, review_text FROM bf_reviews\""
   ]
  },
  {
   "cell_type": "code",
   "execution_count": 6,
   "metadata": {
    "collapsed": true
   },
   "outputs": [],
   "source": [
    "bfdf = pd.read_sql_query(cmd, engine)"
   ]
  },
  {
   "cell_type": "code",
   "execution_count": 7,
   "metadata": {
    "collapsed": false
   },
   "outputs": [
    {
     "name": "stdout",
     "output_type": "stream",
     "text": [
      "3150\n"
     ]
    },
    {
     "data": {
      "text/html": [
       "<div>\n",
       "<table border=\"1\" class=\"dataframe\">\n",
       "  <thead>\n",
       "    <tr style=\"text-align: right;\">\n",
       "      <th></th>\n",
       "      <th>review_rating</th>\n",
       "      <th>review_text</th>\n",
       "    </tr>\n",
       "  </thead>\n",
       "  <tbody>\n",
       "    <tr>\n",
       "      <th>0</th>\n",
       "      <td>2</td>\n",
       "      <td>When you first go to your room you notice the ...</td>\n",
       "    </tr>\n",
       "    <tr>\n",
       "      <th>1</th>\n",
       "      <td>2</td>\n",
       "      <td>We were going to the Pre-Westminster event tha...</td>\n",
       "    </tr>\n",
       "    <tr>\n",
       "      <th>2</th>\n",
       "      <td>2</td>\n",
       "      <td>While the room was not the fanciest that one c...</td>\n",
       "    </tr>\n",
       "    <tr>\n",
       "      <th>3</th>\n",
       "      <td>1</td>\n",
       "      <td>I stayed at the Hotel Penn in Manhattan becaus...</td>\n",
       "    </tr>\n",
       "    <tr>\n",
       "      <th>4</th>\n",
       "      <td>5</td>\n",
       "      <td>We loved this hotel! The are very friendly and...</td>\n",
       "    </tr>\n",
       "  </tbody>\n",
       "</table>\n",
       "</div>"
      ],
      "text/plain": [
       "   review_rating                                        review_text\n",
       "0              2  When you first go to your room you notice the ...\n",
       "1              2  We were going to the Pre-Westminster event tha...\n",
       "2              2  While the room was not the fanciest that one c...\n",
       "3              1  I stayed at the Hotel Penn in Manhattan becaus...\n",
       "4              5  We loved this hotel! The are very friendly and..."
      ]
     },
     "execution_count": 7,
     "metadata": {},
     "output_type": "execute_result"
    }
   ],
   "source": [
    "print(len(bfdf))\n",
    "bfdf.head(5)"
   ]
  },
  {
   "cell_type": "code",
   "execution_count": 49,
   "metadata": {
    "collapsed": false
   },
   "outputs": [
    {
     "data": {
      "text/plain": [
       "1508"
      ]
     },
     "execution_count": 49,
     "metadata": {},
     "output_type": "execute_result"
    }
   ],
   "source": [
    "len(bfdf[bfdf['review_text'].str.len() > 300])"
   ]
  },
  {
   "cell_type": "code",
   "execution_count": 50,
   "metadata": {
    "collapsed": true
   },
   "outputs": [],
   "source": [
    "lbfdf = bfdf[bfdf['review_text'].str.len() > 300].copy()"
   ]
  },
  {
   "cell_type": "markdown",
   "metadata": {},
   "source": [
    "### Restore Yelp Reviews and Ratings"
   ]
  },
  {
   "cell_type": "code",
   "execution_count": 8,
   "metadata": {
    "collapsed": true
   },
   "outputs": [],
   "source": [
    "cmd = \"SELECT review_rating, review_text FROM yelp_reviews\""
   ]
  },
  {
   "cell_type": "code",
   "execution_count": 9,
   "metadata": {
    "collapsed": true
   },
   "outputs": [],
   "source": [
    "yelpdf = pd.read_sql_query(cmd, engine)"
   ]
  },
  {
   "cell_type": "code",
   "execution_count": 10,
   "metadata": {
    "collapsed": false
   },
   "outputs": [
    {
     "name": "stdout",
     "output_type": "stream",
     "text": [
      "6263\n"
     ]
    },
    {
     "data": {
      "text/html": [
       "<div>\n",
       "<table border=\"1\" class=\"dataframe\">\n",
       "  <thead>\n",
       "    <tr style=\"text-align: right;\">\n",
       "      <th></th>\n",
       "      <th>review_rating</th>\n",
       "      <th>review_text</th>\n",
       "    </tr>\n",
       "  </thead>\n",
       "  <tbody>\n",
       "    <tr>\n",
       "      <th>0</th>\n",
       "      <td>4</td>\n",
       "      <td>I stayed at the hotel for several months durin...</td>\n",
       "    </tr>\n",
       "    <tr>\n",
       "      <th>1</th>\n",
       "      <td>5</td>\n",
       "      <td>I have been coming to Pittsburgh for quite a w...</td>\n",
       "    </tr>\n",
       "    <tr>\n",
       "      <th>2</th>\n",
       "      <td>4</td>\n",
       "      <td>This is a very good hotel and with a corporate...</td>\n",
       "    </tr>\n",
       "    <tr>\n",
       "      <th>3</th>\n",
       "      <td>4</td>\n",
       "      <td>i got upgraded to a junior suite, and then aga...</td>\n",
       "    </tr>\n",
       "    <tr>\n",
       "      <th>4</th>\n",
       "      <td>5</td>\n",
       "      <td>This is a fantastic hotel.  I went to a conven...</td>\n",
       "    </tr>\n",
       "  </tbody>\n",
       "</table>\n",
       "</div>"
      ],
      "text/plain": [
       "   review_rating                                        review_text\n",
       "0              4  I stayed at the hotel for several months durin...\n",
       "1              5  I have been coming to Pittsburgh for quite a w...\n",
       "2              4  This is a very good hotel and with a corporate...\n",
       "3              4  i got upgraded to a junior suite, and then aga...\n",
       "4              5  This is a fantastic hotel.  I went to a conven..."
      ]
     },
     "execution_count": 10,
     "metadata": {},
     "output_type": "execute_result"
    }
   ],
   "source": [
    "print(len(yelpdf))\n",
    "yelpdf.head(5)"
   ]
  },
  {
   "cell_type": "code",
   "execution_count": 51,
   "metadata": {
    "collapsed": false
   },
   "outputs": [
    {
     "data": {
      "text/plain": [
       "5114"
      ]
     },
     "execution_count": 51,
     "metadata": {},
     "output_type": "execute_result"
    }
   ],
   "source": [
    "len(yelpdf[yelpdf['review_text'].str.len() > 300])"
   ]
  },
  {
   "cell_type": "code",
   "execution_count": 52,
   "metadata": {
    "collapsed": true
   },
   "outputs": [],
   "source": [
    "lydf = yelpdf[yelpdf['review_text'].str.len() > 300].copy()"
   ]
  },
  {
   "cell_type": "markdown",
   "metadata": {},
   "source": [
    "### Create a training and test data sets"
   ]
  },
  {
   "cell_type": "code",
   "execution_count": 53,
   "metadata": {
    "collapsed": false
   },
   "outputs": [],
   "source": [
    "train_data = np.hstack((lbfdf['review_text'].values[:1500],\n",
    "                        lydf['review_text'].values[:1500]))"
   ]
  },
  {
   "cell_type": "code",
   "execution_count": 54,
   "metadata": {
    "collapsed": false
   },
   "outputs": [
    {
     "data": {
      "text/plain": [
       "3000"
      ]
     },
     "execution_count": 54,
     "metadata": {},
     "output_type": "execute_result"
    }
   ],
   "source": [
    "len(train_data)"
   ]
  },
  {
   "cell_type": "code",
   "execution_count": 55,
   "metadata": {
    "collapsed": false
   },
   "outputs": [],
   "source": [
    "labels = ['dog'] * 1500\n",
    "labels.extend(['general'] * 1500)"
   ]
  },
  {
   "cell_type": "code",
   "execution_count": 56,
   "metadata": {
    "collapsed": false
   },
   "outputs": [
    {
     "data": {
      "text/plain": [
       "3000"
      ]
     },
     "execution_count": 56,
     "metadata": {},
     "output_type": "execute_result"
    }
   ],
   "source": [
    "len(labels)"
   ]
  },
  {
   "cell_type": "code",
   "execution_count": 57,
   "metadata": {
    "collapsed": true
   },
   "outputs": [],
   "source": [
    "y_train = labels"
   ]
  },
  {
   "cell_type": "code",
   "execution_count": 16,
   "metadata": {
    "collapsed": true
   },
   "outputs": [],
   "source": [
    "test_data = np.hstack((bfdf['review_text'].values[1000:2000],\n",
    "                       yelpdf['review_text'].values[1000:2000]))"
   ]
  },
  {
   "cell_type": "code",
   "execution_count": 17,
   "metadata": {
    "collapsed": false
   },
   "outputs": [
    {
     "data": {
      "text/plain": [
       "2000"
      ]
     },
     "execution_count": 17,
     "metadata": {},
     "output_type": "execute_result"
    }
   ],
   "source": [
    "len(test_data)"
   ]
  },
  {
   "cell_type": "code",
   "execution_count": 18,
   "metadata": {
    "collapsed": true
   },
   "outputs": [],
   "source": [
    "labels = ['dog'] * 1000\n",
    "labels.extend(['general'] * 1000)"
   ]
  },
  {
   "cell_type": "code",
   "execution_count": 19,
   "metadata": {
    "collapsed": true
   },
   "outputs": [],
   "source": [
    "y_test = labels"
   ]
  },
  {
   "cell_type": "code",
   "execution_count": 20,
   "metadata": {
    "collapsed": false
   },
   "outputs": [
    {
     "data": {
      "text/plain": [
       "2000"
      ]
     },
     "execution_count": 20,
     "metadata": {},
     "output_type": "execute_result"
    }
   ],
   "source": [
    "len(y_test)"
   ]
  },
  {
   "cell_type": "code",
   "execution_count": 21,
   "metadata": {
    "collapsed": false
   },
   "outputs": [
    {
     "name": "stdout",
     "output_type": "stream",
     "text": [
      "vectorized in 0.26 seconds.\n"
     ]
    }
   ],
   "source": [
    "t0 = time()\n",
    "vectorizer = TfidfVectorizer(sublinear_tf=True, max_df=0.5,\n",
    "                             stop_words='english')\n",
    "X_train = vectorizer.fit_transform(train_data)\n",
    "duration = time() - t0\n",
    "print('vectorized in {:.2f} seconds.'.format(duration))"
   ]
  },
  {
   "cell_type": "code",
   "execution_count": 22,
   "metadata": {
    "collapsed": false
   },
   "outputs": [
    {
     "name": "stdout",
     "output_type": "stream",
     "text": [
      "transformed test data in 0.26 seconds.\n"
     ]
    }
   ],
   "source": [
    "t0 = time()\n",
    "X_test = vectorizer.transform(test_data)\n",
    "duration = time() - t0\n",
    "print('transformed test data in {:.2f} seconds.'.format(duration))"
   ]
  },
  {
   "cell_type": "code",
   "execution_count": 23,
   "metadata": {
    "collapsed": true
   },
   "outputs": [],
   "source": [
    "feature_names = np.asarray(vectorizer.get_feature_names())"
   ]
  },
  {
   "cell_type": "markdown",
   "metadata": {},
   "source": [
    "### Try RidgeClassifier"
   ]
  },
  {
   "cell_type": "code",
   "execution_count": 24,
   "metadata": {
    "collapsed": true
   },
   "outputs": [],
   "source": [
    "clf = RidgeClassifier(tol=1e-2, solver=\"lsqr\")"
   ]
  },
  {
   "cell_type": "code",
   "execution_count": 25,
   "metadata": {
    "collapsed": false
   },
   "outputs": [
    {
     "name": "stdout",
     "output_type": "stream",
     "text": [
      "RidgeClassifier(alpha=1.0, class_weight=None, copy_X=True, fit_intercept=True,\n",
      "        max_iter=None, normalize=False, solver='lsqr', tol=0.01)\n"
     ]
    }
   ],
   "source": [
    "print(clf)"
   ]
  },
  {
   "cell_type": "code",
   "execution_count": 26,
   "metadata": {
    "collapsed": false
   },
   "outputs": [
    {
     "data": {
      "text/plain": [
       "RidgeClassifier(alpha=1.0, class_weight=None, copy_X=True, fit_intercept=True,\n",
       "        max_iter=None, normalize=False, solver='lsqr', tol=0.01)"
      ]
     },
     "execution_count": 26,
     "metadata": {},
     "output_type": "execute_result"
    }
   ],
   "source": [
    "clf.fit(X_train, y_train)"
   ]
  },
  {
   "cell_type": "code",
   "execution_count": 27,
   "metadata": {
    "collapsed": true
   },
   "outputs": [],
   "source": [
    "pred = clf.predict(X_test)"
   ]
  },
  {
   "cell_type": "code",
   "execution_count": 28,
   "metadata": {
    "collapsed": false
   },
   "outputs": [
    {
     "name": "stderr",
     "output_type": "stream",
     "text": [
      "/Applications/anaconda/lib/python2.7/site-packages/sklearn/metrics/classification.py:676: DeprecationWarning: The default `weighted` averaging is deprecated, and from version 0.18, use of precision, recall or F-score with multiclass or multilabel data or pos_label=None will result in an exception. Please set an explicit value for `average`, one of (None, 'micro', 'macro', 'weighted', 'samples'). In cross validation use, for instance, scoring=\"f1_weighted\" instead of scoring=\"f1\".\n",
      "  sample_weight=sample_weight)\n"
     ]
    }
   ],
   "source": [
    "score = metrics.f1_score(y_test, pred, labels=None, pos_label=None)\n",
    "acc = metrics.accuracy_score(y_test, pred, normalize=True)"
   ]
  },
  {
   "cell_type": "code",
   "execution_count": 29,
   "metadata": {
    "collapsed": false
   },
   "outputs": [
    {
     "data": {
      "text/plain": [
       "True"
      ]
     },
     "execution_count": 29,
     "metadata": {},
     "output_type": "execute_result"
    }
   ],
   "source": [
    "len(y_test) == len(pred)"
   ]
  },
  {
   "cell_type": "code",
   "execution_count": 30,
   "metadata": {
    "collapsed": false,
    "scrolled": true
   },
   "outputs": [],
   "source": [
    "#help(metrics.f1_score)"
   ]
  },
  {
   "cell_type": "markdown",
   "metadata": {},
   "source": [
    "### Now benchmark multiple classifiers"
   ]
  },
  {
   "cell_type": "code",
   "execution_count": 24,
   "metadata": {
    "collapsed": false
   },
   "outputs": [],
   "source": [
    "def benchmark(clf, pos_label=None):\n",
    "    print('_' * 80)\n",
    "    print(\"Training: \")\n",
    "    print(clf)\n",
    "    t0 = time()\n",
    "    clf.fit(X_train, y_train)\n",
    "    train_time = time() - t0\n",
    "    print(\"train time: %0.3fs\" % train_time)\n",
    "\n",
    "    t0 = time()\n",
    "    pred = clf.predict(X_test)\n",
    "    test_time = time() - t0\n",
    "    print(\"test time:  %0.3fs\" % test_time)\n",
    "\n",
    "    score = metrics.f1_score(y_test, pred, pos_label=pos_label)\n",
    "    print(\"f1-score:   %0.3f\" % score)\n",
    "    \n",
    "    acc = metrics.accuracy_score(y_test, pred, normalize=True)\n",
    "    print('accuracy: {:.2f}'.format(acc))\n",
    "\n",
    "    if hasattr(clf, 'coef_'):\n",
    "        print(\"dimensionality: %d\" % clf.coef_.shape[1])\n",
    "        print(\"density: %f\" % density(clf.coef_))\n",
    "\n",
    "#         if opts.print_top10 and feature_names is not None:\n",
    "#             print(\"top 10 keywords per class:\")\n",
    "#             for i, category in enumerate(categories):\n",
    "#                 top10 = np.argsort(clf.coef_[i])[-10:]\n",
    "#                 print(trim(\"%s: %s\"\n",
    "#                       % (category, \" \".join(feature_names[top10]))))\n",
    "        print()\n",
    "\n",
    "#     if opts.print_report:\n",
    "#         print(\"classification report:\")\n",
    "#         print(metrics.classification_report(y_test, pred,\n",
    "#                                             target_names=categories))\n",
    "\n",
    "#     if opts.print_cm:\n",
    "#         print(\"confusion matrix:\")\n",
    "#         print(metrics.confusion_matrix(y_test, pred))\n",
    "\n",
    "    print()\n",
    "    clf_descr = str(clf).split('(')[0]\n",
    "    return clf_descr, score, acc, train_time, test_time"
   ]
  },
  {
   "cell_type": "code",
   "execution_count": 25,
   "metadata": {
    "collapsed": false
   },
   "outputs": [
    {
     "name": "stdout",
     "output_type": "stream",
     "text": [
      "================================================================================\n",
      "Ridge Classifier\n",
      "________________________________________________________________________________\n",
      "Training: \n",
      "RidgeClassifier(alpha=1.0, class_weight=None, copy_X=True, fit_intercept=True,\n",
      "        max_iter=None, normalize=False, solver='lsqr', tol=0.01)\n",
      "train time: 0.009s\n",
      "test time:  0.000s\n",
      "f1-score:   0.902\n",
      "accuracy: 0.90\n",
      "dimensionality: 10427\n",
      "density: 1.000000\n",
      "()\n",
      "()\n",
      "================================================================================\n",
      "Perceptron\n",
      "________________________________________________________________________________\n",
      "Training: \n",
      "Perceptron(alpha=0.0001, class_weight=None, eta0=1.0, fit_intercept=True,\n",
      "      n_iter=50, n_jobs=1, penalty=None, random_state=0, shuffle=True,\n",
      "      verbose=0, warm_start=False)\n",
      "train time: 0.014s\n",
      "test time:  0.000s\n",
      "f1-score:   0.869\n",
      "accuracy: 0.87\n",
      "dimensionality: 10427\n",
      "density: 0.409514\n",
      "()\n",
      "()\n",
      "================================================================================\n",
      "Passive-Aggressive\n",
      "________________________________________________________________________________\n",
      "Training: \n",
      "PassiveAggressiveClassifier(C=1.0, fit_intercept=True, loss='hinge',\n",
      "              n_iter=50, n_jobs=1, random_state=None, shuffle=True,\n",
      "              verbose=0, warm_start=False)\n",
      "train time: 0.014s\n",
      "test time:  0.000s\n",
      "f1-score:   0.892\n",
      "accuracy: 0.89\n",
      "dimensionality: 10427\n",
      "density: 0.759854\n",
      "()\n",
      "()\n",
      "================================================================================\n",
      "kNN\n",
      "________________________________________________________________________________\n",
      "Training: \n",
      "KNeighborsClassifier(algorithm='auto', leaf_size=30, metric='minkowski',\n",
      "           metric_params=None, n_neighbors=10, p=2, weights='uniform')\n",
      "train time: 0.001s\n",
      "test time:  0.264s"
     ]
    },
    {
     "name": "stderr",
     "output_type": "stream",
     "text": [
      "/Applications/anaconda/lib/python2.7/site-packages/sklearn/metrics/classification.py:676: DeprecationWarning: The default `weighted` averaging is deprecated, and from version 0.18, use of precision, recall or F-score with multiclass or multilabel data or pos_label=None will result in an exception. Please set an explicit value for `average`, one of (None, 'micro', 'macro', 'weighted', 'samples'). In cross validation use, for instance, scoring=\"f1_weighted\" instead of scoring=\"f1\".\n",
      "  sample_weight=sample_weight)\n",
      "/Applications/anaconda/lib/python2.7/site-packages/sklearn/metrics/classification.py:676: DeprecationWarning: The default `weighted` averaging is deprecated, and from version 0.18, use of precision, recall or F-score with multiclass or multilabel data or pos_label=None will result in an exception. Please set an explicit value for `average`, one of (None, 'micro', 'macro', 'weighted', 'samples'). In cross validation use, for instance, scoring=\"f1_weighted\" instead of scoring=\"f1\".\n",
      "  sample_weight=sample_weight)\n",
      "/Applications/anaconda/lib/python2.7/site-packages/sklearn/metrics/classification.py:676: DeprecationWarning: The default `weighted` averaging is deprecated, and from version 0.18, use of precision, recall or F-score with multiclass or multilabel data or pos_label=None will result in an exception. Please set an explicit value for `average`, one of (None, 'micro', 'macro', 'weighted', 'samples'). In cross validation use, for instance, scoring=\"f1_weighted\" instead of scoring=\"f1\".\n",
      "  sample_weight=sample_weight)\n",
      "/Applications/anaconda/lib/python2.7/site-packages/sklearn/metrics/classification.py:676: DeprecationWarning: The default `weighted` averaging is deprecated, and from version 0.18, use of precision, recall or F-score with multiclass or multilabel data or pos_label=None will result in an exception. Please set an explicit value for `average`, one of (None, 'micro', 'macro', 'weighted', 'samples'). In cross validation use, for instance, scoring=\"f1_weighted\" instead of scoring=\"f1\".\n",
      "  sample_weight=sample_weight)\n"
     ]
    },
    {
     "name": "stdout",
     "output_type": "stream",
     "text": [
      "\n",
      "f1-score:   0.817\n",
      "accuracy: 0.82\n",
      "()\n",
      "================================================================================\n",
      "RandomForest\n",
      "________________________________________________________________________________\n",
      "Training: \n",
      "RandomForestClassifier(bootstrap=True, class_weight=None, criterion='gini',\n",
      "            max_depth=None, max_features='auto', max_leaf_nodes=None,\n",
      "            min_samples_leaf=1, min_samples_split=2,\n",
      "            min_weight_fraction_leaf=0.0, n_estimators=10, n_jobs=1,\n",
      "            oob_score=False, random_state=None, verbose=0,\n",
      "            warm_start=False)\n",
      "train time: 0.144s\n",
      "test time:  0.007s\n",
      "f1-score:   0.838\n",
      "accuracy: 0.84\n",
      "()\n"
     ]
    },
    {
     "name": "stderr",
     "output_type": "stream",
     "text": [
      "/Applications/anaconda/lib/python2.7/site-packages/sklearn/metrics/classification.py:676: DeprecationWarning: The default `weighted` averaging is deprecated, and from version 0.18, use of precision, recall or F-score with multiclass or multilabel data or pos_label=None will result in an exception. Please set an explicit value for `average`, one of (None, 'micro', 'macro', 'weighted', 'samples'). In cross validation use, for instance, scoring=\"f1_weighted\" instead of scoring=\"f1\".\n",
      "  sample_weight=sample_weight)\n"
     ]
    }
   ],
   "source": [
    "results = []\n",
    "for clf, name in (\n",
    "        (RidgeClassifier(tol=1e-2, solver=\"lsqr\"), \"Ridge Classifier\"),\n",
    "        (Perceptron(n_iter=50), \"Perceptron\"),\n",
    "        (PassiveAggressiveClassifier(n_iter=50), \"Passive-Aggressive\"),\n",
    "        (KNeighborsClassifier(n_neighbors=10), \"kNN\"),\n",
    "        (RandomForestClassifier(n_estimators=10), 'RandomForest')):\n",
    "    print('=' * 80)\n",
    "    print(name)\n",
    "    results.append(benchmark(clf))"
   ]
  },
  {
   "cell_type": "code",
   "execution_count": 26,
   "metadata": {
    "collapsed": false
   },
   "outputs": [
    {
     "data": {
      "text/plain": [
       "[('RidgeClassifier',\n",
       "  0.90195254503179545,\n",
       "  0.90200000000000002,\n",
       "  0.009006023406982422,\n",
       "  0.0003311634063720703),\n",
       " ('Perceptron',\n",
       "  0.86942162032760162,\n",
       "  0.86950000000000005,\n",
       "  0.013931989669799805,\n",
       "  0.00035691261291503906),\n",
       " ('PassiveAggressiveClassifier',\n",
       "  0.8924954579330977,\n",
       "  0.89249999999999996,\n",
       "  0.014268159866333008,\n",
       "  0.00032591819763183594),\n",
       " ('KNeighborsClassifier',\n",
       "  0.81698944579663246,\n",
       "  0.82050000000000001,\n",
       "  0.001219034194946289,\n",
       "  0.2643139362335205),\n",
       " ('RandomForestClassifier',\n",
       "  0.83817460959624568,\n",
       "  0.83950000000000002,\n",
       "  0.14387106895446777,\n",
       "  0.007224082946777344)]"
      ]
     },
     "execution_count": 26,
     "metadata": {},
     "output_type": "execute_result"
    }
   ],
   "source": [
    "results"
   ]
  },
  {
   "cell_type": "code",
   "execution_count": 27,
   "metadata": {
    "collapsed": false
   },
   "outputs": [
    {
     "name": "stdout",
     "output_type": "stream",
     "text": [
      "================================================================================\n",
      "L2 penalty\n",
      "________________________________________________________________________________\n",
      "Training: \n",
      "LinearSVC(C=1.0, class_weight=None, dual=False, fit_intercept=True,\n",
      "     intercept_scaling=1, loss='l2', max_iter=1000, multi_class='ovr',\n",
      "     penalty='l2', random_state=None, tol=0.001, verbose=0)\n",
      "train time: 0.015s\n",
      "test time:  0.000s\n",
      "f1-score:   0.903\n",
      "accuracy: 0.90\n",
      "dimensionality: 10427\n",
      "density: 1.000000\n",
      "()\n",
      "()\n",
      "________________________________________________________________________________\n",
      "Training: \n",
      "SGDClassifier(alpha=0.0001, average=False, class_weight=None, epsilon=0.1,\n",
      "       eta0=0.0, fit_intercept=True, l1_ratio=0.15,\n",
      "       learning_rate='optimal', loss='hinge', n_iter=50, n_jobs=1,\n",
      "       penalty='l2', power_t=0.5, random_state=None, shuffle=True,\n",
      "       verbose=0, warm_start=False)\n",
      "train time: 0.012s\n",
      "test time:  0.000s\n",
      "f1-score:   0.885\n",
      "accuracy: 0.89\n",
      "dimensionality: 10427\n",
      "density: 0.679198\n",
      "()\n",
      "()\n",
      "================================================================================\n",
      "L1 penalty\n",
      "________________________________________________________________________________\n",
      "Training: \n",
      "LinearSVC(C=1.0, class_weight=None, dual=False, fit_intercept=True,\n",
      "     intercept_scaling=1, loss='l2', max_iter=1000, multi_class='ovr',\n",
      "     penalty='l1', random_state=None, tol=0.001, verbose=0)\n",
      "train time: 0.040s"
     ]
    },
    {
     "name": "stderr",
     "output_type": "stream",
     "text": [
      "/Applications/anaconda/lib/python2.7/site-packages/sklearn/svm/classes.py:192: DeprecationWarning: loss='l2' has been deprecated in favor of loss='squared_hinge' as of 0.16. Backward compatibility for the loss='l2' will be removed in 1.0\n",
      "  DeprecationWarning)\n",
      "/Applications/anaconda/lib/python2.7/site-packages/sklearn/metrics/classification.py:676: DeprecationWarning: The default `weighted` averaging is deprecated, and from version 0.18, use of precision, recall or F-score with multiclass or multilabel data or pos_label=None will result in an exception. Please set an explicit value for `average`, one of (None, 'micro', 'macro', 'weighted', 'samples'). In cross validation use, for instance, scoring=\"f1_weighted\" instead of scoring=\"f1\".\n",
      "  sample_weight=sample_weight)\n",
      "/Applications/anaconda/lib/python2.7/site-packages/sklearn/metrics/classification.py:676: DeprecationWarning: The default `weighted` averaging is deprecated, and from version 0.18, use of precision, recall or F-score with multiclass or multilabel data or pos_label=None will result in an exception. Please set an explicit value for `average`, one of (None, 'micro', 'macro', 'weighted', 'samples'). In cross validation use, for instance, scoring=\"f1_weighted\" instead of scoring=\"f1\".\n",
      "  sample_weight=sample_weight)\n",
      "/Applications/anaconda/lib/python2.7/site-packages/sklearn/svm/classes.py:192: DeprecationWarning: loss='l2' has been deprecated in favor of loss='squared_hinge' as of 0.16. Backward compatibility for the loss='l2' will be removed in 1.0\n",
      "  DeprecationWarning)\n",
      "/Applications/anaconda/lib/python2.7/site-packages/sklearn/metrics/classification.py:676: DeprecationWarning: The default `weighted` averaging is deprecated, and from version 0.18, use of precision, recall or F-score with multiclass or multilabel data or pos_label=None will result in an exception. Please set an explicit value for `average`, one of (None, 'micro', 'macro', 'weighted', 'samples'). In cross validation use, for instance, scoring=\"f1_weighted\" instead of scoring=\"f1\".\n",
      "  sample_weight=sample_weight)\n"
     ]
    },
    {
     "name": "stdout",
     "output_type": "stream",
     "text": [
      "\n",
      "test time:  0.001s\n",
      "f1-score:   0.896\n",
      "accuracy: 0.90\n",
      "dimensionality: 10427\n",
      "density: 0.033087\n",
      "()\n",
      "()\n",
      "________________________________________________________________________________\n",
      "Training: \n",
      "SGDClassifier(alpha=0.0001, average=False, class_weight=None, epsilon=0.1,\n",
      "       eta0=0.0, fit_intercept=True, l1_ratio=0.15,\n",
      "       learning_rate='optimal', loss='hinge', n_iter=50, n_jobs=1,\n",
      "       penalty='l1', power_t=0.5, random_state=None, shuffle=True,\n",
      "       verbose=0, warm_start=False)\n",
      "train time: 0.060s\n",
      "test time:  0.001s\n",
      "f1-score:   0.883\n",
      "accuracy: 0.88\n",
      "dimensionality: 10427\n",
      "density: 0.082095\n",
      "()\n",
      "()\n"
     ]
    },
    {
     "name": "stderr",
     "output_type": "stream",
     "text": [
      "/Applications/anaconda/lib/python2.7/site-packages/sklearn/metrics/classification.py:676: DeprecationWarning: The default `weighted` averaging is deprecated, and from version 0.18, use of precision, recall or F-score with multiclass or multilabel data or pos_label=None will result in an exception. Please set an explicit value for `average`, one of (None, 'micro', 'macro', 'weighted', 'samples'). In cross validation use, for instance, scoring=\"f1_weighted\" instead of scoring=\"f1\".\n",
      "  sample_weight=sample_weight)\n"
     ]
    }
   ],
   "source": [
    "for penalty in [\"l2\", \"l1\"]:\n",
    "    print('=' * 80)\n",
    "    print(\"%s penalty\" % penalty.upper())\n",
    "    # Train Liblinear model\n",
    "    results.append(benchmark(LinearSVC(loss='l2', penalty=penalty,\n",
    "                                            dual=False, tol=1e-3)))\n",
    "\n",
    "    # Train SGD model\n",
    "    results.append(benchmark(SGDClassifier(alpha=.0001, n_iter=50,\n",
    "                                           penalty=penalty)))\n",
    "\n"
   ]
  },
  {
   "cell_type": "code",
   "execution_count": 28,
   "metadata": {
    "collapsed": false
   },
   "outputs": [
    {
     "data": {
      "text/plain": [
       "[('RidgeClassifier',\n",
       "  0.90195254503179545,\n",
       "  0.90200000000000002,\n",
       "  0.009006023406982422,\n",
       "  0.0003311634063720703),\n",
       " ('Perceptron',\n",
       "  0.86942162032760162,\n",
       "  0.86950000000000005,\n",
       "  0.013931989669799805,\n",
       "  0.00035691261291503906),\n",
       " ('PassiveAggressiveClassifier',\n",
       "  0.8924954579330977,\n",
       "  0.89249999999999996,\n",
       "  0.014268159866333008,\n",
       "  0.00032591819763183594),\n",
       " ('KNeighborsClassifier',\n",
       "  0.81698944579663246,\n",
       "  0.82050000000000001,\n",
       "  0.001219034194946289,\n",
       "  0.2643139362335205),\n",
       " ('RandomForestClassifier',\n",
       "  0.83817460959624568,\n",
       "  0.83950000000000002,\n",
       "  0.14387106895446777,\n",
       "  0.007224082946777344),\n",
       " ('LinearSVC',\n",
       "  0.90349457156965074,\n",
       "  0.90349999999999997,\n",
       "  0.01466512680053711,\n",
       "  0.0004119873046875),\n",
       " ('SGDClassifier',\n",
       "  0.88549768132804685,\n",
       "  0.88549999999999995,\n",
       "  0.012157917022705078,\n",
       "  0.0003330707550048828),\n",
       " ('LinearSVC',\n",
       "  0.89647181445148449,\n",
       "  0.89649999999999996,\n",
       "  0.04021906852722168,\n",
       "  0.0008289813995361328),\n",
       " ('SGDClassifier',\n",
       "  0.88299953199812786,\n",
       "  0.88300000000000001,\n",
       "  0.060324907302856445,\n",
       "  0.0009710788726806641)]"
      ]
     },
     "execution_count": 28,
     "metadata": {},
     "output_type": "execute_result"
    }
   ],
   "source": [
    "results"
   ]
  },
  {
   "cell_type": "code",
   "execution_count": 29,
   "metadata": {
    "collapsed": false
   },
   "outputs": [
    {
     "name": "stdout",
     "output_type": "stream",
     "text": [
      "================================================================================\n",
      "Elastic-Net penalty\n",
      "________________________________________________________________________________\n",
      "Training: \n",
      "SGDClassifier(alpha=0.0001, average=False, class_weight=None, epsilon=0.1,\n",
      "       eta0=0.0, fit_intercept=True, l1_ratio=0.15,\n",
      "       learning_rate='optimal', loss='hinge', n_iter=50, n_jobs=1,\n",
      "       penalty='elasticnet', power_t=0.5, random_state=None, shuffle=True,\n",
      "       verbose=0, warm_start=False)\n",
      "train time: 0.052s\n",
      "test time:  0.000s\n",
      "f1-score:   0.884\n",
      "accuracy: 0.88\n",
      "dimensionality: 10427\n",
      "density: 0.392347\n",
      "()\n",
      "()\n",
      "================================================================================\n",
      "NearestCentroid (aka Rocchio classifier)\n",
      "________________________________________________________________________________\n",
      "Training: \n",
      "NearestCentroid(metric='euclidean', shrink_threshold=None)\n",
      "train time: 0.006s\n",
      "test time:  0.005s\n",
      "f1-score:   0.906\n",
      "accuracy: 0.91\n",
      "()\n",
      "================================================================================\n",
      "Naive Bayes\n",
      "________________________________________________________________________________\n",
      "Training: \n",
      "MultinomialNB(alpha=0.01, class_prior=None, fit_prior=True)\n",
      "train time: 0.006s\n",
      "test time:  0.001s\n",
      "f1-score:   0.875\n",
      "accuracy: 0.88\n",
      "dimensionality: 10427\n",
      "density: 1.000000\n",
      "()\n",
      "()\n",
      "________________________________________________________________________________\n",
      "Training: \n",
      "BernoulliNB(alpha=0.01, binarize=0.0, class_prior=None, fit_prior=True)\n",
      "train time: 0.005s"
     ]
    },
    {
     "name": "stderr",
     "output_type": "stream",
     "text": [
      "/Applications/anaconda/lib/python2.7/site-packages/sklearn/metrics/classification.py:676: DeprecationWarning: The default `weighted` averaging is deprecated, and from version 0.18, use of precision, recall or F-score with multiclass or multilabel data or pos_label=None will result in an exception. Please set an explicit value for `average`, one of (None, 'micro', 'macro', 'weighted', 'samples'). In cross validation use, for instance, scoring=\"f1_weighted\" instead of scoring=\"f1\".\n",
      "  sample_weight=sample_weight)\n",
      "/Applications/anaconda/lib/python2.7/site-packages/sklearn/metrics/classification.py:676: DeprecationWarning: The default `weighted` averaging is deprecated, and from version 0.18, use of precision, recall or F-score with multiclass or multilabel data or pos_label=None will result in an exception. Please set an explicit value for `average`, one of (None, 'micro', 'macro', 'weighted', 'samples'). In cross validation use, for instance, scoring=\"f1_weighted\" instead of scoring=\"f1\".\n",
      "  sample_weight=sample_weight)\n",
      "/Applications/anaconda/lib/python2.7/site-packages/sklearn/metrics/classification.py:676: DeprecationWarning: The default `weighted` averaging is deprecated, and from version 0.18, use of precision, recall or F-score with multiclass or multilabel data or pos_label=None will result in an exception. Please set an explicit value for `average`, one of (None, 'micro', 'macro', 'weighted', 'samples'). In cross validation use, for instance, scoring=\"f1_weighted\" instead of scoring=\"f1\".\n",
      "  sample_weight=sample_weight)\n",
      "/Applications/anaconda/lib/python2.7/site-packages/sklearn/metrics/classification.py:676: DeprecationWarning: The default `weighted` averaging is deprecated, and from version 0.18, use of precision, recall or F-score with multiclass or multilabel data or pos_label=None will result in an exception. Please set an explicit value for `average`, one of (None, 'micro', 'macro', 'weighted', 'samples'). In cross validation use, for instance, scoring=\"f1_weighted\" instead of scoring=\"f1\".\n",
      "  sample_weight=sample_weight)\n"
     ]
    },
    {
     "name": "stdout",
     "output_type": "stream",
     "text": [
      "\n",
      "test time:  0.004s\n",
      "f1-score:   0.828\n",
      "accuracy: 0.83\n",
      "dimensionality: 10427\n",
      "density: 1.000000\n",
      "()\n",
      "()\n"
     ]
    }
   ],
   "source": [
    "# Train SGD with Elastic Net penalty\n",
    "print('=' * 80)\n",
    "print(\"Elastic-Net penalty\")\n",
    "results.append(benchmark(SGDClassifier(alpha=.0001, n_iter=50,\n",
    "                                       penalty=\"elasticnet\")))\n",
    "\n",
    "# Train NearestCentroid without threshold\n",
    "print('=' * 80)\n",
    "print(\"NearestCentroid (aka Rocchio classifier)\")\n",
    "results.append(benchmark(NearestCentroid()))\n",
    "\n",
    "# Train sparse Naive Bayes classifiers\n",
    "print('=' * 80)\n",
    "print(\"Naive Bayes\")\n",
    "results.append(benchmark(MultinomialNB(alpha=.01)))\n",
    "results.append(benchmark(BernoulliNB(alpha=.01)))\n"
   ]
  },
  {
   "cell_type": "code",
   "execution_count": 30,
   "metadata": {
    "collapsed": false
   },
   "outputs": [
    {
     "data": {
      "text/plain": [
       "[('RidgeClassifier',\n",
       "  0.90195254503179545,\n",
       "  0.90200000000000002,\n",
       "  0.009006023406982422,\n",
       "  0.0003311634063720703),\n",
       " ('Perceptron',\n",
       "  0.86942162032760162,\n",
       "  0.86950000000000005,\n",
       "  0.013931989669799805,\n",
       "  0.00035691261291503906),\n",
       " ('PassiveAggressiveClassifier',\n",
       "  0.8924954579330977,\n",
       "  0.89249999999999996,\n",
       "  0.014268159866333008,\n",
       "  0.00032591819763183594),\n",
       " ('KNeighborsClassifier',\n",
       "  0.81698944579663246,\n",
       "  0.82050000000000001,\n",
       "  0.001219034194946289,\n",
       "  0.2643139362335205),\n",
       " ('RandomForestClassifier',\n",
       "  0.83817460959624568,\n",
       "  0.83950000000000002,\n",
       "  0.14387106895446777,\n",
       "  0.007224082946777344),\n",
       " ('LinearSVC',\n",
       "  0.90349457156965074,\n",
       "  0.90349999999999997,\n",
       "  0.01466512680053711,\n",
       "  0.0004119873046875),\n",
       " ('SGDClassifier',\n",
       "  0.88549768132804685,\n",
       "  0.88549999999999995,\n",
       "  0.012157917022705078,\n",
       "  0.0003330707550048828),\n",
       " ('LinearSVC',\n",
       "  0.89647181445148449,\n",
       "  0.89649999999999996,\n",
       "  0.04021906852722168,\n",
       "  0.0008289813995361328),\n",
       " ('SGDClassifier',\n",
       "  0.88299953199812786,\n",
       "  0.88300000000000001,\n",
       "  0.060324907302856445,\n",
       "  0.0009710788726806641),\n",
       " ('SGDClassifier',\n",
       "  0.88400000000000001,\n",
       "  0.88400000000000001,\n",
       "  0.05207109451293945,\n",
       "  0.0003859996795654297),\n",
       " ('NearestCentroid',\n",
       "  0.90631447924752984,\n",
       "  0.90649999999999997,\n",
       "  0.005844831466674805,\n",
       "  0.004545927047729492),\n",
       " ('MultinomialNB',\n",
       "  0.87456335503889049,\n",
       "  0.875,\n",
       "  0.006041049957275391,\n",
       "  0.0008139610290527344),\n",
       " ('BernoulliNB',\n",
       "  0.8276035890714788,\n",
       "  0.82899999999999996,\n",
       "  0.0051670074462890625,\n",
       "  0.0039021968841552734)]"
      ]
     },
     "execution_count": 30,
     "metadata": {},
     "output_type": "execute_result"
    }
   ],
   "source": [
    "results"
   ]
  },
  {
   "cell_type": "code",
   "execution_count": 31,
   "metadata": {
    "collapsed": false
   },
   "outputs": [
    {
     "name": "stdout",
     "output_type": "stream",
     "text": [
      "================================================================================\n",
      "LinearSVC with L1-based feature selection\n",
      "________________________________________________________________________________\n",
      "Training: \n",
      "L1LinearSVC(C=1.0, class_weight=None, dual=True, fit_intercept=True,\n",
      "      intercept_scaling=1, loss='squared_hinge', max_iter=1000,\n",
      "      multi_class='ovr', penalty='l2', random_state=None, tol=0.0001,\n",
      "      verbose=0)\n",
      "train time: 0.030s\n",
      "test time:  0.003s\n",
      "f1-score:   0.898\n",
      "accuracy: 0.90\n",
      "dimensionality: 346\n",
      "density: 1.000000\n",
      "()\n",
      "()\n"
     ]
    },
    {
     "name": "stderr",
     "output_type": "stream",
     "text": [
      "/Applications/anaconda/lib/python2.7/site-packages/sklearn/metrics/classification.py:676: DeprecationWarning: The default `weighted` averaging is deprecated, and from version 0.18, use of precision, recall or F-score with multiclass or multilabel data or pos_label=None will result in an exception. Please set an explicit value for `average`, one of (None, 'micro', 'macro', 'weighted', 'samples'). In cross validation use, for instance, scoring=\"f1_weighted\" instead of scoring=\"f1\".\n",
      "  sample_weight=sample_weight)\n"
     ]
    }
   ],
   "source": [
    "class L1LinearSVC(LinearSVC):\n",
    "\n",
    "    def fit(self, X, y):\n",
    "        # The smaller C, the stronger the regularization.\n",
    "        # The more regularization, the more sparsity.\n",
    "        self.transformer_ = LinearSVC(penalty=\"l1\",\n",
    "                                      dual=False, tol=1e-3)\n",
    "        X = self.transformer_.fit_transform(X, y)\n",
    "        return LinearSVC.fit(self, X, y)\n",
    "\n",
    "    def predict(self, X):\n",
    "        X = self.transformer_.transform(X)\n",
    "        return LinearSVC.predict(self, X)\n",
    "\n",
    "print('=' * 80)\n",
    "print(\"LinearSVC with L1-based feature selection\")\n",
    "results.append(benchmark(L1LinearSVC()))\n"
   ]
  },
  {
   "cell_type": "markdown",
   "metadata": {},
   "source": [
    "### Plot Results"
   ]
  },
  {
   "cell_type": "code",
   "execution_count": 32,
   "metadata": {
    "collapsed": false
   },
   "outputs": [],
   "source": [
    "indices = np.arange(len(results))\n",
    "\n",
    "results = [[x[i] for x in results] for i in range(5)]"
   ]
  },
  {
   "cell_type": "code",
   "execution_count": 33,
   "metadata": {
    "collapsed": true
   },
   "outputs": [],
   "source": [
    "clf_names, score, acc, training_time, test_time = results\n",
    "training_time = np.array(training_time) / np.max(training_time)\n",
    "test_time = np.array(test_time) / np.max(test_time)"
   ]
  },
  {
   "cell_type": "code",
   "execution_count": 34,
   "metadata": {
    "collapsed": false
   },
   "outputs": [
    {
     "data": {
      "text/plain": [
       "['RidgeClassifier',\n",
       " 'Perceptron',\n",
       " 'PassiveAggressiveClassifier',\n",
       " 'KNeighborsClassifier',\n",
       " 'RandomForestClassifier',\n",
       " 'LinearSVC',\n",
       " 'SGDClassifier',\n",
       " 'LinearSVC',\n",
       " 'SGDClassifier',\n",
       " 'SGDClassifier',\n",
       " 'NearestCentroid',\n",
       " 'MultinomialNB',\n",
       " 'BernoulliNB',\n",
       " 'L1LinearSVC']"
      ]
     },
     "execution_count": 34,
     "metadata": {},
     "output_type": "execute_result"
    }
   ],
   "source": [
    "clf_names"
   ]
  },
  {
   "cell_type": "code",
   "execution_count": 35,
   "metadata": {
    "collapsed": false
   },
   "outputs": [
    {
     "name": "stdout",
     "output_type": "stream",
     "text": [
      "[ 0  1  2  3  4  5  6  7  8  9 10 11 12 13]\n"
     ]
    },
    {
     "name": "stderr",
     "output_type": "stream",
     "text": [
      "/Applications/anaconda/lib/python2.7/site-packages/matplotlib/font_manager.py:1282: UserWarning: findfont: Font family [u'normal'] not found. Falling back to Bitstream Vera Sans\n",
      "  (prop.get_family(), self.defaultFamily[fontext]))\n"
     ]
    },
    {
     "data": {
      "image/png": "[encoded data removed]",
      "text/plain": [
       "<matplotlib.figure.Figure at 0x10d424fd0>"
      ]
     },
     "metadata": {},
     "output_type": "display_data"
    }
   ],
   "source": [
    "font = {'family' : 'normal',\n",
    "        'weight' : 'bold',\n",
    "        'size'   : 16}\n",
    "\n",
    "plt.rc('font', **font)\n",
    "plt.rcParams['figure.figsize'] = 12.94, 8\n",
    "\n",
    "#plt.figure(figsize=(12, 8))\n",
    "plt.title(\"Score\")\n",
    "plt.barh(indices, score, .2, label=\"score\", color='#982023')\n",
    "plt.barh(indices + .3, training_time, .2, label=\"training time\", color='#46959E')\n",
    "plt.barh(indices + .6, test_time, .2, label=\"test time\", color='#C7B077')\n",
    "plt.yticks(())\n",
    "plt.legend(loc='best')\n",
    "plt.subplots_adjust(left=.25)\n",
    "plt.subplots_adjust(top=.95)\n",
    "plt.subplots_adjust(bottom=.05)\n",
    "plt.ylim(0, 17)\n",
    "print(indices)\n",
    "for i, c in zip(indices, clf_names):\n",
    "    plt.text(-0.025, i, c, horizontalalignment='right')"
   ]
  },
  {
   "cell_type": "code",
   "execution_count": 36,
   "metadata": {
    "collapsed": false
   },
   "outputs": [
    {
     "data": {
      "text/plain": [
       "['RidgeClassifier',\n",
       " 'Perceptron',\n",
       " 'PassiveAggressiveClassifier',\n",
       " 'KNeighborsClassifier',\n",
       " 'RandomForestClassifier',\n",
       " 'LinearSVC',\n",
       " 'SGDClassifier',\n",
       " 'LinearSVC',\n",
       " 'SGDClassifier',\n",
       " 'SGDClassifier',\n",
       " 'NearestCentroid',\n",
       " 'MultinomialNB',\n",
       " 'BernoulliNB',\n",
       " 'L1LinearSVC']"
      ]
     },
     "execution_count": 36,
     "metadata": {},
     "output_type": "execute_result"
    }
   ],
   "source": [
    "clf_names"
   ]
  },
  {
   "cell_type": "code",
   "execution_count": 37,
   "metadata": {
    "collapsed": true
   },
   "outputs": [],
   "source": [
    "clf_names[0] = 'Ridge'\n",
    "clf_names[2] = 'PassAggress'\n",
    "clf_names[3] = 'KNN'\n",
    "clf_names[4] = 'RandomForest'\n",
    "clf_names[5] = 'LinearSVC L2'\n",
    "clf_names[6] = 'SGDC SVM L2'\n",
    "clf_names[7] = 'LinearSVC L1'\n",
    "clf_names[8] = 'SGDC L1'\n",
    "clf_names[9] = 'SGDC ElNet'\n",
    "clf_names[13] = 'LinearSVC L1FS'\n"
   ]
  },
  {
   "cell_type": "code",
   "execution_count": 38,
   "metadata": {
    "collapsed": false
   },
   "outputs": [
    {
     "name": "stdout",
     "output_type": "stream",
     "text": [
      "2000\n",
      "14\n"
     ]
    },
    {
     "data": {
      "image/png": "[encoded data removed]",
      "text/plain": [
       "<matplotlib.figure.Figure at 0x10c20b9d0>"
      ]
     },
     "metadata": {},
     "output_type": "display_data"
    }
   ],
   "source": [
    "fig, ax = plt.subplots(1, 1)\n",
    "\n",
    "training_timen = np.array(training_time) / np.max(training_time)\n",
    "test_timen = np.array(test_time) / np.max(test_time)\n",
    "\n",
    "ax.plot(indices, score, '-o', label=\"f-score\", color='#982023')\n",
    "ax.plot(indices, acc, '-o', label=\"accuracy\", color='#BA4C37')\n",
    "ax.plot(indices, training_timen, '-o', label=\"training time\", color='#46959E')\n",
    "ax.plot(indices, test_timen, '-o', label=\"test time\", color='#C7B077')\n",
    "#labels = [item.get_text() for item in ax.get_xticklabels()]\n",
    "print(len(labels))\n",
    "print(len(clf_names))\n",
    "labels = clf_names\n",
    "ax.xaxis.set_ticks(np.arange(np.min(indices), np.max(indices)+1, 1))\n",
    "ax.set_xticklabels(clf_names, rotation='70', horizontalalignment='right')\n",
    "ax.set_xlim([-1, 14])\n",
    "ax.set_ylim([0, 1])\n",
    "ax.legend(loc='best')\n",
    "plt.subplots_adjust(left=0.05, bottom=0.3, top=.98)\n",
    "#plt.savefig('classifierScoresNorm.png', dpi=144)"
   ]
  },
  {
   "cell_type": "code",
   "execution_count": 45,
   "metadata": {
    "collapsed": false
   },
   "outputs": [
    {
     "name": "stdout",
     "output_type": "stream",
     "text": [
      "14\n",
      "14\n"
     ]
    },
    {
     "data": {
      "image/png": "[encoded data removed]",
      "text/plain": [
       "<matplotlib.figure.Figure at 0x10d4d0dd0>"
      ]
     },
     "metadata": {},
     "output_type": "display_data"
    }
   ],
   "source": [
    "fig, ax = plt.subplots(1, 1)\n",
    "\n",
    "clf_names, score, accs, training_time, test_time = results\n",
    "\n",
    "ax.plot(indices, score, '-o', label=\"score\", color='#982023')\n",
    "ax.plot(indices, accs, '-o', label=\"accuracy\", color='#BA4C37')\n",
    "ax.plot(indices, training_time, '-o', label=\"training time (s)\", color='#46959E')\n",
    "ax.plot(indices, test_time, '-o', label=\"test time (s)\", color='#C7B077')\n",
    "#labels = [item.get_text() for item in ax.get_xticklabels()]\n",
    "print(len(labels))\n",
    "print(len(clf_names))\n",
    "labels = clf_names\n",
    "ax.xaxis.set_ticks(np.arange(np.min(indices), np.max(indices)+1, 1))\n",
    "ax.set_xticklabels(clf_names, rotation='70', horizontalalignment='right')\n",
    "ax.set_xlim([-1, 14])\n",
    "ax.set_ylim([0, 1])\n",
    "ax.legend(loc='best')\n",
    "plt.subplots_adjust(left=0.05, bottom=0.3, top=.98)\n",
    "#plt.savefig('classifierScores.png', dpi=144)"
   ]
  },
  {
   "cell_type": "code",
   "execution_count": 47,
   "metadata": {
    "collapsed": false
   },
   "outputs": [
    {
     "name": "stdout",
     "output_type": "stream",
     "text": [
      "Ridge: 0.902, 0.902\n",
      "Perceptron: 0.869, 0.870\n",
      "PassAggress: 0.892, 0.892\n",
      "KNN: 0.817, 0.821\n",
      "RandomForest: 0.838, 0.840\n",
      "LinearSVC L2: 0.903, 0.903\n",
      "SGDC SVM L2: 0.885, 0.885\n",
      "LinearSVC L1: 0.896, 0.896\n",
      "SGDC L1: 0.883, 0.883\n",
      "SGDC ElNet: 0.884, 0.884\n",
      "NearestCentroid: 0.906, 0.906\n",
      "MultinomialNB: 0.875, 0.875\n",
      "BernoulliNB: 0.828, 0.829\n",
      "LinearSVC L1FS: 0.898, 0.898\n"
     ]
    }
   ],
   "source": [
    "for name, scr, acc in zip(clf_names, score, accs):\n",
    "    print('{}: {:.3f}, {:.3f}'.format(name, scr, acc))"
   ]
  },
  {
   "cell_type": "markdown",
   "metadata": {},
   "source": [
    "### Conclusions\n",
    "\n",
    "All classifiers tested resulted in approximately the same score, and all had negligible training and testing time. The Linear SVC Classifier with L1 Penalization was the top-performer, so I'll go with that."
   ]
  },
  {
   "cell_type": "code",
   "execution_count": null,
   "metadata": {
    "collapsed": true
   },
   "outputs": [],
   "source": []
  }
 ],
 "metadata": {
  "kernelspec": {
   "display_name": "Python 2",
   "language": "python",
   "name": "python2"
  },
  "language_info": {
   "codemirror_mode": {
    "name": "ipython",
    "version": 2
   },
   "file_extension": ".py",
   "mimetype": "text/x-python",
   "name": "python",
   "nbconvert_exporter": "python",
   "pygments_lexer": "ipython2",
   "version": "2.7.10"
  }
 },
 "nbformat": 4,
 "nbformat_minor": 0
}
