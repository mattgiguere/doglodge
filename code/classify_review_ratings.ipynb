{
 "cells": [
  {
   "cell_type": "markdown",
   "metadata": {},
   "source": [
    "# classify_review_ratings"
   ]
  },
  {
   "cell_type": "code",
   "execution_count": 1,
   "metadata": {
    "collapsed": true
   },
   "outputs": [],
   "source": [
    "import numpy as np\n",
    "from time import time\n",
    "import matplotlib.pyplot as plt\n",
    "\n",
    "from sklearn.feature_extraction.text import TfidfVectorizer\n",
    "from sklearn.neighbors import NearestCentroid\n",
    "from sklearn.utils.extmath import density\n",
    "from sklearn import metrics\n",
    "from scipy.stats import pearsonr\n",
    "import pandas as pd\n",
    "import connect_aws_db as cadb\n"
   ]
  },
  {
   "cell_type": "code",
   "execution_count": 2,
   "metadata": {
    "collapsed": true
   },
   "outputs": [],
   "source": [
    "%matplotlib inline"
   ]
  },
  {
   "cell_type": "code",
   "execution_count": 53,
   "metadata": {
    "collapsed": true
   },
   "outputs": [],
   "source": [
    "engine = cadb.connect_aws_db(write_unicode=True)"
   ]
  },
  {
   "cell_type": "markdown",
   "metadata": {},
   "source": [
    "### Restore BF Reviews and Ratings to Train Model"
   ]
  },
  {
   "cell_type": "code",
   "execution_count": 4,
   "metadata": {
    "collapsed": true
   },
   "outputs": [],
   "source": [
    "cmd = \"SELECT review_rating, review_text FROM bf_reviews\""
   ]
  },
  {
   "cell_type": "code",
   "execution_count": 5,
   "metadata": {
    "collapsed": true
   },
   "outputs": [],
   "source": [
    "bfdf = pd.read_sql_query(cmd, engine)"
   ]
  },
  {
   "cell_type": "code",
   "execution_count": 6,
   "metadata": {
    "collapsed": false
   },
   "outputs": [
    {
     "name": "stdout",
     "output_type": "stream",
     "text": [
      "3150\n"
     ]
    },
    {
     "data": {
      "text/html": [
       "<div>\n",
       "<table border=\"1\" class=\"dataframe\">\n",
       "  <thead>\n",
       "    <tr style=\"text-align: right;\">\n",
       "      <th></th>\n",
       "      <th>review_rating</th>\n",
       "      <th>review_text</th>\n",
       "    </tr>\n",
       "  </thead>\n",
       "  <tbody>\n",
       "    <tr>\n",
       "      <th>0</th>\n",
       "      <td>2</td>\n",
       "      <td>When you first go to your room you notice the ...</td>\n",
       "    </tr>\n",
       "    <tr>\n",
       "      <th>1</th>\n",
       "      <td>2</td>\n",
       "      <td>We were going to the Pre-Westminster event tha...</td>\n",
       "    </tr>\n",
       "    <tr>\n",
       "      <th>2</th>\n",
       "      <td>2</td>\n",
       "      <td>While the room was not the fanciest that one c...</td>\n",
       "    </tr>\n",
       "    <tr>\n",
       "      <th>3</th>\n",
       "      <td>1</td>\n",
       "      <td>I stayed at the Hotel Penn in Manhattan becaus...</td>\n",
       "    </tr>\n",
       "    <tr>\n",
       "      <th>4</th>\n",
       "      <td>5</td>\n",
       "      <td>We loved this hotel! The are very friendly and...</td>\n",
       "    </tr>\n",
       "  </tbody>\n",
       "</table>\n",
       "</div>"
      ],
      "text/plain": [
       "   review_rating                                        review_text\n",
       "0              2  When you first go to your room you notice the ...\n",
       "1              2  We were going to the Pre-Westminster event tha...\n",
       "2              2  While the room was not the fanciest that one c...\n",
       "3              1  I stayed at the Hotel Penn in Manhattan becaus...\n",
       "4              5  We loved this hotel! The are very friendly and..."
      ]
     },
     "execution_count": 6,
     "metadata": {},
     "output_type": "execute_result"
    }
   ],
   "source": [
    "print(len(bfdf))\n",
    "bfdf.head(5)"
   ]
  },
  {
   "cell_type": "code",
   "execution_count": 7,
   "metadata": {
    "collapsed": true
   },
   "outputs": [],
   "source": [
    "bfdfl = bfdf[bfdf['review_text'].str.len() > 300].copy()"
   ]
  },
  {
   "cell_type": "code",
   "execution_count": 8,
   "metadata": {
    "collapsed": false
   },
   "outputs": [
    {
     "data": {
      "text/plain": [
       "1508"
      ]
     },
     "execution_count": 8,
     "metadata": {},
     "output_type": "execute_result"
    }
   ],
   "source": [
    "len(bfdfl)"
   ]
  },
  {
   "cell_type": "markdown",
   "metadata": {},
   "source": [
    "### Create Training Data"
   ]
  },
  {
   "cell_type": "code",
   "execution_count": 9,
   "metadata": {
    "collapsed": true
   },
   "outputs": [],
   "source": [
    "train_data = bfdfl['review_text'].values"
   ]
  },
  {
   "cell_type": "code",
   "execution_count": 10,
   "metadata": {
    "collapsed": true
   },
   "outputs": [],
   "source": [
    "y_train = bfdfl['review_rating'].values"
   ]
  },
  {
   "cell_type": "code",
   "execution_count": 11,
   "metadata": {
    "collapsed": false
   },
   "outputs": [
    {
     "name": "stdout",
     "output_type": "stream",
     "text": [
      "vectorized in 0.18 seconds.\n",
      "(1508, 7458)\n"
     ]
    }
   ],
   "source": [
    "t0 = time()\n",
    "vectorizer = TfidfVectorizer(sublinear_tf=True, max_df=0.5,\n",
    "                             stop_words='english')\n",
    "X_train = vectorizer.fit_transform(train_data)\n",
    "duration = time() - t0\n",
    "print('vectorized in {:.2f} seconds.'.format(duration))\n",
    "print(X_train.shape)"
   ]
  },
  {
   "cell_type": "markdown",
   "metadata": {},
   "source": [
    "### Restore the Yelp Data to Classify"
   ]
  },
  {
   "cell_type": "code",
   "execution_count": 17,
   "metadata": {
    "collapsed": true
   },
   "outputs": [],
   "source": [
    "cmd = \"SELECT * FROM yelp_reviews WHERE review_category = 'dog'\""
   ]
  },
  {
   "cell_type": "code",
   "execution_count": 18,
   "metadata": {
    "collapsed": true
   },
   "outputs": [],
   "source": [
    "yelpdf = pd.read_sql_query(cmd, engine)"
   ]
  },
  {
   "cell_type": "code",
   "execution_count": 19,
   "metadata": {
    "collapsed": false
   },
   "outputs": [
    {
     "name": "stdout",
     "output_type": "stream",
     "text": [
      "483\n"
     ]
    },
    {
     "data": {
      "text/html": [
       "<div style=\"max-height:1000px;max-width:1500px;overflow:auto;\">\n",
       "<table border=\"1\" class=\"dataframe\">\n",
       "  <thead>\n",
       "    <tr style=\"text-align: right;\">\n",
       "      <th></th>\n",
       "      <th>rev_id</th>\n",
       "      <th>business_id</th>\n",
       "      <th>yelp_review_date</th>\n",
       "      <th>yelp_review_id</th>\n",
       "      <th>review_rating</th>\n",
       "      <th>review_text</th>\n",
       "      <th>user_id</th>\n",
       "      <th>review_category</th>\n",
       "    </tr>\n",
       "  </thead>\n",
       "  <tbody>\n",
       "    <tr>\n",
       "      <th>0</th>\n",
       "      <td>110</td>\n",
       "      <td>4dwdYuD4vEBByfVQ--vlVw</td>\n",
       "      <td>2013-01-08</td>\n",
       "      <td>tgDfMZ2dhTYl_RScNiIogw</td>\n",
       "      <td>5</td>\n",
       "      <td>Stay here often for work - hotel is pet friend...</td>\n",
       "      <td>QswzyHSZ0hz_ZblfwugQ6g</td>\n",
       "      <td>dog</td>\n",
       "    </tr>\n",
       "    <tr>\n",
       "      <th>1</th>\n",
       "      <td>165</td>\n",
       "      <td>FQudBiBiz9bGQLF_kK8UCg</td>\n",
       "      <td>2013-05-29</td>\n",
       "      <td>F7l3La3FH0VZDgKwV3lz0A</td>\n",
       "      <td>1</td>\n",
       "      <td>Nice Staff but that's about all. Would never s...</td>\n",
       "      <td>W6t6UlWYGAx2jrYb-dxo8A</td>\n",
       "      <td>dog</td>\n",
       "    </tr>\n",
       "    <tr>\n",
       "      <th>2</th>\n",
       "      <td>231</td>\n",
       "      <td>6Ckmrpp6OW1pJ-3Pjg7VaQ</td>\n",
       "      <td>2013-10-17</td>\n",
       "      <td>a7jzORIdqTO9kmKYhHVebQ</td>\n",
       "      <td>2</td>\n",
       "      <td>So we had to switch rooms 2 times before we ha...</td>\n",
       "      <td>ZPFLi-ucmuaHlR4oow7XYg</td>\n",
       "      <td>dog</td>\n",
       "    </tr>\n",
       "    <tr>\n",
       "      <th>3</th>\n",
       "      <td>237</td>\n",
       "      <td>6Ckmrpp6OW1pJ-3Pjg7VaQ</td>\n",
       "      <td>2014-09-10</td>\n",
       "      <td>WBUxaxAyDOVYxZZfKg0QnQ</td>\n",
       "      <td>3</td>\n",
       "      <td>You get what you pay for. Overall a clean hote...</td>\n",
       "      <td>0rwDvNyDvin8C8eZxmZ1Wg</td>\n",
       "      <td>dog</td>\n",
       "    </tr>\n",
       "    <tr>\n",
       "      <th>4</th>\n",
       "      <td>654</td>\n",
       "      <td>eAuZtSnA6cgwR7Um7eA2rg</td>\n",
       "      <td>2013-04-16</td>\n",
       "      <td>PXQFXHdHLQNP-2gWCfAYzw</td>\n",
       "      <td>5</td>\n",
       "      <td>When I first contacted the Windmill Inn, the r...</td>\n",
       "      <td>2I1tE5FLIHC-jhyPwMIHig</td>\n",
       "      <td>dog</td>\n",
       "    </tr>\n",
       "  </tbody>\n",
       "</table>\n",
       "</div>"
      ],
      "text/plain": [
       "   rev_id             business_id yelp_review_date          yelp_review_id  \\\n",
       "0     110  4dwdYuD4vEBByfVQ--vlVw       2013-01-08  tgDfMZ2dhTYl_RScNiIogw   \n",
       "1     165  FQudBiBiz9bGQLF_kK8UCg       2013-05-29  F7l3La3FH0VZDgKwV3lz0A   \n",
       "2     231  6Ckmrpp6OW1pJ-3Pjg7VaQ       2013-10-17  a7jzORIdqTO9kmKYhHVebQ   \n",
       "3     237  6Ckmrpp6OW1pJ-3Pjg7VaQ       2014-09-10  WBUxaxAyDOVYxZZfKg0QnQ   \n",
       "4     654  eAuZtSnA6cgwR7Um7eA2rg       2013-04-16  PXQFXHdHLQNP-2gWCfAYzw   \n",
       "\n",
       "   review_rating                                        review_text  \\\n",
       "0              5  Stay here often for work - hotel is pet friend...   \n",
       "1              1  Nice Staff but that's about all. Would never s...   \n",
       "2              2  So we had to switch rooms 2 times before we ha...   \n",
       "3              3  You get what you pay for. Overall a clean hote...   \n",
       "4              5  When I first contacted the Windmill Inn, the r...   \n",
       "\n",
       "                  user_id review_category  \n",
       "0  QswzyHSZ0hz_ZblfwugQ6g             dog  \n",
       "1  W6t6UlWYGAx2jrYb-dxo8A             dog  \n",
       "2  ZPFLi-ucmuaHlR4oow7XYg             dog  \n",
       "3  0rwDvNyDvin8C8eZxmZ1Wg             dog  \n",
       "4  2I1tE5FLIHC-jhyPwMIHig             dog  "
      ]
     },
     "execution_count": 19,
     "metadata": {},
     "output_type": "execute_result"
    }
   ],
   "source": [
    "print(len(yelpdf))\n",
    "yelpdf.head(5)"
   ]
  },
  {
   "cell_type": "code",
   "execution_count": 21,
   "metadata": {
    "collapsed": true
   },
   "outputs": [],
   "source": [
    "yelp_review_text = yelpdf['review_text'].values"
   ]
  },
  {
   "cell_type": "code",
   "execution_count": 29,
   "metadata": {
    "collapsed": false
   },
   "outputs": [
    {
     "data": {
      "text/plain": [
       "483"
      ]
     },
     "execution_count": 29,
     "metadata": {},
     "output_type": "execute_result"
    }
   ],
   "source": [
    "len(yelpdf)"
   ]
  },
  {
   "cell_type": "code",
   "execution_count": 31,
   "metadata": {
    "collapsed": false
   },
   "outputs": [
    {
     "data": {
      "text/plain": [
       "74"
      ]
     },
     "execution_count": 31,
     "metadata": {},
     "output_type": "execute_result"
    }
   ],
   "source": [
    "len(np.unique(yelpdf['business_id']))"
   ]
  },
  {
   "cell_type": "markdown",
   "metadata": {},
   "source": [
    "### Create Data Set to Predict"
   ]
  },
  {
   "cell_type": "code",
   "execution_count": 22,
   "metadata": {
    "collapsed": false
   },
   "outputs": [
    {
     "name": "stdout",
     "output_type": "stream",
     "text": [
      "transformed test data in 0.04 seconds.\n"
     ]
    }
   ],
   "source": [
    "t0 = time()\n",
    "X_pred = vectorizer.transform(yelp_review_text)\n",
    "duration = time() - t0\n",
    "print('transformed test data in {:.2f} seconds.'.format(duration))"
   ]
  },
  {
   "cell_type": "markdown",
   "metadata": {},
   "source": [
    "### Create and Train Model"
   ]
  },
  {
   "cell_type": "code",
   "execution_count": 21,
   "metadata": {
    "collapsed": false
   },
   "outputs": [
    {
     "name": "stdout",
     "output_type": "stream",
     "text": [
      "NearestCentroid(metric='euclidean', shrink_threshold=None)\n"
     ]
    }
   ],
   "source": [
    "clf = NearestCentroid()\n",
    "print(clf)"
   ]
  },
  {
   "cell_type": "code",
   "execution_count": 22,
   "metadata": {
    "collapsed": false
   },
   "outputs": [
    {
     "data": {
      "text/plain": [
       "NearestCentroid(metric='euclidean', shrink_threshold=None)"
      ]
     },
     "execution_count": 22,
     "metadata": {},
     "output_type": "execute_result"
    }
   ],
   "source": [
    "clf.fit(X_train, y_train)"
   ]
  },
  {
   "cell_type": "markdown",
   "metadata": {},
   "source": [
    "### Predict Yelp Reviews"
   ]
  },
  {
   "cell_type": "code",
   "execution_count": 25,
   "metadata": {
    "collapsed": true
   },
   "outputs": [],
   "source": [
    "y_pred = clf.predict(X_pred)"
   ]
  },
  {
   "cell_type": "code",
   "execution_count": 26,
   "metadata": {
    "collapsed": false
   },
   "outputs": [
    {
     "data": {
      "text/plain": [
       "(483,)"
      ]
     },
     "execution_count": 26,
     "metadata": {},
     "output_type": "execute_result"
    }
   ],
   "source": [
    "y_pred.shape"
   ]
  },
  {
   "cell_type": "code",
   "execution_count": 27,
   "metadata": {
    "collapsed": false
   },
   "outputs": [
    {
     "data": {
      "text/plain": [
       "array([5, 4, 5, 4, 5, 4, 2, 4, 5, 5])"
      ]
     },
     "execution_count": 27,
     "metadata": {},
     "output_type": "execute_result"
    }
   ],
   "source": [
    "y_pred[:10]"
   ]
  },
  {
   "cell_type": "code",
   "execution_count": 28,
   "metadata": {
    "collapsed": true
   },
   "outputs": [],
   "source": [
    "yelpdf['dog_review'] = y_pred"
   ]
  },
  {
   "cell_type": "markdown",
   "metadata": {
    "collapsed": true
   },
   "source": [
    "### Restore the TA data to classify"
   ]
  },
  {
   "cell_type": "code",
   "execution_count": 15,
   "metadata": {
    "collapsed": true
   },
   "outputs": [],
   "source": [
    "cmd = \"SELECT * FROM ta_reviews WHERE review_category = 'dog'\""
   ]
  },
  {
   "cell_type": "code",
   "execution_count": 16,
   "metadata": {
    "collapsed": false,
    "scrolled": true
   },
   "outputs": [],
   "source": [
    "tadf = pd.read_sql_query(cmd, engine)"
   ]
  },
  {
   "cell_type": "code",
   "execution_count": 17,
   "metadata": {
    "collapsed": false
   },
   "outputs": [
    {
     "data": {
      "text/plain": [
       "224449"
      ]
     },
     "execution_count": 17,
     "metadata": {},
     "output_type": "execute_result"
    }
   ],
   "source": [
    "len(tadf)"
   ]
  },
  {
   "cell_type": "markdown",
   "metadata": {},
   "source": [
    "### Classify dog rating for TA reviews"
   ]
  },
  {
   "cell_type": "code",
   "execution_count": 18,
   "metadata": {
    "collapsed": true
   },
   "outputs": [],
   "source": [
    "ta_review_text = tadf['review_text'].values"
   ]
  },
  {
   "cell_type": "code",
   "execution_count": 19,
   "metadata": {
    "collapsed": false
   },
   "outputs": [
    {
     "name": "stdout",
     "output_type": "stream",
     "text": [
      "transformed test data in 12.18 seconds.\n"
     ]
    }
   ],
   "source": [
    "t0 = time()\n",
    "X_pred = vectorizer.transform(ta_review_text)\n",
    "duration = time() - t0\n",
    "print('transformed test data in {:.2f} seconds.'.format(duration))"
   ]
  },
  {
   "cell_type": "code",
   "execution_count": 23,
   "metadata": {
    "collapsed": false
   },
   "outputs": [
    {
     "data": {
      "text/plain": [
       "(224449, 7458)"
      ]
     },
     "execution_count": 23,
     "metadata": {},
     "output_type": "execute_result"
    }
   ],
   "source": [
    "X_pred.shape"
   ]
  },
  {
   "cell_type": "code",
   "execution_count": 24,
   "metadata": {
    "collapsed": true
   },
   "outputs": [],
   "source": [
    "y_pred = clf.predict(X_pred)"
   ]
  },
  {
   "cell_type": "code",
   "execution_count": 25,
   "metadata": {
    "collapsed": false
   },
   "outputs": [
    {
     "data": {
      "text/plain": [
       "224449"
      ]
     },
     "execution_count": 25,
     "metadata": {},
     "output_type": "execute_result"
    }
   ],
   "source": [
    "len(y_pred)"
   ]
  },
  {
   "cell_type": "code",
   "execution_count": 33,
   "metadata": {
    "collapsed": false
   },
   "outputs": [
    {
     "data": {
      "text/plain": [
       "array([155650, 105844, 149715, 112417,   4043])"
      ]
     },
     "execution_count": 33,
     "metadata": {},
     "output_type": "execute_result"
    }
   ],
   "source": [
    "np.int64(np.random.uniform(low=0, high=len(y_pred), size=5))"
   ]
  },
  {
   "cell_type": "code",
   "execution_count": 39,
   "metadata": {
    "collapsed": false
   },
   "outputs": [
    {
     "data": {
      "text/plain": [
       "array([5, 5, 5, 5, 5, 3, 1, 5, 4, 1])"
      ]
     },
     "execution_count": 39,
     "metadata": {},
     "output_type": "execute_result"
    }
   ],
   "source": [
    "y_pred[np.int64(np.random.uniform(low=0, high=len(y_pred), size=10))]"
   ]
  },
  {
   "cell_type": "code",
   "execution_count": 40,
   "metadata": {
    "collapsed": false
   },
   "outputs": [
    {
     "data": {
      "image/png": "[encoded data removed]",
      "text/plain": [
       "<matplotlib.figure.Figure at 0x10bd30690>"
      ]
     },
     "metadata": {},
     "output_type": "display_data"
    }
   ],
   "source": [
    "x = plt.hist(y_pred)"
   ]
  },
  {
   "cell_type": "code",
   "execution_count": 41,
   "metadata": {
    "collapsed": false
   },
   "outputs": [
    {
     "data": {
      "text/plain": [
       "Index([u'review_id', u'hotel_id', u'business_id', u'biz_review_id',\n",
       "       u'biz_member_id', u'username', u'review_title', u'review_rating',\n",
       "       u'review_text', u'review_date', u'review_category'],\n",
       "      dtype='object')"
      ]
     },
     "execution_count": 41,
     "metadata": {},
     "output_type": "execute_result"
    }
   ],
   "source": [
    "tadf.columns"
   ]
  },
  {
   "cell_type": "code",
   "execution_count": 42,
   "metadata": {
    "collapsed": true
   },
   "outputs": [],
   "source": [
    "tadf['dog_rating'] = y_pred"
   ]
  },
  {
   "cell_type": "code",
   "execution_count": 43,
   "metadata": {
    "collapsed": false
   },
   "outputs": [
    {
     "name": "stdout",
     "output_type": "stream",
     "text": [
      "224449\n"
     ]
    }
   ],
   "source": [
    "print(len(tadf))"
   ]
  },
  {
   "cell_type": "code",
   "execution_count": 55,
   "metadata": {
    "collapsed": false
   },
   "outputs": [
    {
     "name": "stdout",
     "output_type": "stream",
     "text": [
      "224449\n",
      "26292\n",
      "11617\n",
      "26902\n",
      "73051\n",
      "86587\n"
     ]
    }
   ],
   "source": [
    "rat_1 = len(tadf[tadf['dog_rating'] == 1])\n",
    "rat_2 = len(tadf[tadf['dog_rating'] == 2])\n",
    "rat_3 = len(tadf[tadf['dog_rating'] == 3])\n",
    "rat_4 = len(tadf[tadf['dog_rating'] == 4])\n",
    "rat_5 = len(tadf[tadf['dog_rating'] == 5])\n",
    "print(rat_1+rat_2+rat_3+rat_4+rat_5)\n",
    "print(rat_1)\n",
    "print(rat_2)\n",
    "print(rat_3)\n",
    "print(rat_4)\n",
    "print(rat_5)"
   ]
  },
  {
   "cell_type": "code",
   "execution_count": null,
   "metadata": {
    "collapsed": true
   },
   "outputs": [],
   "source": [
    "tadf[tadf['dog_rating'] == 1]['business_id']"
   ]
  },
  {
   "cell_type": "code",
   "execution_count": 51,
   "metadata": {
    "collapsed": true
   },
   "outputs": [],
   "source": [
    "def update_table_rev_cat(df, engine, rating):\n",
    "    brids = df[df['review_category'] == 'dog']['biz_review_id'].values\n",
    "    sbrids = [str(brid) for brid in brids]\n",
    "    cmd = 'UPDATE ta_reviews SET dog_rating = '+str(rating)+' '\n",
    "    cmd += 'WHERE biz_review_id in ('+(',').join(sbrids)+')'\n",
    "\n",
    "    conn = engine.connect()\n",
    "    conn.execute(cmd)"
   ]
  },
  {
   "cell_type": "code",
   "execution_count": 54,
   "metadata": {
    "collapsed": false,
    "scrolled": true
   },
   "outputs": [
    {
     "name": "stdout",
     "output_type": "stream",
     "text": [
      "1\n",
      "2\n",
      "3\n",
      "4\n",
      "5\n"
     ]
    }
   ],
   "source": [
    "for i in range(1, 6):\n",
    "    print(i)\n",
    "    catdf = tadf[tadf['dog_rating'] == i]\n",
    "    update_table_rev_cat(catdf, engine, i)"
   ]
  },
  {
   "cell_type": "code",
   "execution_count": null,
   "metadata": {
    "collapsed": true
   },
   "outputs": [],
   "source": []
  }
 ],
 "metadata": {
  "kernelspec": {
   "display_name": "Python 2",
   "language": "python",
   "name": "python2"
  },
  "language_info": {
   "codemirror_mode": {
    "name": "ipython",
    "version": 2
   },
   "file_extension": ".py",
   "mimetype": "text/x-python",
   "name": "python",
   "nbconvert_exporter": "python",
   "pygments_lexer": "ipython2",
   "version": "2.7.10"
  }
 },
 "nbformat": 4,
 "nbformat_minor": 0
}
