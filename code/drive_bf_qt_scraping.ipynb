{
 "cells": [
  {
   "cell_type": "markdown",
   "metadata": {},
   "source": [
    "# drive_bf_qt_scraping\n",
    "\n",
    "A notebook to describing the code used to drive the scraping."
   ]
  },
  {
   "cell_type": "code",
   "execution_count": 1,
   "metadata": {
    "collapsed": true
   },
   "outputs": [],
   "source": [
    "import sys  \n",
    "from PyQt4.QtGui import *  \n",
    "from PyQt4.QtCore import *  \n",
    "from PyQt4.QtWebKit import *  \n",
    "from lxml import html "
   ]
  },
  {
   "cell_type": "code",
   "execution_count": 2,
   "metadata": {
    "collapsed": true
   },
   "outputs": [],
   "source": [
    "class Render(QWebPage):  \n",
    "    def __init__(self, url):  \n",
    "        self.app = QApplication(sys.argv)  \n",
    "        QWebPage.__init__(self)  \n",
    "        self.loadFinished.connect(self._loadFinished)  \n",
    "        self.mainFrame().load(QUrl(url))  \n",
    "        self.app.exec_()  \n",
    "\n",
    "    def _loadFinished(self, result):  \n",
    "        self.frame = self.mainFrame()  \n",
    "        self.app.quit() \n",
    "    \n",
    "    def update_url(self, url):\n",
    "        self.mainFrame().load(QUrl(url))  \n",
    "        self.app.exec_()  \n",
    "        "
   ]
  },
  {
   "cell_type": "markdown",
   "metadata": {},
   "source": [
    "## First get the hotel data links and text summaries"
   ]
  },
  {
   "cell_type": "code",
   "execution_count": 3,
   "metadata": {
    "collapsed": true
   },
   "outputs": [],
   "source": [
    "url = 'http://www.bringfido.com/lodging/city/new_haven_ct_us'  \n",
    "#This does the magic.Loads everything\n",
    "r = Render(url)  \n",
    "#result is a QString.\n",
    "result = r.frame.toHtml()"
   ]
  },
  {
   "cell_type": "code",
   "execution_count": 4,
   "metadata": {
    "collapsed": true
   },
   "outputs": [],
   "source": [
    "#QString should be converted to string before processed by lxml\n",
    "formatted_result = str(result.toAscii())"
   ]
  },
  {
   "cell_type": "code",
   "execution_count": 5,
   "metadata": {
    "collapsed": true
   },
   "outputs": [],
   "source": [
    "#Next build lxml tree from formatted_result\n",
    "tree = html.fromstring(formatted_result)"
   ]
  },
  {
   "cell_type": "code",
   "execution_count": 6,
   "metadata": {
    "collapsed": true
   },
   "outputs": [],
   "source": [
    "#Now using correct Xpath we are fetching URL of archives\n",
    "archive_links = tree.xpath('//*[@id=\"results_list\"]/div')\n",
    "\n",
    "hotel_names = []\n",
    "text_summaries = []\n",
    "links = []\n",
    "\n",
    "for lnk in archive_links:\n",
    "    hotel_names.append(lnk.xpath('div[2]/h1/a/text()')[0])\n",
    "    text_summaries.append(lnk.text_content())\n",
    "    links.append(lnk.xpath('div/h1/a/@href')[0])\n",
    "    # print(lnk.text_content())\n",
    "    # print('*'*25)\n"
   ]
  },
  {
   "cell_type": "code",
   "execution_count": 7,
   "metadata": {
    "collapsed": false
   },
   "outputs": [
    {
     "data": {
      "text/plain": [
       "['/lodging/70449/?cid=14745&ar=&dt=&rm=1&ad=1&ch=0&dg=1&rt=75.01',\n",
       " '/lodging/70451/?cid=14745&ar=&dt=&rm=1&ad=1&ch=0&dg=1&rt=219',\n",
       " '/lodging/70452/?cid=14745&ar=&dt=&rm=1&ad=1&ch=0&dg=1&rt=109.65',\n",
       " '/lodging/70447/?cid=14745&ar=&dt=&rm=1&ad=1&ch=0&dg=1&rt=55.95',\n",
       " '/lodging/106805/?cid=14745&ar=&dt=&rm=1&ad=1&ch=0&dg=1&rt=189']"
      ]
     },
     "execution_count": 7,
     "metadata": {},
     "output_type": "execute_result"
    }
   ],
   "source": [
    "links"
   ]
  },
  {
   "cell_type": "markdown",
   "metadata": {},
   "source": [
    "## Now cycle through each hotel, and scrape the reviews, ratings, etc."
   ]
  },
  {
   "cell_type": "code",
   "execution_count": 8,
   "metadata": {
    "collapsed": false
   },
   "outputs": [
    {
     "name": "stdout",
     "output_type": "stream",
     "text": [
      "**************************************************\n",
      "Now on /lodging/70449/?cid=14745&ar=&dt=&rm=1&ad=1&ch=0&dg=1&rt=75.01\n",
      "**************************************************\n",
      "[<Element div at 0x109e69f70>, <Element div at 0x109e69fc8>]\n",
      "\n",
      "5\n",
      "3\n",
      "**************************************************\n",
      "Now on /lodging/70451/?cid=14745&ar=&dt=&rm=1&ad=1&ch=0&dg=1&rt=219\n",
      "**************************************************\n",
      "[]\n",
      "\n",
      "**************************************************\n",
      "Now on /lodging/70452/?cid=14745&ar=&dt=&rm=1&ad=1&ch=0&dg=1&rt=109.65\n",
      "**************************************************\n",
      "[<Element div at 0x109e3cf70>, <Element div at 0x10b104418>, <Element div at 0x10b104470>, <Element div at 0x10b1044c8>, <Element div at 0x10b104520>, <Element div at 0x10b104578>]\n",
      "\n",
      "5\n",
      "5\n",
      "5\n",
      "4\n",
      "4\n",
      "2\n",
      "**************************************************\n",
      "Now on /lodging/70447/?cid=14745&ar=&dt=&rm=1&ad=1&ch=0&dg=1&rt=55.95\n",
      "**************************************************\n",
      "[<Element div at 0x10b1043c0>, <Element div at 0x109e690a8>, <Element div at 0x109e69100>]\n",
      "\n",
      "1\n",
      "1\n",
      "1\n",
      "**************************************************\n",
      "Now on /lodging/106805/?cid=14745&ar=&dt=&rm=1&ad=1&ch=0&dg=1&rt=189\n",
      "**************************************************\n",
      "[]\n",
      "\n"
     ]
    }
   ],
   "source": [
    "url_base = 'http://www.bringfido.com'  \n",
    "\n",
    "outer_texts = []\n",
    "outer_titles = []\n",
    "outer_authors = []\n",
    "outer_ratings = []\n",
    "outer_addresses = []\n",
    "outer_csczip = []\n",
    "outer_phones = []\n",
    "\n",
    "for link in links:\n",
    "    print('*'*50)\n",
    "    print('Now on {}'.format(link))\n",
    "    print('*'*50)\n",
    "    r.update_url(url_base+link)  \n",
    "    result = r.frame.toHtml()\n",
    "\n",
    "    #QString should be converted to string before processed by lxml\n",
    "    formatted_result = str(result.toAscii())\n",
    "\n",
    "    tree = html.fromstring(formatted_result) \n",
    "\n",
    "    hotel_description = tree.xpath('//*[@class=\"body\"]/text()')\n",
    "\n",
    "    # scrape the address details section of the page\n",
    "    details = tree.xpath('//*[@class=\"address\"]/text()')\n",
    "\n",
    "    # now get just the address:\n",
    "    address = details[0]\n",
    "    \n",
    "    # and just the city, state, country, and zip code:\n",
    "    csczip = details[1]\n",
    "    \n",
    "    # and just the phone number\n",
    "    phone = details[2]\n",
    "\n",
    "    outer_addresses.append(address)\n",
    "    outer_csczip.append(csczip)\n",
    "    outer_phones.append(phone)\n",
    "    \n",
    "    #Now using correct Xpath we are fetching URL of archives\n",
    "    reviews = tree.xpath('//*[@class=\"review_container\"]')\n",
    "\n",
    "    texts = []\n",
    "    titles = []\n",
    "    authors = []\n",
    "    ratings = []\n",
    "\n",
    "    print(reviews)\n",
    "    print('')\n",
    "    for rev in reviews:\n",
    "        titles.append(rev.xpath('div/div[1]/text()')[0])\n",
    "        authors.append(rev.xpath('div/div[2]/text()')[0])\n",
    "        texts.append(rev.xpath('div/div[3]/text()')[0])\n",
    "        ratings.append(rev.xpath('div[2]/img/@src')[0].split('/')[-1][0:1])\n",
    "        print(rev.xpath('div[2]/img/@src')[0].split('/')[-1][0:1])\n",
    "    outer_texts.append(texts)\n",
    "    outer_titles.append(titles)\n",
    "    outer_authors.append(authors)\n",
    "    outer_ratings.append(ratings)\n"
   ]
  },
  {
   "cell_type": "code",
   "execution_count": 9,
   "metadata": {
    "collapsed": false
   },
   "outputs": [
    {
     "name": "stdout",
     "output_type": "stream",
     "text": [
      "**************************************************\n",
      "La Quinta Inn & Suites New Haven\n",
      "\n",
      "400 Sargent Dr\n",
      "\n",
      "New Haven, CT, US 06511-5907\n",
      "\n",
      "877-411-3436\n",
      "Number of reviews: 2\n",
      "['My 75lb dog and I received a lovely welcome from two young gentlemen working at the desk the evening of 8/1/14. Check-in was very easy and even though this hotel is close to the highway and Ikea, there is a big patch of grass/bushes out front for dogs to relieve themselves --I didn\\'t see bags so bring your own. Yes, I agree with review that it is an older place but my room with one queen bed was plenty clean and comfortable. When I travel with my dog, the less fancy the better. :). Also, it made it nice that there was a dog friendly restaurant less than 10 minute drive away...see review for \"Basta\". I definitely feel good about spending just over $100 at this hotel which was just a stop along the way in my travels. Recommend to other dog owners. (P.s. This site says small pets only but that is not up to date. The policy attached on this site shows that they take any size). ', 'I stayed at this La Quinta and felt that it was getting up there in age and a little run down. It was decently clean, although not fully clean. The staff were fairly helpful.']\n",
      "**************************************************\n",
      "Omni New Haven Hotel at Yale\n",
      "\n",
      "155 Temple St\n",
      "\n",
      "New Haven, CT, US 06510-2622\n",
      "\n",
      "877-411-3436\n",
      "Number of reviews: 0\n",
      "[]\n",
      "**************************************************\n",
      "Premiere Hotel & Suites\n",
      "\n",
      "3 Long Wharf Dr\n",
      "\n",
      "New Haven, CT, US 06511-5900\n",
      "\n",
      "877-411-3436\n",
      "Number of reviews: 6\n",
      "['Stayed there one night for conference the next day with my beloved dog. This place was spacious and clean and quiet. The staff was kind. The food was nice, the overal experience was very lovely, comforting, will definitely return again. Good job', 'My boyfriend, I and his boxer stayed at Premiere for a weekend this December and we loved our stay. The suite was beautiful with a fireplace and the king size bed was so comfy. We loved it. Our dog loved our room as well and he did not feel uncomfortable in a new place which says a lot. There is a nice grassy place to walk the dogs and just a very pet friendly hotel. Everyone welcomed us warmly but also our doggie. We would stay here again without a doubt! If you are traveling with a pet or pets and need a place to stay in New Haven, do not hesitate to stay here. ', 'This was one of those hotels that really stands out from all the rest. Traveling with our 2 Golden Retrievers you really never know what to expect with hotels you\\'ve never been to. This place was awesome!! We got to our \"suite\" and had to leave within 30 minutes to meet up with friends for dinner. We were driving from Michigan to Maine. The place was spotless, our room was large, with a great dog area and staff was very accomodating!! Definitely put this on your place to stay if you\\'re in the area. ', 'Our suite was average sized and contained a sofa, kitchenette, table and king sized bed. Upon verifying our reservation, we discovered they had not noted our request for a first floor unit. Our unit was clean, yet did show signs of wear. I agree it seems overpriced for the age of the rooms. I am willing to pay extra to give the dogs extra space to move around after a long day in the car.', 'This hotel has a great location. I rolled in ther just before midnight and the recetion was very friendly. Rooms are spacious. Buffet was nice in am. Glad to find pet friendly place that has a good price and clean.', \"I'm having trouble reconciling the other reviews with our recent experience. The accomodations were only fair. Essentially this hotel is like a gently worn Residence Inn in the middle of an industrial area. The room and staff were adequate, but the price was double what it was worth. \"]\n",
      "**************************************************\n",
      "Econo Lodge Conference Center New Haven\n",
      "\n",
      "100 Pond Lily Ave\n",
      "\n",
      "New Haven, CT, US 06525-1106\n",
      "\n",
      "877-411-3436\n",
      "Number of reviews: 3\n",
      "[\"I didn't expect the place to be ritzy for the price but I did expect it to be clean. It was very run down and dirty and had a funky smell. My fiance and I were so uncomfortable we left a day early. There were dead bugs in our bathroom! yuck. The staff were very nice but doesn't make up for how bad the place is. It is also in a bad part of town. I do not recommend staying there.\", \"My family chose to stay at the Econo Lodge from a listing of animal friendly places to stay. When we drove in at night there were teenagers hanging out around cars and various people hanging out like it was a getto neighborhood. The room was very warn and carpet/bathroom floor dirty. Continental breakfast was\\nbargain cereal and low budget bread. I have never written a revue but felt it neccessary in this case. The owners\\nwould be wise to make many changes. We definately won't stay there again.\", 'I brought my dog with me for a $10 non-refundable fee (which is reasonable). The photo on the web in no way resembles the run-down motel room I stayed in. The stains were raised (as in something was still stuck to the chairs, carpet, etc). I will say the staff was very nice and professional, but this was definitely iffy and I would not choose to stay here again.']\n",
      "**************************************************\n",
      "The Study at Yale\n",
      "\n",
      "1157 Chapel St\n",
      "\n",
      "New Haven, CT, US 06511-4806\n",
      "\n",
      "877-411-3436\n",
      "Number of reviews: 0\n",
      "[]\n"
     ]
    }
   ],
   "source": [
    "for idx, hotel_nm in enumerate(hotel_names):\n",
    "    print('*'*50)\n",
    "    print(hotel_nm)\n",
    "    print(outer_addresses[idx])\n",
    "    print(outer_csczip[idx])\n",
    "    print(outer_phones[idx])\n",
    "    print('Number of reviews: {}'.format(len(outer_texts[idx])))\n",
    "    print(outer_texts[idx])"
   ]
  },
  {
   "cell_type": "code",
   "execution_count": null,
   "metadata": {
    "collapsed": true
   },
   "outputs": [],
   "source": []
  }
 ],
 "metadata": {
  "kernelspec": {
   "display_name": "Python 2",
   "language": "python",
   "name": "python2"
  },
  "language_info": {
   "codemirror_mode": {
    "name": "ipython",
    "version": 2
   },
   "file_extension": ".py",
   "mimetype": "text/x-python",
   "name": "python",
   "nbconvert_exporter": "python",
   "pygments_lexer": "ipython2",
   "version": "2.7.10"
  }
 },
 "nbformat": 4,
 "nbformat_minor": 0
}
